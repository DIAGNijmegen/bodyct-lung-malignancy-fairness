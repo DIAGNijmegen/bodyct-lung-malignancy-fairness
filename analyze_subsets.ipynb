{
 "cells": [
  {
   "cell_type": "code",
   "execution_count": 18,
   "metadata": {},
   "outputs": [],
   "source": [
    "import pandas as pd\n",
    "import json\n",
    "from IPython.display import display, Markdown\n",
    "\n",
    "## directory where results are\n",
    "CHANSEY_ROOT = \"V:\"\n",
    "CHANSEY_DIR = f\"{CHANSEY_ROOT}/experiments/lung-malignancy-fairness-shaurya\"\n",
    "TEAMS_DIR = \"C:/Users/shaur/OneDrive - Radboudumc/Documents - Master - Shaurya Gaur/General/Malignancy-Estimation Results\"\n",
    "\n",
    "RETRAIN_SUBSETS_DIR = f\"{CHANSEY_DIR}/kiran-retrain-subsets\""
   ]
  },
  {
   "cell_type": "markdown",
   "metadata": {},
   "source": [
    "What to do in this notebook:\n",
    "\n",
    "- See racial and M:B splits for each dataset and its 10 folds.\n",
    "- See if we can enrich and plug in more black patient data."
   ]
  },
  {
   "cell_type": "code",
   "execution_count": 2,
   "metadata": {},
   "outputs": [
    {
     "name": "stdout",
     "output_type": "stream",
     "text": [
      "<class 'pandas.core.frame.DataFrame'>\n",
      "RangeIndex: 16077 entries, 0 to 16076\n",
      "Columns: 128 entries, PatientID to NoduleType\n",
      "dtypes: bool(27), float64(86), int64(11), object(4)\n",
      "memory usage: 12.8+ MB\n"
     ]
    }
   ],
   "source": [
    "kiran_full = pd.read_csv(f\"{TEAMS_DIR}/nlst/nlst_demov4_allmodels_cal.csv\")\n",
    "kiran_full.info()"
   ]
  },
  {
   "cell_type": "code",
   "execution_count": 10,
   "metadata": {},
   "outputs": [
    {
     "data": {
      "text/plain": [
       "race\n",
       "1.0    0.937773\n",
       "2.0    0.029991\n",
       "3.0    0.014216\n",
       "6.0    0.011036\n",
       "4.0    0.004240\n",
       "5.0    0.002743\n",
       "Name: proportion, dtype: float64"
      ]
     },
     "execution_count": 10,
     "metadata": {},
     "output_type": "execute_result"
    }
   ],
   "source": [
    "kiran_full['race'].value_counts(dropna=True, normalize=True)"
   ]
  },
  {
   "cell_type": "code",
   "execution_count": 12,
   "metadata": {},
   "outputs": [
    {
     "data": {
      "text/plain": [
       "race\n",
       "1.0    0.076130\n",
       "2.0    0.118503\n",
       "3.0    0.092105\n",
       "4.0    0.176471\n",
       "5.0    0.045455\n",
       "6.0    0.056497\n",
       "Name: label, dtype: float64"
      ]
     },
     "execution_count": 12,
     "metadata": {},
     "output_type": "execute_result"
    }
   ],
   "source": [
    "kiran_full.groupby('race')['label'].mean()"
   ]
  },
  {
   "cell_type": "code",
   "execution_count": 13,
   "metadata": {},
   "outputs": [
    {
     "data": {
      "application/vnd.microsoft.datawrangler.viewer.v0+json": {
       "columns": [
        {
         "name": "index",
         "rawType": "object",
         "type": "string"
        },
        {
         "name": "1.0",
         "rawType": "float64",
         "type": "float"
        },
        {
         "name": "2.0",
         "rawType": "float64",
         "type": "float"
        },
        {
         "name": "3.0",
         "rawType": "float64",
         "type": "float"
        },
        {
         "name": "6.0",
         "rawType": "float64",
         "type": "float"
        },
        {
         "name": "4.0",
         "rawType": "float64",
         "type": "float"
        },
        {
         "name": "5.0",
         "rawType": "float64",
         "type": "float"
        }
       ],
       "conversionMethod": "pd.DataFrame",
       "ref": "6237b523-54b7-41f3-a6bd-e7db83e27889",
       "rows": [
        [
         "proportion",
         "0.9377727896246415",
         "0.029991270732011473",
         "0.01421623643845866",
         "0.011036288814066592",
         "0.004239930165856092",
         "0.0027434842249657062"
        ],
        [
         "label",
         "0.07613031914893617",
         "0.11850311850311851",
         "0.09210526315789473",
         "0.05649717514124294",
         "0.17647058823529413",
         "0.045454545454545456"
        ]
       ],
       "shape": {
        "columns": 6,
        "rows": 2
       }
      },
      "text/html": [
       "<div>\n",
       "<style scoped>\n",
       "    .dataframe tbody tr th:only-of-type {\n",
       "        vertical-align: middle;\n",
       "    }\n",
       "\n",
       "    .dataframe tbody tr th {\n",
       "        vertical-align: top;\n",
       "    }\n",
       "\n",
       "    .dataframe thead th {\n",
       "        text-align: right;\n",
       "    }\n",
       "</style>\n",
       "<table border=\"1\" class=\"dataframe\">\n",
       "  <thead>\n",
       "    <tr style=\"text-align: right;\">\n",
       "      <th>race</th>\n",
       "      <th>1.0</th>\n",
       "      <th>2.0</th>\n",
       "      <th>3.0</th>\n",
       "      <th>6.0</th>\n",
       "      <th>4.0</th>\n",
       "      <th>5.0</th>\n",
       "    </tr>\n",
       "  </thead>\n",
       "  <tbody>\n",
       "    <tr>\n",
       "      <th>proportion</th>\n",
       "      <td>0.937773</td>\n",
       "      <td>0.029991</td>\n",
       "      <td>0.014216</td>\n",
       "      <td>0.011036</td>\n",
       "      <td>0.004240</td>\n",
       "      <td>0.002743</td>\n",
       "    </tr>\n",
       "    <tr>\n",
       "      <th>label</th>\n",
       "      <td>0.076130</td>\n",
       "      <td>0.118503</td>\n",
       "      <td>0.092105</td>\n",
       "      <td>0.056497</td>\n",
       "      <td>0.176471</td>\n",
       "      <td>0.045455</td>\n",
       "    </tr>\n",
       "  </tbody>\n",
       "</table>\n",
       "</div>"
      ],
      "text/plain": [
       "race             1.0       2.0       3.0       6.0       4.0       5.0\n",
       "proportion  0.937773  0.029991  0.014216  0.011036  0.004240  0.002743\n",
       "label       0.076130  0.118503  0.092105  0.056497  0.176471  0.045455"
      ]
     },
     "execution_count": 13,
     "metadata": {},
     "output_type": "execute_result"
    }
   ],
   "source": [
    "pd.DataFrame([\n",
    "    kiran_full['race'].value_counts(dropna=True, normalize=True),\n",
    "    kiran_full.groupby('race')['label'].mean()\n",
    "])"
   ]
  },
  {
   "cell_type": "code",
   "execution_count": 21,
   "metadata": {},
   "outputs": [],
   "source": [
    "def analyze_race_and_malignancy(subset_percent='70'):\n",
    "    subsetdf = pd.read_csv(f\"{RETRAIN_SUBSETS_DIR}/NLST_{subset_percent}_Bogdan/dataset.csv\")\n",
    "    subset_demos = kiran_full[kiran_full['PatientID'].isin(subsetdf['PatientID'])]\n",
    "    \n",
    "    getinfo = lambda df: pd.DataFrame([\n",
    "        df['race'].value_counts(dropna=True, normalize=True),\n",
    "        df.groupby('race')['label'].mean(),\n",
    "        df.groupby('race')['diaghype'].mean()\n",
    "    ])\n",
    "    \n",
    "    infodf = getinfo(subset_demos)\n",
    "    display(Markdown(\"### Overall dataset:\"))\n",
    "    display(infodf)\n",
    "\n",
    "    for i in range(10):\n",
    "        display(Markdown(f\"#### Fold {i}\"))\n",
    "        \n",
    "        train_fold = pd.read_csv(f\"{RETRAIN_SUBSETS_DIR}/NLST_{subset_percent}_Bogdan/train{i}.csv\")\n",
    "        display(Markdown(f\"##### train - overall malignancy = {train_fold['label'].mean()}\"))\n",
    "        display(getinfo(kiran_full[kiran_full['PatientID'].isin(train_fold['PatientID'])]))\n",
    "        \n",
    "        valid_fold = pd.read_csv(f\"{RETRAIN_SUBSETS_DIR}/NLST_{subset_percent}_Bogdan/valid{i}.csv\")\n",
    "        display(Markdown(f\"##### valid - overall malignancy = {valid_fold['label'].mean()}\"))\n",
    "        display(getinfo(kiran_full[kiran_full['PatientID'].isin(valid_fold['PatientID'])]))"
   ]
  },
  {
   "cell_type": "markdown",
   "metadata": {},
   "source": [
    "## 70% subset"
   ]
  },
  {
   "cell_type": "code",
   "execution_count": 22,
   "metadata": {},
   "outputs": [
    {
     "data": {
      "text/markdown": [
       "### Overall dataset:"
      ],
      "text/plain": [
       "<IPython.core.display.Markdown object>"
      ]
     },
     "metadata": {},
     "output_type": "display_data"
    },
    {
     "data": {
      "application/vnd.microsoft.datawrangler.viewer.v0+json": {
       "columns": [
        {
         "name": "index",
         "rawType": "object",
         "type": "string"
        },
        {
         "name": "1.0",
         "rawType": "float64",
         "type": "float"
        },
        {
         "name": "2.0",
         "rawType": "float64",
         "type": "float"
        },
        {
         "name": "3.0",
         "rawType": "float64",
         "type": "float"
        },
        {
         "name": "6.0",
         "rawType": "float64",
         "type": "float"
        },
        {
         "name": "4.0",
         "rawType": "float64",
         "type": "float"
        },
        {
         "name": "5.0",
         "rawType": "float64",
         "type": "float"
        }
       ],
       "conversionMethod": "pd.DataFrame",
       "ref": "d037cfd2-8c60-4793-9a68-3b222c682448",
       "rows": [
        [
         "proportion",
         "0.9412236174191825",
         "0.024757324784041322",
         "0.016475198147653396",
         "0.010864725264938997",
         "0.004719921631489892",
         "0.0019592127526939177"
        ],
        [
         "label",
         "0.07644999526918346",
         "0.11510791366906475",
         "0.0972972972972973",
         "0.040983606557377046",
         "0.16981132075471697",
         "0.09090909090909091"
        ],
        [
         "diaghype",
         "0.3432906590801328",
         "0.564748201438849",
         "0.3837837837837838",
         "0.32786885245901637",
         "0.1509433962264151",
         "0.2727272727272727"
        ]
       ],
       "shape": {
        "columns": 6,
        "rows": 3
       }
      },
      "text/html": [
       "<div>\n",
       "<style scoped>\n",
       "    .dataframe tbody tr th:only-of-type {\n",
       "        vertical-align: middle;\n",
       "    }\n",
       "\n",
       "    .dataframe tbody tr th {\n",
       "        vertical-align: top;\n",
       "    }\n",
       "\n",
       "    .dataframe thead th {\n",
       "        text-align: right;\n",
       "    }\n",
       "</style>\n",
       "<table border=\"1\" class=\"dataframe\">\n",
       "  <thead>\n",
       "    <tr style=\"text-align: right;\">\n",
       "      <th>race</th>\n",
       "      <th>1.0</th>\n",
       "      <th>2.0</th>\n",
       "      <th>3.0</th>\n",
       "      <th>6.0</th>\n",
       "      <th>4.0</th>\n",
       "      <th>5.0</th>\n",
       "    </tr>\n",
       "  </thead>\n",
       "  <tbody>\n",
       "    <tr>\n",
       "      <th>proportion</th>\n",
       "      <td>0.941224</td>\n",
       "      <td>0.024757</td>\n",
       "      <td>0.016475</td>\n",
       "      <td>0.010865</td>\n",
       "      <td>0.004720</td>\n",
       "      <td>0.001959</td>\n",
       "    </tr>\n",
       "    <tr>\n",
       "      <th>label</th>\n",
       "      <td>0.076450</td>\n",
       "      <td>0.115108</td>\n",
       "      <td>0.097297</td>\n",
       "      <td>0.040984</td>\n",
       "      <td>0.169811</td>\n",
       "      <td>0.090909</td>\n",
       "    </tr>\n",
       "    <tr>\n",
       "      <th>diaghype</th>\n",
       "      <td>0.343291</td>\n",
       "      <td>0.564748</td>\n",
       "      <td>0.383784</td>\n",
       "      <td>0.327869</td>\n",
       "      <td>0.150943</td>\n",
       "      <td>0.272727</td>\n",
       "    </tr>\n",
       "  </tbody>\n",
       "</table>\n",
       "</div>"
      ],
      "text/plain": [
       "race             1.0       2.0       3.0       6.0       4.0       5.0\n",
       "proportion  0.941224  0.024757  0.016475  0.010865  0.004720  0.001959\n",
       "label       0.076450  0.115108  0.097297  0.040984  0.169811  0.090909\n",
       "diaghype    0.343291  0.564748  0.383784  0.327869  0.150943  0.272727"
      ]
     },
     "metadata": {},
     "output_type": "display_data"
    },
    {
     "data": {
      "text/markdown": [
       "#### Fold 0"
      ],
      "text/plain": [
       "<IPython.core.display.Markdown object>"
      ]
     },
     "metadata": {},
     "output_type": "display_data"
    },
    {
     "data": {
      "text/markdown": [
       "##### train - overall malignancy = 0.07717391304347826"
      ],
      "text/plain": [
       "<IPython.core.display.Markdown object>"
      ]
     },
     "metadata": {},
     "output_type": "display_data"
    },
    {
     "data": {
      "application/vnd.microsoft.datawrangler.viewer.v0+json": {
       "columns": [
        {
         "name": "index",
         "rawType": "object",
         "type": "string"
        },
        {
         "name": "1.0",
         "rawType": "float64",
         "type": "float"
        },
        {
         "name": "2.0",
         "rawType": "float64",
         "type": "float"
        },
        {
         "name": "3.0",
         "rawType": "float64",
         "type": "float"
        },
        {
         "name": "6.0",
         "rawType": "float64",
         "type": "float"
        },
        {
         "name": "4.0",
         "rawType": "float64",
         "type": "float"
        },
        {
         "name": "5.0",
         "rawType": "float64",
         "type": "float"
        }
       ],
       "conversionMethod": "pd.DataFrame",
       "ref": "471aff13-5757-4e44-9659-fc4802793380",
       "rows": [
        [
         "proportion",
         "0.9415430267062315",
         "0.025816023738872405",
         "0.01572700296735905",
         "0.010781404549950545",
         "0.004648862512363996",
         "0.001483679525222552"
        ],
        [
         "label",
         "0.0764786217039605",
         "0.10727969348659004",
         "0.09433962264150944",
         "0.045871559633027525",
         "0.06382978723404255",
         "0.13333333333333333"
        ],
        [
         "diaghype",
         "0.340810953133228",
         "0.5632183908045977",
         "0.36477987421383645",
         "0.27522935779816515",
         "0.1702127659574468",
         "0.4"
        ]
       ],
       "shape": {
        "columns": 6,
        "rows": 3
       }
      },
      "text/html": [
       "<div>\n",
       "<style scoped>\n",
       "    .dataframe tbody tr th:only-of-type {\n",
       "        vertical-align: middle;\n",
       "    }\n",
       "\n",
       "    .dataframe tbody tr th {\n",
       "        vertical-align: top;\n",
       "    }\n",
       "\n",
       "    .dataframe thead th {\n",
       "        text-align: right;\n",
       "    }\n",
       "</style>\n",
       "<table border=\"1\" class=\"dataframe\">\n",
       "  <thead>\n",
       "    <tr style=\"text-align: right;\">\n",
       "      <th>race</th>\n",
       "      <th>1.0</th>\n",
       "      <th>2.0</th>\n",
       "      <th>3.0</th>\n",
       "      <th>6.0</th>\n",
       "      <th>4.0</th>\n",
       "      <th>5.0</th>\n",
       "    </tr>\n",
       "  </thead>\n",
       "  <tbody>\n",
       "    <tr>\n",
       "      <th>proportion</th>\n",
       "      <td>0.941543</td>\n",
       "      <td>0.025816</td>\n",
       "      <td>0.015727</td>\n",
       "      <td>0.010781</td>\n",
       "      <td>0.004649</td>\n",
       "      <td>0.001484</td>\n",
       "    </tr>\n",
       "    <tr>\n",
       "      <th>label</th>\n",
       "      <td>0.076479</td>\n",
       "      <td>0.107280</td>\n",
       "      <td>0.094340</td>\n",
       "      <td>0.045872</td>\n",
       "      <td>0.063830</td>\n",
       "      <td>0.133333</td>\n",
       "    </tr>\n",
       "    <tr>\n",
       "      <th>diaghype</th>\n",
       "      <td>0.340811</td>\n",
       "      <td>0.563218</td>\n",
       "      <td>0.364780</td>\n",
       "      <td>0.275229</td>\n",
       "      <td>0.170213</td>\n",
       "      <td>0.400000</td>\n",
       "    </tr>\n",
       "  </tbody>\n",
       "</table>\n",
       "</div>"
      ],
      "text/plain": [
       "race             1.0       2.0       3.0       6.0       4.0       5.0\n",
       "proportion  0.941543  0.025816  0.015727  0.010781  0.004649  0.001484\n",
       "label       0.076479  0.107280  0.094340  0.045872  0.063830  0.133333\n",
       "diaghype    0.340811  0.563218  0.364780  0.275229  0.170213  0.400000"
      ]
     },
     "metadata": {},
     "output_type": "display_data"
    },
    {
     "data": {
      "text/markdown": [
       "##### valid - overall malignancy = 0.082010582010582"
      ],
      "text/plain": [
       "<IPython.core.display.Markdown object>"
      ]
     },
     "metadata": {},
     "output_type": "display_data"
    },
    {
     "data": {
      "application/vnd.microsoft.datawrangler.viewer.v0+json": {
       "columns": [
        {
         "name": "index",
         "rawType": "object",
         "type": "string"
        },
        {
         "name": "1.0",
         "rawType": "float64",
         "type": "float"
        },
        {
         "name": "3.0",
         "rawType": "float64",
         "type": "float"
        },
        {
         "name": "2.0",
         "rawType": "float64",
         "type": "float"
        },
        {
         "name": "6.0",
         "rawType": "float64",
         "type": "float"
        },
        {
         "name": "5.0",
         "rawType": "float64",
         "type": "float"
        },
        {
         "name": "4.0",
         "rawType": "float64",
         "type": "float"
        }
       ],
       "conversionMethod": "pd.DataFrame",
       "ref": "ff3bf286-af6d-4edc-91aa-97e8ed1a5b04",
       "rows": [
        [
         "proportion",
         "0.938337801608579",
         "0.02323503127792672",
         "0.01519213583556747",
         "0.01161751563896336",
         "0.006255585344057194",
         "0.005361930294906166"
        ],
        [
         "label",
         "0.0761904761904762",
         "0.11538461538461539",
         "0.23529411764705882",
         "0.0",
         "0.0",
         "1.0"
        ],
        [
         "diaghype",
         "0.3657142857142857",
         "0.5",
         "0.5882352941176471",
         "0.7692307692307693",
         "0.0",
         "0.0"
        ]
       ],
       "shape": {
        "columns": 6,
        "rows": 3
       }
      },
      "text/html": [
       "<div>\n",
       "<style scoped>\n",
       "    .dataframe tbody tr th:only-of-type {\n",
       "        vertical-align: middle;\n",
       "    }\n",
       "\n",
       "    .dataframe tbody tr th {\n",
       "        vertical-align: top;\n",
       "    }\n",
       "\n",
       "    .dataframe thead th {\n",
       "        text-align: right;\n",
       "    }\n",
       "</style>\n",
       "<table border=\"1\" class=\"dataframe\">\n",
       "  <thead>\n",
       "    <tr style=\"text-align: right;\">\n",
       "      <th>race</th>\n",
       "      <th>1.0</th>\n",
       "      <th>3.0</th>\n",
       "      <th>2.0</th>\n",
       "      <th>6.0</th>\n",
       "      <th>5.0</th>\n",
       "      <th>4.0</th>\n",
       "    </tr>\n",
       "  </thead>\n",
       "  <tbody>\n",
       "    <tr>\n",
       "      <th>proportion</th>\n",
       "      <td>0.938338</td>\n",
       "      <td>0.023235</td>\n",
       "      <td>0.015192</td>\n",
       "      <td>0.011618</td>\n",
       "      <td>0.006256</td>\n",
       "      <td>0.005362</td>\n",
       "    </tr>\n",
       "    <tr>\n",
       "      <th>label</th>\n",
       "      <td>0.076190</td>\n",
       "      <td>0.115385</td>\n",
       "      <td>0.235294</td>\n",
       "      <td>0.000000</td>\n",
       "      <td>0.000000</td>\n",
       "      <td>1.000000</td>\n",
       "    </tr>\n",
       "    <tr>\n",
       "      <th>diaghype</th>\n",
       "      <td>0.365714</td>\n",
       "      <td>0.500000</td>\n",
       "      <td>0.588235</td>\n",
       "      <td>0.769231</td>\n",
       "      <td>0.000000</td>\n",
       "      <td>0.000000</td>\n",
       "    </tr>\n",
       "  </tbody>\n",
       "</table>\n",
       "</div>"
      ],
      "text/plain": [
       "race             1.0       3.0       2.0       6.0       5.0       4.0\n",
       "proportion  0.938338  0.023235  0.015192  0.011618  0.006256  0.005362\n",
       "label       0.076190  0.115385  0.235294  0.000000  0.000000  1.000000\n",
       "diaghype    0.365714  0.500000  0.588235  0.769231  0.000000  0.000000"
      ]
     },
     "metadata": {},
     "output_type": "display_data"
    },
    {
     "data": {
      "text/markdown": [
       "#### Fold 1"
      ],
      "text/plain": [
       "<IPython.core.display.Markdown object>"
      ]
     },
     "metadata": {},
     "output_type": "display_data"
    },
    {
     "data": {
      "text/markdown": [
       "##### train - overall malignancy = 0.07837114832061826"
      ],
      "text/plain": [
       "<IPython.core.display.Markdown object>"
      ]
     },
     "metadata": {},
     "output_type": "display_data"
    },
    {
     "data": {
      "application/vnd.microsoft.datawrangler.viewer.v0+json": {
       "columns": [
        {
         "name": "index",
         "rawType": "object",
         "type": "string"
        },
        {
         "name": "1.0",
         "rawType": "float64",
         "type": "float"
        },
        {
         "name": "2.0",
         "rawType": "float64",
         "type": "float"
        },
        {
         "name": "3.0",
         "rawType": "float64",
         "type": "float"
        },
        {
         "name": "6.0",
         "rawType": "float64",
         "type": "float"
        },
        {
         "name": "4.0",
         "rawType": "float64",
         "type": "float"
        },
        {
         "name": "5.0",
         "rawType": "float64",
         "type": "float"
        }
       ],
       "conversionMethod": "pd.DataFrame",
       "ref": "6e75055e-8b25-4be5-b572-f957322dee4b",
       "rows": [
        [
         "proportion",
         "0.9411239078633836",
         "0.02402700555996823",
         "0.016779189833200953",
         "0.01102065131056394",
         "0.004964257347100874",
         "0.0020849880857823667"
        ],
        [
         "label",
         "0.07690684671378838",
         "0.1322314049586777",
         "0.08875739644970414",
         "0.04504504504504504",
         "0.18",
         "0.047619047619047616"
        ],
        [
         "diaghype",
         "0.348281332628239",
         "0.5289256198347108",
         "0.3905325443786982",
         "0.36036036036036034",
         "0.16",
         "0.23809523809523808"
        ]
       ],
       "shape": {
        "columns": 6,
        "rows": 3
       }
      },
      "text/html": [
       "<div>\n",
       "<style scoped>\n",
       "    .dataframe tbody tr th:only-of-type {\n",
       "        vertical-align: middle;\n",
       "    }\n",
       "\n",
       "    .dataframe tbody tr th {\n",
       "        vertical-align: top;\n",
       "    }\n",
       "\n",
       "    .dataframe thead th {\n",
       "        text-align: right;\n",
       "    }\n",
       "</style>\n",
       "<table border=\"1\" class=\"dataframe\">\n",
       "  <thead>\n",
       "    <tr style=\"text-align: right;\">\n",
       "      <th>race</th>\n",
       "      <th>1.0</th>\n",
       "      <th>2.0</th>\n",
       "      <th>3.0</th>\n",
       "      <th>6.0</th>\n",
       "      <th>4.0</th>\n",
       "      <th>5.0</th>\n",
       "    </tr>\n",
       "  </thead>\n",
       "  <tbody>\n",
       "    <tr>\n",
       "      <th>proportion</th>\n",
       "      <td>0.941124</td>\n",
       "      <td>0.024027</td>\n",
       "      <td>0.016779</td>\n",
       "      <td>0.011021</td>\n",
       "      <td>0.004964</td>\n",
       "      <td>0.002085</td>\n",
       "    </tr>\n",
       "    <tr>\n",
       "      <th>label</th>\n",
       "      <td>0.076907</td>\n",
       "      <td>0.132231</td>\n",
       "      <td>0.088757</td>\n",
       "      <td>0.045045</td>\n",
       "      <td>0.180000</td>\n",
       "      <td>0.047619</td>\n",
       "    </tr>\n",
       "    <tr>\n",
       "      <th>diaghype</th>\n",
       "      <td>0.348281</td>\n",
       "      <td>0.528926</td>\n",
       "      <td>0.390533</td>\n",
       "      <td>0.360360</td>\n",
       "      <td>0.160000</td>\n",
       "      <td>0.238095</td>\n",
       "    </tr>\n",
       "  </tbody>\n",
       "</table>\n",
       "</div>"
      ],
      "text/plain": [
       "race             1.0       2.0       3.0       6.0       4.0       5.0\n",
       "proportion  0.941124  0.024027  0.016779  0.011021  0.004964  0.002085\n",
       "label       0.076907  0.132231  0.088757  0.045045  0.180000  0.047619\n",
       "diaghype    0.348281  0.528926  0.390533  0.360360  0.160000  0.238095"
      ]
     },
     "metadata": {},
     "output_type": "display_data"
    },
    {
     "data": {
      "text/markdown": [
       "##### valid - overall malignancy = 0.0714900947459087"
      ],
      "text/plain": [
       "<IPython.core.display.Markdown object>"
      ]
     },
     "metadata": {},
     "output_type": "display_data"
    },
    {
     "data": {
      "application/vnd.microsoft.datawrangler.viewer.v0+json": {
       "columns": [
        {
         "name": "index",
         "rawType": "object",
         "type": "string"
        },
        {
         "name": "1.0",
         "rawType": "float64",
         "type": "float"
        },
        {
         "name": "2.0",
         "rawType": "float64",
         "type": "float"
        },
        {
         "name": "3.0",
         "rawType": "float64",
         "type": "float"
        },
        {
         "name": "6.0",
         "rawType": "float64",
         "type": "float"
        },
        {
         "name": "4.0",
         "rawType": "float64",
         "type": "float"
        },
        {
         "name": "5.0",
         "rawType": "float64",
         "type": "float"
        }
       ],
       "conversionMethod": "pd.DataFrame",
       "ref": "b13fc422-58ce-4db1-942a-4716ba17b7b5",
       "rows": [
        [
         "proportion",
         "0.9420916162489196",
         "0.03111495246326707",
         "0.013828867761452032",
         "0.00950734658599827",
         "0.0025929127052722557",
         "0.000864304235090752"
        ],
        [
         "label",
         "0.07247706422018349",
         "0.0",
         "0.1875",
         "0.0",
         "0.0",
         "1.0"
        ],
        [
         "diaghype",
         "0.3",
         "0.8055555555555556",
         "0.3125",
         "0.0",
         "0.0",
         "1.0"
        ]
       ],
       "shape": {
        "columns": 6,
        "rows": 3
       }
      },
      "text/html": [
       "<div>\n",
       "<style scoped>\n",
       "    .dataframe tbody tr th:only-of-type {\n",
       "        vertical-align: middle;\n",
       "    }\n",
       "\n",
       "    .dataframe tbody tr th {\n",
       "        vertical-align: top;\n",
       "    }\n",
       "\n",
       "    .dataframe thead th {\n",
       "        text-align: right;\n",
       "    }\n",
       "</style>\n",
       "<table border=\"1\" class=\"dataframe\">\n",
       "  <thead>\n",
       "    <tr style=\"text-align: right;\">\n",
       "      <th>race</th>\n",
       "      <th>1.0</th>\n",
       "      <th>2.0</th>\n",
       "      <th>3.0</th>\n",
       "      <th>6.0</th>\n",
       "      <th>4.0</th>\n",
       "      <th>5.0</th>\n",
       "    </tr>\n",
       "  </thead>\n",
       "  <tbody>\n",
       "    <tr>\n",
       "      <th>proportion</th>\n",
       "      <td>0.942092</td>\n",
       "      <td>0.031115</td>\n",
       "      <td>0.013829</td>\n",
       "      <td>0.009507</td>\n",
       "      <td>0.002593</td>\n",
       "      <td>0.000864</td>\n",
       "    </tr>\n",
       "    <tr>\n",
       "      <th>label</th>\n",
       "      <td>0.072477</td>\n",
       "      <td>0.000000</td>\n",
       "      <td>0.187500</td>\n",
       "      <td>0.000000</td>\n",
       "      <td>0.000000</td>\n",
       "      <td>1.000000</td>\n",
       "    </tr>\n",
       "    <tr>\n",
       "      <th>diaghype</th>\n",
       "      <td>0.300000</td>\n",
       "      <td>0.805556</td>\n",
       "      <td>0.312500</td>\n",
       "      <td>0.000000</td>\n",
       "      <td>0.000000</td>\n",
       "      <td>1.000000</td>\n",
       "    </tr>\n",
       "  </tbody>\n",
       "</table>\n",
       "</div>"
      ],
      "text/plain": [
       "race             1.0       2.0       3.0       6.0       4.0       5.0\n",
       "proportion  0.942092  0.031115  0.013829  0.009507  0.002593  0.000864\n",
       "label       0.072477  0.000000  0.187500  0.000000  0.000000  1.000000\n",
       "diaghype    0.300000  0.805556  0.312500  0.000000  0.000000  1.000000"
      ]
     },
     "metadata": {},
     "output_type": "display_data"
    },
    {
     "data": {
      "text/markdown": [
       "#### Fold 2"
      ],
      "text/plain": [
       "<IPython.core.display.Markdown object>"
      ]
     },
     "metadata": {},
     "output_type": "display_data"
    },
    {
     "data": {
      "text/markdown": [
       "##### train - overall malignancy = 0.07772174428952833"
      ],
      "text/plain": [
       "<IPython.core.display.Markdown object>"
      ]
     },
     "metadata": {},
     "output_type": "display_data"
    },
    {
     "data": {
      "application/vnd.microsoft.datawrangler.viewer.v0+json": {
       "columns": [
        {
         "name": "index",
         "rawType": "object",
         "type": "string"
        },
        {
         "name": "1.0",
         "rawType": "float64",
         "type": "float"
        },
        {
         "name": "2.0",
         "rawType": "float64",
         "type": "float"
        },
        {
         "name": "3.0",
         "rawType": "float64",
         "type": "float"
        },
        {
         "name": "6.0",
         "rawType": "float64",
         "type": "float"
        },
        {
         "name": "4.0",
         "rawType": "float64",
         "type": "float"
        },
        {
         "name": "5.0",
         "rawType": "float64",
         "type": "float"
        }
       ],
       "conversionMethod": "pd.DataFrame",
       "ref": "a13d1441-b010-4455-a38d-d078a8ff5c05",
       "rows": [
        [
         "proportion",
         "0.9409316154608524",
         "0.025867195242814667",
         "0.016551040634291376",
         "0.010406342913776016",
         "0.004063429137760159",
         "0.002180376610505451"
        ],
        [
         "label",
         "0.07668000842637455",
         "0.11494252873563218",
         "0.08982035928143713",
         "0.0380952380952381",
         "0.17073170731707318",
         "0.09090909090909091"
        ],
        [
         "diaghype",
         "0.3455121436114044",
         "0.5555555555555556",
         "0.40119760479041916",
         "0.3333333333333333",
         "0.14634146341463414",
         "0.2727272727272727"
        ]
       ],
       "shape": {
        "columns": 6,
        "rows": 3
       }
      },
      "text/html": [
       "<div>\n",
       "<style scoped>\n",
       "    .dataframe tbody tr th:only-of-type {\n",
       "        vertical-align: middle;\n",
       "    }\n",
       "\n",
       "    .dataframe tbody tr th {\n",
       "        vertical-align: top;\n",
       "    }\n",
       "\n",
       "    .dataframe thead th {\n",
       "        text-align: right;\n",
       "    }\n",
       "</style>\n",
       "<table border=\"1\" class=\"dataframe\">\n",
       "  <thead>\n",
       "    <tr style=\"text-align: right;\">\n",
       "      <th>race</th>\n",
       "      <th>1.0</th>\n",
       "      <th>2.0</th>\n",
       "      <th>3.0</th>\n",
       "      <th>6.0</th>\n",
       "      <th>4.0</th>\n",
       "      <th>5.0</th>\n",
       "    </tr>\n",
       "  </thead>\n",
       "  <tbody>\n",
       "    <tr>\n",
       "      <th>proportion</th>\n",
       "      <td>0.940932</td>\n",
       "      <td>0.025867</td>\n",
       "      <td>0.016551</td>\n",
       "      <td>0.010406</td>\n",
       "      <td>0.004063</td>\n",
       "      <td>0.002180</td>\n",
       "    </tr>\n",
       "    <tr>\n",
       "      <th>label</th>\n",
       "      <td>0.076680</td>\n",
       "      <td>0.114943</td>\n",
       "      <td>0.089820</td>\n",
       "      <td>0.038095</td>\n",
       "      <td>0.170732</td>\n",
       "      <td>0.090909</td>\n",
       "    </tr>\n",
       "    <tr>\n",
       "      <th>diaghype</th>\n",
       "      <td>0.345512</td>\n",
       "      <td>0.555556</td>\n",
       "      <td>0.401198</td>\n",
       "      <td>0.333333</td>\n",
       "      <td>0.146341</td>\n",
       "      <td>0.272727</td>\n",
       "    </tr>\n",
       "  </tbody>\n",
       "</table>\n",
       "</div>"
      ],
      "text/plain": [
       "race             1.0       2.0       3.0       6.0       4.0       5.0\n",
       "proportion  0.940932  0.025867  0.016551  0.010406  0.004063  0.002180\n",
       "label       0.076680  0.114943  0.089820  0.038095  0.170732  0.090909\n",
       "diaghype    0.345512  0.555556  0.401198  0.333333  0.146341  0.272727"
      ]
     },
     "metadata": {},
     "output_type": "display_data"
    },
    {
     "data": {
      "text/markdown": [
       "##### valid - overall malignancy = 0.07712532865907099"
      ],
      "text/plain": [
       "<IPython.core.display.Markdown object>"
      ]
     },
     "metadata": {},
     "output_type": "display_data"
    },
    {
     "data": {
      "application/vnd.microsoft.datawrangler.viewer.v0+json": {
       "columns": [
        {
         "name": "index",
         "rawType": "object",
         "type": "string"
        },
        {
         "name": "1.0",
         "rawType": "float64",
         "type": "float"
        },
        {
         "name": "3.0",
         "rawType": "float64",
         "type": "float"
        },
        {
         "name": "2.0",
         "rawType": "float64",
         "type": "float"
        },
        {
         "name": "6.0",
         "rawType": "float64",
         "type": "float"
        },
        {
         "name": "4.0",
         "rawType": "float64",
         "type": "float"
        }
       ],
       "conversionMethod": "pd.DataFrame",
       "ref": "68f79468-980a-4d09-b5e2-d983f0d4c56e",
       "rows": [
        [
         "proportion",
         "0.9438103599648815",
         "0.015803336259877086",
         "0.014925373134328358",
         "0.014925373134328358",
         "0.010535557506584723"
        ],
        [
         "label",
         "0.07441860465116279",
         "0.16666666666666666",
         "0.11764705882352941",
         "0.058823529411764705",
         "0.16666666666666666"
        ],
        [
         "diaghype",
         "0.32372093023255816",
         "0.2222222222222222",
         "0.7058823529411765",
         "0.29411764705882354",
         "0.16666666666666666"
        ]
       ],
       "shape": {
        "columns": 5,
        "rows": 3
       }
      },
      "text/html": [
       "<div>\n",
       "<style scoped>\n",
       "    .dataframe tbody tr th:only-of-type {\n",
       "        vertical-align: middle;\n",
       "    }\n",
       "\n",
       "    .dataframe tbody tr th {\n",
       "        vertical-align: top;\n",
       "    }\n",
       "\n",
       "    .dataframe thead th {\n",
       "        text-align: right;\n",
       "    }\n",
       "</style>\n",
       "<table border=\"1\" class=\"dataframe\">\n",
       "  <thead>\n",
       "    <tr style=\"text-align: right;\">\n",
       "      <th>race</th>\n",
       "      <th>1.0</th>\n",
       "      <th>3.0</th>\n",
       "      <th>2.0</th>\n",
       "      <th>6.0</th>\n",
       "      <th>4.0</th>\n",
       "    </tr>\n",
       "  </thead>\n",
       "  <tbody>\n",
       "    <tr>\n",
       "      <th>proportion</th>\n",
       "      <td>0.943810</td>\n",
       "      <td>0.015803</td>\n",
       "      <td>0.014925</td>\n",
       "      <td>0.014925</td>\n",
       "      <td>0.010536</td>\n",
       "    </tr>\n",
       "    <tr>\n",
       "      <th>label</th>\n",
       "      <td>0.074419</td>\n",
       "      <td>0.166667</td>\n",
       "      <td>0.117647</td>\n",
       "      <td>0.058824</td>\n",
       "      <td>0.166667</td>\n",
       "    </tr>\n",
       "    <tr>\n",
       "      <th>diaghype</th>\n",
       "      <td>0.323721</td>\n",
       "      <td>0.222222</td>\n",
       "      <td>0.705882</td>\n",
       "      <td>0.294118</td>\n",
       "      <td>0.166667</td>\n",
       "    </tr>\n",
       "  </tbody>\n",
       "</table>\n",
       "</div>"
      ],
      "text/plain": [
       "race             1.0       3.0       2.0       6.0       4.0\n",
       "proportion  0.943810  0.015803  0.014925  0.014925  0.010536\n",
       "label       0.074419  0.166667  0.117647  0.058824  0.166667\n",
       "diaghype    0.323721  0.222222  0.705882  0.294118  0.166667"
      ]
     },
     "metadata": {},
     "output_type": "display_data"
    },
    {
     "data": {
      "text/markdown": [
       "#### Fold 3"
      ],
      "text/plain": [
       "<IPython.core.display.Markdown object>"
      ]
     },
     "metadata": {},
     "output_type": "display_data"
    },
    {
     "data": {
      "text/markdown": [
       "##### train - overall malignancy = 0.07837145110410094"
      ],
      "text/plain": [
       "<IPython.core.display.Markdown object>"
      ]
     },
     "metadata": {},
     "output_type": "display_data"
    },
    {
     "data": {
      "application/vnd.microsoft.datawrangler.viewer.v0+json": {
       "columns": [
        {
         "name": "index",
         "rawType": "object",
         "type": "string"
        },
        {
         "name": "1.0",
         "rawType": "float64",
         "type": "float"
        },
        {
         "name": "2.0",
         "rawType": "float64",
         "type": "float"
        },
        {
         "name": "3.0",
         "rawType": "float64",
         "type": "float"
        },
        {
         "name": "6.0",
         "rawType": "float64",
         "type": "float"
        },
        {
         "name": "4.0",
         "rawType": "float64",
         "type": "float"
        },
        {
         "name": "5.0",
         "rawType": "float64",
         "type": "float"
        }
       ],
       "conversionMethod": "pd.DataFrame",
       "ref": "973e60f2-9908-424f-84d2-1e8d111b35ed",
       "rows": [
        [
         "proportion",
         "0.9408102766798419",
         "0.025098814229249013",
         "0.015513833992094862",
         "0.011462450592885375",
         "0.004940711462450593",
         "0.002173913043478261"
        ],
        [
         "label",
         "0.0776178972796975",
         "0.1062992125984252",
         "0.08917197452229299",
         "0.034482758620689655",
         "0.18",
         "0.09090909090909091"
        ],
        [
         "diaghype",
         "0.3369485100558071",
         "0.5669291338582677",
         "0.3375796178343949",
         "0.33620689655172414",
         "0.1",
         "0.2727272727272727"
        ]
       ],
       "shape": {
        "columns": 6,
        "rows": 3
       }
      },
      "text/html": [
       "<div>\n",
       "<style scoped>\n",
       "    .dataframe tbody tr th:only-of-type {\n",
       "        vertical-align: middle;\n",
       "    }\n",
       "\n",
       "    .dataframe tbody tr th {\n",
       "        vertical-align: top;\n",
       "    }\n",
       "\n",
       "    .dataframe thead th {\n",
       "        text-align: right;\n",
       "    }\n",
       "</style>\n",
       "<table border=\"1\" class=\"dataframe\">\n",
       "  <thead>\n",
       "    <tr style=\"text-align: right;\">\n",
       "      <th>race</th>\n",
       "      <th>1.0</th>\n",
       "      <th>2.0</th>\n",
       "      <th>3.0</th>\n",
       "      <th>6.0</th>\n",
       "      <th>4.0</th>\n",
       "      <th>5.0</th>\n",
       "    </tr>\n",
       "  </thead>\n",
       "  <tbody>\n",
       "    <tr>\n",
       "      <th>proportion</th>\n",
       "      <td>0.940810</td>\n",
       "      <td>0.025099</td>\n",
       "      <td>0.015514</td>\n",
       "      <td>0.011462</td>\n",
       "      <td>0.004941</td>\n",
       "      <td>0.002174</td>\n",
       "    </tr>\n",
       "    <tr>\n",
       "      <th>label</th>\n",
       "      <td>0.077618</td>\n",
       "      <td>0.106299</td>\n",
       "      <td>0.089172</td>\n",
       "      <td>0.034483</td>\n",
       "      <td>0.180000</td>\n",
       "      <td>0.090909</td>\n",
       "    </tr>\n",
       "    <tr>\n",
       "      <th>diaghype</th>\n",
       "      <td>0.336949</td>\n",
       "      <td>0.566929</td>\n",
       "      <td>0.337580</td>\n",
       "      <td>0.336207</td>\n",
       "      <td>0.100000</td>\n",
       "      <td>0.272727</td>\n",
       "    </tr>\n",
       "  </tbody>\n",
       "</table>\n",
       "</div>"
      ],
      "text/plain": [
       "race             1.0       2.0       3.0       6.0       4.0       5.0\n",
       "proportion  0.940810  0.025099  0.015514  0.011462  0.004941  0.002174\n",
       "label       0.077618  0.106299  0.089172  0.034483  0.180000  0.090909\n",
       "diaghype    0.336949  0.566929  0.337580  0.336207  0.100000  0.272727"
      ]
     },
     "metadata": {},
     "output_type": "display_data"
    },
    {
     "data": {
      "text/markdown": [
       "##### valid - overall malignancy = 0.07117117117117117"
      ],
      "text/plain": [
       "<IPython.core.display.Markdown object>"
      ]
     },
     "metadata": {},
     "output_type": "display_data"
    },
    {
     "data": {
      "application/vnd.microsoft.datawrangler.viewer.v0+json": {
       "columns": [
        {
         "name": "index",
         "rawType": "object",
         "type": "string"
        },
        {
         "name": "1.0",
         "rawType": "float64",
         "type": "float"
        },
        {
         "name": "3.0",
         "rawType": "float64",
         "type": "float"
        },
        {
         "name": "2.0",
         "rawType": "float64",
         "type": "float"
        },
        {
         "name": "6.0",
         "rawType": "float64",
         "type": "float"
        },
        {
         "name": "4.0",
         "rawType": "float64",
         "type": "float"
        }
       ],
       "conversionMethod": "pd.DataFrame",
       "ref": "75077d60-980c-49f3-8dab-ece09160e021",
       "rows": [
        [
         "proportion",
         "0.9449954914337241",
         "0.025247971145175834",
         "0.02164111812443643",
         "0.005410279531109108",
         "0.002705139765554554"
        ],
        [
         "label",
         "0.06583969465648855",
         "0.14285714285714285",
         "0.20833333333333334",
         "0.16666666666666666",
         "0.0"
        ],
        [
         "diaghype",
         "0.40076335877862596",
         "0.6428571428571429",
         "0.5416666666666666",
         "0.16666666666666666",
         "1.0"
        ]
       ],
       "shape": {
        "columns": 5,
        "rows": 3
       }
      },
      "text/html": [
       "<div>\n",
       "<style scoped>\n",
       "    .dataframe tbody tr th:only-of-type {\n",
       "        vertical-align: middle;\n",
       "    }\n",
       "\n",
       "    .dataframe tbody tr th {\n",
       "        vertical-align: top;\n",
       "    }\n",
       "\n",
       "    .dataframe thead th {\n",
       "        text-align: right;\n",
       "    }\n",
       "</style>\n",
       "<table border=\"1\" class=\"dataframe\">\n",
       "  <thead>\n",
       "    <tr style=\"text-align: right;\">\n",
       "      <th>race</th>\n",
       "      <th>1.0</th>\n",
       "      <th>3.0</th>\n",
       "      <th>2.0</th>\n",
       "      <th>6.0</th>\n",
       "      <th>4.0</th>\n",
       "    </tr>\n",
       "  </thead>\n",
       "  <tbody>\n",
       "    <tr>\n",
       "      <th>proportion</th>\n",
       "      <td>0.944995</td>\n",
       "      <td>0.025248</td>\n",
       "      <td>0.021641</td>\n",
       "      <td>0.005410</td>\n",
       "      <td>0.002705</td>\n",
       "    </tr>\n",
       "    <tr>\n",
       "      <th>label</th>\n",
       "      <td>0.065840</td>\n",
       "      <td>0.142857</td>\n",
       "      <td>0.208333</td>\n",
       "      <td>0.166667</td>\n",
       "      <td>0.000000</td>\n",
       "    </tr>\n",
       "    <tr>\n",
       "      <th>diaghype</th>\n",
       "      <td>0.400763</td>\n",
       "      <td>0.642857</td>\n",
       "      <td>0.541667</td>\n",
       "      <td>0.166667</td>\n",
       "      <td>1.000000</td>\n",
       "    </tr>\n",
       "  </tbody>\n",
       "</table>\n",
       "</div>"
      ],
      "text/plain": [
       "race             1.0       3.0       2.0       6.0       4.0\n",
       "proportion  0.944995  0.025248  0.021641  0.005410  0.002705\n",
       "label       0.065840  0.142857  0.208333  0.166667  0.000000\n",
       "diaghype    0.400763  0.642857  0.541667  0.166667  1.000000"
      ]
     },
     "metadata": {},
     "output_type": "display_data"
    },
    {
     "data": {
      "text/markdown": [
       "#### Fold 4"
      ],
      "text/plain": [
       "<IPython.core.display.Markdown object>"
      ]
     },
     "metadata": {},
     "output_type": "display_data"
    },
    {
     "data": {
      "text/markdown": [
       "##### train - overall malignancy = 0.07874093933075166"
      ],
      "text/plain": [
       "<IPython.core.display.Markdown object>"
      ]
     },
     "metadata": {},
     "output_type": "display_data"
    },
    {
     "data": {
      "application/vnd.microsoft.datawrangler.viewer.v0+json": {
       "columns": [
        {
         "name": "index",
         "rawType": "object",
         "type": "string"
        },
        {
         "name": "1.0",
         "rawType": "float64",
         "type": "float"
        },
        {
         "name": "2.0",
         "rawType": "float64",
         "type": "float"
        },
        {
         "name": "3.0",
         "rawType": "float64",
         "type": "float"
        },
        {
         "name": "6.0",
         "rawType": "float64",
         "type": "float"
        },
        {
         "name": "4.0",
         "rawType": "float64",
         "type": "float"
        },
        {
         "name": "5.0",
         "rawType": "float64",
         "type": "float"
        }
       ],
       "conversionMethod": "pd.DataFrame",
       "ref": "e4dcaa42-11cd-4f5e-8641-a2f6e516bc43",
       "rows": [
        [
         "proportion",
         "0.9430619151901254",
         "0.025283695002986262",
         "0.01562811069082222",
         "0.009356957993231137",
         "0.004977105315548477",
         "0.0016922158072864822"
        ],
        [
         "label",
         "0.07715853915980578",
         "0.12598425196850394",
         "0.11464968152866242",
         "0.02127659574468085",
         "0.18",
         "0.058823529411764705"
        ],
        [
         "diaghype",
         "0.34296296296296297",
         "0.5669291338582677",
         "0.4267515923566879",
         "0.32978723404255317",
         "0.16",
         "0.17647058823529413"
        ]
       ],
       "shape": {
        "columns": 6,
        "rows": 3
       }
      },
      "text/html": [
       "<div>\n",
       "<style scoped>\n",
       "    .dataframe tbody tr th:only-of-type {\n",
       "        vertical-align: middle;\n",
       "    }\n",
       "\n",
       "    .dataframe tbody tr th {\n",
       "        vertical-align: top;\n",
       "    }\n",
       "\n",
       "    .dataframe thead th {\n",
       "        text-align: right;\n",
       "    }\n",
       "</style>\n",
       "<table border=\"1\" class=\"dataframe\">\n",
       "  <thead>\n",
       "    <tr style=\"text-align: right;\">\n",
       "      <th>race</th>\n",
       "      <th>1.0</th>\n",
       "      <th>2.0</th>\n",
       "      <th>3.0</th>\n",
       "      <th>6.0</th>\n",
       "      <th>4.0</th>\n",
       "      <th>5.0</th>\n",
       "    </tr>\n",
       "  </thead>\n",
       "  <tbody>\n",
       "    <tr>\n",
       "      <th>proportion</th>\n",
       "      <td>0.943062</td>\n",
       "      <td>0.025284</td>\n",
       "      <td>0.015628</td>\n",
       "      <td>0.009357</td>\n",
       "      <td>0.004977</td>\n",
       "      <td>0.001692</td>\n",
       "    </tr>\n",
       "    <tr>\n",
       "      <th>label</th>\n",
       "      <td>0.077159</td>\n",
       "      <td>0.125984</td>\n",
       "      <td>0.114650</td>\n",
       "      <td>0.021277</td>\n",
       "      <td>0.180000</td>\n",
       "      <td>0.058824</td>\n",
       "    </tr>\n",
       "    <tr>\n",
       "      <th>diaghype</th>\n",
       "      <td>0.342963</td>\n",
       "      <td>0.566929</td>\n",
       "      <td>0.426752</td>\n",
       "      <td>0.329787</td>\n",
       "      <td>0.160000</td>\n",
       "      <td>0.176471</td>\n",
       "    </tr>\n",
       "  </tbody>\n",
       "</table>\n",
       "</div>"
      ],
      "text/plain": [
       "race             1.0       2.0       3.0       6.0       4.0       5.0\n",
       "proportion  0.943062  0.025284  0.015628  0.009357  0.004977  0.001692\n",
       "label       0.077159  0.125984  0.114650  0.021277  0.180000  0.058824\n",
       "diaghype    0.342963  0.566929  0.426752  0.329787  0.160000  0.176471"
      ]
     },
     "metadata": {},
     "output_type": "display_data"
    },
    {
     "data": {
      "text/markdown": [
       "##### valid - overall malignancy = 0.06846999154691462"
      ],
      "text/plain": [
       "<IPython.core.display.Markdown object>"
      ]
     },
     "metadata": {},
     "output_type": "display_data"
    },
    {
     "data": {
      "application/vnd.microsoft.datawrangler.viewer.v0+json": {
       "columns": [
        {
         "name": "index",
         "rawType": "object",
         "type": "string"
        },
        {
         "name": "1.0",
         "rawType": "float64",
         "type": "float"
        },
        {
         "name": "6.0",
         "rawType": "float64",
         "type": "float"
        },
        {
         "name": "3.0",
         "rawType": "float64",
         "type": "float"
        },
        {
         "name": "2.0",
         "rawType": "float64",
         "type": "float"
        },
        {
         "name": "5.0",
         "rawType": "float64",
         "type": "float"
        },
        {
         "name": "4.0",
         "rawType": "float64",
         "type": "float"
        }
       ],
       "conversionMethod": "pd.DataFrame",
       "ref": "a8effdc0-78c1-4532-b66f-ba972bf88b67",
       "rows": [
        [
         "proportion",
         "0.9256128486897718",
         "0.023668639053254437",
         "0.023668639053254437",
         "0.02028740490278952",
         "0.00422654268808115",
         "0.00253592561284869"
        ],
        [
         "label",
         "0.07031963470319634",
         "0.10714285714285714",
         "0.0",
         "0.0",
         "0.2",
         "0.0"
        ],
        [
         "diaghype",
         "0.3461187214611872",
         "0.32142857142857145",
         "0.14285714285714285",
         "0.5416666666666666",
         "0.6",
         "0.0"
        ]
       ],
       "shape": {
        "columns": 6,
        "rows": 3
       }
      },
      "text/html": [
       "<div>\n",
       "<style scoped>\n",
       "    .dataframe tbody tr th:only-of-type {\n",
       "        vertical-align: middle;\n",
       "    }\n",
       "\n",
       "    .dataframe tbody tr th {\n",
       "        vertical-align: top;\n",
       "    }\n",
       "\n",
       "    .dataframe thead th {\n",
       "        text-align: right;\n",
       "    }\n",
       "</style>\n",
       "<table border=\"1\" class=\"dataframe\">\n",
       "  <thead>\n",
       "    <tr style=\"text-align: right;\">\n",
       "      <th>race</th>\n",
       "      <th>1.0</th>\n",
       "      <th>6.0</th>\n",
       "      <th>3.0</th>\n",
       "      <th>2.0</th>\n",
       "      <th>5.0</th>\n",
       "      <th>4.0</th>\n",
       "    </tr>\n",
       "  </thead>\n",
       "  <tbody>\n",
       "    <tr>\n",
       "      <th>proportion</th>\n",
       "      <td>0.925613</td>\n",
       "      <td>0.023669</td>\n",
       "      <td>0.023669</td>\n",
       "      <td>0.020287</td>\n",
       "      <td>0.004227</td>\n",
       "      <td>0.002536</td>\n",
       "    </tr>\n",
       "    <tr>\n",
       "      <th>label</th>\n",
       "      <td>0.070320</td>\n",
       "      <td>0.107143</td>\n",
       "      <td>0.000000</td>\n",
       "      <td>0.000000</td>\n",
       "      <td>0.200000</td>\n",
       "      <td>0.000000</td>\n",
       "    </tr>\n",
       "    <tr>\n",
       "      <th>diaghype</th>\n",
       "      <td>0.346119</td>\n",
       "      <td>0.321429</td>\n",
       "      <td>0.142857</td>\n",
       "      <td>0.541667</td>\n",
       "      <td>0.600000</td>\n",
       "      <td>0.000000</td>\n",
       "    </tr>\n",
       "  </tbody>\n",
       "</table>\n",
       "</div>"
      ],
      "text/plain": [
       "race             1.0       6.0       3.0       2.0       5.0       4.0\n",
       "proportion  0.925613  0.023669  0.023669  0.020287  0.004227  0.002536\n",
       "label       0.070320  0.107143  0.000000  0.000000  0.200000  0.000000\n",
       "diaghype    0.346119  0.321429  0.142857  0.541667  0.600000  0.000000"
      ]
     },
     "metadata": {},
     "output_type": "display_data"
    },
    {
     "data": {
      "text/markdown": [
       "#### Fold 5"
      ],
      "text/plain": [
       "<IPython.core.display.Markdown object>"
      ]
     },
     "metadata": {},
     "output_type": "display_data"
    },
    {
     "data": {
      "text/markdown": [
       "##### train - overall malignancy = 0.07769869513641756"
      ],
      "text/plain": [
       "<IPython.core.display.Markdown object>"
      ]
     },
     "metadata": {},
     "output_type": "display_data"
    },
    {
     "data": {
      "application/vnd.microsoft.datawrangler.viewer.v0+json": {
       "columns": [
        {
         "name": "index",
         "rawType": "object",
         "type": "string"
        },
        {
         "name": "1.0",
         "rawType": "float64",
         "type": "float"
        },
        {
         "name": "2.0",
         "rawType": "float64",
         "type": "float"
        },
        {
         "name": "3.0",
         "rawType": "float64",
         "type": "float"
        },
        {
         "name": "6.0",
         "rawType": "float64",
         "type": "float"
        },
        {
         "name": "4.0",
         "rawType": "float64",
         "type": "float"
        },
        {
         "name": "5.0",
         "rawType": "float64",
         "type": "float"
        }
       ],
       "conversionMethod": "pd.DataFrame",
       "ref": "1e1a1b0a-0b24-4d68-b5d6-1e34e0fb9fbd",
       "rows": [
        [
         "proportion",
         "0.9417302546823902",
         "0.02566643543751858",
         "0.015459320186304628",
         "0.010008918838569022",
         "0.0049549103161232785",
         "0.0021801605390942423"
        ],
        [
         "label",
         "0.07608123750394612",
         "0.11969111969111969",
         "0.10897435897435898",
         "0.04950495049504951",
         "0.16",
         "0.09090909090909091"
        ],
        [
         "diaghype",
         "0.34328515666209514",
         "0.5791505791505791",
         "0.41025641025641024",
         "0.31683168316831684",
         "0.1",
         "0.2727272727272727"
        ]
       ],
       "shape": {
        "columns": 6,
        "rows": 3
       }
      },
      "text/html": [
       "<div>\n",
       "<style scoped>\n",
       "    .dataframe tbody tr th:only-of-type {\n",
       "        vertical-align: middle;\n",
       "    }\n",
       "\n",
       "    .dataframe tbody tr th {\n",
       "        vertical-align: top;\n",
       "    }\n",
       "\n",
       "    .dataframe thead th {\n",
       "        text-align: right;\n",
       "    }\n",
       "</style>\n",
       "<table border=\"1\" class=\"dataframe\">\n",
       "  <thead>\n",
       "    <tr style=\"text-align: right;\">\n",
       "      <th>race</th>\n",
       "      <th>1.0</th>\n",
       "      <th>2.0</th>\n",
       "      <th>3.0</th>\n",
       "      <th>6.0</th>\n",
       "      <th>4.0</th>\n",
       "      <th>5.0</th>\n",
       "    </tr>\n",
       "  </thead>\n",
       "  <tbody>\n",
       "    <tr>\n",
       "      <th>proportion</th>\n",
       "      <td>0.941730</td>\n",
       "      <td>0.025666</td>\n",
       "      <td>0.015459</td>\n",
       "      <td>0.010009</td>\n",
       "      <td>0.004955</td>\n",
       "      <td>0.002180</td>\n",
       "    </tr>\n",
       "    <tr>\n",
       "      <th>label</th>\n",
       "      <td>0.076081</td>\n",
       "      <td>0.119691</td>\n",
       "      <td>0.108974</td>\n",
       "      <td>0.049505</td>\n",
       "      <td>0.160000</td>\n",
       "      <td>0.090909</td>\n",
       "    </tr>\n",
       "    <tr>\n",
       "      <th>diaghype</th>\n",
       "      <td>0.343285</td>\n",
       "      <td>0.579151</td>\n",
       "      <td>0.410256</td>\n",
       "      <td>0.316832</td>\n",
       "      <td>0.100000</td>\n",
       "      <td>0.272727</td>\n",
       "    </tr>\n",
       "  </tbody>\n",
       "</table>\n",
       "</div>"
      ],
      "text/plain": [
       "race             1.0       2.0       3.0       6.0       4.0       5.0\n",
       "proportion  0.941730  0.025666  0.015459  0.010009  0.004955  0.002180\n",
       "label       0.076081  0.119691  0.108974  0.049505  0.160000  0.090909\n",
       "diaghype    0.343285  0.579151  0.410256  0.316832  0.100000  0.272727"
      ]
     },
     "metadata": {},
     "output_type": "display_data"
    },
    {
     "data": {
      "text/markdown": [
       "##### valid - overall malignancy = 0.0773286467486819"
      ],
      "text/plain": [
       "<IPython.core.display.Markdown object>"
      ]
     },
     "metadata": {},
     "output_type": "display_data"
    },
    {
     "data": {
      "application/vnd.microsoft.datawrangler.viewer.v0+json": {
       "columns": [
        {
         "name": "index",
         "rawType": "object",
         "type": "string"
        },
        {
         "name": "1.0",
         "rawType": "float64",
         "type": "float"
        },
        {
         "name": "3.0",
         "rawType": "float64",
         "type": "float"
        },
        {
         "name": "6.0",
         "rawType": "float64",
         "type": "float"
        },
        {
         "name": "2.0",
         "rawType": "float64",
         "type": "float"
        },
        {
         "name": "4.0",
         "rawType": "float64",
         "type": "float"
        }
       ],
       "conversionMethod": "pd.DataFrame",
       "ref": "598110ef-173c-4645-a6e1-729f7900365e",
       "rows": [
        [
         "proportion",
         "0.9367311072056239",
         "0.025483304042179262",
         "0.01845342706502636",
         "0.016695957820738138",
         "0.0026362038664323375"
        ],
        [
         "label",
         "0.07973733583489681",
         "0.034482758620689655",
         "0.0",
         "0.05263157894736842",
         "0.3333333333333333"
        ],
        [
         "diaghype",
         "0.3433395872420263",
         "0.2413793103448276",
         "0.38095238095238093",
         "0.3684210526315789",
         "1.0"
        ]
       ],
       "shape": {
        "columns": 5,
        "rows": 3
       }
      },
      "text/html": [
       "<div>\n",
       "<style scoped>\n",
       "    .dataframe tbody tr th:only-of-type {\n",
       "        vertical-align: middle;\n",
       "    }\n",
       "\n",
       "    .dataframe tbody tr th {\n",
       "        vertical-align: top;\n",
       "    }\n",
       "\n",
       "    .dataframe thead th {\n",
       "        text-align: right;\n",
       "    }\n",
       "</style>\n",
       "<table border=\"1\" class=\"dataframe\">\n",
       "  <thead>\n",
       "    <tr style=\"text-align: right;\">\n",
       "      <th>race</th>\n",
       "      <th>1.0</th>\n",
       "      <th>3.0</th>\n",
       "      <th>6.0</th>\n",
       "      <th>2.0</th>\n",
       "      <th>4.0</th>\n",
       "    </tr>\n",
       "  </thead>\n",
       "  <tbody>\n",
       "    <tr>\n",
       "      <th>proportion</th>\n",
       "      <td>0.936731</td>\n",
       "      <td>0.025483</td>\n",
       "      <td>0.018453</td>\n",
       "      <td>0.016696</td>\n",
       "      <td>0.002636</td>\n",
       "    </tr>\n",
       "    <tr>\n",
       "      <th>label</th>\n",
       "      <td>0.079737</td>\n",
       "      <td>0.034483</td>\n",
       "      <td>0.000000</td>\n",
       "      <td>0.052632</td>\n",
       "      <td>0.333333</td>\n",
       "    </tr>\n",
       "    <tr>\n",
       "      <th>diaghype</th>\n",
       "      <td>0.343340</td>\n",
       "      <td>0.241379</td>\n",
       "      <td>0.380952</td>\n",
       "      <td>0.368421</td>\n",
       "      <td>1.000000</td>\n",
       "    </tr>\n",
       "  </tbody>\n",
       "</table>\n",
       "</div>"
      ],
      "text/plain": [
       "race             1.0       3.0       6.0       2.0       4.0\n",
       "proportion  0.936731  0.025483  0.018453  0.016696  0.002636\n",
       "label       0.079737  0.034483  0.000000  0.052632  0.333333\n",
       "diaghype    0.343340  0.241379  0.380952  0.368421  1.000000"
      ]
     },
     "metadata": {},
     "output_type": "display_data"
    },
    {
     "data": {
      "text/markdown": [
       "#### Fold 6"
      ],
      "text/plain": [
       "<IPython.core.display.Markdown object>"
      ]
     },
     "metadata": {},
     "output_type": "display_data"
    },
    {
     "data": {
      "text/markdown": [
       "##### train - overall malignancy = 0.07765467202666929"
      ],
      "text/plain": [
       "<IPython.core.display.Markdown object>"
      ]
     },
     "metadata": {},
     "output_type": "display_data"
    },
    {
     "data": {
      "application/vnd.microsoft.datawrangler.viewer.v0+json": {
       "columns": [
        {
         "name": "index",
         "rawType": "object",
         "type": "string"
        },
        {
         "name": "1.0",
         "rawType": "float64",
         "type": "float"
        },
        {
         "name": "2.0",
         "rawType": "float64",
         "type": "float"
        },
        {
         "name": "3.0",
         "rawType": "float64",
         "type": "float"
        },
        {
         "name": "6.0",
         "rawType": "float64",
         "type": "float"
        },
        {
         "name": "4.0",
         "rawType": "float64",
         "type": "float"
        },
        {
         "name": "5.0",
         "rawType": "float64",
         "type": "float"
        }
       ],
       "conversionMethod": "pd.DataFrame",
       "ref": "c7a1188c-093b-4b34-bac8-88e95755226c",
       "rows": [
        [
         "proportion",
         "0.9440731275801062",
         "0.025162178101041873",
         "0.015038333005700805",
         "0.010615293886377039",
         "0.0038333005700805977",
         "0.0012777668566935326"
        ],
        [
         "label",
         "0.07631441957313899",
         "0.11328125",
         "0.0915032679738562",
         "0.046296296296296294",
         "0.23076923076923078",
         "0.15384615384615385"
        ],
        [
         "diaghype",
         "0.3493636553306906",
         "0.546875",
         "0.35294117647058826",
         "0.3611111111111111",
         "0.20512820512820512",
         "0.3076923076923077"
        ]
       ],
       "shape": {
        "columns": 6,
        "rows": 3
       }
      },
      "text/html": [
       "<div>\n",
       "<style scoped>\n",
       "    .dataframe tbody tr th:only-of-type {\n",
       "        vertical-align: middle;\n",
       "    }\n",
       "\n",
       "    .dataframe tbody tr th {\n",
       "        vertical-align: top;\n",
       "    }\n",
       "\n",
       "    .dataframe thead th {\n",
       "        text-align: right;\n",
       "    }\n",
       "</style>\n",
       "<table border=\"1\" class=\"dataframe\">\n",
       "  <thead>\n",
       "    <tr style=\"text-align: right;\">\n",
       "      <th>race</th>\n",
       "      <th>1.0</th>\n",
       "      <th>2.0</th>\n",
       "      <th>3.0</th>\n",
       "      <th>6.0</th>\n",
       "      <th>4.0</th>\n",
       "      <th>5.0</th>\n",
       "    </tr>\n",
       "  </thead>\n",
       "  <tbody>\n",
       "    <tr>\n",
       "      <th>proportion</th>\n",
       "      <td>0.944073</td>\n",
       "      <td>0.025162</td>\n",
       "      <td>0.015038</td>\n",
       "      <td>0.010615</td>\n",
       "      <td>0.003833</td>\n",
       "      <td>0.001278</td>\n",
       "    </tr>\n",
       "    <tr>\n",
       "      <th>label</th>\n",
       "      <td>0.076314</td>\n",
       "      <td>0.113281</td>\n",
       "      <td>0.091503</td>\n",
       "      <td>0.046296</td>\n",
       "      <td>0.230769</td>\n",
       "      <td>0.153846</td>\n",
       "    </tr>\n",
       "    <tr>\n",
       "      <th>diaghype</th>\n",
       "      <td>0.349364</td>\n",
       "      <td>0.546875</td>\n",
       "      <td>0.352941</td>\n",
       "      <td>0.361111</td>\n",
       "      <td>0.205128</td>\n",
       "      <td>0.307692</td>\n",
       "    </tr>\n",
       "  </tbody>\n",
       "</table>\n",
       "</div>"
      ],
      "text/plain": [
       "race             1.0       2.0       3.0       6.0       4.0       5.0\n",
       "proportion  0.944073  0.025162  0.015038  0.010615  0.003833  0.001278\n",
       "label       0.076314  0.113281  0.091503  0.046296  0.230769  0.153846\n",
       "diaghype    0.349364  0.546875  0.352941  0.361111  0.205128  0.307692"
      ]
     },
     "metadata": {},
     "output_type": "display_data"
    },
    {
     "data": {
      "text/markdown": [
       "##### valid - overall malignancy = 0.07772511848341232"
      ],
      "text/plain": [
       "<IPython.core.display.Markdown object>"
      ]
     },
     "metadata": {},
     "output_type": "display_data"
    },
    {
     "data": {
      "application/vnd.microsoft.datawrangler.viewer.v0+json": {
       "columns": [
        {
         "name": "index",
         "rawType": "object",
         "type": "string"
        },
        {
         "name": "1.0",
         "rawType": "float64",
         "type": "float"
        },
        {
         "name": "3.0",
         "rawType": "float64",
         "type": "float"
        },
        {
         "name": "2.0",
         "rawType": "float64",
         "type": "float"
        },
        {
         "name": "6.0",
         "rawType": "float64",
         "type": "float"
        },
        {
         "name": "4.0",
         "rawType": "float64",
         "type": "float"
        },
        {
         "name": "5.0",
         "rawType": "float64",
         "type": "float"
        }
       ],
       "conversionMethod": "pd.DataFrame",
       "ref": "5f3cce94-982d-4f06-ac59-a2a2ed5e03cb",
       "rows": [
        [
         "proportion",
         "0.9137440758293839",
         "0.03033175355450237",
         "0.02085308056872038",
         "0.013270142180094787",
         "0.013270142180094787",
         "0.008530805687203791"
        ],
        [
         "label",
         "0.07780082987551867",
         "0.125",
         "0.13636363636363635",
         "0.0",
         "0.0",
         "0.0"
        ],
        [
         "diaghype",
         "0.28258602711157454",
         "0.53125",
         "0.7727272727272727",
         "0.07142857142857142",
         "0.0",
         "0.2222222222222222"
        ]
       ],
       "shape": {
        "columns": 6,
        "rows": 3
       }
      },
      "text/html": [
       "<div>\n",
       "<style scoped>\n",
       "    .dataframe tbody tr th:only-of-type {\n",
       "        vertical-align: middle;\n",
       "    }\n",
       "\n",
       "    .dataframe tbody tr th {\n",
       "        vertical-align: top;\n",
       "    }\n",
       "\n",
       "    .dataframe thead th {\n",
       "        text-align: right;\n",
       "    }\n",
       "</style>\n",
       "<table border=\"1\" class=\"dataframe\">\n",
       "  <thead>\n",
       "    <tr style=\"text-align: right;\">\n",
       "      <th>race</th>\n",
       "      <th>1.0</th>\n",
       "      <th>3.0</th>\n",
       "      <th>2.0</th>\n",
       "      <th>6.0</th>\n",
       "      <th>4.0</th>\n",
       "      <th>5.0</th>\n",
       "    </tr>\n",
       "  </thead>\n",
       "  <tbody>\n",
       "    <tr>\n",
       "      <th>proportion</th>\n",
       "      <td>0.913744</td>\n",
       "      <td>0.030332</td>\n",
       "      <td>0.020853</td>\n",
       "      <td>0.013270</td>\n",
       "      <td>0.01327</td>\n",
       "      <td>0.008531</td>\n",
       "    </tr>\n",
       "    <tr>\n",
       "      <th>label</th>\n",
       "      <td>0.077801</td>\n",
       "      <td>0.125000</td>\n",
       "      <td>0.136364</td>\n",
       "      <td>0.000000</td>\n",
       "      <td>0.00000</td>\n",
       "      <td>0.000000</td>\n",
       "    </tr>\n",
       "    <tr>\n",
       "      <th>diaghype</th>\n",
       "      <td>0.282586</td>\n",
       "      <td>0.531250</td>\n",
       "      <td>0.772727</td>\n",
       "      <td>0.071429</td>\n",
       "      <td>0.00000</td>\n",
       "      <td>0.222222</td>\n",
       "    </tr>\n",
       "  </tbody>\n",
       "</table>\n",
       "</div>"
      ],
      "text/plain": [
       "race             1.0       3.0       2.0       6.0      4.0       5.0\n",
       "proportion  0.913744  0.030332  0.020853  0.013270  0.01327  0.008531\n",
       "label       0.077801  0.125000  0.136364  0.000000  0.00000  0.000000\n",
       "diaghype    0.282586  0.531250  0.772727  0.071429  0.00000  0.222222"
      ]
     },
     "metadata": {},
     "output_type": "display_data"
    },
    {
     "data": {
      "text/markdown": [
       "#### Fold 7"
      ],
      "text/plain": [
       "<IPython.core.display.Markdown object>"
      ]
     },
     "metadata": {},
     "output_type": "display_data"
    },
    {
     "data": {
      "text/markdown": [
       "##### train - overall malignancy = 0.077500988533017"
      ],
      "text/plain": [
       "<IPython.core.display.Markdown object>"
      ]
     },
     "metadata": {},
     "output_type": "display_data"
    },
    {
     "data": {
      "application/vnd.microsoft.datawrangler.viewer.v0+json": {
       "columns": [
        {
         "name": "index",
         "rawType": "object",
         "type": "string"
        },
        {
         "name": "1.0",
         "rawType": "float64",
         "type": "float"
        },
        {
         "name": "2.0",
         "rawType": "float64",
         "type": "float"
        },
        {
         "name": "3.0",
         "rawType": "float64",
         "type": "float"
        },
        {
         "name": "6.0",
         "rawType": "float64",
         "type": "float"
        },
        {
         "name": "4.0",
         "rawType": "float64",
         "type": "float"
        },
        {
         "name": "5.0",
         "rawType": "float64",
         "type": "float"
        }
       ],
       "conversionMethod": "pd.DataFrame",
       "ref": "29e1543c-995a-4cca-8793-c6b8fd06f61e",
       "rows": [
        [
         "proportion",
         "0.9400455851749083",
         "0.02338717669210187",
         "0.017837677138043802",
         "0.012089981171340799",
         "0.0044594192845109504",
         "0.0021801605390942423"
        ],
        [
         "label",
         "0.07621758380771664",
         "0.11440677966101695",
         "0.1",
         "0.040983606557377046",
         "0.2",
         "0.09090909090909091"
        ],
        [
         "diaghype",
         "0.34009508716323295",
         "0.5932203389830508",
         "0.39444444444444443",
         "0.32786885245901637",
         "0.17777777777777778",
         "0.2727272727272727"
        ]
       ],
       "shape": {
        "columns": 6,
        "rows": 3
       }
      },
      "text/html": [
       "<div>\n",
       "<style scoped>\n",
       "    .dataframe tbody tr th:only-of-type {\n",
       "        vertical-align: middle;\n",
       "    }\n",
       "\n",
       "    .dataframe tbody tr th {\n",
       "        vertical-align: top;\n",
       "    }\n",
       "\n",
       "    .dataframe thead th {\n",
       "        text-align: right;\n",
       "    }\n",
       "</style>\n",
       "<table border=\"1\" class=\"dataframe\">\n",
       "  <thead>\n",
       "    <tr style=\"text-align: right;\">\n",
       "      <th>race</th>\n",
       "      <th>1.0</th>\n",
       "      <th>2.0</th>\n",
       "      <th>3.0</th>\n",
       "      <th>6.0</th>\n",
       "      <th>4.0</th>\n",
       "      <th>5.0</th>\n",
       "    </tr>\n",
       "  </thead>\n",
       "  <tbody>\n",
       "    <tr>\n",
       "      <th>proportion</th>\n",
       "      <td>0.940046</td>\n",
       "      <td>0.023387</td>\n",
       "      <td>0.017838</td>\n",
       "      <td>0.012090</td>\n",
       "      <td>0.004459</td>\n",
       "      <td>0.002180</td>\n",
       "    </tr>\n",
       "    <tr>\n",
       "      <th>label</th>\n",
       "      <td>0.076218</td>\n",
       "      <td>0.114407</td>\n",
       "      <td>0.100000</td>\n",
       "      <td>0.040984</td>\n",
       "      <td>0.200000</td>\n",
       "      <td>0.090909</td>\n",
       "    </tr>\n",
       "    <tr>\n",
       "      <th>diaghype</th>\n",
       "      <td>0.340095</td>\n",
       "      <td>0.593220</td>\n",
       "      <td>0.394444</td>\n",
       "      <td>0.327869</td>\n",
       "      <td>0.177778</td>\n",
       "      <td>0.272727</td>\n",
       "    </tr>\n",
       "  </tbody>\n",
       "</table>\n",
       "</div>"
      ],
      "text/plain": [
       "race             1.0       2.0       3.0       6.0       4.0       5.0\n",
       "proportion  0.940046  0.023387  0.017838  0.012090  0.004459  0.002180\n",
       "label       0.076218  0.114407  0.100000  0.040984  0.200000  0.090909\n",
       "diaghype    0.340095  0.593220  0.394444  0.327869  0.177778  0.272727"
      ]
     },
     "metadata": {},
     "output_type": "display_data"
    },
    {
     "data": {
      "text/markdown": [
       "##### valid - overall malignancy = 0.07908611599297012"
      ],
      "text/plain": [
       "<IPython.core.display.Markdown object>"
      ]
     },
     "metadata": {},
     "output_type": "display_data"
    },
    {
     "data": {
      "application/vnd.microsoft.datawrangler.viewer.v0+json": {
       "columns": [
        {
         "name": "index",
         "rawType": "object",
         "type": "string"
        },
        {
         "name": "1.0",
         "rawType": "float64",
         "type": "float"
        },
        {
         "name": "2.0",
         "rawType": "float64",
         "type": "float"
        },
        {
         "name": "4.0",
         "rawType": "float64",
         "type": "float"
        },
        {
         "name": "3.0",
         "rawType": "float64",
         "type": "float"
        }
       ],
       "conversionMethod": "pd.DataFrame",
       "ref": "1126a1fe-9695-477d-8626-db250f4bf254",
       "rows": [
        [
         "proportion",
         "0.9516695957820738",
         "0.03690685413005272",
         "0.007029876977152899",
         "0.004393673110720563"
        ],
        [
         "label",
         "0.07848568790397045",
         "0.11904761904761904",
         "0.0",
         "0.0"
        ],
        [
         "diaghype",
         "0.3712962962962963",
         "0.40476190476190477",
         "0.0",
         "0.0"
        ]
       ],
       "shape": {
        "columns": 4,
        "rows": 3
       }
      },
      "text/html": [
       "<div>\n",
       "<style scoped>\n",
       "    .dataframe tbody tr th:only-of-type {\n",
       "        vertical-align: middle;\n",
       "    }\n",
       "\n",
       "    .dataframe tbody tr th {\n",
       "        vertical-align: top;\n",
       "    }\n",
       "\n",
       "    .dataframe thead th {\n",
       "        text-align: right;\n",
       "    }\n",
       "</style>\n",
       "<table border=\"1\" class=\"dataframe\">\n",
       "  <thead>\n",
       "    <tr style=\"text-align: right;\">\n",
       "      <th>race</th>\n",
       "      <th>1.0</th>\n",
       "      <th>2.0</th>\n",
       "      <th>4.0</th>\n",
       "      <th>3.0</th>\n",
       "    </tr>\n",
       "  </thead>\n",
       "  <tbody>\n",
       "    <tr>\n",
       "      <th>proportion</th>\n",
       "      <td>0.951670</td>\n",
       "      <td>0.036907</td>\n",
       "      <td>0.00703</td>\n",
       "      <td>0.004394</td>\n",
       "    </tr>\n",
       "    <tr>\n",
       "      <th>label</th>\n",
       "      <td>0.078486</td>\n",
       "      <td>0.119048</td>\n",
       "      <td>0.00000</td>\n",
       "      <td>0.000000</td>\n",
       "    </tr>\n",
       "    <tr>\n",
       "      <th>diaghype</th>\n",
       "      <td>0.371296</td>\n",
       "      <td>0.404762</td>\n",
       "      <td>0.00000</td>\n",
       "      <td>0.000000</td>\n",
       "    </tr>\n",
       "  </tbody>\n",
       "</table>\n",
       "</div>"
      ],
      "text/plain": [
       "race             1.0       2.0      4.0       3.0\n",
       "proportion  0.951670  0.036907  0.00703  0.004394\n",
       "label       0.078486  0.119048  0.00000  0.000000\n",
       "diaghype    0.371296  0.404762  0.00000  0.000000"
      ]
     },
     "metadata": {},
     "output_type": "display_data"
    },
    {
     "data": {
      "text/markdown": [
       "#### Fold 8"
      ],
      "text/plain": [
       "<IPython.core.display.Markdown object>"
      ]
     },
     "metadata": {},
     "output_type": "display_data"
    },
    {
     "data": {
      "text/markdown": [
       "##### train - overall malignancy = 0.07644567037730272"
      ],
      "text/plain": [
       "<IPython.core.display.Markdown object>"
      ]
     },
     "metadata": {},
     "output_type": "display_data"
    },
    {
     "data": {
      "application/vnd.microsoft.datawrangler.viewer.v0+json": {
       "columns": [
        {
         "name": "index",
         "rawType": "object",
         "type": "string"
        },
        {
         "name": "1.0",
         "rawType": "float64",
         "type": "float"
        },
        {
         "name": "2.0",
         "rawType": "float64",
         "type": "float"
        },
        {
         "name": "3.0",
         "rawType": "float64",
         "type": "float"
        },
        {
         "name": "6.0",
         "rawType": "float64",
         "type": "float"
        },
        {
         "name": "4.0",
         "rawType": "float64",
         "type": "float"
        },
        {
         "name": "5.0",
         "rawType": "float64",
         "type": "float"
        }
       ],
       "conversionMethod": "pd.DataFrame",
       "ref": "0f7cc9a8-19af-49fa-9773-50b06f7bc513",
       "rows": [
        [
         "proportion",
         "0.939672195892575",
         "0.023992890995260665",
         "0.01796998420221169",
         "0.010959715639810427",
         "0.00523301737756714",
         "0.0021721958925750395"
        ],
        [
         "label",
         "0.07523379216139539",
         "0.10699588477366255",
         "0.0989010989010989",
         "0.04504504504504504",
         "0.16981132075471697",
         "0.09090909090909091"
        ],
        [
         "diaghype",
         "0.3422797600252605",
         "0.5720164609053497",
         "0.37362637362637363",
         "0.3063063063063063",
         "0.1509433962264151",
         "0.2727272727272727"
        ]
       ],
       "shape": {
        "columns": 6,
        "rows": 3
       }
      },
      "text/html": [
       "<div>\n",
       "<style scoped>\n",
       "    .dataframe tbody tr th:only-of-type {\n",
       "        vertical-align: middle;\n",
       "    }\n",
       "\n",
       "    .dataframe tbody tr th {\n",
       "        vertical-align: top;\n",
       "    }\n",
       "\n",
       "    .dataframe thead th {\n",
       "        text-align: right;\n",
       "    }\n",
       "</style>\n",
       "<table border=\"1\" class=\"dataframe\">\n",
       "  <thead>\n",
       "    <tr style=\"text-align: right;\">\n",
       "      <th>race</th>\n",
       "      <th>1.0</th>\n",
       "      <th>2.0</th>\n",
       "      <th>3.0</th>\n",
       "      <th>6.0</th>\n",
       "      <th>4.0</th>\n",
       "      <th>5.0</th>\n",
       "    </tr>\n",
       "  </thead>\n",
       "  <tbody>\n",
       "    <tr>\n",
       "      <th>proportion</th>\n",
       "      <td>0.939672</td>\n",
       "      <td>0.023993</td>\n",
       "      <td>0.017970</td>\n",
       "      <td>0.010960</td>\n",
       "      <td>0.005233</td>\n",
       "      <td>0.002172</td>\n",
       "    </tr>\n",
       "    <tr>\n",
       "      <th>label</th>\n",
       "      <td>0.075234</td>\n",
       "      <td>0.106996</td>\n",
       "      <td>0.098901</td>\n",
       "      <td>0.045045</td>\n",
       "      <td>0.169811</td>\n",
       "      <td>0.090909</td>\n",
       "    </tr>\n",
       "    <tr>\n",
       "      <th>diaghype</th>\n",
       "      <td>0.342280</td>\n",
       "      <td>0.572016</td>\n",
       "      <td>0.373626</td>\n",
       "      <td>0.306306</td>\n",
       "      <td>0.150943</td>\n",
       "      <td>0.272727</td>\n",
       "    </tr>\n",
       "  </tbody>\n",
       "</table>\n",
       "</div>"
      ],
      "text/plain": [
       "race             1.0       2.0       3.0       6.0       4.0       5.0\n",
       "proportion  0.939672  0.023993  0.017970  0.010960  0.005233  0.002172\n",
       "label       0.075234  0.106996  0.098901  0.045045  0.169811  0.090909\n",
       "diaghype    0.342280  0.572016  0.373626  0.306306  0.150943  0.272727"
      ]
     },
     "metadata": {},
     "output_type": "display_data"
    },
    {
     "data": {
      "text/markdown": [
       "##### valid - overall malignancy = 0.08884859474161379"
      ],
      "text/plain": [
       "<IPython.core.display.Markdown object>"
      ]
     },
     "metadata": {},
     "output_type": "display_data"
    },
    {
     "data": {
      "application/vnd.microsoft.datawrangler.viewer.v0+json": {
       "columns": [
        {
         "name": "index",
         "rawType": "object",
         "type": "string"
        },
        {
         "name": "1.0",
         "rawType": "float64",
         "type": "float"
        },
        {
         "name": "2.0",
         "rawType": "float64",
         "type": "float"
        },
        {
         "name": "6.0",
         "rawType": "float64",
         "type": "float"
        },
        {
         "name": "3.0",
         "rawType": "float64",
         "type": "float"
        }
       ],
       "conversionMethod": "pd.DataFrame",
       "ref": "1192964f-da77-4adf-ba7d-92c57e78a433",
       "rows": [
        [
         "proportion",
         "0.9554950045413261",
         "0.03178928247048138",
         "0.009990917347865577",
         "0.0027247956403269754"
        ],
        [
         "label",
         "0.08745247148288973",
         "0.17142857142857143",
         "0.0",
         "0.0"
        ],
        [
         "diaghype",
         "0.3524904214559387",
         "0.5142857142857142",
         "0.5454545454545454",
         "1.0"
        ]
       ],
       "shape": {
        "columns": 4,
        "rows": 3
       }
      },
      "text/html": [
       "<div>\n",
       "<style scoped>\n",
       "    .dataframe tbody tr th:only-of-type {\n",
       "        vertical-align: middle;\n",
       "    }\n",
       "\n",
       "    .dataframe tbody tr th {\n",
       "        vertical-align: top;\n",
       "    }\n",
       "\n",
       "    .dataframe thead th {\n",
       "        text-align: right;\n",
       "    }\n",
       "</style>\n",
       "<table border=\"1\" class=\"dataframe\">\n",
       "  <thead>\n",
       "    <tr style=\"text-align: right;\">\n",
       "      <th>race</th>\n",
       "      <th>1.0</th>\n",
       "      <th>2.0</th>\n",
       "      <th>6.0</th>\n",
       "      <th>3.0</th>\n",
       "    </tr>\n",
       "  </thead>\n",
       "  <tbody>\n",
       "    <tr>\n",
       "      <th>proportion</th>\n",
       "      <td>0.955495</td>\n",
       "      <td>0.031789</td>\n",
       "      <td>0.009991</td>\n",
       "      <td>0.002725</td>\n",
       "    </tr>\n",
       "    <tr>\n",
       "      <th>label</th>\n",
       "      <td>0.087452</td>\n",
       "      <td>0.171429</td>\n",
       "      <td>0.000000</td>\n",
       "      <td>0.000000</td>\n",
       "    </tr>\n",
       "    <tr>\n",
       "      <th>diaghype</th>\n",
       "      <td>0.352490</td>\n",
       "      <td>0.514286</td>\n",
       "      <td>0.545455</td>\n",
       "      <td>1.000000</td>\n",
       "    </tr>\n",
       "  </tbody>\n",
       "</table>\n",
       "</div>"
      ],
      "text/plain": [
       "race             1.0       2.0       6.0       3.0\n",
       "proportion  0.955495  0.031789  0.009991  0.002725\n",
       "label       0.087452  0.171429  0.000000  0.000000\n",
       "diaghype    0.352490  0.514286  0.545455  1.000000"
      ]
     },
     "metadata": {},
     "output_type": "display_data"
    },
    {
     "data": {
      "text/markdown": [
       "#### Fold 9"
      ],
      "text/plain": [
       "<IPython.core.display.Markdown object>"
      ]
     },
     "metadata": {},
     "output_type": "display_data"
    },
    {
     "data": {
      "text/markdown": [
       "##### train - overall malignancy = 0.07694578372527797"
      ],
      "text/plain": [
       "<IPython.core.display.Markdown object>"
      ]
     },
     "metadata": {},
     "output_type": "display_data"
    },
    {
     "data": {
      "application/vnd.microsoft.datawrangler.viewer.v0+json": {
       "columns": [
        {
         "name": "index",
         "rawType": "object",
         "type": "string"
        },
        {
         "name": "1.0",
         "rawType": "float64",
         "type": "float"
        },
        {
         "name": "2.0",
         "rawType": "float64",
         "type": "float"
        },
        {
         "name": "3.0",
         "rawType": "float64",
         "type": "float"
        },
        {
         "name": "6.0",
         "rawType": "float64",
         "type": "float"
        },
        {
         "name": "4.0",
         "rawType": "float64",
         "type": "float"
        },
        {
         "name": "5.0",
         "rawType": "float64",
         "type": "float"
        }
       ],
       "conversionMethod": "pd.DataFrame",
       "ref": "351e8827-d4f9-4ede-979f-6056f5bc1b38",
       "rows": [
        [
         "proportion",
         "0.9392445014301213",
         "0.02327645724430417",
         "0.018246375382187593",
         "0.011934115790511885",
         "0.005128710918236513",
         "0.0021698392346385246"
        ],
        [
         "label",
         "0.07581644439777381",
         "0.11016949152542373",
         "0.0972972972972973",
         "0.04132231404958678",
         "0.17307692307692307",
         "0.09090909090909091"
        ],
        [
         "diaghype",
         "0.34332597033764595",
         "0.576271186440678",
         "0.3837837837837838",
         "0.3305785123966942",
         "0.15384615384615385",
         "0.2727272727272727"
        ]
       ],
       "shape": {
        "columns": 6,
        "rows": 3
       }
      },
      "text/html": [
       "<div>\n",
       "<style scoped>\n",
       "    .dataframe tbody tr th:only-of-type {\n",
       "        vertical-align: middle;\n",
       "    }\n",
       "\n",
       "    .dataframe tbody tr th {\n",
       "        vertical-align: top;\n",
       "    }\n",
       "\n",
       "    .dataframe thead th {\n",
       "        text-align: right;\n",
       "    }\n",
       "</style>\n",
       "<table border=\"1\" class=\"dataframe\">\n",
       "  <thead>\n",
       "    <tr style=\"text-align: right;\">\n",
       "      <th>race</th>\n",
       "      <th>1.0</th>\n",
       "      <th>2.0</th>\n",
       "      <th>3.0</th>\n",
       "      <th>6.0</th>\n",
       "      <th>4.0</th>\n",
       "      <th>5.0</th>\n",
       "    </tr>\n",
       "  </thead>\n",
       "  <tbody>\n",
       "    <tr>\n",
       "      <th>proportion</th>\n",
       "      <td>0.939245</td>\n",
       "      <td>0.023276</td>\n",
       "      <td>0.018246</td>\n",
       "      <td>0.011934</td>\n",
       "      <td>0.005129</td>\n",
       "      <td>0.002170</td>\n",
       "    </tr>\n",
       "    <tr>\n",
       "      <th>label</th>\n",
       "      <td>0.075816</td>\n",
       "      <td>0.110169</td>\n",
       "      <td>0.097297</td>\n",
       "      <td>0.041322</td>\n",
       "      <td>0.173077</td>\n",
       "      <td>0.090909</td>\n",
       "    </tr>\n",
       "    <tr>\n",
       "      <th>diaghype</th>\n",
       "      <td>0.343326</td>\n",
       "      <td>0.576271</td>\n",
       "      <td>0.383784</td>\n",
       "      <td>0.330579</td>\n",
       "      <td>0.153846</td>\n",
       "      <td>0.272727</td>\n",
       "    </tr>\n",
       "  </tbody>\n",
       "</table>\n",
       "</div>"
      ],
      "text/plain": [
       "race             1.0       2.0       3.0       6.0       4.0       5.0\n",
       "proportion  0.939245  0.023276  0.018246  0.011934  0.005129  0.002170\n",
       "label       0.075816  0.110169  0.097297  0.041322  0.173077  0.090909\n",
       "diaghype    0.343326  0.576271  0.383784  0.330579  0.153846  0.272727"
      ]
     },
     "metadata": {},
     "output_type": "display_data"
    },
    {
     "data": {
      "text/markdown": [
       "##### valid - overall malignancy = 0.0843263061411549"
      ],
      "text/plain": [
       "<IPython.core.display.Markdown object>"
      ]
     },
     "metadata": {},
     "output_type": "display_data"
    },
    {
     "data": {
      "application/vnd.microsoft.datawrangler.viewer.v0+json": {
       "columns": [
        {
         "name": "index",
         "rawType": "object",
         "type": "string"
        },
        {
         "name": "1.0",
         "rawType": "float64",
         "type": "float"
        },
        {
         "name": "2.0",
         "rawType": "float64",
         "type": "float"
        },
        {
         "name": "6.0",
         "rawType": "float64",
         "type": "float"
        },
        {
         "name": "4.0",
         "rawType": "float64",
         "type": "float"
        }
       ],
       "conversionMethod": "pd.DataFrame",
       "ref": "deac46b3-ae78-4955-b7ba-211f52cd02c8",
       "rows": [
        [
         "proportion",
         "0.9596330275229358",
         "0.03853211009174312",
         "0.0009174311926605505",
         "0.0009174311926605505"
        ],
        [
         "label",
         "0.08221797323135756",
         "0.14285714285714285",
         "0.0",
         "0.0"
        ],
        [
         "diaghype",
         "0.34296724470134876",
         "0.5",
         "0.0",
         "0.0"
        ]
       ],
       "shape": {
        "columns": 4,
        "rows": 3
       }
      },
      "text/html": [
       "<div>\n",
       "<style scoped>\n",
       "    .dataframe tbody tr th:only-of-type {\n",
       "        vertical-align: middle;\n",
       "    }\n",
       "\n",
       "    .dataframe tbody tr th {\n",
       "        vertical-align: top;\n",
       "    }\n",
       "\n",
       "    .dataframe thead th {\n",
       "        text-align: right;\n",
       "    }\n",
       "</style>\n",
       "<table border=\"1\" class=\"dataframe\">\n",
       "  <thead>\n",
       "    <tr style=\"text-align: right;\">\n",
       "      <th>race</th>\n",
       "      <th>1.0</th>\n",
       "      <th>2.0</th>\n",
       "      <th>6.0</th>\n",
       "      <th>4.0</th>\n",
       "    </tr>\n",
       "  </thead>\n",
       "  <tbody>\n",
       "    <tr>\n",
       "      <th>proportion</th>\n",
       "      <td>0.959633</td>\n",
       "      <td>0.038532</td>\n",
       "      <td>0.000917</td>\n",
       "      <td>0.000917</td>\n",
       "    </tr>\n",
       "    <tr>\n",
       "      <th>label</th>\n",
       "      <td>0.082218</td>\n",
       "      <td>0.142857</td>\n",
       "      <td>0.000000</td>\n",
       "      <td>0.000000</td>\n",
       "    </tr>\n",
       "    <tr>\n",
       "      <th>diaghype</th>\n",
       "      <td>0.342967</td>\n",
       "      <td>0.500000</td>\n",
       "      <td>0.000000</td>\n",
       "      <td>0.000000</td>\n",
       "    </tr>\n",
       "  </tbody>\n",
       "</table>\n",
       "</div>"
      ],
      "text/plain": [
       "race             1.0       2.0       6.0       4.0\n",
       "proportion  0.959633  0.038532  0.000917  0.000917\n",
       "label       0.082218  0.142857  0.000000  0.000000\n",
       "diaghype    0.342967  0.500000  0.000000  0.000000"
      ]
     },
     "metadata": {},
     "output_type": "display_data"
    }
   ],
   "source": [
    "analyze_race_and_malignancy('70')"
   ]
  },
  {
   "cell_type": "markdown",
   "metadata": {},
   "source": [
    "## 80% subset"
   ]
  },
  {
   "cell_type": "code",
   "execution_count": 28,
   "metadata": {},
   "outputs": [
    {
     "data": {
      "text/markdown": [
       "### Overall dataset:"
      ],
      "text/plain": [
       "<IPython.core.display.Markdown object>"
      ]
     },
     "metadata": {},
     "output_type": "display_data"
    },
    {
     "data": {
      "application/vnd.microsoft.datawrangler.viewer.v0+json": {
       "columns": [
        {
         "name": "index",
         "rawType": "object",
         "type": "string"
        },
        {
         "name": "1.0",
         "rawType": "float64",
         "type": "float"
        },
        {
         "name": "2.0",
         "rawType": "float64",
         "type": "float"
        },
        {
         "name": "3.0",
         "rawType": "float64",
         "type": "float"
        },
        {
         "name": "6.0",
         "rawType": "float64",
         "type": "float"
        },
        {
         "name": "4.0",
         "rawType": "float64",
         "type": "float"
        },
        {
         "name": "5.0",
         "rawType": "float64",
         "type": "float"
        }
       ],
       "conversionMethod": "pd.DataFrame",
       "ref": "c72ce824-1d6e-41a4-8125-26d1b31de60e",
       "rows": [
        [
         "proportion",
         "0.9367009666354849",
         "0.029544745868412846",
         "0.01520112254443405",
         "0.012238852510134082",
         "0.004365450576863112",
         "0.0019488618646710321"
        ],
        [
         "label",
         "0.07681424766977364",
         "0.10290237467018469",
         "0.09743589743589744",
         "0.03821656050955414",
         "0.16071428571428573",
         "0.08"
        ],
        [
         "diaghype",
         "0.33964309539693127",
         "0.5408970976253298",
         "0.4",
         "0.3184713375796178",
         "0.19642857142857142",
         "0.24"
        ]
       ],
       "shape": {
        "columns": 6,
        "rows": 3
       }
      },
      "text/html": [
       "<div>\n",
       "<style scoped>\n",
       "    .dataframe tbody tr th:only-of-type {\n",
       "        vertical-align: middle;\n",
       "    }\n",
       "\n",
       "    .dataframe tbody tr th {\n",
       "        vertical-align: top;\n",
       "    }\n",
       "\n",
       "    .dataframe thead th {\n",
       "        text-align: right;\n",
       "    }\n",
       "</style>\n",
       "<table border=\"1\" class=\"dataframe\">\n",
       "  <thead>\n",
       "    <tr style=\"text-align: right;\">\n",
       "      <th>race</th>\n",
       "      <th>1.0</th>\n",
       "      <th>2.0</th>\n",
       "      <th>3.0</th>\n",
       "      <th>6.0</th>\n",
       "      <th>4.0</th>\n",
       "      <th>5.0</th>\n",
       "    </tr>\n",
       "  </thead>\n",
       "  <tbody>\n",
       "    <tr>\n",
       "      <th>proportion</th>\n",
       "      <td>0.936701</td>\n",
       "      <td>0.029545</td>\n",
       "      <td>0.015201</td>\n",
       "      <td>0.012239</td>\n",
       "      <td>0.004365</td>\n",
       "      <td>0.001949</td>\n",
       "    </tr>\n",
       "    <tr>\n",
       "      <th>label</th>\n",
       "      <td>0.076814</td>\n",
       "      <td>0.102902</td>\n",
       "      <td>0.097436</td>\n",
       "      <td>0.038217</td>\n",
       "      <td>0.160714</td>\n",
       "      <td>0.080000</td>\n",
       "    </tr>\n",
       "    <tr>\n",
       "      <th>diaghype</th>\n",
       "      <td>0.339643</td>\n",
       "      <td>0.540897</td>\n",
       "      <td>0.400000</td>\n",
       "      <td>0.318471</td>\n",
       "      <td>0.196429</td>\n",
       "      <td>0.240000</td>\n",
       "    </tr>\n",
       "  </tbody>\n",
       "</table>\n",
       "</div>"
      ],
      "text/plain": [
       "race             1.0       2.0       3.0       6.0       4.0       5.0\n",
       "proportion  0.936701  0.029545  0.015201  0.012239  0.004365  0.001949\n",
       "label       0.076814  0.102902  0.097436  0.038217  0.160714  0.080000\n",
       "diaghype    0.339643  0.540897  0.400000  0.318471  0.196429  0.240000"
      ]
     },
     "metadata": {},
     "output_type": "display_data"
    },
    {
     "data": {
      "text/markdown": [
       "#### Fold 0"
      ],
      "text/plain": [
       "<IPython.core.display.Markdown object>"
      ]
     },
     "metadata": {},
     "output_type": "display_data"
    },
    {
     "data": {
      "text/markdown": [
       "##### train - overall malignancy = 0.07686328698505916"
      ],
      "text/plain": [
       "<IPython.core.display.Markdown object>"
      ]
     },
     "metadata": {},
     "output_type": "display_data"
    },
    {
     "data": {
      "application/vnd.microsoft.datawrangler.viewer.v0+json": {
       "columns": [
        {
         "name": "index",
         "rawType": "object",
         "type": "string"
        },
        {
         "name": "1.0",
         "rawType": "float64",
         "type": "float"
        },
        {
         "name": "2.0",
         "rawType": "float64",
         "type": "float"
        },
        {
         "name": "3.0",
         "rawType": "float64",
         "type": "float"
        },
        {
         "name": "6.0",
         "rawType": "float64",
         "type": "float"
        },
        {
         "name": "4.0",
         "rawType": "float64",
         "type": "float"
        },
        {
         "name": "5.0",
         "rawType": "float64",
         "type": "float"
        }
       ],
       "conversionMethod": "pd.DataFrame",
       "ref": "b3ab03e6-391d-4213-95ac-3d131cf4ed30",
       "rows": [
        [
         "proportion",
         "0.9368785127539991",
         "0.030263726761781237",
         "0.01461305663640294",
         "0.012364894076956333",
         "0.00432338953739732",
         "0.0015564202334630351"
        ],
        [
         "label",
         "0.07632671896631288",
         "0.1",
         "0.09467455621301775",
         "0.04195804195804196",
         "0.06",
         "0.1111111111111111"
        ],
        [
         "diaghype",
         "0.3384515770974008",
         "0.54",
         "0.38461538461538464",
         "0.27972027972027974",
         "0.22",
         "0.3333333333333333"
        ]
       ],
       "shape": {
        "columns": 6,
        "rows": 3
       }
      },
      "text/html": [
       "<div>\n",
       "<style scoped>\n",
       "    .dataframe tbody tr th:only-of-type {\n",
       "        vertical-align: middle;\n",
       "    }\n",
       "\n",
       "    .dataframe tbody tr th {\n",
       "        vertical-align: top;\n",
       "    }\n",
       "\n",
       "    .dataframe thead th {\n",
       "        text-align: right;\n",
       "    }\n",
       "</style>\n",
       "<table border=\"1\" class=\"dataframe\">\n",
       "  <thead>\n",
       "    <tr style=\"text-align: right;\">\n",
       "      <th>race</th>\n",
       "      <th>1.0</th>\n",
       "      <th>2.0</th>\n",
       "      <th>3.0</th>\n",
       "      <th>6.0</th>\n",
       "      <th>4.0</th>\n",
       "      <th>5.0</th>\n",
       "    </tr>\n",
       "  </thead>\n",
       "  <tbody>\n",
       "    <tr>\n",
       "      <th>proportion</th>\n",
       "      <td>0.936879</td>\n",
       "      <td>0.030264</td>\n",
       "      <td>0.014613</td>\n",
       "      <td>0.012365</td>\n",
       "      <td>0.004323</td>\n",
       "      <td>0.001556</td>\n",
       "    </tr>\n",
       "    <tr>\n",
       "      <th>label</th>\n",
       "      <td>0.076327</td>\n",
       "      <td>0.100000</td>\n",
       "      <td>0.094675</td>\n",
       "      <td>0.041958</td>\n",
       "      <td>0.060000</td>\n",
       "      <td>0.111111</td>\n",
       "    </tr>\n",
       "    <tr>\n",
       "      <th>diaghype</th>\n",
       "      <td>0.338452</td>\n",
       "      <td>0.540000</td>\n",
       "      <td>0.384615</td>\n",
       "      <td>0.279720</td>\n",
       "      <td>0.220000</td>\n",
       "      <td>0.333333</td>\n",
       "    </tr>\n",
       "  </tbody>\n",
       "</table>\n",
       "</div>"
      ],
      "text/plain": [
       "race             1.0       2.0       3.0       6.0       4.0       5.0\n",
       "proportion  0.936879  0.030264  0.014613  0.012365  0.004323  0.001556\n",
       "label       0.076327  0.100000  0.094675  0.041958  0.060000  0.111111\n",
       "diaghype    0.338452  0.540000  0.384615  0.279720  0.220000  0.333333"
      ]
     },
     "metadata": {},
     "output_type": "display_data"
    },
    {
     "data": {
      "text/markdown": [
       "##### valid - overall malignancy = 0.08502340093603744"
      ],
      "text/plain": [
       "<IPython.core.display.Markdown object>"
      ]
     },
     "metadata": {},
     "output_type": "display_data"
    },
    {
     "data": {
      "application/vnd.microsoft.datawrangler.viewer.v0+json": {
       "columns": [
        {
         "name": "index",
         "rawType": "object",
         "type": "string"
        },
        {
         "name": "1.0",
         "rawType": "float64",
         "type": "float"
        },
        {
         "name": "2.0",
         "rawType": "float64",
         "type": "float"
        },
        {
         "name": "3.0",
         "rawType": "float64",
         "type": "float"
        },
        {
         "name": "6.0",
         "rawType": "float64",
         "type": "float"
        },
        {
         "name": "5.0",
         "rawType": "float64",
         "type": "float"
        },
        {
         "name": "4.0",
         "rawType": "float64",
         "type": "float"
        }
       ],
       "conversionMethod": "pd.DataFrame",
       "ref": "640f430c-60a8-4643-b6be-0e51925bd9f9",
       "rows": [
        [
         "proportion",
         "0.9350752177355502",
         "0.022961203483768806",
         "0.02058590657165479",
         "0.011084718923198733",
         "0.0055423594615993665",
         "0.004750593824228029"
        ],
        [
         "label",
         "0.08128704487722269",
         "0.13793103448275862",
         "0.11538461538461539",
         "0.0",
         "0.0",
         "1.0"
        ],
        [
         "diaghype",
         "0.3505503810330229",
         "0.5517241379310345",
         "0.5",
         "0.7142857142857143",
         "0.0",
         "0.0"
        ]
       ],
       "shape": {
        "columns": 6,
        "rows": 3
       }
      },
      "text/html": [
       "<div>\n",
       "<style scoped>\n",
       "    .dataframe tbody tr th:only-of-type {\n",
       "        vertical-align: middle;\n",
       "    }\n",
       "\n",
       "    .dataframe tbody tr th {\n",
       "        vertical-align: top;\n",
       "    }\n",
       "\n",
       "    .dataframe thead th {\n",
       "        text-align: right;\n",
       "    }\n",
       "</style>\n",
       "<table border=\"1\" class=\"dataframe\">\n",
       "  <thead>\n",
       "    <tr style=\"text-align: right;\">\n",
       "      <th>race</th>\n",
       "      <th>1.0</th>\n",
       "      <th>2.0</th>\n",
       "      <th>3.0</th>\n",
       "      <th>6.0</th>\n",
       "      <th>5.0</th>\n",
       "      <th>4.0</th>\n",
       "    </tr>\n",
       "  </thead>\n",
       "  <tbody>\n",
       "    <tr>\n",
       "      <th>proportion</th>\n",
       "      <td>0.935075</td>\n",
       "      <td>0.022961</td>\n",
       "      <td>0.020586</td>\n",
       "      <td>0.011085</td>\n",
       "      <td>0.005542</td>\n",
       "      <td>0.004751</td>\n",
       "    </tr>\n",
       "    <tr>\n",
       "      <th>label</th>\n",
       "      <td>0.081287</td>\n",
       "      <td>0.137931</td>\n",
       "      <td>0.115385</td>\n",
       "      <td>0.000000</td>\n",
       "      <td>0.000000</td>\n",
       "      <td>1.000000</td>\n",
       "    </tr>\n",
       "    <tr>\n",
       "      <th>diaghype</th>\n",
       "      <td>0.350550</td>\n",
       "      <td>0.551724</td>\n",
       "      <td>0.500000</td>\n",
       "      <td>0.714286</td>\n",
       "      <td>0.000000</td>\n",
       "      <td>0.000000</td>\n",
       "    </tr>\n",
       "  </tbody>\n",
       "</table>\n",
       "</div>"
      ],
      "text/plain": [
       "race             1.0       2.0       3.0       6.0       5.0       4.0\n",
       "proportion  0.935075  0.022961  0.020586  0.011085  0.005542  0.004751\n",
       "label       0.081287  0.137931  0.115385  0.000000  0.000000  1.000000\n",
       "diaghype    0.350550  0.551724  0.500000  0.714286  0.000000  0.000000"
      ]
     },
     "metadata": {},
     "output_type": "display_data"
    },
    {
     "data": {
      "text/markdown": [
       "#### Fold 1"
      ],
      "text/plain": [
       "<IPython.core.display.Markdown object>"
      ]
     },
     "metadata": {},
     "output_type": "display_data"
    },
    {
     "data": {
      "text/markdown": [
       "##### train - overall malignancy = 0.07810466024472794"
      ],
      "text/plain": [
       "<IPython.core.display.Markdown object>"
      ]
     },
     "metadata": {},
     "output_type": "display_data"
    },
    {
     "data": {
      "application/vnd.microsoft.datawrangler.viewer.v0+json": {
       "columns": [
        {
         "name": "index",
         "rawType": "object",
         "type": "string"
        },
        {
         "name": "1.0",
         "rawType": "float64",
         "type": "float"
        },
        {
         "name": "2.0",
         "rawType": "float64",
         "type": "float"
        },
        {
         "name": "3.0",
         "rawType": "float64",
         "type": "float"
        },
        {
         "name": "6.0",
         "rawType": "float64",
         "type": "float"
        },
        {
         "name": "4.0",
         "rawType": "float64",
         "type": "float"
        },
        {
         "name": "5.0",
         "rawType": "float64",
         "type": "float"
        }
       ],
       "conversionMethod": "pd.DataFrame",
       "ref": "494b58e6-7022-4a78-87cf-3540f7d19028",
       "rows": [
        [
         "proportion",
         "0.9373586218896816",
         "0.0282756220636854",
         "0.015486340699495388",
         "0.012441273708021576",
         "0.004611101444231773",
         "0.0018270401948842874"
        ],
        [
         "label",
         "0.07713012808613329",
         "0.11076923076923077",
         "0.0898876404494382",
         "0.04195804195804196",
         "0.16981132075471697",
         "0.047619047619047616"
        ],
        [
         "diaghype",
         "0.34344186046511627",
         "0.5107692307692308",
         "0.4044943820224719",
         "0.32867132867132864",
         "0.20754716981132076",
         "0.23809523809523808"
        ]
       ],
       "shape": {
        "columns": 6,
        "rows": 3
       }
      },
      "text/html": [
       "<div>\n",
       "<style scoped>\n",
       "    .dataframe tbody tr th:only-of-type {\n",
       "        vertical-align: middle;\n",
       "    }\n",
       "\n",
       "    .dataframe tbody tr th {\n",
       "        vertical-align: top;\n",
       "    }\n",
       "\n",
       "    .dataframe thead th {\n",
       "        text-align: right;\n",
       "    }\n",
       "</style>\n",
       "<table border=\"1\" class=\"dataframe\">\n",
       "  <thead>\n",
       "    <tr style=\"text-align: right;\">\n",
       "      <th>race</th>\n",
       "      <th>1.0</th>\n",
       "      <th>2.0</th>\n",
       "      <th>3.0</th>\n",
       "      <th>6.0</th>\n",
       "      <th>4.0</th>\n",
       "      <th>5.0</th>\n",
       "    </tr>\n",
       "  </thead>\n",
       "  <tbody>\n",
       "    <tr>\n",
       "      <th>proportion</th>\n",
       "      <td>0.937359</td>\n",
       "      <td>0.028276</td>\n",
       "      <td>0.015486</td>\n",
       "      <td>0.012441</td>\n",
       "      <td>0.004611</td>\n",
       "      <td>0.001827</td>\n",
       "    </tr>\n",
       "    <tr>\n",
       "      <th>label</th>\n",
       "      <td>0.077130</td>\n",
       "      <td>0.110769</td>\n",
       "      <td>0.089888</td>\n",
       "      <td>0.041958</td>\n",
       "      <td>0.169811</td>\n",
       "      <td>0.047619</td>\n",
       "    </tr>\n",
       "    <tr>\n",
       "      <th>diaghype</th>\n",
       "      <td>0.343442</td>\n",
       "      <td>0.510769</td>\n",
       "      <td>0.404494</td>\n",
       "      <td>0.328671</td>\n",
       "      <td>0.207547</td>\n",
       "      <td>0.238095</td>\n",
       "    </tr>\n",
       "  </tbody>\n",
       "</table>\n",
       "</div>"
      ],
      "text/plain": [
       "race             1.0       2.0       3.0       6.0       4.0       5.0\n",
       "proportion  0.937359  0.028276  0.015486  0.012441  0.004611  0.001827\n",
       "label       0.077130  0.110769  0.089888  0.041958  0.169811  0.047619\n",
       "diaghype    0.343442  0.510769  0.404494  0.328671  0.207547  0.238095"
      ]
     },
     "metadata": {},
     "output_type": "display_data"
    },
    {
     "data": {
      "text/markdown": [
       "##### valid - overall malignancy = 0.07399103139013453"
      ],
      "text/plain": [
       "<IPython.core.display.Markdown object>"
      ]
     },
     "metadata": {},
     "output_type": "display_data"
    },
    {
     "data": {
      "application/vnd.microsoft.datawrangler.viewer.v0+json": {
       "columns": [
        {
         "name": "index",
         "rawType": "object",
         "type": "string"
        },
        {
         "name": "1.0",
         "rawType": "float64",
         "type": "float"
        },
        {
         "name": "2.0",
         "rawType": "float64",
         "type": "float"
        },
        {
         "name": "3.0",
         "rawType": "float64",
         "type": "float"
        },
        {
         "name": "6.0",
         "rawType": "float64",
         "type": "float"
        },
        {
         "name": "5.0",
         "rawType": "float64",
         "type": "float"
        },
        {
         "name": "4.0",
         "rawType": "float64",
         "type": "float"
        }
       ],
       "conversionMethod": "pd.DataFrame",
       "ref": "1631cc5d-cc22-4789-85fc-d6ab3405a2a9",
       "rows": [
        [
         "proportion",
         "0.9310344827586207",
         "0.04047976011994003",
         "0.012743628185907047",
         "0.010494752623688156",
         "0.0029985007496251873",
         "0.0022488755622188904"
        ],
        [
         "label",
         "0.07407407407407407",
         "0.05555555555555555",
         "0.17647058823529413",
         "0.0",
         "0.25",
         "0.0"
        ],
        [
         "diaghype",
         "0.30676328502415456",
         "0.7222222222222222",
         "0.35294117647058826",
         "0.21428571428571427",
         "0.25",
         "0.0"
        ]
       ],
       "shape": {
        "columns": 6,
        "rows": 3
       }
      },
      "text/html": [
       "<div>\n",
       "<style scoped>\n",
       "    .dataframe tbody tr th:only-of-type {\n",
       "        vertical-align: middle;\n",
       "    }\n",
       "\n",
       "    .dataframe tbody tr th {\n",
       "        vertical-align: top;\n",
       "    }\n",
       "\n",
       "    .dataframe thead th {\n",
       "        text-align: right;\n",
       "    }\n",
       "</style>\n",
       "<table border=\"1\" class=\"dataframe\">\n",
       "  <thead>\n",
       "    <tr style=\"text-align: right;\">\n",
       "      <th>race</th>\n",
       "      <th>1.0</th>\n",
       "      <th>2.0</th>\n",
       "      <th>3.0</th>\n",
       "      <th>6.0</th>\n",
       "      <th>5.0</th>\n",
       "      <th>4.0</th>\n",
       "    </tr>\n",
       "  </thead>\n",
       "  <tbody>\n",
       "    <tr>\n",
       "      <th>proportion</th>\n",
       "      <td>0.931034</td>\n",
       "      <td>0.040480</td>\n",
       "      <td>0.012744</td>\n",
       "      <td>0.010495</td>\n",
       "      <td>0.002999</td>\n",
       "      <td>0.002249</td>\n",
       "    </tr>\n",
       "    <tr>\n",
       "      <th>label</th>\n",
       "      <td>0.074074</td>\n",
       "      <td>0.055556</td>\n",
       "      <td>0.176471</td>\n",
       "      <td>0.000000</td>\n",
       "      <td>0.250000</td>\n",
       "      <td>0.000000</td>\n",
       "    </tr>\n",
       "    <tr>\n",
       "      <th>diaghype</th>\n",
       "      <td>0.306763</td>\n",
       "      <td>0.722222</td>\n",
       "      <td>0.352941</td>\n",
       "      <td>0.214286</td>\n",
       "      <td>0.250000</td>\n",
       "      <td>0.000000</td>\n",
       "    </tr>\n",
       "  </tbody>\n",
       "</table>\n",
       "</div>"
      ],
      "text/plain": [
       "race             1.0       2.0       3.0       6.0       5.0       4.0\n",
       "proportion  0.931034  0.040480  0.012744  0.010495  0.002999  0.002249\n",
       "label       0.074074  0.055556  0.176471  0.000000  0.250000  0.000000\n",
       "diaghype    0.306763  0.722222  0.352941  0.214286  0.250000  0.000000"
      ]
     },
     "metadata": {},
     "output_type": "display_data"
    },
    {
     "data": {
      "text/markdown": [
       "#### Fold 2"
      ],
      "text/plain": [
       "<IPython.core.display.Markdown object>"
      ]
     },
     "metadata": {},
     "output_type": "display_data"
    },
    {
     "data": {
      "text/markdown": [
       "##### train - overall malignancy = 0.07769510295898945"
      ],
      "text/plain": [
       "<IPython.core.display.Markdown object>"
      ]
     },
     "metadata": {},
     "output_type": "display_data"
    },
    {
     "data": {
      "application/vnd.microsoft.datawrangler.viewer.v0+json": {
       "columns": [
        {
         "name": "index",
         "rawType": "object",
         "type": "string"
        },
        {
         "name": "1.0",
         "rawType": "float64",
         "type": "float"
        },
        {
         "name": "2.0",
         "rawType": "float64",
         "type": "float"
        },
        {
         "name": "3.0",
         "rawType": "float64",
         "type": "float"
        },
        {
         "name": "6.0",
         "rawType": "float64",
         "type": "float"
        },
        {
         "name": "4.0",
         "rawType": "float64",
         "type": "float"
        },
        {
         "name": "5.0",
         "rawType": "float64",
         "type": "float"
        }
       ],
       "conversionMethod": "pd.DataFrame",
       "ref": "02417173-0a1a-4563-b68b-dbd02d151ef7",
       "rows": [
        [
         "proportion",
         "0.9356293918625835",
         "0.03131777565715277",
         "0.015355252884531968",
         "0.01171163355599896",
         "0.0038171250108441053",
         "0.002168821028888696"
        ],
        [
         "label",
         "0.07705146036161335",
         "0.10249307479224377",
         "0.0847457627118644",
         "0.037037037037037035",
         "0.1590909090909091",
         "0.08"
        ],
        [
         "diaghype",
         "0.3411392993216244",
         "0.5318559556786704",
         "0.4124293785310734",
         "0.2962962962962963",
         "0.20454545454545456",
         "0.24"
        ]
       ],
       "shape": {
        "columns": 6,
        "rows": 3
       }
      },
      "text/html": [
       "<div>\n",
       "<style scoped>\n",
       "    .dataframe tbody tr th:only-of-type {\n",
       "        vertical-align: middle;\n",
       "    }\n",
       "\n",
       "    .dataframe tbody tr th {\n",
       "        vertical-align: top;\n",
       "    }\n",
       "\n",
       "    .dataframe thead th {\n",
       "        text-align: right;\n",
       "    }\n",
       "</style>\n",
       "<table border=\"1\" class=\"dataframe\">\n",
       "  <thead>\n",
       "    <tr style=\"text-align: right;\">\n",
       "      <th>race</th>\n",
       "      <th>1.0</th>\n",
       "      <th>2.0</th>\n",
       "      <th>3.0</th>\n",
       "      <th>6.0</th>\n",
       "      <th>4.0</th>\n",
       "      <th>5.0</th>\n",
       "    </tr>\n",
       "  </thead>\n",
       "  <tbody>\n",
       "    <tr>\n",
       "      <th>proportion</th>\n",
       "      <td>0.935629</td>\n",
       "      <td>0.031318</td>\n",
       "      <td>0.015355</td>\n",
       "      <td>0.011712</td>\n",
       "      <td>0.003817</td>\n",
       "      <td>0.002169</td>\n",
       "    </tr>\n",
       "    <tr>\n",
       "      <th>label</th>\n",
       "      <td>0.077051</td>\n",
       "      <td>0.102493</td>\n",
       "      <td>0.084746</td>\n",
       "      <td>0.037037</td>\n",
       "      <td>0.159091</td>\n",
       "      <td>0.080000</td>\n",
       "    </tr>\n",
       "    <tr>\n",
       "      <th>diaghype</th>\n",
       "      <td>0.341139</td>\n",
       "      <td>0.531856</td>\n",
       "      <td>0.412429</td>\n",
       "      <td>0.296296</td>\n",
       "      <td>0.204545</td>\n",
       "      <td>0.240000</td>\n",
       "    </tr>\n",
       "  </tbody>\n",
       "</table>\n",
       "</div>"
      ],
      "text/plain": [
       "race             1.0       2.0       3.0       6.0       4.0       5.0\n",
       "proportion  0.935629  0.031318  0.015355  0.011712  0.003817  0.002169\n",
       "label       0.077051  0.102493  0.084746  0.037037  0.159091  0.080000\n",
       "diaghype    0.341139  0.531856  0.412429  0.296296  0.204545  0.240000"
      ]
     },
     "metadata": {},
     "output_type": "display_data"
    },
    {
     "data": {
      "text/markdown": [
       "##### valid - overall malignancy = 0.07751343054489639"
      ],
      "text/plain": [
       "<IPython.core.display.Markdown object>"
      ]
     },
     "metadata": {},
     "output_type": "display_data"
    },
    {
     "data": {
      "application/vnd.microsoft.datawrangler.viewer.v0+json": {
       "columns": [
        {
         "name": "index",
         "rawType": "object",
         "type": "string"
        },
        {
         "name": "1.0",
         "rawType": "float64",
         "type": "float"
        },
        {
         "name": "6.0",
         "rawType": "float64",
         "type": "float"
        },
        {
         "name": "2.0",
         "rawType": "float64",
         "type": "float"
        },
        {
         "name": "3.0",
         "rawType": "float64",
         "type": "float"
        },
        {
         "name": "4.0",
         "rawType": "float64",
         "type": "float"
        }
       ],
       "conversionMethod": "pd.DataFrame",
       "ref": "e41ef3a6-4ac3-4431-b495-25f7f5c83336",
       "rows": [
        [
         "proportion",
         "0.9461952344350499",
         "0.016910069177555727",
         "0.013835511145272867",
         "0.013835511145272867",
         "0.009223674096848577"
        ],
        [
         "label",
         "0.07473598700243704",
         "0.045454545454545456",
         "0.1111111111111111",
         "0.2222222222222222",
         "0.16666666666666666"
        ],
        [
         "diaghype",
         "0.32656376929325753",
         "0.45454545454545453",
         "0.7222222222222222",
         "0.2777777777777778",
         "0.16666666666666666"
        ]
       ],
       "shape": {
        "columns": 5,
        "rows": 3
       }
      },
      "text/html": [
       "<div>\n",
       "<style scoped>\n",
       "    .dataframe tbody tr th:only-of-type {\n",
       "        vertical-align: middle;\n",
       "    }\n",
       "\n",
       "    .dataframe tbody tr th {\n",
       "        vertical-align: top;\n",
       "    }\n",
       "\n",
       "    .dataframe thead th {\n",
       "        text-align: right;\n",
       "    }\n",
       "</style>\n",
       "<table border=\"1\" class=\"dataframe\">\n",
       "  <thead>\n",
       "    <tr style=\"text-align: right;\">\n",
       "      <th>race</th>\n",
       "      <th>1.0</th>\n",
       "      <th>6.0</th>\n",
       "      <th>2.0</th>\n",
       "      <th>3.0</th>\n",
       "      <th>4.0</th>\n",
       "    </tr>\n",
       "  </thead>\n",
       "  <tbody>\n",
       "    <tr>\n",
       "      <th>proportion</th>\n",
       "      <td>0.946195</td>\n",
       "      <td>0.016910</td>\n",
       "      <td>0.013836</td>\n",
       "      <td>0.013836</td>\n",
       "      <td>0.009224</td>\n",
       "    </tr>\n",
       "    <tr>\n",
       "      <th>label</th>\n",
       "      <td>0.074736</td>\n",
       "      <td>0.045455</td>\n",
       "      <td>0.111111</td>\n",
       "      <td>0.222222</td>\n",
       "      <td>0.166667</td>\n",
       "    </tr>\n",
       "    <tr>\n",
       "      <th>diaghype</th>\n",
       "      <td>0.326564</td>\n",
       "      <td>0.454545</td>\n",
       "      <td>0.722222</td>\n",
       "      <td>0.277778</td>\n",
       "      <td>0.166667</td>\n",
       "    </tr>\n",
       "  </tbody>\n",
       "</table>\n",
       "</div>"
      ],
      "text/plain": [
       "race             1.0       6.0       2.0       3.0       4.0\n",
       "proportion  0.946195  0.016910  0.013836  0.013836  0.009224\n",
       "label       0.074736  0.045455  0.111111  0.222222  0.166667\n",
       "diaghype    0.326564  0.454545  0.722222  0.277778  0.166667"
      ]
     },
     "metadata": {},
     "output_type": "display_data"
    },
    {
     "data": {
      "text/markdown": [
       "#### Fold 3"
      ],
      "text/plain": [
       "<IPython.core.display.Markdown object>"
      ]
     },
     "metadata": {},
     "output_type": "display_data"
    },
    {
     "data": {
      "text/markdown": [
       "##### train - overall malignancy = 0.07858563153799603"
      ],
      "text/plain": [
       "<IPython.core.display.Markdown object>"
      ]
     },
     "metadata": {},
     "output_type": "display_data"
    },
    {
     "data": {
      "application/vnd.microsoft.datawrangler.viewer.v0+json": {
       "columns": [
        {
         "name": "index",
         "rawType": "object",
         "type": "string"
        },
        {
         "name": "1.0",
         "rawType": "float64",
         "type": "float"
        },
        {
         "name": "2.0",
         "rawType": "float64",
         "type": "float"
        },
        {
         "name": "3.0",
         "rawType": "float64",
         "type": "float"
        },
        {
         "name": "6.0",
         "rawType": "float64",
         "type": "float"
        },
        {
         "name": "4.0",
         "rawType": "float64",
         "type": "float"
        },
        {
         "name": "5.0",
         "rawType": "float64",
         "type": "float"
        }
       ],
       "conversionMethod": "pd.DataFrame",
       "ref": "d88e3558-af35-49e8-9d37-10fd631daa15",
       "rows": [
        [
         "proportion",
         "0.9390550498482878",
         "0.02869527524924144",
         "0.014477676636324231",
         "0.011009969657563935",
         "0.004594711746857391",
         "0.002167316861725184"
        ],
        [
         "label",
         "0.07791728212703102",
         "0.09969788519637462",
         "0.09580838323353294",
         "0.031496062992125984",
         "0.16981132075471697",
         "0.08"
        ],
        [
         "diaghype",
         "0.3343819393042191",
         "0.5740181268882175",
         "0.3652694610778443",
         "0.3858267716535433",
         "0.1509433962264151",
         "0.24"
        ]
       ],
       "shape": {
        "columns": 6,
        "rows": 3
       }
      },
      "text/html": [
       "<div>\n",
       "<style scoped>\n",
       "    .dataframe tbody tr th:only-of-type {\n",
       "        vertical-align: middle;\n",
       "    }\n",
       "\n",
       "    .dataframe tbody tr th {\n",
       "        vertical-align: top;\n",
       "    }\n",
       "\n",
       "    .dataframe thead th {\n",
       "        text-align: right;\n",
       "    }\n",
       "</style>\n",
       "<table border=\"1\" class=\"dataframe\">\n",
       "  <thead>\n",
       "    <tr style=\"text-align: right;\">\n",
       "      <th>race</th>\n",
       "      <th>1.0</th>\n",
       "      <th>2.0</th>\n",
       "      <th>3.0</th>\n",
       "      <th>6.0</th>\n",
       "      <th>4.0</th>\n",
       "      <th>5.0</th>\n",
       "    </tr>\n",
       "  </thead>\n",
       "  <tbody>\n",
       "    <tr>\n",
       "      <th>proportion</th>\n",
       "      <td>0.939055</td>\n",
       "      <td>0.028695</td>\n",
       "      <td>0.014478</td>\n",
       "      <td>0.011010</td>\n",
       "      <td>0.004595</td>\n",
       "      <td>0.002167</td>\n",
       "    </tr>\n",
       "    <tr>\n",
       "      <th>label</th>\n",
       "      <td>0.077917</td>\n",
       "      <td>0.099698</td>\n",
       "      <td>0.095808</td>\n",
       "      <td>0.031496</td>\n",
       "      <td>0.169811</td>\n",
       "      <td>0.080000</td>\n",
       "    </tr>\n",
       "    <tr>\n",
       "      <th>diaghype</th>\n",
       "      <td>0.334382</td>\n",
       "      <td>0.574018</td>\n",
       "      <td>0.365269</td>\n",
       "      <td>0.385827</td>\n",
       "      <td>0.150943</td>\n",
       "      <td>0.240000</td>\n",
       "    </tr>\n",
       "  </tbody>\n",
       "</table>\n",
       "</div>"
      ],
      "text/plain": [
       "race             1.0       2.0       3.0       6.0       4.0       5.0\n",
       "proportion  0.939055  0.028695  0.014478  0.011010  0.004595  0.002167\n",
       "label       0.077917  0.099698  0.095808  0.031496  0.169811  0.080000\n",
       "diaghype    0.334382  0.574018  0.365269  0.385827  0.150943  0.240000"
      ]
     },
     "metadata": {},
     "output_type": "display_data"
    },
    {
     "data": {
      "text/markdown": [
       "##### valid - overall malignancy = 0.0695517774343122"
      ],
      "text/plain": [
       "<IPython.core.display.Markdown object>"
      ]
     },
     "metadata": {},
     "output_type": "display_data"
    },
    {
     "data": {
      "application/vnd.microsoft.datawrangler.viewer.v0+json": {
       "columns": [
        {
         "name": "index",
         "rawType": "object",
         "type": "string"
        },
        {
         "name": "1.0",
         "rawType": "float64",
         "type": "float"
        },
        {
         "name": "2.0",
         "rawType": "float64",
         "type": "float"
        },
        {
         "name": "6.0",
         "rawType": "float64",
         "type": "float"
        },
        {
         "name": "3.0",
         "rawType": "float64",
         "type": "float"
        },
        {
         "name": "4.0",
         "rawType": "float64",
         "type": "float"
        }
       ],
       "conversionMethod": "pd.DataFrame",
       "ref": "4093fc39-4138-4f93-b328-d84209fa7904",
       "rows": [
        [
         "proportion",
         "0.9156999226604795",
         "0.037122969837587005",
         "0.02320185614849188",
         "0.02165506573859242",
         "0.002320185614849188"
        ],
        [
         "label",
         "0.06672297297297297",
         "0.125",
         "0.06666666666666667",
         "0.10714285714285714",
         "0.0"
        ],
        [
         "diaghype",
         "0.3876689189189189",
         "0.3125",
         "0.03333333333333333",
         "0.6071428571428571",
         "1.0"
        ]
       ],
       "shape": {
        "columns": 5,
        "rows": 3
       }
      },
      "text/html": [
       "<div>\n",
       "<style scoped>\n",
       "    .dataframe tbody tr th:only-of-type {\n",
       "        vertical-align: middle;\n",
       "    }\n",
       "\n",
       "    .dataframe tbody tr th {\n",
       "        vertical-align: top;\n",
       "    }\n",
       "\n",
       "    .dataframe thead th {\n",
       "        text-align: right;\n",
       "    }\n",
       "</style>\n",
       "<table border=\"1\" class=\"dataframe\">\n",
       "  <thead>\n",
       "    <tr style=\"text-align: right;\">\n",
       "      <th>race</th>\n",
       "      <th>1.0</th>\n",
       "      <th>2.0</th>\n",
       "      <th>6.0</th>\n",
       "      <th>3.0</th>\n",
       "      <th>4.0</th>\n",
       "    </tr>\n",
       "  </thead>\n",
       "  <tbody>\n",
       "    <tr>\n",
       "      <th>proportion</th>\n",
       "      <td>0.915700</td>\n",
       "      <td>0.037123</td>\n",
       "      <td>0.023202</td>\n",
       "      <td>0.021655</td>\n",
       "      <td>0.00232</td>\n",
       "    </tr>\n",
       "    <tr>\n",
       "      <th>label</th>\n",
       "      <td>0.066723</td>\n",
       "      <td>0.125000</td>\n",
       "      <td>0.066667</td>\n",
       "      <td>0.107143</td>\n",
       "      <td>0.00000</td>\n",
       "    </tr>\n",
       "    <tr>\n",
       "      <th>diaghype</th>\n",
       "      <td>0.387669</td>\n",
       "      <td>0.312500</td>\n",
       "      <td>0.033333</td>\n",
       "      <td>0.607143</td>\n",
       "      <td>1.00000</td>\n",
       "    </tr>\n",
       "  </tbody>\n",
       "</table>\n",
       "</div>"
      ],
      "text/plain": [
       "race             1.0       2.0       6.0       3.0      4.0\n",
       "proportion  0.915700  0.037123  0.023202  0.021655  0.00232\n",
       "label       0.066723  0.125000  0.066667  0.107143  0.00000\n",
       "diaghype    0.387669  0.312500  0.033333  0.607143  1.00000"
      ]
     },
     "metadata": {},
     "output_type": "display_data"
    },
    {
     "data": {
      "text/markdown": [
       "#### Fold 4"
      ],
      "text/plain": [
       "<IPython.core.display.Markdown object>"
      ]
     },
     "metadata": {},
     "output_type": "display_data"
    },
    {
     "data": {
      "text/markdown": [
       "##### train - overall malignancy = 0.07857453281182095"
      ],
      "text/plain": [
       "<IPython.core.display.Markdown object>"
      ]
     },
     "metadata": {},
     "output_type": "display_data"
    },
    {
     "data": {
      "application/vnd.microsoft.datawrangler.viewer.v0+json": {
       "columns": [
        {
         "name": "index",
         "rawType": "object",
         "type": "string"
        },
        {
         "name": "1.0",
         "rawType": "float64",
         "type": "float"
        },
        {
         "name": "2.0",
         "rawType": "float64",
         "type": "float"
        },
        {
         "name": "3.0",
         "rawType": "float64",
         "type": "float"
        },
        {
         "name": "6.0",
         "rawType": "float64",
         "type": "float"
        },
        {
         "name": "4.0",
         "rawType": "float64",
         "type": "float"
        },
        {
         "name": "5.0",
         "rawType": "float64",
         "type": "float"
        }
       ],
       "conversionMethod": "pd.DataFrame",
       "ref": "933c0dec-1329-4a4a-850b-fd17cfcd85e6",
       "rows": [
        [
         "proportion",
         "0.938197350069735",
         "0.029898884239888426",
         "0.014295676429567642",
         "0.011244769874476987",
         "0.004619944211994421",
         "0.0017433751743375174"
        ],
        [
         "label",
         "0.0773947784075072",
         "0.11370262390670553",
         "0.10975609756097561",
         "0.023255813953488372",
         "0.16981132075471697",
         "0.05"
        ],
        [
         "diaghype",
         "0.34025514479932956",
         "0.5247813411078717",
         "0.43902439024390244",
         "0.3178294573643411",
         "0.20754716981132076",
         "0.15"
        ]
       ],
       "shape": {
        "columns": 6,
        "rows": 3
       }
      },
      "text/html": [
       "<div>\n",
       "<style scoped>\n",
       "    .dataframe tbody tr th:only-of-type {\n",
       "        vertical-align: middle;\n",
       "    }\n",
       "\n",
       "    .dataframe tbody tr th {\n",
       "        vertical-align: top;\n",
       "    }\n",
       "\n",
       "    .dataframe thead th {\n",
       "        text-align: right;\n",
       "    }\n",
       "</style>\n",
       "<table border=\"1\" class=\"dataframe\">\n",
       "  <thead>\n",
       "    <tr style=\"text-align: right;\">\n",
       "      <th>race</th>\n",
       "      <th>1.0</th>\n",
       "      <th>2.0</th>\n",
       "      <th>3.0</th>\n",
       "      <th>6.0</th>\n",
       "      <th>4.0</th>\n",
       "      <th>5.0</th>\n",
       "    </tr>\n",
       "  </thead>\n",
       "  <tbody>\n",
       "    <tr>\n",
       "      <th>proportion</th>\n",
       "      <td>0.938197</td>\n",
       "      <td>0.029899</td>\n",
       "      <td>0.014296</td>\n",
       "      <td>0.011245</td>\n",
       "      <td>0.004620</td>\n",
       "      <td>0.001743</td>\n",
       "    </tr>\n",
       "    <tr>\n",
       "      <th>label</th>\n",
       "      <td>0.077395</td>\n",
       "      <td>0.113703</td>\n",
       "      <td>0.109756</td>\n",
       "      <td>0.023256</td>\n",
       "      <td>0.169811</td>\n",
       "      <td>0.050000</td>\n",
       "    </tr>\n",
       "    <tr>\n",
       "      <th>diaghype</th>\n",
       "      <td>0.340255</td>\n",
       "      <td>0.524781</td>\n",
       "      <td>0.439024</td>\n",
       "      <td>0.317829</td>\n",
       "      <td>0.207547</td>\n",
       "      <td>0.150000</td>\n",
       "    </tr>\n",
       "  </tbody>\n",
       "</table>\n",
       "</div>"
      ],
      "text/plain": [
       "race             1.0       2.0       3.0       6.0       4.0       5.0\n",
       "proportion  0.938197  0.029899  0.014296  0.011245  0.004620  0.001743\n",
       "label       0.077395  0.113703  0.109756  0.023256  0.169811  0.050000\n",
       "diaghype    0.340255  0.524781  0.439024  0.317829  0.207547  0.150000"
      ]
     },
     "metadata": {},
     "output_type": "display_data"
    },
    {
     "data": {
      "text/markdown": [
       "##### valid - overall malignancy = 0.0700589970501475"
      ],
      "text/plain": [
       "<IPython.core.display.Markdown object>"
      ]
     },
     "metadata": {},
     "output_type": "display_data"
    },
    {
     "data": {
      "application/vnd.microsoft.datawrangler.viewer.v0+json": {
       "columns": [
        {
         "name": "index",
         "rawType": "object",
         "type": "string"
        },
        {
         "name": "1.0",
         "rawType": "float64",
         "type": "float"
        },
        {
         "name": "2.0",
         "rawType": "float64",
         "type": "float"
        },
        {
         "name": "3.0",
         "rawType": "float64",
         "type": "float"
        },
        {
         "name": "6.0",
         "rawType": "float64",
         "type": "float"
        },
        {
         "name": "5.0",
         "rawType": "float64",
         "type": "float"
        },
        {
         "name": "4.0",
         "rawType": "float64",
         "type": "float"
        }
       ],
       "conversionMethod": "pd.DataFrame",
       "ref": "d76d58f4-9577-44dd-a3e5-ed6f68f75c3c",
       "rows": [
        [
         "proportion",
         "0.9240412979351033",
         "0.02654867256637168",
         "0.022861356932153392",
         "0.02064896755162242",
         "0.003687315634218289",
         "0.0022123893805309734"
        ],
        [
         "label",
         "0.07182761372705507",
         "0.0",
         "0.03225806451612903",
         "0.10714285714285714",
         "0.2",
         "0.0"
        ],
        [
         "diaghype",
         "0.3343974461292897",
         "0.6944444444444444",
         "0.1935483870967742",
         "0.32142857142857145",
         "0.6",
         "0.0"
        ]
       ],
       "shape": {
        "columns": 6,
        "rows": 3
       }
      },
      "text/html": [
       "<div>\n",
       "<style scoped>\n",
       "    .dataframe tbody tr th:only-of-type {\n",
       "        vertical-align: middle;\n",
       "    }\n",
       "\n",
       "    .dataframe tbody tr th {\n",
       "        vertical-align: top;\n",
       "    }\n",
       "\n",
       "    .dataframe thead th {\n",
       "        text-align: right;\n",
       "    }\n",
       "</style>\n",
       "<table border=\"1\" class=\"dataframe\">\n",
       "  <thead>\n",
       "    <tr style=\"text-align: right;\">\n",
       "      <th>race</th>\n",
       "      <th>1.0</th>\n",
       "      <th>2.0</th>\n",
       "      <th>3.0</th>\n",
       "      <th>6.0</th>\n",
       "      <th>5.0</th>\n",
       "      <th>4.0</th>\n",
       "    </tr>\n",
       "  </thead>\n",
       "  <tbody>\n",
       "    <tr>\n",
       "      <th>proportion</th>\n",
       "      <td>0.924041</td>\n",
       "      <td>0.026549</td>\n",
       "      <td>0.022861</td>\n",
       "      <td>0.020649</td>\n",
       "      <td>0.003687</td>\n",
       "      <td>0.002212</td>\n",
       "    </tr>\n",
       "    <tr>\n",
       "      <th>label</th>\n",
       "      <td>0.071828</td>\n",
       "      <td>0.000000</td>\n",
       "      <td>0.032258</td>\n",
       "      <td>0.107143</td>\n",
       "      <td>0.200000</td>\n",
       "      <td>0.000000</td>\n",
       "    </tr>\n",
       "    <tr>\n",
       "      <th>diaghype</th>\n",
       "      <td>0.334397</td>\n",
       "      <td>0.694444</td>\n",
       "      <td>0.193548</td>\n",
       "      <td>0.321429</td>\n",
       "      <td>0.600000</td>\n",
       "      <td>0.000000</td>\n",
       "    </tr>\n",
       "  </tbody>\n",
       "</table>\n",
       "</div>"
      ],
      "text/plain": [
       "race             1.0       2.0       3.0       6.0       5.0       4.0\n",
       "proportion  0.924041  0.026549  0.022861  0.020649  0.003687  0.002212\n",
       "label       0.071828  0.000000  0.032258  0.107143  0.200000  0.000000\n",
       "diaghype    0.334397  0.694444  0.193548  0.321429  0.600000  0.000000"
      ]
     },
     "metadata": {},
     "output_type": "display_data"
    },
    {
     "data": {
      "text/markdown": [
       "#### Fold 5"
      ],
      "text/plain": [
       "<IPython.core.display.Markdown object>"
      ]
     },
     "metadata": {},
     "output_type": "display_data"
    },
    {
     "data": {
      "text/markdown": [
       "##### train - overall malignancy = 0.07736093143596377"
      ],
      "text/plain": [
       "<IPython.core.display.Markdown object>"
      ]
     },
     "metadata": {},
     "output_type": "display_data"
    },
    {
     "data": {
      "application/vnd.microsoft.datawrangler.viewer.v0+json": {
       "columns": [
        {
         "name": "index",
         "rawType": "object",
         "type": "string"
        },
        {
         "name": "1.0",
         "rawType": "float64",
         "type": "float"
        },
        {
         "name": "2.0",
         "rawType": "float64",
         "type": "float"
        },
        {
         "name": "3.0",
         "rawType": "float64",
         "type": "float"
        },
        {
         "name": "6.0",
         "rawType": "float64",
         "type": "float"
        },
        {
         "name": "4.0",
         "rawType": "float64",
         "type": "float"
        },
        {
         "name": "5.0",
         "rawType": "float64",
         "type": "float"
        }
       ],
       "conversionMethod": "pd.DataFrame",
       "ref": "df0422a0-0137-400b-96ec-33abe11bf4b8",
       "rows": [
        [
         "proportion",
         "0.936948624805397",
         "0.030531049991350978",
         "0.014184397163120567",
         "0.011589690364988756",
         "0.004583982010032866",
         "0.0021622556651098427"
        ],
        [
         "label",
         "0.07615618942121297",
         "0.10198300283286119",
         "0.11585365853658537",
         "0.04477611940298507",
         "0.1509433962264151",
         "0.08"
        ],
        [
         "diaghype",
         "0.33925432509945413",
         "0.546742209631728",
         "0.4146341463414634",
         "0.29850746268656714",
         "0.1509433962264151",
         "0.24"
        ]
       ],
       "shape": {
        "columns": 6,
        "rows": 3
       }
      },
      "text/html": [
       "<div>\n",
       "<style scoped>\n",
       "    .dataframe tbody tr th:only-of-type {\n",
       "        vertical-align: middle;\n",
       "    }\n",
       "\n",
       "    .dataframe tbody tr th {\n",
       "        vertical-align: top;\n",
       "    }\n",
       "\n",
       "    .dataframe thead th {\n",
       "        text-align: right;\n",
       "    }\n",
       "</style>\n",
       "<table border=\"1\" class=\"dataframe\">\n",
       "  <thead>\n",
       "    <tr style=\"text-align: right;\">\n",
       "      <th>race</th>\n",
       "      <th>1.0</th>\n",
       "      <th>2.0</th>\n",
       "      <th>3.0</th>\n",
       "      <th>6.0</th>\n",
       "      <th>4.0</th>\n",
       "      <th>5.0</th>\n",
       "    </tr>\n",
       "  </thead>\n",
       "  <tbody>\n",
       "    <tr>\n",
       "      <th>proportion</th>\n",
       "      <td>0.936949</td>\n",
       "      <td>0.030531</td>\n",
       "      <td>0.014184</td>\n",
       "      <td>0.011590</td>\n",
       "      <td>0.004584</td>\n",
       "      <td>0.002162</td>\n",
       "    </tr>\n",
       "    <tr>\n",
       "      <th>label</th>\n",
       "      <td>0.076156</td>\n",
       "      <td>0.101983</td>\n",
       "      <td>0.115854</td>\n",
       "      <td>0.044776</td>\n",
       "      <td>0.150943</td>\n",
       "      <td>0.080000</td>\n",
       "    </tr>\n",
       "    <tr>\n",
       "      <th>diaghype</th>\n",
       "      <td>0.339254</td>\n",
       "      <td>0.546742</td>\n",
       "      <td>0.414634</td>\n",
       "      <td>0.298507</td>\n",
       "      <td>0.150943</td>\n",
       "      <td>0.240000</td>\n",
       "    </tr>\n",
       "  </tbody>\n",
       "</table>\n",
       "</div>"
      ],
      "text/plain": [
       "race             1.0       2.0       3.0       6.0       4.0       5.0\n",
       "proportion  0.936949  0.030531  0.014184  0.011590  0.004584  0.002162\n",
       "label       0.076156  0.101983  0.115854  0.044776  0.150943  0.080000\n",
       "diaghype    0.339254  0.546742  0.414634  0.298507  0.150943  0.240000"
      ]
     },
     "metadata": {},
     "output_type": "display_data"
    },
    {
     "data": {
      "text/markdown": [
       "##### valid - overall malignancy = 0.08056872037914692"
      ],
      "text/plain": [
       "<IPython.core.display.Markdown object>"
      ]
     },
     "metadata": {},
     "output_type": "display_data"
    },
    {
     "data": {
      "application/vnd.microsoft.datawrangler.viewer.v0+json": {
       "columns": [
        {
         "name": "index",
         "rawType": "object",
         "type": "string"
        },
        {
         "name": "1.0",
         "rawType": "float64",
         "type": "float"
        },
        {
         "name": "3.0",
         "rawType": "float64",
         "type": "float"
        },
        {
         "name": "2.0",
         "rawType": "float64",
         "type": "float"
        },
        {
         "name": "6.0",
         "rawType": "float64",
         "type": "float"
        },
        {
         "name": "4.0",
         "rawType": "float64",
         "type": "float"
        }
       ],
       "conversionMethod": "pd.DataFrame",
       "ref": "12c0b719-5dee-4ed5-9fda-dd4d9af089b3",
       "rows": [
        [
         "proportion",
         "0.9344391785150079",
         "0.02448657187993681",
         "0.020537124802527645",
         "0.018167456556082148",
         "0.002369668246445498"
        ],
        [
         "label",
         "0.08284023668639054",
         "0.0",
         "0.11538461538461539",
         "0.0",
         "0.3333333333333333"
        ],
        [
         "diaghype",
         "0.3431952662721893",
         "0.3225806451612903",
         "0.46153846153846156",
         "0.43478260869565216",
         "1.0"
        ]
       ],
       "shape": {
        "columns": 5,
        "rows": 3
       }
      },
      "text/html": [
       "<div>\n",
       "<style scoped>\n",
       "    .dataframe tbody tr th:only-of-type {\n",
       "        vertical-align: middle;\n",
       "    }\n",
       "\n",
       "    .dataframe tbody tr th {\n",
       "        vertical-align: top;\n",
       "    }\n",
       "\n",
       "    .dataframe thead th {\n",
       "        text-align: right;\n",
       "    }\n",
       "</style>\n",
       "<table border=\"1\" class=\"dataframe\">\n",
       "  <thead>\n",
       "    <tr style=\"text-align: right;\">\n",
       "      <th>race</th>\n",
       "      <th>1.0</th>\n",
       "      <th>3.0</th>\n",
       "      <th>2.0</th>\n",
       "      <th>6.0</th>\n",
       "      <th>4.0</th>\n",
       "    </tr>\n",
       "  </thead>\n",
       "  <tbody>\n",
       "    <tr>\n",
       "      <th>proportion</th>\n",
       "      <td>0.934439</td>\n",
       "      <td>0.024487</td>\n",
       "      <td>0.020537</td>\n",
       "      <td>0.018167</td>\n",
       "      <td>0.002370</td>\n",
       "    </tr>\n",
       "    <tr>\n",
       "      <th>label</th>\n",
       "      <td>0.082840</td>\n",
       "      <td>0.000000</td>\n",
       "      <td>0.115385</td>\n",
       "      <td>0.000000</td>\n",
       "      <td>0.333333</td>\n",
       "    </tr>\n",
       "    <tr>\n",
       "      <th>diaghype</th>\n",
       "      <td>0.343195</td>\n",
       "      <td>0.322581</td>\n",
       "      <td>0.461538</td>\n",
       "      <td>0.434783</td>\n",
       "      <td>1.000000</td>\n",
       "    </tr>\n",
       "  </tbody>\n",
       "</table>\n",
       "</div>"
      ],
      "text/plain": [
       "race             1.0       3.0       2.0       6.0       4.0\n",
       "proportion  0.934439  0.024487  0.020537  0.018167  0.002370\n",
       "label       0.082840  0.000000  0.115385  0.000000  0.333333\n",
       "diaghype    0.343195  0.322581  0.461538  0.434783  1.000000"
      ]
     },
     "metadata": {},
     "output_type": "display_data"
    },
    {
     "data": {
      "text/markdown": [
       "#### Fold 6"
      ],
      "text/plain": [
       "<IPython.core.display.Markdown object>"
      ]
     },
     "metadata": {},
     "output_type": "display_data"
    },
    {
     "data": {
      "text/markdown": [
       "##### train - overall malignancy = 0.07764321910160611"
      ],
      "text/plain": [
       "<IPython.core.display.Markdown object>"
      ]
     },
     "metadata": {},
     "output_type": "display_data"
    },
    {
     "data": {
      "application/vnd.microsoft.datawrangler.viewer.v0+json": {
       "columns": [
        {
         "name": "index",
         "rawType": "object",
         "type": "string"
        },
        {
         "name": "1.0",
         "rawType": "float64",
         "type": "float"
        },
        {
         "name": "2.0",
         "rawType": "float64",
         "type": "float"
        },
        {
         "name": "3.0",
         "rawType": "float64",
         "type": "float"
        },
        {
         "name": "6.0",
         "rawType": "float64",
         "type": "float"
        },
        {
         "name": "4.0",
         "rawType": "float64",
         "type": "float"
        },
        {
         "name": "5.0",
         "rawType": "float64",
         "type": "float"
        }
       ],
       "conversionMethod": "pd.DataFrame",
       "ref": "caecaf85-ac18-45cb-94a9-04fb4ecdef16",
       "rows": [
        [
         "proportion",
         "0.938931955211025",
         "0.029888027562446167",
         "0.013867355727820845",
         "0.01231696813092162",
         "0.0036175710594315244",
         "0.0013781223083548665"
        ],
        [
         "label",
         "0.07669021190716448",
         "0.1037463976945245",
         "0.08695652173913043",
         "0.04195804195804196",
         "0.21428571428571427",
         "0.125"
        ],
        [
         "diaghype",
         "0.3442381915089138",
         "0.5129682997118156",
         "0.37267080745341613",
         "0.34265734265734266",
         "0.2619047619047619",
         "0.25"
        ]
       ],
       "shape": {
        "columns": 6,
        "rows": 3
       }
      },
      "text/html": [
       "<div>\n",
       "<style scoped>\n",
       "    .dataframe tbody tr th:only-of-type {\n",
       "        vertical-align: middle;\n",
       "    }\n",
       "\n",
       "    .dataframe tbody tr th {\n",
       "        vertical-align: top;\n",
       "    }\n",
       "\n",
       "    .dataframe thead th {\n",
       "        text-align: right;\n",
       "    }\n",
       "</style>\n",
       "<table border=\"1\" class=\"dataframe\">\n",
       "  <thead>\n",
       "    <tr style=\"text-align: right;\">\n",
       "      <th>race</th>\n",
       "      <th>1.0</th>\n",
       "      <th>2.0</th>\n",
       "      <th>3.0</th>\n",
       "      <th>6.0</th>\n",
       "      <th>4.0</th>\n",
       "      <th>5.0</th>\n",
       "    </tr>\n",
       "  </thead>\n",
       "  <tbody>\n",
       "    <tr>\n",
       "      <th>proportion</th>\n",
       "      <td>0.938932</td>\n",
       "      <td>0.029888</td>\n",
       "      <td>0.013867</td>\n",
       "      <td>0.012317</td>\n",
       "      <td>0.003618</td>\n",
       "      <td>0.001378</td>\n",
       "    </tr>\n",
       "    <tr>\n",
       "      <th>label</th>\n",
       "      <td>0.076690</td>\n",
       "      <td>0.103746</td>\n",
       "      <td>0.086957</td>\n",
       "      <td>0.041958</td>\n",
       "      <td>0.214286</td>\n",
       "      <td>0.125000</td>\n",
       "    </tr>\n",
       "    <tr>\n",
       "      <th>diaghype</th>\n",
       "      <td>0.344238</td>\n",
       "      <td>0.512968</td>\n",
       "      <td>0.372671</td>\n",
       "      <td>0.342657</td>\n",
       "      <td>0.261905</td>\n",
       "      <td>0.250000</td>\n",
       "    </tr>\n",
       "  </tbody>\n",
       "</table>\n",
       "</div>"
      ],
      "text/plain": [
       "race             1.0       2.0       3.0       6.0       4.0       5.0\n",
       "proportion  0.938932  0.029888  0.013867  0.012317  0.003618  0.001378\n",
       "label       0.076690  0.103746  0.086957  0.041958  0.214286  0.125000\n",
       "diaghype    0.344238  0.512968  0.372671  0.342657  0.261905  0.250000"
      ]
     },
     "metadata": {},
     "output_type": "display_data"
    },
    {
     "data": {
      "text/markdown": [
       "##### valid - overall malignancy = 0.07799671592775041"
      ],
      "text/plain": [
       "<IPython.core.display.Markdown object>"
      ]
     },
     "metadata": {},
     "output_type": "display_data"
    },
    {
     "data": {
      "application/vnd.microsoft.datawrangler.viewer.v0+json": {
       "columns": [
        {
         "name": "index",
         "rawType": "object",
         "type": "string"
        },
        {
         "name": "1.0",
         "rawType": "float64",
         "type": "float"
        },
        {
         "name": "3.0",
         "rawType": "float64",
         "type": "float"
        },
        {
         "name": "2.0",
         "rawType": "float64",
         "type": "float"
        },
        {
         "name": "6.0",
         "rawType": "float64",
         "type": "float"
        },
        {
         "name": "4.0",
         "rawType": "float64",
         "type": "float"
        },
        {
         "name": "5.0",
         "rawType": "float64",
         "type": "float"
        }
       ],
       "conversionMethod": "pd.DataFrame",
       "ref": "db9b2caf-c2b5-46ef-bb47-dec64a601a9e",
       "rows": [
        [
         "proportion",
         "0.9154351395730707",
         "0.027914614121510674",
         "0.026272577996715927",
         "0.011494252873563218",
         "0.011494252873563218",
         "0.007389162561576354"
        ],
        [
         "label",
         "0.07802690582959641",
         "0.14705882352941177",
         "0.09375",
         "0.0",
         "0.0",
         "0.0"
        ],
        [
         "diaghype",
         "0.2945945945945946",
         "0.5294117647058824",
         "0.84375",
         "0.07142857142857142",
         "0.0",
         "0.2222222222222222"
        ]
       ],
       "shape": {
        "columns": 6,
        "rows": 3
       }
      },
      "text/html": [
       "<div>\n",
       "<style scoped>\n",
       "    .dataframe tbody tr th:only-of-type {\n",
       "        vertical-align: middle;\n",
       "    }\n",
       "\n",
       "    .dataframe tbody tr th {\n",
       "        vertical-align: top;\n",
       "    }\n",
       "\n",
       "    .dataframe thead th {\n",
       "        text-align: right;\n",
       "    }\n",
       "</style>\n",
       "<table border=\"1\" class=\"dataframe\">\n",
       "  <thead>\n",
       "    <tr style=\"text-align: right;\">\n",
       "      <th>race</th>\n",
       "      <th>1.0</th>\n",
       "      <th>3.0</th>\n",
       "      <th>2.0</th>\n",
       "      <th>6.0</th>\n",
       "      <th>4.0</th>\n",
       "      <th>5.0</th>\n",
       "    </tr>\n",
       "  </thead>\n",
       "  <tbody>\n",
       "    <tr>\n",
       "      <th>proportion</th>\n",
       "      <td>0.915435</td>\n",
       "      <td>0.027915</td>\n",
       "      <td>0.026273</td>\n",
       "      <td>0.011494</td>\n",
       "      <td>0.011494</td>\n",
       "      <td>0.007389</td>\n",
       "    </tr>\n",
       "    <tr>\n",
       "      <th>label</th>\n",
       "      <td>0.078027</td>\n",
       "      <td>0.147059</td>\n",
       "      <td>0.093750</td>\n",
       "      <td>0.000000</td>\n",
       "      <td>0.000000</td>\n",
       "      <td>0.000000</td>\n",
       "    </tr>\n",
       "    <tr>\n",
       "      <th>diaghype</th>\n",
       "      <td>0.294595</td>\n",
       "      <td>0.529412</td>\n",
       "      <td>0.843750</td>\n",
       "      <td>0.071429</td>\n",
       "      <td>0.000000</td>\n",
       "      <td>0.222222</td>\n",
       "    </tr>\n",
       "  </tbody>\n",
       "</table>\n",
       "</div>"
      ],
      "text/plain": [
       "race             1.0       3.0       2.0       6.0       4.0       5.0\n",
       "proportion  0.915435  0.027915  0.026273  0.011494  0.011494  0.007389\n",
       "label       0.078027  0.147059  0.093750  0.000000  0.000000  0.000000\n",
       "diaghype    0.294595  0.529412  0.843750  0.071429  0.000000  0.222222"
      ]
     },
     "metadata": {},
     "output_type": "display_data"
    },
    {
     "data": {
      "text/markdown": [
       "#### Fold 7"
      ],
      "text/plain": [
       "<IPython.core.display.Markdown object>"
      ]
     },
     "metadata": {},
     "output_type": "display_data"
    },
    {
     "data": {
      "text/markdown": [
       "##### train - overall malignancy = 0.07764136261455992"
      ],
      "text/plain": [
       "<IPython.core.display.Markdown object>"
      ]
     },
     "metadata": {},
     "output_type": "display_data"
    },
    {
     "data": {
      "application/vnd.microsoft.datawrangler.viewer.v0+json": {
       "columns": [
        {
         "name": "index",
         "rawType": "object",
         "type": "string"
        },
        {
         "name": "1.0",
         "rawType": "float64",
         "type": "float"
        },
        {
         "name": "2.0",
         "rawType": "float64",
         "type": "float"
        },
        {
         "name": "3.0",
         "rawType": "float64",
         "type": "float"
        },
        {
         "name": "6.0",
         "rawType": "float64",
         "type": "float"
        },
        {
         "name": "4.0",
         "rawType": "float64",
         "type": "float"
        },
        {
         "name": "5.0",
         "rawType": "float64",
         "type": "float"
        }
       ],
       "conversionMethod": "pd.DataFrame",
       "ref": "c8025ded-9102-4ef4-bfcd-fcc1fac2a714",
       "rows": [
        [
         "proportion",
         "0.935923003555016",
         "0.02826671291077777",
         "0.016301049163270614",
         "0.013179571663920923",
         "0.004161969999132923",
         "0.002167692707881731"
        ],
        [
         "label",
         "0.07670928293496387",
         "0.10122699386503067",
         "0.10106382978723404",
         "0.039473684210526314",
         "0.1875",
         "0.08"
        ],
        [
         "diaghype",
         "0.3366437720438092",
         "0.5674846625766872",
         "0.4148936170212766",
         "0.32894736842105265",
         "0.22916666666666666",
         "0.24"
        ]
       ],
       "shape": {
        "columns": 6,
        "rows": 3
       }
      },
      "text/html": [
       "<div>\n",
       "<style scoped>\n",
       "    .dataframe tbody tr th:only-of-type {\n",
       "        vertical-align: middle;\n",
       "    }\n",
       "\n",
       "    .dataframe tbody tr th {\n",
       "        vertical-align: top;\n",
       "    }\n",
       "\n",
       "    .dataframe thead th {\n",
       "        text-align: right;\n",
       "    }\n",
       "</style>\n",
       "<table border=\"1\" class=\"dataframe\">\n",
       "  <thead>\n",
       "    <tr style=\"text-align: right;\">\n",
       "      <th>race</th>\n",
       "      <th>1.0</th>\n",
       "      <th>2.0</th>\n",
       "      <th>3.0</th>\n",
       "      <th>6.0</th>\n",
       "      <th>4.0</th>\n",
       "      <th>5.0</th>\n",
       "    </tr>\n",
       "  </thead>\n",
       "  <tbody>\n",
       "    <tr>\n",
       "      <th>proportion</th>\n",
       "      <td>0.935923</td>\n",
       "      <td>0.028267</td>\n",
       "      <td>0.016301</td>\n",
       "      <td>0.013180</td>\n",
       "      <td>0.004162</td>\n",
       "      <td>0.002168</td>\n",
       "    </tr>\n",
       "    <tr>\n",
       "      <th>label</th>\n",
       "      <td>0.076709</td>\n",
       "      <td>0.101227</td>\n",
       "      <td>0.101064</td>\n",
       "      <td>0.039474</td>\n",
       "      <td>0.187500</td>\n",
       "      <td>0.080000</td>\n",
       "    </tr>\n",
       "    <tr>\n",
       "      <th>diaghype</th>\n",
       "      <td>0.336644</td>\n",
       "      <td>0.567485</td>\n",
       "      <td>0.414894</td>\n",
       "      <td>0.328947</td>\n",
       "      <td>0.229167</td>\n",
       "      <td>0.240000</td>\n",
       "    </tr>\n",
       "  </tbody>\n",
       "</table>\n",
       "</div>"
      ],
      "text/plain": [
       "race             1.0       2.0       3.0       6.0       4.0       5.0\n",
       "proportion  0.935923  0.028267  0.016301  0.013180  0.004162  0.002168\n",
       "label       0.076709  0.101227  0.101064  0.039474  0.187500  0.080000\n",
       "diaghype    0.336644  0.567485  0.414894  0.328947  0.229167  0.240000"
      ]
     },
     "metadata": {},
     "output_type": "display_data"
    },
    {
     "data": {
      "text/markdown": [
       "##### valid - overall malignancy = 0.077992277992278"
      ],
      "text/plain": [
       "<IPython.core.display.Markdown object>"
      ]
     },
     "metadata": {},
     "output_type": "display_data"
    },
    {
     "data": {
      "application/vnd.microsoft.datawrangler.viewer.v0+json": {
       "columns": [
        {
         "name": "index",
         "rawType": "object",
         "type": "string"
        },
        {
         "name": "1.0",
         "rawType": "float64",
         "type": "float"
        },
        {
         "name": "2.0",
         "rawType": "float64",
         "type": "float"
        },
        {
         "name": "4.0",
         "rawType": "float64",
         "type": "float"
        },
        {
         "name": "3.0",
         "rawType": "float64",
         "type": "float"
        },
        {
         "name": "6.0",
         "rawType": "float64",
         "type": "float"
        }
       ],
       "conversionMethod": "pd.DataFrame",
       "ref": "8dadd5e0-bf3a-406a-af22-743e336e5675",
       "rows": [
        [
         "proportion",
         "0.9436293436293436",
         "0.040926640926640924",
         "0.006177606177606178",
         "0.005405405405405406",
         "0.003861003861003861"
        ],
        [
         "label",
         "0.07774140752864157",
         "0.11320754716981132",
         "0.0",
         "0.0",
         "0.0"
        ],
        [
         "diaghype",
         "0.36617405582922824",
         "0.37735849056603776",
         "0.0",
         "0.0",
         "0.0"
        ]
       ],
       "shape": {
        "columns": 5,
        "rows": 3
       }
      },
      "text/html": [
       "<div>\n",
       "<style scoped>\n",
       "    .dataframe tbody tr th:only-of-type {\n",
       "        vertical-align: middle;\n",
       "    }\n",
       "\n",
       "    .dataframe tbody tr th {\n",
       "        vertical-align: top;\n",
       "    }\n",
       "\n",
       "    .dataframe thead th {\n",
       "        text-align: right;\n",
       "    }\n",
       "</style>\n",
       "<table border=\"1\" class=\"dataframe\">\n",
       "  <thead>\n",
       "    <tr style=\"text-align: right;\">\n",
       "      <th>race</th>\n",
       "      <th>1.0</th>\n",
       "      <th>2.0</th>\n",
       "      <th>4.0</th>\n",
       "      <th>3.0</th>\n",
       "      <th>6.0</th>\n",
       "    </tr>\n",
       "  </thead>\n",
       "  <tbody>\n",
       "    <tr>\n",
       "      <th>proportion</th>\n",
       "      <td>0.943629</td>\n",
       "      <td>0.040927</td>\n",
       "      <td>0.006178</td>\n",
       "      <td>0.005405</td>\n",
       "      <td>0.003861</td>\n",
       "    </tr>\n",
       "    <tr>\n",
       "      <th>label</th>\n",
       "      <td>0.077741</td>\n",
       "      <td>0.113208</td>\n",
       "      <td>0.000000</td>\n",
       "      <td>0.000000</td>\n",
       "      <td>0.000000</td>\n",
       "    </tr>\n",
       "    <tr>\n",
       "      <th>diaghype</th>\n",
       "      <td>0.366174</td>\n",
       "      <td>0.377358</td>\n",
       "      <td>0.000000</td>\n",
       "      <td>0.000000</td>\n",
       "      <td>0.000000</td>\n",
       "    </tr>\n",
       "  </tbody>\n",
       "</table>\n",
       "</div>"
      ],
      "text/plain": [
       "race             1.0       2.0       4.0       3.0       6.0\n",
       "proportion  0.943629  0.040927  0.006178  0.005405  0.003861\n",
       "label       0.077741  0.113208  0.000000  0.000000  0.000000\n",
       "diaghype    0.366174  0.377358  0.000000  0.000000  0.000000"
      ]
     },
     "metadata": {},
     "output_type": "display_data"
    },
    {
     "data": {
      "text/markdown": [
       "#### Fold 8"
      ],
      "text/plain": [
       "<IPython.core.display.Markdown object>"
      ]
     },
     "metadata": {},
     "output_type": "display_data"
    },
    {
     "data": {
      "text/markdown": [
       "##### train - overall malignancy = 0.07689655172413794"
      ],
      "text/plain": [
       "<IPython.core.display.Markdown object>"
      ]
     },
     "metadata": {},
     "output_type": "display_data"
    },
    {
     "data": {
      "application/vnd.microsoft.datawrangler.viewer.v0+json": {
       "columns": [
        {
         "name": "index",
         "rawType": "object",
         "type": "string"
        },
        {
         "name": "1.0",
         "rawType": "float64",
         "type": "float"
        },
        {
         "name": "2.0",
         "rawType": "float64",
         "type": "float"
        },
        {
         "name": "3.0",
         "rawType": "float64",
         "type": "float"
        },
        {
         "name": "6.0",
         "rawType": "float64",
         "type": "float"
        },
        {
         "name": "4.0",
         "rawType": "float64",
         "type": "float"
        },
        {
         "name": "5.0",
         "rawType": "float64",
         "type": "float"
        }
       ],
       "conversionMethod": "pd.DataFrame",
       "ref": "036405df-3ee4-4fc9-9f1f-5d66a688b981",
       "rows": [
        [
         "proportion",
         "0.9339614486991097",
         "0.029388884086783647",
         "0.016596075719595472",
         "0.013052122050306855",
         "0.004840522084882012",
         "0.002160947359322327"
        ],
        [
         "label",
         "0.07616844053678852",
         "0.09411764705882353",
         "0.09895833333333333",
         "0.039735099337748346",
         "0.16071428571428573",
         "0.08"
        ],
        [
         "diaghype",
         "0.33861698183166483",
         "0.5529411764705883",
         "0.390625",
         "0.2913907284768212",
         "0.19642857142857142",
         "0.24"
        ]
       ],
       "shape": {
        "columns": 6,
        "rows": 3
       }
      },
      "text/html": [
       "<div>\n",
       "<style scoped>\n",
       "    .dataframe tbody tr th:only-of-type {\n",
       "        vertical-align: middle;\n",
       "    }\n",
       "\n",
       "    .dataframe tbody tr th {\n",
       "        vertical-align: top;\n",
       "    }\n",
       "\n",
       "    .dataframe thead th {\n",
       "        text-align: right;\n",
       "    }\n",
       "</style>\n",
       "<table border=\"1\" class=\"dataframe\">\n",
       "  <thead>\n",
       "    <tr style=\"text-align: right;\">\n",
       "      <th>race</th>\n",
       "      <th>1.0</th>\n",
       "      <th>2.0</th>\n",
       "      <th>3.0</th>\n",
       "      <th>6.0</th>\n",
       "      <th>4.0</th>\n",
       "      <th>5.0</th>\n",
       "    </tr>\n",
       "  </thead>\n",
       "  <tbody>\n",
       "    <tr>\n",
       "      <th>proportion</th>\n",
       "      <td>0.933961</td>\n",
       "      <td>0.029389</td>\n",
       "      <td>0.016596</td>\n",
       "      <td>0.013052</td>\n",
       "      <td>0.004841</td>\n",
       "      <td>0.002161</td>\n",
       "    </tr>\n",
       "    <tr>\n",
       "      <th>label</th>\n",
       "      <td>0.076168</td>\n",
       "      <td>0.094118</td>\n",
       "      <td>0.098958</td>\n",
       "      <td>0.039735</td>\n",
       "      <td>0.160714</td>\n",
       "      <td>0.080000</td>\n",
       "    </tr>\n",
       "    <tr>\n",
       "      <th>diaghype</th>\n",
       "      <td>0.338617</td>\n",
       "      <td>0.552941</td>\n",
       "      <td>0.390625</td>\n",
       "      <td>0.291391</td>\n",
       "      <td>0.196429</td>\n",
       "      <td>0.240000</td>\n",
       "    </tr>\n",
       "  </tbody>\n",
       "</table>\n",
       "</div>"
      ],
      "text/plain": [
       "race             1.0       2.0       3.0       6.0       4.0       5.0\n",
       "proportion  0.933961  0.029389  0.016596  0.013052  0.004841  0.002161\n",
       "label       0.076168  0.094118  0.098958  0.039735  0.160714  0.080000\n",
       "diaghype    0.338617  0.552941  0.390625  0.291391  0.196429  0.240000"
      ]
     },
     "metadata": {},
     "output_type": "display_data"
    },
    {
     "data": {
      "text/markdown": [
       "##### valid - overall malignancy = 0.08485329103885805"
      ],
      "text/plain": [
       "<IPython.core.display.Markdown object>"
      ]
     },
     "metadata": {},
     "output_type": "display_data"
    },
    {
     "data": {
      "application/vnd.microsoft.datawrangler.viewer.v0+json": {
       "columns": [
        {
         "name": "index",
         "rawType": "object",
         "type": "string"
        },
        {
         "name": "1.0",
         "rawType": "float64",
         "type": "float"
        },
        {
         "name": "2.0",
         "rawType": "float64",
         "type": "float"
        },
        {
         "name": "6.0",
         "rawType": "float64",
         "type": "float"
        },
        {
         "name": "3.0",
         "rawType": "float64",
         "type": "float"
        }
       ],
       "conversionMethod": "pd.DataFrame",
       "ref": "a266cda5-4561-4c1e-8208-bf39942c213f",
       "rows": [
        [
         "proportion",
         "0.9618745035742653",
         "0.030976965845909452",
         "0.004765687053216839",
         "0.0023828435266084196"
        ],
        [
         "label",
         "0.08257638315441784",
         "0.1794871794871795",
         "0.0",
         "0.0"
        ],
        [
         "diaghype",
         "0.3488372093023256",
         "0.4358974358974359",
         "1.0",
         "1.0"
        ]
       ],
       "shape": {
        "columns": 4,
        "rows": 3
       }
      },
      "text/html": [
       "<div>\n",
       "<style scoped>\n",
       "    .dataframe tbody tr th:only-of-type {\n",
       "        vertical-align: middle;\n",
       "    }\n",
       "\n",
       "    .dataframe tbody tr th {\n",
       "        vertical-align: top;\n",
       "    }\n",
       "\n",
       "    .dataframe thead th {\n",
       "        text-align: right;\n",
       "    }\n",
       "</style>\n",
       "<table border=\"1\" class=\"dataframe\">\n",
       "  <thead>\n",
       "    <tr style=\"text-align: right;\">\n",
       "      <th>race</th>\n",
       "      <th>1.0</th>\n",
       "      <th>2.0</th>\n",
       "      <th>6.0</th>\n",
       "      <th>3.0</th>\n",
       "    </tr>\n",
       "  </thead>\n",
       "  <tbody>\n",
       "    <tr>\n",
       "      <th>proportion</th>\n",
       "      <td>0.961875</td>\n",
       "      <td>0.030977</td>\n",
       "      <td>0.004766</td>\n",
       "      <td>0.002383</td>\n",
       "    </tr>\n",
       "    <tr>\n",
       "      <th>label</th>\n",
       "      <td>0.082576</td>\n",
       "      <td>0.179487</td>\n",
       "      <td>0.000000</td>\n",
       "      <td>0.000000</td>\n",
       "    </tr>\n",
       "    <tr>\n",
       "      <th>diaghype</th>\n",
       "      <td>0.348837</td>\n",
       "      <td>0.435897</td>\n",
       "      <td>1.000000</td>\n",
       "      <td>1.000000</td>\n",
       "    </tr>\n",
       "  </tbody>\n",
       "</table>\n",
       "</div>"
      ],
      "text/plain": [
       "race             1.0       2.0       6.0       3.0\n",
       "proportion  0.961875  0.030977  0.004766  0.002383\n",
       "label       0.082576  0.179487  0.000000  0.000000\n",
       "diaghype    0.348837  0.435897  1.000000  1.000000"
      ]
     },
     "metadata": {},
     "output_type": "display_data"
    },
    {
     "data": {
      "text/markdown": [
       "#### Fold 9"
      ],
      "text/plain": [
       "<IPython.core.display.Markdown object>"
      ]
     },
     "metadata": {},
     "output_type": "display_data"
    },
    {
     "data": {
      "text/markdown": [
       "##### train - overall malignancy = 0.07741324377852407"
      ],
      "text/plain": [
       "<IPython.core.display.Markdown object>"
      ]
     },
     "metadata": {},
     "output_type": "display_data"
    },
    {
     "data": {
      "application/vnd.microsoft.datawrangler.viewer.v0+json": {
       "columns": [
        {
         "name": "index",
         "rawType": "object",
         "type": "string"
        },
        {
         "name": "1.0",
         "rawType": "float64",
         "type": "float"
        },
        {
         "name": "2.0",
         "rawType": "float64",
         "type": "float"
        },
        {
         "name": "3.0",
         "rawType": "float64",
         "type": "float"
        },
        {
         "name": "6.0",
         "rawType": "float64",
         "type": "float"
        },
        {
         "name": "4.0",
         "rawType": "float64",
         "type": "float"
        },
        {
         "name": "5.0",
         "rawType": "float64",
         "type": "float"
        }
       ],
       "conversionMethod": "pd.DataFrame",
       "ref": "8a078e74-2eaa-4f44-acbb-7c96c67b9223",
       "rows": [
        [
         "proportion",
         "0.9341389728096676",
         "0.028916702632714716",
         "0.01683211048769961",
         "0.01346568839015969",
         "0.004488562796719896",
         "0.0021579628830384117"
        ],
        [
         "label",
         "0.0766032156717797",
         "0.10149253731343283",
         "0.09743589743589744",
         "0.038461538461538464",
         "0.17307692307692307",
         "0.08"
        ],
        [
         "diaghype",
         "0.33999629835276696",
         "0.5492537313432836",
         "0.4",
         "0.32051282051282054",
         "0.15384615384615385",
         "0.24"
        ]
       ],
       "shape": {
        "columns": 6,
        "rows": 3
       }
      },
      "text/html": [
       "<div>\n",
       "<style scoped>\n",
       "    .dataframe tbody tr th:only-of-type {\n",
       "        vertical-align: middle;\n",
       "    }\n",
       "\n",
       "    .dataframe tbody tr th {\n",
       "        vertical-align: top;\n",
       "    }\n",
       "\n",
       "    .dataframe thead th {\n",
       "        text-align: right;\n",
       "    }\n",
       "</style>\n",
       "<table border=\"1\" class=\"dataframe\">\n",
       "  <thead>\n",
       "    <tr style=\"text-align: right;\">\n",
       "      <th>race</th>\n",
       "      <th>1.0</th>\n",
       "      <th>2.0</th>\n",
       "      <th>3.0</th>\n",
       "      <th>6.0</th>\n",
       "      <th>4.0</th>\n",
       "      <th>5.0</th>\n",
       "    </tr>\n",
       "  </thead>\n",
       "  <tbody>\n",
       "    <tr>\n",
       "      <th>proportion</th>\n",
       "      <td>0.934139</td>\n",
       "      <td>0.028917</td>\n",
       "      <td>0.016832</td>\n",
       "      <td>0.013466</td>\n",
       "      <td>0.004489</td>\n",
       "      <td>0.002158</td>\n",
       "    </tr>\n",
       "    <tr>\n",
       "      <th>label</th>\n",
       "      <td>0.076603</td>\n",
       "      <td>0.101493</td>\n",
       "      <td>0.097436</td>\n",
       "      <td>0.038462</td>\n",
       "      <td>0.173077</td>\n",
       "      <td>0.080000</td>\n",
       "    </tr>\n",
       "    <tr>\n",
       "      <th>diaghype</th>\n",
       "      <td>0.339996</td>\n",
       "      <td>0.549254</td>\n",
       "      <td>0.400000</td>\n",
       "      <td>0.320513</td>\n",
       "      <td>0.153846</td>\n",
       "      <td>0.240000</td>\n",
       "    </tr>\n",
       "  </tbody>\n",
       "</table>\n",
       "</div>"
      ],
      "text/plain": [
       "race             1.0       2.0       3.0       6.0       4.0       5.0\n",
       "proportion  0.934139  0.028917  0.016832  0.013466  0.004489  0.002158\n",
       "label       0.076603  0.101493  0.097436  0.038462  0.173077  0.080000\n",
       "diaghype    0.339996  0.549254  0.400000  0.320513  0.153846  0.240000"
      ]
     },
     "metadata": {},
     "output_type": "display_data"
    },
    {
     "data": {
      "text/markdown": [
       "##### valid - overall malignancy = 0.08012820512820513"
      ],
      "text/plain": [
       "<IPython.core.display.Markdown object>"
      ]
     },
     "metadata": {},
     "output_type": "display_data"
    },
    {
     "data": {
      "application/vnd.microsoft.datawrangler.viewer.v0+json": {
       "columns": [
        {
         "name": "index",
         "rawType": "object",
         "type": "string"
        },
        {
         "name": "1.0",
         "rawType": "float64",
         "type": "float"
        },
        {
         "name": "2.0",
         "rawType": "float64",
         "type": "float"
        },
        {
         "name": "4.0",
         "rawType": "float64",
         "type": "float"
        },
        {
         "name": "6.0",
         "rawType": "float64",
         "type": "float"
        }
       ],
       "conversionMethod": "pd.DataFrame",
       "ref": "0709df4e-e093-4ee6-9737-043aafeeb9cd",
       "rows": [
        [
         "proportion",
         "0.9605792437650845",
         "0.035398230088495575",
         "0.003218020917135961",
         "0.0008045052292839903"
        ],
        [
         "label",
         "0.07872696817420435",
         "0.11363636363636363",
         "0.0",
         "0.0"
        ],
        [
         "diaghype",
         "0.33642495784148396",
         "0.4772727272727273",
         "0.75",
         "0.0"
        ]
       ],
       "shape": {
        "columns": 4,
        "rows": 3
       }
      },
      "text/html": [
       "<div>\n",
       "<style scoped>\n",
       "    .dataframe tbody tr th:only-of-type {\n",
       "        vertical-align: middle;\n",
       "    }\n",
       "\n",
       "    .dataframe tbody tr th {\n",
       "        vertical-align: top;\n",
       "    }\n",
       "\n",
       "    .dataframe thead th {\n",
       "        text-align: right;\n",
       "    }\n",
       "</style>\n",
       "<table border=\"1\" class=\"dataframe\">\n",
       "  <thead>\n",
       "    <tr style=\"text-align: right;\">\n",
       "      <th>race</th>\n",
       "      <th>1.0</th>\n",
       "      <th>2.0</th>\n",
       "      <th>4.0</th>\n",
       "      <th>6.0</th>\n",
       "    </tr>\n",
       "  </thead>\n",
       "  <tbody>\n",
       "    <tr>\n",
       "      <th>proportion</th>\n",
       "      <td>0.960579</td>\n",
       "      <td>0.035398</td>\n",
       "      <td>0.003218</td>\n",
       "      <td>0.000805</td>\n",
       "    </tr>\n",
       "    <tr>\n",
       "      <th>label</th>\n",
       "      <td>0.078727</td>\n",
       "      <td>0.113636</td>\n",
       "      <td>0.000000</td>\n",
       "      <td>0.000000</td>\n",
       "    </tr>\n",
       "    <tr>\n",
       "      <th>diaghype</th>\n",
       "      <td>0.336425</td>\n",
       "      <td>0.477273</td>\n",
       "      <td>0.750000</td>\n",
       "      <td>0.000000</td>\n",
       "    </tr>\n",
       "  </tbody>\n",
       "</table>\n",
       "</div>"
      ],
      "text/plain": [
       "race             1.0       2.0       4.0       6.0\n",
       "proportion  0.960579  0.035398  0.003218  0.000805\n",
       "label       0.078727  0.113636  0.000000  0.000000\n",
       "diaghype    0.336425  0.477273  0.750000  0.000000"
      ]
     },
     "metadata": {},
     "output_type": "display_data"
    }
   ],
   "source": [
    "analyze_race_and_malignancy('80')"
   ]
  }
 ],
 "metadata": {
  "kernelspec": {
   "display_name": "Python 3",
   "language": "python",
   "name": "python3"
  },
  "language_info": {
   "codemirror_mode": {
    "name": "ipython",
    "version": 3
   },
   "file_extension": ".py",
   "mimetype": "text/x-python",
   "name": "python",
   "nbconvert_exporter": "python",
   "pygments_lexer": "ipython3",
   "version": "3.11.9"
  }
 },
 "nbformat": 4,
 "nbformat_minor": 2
}
