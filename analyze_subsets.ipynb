{
 "cells": [
  {
   "cell_type": "code",
   "execution_count": 2,
   "metadata": {},
   "outputs": [],
   "source": [
    "import pandas as pd\n",
    "import json\n",
    "from IPython.display import display, Markdown\n",
    "\n",
    "## directory where results are\n",
    "CHANSEY_ROOT = \"W:\"\n",
    "CHANSEY_DIR = f\"{CHANSEY_ROOT}/experiments/lung-malignancy-fairness-shaurya\"\n",
    "TEAMS_DIR = \"C:/Users/shaur/OneDrive - Radboudumc/Documents - Master - Shaurya Gaur/General/Malignancy-Estimation Results\"\n",
    "\n",
    "RETRAIN_SUBSETS_DIR = f\"{CHANSEY_DIR}/kiran-retrain-subsets\""
   ]
  },
  {
   "cell_type": "markdown",
   "metadata": {},
   "source": [
    "What to do in this notebook:\n",
    "\n",
    "- See racial and M:B splits for each dataset and its 10 folds.\n",
    "- See if we can enrich and plug in more black patient data."
   ]
  },
  {
   "cell_type": "code",
   "execution_count": 3,
   "metadata": {},
   "outputs": [
    {
     "name": "stdout",
     "output_type": "stream",
     "text": [
      "<class 'pandas.core.frame.DataFrame'>\n",
      "RangeIndex: 16077 entries, 0 to 16076\n",
      "Columns: 128 entries, PatientID to NoduleType\n",
      "dtypes: bool(27), float64(86), int64(11), object(4)\n",
      "memory usage: 12.8+ MB\n"
     ]
    }
   ],
   "source": [
    "kiran_full = pd.read_csv(f\"{TEAMS_DIR}/nlst/nlst_demov4_allmodels_cal.csv\")\n",
    "kiran_full.info()"
   ]
  },
  {
   "cell_type": "code",
   "execution_count": 4,
   "metadata": {},
   "outputs": [
    {
     "data": {
      "text/plain": [
       "race\n",
       "1.0    15040\n",
       "2.0      481\n",
       "3.0      228\n",
       "6.0      177\n",
       "4.0       68\n",
       "5.0       44\n",
       "Name: count, dtype: int64"
      ]
     },
     "execution_count": 4,
     "metadata": {},
     "output_type": "execute_result"
    }
   ],
   "source": [
    "kiran_full['race'].value_counts(dropna=True, normalize=False)"
   ]
  },
  {
   "cell_type": "code",
   "execution_count": 5,
   "metadata": {},
   "outputs": [
    {
     "data": {
      "text/plain": [
       "race\n",
       "1.0    0.076130\n",
       "2.0    0.118503\n",
       "3.0    0.092105\n",
       "4.0    0.176471\n",
       "5.0    0.045455\n",
       "6.0    0.056497\n",
       "Name: label, dtype: float64"
      ]
     },
     "execution_count": 5,
     "metadata": {},
     "output_type": "execute_result"
    }
   ],
   "source": [
    "kiran_full.groupby('race')['label'].mean()"
   ]
  },
  {
   "cell_type": "code",
   "execution_count": 6,
   "metadata": {},
   "outputs": [
    {
     "data": {
      "application/vnd.microsoft.datawrangler.viewer.v0+json": {
       "columns": [
        {
         "name": "index",
         "rawType": "object",
         "type": "string"
        },
        {
         "name": "1.0",
         "rawType": "float64",
         "type": "float"
        },
        {
         "name": "2.0",
         "rawType": "float64",
         "type": "float"
        },
        {
         "name": "3.0",
         "rawType": "float64",
         "type": "float"
        },
        {
         "name": "6.0",
         "rawType": "float64",
         "type": "float"
        },
        {
         "name": "4.0",
         "rawType": "float64",
         "type": "float"
        },
        {
         "name": "5.0",
         "rawType": "float64",
         "type": "float"
        }
       ],
       "conversionMethod": "pd.DataFrame",
       "ref": "40c1332d-e270-47d6-ba83-4ca1f57cc332",
       "rows": [
        [
         "proportion",
         "0.9377727896246415",
         "0.029991270732011473",
         "0.01421623643845866",
         "0.011036288814066592",
         "0.004239930165856092",
         "0.0027434842249657062"
        ],
        [
         "label",
         "0.07613031914893617",
         "0.11850311850311851",
         "0.09210526315789473",
         "0.05649717514124294",
         "0.17647058823529413",
         "0.045454545454545456"
        ]
       ],
       "shape": {
        "columns": 6,
        "rows": 2
       }
      },
      "text/html": [
       "<div>\n",
       "<style scoped>\n",
       "    .dataframe tbody tr th:only-of-type {\n",
       "        vertical-align: middle;\n",
       "    }\n",
       "\n",
       "    .dataframe tbody tr th {\n",
       "        vertical-align: top;\n",
       "    }\n",
       "\n",
       "    .dataframe thead th {\n",
       "        text-align: right;\n",
       "    }\n",
       "</style>\n",
       "<table border=\"1\" class=\"dataframe\">\n",
       "  <thead>\n",
       "    <tr style=\"text-align: right;\">\n",
       "      <th>race</th>\n",
       "      <th>1.0</th>\n",
       "      <th>2.0</th>\n",
       "      <th>3.0</th>\n",
       "      <th>6.0</th>\n",
       "      <th>4.0</th>\n",
       "      <th>5.0</th>\n",
       "    </tr>\n",
       "  </thead>\n",
       "  <tbody>\n",
       "    <tr>\n",
       "      <th>proportion</th>\n",
       "      <td>0.937773</td>\n",
       "      <td>0.029991</td>\n",
       "      <td>0.014216</td>\n",
       "      <td>0.011036</td>\n",
       "      <td>0.004240</td>\n",
       "      <td>0.002743</td>\n",
       "    </tr>\n",
       "    <tr>\n",
       "      <th>label</th>\n",
       "      <td>0.076130</td>\n",
       "      <td>0.118503</td>\n",
       "      <td>0.092105</td>\n",
       "      <td>0.056497</td>\n",
       "      <td>0.176471</td>\n",
       "      <td>0.045455</td>\n",
       "    </tr>\n",
       "  </tbody>\n",
       "</table>\n",
       "</div>"
      ],
      "text/plain": [
       "race             1.0       2.0       3.0       6.0       4.0       5.0\n",
       "proportion  0.937773  0.029991  0.014216  0.011036  0.004240  0.002743\n",
       "label       0.076130  0.118503  0.092105  0.056497  0.176471  0.045455"
      ]
     },
     "execution_count": 6,
     "metadata": {},
     "output_type": "execute_result"
    }
   ],
   "source": [
    "pd.DataFrame([\n",
    "    kiran_full['race'].value_counts(dropna=True, normalize=True),\n",
    "    kiran_full.groupby('race')['label'].mean()\n",
    "])"
   ]
  },
  {
   "cell_type": "code",
   "execution_count": 7,
   "metadata": {},
   "outputs": [],
   "source": [
    "def analyze_race_and_malignancy(subset_percent='70'):\n",
    "    subsetdf = pd.read_csv(f\"{RETRAIN_SUBSETS_DIR}/NLST_{subset_percent}_Bogdan/dataset.csv\")\n",
    "    subset_demos = kiran_full[kiran_full['PatientID'].isin(subsetdf['PatientID'])]\n",
    "    \n",
    "    getinfo = lambda df: pd.DataFrame([\n",
    "        df['race'].value_counts(dropna=True, normalize=True),\n",
    "        df['race'].value_counts(dropna=True, normalize=False),\n",
    "        df.groupby('race')['label'].mean(),\n",
    "        df.groupby('race')['diaghype'].mean()\n",
    "    ])\n",
    "    \n",
    "    print(f\"Theoretical max black proportion = {481 / len(subsetdf)}\")\n",
    "    \n",
    "    infodf = getinfo(subset_demos)\n",
    "    display(Markdown(\"### Overall dataset:\"))\n",
    "    display(infodf)\n",
    "\n",
    "    for i in range(10):\n",
    "        display(Markdown(f\"#### Fold {i}\"))\n",
    "        \n",
    "        train_fold = pd.read_csv(f\"{RETRAIN_SUBSETS_DIR}/NLST_{subset_percent}_Bogdan/train{i}.csv\")\n",
    "        display(Markdown(f\"##### train - overall malignancy = {train_fold['label'].mean()}\"))\n",
    "        display(getinfo(kiran_full[kiran_full['PatientID'].isin(train_fold['PatientID'])]))\n",
    "        \n",
    "        valid_fold = pd.read_csv(f\"{RETRAIN_SUBSETS_DIR}/NLST_{subset_percent}_Bogdan/valid{i}.csv\")\n",
    "        display(Markdown(f\"##### valid - overall malignancy = {valid_fold['label'].mean()}\"))\n",
    "        display(getinfo(kiran_full[kiran_full['PatientID'].isin(valid_fold['PatientID'])]))"
   ]
  },
  {
   "cell_type": "markdown",
   "metadata": {},
   "source": [
    "## 70% subset"
   ]
  },
  {
   "cell_type": "code",
   "execution_count": 8,
   "metadata": {},
   "outputs": [
    {
     "name": "stdout",
     "output_type": "stream",
     "text": [
      "Theoretical max black proportion = 0.042740358983472546\n"
     ]
    },
    {
     "data": {
      "text/markdown": [
       "### Overall dataset:"
      ],
      "text/plain": [
       "<IPython.core.display.Markdown object>"
      ]
     },
     "metadata": {},
     "output_type": "display_data"
    },
    {
     "data": {
      "application/vnd.microsoft.datawrangler.viewer.v0+json": {
       "columns": [
        {
         "name": "index",
         "rawType": "object",
         "type": "string"
        },
        {
         "name": "1.0",
         "rawType": "float64",
         "type": "float"
        },
        {
         "name": "2.0",
         "rawType": "float64",
         "type": "float"
        },
        {
         "name": "3.0",
         "rawType": "float64",
         "type": "float"
        },
        {
         "name": "6.0",
         "rawType": "float64",
         "type": "float"
        },
        {
         "name": "4.0",
         "rawType": "float64",
         "type": "float"
        },
        {
         "name": "5.0",
         "rawType": "float64",
         "type": "float"
        }
       ],
       "conversionMethod": "pd.DataFrame",
       "ref": "51934c1f-c25d-4f0c-8286-c934e35e4242",
       "rows": [
        [
         "proportion",
         "0.9412236174191825",
         "0.024757324784041322",
         "0.016475198147653396",
         "0.010864725264938997",
         "0.004719921631489892",
         "0.0019592127526939177"
        ],
        [
         "count",
         "10569.0",
         "278.0",
         "185.0",
         "122.0",
         "53.0",
         "22.0"
        ],
        [
         "label",
         "0.07644999526918346",
         "0.11510791366906475",
         "0.0972972972972973",
         "0.040983606557377046",
         "0.16981132075471697",
         "0.09090909090909091"
        ],
        [
         "diaghype",
         "0.3432906590801328",
         "0.564748201438849",
         "0.3837837837837838",
         "0.32786885245901637",
         "0.1509433962264151",
         "0.2727272727272727"
        ]
       ],
       "shape": {
        "columns": 6,
        "rows": 4
       }
      },
      "text/html": [
       "<div>\n",
       "<style scoped>\n",
       "    .dataframe tbody tr th:only-of-type {\n",
       "        vertical-align: middle;\n",
       "    }\n",
       "\n",
       "    .dataframe tbody tr th {\n",
       "        vertical-align: top;\n",
       "    }\n",
       "\n",
       "    .dataframe thead th {\n",
       "        text-align: right;\n",
       "    }\n",
       "</style>\n",
       "<table border=\"1\" class=\"dataframe\">\n",
       "  <thead>\n",
       "    <tr style=\"text-align: right;\">\n",
       "      <th>race</th>\n",
       "      <th>1.0</th>\n",
       "      <th>2.0</th>\n",
       "      <th>3.0</th>\n",
       "      <th>6.0</th>\n",
       "      <th>4.0</th>\n",
       "      <th>5.0</th>\n",
       "    </tr>\n",
       "  </thead>\n",
       "  <tbody>\n",
       "    <tr>\n",
       "      <th>proportion</th>\n",
       "      <td>0.941224</td>\n",
       "      <td>0.024757</td>\n",
       "      <td>0.016475</td>\n",
       "      <td>0.010865</td>\n",
       "      <td>0.004720</td>\n",
       "      <td>0.001959</td>\n",
       "    </tr>\n",
       "    <tr>\n",
       "      <th>count</th>\n",
       "      <td>10569.000000</td>\n",
       "      <td>278.000000</td>\n",
       "      <td>185.000000</td>\n",
       "      <td>122.000000</td>\n",
       "      <td>53.000000</td>\n",
       "      <td>22.000000</td>\n",
       "    </tr>\n",
       "    <tr>\n",
       "      <th>label</th>\n",
       "      <td>0.076450</td>\n",
       "      <td>0.115108</td>\n",
       "      <td>0.097297</td>\n",
       "      <td>0.040984</td>\n",
       "      <td>0.169811</td>\n",
       "      <td>0.090909</td>\n",
       "    </tr>\n",
       "    <tr>\n",
       "      <th>diaghype</th>\n",
       "      <td>0.343291</td>\n",
       "      <td>0.564748</td>\n",
       "      <td>0.383784</td>\n",
       "      <td>0.327869</td>\n",
       "      <td>0.150943</td>\n",
       "      <td>0.272727</td>\n",
       "    </tr>\n",
       "  </tbody>\n",
       "</table>\n",
       "</div>"
      ],
      "text/plain": [
       "race                 1.0         2.0         3.0         6.0        4.0  \\\n",
       "proportion      0.941224    0.024757    0.016475    0.010865   0.004720   \n",
       "count       10569.000000  278.000000  185.000000  122.000000  53.000000   \n",
       "label           0.076450    0.115108    0.097297    0.040984   0.169811   \n",
       "diaghype        0.343291    0.564748    0.383784    0.327869   0.150943   \n",
       "\n",
       "race              5.0  \n",
       "proportion   0.001959  \n",
       "count       22.000000  \n",
       "label        0.090909  \n",
       "diaghype     0.272727  "
      ]
     },
     "metadata": {},
     "output_type": "display_data"
    },
    {
     "data": {
      "text/markdown": [
       "#### Fold 0"
      ],
      "text/plain": [
       "<IPython.core.display.Markdown object>"
      ]
     },
     "metadata": {},
     "output_type": "display_data"
    },
    {
     "data": {
      "text/markdown": [
       "##### train - overall malignancy = 0.07717391304347826"
      ],
      "text/plain": [
       "<IPython.core.display.Markdown object>"
      ]
     },
     "metadata": {},
     "output_type": "display_data"
    },
    {
     "data": {
      "application/vnd.microsoft.datawrangler.viewer.v0+json": {
       "columns": [
        {
         "name": "index",
         "rawType": "object",
         "type": "string"
        },
        {
         "name": "1.0",
         "rawType": "float64",
         "type": "float"
        },
        {
         "name": "2.0",
         "rawType": "float64",
         "type": "float"
        },
        {
         "name": "3.0",
         "rawType": "float64",
         "type": "float"
        },
        {
         "name": "6.0",
         "rawType": "float64",
         "type": "float"
        },
        {
         "name": "4.0",
         "rawType": "float64",
         "type": "float"
        },
        {
         "name": "5.0",
         "rawType": "float64",
         "type": "float"
        }
       ],
       "conversionMethod": "pd.DataFrame",
       "ref": "f14370a7-9251-443e-a7de-33c9f7f0894f",
       "rows": [
        [
         "proportion",
         "0.9415430267062315",
         "0.025816023738872405",
         "0.01572700296735905",
         "0.010781404549950545",
         "0.004648862512363996",
         "0.001483679525222552"
        ],
        [
         "count",
         "9519.0",
         "261.0",
         "159.0",
         "109.0",
         "47.0",
         "15.0"
        ],
        [
         "label",
         "0.0764786217039605",
         "0.10727969348659004",
         "0.09433962264150944",
         "0.045871559633027525",
         "0.06382978723404255",
         "0.13333333333333333"
        ],
        [
         "diaghype",
         "0.340810953133228",
         "0.5632183908045977",
         "0.36477987421383645",
         "0.27522935779816515",
         "0.1702127659574468",
         "0.4"
        ]
       ],
       "shape": {
        "columns": 6,
        "rows": 4
       }
      },
      "text/html": [
       "<div>\n",
       "<style scoped>\n",
       "    .dataframe tbody tr th:only-of-type {\n",
       "        vertical-align: middle;\n",
       "    }\n",
       "\n",
       "    .dataframe tbody tr th {\n",
       "        vertical-align: top;\n",
       "    }\n",
       "\n",
       "    .dataframe thead th {\n",
       "        text-align: right;\n",
       "    }\n",
       "</style>\n",
       "<table border=\"1\" class=\"dataframe\">\n",
       "  <thead>\n",
       "    <tr style=\"text-align: right;\">\n",
       "      <th>race</th>\n",
       "      <th>1.0</th>\n",
       "      <th>2.0</th>\n",
       "      <th>3.0</th>\n",
       "      <th>6.0</th>\n",
       "      <th>4.0</th>\n",
       "      <th>5.0</th>\n",
       "    </tr>\n",
       "  </thead>\n",
       "  <tbody>\n",
       "    <tr>\n",
       "      <th>proportion</th>\n",
       "      <td>0.941543</td>\n",
       "      <td>0.025816</td>\n",
       "      <td>0.015727</td>\n",
       "      <td>0.010781</td>\n",
       "      <td>0.004649</td>\n",
       "      <td>0.001484</td>\n",
       "    </tr>\n",
       "    <tr>\n",
       "      <th>count</th>\n",
       "      <td>9519.000000</td>\n",
       "      <td>261.000000</td>\n",
       "      <td>159.000000</td>\n",
       "      <td>109.000000</td>\n",
       "      <td>47.000000</td>\n",
       "      <td>15.000000</td>\n",
       "    </tr>\n",
       "    <tr>\n",
       "      <th>label</th>\n",
       "      <td>0.076479</td>\n",
       "      <td>0.107280</td>\n",
       "      <td>0.094340</td>\n",
       "      <td>0.045872</td>\n",
       "      <td>0.063830</td>\n",
       "      <td>0.133333</td>\n",
       "    </tr>\n",
       "    <tr>\n",
       "      <th>diaghype</th>\n",
       "      <td>0.340811</td>\n",
       "      <td>0.563218</td>\n",
       "      <td>0.364780</td>\n",
       "      <td>0.275229</td>\n",
       "      <td>0.170213</td>\n",
       "      <td>0.400000</td>\n",
       "    </tr>\n",
       "  </tbody>\n",
       "</table>\n",
       "</div>"
      ],
      "text/plain": [
       "race                1.0         2.0         3.0         6.0        4.0  \\\n",
       "proportion     0.941543    0.025816    0.015727    0.010781   0.004649   \n",
       "count       9519.000000  261.000000  159.000000  109.000000  47.000000   \n",
       "label          0.076479    0.107280    0.094340    0.045872   0.063830   \n",
       "diaghype       0.340811    0.563218    0.364780    0.275229   0.170213   \n",
       "\n",
       "race              5.0  \n",
       "proportion   0.001484  \n",
       "count       15.000000  \n",
       "label        0.133333  \n",
       "diaghype     0.400000  "
      ]
     },
     "metadata": {},
     "output_type": "display_data"
    },
    {
     "data": {
      "text/markdown": [
       "##### valid - overall malignancy = 0.082010582010582"
      ],
      "text/plain": [
       "<IPython.core.display.Markdown object>"
      ]
     },
     "metadata": {},
     "output_type": "display_data"
    },
    {
     "data": {
      "application/vnd.microsoft.datawrangler.viewer.v0+json": {
       "columns": [
        {
         "name": "index",
         "rawType": "object",
         "type": "string"
        },
        {
         "name": "1.0",
         "rawType": "float64",
         "type": "float"
        },
        {
         "name": "3.0",
         "rawType": "float64",
         "type": "float"
        },
        {
         "name": "2.0",
         "rawType": "float64",
         "type": "float"
        },
        {
         "name": "6.0",
         "rawType": "float64",
         "type": "float"
        },
        {
         "name": "5.0",
         "rawType": "float64",
         "type": "float"
        },
        {
         "name": "4.0",
         "rawType": "float64",
         "type": "float"
        }
       ],
       "conversionMethod": "pd.DataFrame",
       "ref": "9cea079d-00f0-459d-ba8d-158dbc2dd993",
       "rows": [
        [
         "proportion",
         "0.938337801608579",
         "0.02323503127792672",
         "0.01519213583556747",
         "0.01161751563896336",
         "0.006255585344057194",
         "0.005361930294906166"
        ],
        [
         "count",
         "1050.0",
         "26.0",
         "17.0",
         "13.0",
         "7.0",
         "6.0"
        ],
        [
         "label",
         "0.0761904761904762",
         "0.11538461538461539",
         "0.23529411764705882",
         "0.0",
         "0.0",
         "1.0"
        ],
        [
         "diaghype",
         "0.3657142857142857",
         "0.5",
         "0.5882352941176471",
         "0.7692307692307693",
         "0.0",
         "0.0"
        ]
       ],
       "shape": {
        "columns": 6,
        "rows": 4
       }
      },
      "text/html": [
       "<div>\n",
       "<style scoped>\n",
       "    .dataframe tbody tr th:only-of-type {\n",
       "        vertical-align: middle;\n",
       "    }\n",
       "\n",
       "    .dataframe tbody tr th {\n",
       "        vertical-align: top;\n",
       "    }\n",
       "\n",
       "    .dataframe thead th {\n",
       "        text-align: right;\n",
       "    }\n",
       "</style>\n",
       "<table border=\"1\" class=\"dataframe\">\n",
       "  <thead>\n",
       "    <tr style=\"text-align: right;\">\n",
       "      <th>race</th>\n",
       "      <th>1.0</th>\n",
       "      <th>3.0</th>\n",
       "      <th>2.0</th>\n",
       "      <th>6.0</th>\n",
       "      <th>5.0</th>\n",
       "      <th>4.0</th>\n",
       "    </tr>\n",
       "  </thead>\n",
       "  <tbody>\n",
       "    <tr>\n",
       "      <th>proportion</th>\n",
       "      <td>0.938338</td>\n",
       "      <td>0.023235</td>\n",
       "      <td>0.015192</td>\n",
       "      <td>0.011618</td>\n",
       "      <td>0.006256</td>\n",
       "      <td>0.005362</td>\n",
       "    </tr>\n",
       "    <tr>\n",
       "      <th>count</th>\n",
       "      <td>1050.000000</td>\n",
       "      <td>26.000000</td>\n",
       "      <td>17.000000</td>\n",
       "      <td>13.000000</td>\n",
       "      <td>7.000000</td>\n",
       "      <td>6.000000</td>\n",
       "    </tr>\n",
       "    <tr>\n",
       "      <th>label</th>\n",
       "      <td>0.076190</td>\n",
       "      <td>0.115385</td>\n",
       "      <td>0.235294</td>\n",
       "      <td>0.000000</td>\n",
       "      <td>0.000000</td>\n",
       "      <td>1.000000</td>\n",
       "    </tr>\n",
       "    <tr>\n",
       "      <th>diaghype</th>\n",
       "      <td>0.365714</td>\n",
       "      <td>0.500000</td>\n",
       "      <td>0.588235</td>\n",
       "      <td>0.769231</td>\n",
       "      <td>0.000000</td>\n",
       "      <td>0.000000</td>\n",
       "    </tr>\n",
       "  </tbody>\n",
       "</table>\n",
       "</div>"
      ],
      "text/plain": [
       "race                1.0        3.0        2.0        6.0       5.0       4.0\n",
       "proportion     0.938338   0.023235   0.015192   0.011618  0.006256  0.005362\n",
       "count       1050.000000  26.000000  17.000000  13.000000  7.000000  6.000000\n",
       "label          0.076190   0.115385   0.235294   0.000000  0.000000  1.000000\n",
       "diaghype       0.365714   0.500000   0.588235   0.769231  0.000000  0.000000"
      ]
     },
     "metadata": {},
     "output_type": "display_data"
    },
    {
     "data": {
      "text/markdown": [
       "#### Fold 1"
      ],
      "text/plain": [
       "<IPython.core.display.Markdown object>"
      ]
     },
     "metadata": {},
     "output_type": "display_data"
    },
    {
     "data": {
      "text/markdown": [
       "##### train - overall malignancy = 0.07837114832061826"
      ],
      "text/plain": [
       "<IPython.core.display.Markdown object>"
      ]
     },
     "metadata": {},
     "output_type": "display_data"
    },
    {
     "data": {
      "application/vnd.microsoft.datawrangler.viewer.v0+json": {
       "columns": [
        {
         "name": "index",
         "rawType": "object",
         "type": "string"
        },
        {
         "name": "1.0",
         "rawType": "float64",
         "type": "float"
        },
        {
         "name": "2.0",
         "rawType": "float64",
         "type": "float"
        },
        {
         "name": "3.0",
         "rawType": "float64",
         "type": "float"
        },
        {
         "name": "6.0",
         "rawType": "float64",
         "type": "float"
        },
        {
         "name": "4.0",
         "rawType": "float64",
         "type": "float"
        },
        {
         "name": "5.0",
         "rawType": "float64",
         "type": "float"
        }
       ],
       "conversionMethod": "pd.DataFrame",
       "ref": "a914b52a-d9b3-479f-bf0b-409c561b974c",
       "rows": [
        [
         "proportion",
         "0.9411239078633836",
         "0.02402700555996823",
         "0.016779189833200953",
         "0.01102065131056394",
         "0.004964257347100874",
         "0.0020849880857823667"
        ],
        [
         "count",
         "9479.0",
         "242.0",
         "169.0",
         "111.0",
         "50.0",
         "21.0"
        ],
        [
         "label",
         "0.07690684671378838",
         "0.1322314049586777",
         "0.08875739644970414",
         "0.04504504504504504",
         "0.18",
         "0.047619047619047616"
        ],
        [
         "diaghype",
         "0.348281332628239",
         "0.5289256198347108",
         "0.3905325443786982",
         "0.36036036036036034",
         "0.16",
         "0.23809523809523808"
        ]
       ],
       "shape": {
        "columns": 6,
        "rows": 4
       }
      },
      "text/html": [
       "<div>\n",
       "<style scoped>\n",
       "    .dataframe tbody tr th:only-of-type {\n",
       "        vertical-align: middle;\n",
       "    }\n",
       "\n",
       "    .dataframe tbody tr th {\n",
       "        vertical-align: top;\n",
       "    }\n",
       "\n",
       "    .dataframe thead th {\n",
       "        text-align: right;\n",
       "    }\n",
       "</style>\n",
       "<table border=\"1\" class=\"dataframe\">\n",
       "  <thead>\n",
       "    <tr style=\"text-align: right;\">\n",
       "      <th>race</th>\n",
       "      <th>1.0</th>\n",
       "      <th>2.0</th>\n",
       "      <th>3.0</th>\n",
       "      <th>6.0</th>\n",
       "      <th>4.0</th>\n",
       "      <th>5.0</th>\n",
       "    </tr>\n",
       "  </thead>\n",
       "  <tbody>\n",
       "    <tr>\n",
       "      <th>proportion</th>\n",
       "      <td>0.941124</td>\n",
       "      <td>0.024027</td>\n",
       "      <td>0.016779</td>\n",
       "      <td>0.011021</td>\n",
       "      <td>0.004964</td>\n",
       "      <td>0.002085</td>\n",
       "    </tr>\n",
       "    <tr>\n",
       "      <th>count</th>\n",
       "      <td>9479.000000</td>\n",
       "      <td>242.000000</td>\n",
       "      <td>169.000000</td>\n",
       "      <td>111.000000</td>\n",
       "      <td>50.000000</td>\n",
       "      <td>21.000000</td>\n",
       "    </tr>\n",
       "    <tr>\n",
       "      <th>label</th>\n",
       "      <td>0.076907</td>\n",
       "      <td>0.132231</td>\n",
       "      <td>0.088757</td>\n",
       "      <td>0.045045</td>\n",
       "      <td>0.180000</td>\n",
       "      <td>0.047619</td>\n",
       "    </tr>\n",
       "    <tr>\n",
       "      <th>diaghype</th>\n",
       "      <td>0.348281</td>\n",
       "      <td>0.528926</td>\n",
       "      <td>0.390533</td>\n",
       "      <td>0.360360</td>\n",
       "      <td>0.160000</td>\n",
       "      <td>0.238095</td>\n",
       "    </tr>\n",
       "  </tbody>\n",
       "</table>\n",
       "</div>"
      ],
      "text/plain": [
       "race                1.0         2.0         3.0         6.0        4.0  \\\n",
       "proportion     0.941124    0.024027    0.016779    0.011021   0.004964   \n",
       "count       9479.000000  242.000000  169.000000  111.000000  50.000000   \n",
       "label          0.076907    0.132231    0.088757    0.045045   0.180000   \n",
       "diaghype       0.348281    0.528926    0.390533    0.360360   0.160000   \n",
       "\n",
       "race              5.0  \n",
       "proportion   0.002085  \n",
       "count       21.000000  \n",
       "label        0.047619  \n",
       "diaghype     0.238095  "
      ]
     },
     "metadata": {},
     "output_type": "display_data"
    },
    {
     "data": {
      "text/markdown": [
       "##### valid - overall malignancy = 0.0714900947459087"
      ],
      "text/plain": [
       "<IPython.core.display.Markdown object>"
      ]
     },
     "metadata": {},
     "output_type": "display_data"
    },
    {
     "data": {
      "application/vnd.microsoft.datawrangler.viewer.v0+json": {
       "columns": [
        {
         "name": "index",
         "rawType": "object",
         "type": "string"
        },
        {
         "name": "1.0",
         "rawType": "float64",
         "type": "float"
        },
        {
         "name": "2.0",
         "rawType": "float64",
         "type": "float"
        },
        {
         "name": "3.0",
         "rawType": "float64",
         "type": "float"
        },
        {
         "name": "6.0",
         "rawType": "float64",
         "type": "float"
        },
        {
         "name": "4.0",
         "rawType": "float64",
         "type": "float"
        },
        {
         "name": "5.0",
         "rawType": "float64",
         "type": "float"
        }
       ],
       "conversionMethod": "pd.DataFrame",
       "ref": "185391d9-08a0-45fd-85cc-98acbcf90e1b",
       "rows": [
        [
         "proportion",
         "0.9420916162489196",
         "0.03111495246326707",
         "0.013828867761452032",
         "0.00950734658599827",
         "0.0025929127052722557",
         "0.000864304235090752"
        ],
        [
         "count",
         "1090.0",
         "36.0",
         "16.0",
         "11.0",
         "3.0",
         "1.0"
        ],
        [
         "label",
         "0.07247706422018349",
         "0.0",
         "0.1875",
         "0.0",
         "0.0",
         "1.0"
        ],
        [
         "diaghype",
         "0.3",
         "0.8055555555555556",
         "0.3125",
         "0.0",
         "0.0",
         "1.0"
        ]
       ],
       "shape": {
        "columns": 6,
        "rows": 4
       }
      },
      "text/html": [
       "<div>\n",
       "<style scoped>\n",
       "    .dataframe tbody tr th:only-of-type {\n",
       "        vertical-align: middle;\n",
       "    }\n",
       "\n",
       "    .dataframe tbody tr th {\n",
       "        vertical-align: top;\n",
       "    }\n",
       "\n",
       "    .dataframe thead th {\n",
       "        text-align: right;\n",
       "    }\n",
       "</style>\n",
       "<table border=\"1\" class=\"dataframe\">\n",
       "  <thead>\n",
       "    <tr style=\"text-align: right;\">\n",
       "      <th>race</th>\n",
       "      <th>1.0</th>\n",
       "      <th>2.0</th>\n",
       "      <th>3.0</th>\n",
       "      <th>6.0</th>\n",
       "      <th>4.0</th>\n",
       "      <th>5.0</th>\n",
       "    </tr>\n",
       "  </thead>\n",
       "  <tbody>\n",
       "    <tr>\n",
       "      <th>proportion</th>\n",
       "      <td>0.942092</td>\n",
       "      <td>0.031115</td>\n",
       "      <td>0.013829</td>\n",
       "      <td>0.009507</td>\n",
       "      <td>0.002593</td>\n",
       "      <td>0.000864</td>\n",
       "    </tr>\n",
       "    <tr>\n",
       "      <th>count</th>\n",
       "      <td>1090.000000</td>\n",
       "      <td>36.000000</td>\n",
       "      <td>16.000000</td>\n",
       "      <td>11.000000</td>\n",
       "      <td>3.000000</td>\n",
       "      <td>1.000000</td>\n",
       "    </tr>\n",
       "    <tr>\n",
       "      <th>label</th>\n",
       "      <td>0.072477</td>\n",
       "      <td>0.000000</td>\n",
       "      <td>0.187500</td>\n",
       "      <td>0.000000</td>\n",
       "      <td>0.000000</td>\n",
       "      <td>1.000000</td>\n",
       "    </tr>\n",
       "    <tr>\n",
       "      <th>diaghype</th>\n",
       "      <td>0.300000</td>\n",
       "      <td>0.805556</td>\n",
       "      <td>0.312500</td>\n",
       "      <td>0.000000</td>\n",
       "      <td>0.000000</td>\n",
       "      <td>1.000000</td>\n",
       "    </tr>\n",
       "  </tbody>\n",
       "</table>\n",
       "</div>"
      ],
      "text/plain": [
       "race                1.0        2.0        3.0        6.0       4.0       5.0\n",
       "proportion     0.942092   0.031115   0.013829   0.009507  0.002593  0.000864\n",
       "count       1090.000000  36.000000  16.000000  11.000000  3.000000  1.000000\n",
       "label          0.072477   0.000000   0.187500   0.000000  0.000000  1.000000\n",
       "diaghype       0.300000   0.805556   0.312500   0.000000  0.000000  1.000000"
      ]
     },
     "metadata": {},
     "output_type": "display_data"
    },
    {
     "data": {
      "text/markdown": [
       "#### Fold 2"
      ],
      "text/plain": [
       "<IPython.core.display.Markdown object>"
      ]
     },
     "metadata": {},
     "output_type": "display_data"
    },
    {
     "data": {
      "text/markdown": [
       "##### train - overall malignancy = 0.07772174428952833"
      ],
      "text/plain": [
       "<IPython.core.display.Markdown object>"
      ]
     },
     "metadata": {},
     "output_type": "display_data"
    },
    {
     "data": {
      "application/vnd.microsoft.datawrangler.viewer.v0+json": {
       "columns": [
        {
         "name": "index",
         "rawType": "object",
         "type": "string"
        },
        {
         "name": "1.0",
         "rawType": "float64",
         "type": "float"
        },
        {
         "name": "2.0",
         "rawType": "float64",
         "type": "float"
        },
        {
         "name": "3.0",
         "rawType": "float64",
         "type": "float"
        },
        {
         "name": "6.0",
         "rawType": "float64",
         "type": "float"
        },
        {
         "name": "4.0",
         "rawType": "float64",
         "type": "float"
        },
        {
         "name": "5.0",
         "rawType": "float64",
         "type": "float"
        }
       ],
       "conversionMethod": "pd.DataFrame",
       "ref": "b91d70fc-8b37-4f7b-b955-2ad2ed0c7155",
       "rows": [
        [
         "proportion",
         "0.9409316154608524",
         "0.025867195242814667",
         "0.016551040634291376",
         "0.010406342913776016",
         "0.004063429137760159",
         "0.002180376610505451"
        ],
        [
         "count",
         "9494.0",
         "261.0",
         "167.0",
         "105.0",
         "41.0",
         "22.0"
        ],
        [
         "label",
         "0.07668000842637455",
         "0.11494252873563218",
         "0.08982035928143713",
         "0.0380952380952381",
         "0.17073170731707318",
         "0.09090909090909091"
        ],
        [
         "diaghype",
         "0.3455121436114044",
         "0.5555555555555556",
         "0.40119760479041916",
         "0.3333333333333333",
         "0.14634146341463414",
         "0.2727272727272727"
        ]
       ],
       "shape": {
        "columns": 6,
        "rows": 4
       }
      },
      "text/html": [
       "<div>\n",
       "<style scoped>\n",
       "    .dataframe tbody tr th:only-of-type {\n",
       "        vertical-align: middle;\n",
       "    }\n",
       "\n",
       "    .dataframe tbody tr th {\n",
       "        vertical-align: top;\n",
       "    }\n",
       "\n",
       "    .dataframe thead th {\n",
       "        text-align: right;\n",
       "    }\n",
       "</style>\n",
       "<table border=\"1\" class=\"dataframe\">\n",
       "  <thead>\n",
       "    <tr style=\"text-align: right;\">\n",
       "      <th>race</th>\n",
       "      <th>1.0</th>\n",
       "      <th>2.0</th>\n",
       "      <th>3.0</th>\n",
       "      <th>6.0</th>\n",
       "      <th>4.0</th>\n",
       "      <th>5.0</th>\n",
       "    </tr>\n",
       "  </thead>\n",
       "  <tbody>\n",
       "    <tr>\n",
       "      <th>proportion</th>\n",
       "      <td>0.940932</td>\n",
       "      <td>0.025867</td>\n",
       "      <td>0.016551</td>\n",
       "      <td>0.010406</td>\n",
       "      <td>0.004063</td>\n",
       "      <td>0.002180</td>\n",
       "    </tr>\n",
       "    <tr>\n",
       "      <th>count</th>\n",
       "      <td>9494.000000</td>\n",
       "      <td>261.000000</td>\n",
       "      <td>167.000000</td>\n",
       "      <td>105.000000</td>\n",
       "      <td>41.000000</td>\n",
       "      <td>22.000000</td>\n",
       "    </tr>\n",
       "    <tr>\n",
       "      <th>label</th>\n",
       "      <td>0.076680</td>\n",
       "      <td>0.114943</td>\n",
       "      <td>0.089820</td>\n",
       "      <td>0.038095</td>\n",
       "      <td>0.170732</td>\n",
       "      <td>0.090909</td>\n",
       "    </tr>\n",
       "    <tr>\n",
       "      <th>diaghype</th>\n",
       "      <td>0.345512</td>\n",
       "      <td>0.555556</td>\n",
       "      <td>0.401198</td>\n",
       "      <td>0.333333</td>\n",
       "      <td>0.146341</td>\n",
       "      <td>0.272727</td>\n",
       "    </tr>\n",
       "  </tbody>\n",
       "</table>\n",
       "</div>"
      ],
      "text/plain": [
       "race                1.0         2.0         3.0         6.0        4.0  \\\n",
       "proportion     0.940932    0.025867    0.016551    0.010406   0.004063   \n",
       "count       9494.000000  261.000000  167.000000  105.000000  41.000000   \n",
       "label          0.076680    0.114943    0.089820    0.038095   0.170732   \n",
       "diaghype       0.345512    0.555556    0.401198    0.333333   0.146341   \n",
       "\n",
       "race              5.0  \n",
       "proportion   0.002180  \n",
       "count       22.000000  \n",
       "label        0.090909  \n",
       "diaghype     0.272727  "
      ]
     },
     "metadata": {},
     "output_type": "display_data"
    },
    {
     "data": {
      "text/markdown": [
       "##### valid - overall malignancy = 0.07712532865907099"
      ],
      "text/plain": [
       "<IPython.core.display.Markdown object>"
      ]
     },
     "metadata": {},
     "output_type": "display_data"
    },
    {
     "data": {
      "application/vnd.microsoft.datawrangler.viewer.v0+json": {
       "columns": [
        {
         "name": "index",
         "rawType": "object",
         "type": "string"
        },
        {
         "name": "1.0",
         "rawType": "float64",
         "type": "float"
        },
        {
         "name": "3.0",
         "rawType": "float64",
         "type": "float"
        },
        {
         "name": "2.0",
         "rawType": "float64",
         "type": "float"
        },
        {
         "name": "6.0",
         "rawType": "float64",
         "type": "float"
        },
        {
         "name": "4.0",
         "rawType": "float64",
         "type": "float"
        }
       ],
       "conversionMethod": "pd.DataFrame",
       "ref": "a7ed076f-2fc6-4aad-8f20-89948d46bd27",
       "rows": [
        [
         "proportion",
         "0.9438103599648815",
         "0.015803336259877086",
         "0.014925373134328358",
         "0.014925373134328358",
         "0.010535557506584723"
        ],
        [
         "count",
         "1075.0",
         "18.0",
         "17.0",
         "17.0",
         "12.0"
        ],
        [
         "label",
         "0.07441860465116279",
         "0.16666666666666666",
         "0.11764705882352941",
         "0.058823529411764705",
         "0.16666666666666666"
        ],
        [
         "diaghype",
         "0.32372093023255816",
         "0.2222222222222222",
         "0.7058823529411765",
         "0.29411764705882354",
         "0.16666666666666666"
        ]
       ],
       "shape": {
        "columns": 5,
        "rows": 4
       }
      },
      "text/html": [
       "<div>\n",
       "<style scoped>\n",
       "    .dataframe tbody tr th:only-of-type {\n",
       "        vertical-align: middle;\n",
       "    }\n",
       "\n",
       "    .dataframe tbody tr th {\n",
       "        vertical-align: top;\n",
       "    }\n",
       "\n",
       "    .dataframe thead th {\n",
       "        text-align: right;\n",
       "    }\n",
       "</style>\n",
       "<table border=\"1\" class=\"dataframe\">\n",
       "  <thead>\n",
       "    <tr style=\"text-align: right;\">\n",
       "      <th>race</th>\n",
       "      <th>1.0</th>\n",
       "      <th>3.0</th>\n",
       "      <th>2.0</th>\n",
       "      <th>6.0</th>\n",
       "      <th>4.0</th>\n",
       "    </tr>\n",
       "  </thead>\n",
       "  <tbody>\n",
       "    <tr>\n",
       "      <th>proportion</th>\n",
       "      <td>0.943810</td>\n",
       "      <td>0.015803</td>\n",
       "      <td>0.014925</td>\n",
       "      <td>0.014925</td>\n",
       "      <td>0.010536</td>\n",
       "    </tr>\n",
       "    <tr>\n",
       "      <th>count</th>\n",
       "      <td>1075.000000</td>\n",
       "      <td>18.000000</td>\n",
       "      <td>17.000000</td>\n",
       "      <td>17.000000</td>\n",
       "      <td>12.000000</td>\n",
       "    </tr>\n",
       "    <tr>\n",
       "      <th>label</th>\n",
       "      <td>0.074419</td>\n",
       "      <td>0.166667</td>\n",
       "      <td>0.117647</td>\n",
       "      <td>0.058824</td>\n",
       "      <td>0.166667</td>\n",
       "    </tr>\n",
       "    <tr>\n",
       "      <th>diaghype</th>\n",
       "      <td>0.323721</td>\n",
       "      <td>0.222222</td>\n",
       "      <td>0.705882</td>\n",
       "      <td>0.294118</td>\n",
       "      <td>0.166667</td>\n",
       "    </tr>\n",
       "  </tbody>\n",
       "</table>\n",
       "</div>"
      ],
      "text/plain": [
       "race                1.0        3.0        2.0        6.0        4.0\n",
       "proportion     0.943810   0.015803   0.014925   0.014925   0.010536\n",
       "count       1075.000000  18.000000  17.000000  17.000000  12.000000\n",
       "label          0.074419   0.166667   0.117647   0.058824   0.166667\n",
       "diaghype       0.323721   0.222222   0.705882   0.294118   0.166667"
      ]
     },
     "metadata": {},
     "output_type": "display_data"
    },
    {
     "data": {
      "text/markdown": [
       "#### Fold 3"
      ],
      "text/plain": [
       "<IPython.core.display.Markdown object>"
      ]
     },
     "metadata": {},
     "output_type": "display_data"
    },
    {
     "data": {
      "text/markdown": [
       "##### train - overall malignancy = 0.07837145110410094"
      ],
      "text/plain": [
       "<IPython.core.display.Markdown object>"
      ]
     },
     "metadata": {},
     "output_type": "display_data"
    },
    {
     "data": {
      "application/vnd.microsoft.datawrangler.viewer.v0+json": {
       "columns": [
        {
         "name": "index",
         "rawType": "object",
         "type": "string"
        },
        {
         "name": "1.0",
         "rawType": "float64",
         "type": "float"
        },
        {
         "name": "2.0",
         "rawType": "float64",
         "type": "float"
        },
        {
         "name": "3.0",
         "rawType": "float64",
         "type": "float"
        },
        {
         "name": "6.0",
         "rawType": "float64",
         "type": "float"
        },
        {
         "name": "4.0",
         "rawType": "float64",
         "type": "float"
        },
        {
         "name": "5.0",
         "rawType": "float64",
         "type": "float"
        }
       ],
       "conversionMethod": "pd.DataFrame",
       "ref": "ef21f242-38b7-4ccf-ae5d-e207f819077e",
       "rows": [
        [
         "proportion",
         "0.9408102766798419",
         "0.025098814229249013",
         "0.015513833992094862",
         "0.011462450592885375",
         "0.004940711462450593",
         "0.002173913043478261"
        ],
        [
         "count",
         "9521.0",
         "254.0",
         "157.0",
         "116.0",
         "50.0",
         "22.0"
        ],
        [
         "label",
         "0.0776178972796975",
         "0.1062992125984252",
         "0.08917197452229299",
         "0.034482758620689655",
         "0.18",
         "0.09090909090909091"
        ],
        [
         "diaghype",
         "0.3369485100558071",
         "0.5669291338582677",
         "0.3375796178343949",
         "0.33620689655172414",
         "0.1",
         "0.2727272727272727"
        ]
       ],
       "shape": {
        "columns": 6,
        "rows": 4
       }
      },
      "text/html": [
       "<div>\n",
       "<style scoped>\n",
       "    .dataframe tbody tr th:only-of-type {\n",
       "        vertical-align: middle;\n",
       "    }\n",
       "\n",
       "    .dataframe tbody tr th {\n",
       "        vertical-align: top;\n",
       "    }\n",
       "\n",
       "    .dataframe thead th {\n",
       "        text-align: right;\n",
       "    }\n",
       "</style>\n",
       "<table border=\"1\" class=\"dataframe\">\n",
       "  <thead>\n",
       "    <tr style=\"text-align: right;\">\n",
       "      <th>race</th>\n",
       "      <th>1.0</th>\n",
       "      <th>2.0</th>\n",
       "      <th>3.0</th>\n",
       "      <th>6.0</th>\n",
       "      <th>4.0</th>\n",
       "      <th>5.0</th>\n",
       "    </tr>\n",
       "  </thead>\n",
       "  <tbody>\n",
       "    <tr>\n",
       "      <th>proportion</th>\n",
       "      <td>0.940810</td>\n",
       "      <td>0.025099</td>\n",
       "      <td>0.015514</td>\n",
       "      <td>0.011462</td>\n",
       "      <td>0.004941</td>\n",
       "      <td>0.002174</td>\n",
       "    </tr>\n",
       "    <tr>\n",
       "      <th>count</th>\n",
       "      <td>9521.000000</td>\n",
       "      <td>254.000000</td>\n",
       "      <td>157.000000</td>\n",
       "      <td>116.000000</td>\n",
       "      <td>50.000000</td>\n",
       "      <td>22.000000</td>\n",
       "    </tr>\n",
       "    <tr>\n",
       "      <th>label</th>\n",
       "      <td>0.077618</td>\n",
       "      <td>0.106299</td>\n",
       "      <td>0.089172</td>\n",
       "      <td>0.034483</td>\n",
       "      <td>0.180000</td>\n",
       "      <td>0.090909</td>\n",
       "    </tr>\n",
       "    <tr>\n",
       "      <th>diaghype</th>\n",
       "      <td>0.336949</td>\n",
       "      <td>0.566929</td>\n",
       "      <td>0.337580</td>\n",
       "      <td>0.336207</td>\n",
       "      <td>0.100000</td>\n",
       "      <td>0.272727</td>\n",
       "    </tr>\n",
       "  </tbody>\n",
       "</table>\n",
       "</div>"
      ],
      "text/plain": [
       "race                1.0         2.0         3.0         6.0        4.0  \\\n",
       "proportion     0.940810    0.025099    0.015514    0.011462   0.004941   \n",
       "count       9521.000000  254.000000  157.000000  116.000000  50.000000   \n",
       "label          0.077618    0.106299    0.089172    0.034483   0.180000   \n",
       "diaghype       0.336949    0.566929    0.337580    0.336207   0.100000   \n",
       "\n",
       "race              5.0  \n",
       "proportion   0.002174  \n",
       "count       22.000000  \n",
       "label        0.090909  \n",
       "diaghype     0.272727  "
      ]
     },
     "metadata": {},
     "output_type": "display_data"
    },
    {
     "data": {
      "text/markdown": [
       "##### valid - overall malignancy = 0.07117117117117117"
      ],
      "text/plain": [
       "<IPython.core.display.Markdown object>"
      ]
     },
     "metadata": {},
     "output_type": "display_data"
    },
    {
     "data": {
      "application/vnd.microsoft.datawrangler.viewer.v0+json": {
       "columns": [
        {
         "name": "index",
         "rawType": "object",
         "type": "string"
        },
        {
         "name": "1.0",
         "rawType": "float64",
         "type": "float"
        },
        {
         "name": "3.0",
         "rawType": "float64",
         "type": "float"
        },
        {
         "name": "2.0",
         "rawType": "float64",
         "type": "float"
        },
        {
         "name": "6.0",
         "rawType": "float64",
         "type": "float"
        },
        {
         "name": "4.0",
         "rawType": "float64",
         "type": "float"
        }
       ],
       "conversionMethod": "pd.DataFrame",
       "ref": "32388085-14c6-43a2-9f14-abe0710fb11a",
       "rows": [
        [
         "proportion",
         "0.9449954914337241",
         "0.025247971145175834",
         "0.02164111812443643",
         "0.005410279531109108",
         "0.002705139765554554"
        ],
        [
         "count",
         "1048.0",
         "28.0",
         "24.0",
         "6.0",
         "3.0"
        ],
        [
         "label",
         "0.06583969465648855",
         "0.14285714285714285",
         "0.20833333333333334",
         "0.16666666666666666",
         "0.0"
        ],
        [
         "diaghype",
         "0.40076335877862596",
         "0.6428571428571429",
         "0.5416666666666666",
         "0.16666666666666666",
         "1.0"
        ]
       ],
       "shape": {
        "columns": 5,
        "rows": 4
       }
      },
      "text/html": [
       "<div>\n",
       "<style scoped>\n",
       "    .dataframe tbody tr th:only-of-type {\n",
       "        vertical-align: middle;\n",
       "    }\n",
       "\n",
       "    .dataframe tbody tr th {\n",
       "        vertical-align: top;\n",
       "    }\n",
       "\n",
       "    .dataframe thead th {\n",
       "        text-align: right;\n",
       "    }\n",
       "</style>\n",
       "<table border=\"1\" class=\"dataframe\">\n",
       "  <thead>\n",
       "    <tr style=\"text-align: right;\">\n",
       "      <th>race</th>\n",
       "      <th>1.0</th>\n",
       "      <th>3.0</th>\n",
       "      <th>2.0</th>\n",
       "      <th>6.0</th>\n",
       "      <th>4.0</th>\n",
       "    </tr>\n",
       "  </thead>\n",
       "  <tbody>\n",
       "    <tr>\n",
       "      <th>proportion</th>\n",
       "      <td>0.944995</td>\n",
       "      <td>0.025248</td>\n",
       "      <td>0.021641</td>\n",
       "      <td>0.005410</td>\n",
       "      <td>0.002705</td>\n",
       "    </tr>\n",
       "    <tr>\n",
       "      <th>count</th>\n",
       "      <td>1048.000000</td>\n",
       "      <td>28.000000</td>\n",
       "      <td>24.000000</td>\n",
       "      <td>6.000000</td>\n",
       "      <td>3.000000</td>\n",
       "    </tr>\n",
       "    <tr>\n",
       "      <th>label</th>\n",
       "      <td>0.065840</td>\n",
       "      <td>0.142857</td>\n",
       "      <td>0.208333</td>\n",
       "      <td>0.166667</td>\n",
       "      <td>0.000000</td>\n",
       "    </tr>\n",
       "    <tr>\n",
       "      <th>diaghype</th>\n",
       "      <td>0.400763</td>\n",
       "      <td>0.642857</td>\n",
       "      <td>0.541667</td>\n",
       "      <td>0.166667</td>\n",
       "      <td>1.000000</td>\n",
       "    </tr>\n",
       "  </tbody>\n",
       "</table>\n",
       "</div>"
      ],
      "text/plain": [
       "race                1.0        3.0        2.0       6.0       4.0\n",
       "proportion     0.944995   0.025248   0.021641  0.005410  0.002705\n",
       "count       1048.000000  28.000000  24.000000  6.000000  3.000000\n",
       "label          0.065840   0.142857   0.208333  0.166667  0.000000\n",
       "diaghype       0.400763   0.642857   0.541667  0.166667  1.000000"
      ]
     },
     "metadata": {},
     "output_type": "display_data"
    },
    {
     "data": {
      "text/markdown": [
       "#### Fold 4"
      ],
      "text/plain": [
       "<IPython.core.display.Markdown object>"
      ]
     },
     "metadata": {},
     "output_type": "display_data"
    },
    {
     "data": {
      "text/markdown": [
       "##### train - overall malignancy = 0.07874093933075166"
      ],
      "text/plain": [
       "<IPython.core.display.Markdown object>"
      ]
     },
     "metadata": {},
     "output_type": "display_data"
    },
    {
     "data": {
      "application/vnd.microsoft.datawrangler.viewer.v0+json": {
       "columns": [
        {
         "name": "index",
         "rawType": "object",
         "type": "string"
        },
        {
         "name": "1.0",
         "rawType": "float64",
         "type": "float"
        },
        {
         "name": "2.0",
         "rawType": "float64",
         "type": "float"
        },
        {
         "name": "3.0",
         "rawType": "float64",
         "type": "float"
        },
        {
         "name": "6.0",
         "rawType": "float64",
         "type": "float"
        },
        {
         "name": "4.0",
         "rawType": "float64",
         "type": "float"
        },
        {
         "name": "5.0",
         "rawType": "float64",
         "type": "float"
        }
       ],
       "conversionMethod": "pd.DataFrame",
       "ref": "0f7883d0-6428-49c6-b3dd-84c49c7403cb",
       "rows": [
        [
         "proportion",
         "0.9430619151901254",
         "0.025283695002986262",
         "0.01562811069082222",
         "0.009356957993231137",
         "0.004977105315548477",
         "0.0016922158072864822"
        ],
        [
         "count",
         "9474.0",
         "254.0",
         "157.0",
         "94.0",
         "50.0",
         "17.0"
        ],
        [
         "label",
         "0.07715853915980578",
         "0.12598425196850394",
         "0.11464968152866242",
         "0.02127659574468085",
         "0.18",
         "0.058823529411764705"
        ],
        [
         "diaghype",
         "0.34296296296296297",
         "0.5669291338582677",
         "0.4267515923566879",
         "0.32978723404255317",
         "0.16",
         "0.17647058823529413"
        ]
       ],
       "shape": {
        "columns": 6,
        "rows": 4
       }
      },
      "text/html": [
       "<div>\n",
       "<style scoped>\n",
       "    .dataframe tbody tr th:only-of-type {\n",
       "        vertical-align: middle;\n",
       "    }\n",
       "\n",
       "    .dataframe tbody tr th {\n",
       "        vertical-align: top;\n",
       "    }\n",
       "\n",
       "    .dataframe thead th {\n",
       "        text-align: right;\n",
       "    }\n",
       "</style>\n",
       "<table border=\"1\" class=\"dataframe\">\n",
       "  <thead>\n",
       "    <tr style=\"text-align: right;\">\n",
       "      <th>race</th>\n",
       "      <th>1.0</th>\n",
       "      <th>2.0</th>\n",
       "      <th>3.0</th>\n",
       "      <th>6.0</th>\n",
       "      <th>4.0</th>\n",
       "      <th>5.0</th>\n",
       "    </tr>\n",
       "  </thead>\n",
       "  <tbody>\n",
       "    <tr>\n",
       "      <th>proportion</th>\n",
       "      <td>0.943062</td>\n",
       "      <td>0.025284</td>\n",
       "      <td>0.015628</td>\n",
       "      <td>0.009357</td>\n",
       "      <td>0.004977</td>\n",
       "      <td>0.001692</td>\n",
       "    </tr>\n",
       "    <tr>\n",
       "      <th>count</th>\n",
       "      <td>9474.000000</td>\n",
       "      <td>254.000000</td>\n",
       "      <td>157.000000</td>\n",
       "      <td>94.000000</td>\n",
       "      <td>50.000000</td>\n",
       "      <td>17.000000</td>\n",
       "    </tr>\n",
       "    <tr>\n",
       "      <th>label</th>\n",
       "      <td>0.077159</td>\n",
       "      <td>0.125984</td>\n",
       "      <td>0.114650</td>\n",
       "      <td>0.021277</td>\n",
       "      <td>0.180000</td>\n",
       "      <td>0.058824</td>\n",
       "    </tr>\n",
       "    <tr>\n",
       "      <th>diaghype</th>\n",
       "      <td>0.342963</td>\n",
       "      <td>0.566929</td>\n",
       "      <td>0.426752</td>\n",
       "      <td>0.329787</td>\n",
       "      <td>0.160000</td>\n",
       "      <td>0.176471</td>\n",
       "    </tr>\n",
       "  </tbody>\n",
       "</table>\n",
       "</div>"
      ],
      "text/plain": [
       "race                1.0         2.0         3.0        6.0        4.0  \\\n",
       "proportion     0.943062    0.025284    0.015628   0.009357   0.004977   \n",
       "count       9474.000000  254.000000  157.000000  94.000000  50.000000   \n",
       "label          0.077159    0.125984    0.114650   0.021277   0.180000   \n",
       "diaghype       0.342963    0.566929    0.426752   0.329787   0.160000   \n",
       "\n",
       "race              5.0  \n",
       "proportion   0.001692  \n",
       "count       17.000000  \n",
       "label        0.058824  \n",
       "diaghype     0.176471  "
      ]
     },
     "metadata": {},
     "output_type": "display_data"
    },
    {
     "data": {
      "text/markdown": [
       "##### valid - overall malignancy = 0.06846999154691462"
      ],
      "text/plain": [
       "<IPython.core.display.Markdown object>"
      ]
     },
     "metadata": {},
     "output_type": "display_data"
    },
    {
     "data": {
      "application/vnd.microsoft.datawrangler.viewer.v0+json": {
       "columns": [
        {
         "name": "index",
         "rawType": "object",
         "type": "string"
        },
        {
         "name": "1.0",
         "rawType": "float64",
         "type": "float"
        },
        {
         "name": "6.0",
         "rawType": "float64",
         "type": "float"
        },
        {
         "name": "3.0",
         "rawType": "float64",
         "type": "float"
        },
        {
         "name": "2.0",
         "rawType": "float64",
         "type": "float"
        },
        {
         "name": "5.0",
         "rawType": "float64",
         "type": "float"
        },
        {
         "name": "4.0",
         "rawType": "float64",
         "type": "float"
        }
       ],
       "conversionMethod": "pd.DataFrame",
       "ref": "473f1317-29d6-428e-a2ec-7c3f1465f834",
       "rows": [
        [
         "proportion",
         "0.9256128486897718",
         "0.023668639053254437",
         "0.023668639053254437",
         "0.02028740490278952",
         "0.00422654268808115",
         "0.00253592561284869"
        ],
        [
         "count",
         "1095.0",
         "28.0",
         "28.0",
         "24.0",
         "5.0",
         "3.0"
        ],
        [
         "label",
         "0.07031963470319634",
         "0.10714285714285714",
         "0.0",
         "0.0",
         "0.2",
         "0.0"
        ],
        [
         "diaghype",
         "0.3461187214611872",
         "0.32142857142857145",
         "0.14285714285714285",
         "0.5416666666666666",
         "0.6",
         "0.0"
        ]
       ],
       "shape": {
        "columns": 6,
        "rows": 4
       }
      },
      "text/html": [
       "<div>\n",
       "<style scoped>\n",
       "    .dataframe tbody tr th:only-of-type {\n",
       "        vertical-align: middle;\n",
       "    }\n",
       "\n",
       "    .dataframe tbody tr th {\n",
       "        vertical-align: top;\n",
       "    }\n",
       "\n",
       "    .dataframe thead th {\n",
       "        text-align: right;\n",
       "    }\n",
       "</style>\n",
       "<table border=\"1\" class=\"dataframe\">\n",
       "  <thead>\n",
       "    <tr style=\"text-align: right;\">\n",
       "      <th>race</th>\n",
       "      <th>1.0</th>\n",
       "      <th>6.0</th>\n",
       "      <th>3.0</th>\n",
       "      <th>2.0</th>\n",
       "      <th>5.0</th>\n",
       "      <th>4.0</th>\n",
       "    </tr>\n",
       "  </thead>\n",
       "  <tbody>\n",
       "    <tr>\n",
       "      <th>proportion</th>\n",
       "      <td>0.925613</td>\n",
       "      <td>0.023669</td>\n",
       "      <td>0.023669</td>\n",
       "      <td>0.020287</td>\n",
       "      <td>0.004227</td>\n",
       "      <td>0.002536</td>\n",
       "    </tr>\n",
       "    <tr>\n",
       "      <th>count</th>\n",
       "      <td>1095.000000</td>\n",
       "      <td>28.000000</td>\n",
       "      <td>28.000000</td>\n",
       "      <td>24.000000</td>\n",
       "      <td>5.000000</td>\n",
       "      <td>3.000000</td>\n",
       "    </tr>\n",
       "    <tr>\n",
       "      <th>label</th>\n",
       "      <td>0.070320</td>\n",
       "      <td>0.107143</td>\n",
       "      <td>0.000000</td>\n",
       "      <td>0.000000</td>\n",
       "      <td>0.200000</td>\n",
       "      <td>0.000000</td>\n",
       "    </tr>\n",
       "    <tr>\n",
       "      <th>diaghype</th>\n",
       "      <td>0.346119</td>\n",
       "      <td>0.321429</td>\n",
       "      <td>0.142857</td>\n",
       "      <td>0.541667</td>\n",
       "      <td>0.600000</td>\n",
       "      <td>0.000000</td>\n",
       "    </tr>\n",
       "  </tbody>\n",
       "</table>\n",
       "</div>"
      ],
      "text/plain": [
       "race                1.0        6.0        3.0        2.0       5.0       4.0\n",
       "proportion     0.925613   0.023669   0.023669   0.020287  0.004227  0.002536\n",
       "count       1095.000000  28.000000  28.000000  24.000000  5.000000  3.000000\n",
       "label          0.070320   0.107143   0.000000   0.000000  0.200000  0.000000\n",
       "diaghype       0.346119   0.321429   0.142857   0.541667  0.600000  0.000000"
      ]
     },
     "metadata": {},
     "output_type": "display_data"
    },
    {
     "data": {
      "text/markdown": [
       "#### Fold 5"
      ],
      "text/plain": [
       "<IPython.core.display.Markdown object>"
      ]
     },
     "metadata": {},
     "output_type": "display_data"
    },
    {
     "data": {
      "text/markdown": [
       "##### train - overall malignancy = 0.07769869513641756"
      ],
      "text/plain": [
       "<IPython.core.display.Markdown object>"
      ]
     },
     "metadata": {},
     "output_type": "display_data"
    },
    {
     "data": {
      "application/vnd.microsoft.datawrangler.viewer.v0+json": {
       "columns": [
        {
         "name": "index",
         "rawType": "object",
         "type": "string"
        },
        {
         "name": "1.0",
         "rawType": "float64",
         "type": "float"
        },
        {
         "name": "2.0",
         "rawType": "float64",
         "type": "float"
        },
        {
         "name": "3.0",
         "rawType": "float64",
         "type": "float"
        },
        {
         "name": "6.0",
         "rawType": "float64",
         "type": "float"
        },
        {
         "name": "4.0",
         "rawType": "float64",
         "type": "float"
        },
        {
         "name": "5.0",
         "rawType": "float64",
         "type": "float"
        }
       ],
       "conversionMethod": "pd.DataFrame",
       "ref": "8cf72603-7891-471e-bc08-3c37229633fb",
       "rows": [
        [
         "proportion",
         "0.9417302546823902",
         "0.02566643543751858",
         "0.015459320186304628",
         "0.010008918838569022",
         "0.0049549103161232785",
         "0.0021801605390942423"
        ],
        [
         "count",
         "9503.0",
         "259.0",
         "156.0",
         "101.0",
         "50.0",
         "22.0"
        ],
        [
         "label",
         "0.07608123750394612",
         "0.11969111969111969",
         "0.10897435897435898",
         "0.04950495049504951",
         "0.16",
         "0.09090909090909091"
        ],
        [
         "diaghype",
         "0.34328515666209514",
         "0.5791505791505791",
         "0.41025641025641024",
         "0.31683168316831684",
         "0.1",
         "0.2727272727272727"
        ]
       ],
       "shape": {
        "columns": 6,
        "rows": 4
       }
      },
      "text/html": [
       "<div>\n",
       "<style scoped>\n",
       "    .dataframe tbody tr th:only-of-type {\n",
       "        vertical-align: middle;\n",
       "    }\n",
       "\n",
       "    .dataframe tbody tr th {\n",
       "        vertical-align: top;\n",
       "    }\n",
       "\n",
       "    .dataframe thead th {\n",
       "        text-align: right;\n",
       "    }\n",
       "</style>\n",
       "<table border=\"1\" class=\"dataframe\">\n",
       "  <thead>\n",
       "    <tr style=\"text-align: right;\">\n",
       "      <th>race</th>\n",
       "      <th>1.0</th>\n",
       "      <th>2.0</th>\n",
       "      <th>3.0</th>\n",
       "      <th>6.0</th>\n",
       "      <th>4.0</th>\n",
       "      <th>5.0</th>\n",
       "    </tr>\n",
       "  </thead>\n",
       "  <tbody>\n",
       "    <tr>\n",
       "      <th>proportion</th>\n",
       "      <td>0.941730</td>\n",
       "      <td>0.025666</td>\n",
       "      <td>0.015459</td>\n",
       "      <td>0.010009</td>\n",
       "      <td>0.004955</td>\n",
       "      <td>0.002180</td>\n",
       "    </tr>\n",
       "    <tr>\n",
       "      <th>count</th>\n",
       "      <td>9503.000000</td>\n",
       "      <td>259.000000</td>\n",
       "      <td>156.000000</td>\n",
       "      <td>101.000000</td>\n",
       "      <td>50.000000</td>\n",
       "      <td>22.000000</td>\n",
       "    </tr>\n",
       "    <tr>\n",
       "      <th>label</th>\n",
       "      <td>0.076081</td>\n",
       "      <td>0.119691</td>\n",
       "      <td>0.108974</td>\n",
       "      <td>0.049505</td>\n",
       "      <td>0.160000</td>\n",
       "      <td>0.090909</td>\n",
       "    </tr>\n",
       "    <tr>\n",
       "      <th>diaghype</th>\n",
       "      <td>0.343285</td>\n",
       "      <td>0.579151</td>\n",
       "      <td>0.410256</td>\n",
       "      <td>0.316832</td>\n",
       "      <td>0.100000</td>\n",
       "      <td>0.272727</td>\n",
       "    </tr>\n",
       "  </tbody>\n",
       "</table>\n",
       "</div>"
      ],
      "text/plain": [
       "race                1.0         2.0         3.0         6.0        4.0  \\\n",
       "proportion     0.941730    0.025666    0.015459    0.010009   0.004955   \n",
       "count       9503.000000  259.000000  156.000000  101.000000  50.000000   \n",
       "label          0.076081    0.119691    0.108974    0.049505   0.160000   \n",
       "diaghype       0.343285    0.579151    0.410256    0.316832   0.100000   \n",
       "\n",
       "race              5.0  \n",
       "proportion   0.002180  \n",
       "count       22.000000  \n",
       "label        0.090909  \n",
       "diaghype     0.272727  "
      ]
     },
     "metadata": {},
     "output_type": "display_data"
    },
    {
     "data": {
      "text/markdown": [
       "##### valid - overall malignancy = 0.0773286467486819"
      ],
      "text/plain": [
       "<IPython.core.display.Markdown object>"
      ]
     },
     "metadata": {},
     "output_type": "display_data"
    },
    {
     "data": {
      "application/vnd.microsoft.datawrangler.viewer.v0+json": {
       "columns": [
        {
         "name": "index",
         "rawType": "object",
         "type": "string"
        },
        {
         "name": "1.0",
         "rawType": "float64",
         "type": "float"
        },
        {
         "name": "3.0",
         "rawType": "float64",
         "type": "float"
        },
        {
         "name": "6.0",
         "rawType": "float64",
         "type": "float"
        },
        {
         "name": "2.0",
         "rawType": "float64",
         "type": "float"
        },
        {
         "name": "4.0",
         "rawType": "float64",
         "type": "float"
        }
       ],
       "conversionMethod": "pd.DataFrame",
       "ref": "2e847717-eb85-416b-be2b-d54765b8df7f",
       "rows": [
        [
         "proportion",
         "0.9367311072056239",
         "0.025483304042179262",
         "0.01845342706502636",
         "0.016695957820738138",
         "0.0026362038664323375"
        ],
        [
         "count",
         "1066.0",
         "29.0",
         "21.0",
         "19.0",
         "3.0"
        ],
        [
         "label",
         "0.07973733583489681",
         "0.034482758620689655",
         "0.0",
         "0.05263157894736842",
         "0.3333333333333333"
        ],
        [
         "diaghype",
         "0.3433395872420263",
         "0.2413793103448276",
         "0.38095238095238093",
         "0.3684210526315789",
         "1.0"
        ]
       ],
       "shape": {
        "columns": 5,
        "rows": 4
       }
      },
      "text/html": [
       "<div>\n",
       "<style scoped>\n",
       "    .dataframe tbody tr th:only-of-type {\n",
       "        vertical-align: middle;\n",
       "    }\n",
       "\n",
       "    .dataframe tbody tr th {\n",
       "        vertical-align: top;\n",
       "    }\n",
       "\n",
       "    .dataframe thead th {\n",
       "        text-align: right;\n",
       "    }\n",
       "</style>\n",
       "<table border=\"1\" class=\"dataframe\">\n",
       "  <thead>\n",
       "    <tr style=\"text-align: right;\">\n",
       "      <th>race</th>\n",
       "      <th>1.0</th>\n",
       "      <th>3.0</th>\n",
       "      <th>6.0</th>\n",
       "      <th>2.0</th>\n",
       "      <th>4.0</th>\n",
       "    </tr>\n",
       "  </thead>\n",
       "  <tbody>\n",
       "    <tr>\n",
       "      <th>proportion</th>\n",
       "      <td>0.936731</td>\n",
       "      <td>0.025483</td>\n",
       "      <td>0.018453</td>\n",
       "      <td>0.016696</td>\n",
       "      <td>0.002636</td>\n",
       "    </tr>\n",
       "    <tr>\n",
       "      <th>count</th>\n",
       "      <td>1066.000000</td>\n",
       "      <td>29.000000</td>\n",
       "      <td>21.000000</td>\n",
       "      <td>19.000000</td>\n",
       "      <td>3.000000</td>\n",
       "    </tr>\n",
       "    <tr>\n",
       "      <th>label</th>\n",
       "      <td>0.079737</td>\n",
       "      <td>0.034483</td>\n",
       "      <td>0.000000</td>\n",
       "      <td>0.052632</td>\n",
       "      <td>0.333333</td>\n",
       "    </tr>\n",
       "    <tr>\n",
       "      <th>diaghype</th>\n",
       "      <td>0.343340</td>\n",
       "      <td>0.241379</td>\n",
       "      <td>0.380952</td>\n",
       "      <td>0.368421</td>\n",
       "      <td>1.000000</td>\n",
       "    </tr>\n",
       "  </tbody>\n",
       "</table>\n",
       "</div>"
      ],
      "text/plain": [
       "race                1.0        3.0        6.0        2.0       4.0\n",
       "proportion     0.936731   0.025483   0.018453   0.016696  0.002636\n",
       "count       1066.000000  29.000000  21.000000  19.000000  3.000000\n",
       "label          0.079737   0.034483   0.000000   0.052632  0.333333\n",
       "diaghype       0.343340   0.241379   0.380952   0.368421  1.000000"
      ]
     },
     "metadata": {},
     "output_type": "display_data"
    },
    {
     "data": {
      "text/markdown": [
       "#### Fold 6"
      ],
      "text/plain": [
       "<IPython.core.display.Markdown object>"
      ]
     },
     "metadata": {},
     "output_type": "display_data"
    },
    {
     "data": {
      "text/markdown": [
       "##### train - overall malignancy = 0.07765467202666929"
      ],
      "text/plain": [
       "<IPython.core.display.Markdown object>"
      ]
     },
     "metadata": {},
     "output_type": "display_data"
    },
    {
     "data": {
      "application/vnd.microsoft.datawrangler.viewer.v0+json": {
       "columns": [
        {
         "name": "index",
         "rawType": "object",
         "type": "string"
        },
        {
         "name": "1.0",
         "rawType": "float64",
         "type": "float"
        },
        {
         "name": "2.0",
         "rawType": "float64",
         "type": "float"
        },
        {
         "name": "3.0",
         "rawType": "float64",
         "type": "float"
        },
        {
         "name": "6.0",
         "rawType": "float64",
         "type": "float"
        },
        {
         "name": "4.0",
         "rawType": "float64",
         "type": "float"
        },
        {
         "name": "5.0",
         "rawType": "float64",
         "type": "float"
        }
       ],
       "conversionMethod": "pd.DataFrame",
       "ref": "3694abdd-b4f3-4607-8a16-0ce2e8b79713",
       "rows": [
        [
         "proportion",
         "0.9440731275801062",
         "0.025162178101041873",
         "0.015038333005700805",
         "0.010615293886377039",
         "0.0038333005700805977",
         "0.0012777668566935326"
        ],
        [
         "count",
         "9605.0",
         "256.0",
         "153.0",
         "108.0",
         "39.0",
         "13.0"
        ],
        [
         "label",
         "0.07631441957313899",
         "0.11328125",
         "0.0915032679738562",
         "0.046296296296296294",
         "0.23076923076923078",
         "0.15384615384615385"
        ],
        [
         "diaghype",
         "0.3493636553306906",
         "0.546875",
         "0.35294117647058826",
         "0.3611111111111111",
         "0.20512820512820512",
         "0.3076923076923077"
        ]
       ],
       "shape": {
        "columns": 6,
        "rows": 4
       }
      },
      "text/html": [
       "<div>\n",
       "<style scoped>\n",
       "    .dataframe tbody tr th:only-of-type {\n",
       "        vertical-align: middle;\n",
       "    }\n",
       "\n",
       "    .dataframe tbody tr th {\n",
       "        vertical-align: top;\n",
       "    }\n",
       "\n",
       "    .dataframe thead th {\n",
       "        text-align: right;\n",
       "    }\n",
       "</style>\n",
       "<table border=\"1\" class=\"dataframe\">\n",
       "  <thead>\n",
       "    <tr style=\"text-align: right;\">\n",
       "      <th>race</th>\n",
       "      <th>1.0</th>\n",
       "      <th>2.0</th>\n",
       "      <th>3.0</th>\n",
       "      <th>6.0</th>\n",
       "      <th>4.0</th>\n",
       "      <th>5.0</th>\n",
       "    </tr>\n",
       "  </thead>\n",
       "  <tbody>\n",
       "    <tr>\n",
       "      <th>proportion</th>\n",
       "      <td>0.944073</td>\n",
       "      <td>0.025162</td>\n",
       "      <td>0.015038</td>\n",
       "      <td>0.010615</td>\n",
       "      <td>0.003833</td>\n",
       "      <td>0.001278</td>\n",
       "    </tr>\n",
       "    <tr>\n",
       "      <th>count</th>\n",
       "      <td>9605.000000</td>\n",
       "      <td>256.000000</td>\n",
       "      <td>153.000000</td>\n",
       "      <td>108.000000</td>\n",
       "      <td>39.000000</td>\n",
       "      <td>13.000000</td>\n",
       "    </tr>\n",
       "    <tr>\n",
       "      <th>label</th>\n",
       "      <td>0.076314</td>\n",
       "      <td>0.113281</td>\n",
       "      <td>0.091503</td>\n",
       "      <td>0.046296</td>\n",
       "      <td>0.230769</td>\n",
       "      <td>0.153846</td>\n",
       "    </tr>\n",
       "    <tr>\n",
       "      <th>diaghype</th>\n",
       "      <td>0.349364</td>\n",
       "      <td>0.546875</td>\n",
       "      <td>0.352941</td>\n",
       "      <td>0.361111</td>\n",
       "      <td>0.205128</td>\n",
       "      <td>0.307692</td>\n",
       "    </tr>\n",
       "  </tbody>\n",
       "</table>\n",
       "</div>"
      ],
      "text/plain": [
       "race                1.0         2.0         3.0         6.0        4.0  \\\n",
       "proportion     0.944073    0.025162    0.015038    0.010615   0.003833   \n",
       "count       9605.000000  256.000000  153.000000  108.000000  39.000000   \n",
       "label          0.076314    0.113281    0.091503    0.046296   0.230769   \n",
       "diaghype       0.349364    0.546875    0.352941    0.361111   0.205128   \n",
       "\n",
       "race              5.0  \n",
       "proportion   0.001278  \n",
       "count       13.000000  \n",
       "label        0.153846  \n",
       "diaghype     0.307692  "
      ]
     },
     "metadata": {},
     "output_type": "display_data"
    },
    {
     "data": {
      "text/markdown": [
       "##### valid - overall malignancy = 0.07772511848341232"
      ],
      "text/plain": [
       "<IPython.core.display.Markdown object>"
      ]
     },
     "metadata": {},
     "output_type": "display_data"
    },
    {
     "data": {
      "application/vnd.microsoft.datawrangler.viewer.v0+json": {
       "columns": [
        {
         "name": "index",
         "rawType": "object",
         "type": "string"
        },
        {
         "name": "1.0",
         "rawType": "float64",
         "type": "float"
        },
        {
         "name": "3.0",
         "rawType": "float64",
         "type": "float"
        },
        {
         "name": "2.0",
         "rawType": "float64",
         "type": "float"
        },
        {
         "name": "6.0",
         "rawType": "float64",
         "type": "float"
        },
        {
         "name": "4.0",
         "rawType": "float64",
         "type": "float"
        },
        {
         "name": "5.0",
         "rawType": "float64",
         "type": "float"
        }
       ],
       "conversionMethod": "pd.DataFrame",
       "ref": "6a3641b8-a133-42a0-9f7b-ac5d5354d02d",
       "rows": [
        [
         "proportion",
         "0.9137440758293839",
         "0.03033175355450237",
         "0.02085308056872038",
         "0.013270142180094787",
         "0.013270142180094787",
         "0.008530805687203791"
        ],
        [
         "count",
         "964.0",
         "32.0",
         "22.0",
         "14.0",
         "14.0",
         "9.0"
        ],
        [
         "label",
         "0.07780082987551867",
         "0.125",
         "0.13636363636363635",
         "0.0",
         "0.0",
         "0.0"
        ],
        [
         "diaghype",
         "0.28258602711157454",
         "0.53125",
         "0.7727272727272727",
         "0.07142857142857142",
         "0.0",
         "0.2222222222222222"
        ]
       ],
       "shape": {
        "columns": 6,
        "rows": 4
       }
      },
      "text/html": [
       "<div>\n",
       "<style scoped>\n",
       "    .dataframe tbody tr th:only-of-type {\n",
       "        vertical-align: middle;\n",
       "    }\n",
       "\n",
       "    .dataframe tbody tr th {\n",
       "        vertical-align: top;\n",
       "    }\n",
       "\n",
       "    .dataframe thead th {\n",
       "        text-align: right;\n",
       "    }\n",
       "</style>\n",
       "<table border=\"1\" class=\"dataframe\">\n",
       "  <thead>\n",
       "    <tr style=\"text-align: right;\">\n",
       "      <th>race</th>\n",
       "      <th>1.0</th>\n",
       "      <th>3.0</th>\n",
       "      <th>2.0</th>\n",
       "      <th>6.0</th>\n",
       "      <th>4.0</th>\n",
       "      <th>5.0</th>\n",
       "    </tr>\n",
       "  </thead>\n",
       "  <tbody>\n",
       "    <tr>\n",
       "      <th>proportion</th>\n",
       "      <td>0.913744</td>\n",
       "      <td>0.030332</td>\n",
       "      <td>0.020853</td>\n",
       "      <td>0.013270</td>\n",
       "      <td>0.01327</td>\n",
       "      <td>0.008531</td>\n",
       "    </tr>\n",
       "    <tr>\n",
       "      <th>count</th>\n",
       "      <td>964.000000</td>\n",
       "      <td>32.000000</td>\n",
       "      <td>22.000000</td>\n",
       "      <td>14.000000</td>\n",
       "      <td>14.00000</td>\n",
       "      <td>9.000000</td>\n",
       "    </tr>\n",
       "    <tr>\n",
       "      <th>label</th>\n",
       "      <td>0.077801</td>\n",
       "      <td>0.125000</td>\n",
       "      <td>0.136364</td>\n",
       "      <td>0.000000</td>\n",
       "      <td>0.00000</td>\n",
       "      <td>0.000000</td>\n",
       "    </tr>\n",
       "    <tr>\n",
       "      <th>diaghype</th>\n",
       "      <td>0.282586</td>\n",
       "      <td>0.531250</td>\n",
       "      <td>0.772727</td>\n",
       "      <td>0.071429</td>\n",
       "      <td>0.00000</td>\n",
       "      <td>0.222222</td>\n",
       "    </tr>\n",
       "  </tbody>\n",
       "</table>\n",
       "</div>"
      ],
      "text/plain": [
       "race               1.0        3.0        2.0        6.0       4.0       5.0\n",
       "proportion    0.913744   0.030332   0.020853   0.013270   0.01327  0.008531\n",
       "count       964.000000  32.000000  22.000000  14.000000  14.00000  9.000000\n",
       "label         0.077801   0.125000   0.136364   0.000000   0.00000  0.000000\n",
       "diaghype      0.282586   0.531250   0.772727   0.071429   0.00000  0.222222"
      ]
     },
     "metadata": {},
     "output_type": "display_data"
    },
    {
     "data": {
      "text/markdown": [
       "#### Fold 7"
      ],
      "text/plain": [
       "<IPython.core.display.Markdown object>"
      ]
     },
     "metadata": {},
     "output_type": "display_data"
    },
    {
     "data": {
      "text/markdown": [
       "##### train - overall malignancy = 0.077500988533017"
      ],
      "text/plain": [
       "<IPython.core.display.Markdown object>"
      ]
     },
     "metadata": {},
     "output_type": "display_data"
    },
    {
     "data": {
      "application/vnd.microsoft.datawrangler.viewer.v0+json": {
       "columns": [
        {
         "name": "index",
         "rawType": "object",
         "type": "string"
        },
        {
         "name": "1.0",
         "rawType": "float64",
         "type": "float"
        },
        {
         "name": "2.0",
         "rawType": "float64",
         "type": "float"
        },
        {
         "name": "3.0",
         "rawType": "float64",
         "type": "float"
        },
        {
         "name": "6.0",
         "rawType": "float64",
         "type": "float"
        },
        {
         "name": "4.0",
         "rawType": "float64",
         "type": "float"
        },
        {
         "name": "5.0",
         "rawType": "float64",
         "type": "float"
        }
       ],
       "conversionMethod": "pd.DataFrame",
       "ref": "aa4442d8-efc2-410e-8487-c3834abfebed",
       "rows": [
        [
         "proportion",
         "0.9400455851749083",
         "0.02338717669210187",
         "0.017837677138043802",
         "0.012089981171340799",
         "0.0044594192845109504",
         "0.0021801605390942423"
        ],
        [
         "count",
         "9486.0",
         "236.0",
         "180.0",
         "122.0",
         "45.0",
         "22.0"
        ],
        [
         "label",
         "0.07621758380771664",
         "0.11440677966101695",
         "0.1",
         "0.040983606557377046",
         "0.2",
         "0.09090909090909091"
        ],
        [
         "diaghype",
         "0.34009508716323295",
         "0.5932203389830508",
         "0.39444444444444443",
         "0.32786885245901637",
         "0.17777777777777778",
         "0.2727272727272727"
        ]
       ],
       "shape": {
        "columns": 6,
        "rows": 4
       }
      },
      "text/html": [
       "<div>\n",
       "<style scoped>\n",
       "    .dataframe tbody tr th:only-of-type {\n",
       "        vertical-align: middle;\n",
       "    }\n",
       "\n",
       "    .dataframe tbody tr th {\n",
       "        vertical-align: top;\n",
       "    }\n",
       "\n",
       "    .dataframe thead th {\n",
       "        text-align: right;\n",
       "    }\n",
       "</style>\n",
       "<table border=\"1\" class=\"dataframe\">\n",
       "  <thead>\n",
       "    <tr style=\"text-align: right;\">\n",
       "      <th>race</th>\n",
       "      <th>1.0</th>\n",
       "      <th>2.0</th>\n",
       "      <th>3.0</th>\n",
       "      <th>6.0</th>\n",
       "      <th>4.0</th>\n",
       "      <th>5.0</th>\n",
       "    </tr>\n",
       "  </thead>\n",
       "  <tbody>\n",
       "    <tr>\n",
       "      <th>proportion</th>\n",
       "      <td>0.940046</td>\n",
       "      <td>0.023387</td>\n",
       "      <td>0.017838</td>\n",
       "      <td>0.012090</td>\n",
       "      <td>0.004459</td>\n",
       "      <td>0.002180</td>\n",
       "    </tr>\n",
       "    <tr>\n",
       "      <th>count</th>\n",
       "      <td>9486.000000</td>\n",
       "      <td>236.000000</td>\n",
       "      <td>180.000000</td>\n",
       "      <td>122.000000</td>\n",
       "      <td>45.000000</td>\n",
       "      <td>22.000000</td>\n",
       "    </tr>\n",
       "    <tr>\n",
       "      <th>label</th>\n",
       "      <td>0.076218</td>\n",
       "      <td>0.114407</td>\n",
       "      <td>0.100000</td>\n",
       "      <td>0.040984</td>\n",
       "      <td>0.200000</td>\n",
       "      <td>0.090909</td>\n",
       "    </tr>\n",
       "    <tr>\n",
       "      <th>diaghype</th>\n",
       "      <td>0.340095</td>\n",
       "      <td>0.593220</td>\n",
       "      <td>0.394444</td>\n",
       "      <td>0.327869</td>\n",
       "      <td>0.177778</td>\n",
       "      <td>0.272727</td>\n",
       "    </tr>\n",
       "  </tbody>\n",
       "</table>\n",
       "</div>"
      ],
      "text/plain": [
       "race                1.0         2.0         3.0         6.0        4.0  \\\n",
       "proportion     0.940046    0.023387    0.017838    0.012090   0.004459   \n",
       "count       9486.000000  236.000000  180.000000  122.000000  45.000000   \n",
       "label          0.076218    0.114407    0.100000    0.040984   0.200000   \n",
       "diaghype       0.340095    0.593220    0.394444    0.327869   0.177778   \n",
       "\n",
       "race              5.0  \n",
       "proportion   0.002180  \n",
       "count       22.000000  \n",
       "label        0.090909  \n",
       "diaghype     0.272727  "
      ]
     },
     "metadata": {},
     "output_type": "display_data"
    },
    {
     "data": {
      "text/markdown": [
       "##### valid - overall malignancy = 0.07908611599297012"
      ],
      "text/plain": [
       "<IPython.core.display.Markdown object>"
      ]
     },
     "metadata": {},
     "output_type": "display_data"
    },
    {
     "data": {
      "application/vnd.microsoft.datawrangler.viewer.v0+json": {
       "columns": [
        {
         "name": "index",
         "rawType": "object",
         "type": "string"
        },
        {
         "name": "1.0",
         "rawType": "float64",
         "type": "float"
        },
        {
         "name": "2.0",
         "rawType": "float64",
         "type": "float"
        },
        {
         "name": "4.0",
         "rawType": "float64",
         "type": "float"
        },
        {
         "name": "3.0",
         "rawType": "float64",
         "type": "float"
        }
       ],
       "conversionMethod": "pd.DataFrame",
       "ref": "38f4411e-985b-42e2-8e59-f06081cd2f42",
       "rows": [
        [
         "proportion",
         "0.9516695957820738",
         "0.03690685413005272",
         "0.007029876977152899",
         "0.004393673110720563"
        ],
        [
         "count",
         "1083.0",
         "42.0",
         "8.0",
         "5.0"
        ],
        [
         "label",
         "0.07848568790397045",
         "0.11904761904761904",
         "0.0",
         "0.0"
        ],
        [
         "diaghype",
         "0.3712962962962963",
         "0.40476190476190477",
         "0.0",
         "0.0"
        ]
       ],
       "shape": {
        "columns": 4,
        "rows": 4
       }
      },
      "text/html": [
       "<div>\n",
       "<style scoped>\n",
       "    .dataframe tbody tr th:only-of-type {\n",
       "        vertical-align: middle;\n",
       "    }\n",
       "\n",
       "    .dataframe tbody tr th {\n",
       "        vertical-align: top;\n",
       "    }\n",
       "\n",
       "    .dataframe thead th {\n",
       "        text-align: right;\n",
       "    }\n",
       "</style>\n",
       "<table border=\"1\" class=\"dataframe\">\n",
       "  <thead>\n",
       "    <tr style=\"text-align: right;\">\n",
       "      <th>race</th>\n",
       "      <th>1.0</th>\n",
       "      <th>2.0</th>\n",
       "      <th>4.0</th>\n",
       "      <th>3.0</th>\n",
       "    </tr>\n",
       "  </thead>\n",
       "  <tbody>\n",
       "    <tr>\n",
       "      <th>proportion</th>\n",
       "      <td>0.951670</td>\n",
       "      <td>0.036907</td>\n",
       "      <td>0.00703</td>\n",
       "      <td>0.004394</td>\n",
       "    </tr>\n",
       "    <tr>\n",
       "      <th>count</th>\n",
       "      <td>1083.000000</td>\n",
       "      <td>42.000000</td>\n",
       "      <td>8.00000</td>\n",
       "      <td>5.000000</td>\n",
       "    </tr>\n",
       "    <tr>\n",
       "      <th>label</th>\n",
       "      <td>0.078486</td>\n",
       "      <td>0.119048</td>\n",
       "      <td>0.00000</td>\n",
       "      <td>0.000000</td>\n",
       "    </tr>\n",
       "    <tr>\n",
       "      <th>diaghype</th>\n",
       "      <td>0.371296</td>\n",
       "      <td>0.404762</td>\n",
       "      <td>0.00000</td>\n",
       "      <td>0.000000</td>\n",
       "    </tr>\n",
       "  </tbody>\n",
       "</table>\n",
       "</div>"
      ],
      "text/plain": [
       "race                1.0        2.0      4.0       3.0\n",
       "proportion     0.951670   0.036907  0.00703  0.004394\n",
       "count       1083.000000  42.000000  8.00000  5.000000\n",
       "label          0.078486   0.119048  0.00000  0.000000\n",
       "diaghype       0.371296   0.404762  0.00000  0.000000"
      ]
     },
     "metadata": {},
     "output_type": "display_data"
    },
    {
     "data": {
      "text/markdown": [
       "#### Fold 8"
      ],
      "text/plain": [
       "<IPython.core.display.Markdown object>"
      ]
     },
     "metadata": {},
     "output_type": "display_data"
    },
    {
     "data": {
      "text/markdown": [
       "##### train - overall malignancy = 0.07644567037730272"
      ],
      "text/plain": [
       "<IPython.core.display.Markdown object>"
      ]
     },
     "metadata": {},
     "output_type": "display_data"
    },
    {
     "data": {
      "application/vnd.microsoft.datawrangler.viewer.v0+json": {
       "columns": [
        {
         "name": "index",
         "rawType": "object",
         "type": "string"
        },
        {
         "name": "1.0",
         "rawType": "float64",
         "type": "float"
        },
        {
         "name": "2.0",
         "rawType": "float64",
         "type": "float"
        },
        {
         "name": "3.0",
         "rawType": "float64",
         "type": "float"
        },
        {
         "name": "6.0",
         "rawType": "float64",
         "type": "float"
        },
        {
         "name": "4.0",
         "rawType": "float64",
         "type": "float"
        },
        {
         "name": "5.0",
         "rawType": "float64",
         "type": "float"
        }
       ],
       "conversionMethod": "pd.DataFrame",
       "ref": "4131dbbf-1a14-4ddb-afc8-b9be9e1dd71b",
       "rows": [
        [
         "proportion",
         "0.939672195892575",
         "0.023992890995260665",
         "0.01796998420221169",
         "0.010959715639810427",
         "0.00523301737756714",
         "0.0021721958925750395"
        ],
        [
         "count",
         "9517.0",
         "243.0",
         "182.0",
         "111.0",
         "53.0",
         "22.0"
        ],
        [
         "label",
         "0.07523379216139539",
         "0.10699588477366255",
         "0.0989010989010989",
         "0.04504504504504504",
         "0.16981132075471697",
         "0.09090909090909091"
        ],
        [
         "diaghype",
         "0.3422797600252605",
         "0.5720164609053497",
         "0.37362637362637363",
         "0.3063063063063063",
         "0.1509433962264151",
         "0.2727272727272727"
        ]
       ],
       "shape": {
        "columns": 6,
        "rows": 4
       }
      },
      "text/html": [
       "<div>\n",
       "<style scoped>\n",
       "    .dataframe tbody tr th:only-of-type {\n",
       "        vertical-align: middle;\n",
       "    }\n",
       "\n",
       "    .dataframe tbody tr th {\n",
       "        vertical-align: top;\n",
       "    }\n",
       "\n",
       "    .dataframe thead th {\n",
       "        text-align: right;\n",
       "    }\n",
       "</style>\n",
       "<table border=\"1\" class=\"dataframe\">\n",
       "  <thead>\n",
       "    <tr style=\"text-align: right;\">\n",
       "      <th>race</th>\n",
       "      <th>1.0</th>\n",
       "      <th>2.0</th>\n",
       "      <th>3.0</th>\n",
       "      <th>6.0</th>\n",
       "      <th>4.0</th>\n",
       "      <th>5.0</th>\n",
       "    </tr>\n",
       "  </thead>\n",
       "  <tbody>\n",
       "    <tr>\n",
       "      <th>proportion</th>\n",
       "      <td>0.939672</td>\n",
       "      <td>0.023993</td>\n",
       "      <td>0.017970</td>\n",
       "      <td>0.010960</td>\n",
       "      <td>0.005233</td>\n",
       "      <td>0.002172</td>\n",
       "    </tr>\n",
       "    <tr>\n",
       "      <th>count</th>\n",
       "      <td>9517.000000</td>\n",
       "      <td>243.000000</td>\n",
       "      <td>182.000000</td>\n",
       "      <td>111.000000</td>\n",
       "      <td>53.000000</td>\n",
       "      <td>22.000000</td>\n",
       "    </tr>\n",
       "    <tr>\n",
       "      <th>label</th>\n",
       "      <td>0.075234</td>\n",
       "      <td>0.106996</td>\n",
       "      <td>0.098901</td>\n",
       "      <td>0.045045</td>\n",
       "      <td>0.169811</td>\n",
       "      <td>0.090909</td>\n",
       "    </tr>\n",
       "    <tr>\n",
       "      <th>diaghype</th>\n",
       "      <td>0.342280</td>\n",
       "      <td>0.572016</td>\n",
       "      <td>0.373626</td>\n",
       "      <td>0.306306</td>\n",
       "      <td>0.150943</td>\n",
       "      <td>0.272727</td>\n",
       "    </tr>\n",
       "  </tbody>\n",
       "</table>\n",
       "</div>"
      ],
      "text/plain": [
       "race                1.0         2.0         3.0         6.0        4.0  \\\n",
       "proportion     0.939672    0.023993    0.017970    0.010960   0.005233   \n",
       "count       9517.000000  243.000000  182.000000  111.000000  53.000000   \n",
       "label          0.075234    0.106996    0.098901    0.045045   0.169811   \n",
       "diaghype       0.342280    0.572016    0.373626    0.306306   0.150943   \n",
       "\n",
       "race              5.0  \n",
       "proportion   0.002172  \n",
       "count       22.000000  \n",
       "label        0.090909  \n",
       "diaghype     0.272727  "
      ]
     },
     "metadata": {},
     "output_type": "display_data"
    },
    {
     "data": {
      "text/markdown": [
       "##### valid - overall malignancy = 0.08884859474161379"
      ],
      "text/plain": [
       "<IPython.core.display.Markdown object>"
      ]
     },
     "metadata": {},
     "output_type": "display_data"
    },
    {
     "data": {
      "application/vnd.microsoft.datawrangler.viewer.v0+json": {
       "columns": [
        {
         "name": "index",
         "rawType": "object",
         "type": "string"
        },
        {
         "name": "1.0",
         "rawType": "float64",
         "type": "float"
        },
        {
         "name": "2.0",
         "rawType": "float64",
         "type": "float"
        },
        {
         "name": "6.0",
         "rawType": "float64",
         "type": "float"
        },
        {
         "name": "3.0",
         "rawType": "float64",
         "type": "float"
        }
       ],
       "conversionMethod": "pd.DataFrame",
       "ref": "538dbcf0-a843-496e-8b8f-d9f5f6b1de80",
       "rows": [
        [
         "proportion",
         "0.9554950045413261",
         "0.03178928247048138",
         "0.009990917347865577",
         "0.0027247956403269754"
        ],
        [
         "count",
         "1052.0",
         "35.0",
         "11.0",
         "3.0"
        ],
        [
         "label",
         "0.08745247148288973",
         "0.17142857142857143",
         "0.0",
         "0.0"
        ],
        [
         "diaghype",
         "0.3524904214559387",
         "0.5142857142857142",
         "0.5454545454545454",
         "1.0"
        ]
       ],
       "shape": {
        "columns": 4,
        "rows": 4
       }
      },
      "text/html": [
       "<div>\n",
       "<style scoped>\n",
       "    .dataframe tbody tr th:only-of-type {\n",
       "        vertical-align: middle;\n",
       "    }\n",
       "\n",
       "    .dataframe tbody tr th {\n",
       "        vertical-align: top;\n",
       "    }\n",
       "\n",
       "    .dataframe thead th {\n",
       "        text-align: right;\n",
       "    }\n",
       "</style>\n",
       "<table border=\"1\" class=\"dataframe\">\n",
       "  <thead>\n",
       "    <tr style=\"text-align: right;\">\n",
       "      <th>race</th>\n",
       "      <th>1.0</th>\n",
       "      <th>2.0</th>\n",
       "      <th>6.0</th>\n",
       "      <th>3.0</th>\n",
       "    </tr>\n",
       "  </thead>\n",
       "  <tbody>\n",
       "    <tr>\n",
       "      <th>proportion</th>\n",
       "      <td>0.955495</td>\n",
       "      <td>0.031789</td>\n",
       "      <td>0.009991</td>\n",
       "      <td>0.002725</td>\n",
       "    </tr>\n",
       "    <tr>\n",
       "      <th>count</th>\n",
       "      <td>1052.000000</td>\n",
       "      <td>35.000000</td>\n",
       "      <td>11.000000</td>\n",
       "      <td>3.000000</td>\n",
       "    </tr>\n",
       "    <tr>\n",
       "      <th>label</th>\n",
       "      <td>0.087452</td>\n",
       "      <td>0.171429</td>\n",
       "      <td>0.000000</td>\n",
       "      <td>0.000000</td>\n",
       "    </tr>\n",
       "    <tr>\n",
       "      <th>diaghype</th>\n",
       "      <td>0.352490</td>\n",
       "      <td>0.514286</td>\n",
       "      <td>0.545455</td>\n",
       "      <td>1.000000</td>\n",
       "    </tr>\n",
       "  </tbody>\n",
       "</table>\n",
       "</div>"
      ],
      "text/plain": [
       "race                1.0        2.0        6.0       3.0\n",
       "proportion     0.955495   0.031789   0.009991  0.002725\n",
       "count       1052.000000  35.000000  11.000000  3.000000\n",
       "label          0.087452   0.171429   0.000000  0.000000\n",
       "diaghype       0.352490   0.514286   0.545455  1.000000"
      ]
     },
     "metadata": {},
     "output_type": "display_data"
    },
    {
     "data": {
      "text/markdown": [
       "#### Fold 9"
      ],
      "text/plain": [
       "<IPython.core.display.Markdown object>"
      ]
     },
     "metadata": {},
     "output_type": "display_data"
    },
    {
     "data": {
      "text/markdown": [
       "##### train - overall malignancy = 0.07694578372527797"
      ],
      "text/plain": [
       "<IPython.core.display.Markdown object>"
      ]
     },
     "metadata": {},
     "output_type": "display_data"
    },
    {
     "data": {
      "application/vnd.microsoft.datawrangler.viewer.v0+json": {
       "columns": [
        {
         "name": "index",
         "rawType": "object",
         "type": "string"
        },
        {
         "name": "1.0",
         "rawType": "float64",
         "type": "float"
        },
        {
         "name": "2.0",
         "rawType": "float64",
         "type": "float"
        },
        {
         "name": "3.0",
         "rawType": "float64",
         "type": "float"
        },
        {
         "name": "6.0",
         "rawType": "float64",
         "type": "float"
        },
        {
         "name": "4.0",
         "rawType": "float64",
         "type": "float"
        },
        {
         "name": "5.0",
         "rawType": "float64",
         "type": "float"
        }
       ],
       "conversionMethod": "pd.DataFrame",
       "ref": "5a991f08-b8f1-452f-a127-943e6f6cd04a",
       "rows": [
        [
         "proportion",
         "0.9392445014301213",
         "0.02327645724430417",
         "0.018246375382187593",
         "0.011934115790511885",
         "0.005128710918236513",
         "0.0021698392346385246"
        ],
        [
         "count",
         "9523.0",
         "236.0",
         "185.0",
         "121.0",
         "52.0",
         "22.0"
        ],
        [
         "label",
         "0.07581644439777381",
         "0.11016949152542373",
         "0.0972972972972973",
         "0.04132231404958678",
         "0.17307692307692307",
         "0.09090909090909091"
        ],
        [
         "diaghype",
         "0.34332597033764595",
         "0.576271186440678",
         "0.3837837837837838",
         "0.3305785123966942",
         "0.15384615384615385",
         "0.2727272727272727"
        ]
       ],
       "shape": {
        "columns": 6,
        "rows": 4
       }
      },
      "text/html": [
       "<div>\n",
       "<style scoped>\n",
       "    .dataframe tbody tr th:only-of-type {\n",
       "        vertical-align: middle;\n",
       "    }\n",
       "\n",
       "    .dataframe tbody tr th {\n",
       "        vertical-align: top;\n",
       "    }\n",
       "\n",
       "    .dataframe thead th {\n",
       "        text-align: right;\n",
       "    }\n",
       "</style>\n",
       "<table border=\"1\" class=\"dataframe\">\n",
       "  <thead>\n",
       "    <tr style=\"text-align: right;\">\n",
       "      <th>race</th>\n",
       "      <th>1.0</th>\n",
       "      <th>2.0</th>\n",
       "      <th>3.0</th>\n",
       "      <th>6.0</th>\n",
       "      <th>4.0</th>\n",
       "      <th>5.0</th>\n",
       "    </tr>\n",
       "  </thead>\n",
       "  <tbody>\n",
       "    <tr>\n",
       "      <th>proportion</th>\n",
       "      <td>0.939245</td>\n",
       "      <td>0.023276</td>\n",
       "      <td>0.018246</td>\n",
       "      <td>0.011934</td>\n",
       "      <td>0.005129</td>\n",
       "      <td>0.002170</td>\n",
       "    </tr>\n",
       "    <tr>\n",
       "      <th>count</th>\n",
       "      <td>9523.000000</td>\n",
       "      <td>236.000000</td>\n",
       "      <td>185.000000</td>\n",
       "      <td>121.000000</td>\n",
       "      <td>52.000000</td>\n",
       "      <td>22.000000</td>\n",
       "    </tr>\n",
       "    <tr>\n",
       "      <th>label</th>\n",
       "      <td>0.075816</td>\n",
       "      <td>0.110169</td>\n",
       "      <td>0.097297</td>\n",
       "      <td>0.041322</td>\n",
       "      <td>0.173077</td>\n",
       "      <td>0.090909</td>\n",
       "    </tr>\n",
       "    <tr>\n",
       "      <th>diaghype</th>\n",
       "      <td>0.343326</td>\n",
       "      <td>0.576271</td>\n",
       "      <td>0.383784</td>\n",
       "      <td>0.330579</td>\n",
       "      <td>0.153846</td>\n",
       "      <td>0.272727</td>\n",
       "    </tr>\n",
       "  </tbody>\n",
       "</table>\n",
       "</div>"
      ],
      "text/plain": [
       "race                1.0         2.0         3.0         6.0        4.0  \\\n",
       "proportion     0.939245    0.023276    0.018246    0.011934   0.005129   \n",
       "count       9523.000000  236.000000  185.000000  121.000000  52.000000   \n",
       "label          0.075816    0.110169    0.097297    0.041322   0.173077   \n",
       "diaghype       0.343326    0.576271    0.383784    0.330579   0.153846   \n",
       "\n",
       "race              5.0  \n",
       "proportion   0.002170  \n",
       "count       22.000000  \n",
       "label        0.090909  \n",
       "diaghype     0.272727  "
      ]
     },
     "metadata": {},
     "output_type": "display_data"
    },
    {
     "data": {
      "text/markdown": [
       "##### valid - overall malignancy = 0.0843263061411549"
      ],
      "text/plain": [
       "<IPython.core.display.Markdown object>"
      ]
     },
     "metadata": {},
     "output_type": "display_data"
    },
    {
     "data": {
      "application/vnd.microsoft.datawrangler.viewer.v0+json": {
       "columns": [
        {
         "name": "index",
         "rawType": "object",
         "type": "string"
        },
        {
         "name": "1.0",
         "rawType": "float64",
         "type": "float"
        },
        {
         "name": "2.0",
         "rawType": "float64",
         "type": "float"
        },
        {
         "name": "6.0",
         "rawType": "float64",
         "type": "float"
        },
        {
         "name": "4.0",
         "rawType": "float64",
         "type": "float"
        }
       ],
       "conversionMethod": "pd.DataFrame",
       "ref": "ecf110ec-358b-4a13-b694-7ac96ef81180",
       "rows": [
        [
         "proportion",
         "0.9596330275229358",
         "0.03853211009174312",
         "0.0009174311926605505",
         "0.0009174311926605505"
        ],
        [
         "count",
         "1046.0",
         "42.0",
         "1.0",
         "1.0"
        ],
        [
         "label",
         "0.08221797323135756",
         "0.14285714285714285",
         "0.0",
         "0.0"
        ],
        [
         "diaghype",
         "0.34296724470134876",
         "0.5",
         "0.0",
         "0.0"
        ]
       ],
       "shape": {
        "columns": 4,
        "rows": 4
       }
      },
      "text/html": [
       "<div>\n",
       "<style scoped>\n",
       "    .dataframe tbody tr th:only-of-type {\n",
       "        vertical-align: middle;\n",
       "    }\n",
       "\n",
       "    .dataframe tbody tr th {\n",
       "        vertical-align: top;\n",
       "    }\n",
       "\n",
       "    .dataframe thead th {\n",
       "        text-align: right;\n",
       "    }\n",
       "</style>\n",
       "<table border=\"1\" class=\"dataframe\">\n",
       "  <thead>\n",
       "    <tr style=\"text-align: right;\">\n",
       "      <th>race</th>\n",
       "      <th>1.0</th>\n",
       "      <th>2.0</th>\n",
       "      <th>6.0</th>\n",
       "      <th>4.0</th>\n",
       "    </tr>\n",
       "  </thead>\n",
       "  <tbody>\n",
       "    <tr>\n",
       "      <th>proportion</th>\n",
       "      <td>0.959633</td>\n",
       "      <td>0.038532</td>\n",
       "      <td>0.000917</td>\n",
       "      <td>0.000917</td>\n",
       "    </tr>\n",
       "    <tr>\n",
       "      <th>count</th>\n",
       "      <td>1046.000000</td>\n",
       "      <td>42.000000</td>\n",
       "      <td>1.000000</td>\n",
       "      <td>1.000000</td>\n",
       "    </tr>\n",
       "    <tr>\n",
       "      <th>label</th>\n",
       "      <td>0.082218</td>\n",
       "      <td>0.142857</td>\n",
       "      <td>0.000000</td>\n",
       "      <td>0.000000</td>\n",
       "    </tr>\n",
       "    <tr>\n",
       "      <th>diaghype</th>\n",
       "      <td>0.342967</td>\n",
       "      <td>0.500000</td>\n",
       "      <td>0.000000</td>\n",
       "      <td>0.000000</td>\n",
       "    </tr>\n",
       "  </tbody>\n",
       "</table>\n",
       "</div>"
      ],
      "text/plain": [
       "race                1.0        2.0       6.0       4.0\n",
       "proportion     0.959633   0.038532  0.000917  0.000917\n",
       "count       1046.000000  42.000000  1.000000  1.000000\n",
       "label          0.082218   0.142857  0.000000  0.000000\n",
       "diaghype       0.342967   0.500000  0.000000  0.000000"
      ]
     },
     "metadata": {},
     "output_type": "display_data"
    }
   ],
   "source": [
    "analyze_race_and_malignancy('70')"
   ]
  },
  {
   "cell_type": "markdown",
   "metadata": {},
   "source": [
    "## 80% subset"
   ]
  },
  {
   "cell_type": "code",
   "execution_count": 9,
   "metadata": {},
   "outputs": [
    {
     "name": "stdout",
     "output_type": "stream",
     "text": [
      "Theoretical max black proportion = 0.03739989114376798\n"
     ]
    },
    {
     "data": {
      "text/markdown": [
       "### Overall dataset:"
      ],
      "text/plain": [
       "<IPython.core.display.Markdown object>"
      ]
     },
     "metadata": {},
     "output_type": "display_data"
    },
    {
     "data": {
      "application/vnd.microsoft.datawrangler.viewer.v0+json": {
       "columns": [
        {
         "name": "index",
         "rawType": "object",
         "type": "string"
        },
        {
         "name": "1.0",
         "rawType": "float64",
         "type": "float"
        },
        {
         "name": "2.0",
         "rawType": "float64",
         "type": "float"
        },
        {
         "name": "3.0",
         "rawType": "float64",
         "type": "float"
        },
        {
         "name": "6.0",
         "rawType": "float64",
         "type": "float"
        },
        {
         "name": "4.0",
         "rawType": "float64",
         "type": "float"
        },
        {
         "name": "5.0",
         "rawType": "float64",
         "type": "float"
        }
       ],
       "conversionMethod": "pd.DataFrame",
       "ref": "a44a1cba-c990-4a36-9af3-5ab6c702fbf6",
       "rows": [
        [
         "proportion",
         "0.9367009666354849",
         "0.029544745868412846",
         "0.01520112254443405",
         "0.012238852510134082",
         "0.004365450576863112",
         "0.0019488618646710321"
        ],
        [
         "count",
         "12016.0",
         "379.0",
         "195.0",
         "157.0",
         "56.0",
         "25.0"
        ],
        [
         "label",
         "0.07681424766977364",
         "0.10290237467018469",
         "0.09743589743589744",
         "0.03821656050955414",
         "0.16071428571428573",
         "0.08"
        ],
        [
         "diaghype",
         "0.33964309539693127",
         "0.5408970976253298",
         "0.4",
         "0.3184713375796178",
         "0.19642857142857142",
         "0.24"
        ]
       ],
       "shape": {
        "columns": 6,
        "rows": 4
       }
      },
      "text/html": [
       "<div>\n",
       "<style scoped>\n",
       "    .dataframe tbody tr th:only-of-type {\n",
       "        vertical-align: middle;\n",
       "    }\n",
       "\n",
       "    .dataframe tbody tr th {\n",
       "        vertical-align: top;\n",
       "    }\n",
       "\n",
       "    .dataframe thead th {\n",
       "        text-align: right;\n",
       "    }\n",
       "</style>\n",
       "<table border=\"1\" class=\"dataframe\">\n",
       "  <thead>\n",
       "    <tr style=\"text-align: right;\">\n",
       "      <th>race</th>\n",
       "      <th>1.0</th>\n",
       "      <th>2.0</th>\n",
       "      <th>3.0</th>\n",
       "      <th>6.0</th>\n",
       "      <th>4.0</th>\n",
       "      <th>5.0</th>\n",
       "    </tr>\n",
       "  </thead>\n",
       "  <tbody>\n",
       "    <tr>\n",
       "      <th>proportion</th>\n",
       "      <td>0.936701</td>\n",
       "      <td>0.029545</td>\n",
       "      <td>0.015201</td>\n",
       "      <td>0.012239</td>\n",
       "      <td>0.004365</td>\n",
       "      <td>0.001949</td>\n",
       "    </tr>\n",
       "    <tr>\n",
       "      <th>count</th>\n",
       "      <td>12016.000000</td>\n",
       "      <td>379.000000</td>\n",
       "      <td>195.000000</td>\n",
       "      <td>157.000000</td>\n",
       "      <td>56.000000</td>\n",
       "      <td>25.000000</td>\n",
       "    </tr>\n",
       "    <tr>\n",
       "      <th>label</th>\n",
       "      <td>0.076814</td>\n",
       "      <td>0.102902</td>\n",
       "      <td>0.097436</td>\n",
       "      <td>0.038217</td>\n",
       "      <td>0.160714</td>\n",
       "      <td>0.080000</td>\n",
       "    </tr>\n",
       "    <tr>\n",
       "      <th>diaghype</th>\n",
       "      <td>0.339643</td>\n",
       "      <td>0.540897</td>\n",
       "      <td>0.400000</td>\n",
       "      <td>0.318471</td>\n",
       "      <td>0.196429</td>\n",
       "      <td>0.240000</td>\n",
       "    </tr>\n",
       "  </tbody>\n",
       "</table>\n",
       "</div>"
      ],
      "text/plain": [
       "race                 1.0         2.0         3.0         6.0        4.0  \\\n",
       "proportion      0.936701    0.029545    0.015201    0.012239   0.004365   \n",
       "count       12016.000000  379.000000  195.000000  157.000000  56.000000   \n",
       "label           0.076814    0.102902    0.097436    0.038217   0.160714   \n",
       "diaghype        0.339643    0.540897    0.400000    0.318471   0.196429   \n",
       "\n",
       "race              5.0  \n",
       "proportion   0.001949  \n",
       "count       25.000000  \n",
       "label        0.080000  \n",
       "diaghype     0.240000  "
      ]
     },
     "metadata": {},
     "output_type": "display_data"
    },
    {
     "data": {
      "text/markdown": [
       "#### Fold 0"
      ],
      "text/plain": [
       "<IPython.core.display.Markdown object>"
      ]
     },
     "metadata": {},
     "output_type": "display_data"
    },
    {
     "data": {
      "text/markdown": [
       "##### train - overall malignancy = 0.07686328698505916"
      ],
      "text/plain": [
       "<IPython.core.display.Markdown object>"
      ]
     },
     "metadata": {},
     "output_type": "display_data"
    },
    {
     "data": {
      "application/vnd.microsoft.datawrangler.viewer.v0+json": {
       "columns": [
        {
         "name": "index",
         "rawType": "object",
         "type": "string"
        },
        {
         "name": "1.0",
         "rawType": "float64",
         "type": "float"
        },
        {
         "name": "2.0",
         "rawType": "float64",
         "type": "float"
        },
        {
         "name": "3.0",
         "rawType": "float64",
         "type": "float"
        },
        {
         "name": "6.0",
         "rawType": "float64",
         "type": "float"
        },
        {
         "name": "4.0",
         "rawType": "float64",
         "type": "float"
        },
        {
         "name": "5.0",
         "rawType": "float64",
         "type": "float"
        }
       ],
       "conversionMethod": "pd.DataFrame",
       "ref": "f990032c-af67-4ff9-a49f-a48588ff90e4",
       "rows": [
        [
         "proportion",
         "0.9368785127539991",
         "0.030263726761781237",
         "0.01461305663640294",
         "0.012364894076956333",
         "0.00432338953739732",
         "0.0015564202334630351"
        ],
        [
         "count",
         "10835.0",
         "350.0",
         "169.0",
         "143.0",
         "50.0",
         "18.0"
        ],
        [
         "label",
         "0.07632671896631288",
         "0.1",
         "0.09467455621301775",
         "0.04195804195804196",
         "0.06",
         "0.1111111111111111"
        ],
        [
         "diaghype",
         "0.3384515770974008",
         "0.54",
         "0.38461538461538464",
         "0.27972027972027974",
         "0.22",
         "0.3333333333333333"
        ]
       ],
       "shape": {
        "columns": 6,
        "rows": 4
       }
      },
      "text/html": [
       "<div>\n",
       "<style scoped>\n",
       "    .dataframe tbody tr th:only-of-type {\n",
       "        vertical-align: middle;\n",
       "    }\n",
       "\n",
       "    .dataframe tbody tr th {\n",
       "        vertical-align: top;\n",
       "    }\n",
       "\n",
       "    .dataframe thead th {\n",
       "        text-align: right;\n",
       "    }\n",
       "</style>\n",
       "<table border=\"1\" class=\"dataframe\">\n",
       "  <thead>\n",
       "    <tr style=\"text-align: right;\">\n",
       "      <th>race</th>\n",
       "      <th>1.0</th>\n",
       "      <th>2.0</th>\n",
       "      <th>3.0</th>\n",
       "      <th>6.0</th>\n",
       "      <th>4.0</th>\n",
       "      <th>5.0</th>\n",
       "    </tr>\n",
       "  </thead>\n",
       "  <tbody>\n",
       "    <tr>\n",
       "      <th>proportion</th>\n",
       "      <td>0.936879</td>\n",
       "      <td>0.030264</td>\n",
       "      <td>0.014613</td>\n",
       "      <td>0.012365</td>\n",
       "      <td>0.004323</td>\n",
       "      <td>0.001556</td>\n",
       "    </tr>\n",
       "    <tr>\n",
       "      <th>count</th>\n",
       "      <td>10835.000000</td>\n",
       "      <td>350.000000</td>\n",
       "      <td>169.000000</td>\n",
       "      <td>143.000000</td>\n",
       "      <td>50.000000</td>\n",
       "      <td>18.000000</td>\n",
       "    </tr>\n",
       "    <tr>\n",
       "      <th>label</th>\n",
       "      <td>0.076327</td>\n",
       "      <td>0.100000</td>\n",
       "      <td>0.094675</td>\n",
       "      <td>0.041958</td>\n",
       "      <td>0.060000</td>\n",
       "      <td>0.111111</td>\n",
       "    </tr>\n",
       "    <tr>\n",
       "      <th>diaghype</th>\n",
       "      <td>0.338452</td>\n",
       "      <td>0.540000</td>\n",
       "      <td>0.384615</td>\n",
       "      <td>0.279720</td>\n",
       "      <td>0.220000</td>\n",
       "      <td>0.333333</td>\n",
       "    </tr>\n",
       "  </tbody>\n",
       "</table>\n",
       "</div>"
      ],
      "text/plain": [
       "race                 1.0         2.0         3.0         6.0        4.0  \\\n",
       "proportion      0.936879    0.030264    0.014613    0.012365   0.004323   \n",
       "count       10835.000000  350.000000  169.000000  143.000000  50.000000   \n",
       "label           0.076327    0.100000    0.094675    0.041958   0.060000   \n",
       "diaghype        0.338452    0.540000    0.384615    0.279720   0.220000   \n",
       "\n",
       "race              5.0  \n",
       "proportion   0.001556  \n",
       "count       18.000000  \n",
       "label        0.111111  \n",
       "diaghype     0.333333  "
      ]
     },
     "metadata": {},
     "output_type": "display_data"
    },
    {
     "data": {
      "text/markdown": [
       "##### valid - overall malignancy = 0.08502340093603744"
      ],
      "text/plain": [
       "<IPython.core.display.Markdown object>"
      ]
     },
     "metadata": {},
     "output_type": "display_data"
    },
    {
     "data": {
      "application/vnd.microsoft.datawrangler.viewer.v0+json": {
       "columns": [
        {
         "name": "index",
         "rawType": "object",
         "type": "string"
        },
        {
         "name": "1.0",
         "rawType": "float64",
         "type": "float"
        },
        {
         "name": "2.0",
         "rawType": "float64",
         "type": "float"
        },
        {
         "name": "3.0",
         "rawType": "float64",
         "type": "float"
        },
        {
         "name": "6.0",
         "rawType": "float64",
         "type": "float"
        },
        {
         "name": "5.0",
         "rawType": "float64",
         "type": "float"
        },
        {
         "name": "4.0",
         "rawType": "float64",
         "type": "float"
        }
       ],
       "conversionMethod": "pd.DataFrame",
       "ref": "66766d07-3cd0-4ba7-84bc-2a6647dfb4aa",
       "rows": [
        [
         "proportion",
         "0.9350752177355502",
         "0.022961203483768806",
         "0.02058590657165479",
         "0.011084718923198733",
         "0.0055423594615993665",
         "0.004750593824228029"
        ],
        [
         "count",
         "1181.0",
         "29.0",
         "26.0",
         "14.0",
         "7.0",
         "6.0"
        ],
        [
         "label",
         "0.08128704487722269",
         "0.13793103448275862",
         "0.11538461538461539",
         "0.0",
         "0.0",
         "1.0"
        ],
        [
         "diaghype",
         "0.3505503810330229",
         "0.5517241379310345",
         "0.5",
         "0.7142857142857143",
         "0.0",
         "0.0"
        ]
       ],
       "shape": {
        "columns": 6,
        "rows": 4
       }
      },
      "text/html": [
       "<div>\n",
       "<style scoped>\n",
       "    .dataframe tbody tr th:only-of-type {\n",
       "        vertical-align: middle;\n",
       "    }\n",
       "\n",
       "    .dataframe tbody tr th {\n",
       "        vertical-align: top;\n",
       "    }\n",
       "\n",
       "    .dataframe thead th {\n",
       "        text-align: right;\n",
       "    }\n",
       "</style>\n",
       "<table border=\"1\" class=\"dataframe\">\n",
       "  <thead>\n",
       "    <tr style=\"text-align: right;\">\n",
       "      <th>race</th>\n",
       "      <th>1.0</th>\n",
       "      <th>2.0</th>\n",
       "      <th>3.0</th>\n",
       "      <th>6.0</th>\n",
       "      <th>5.0</th>\n",
       "      <th>4.0</th>\n",
       "    </tr>\n",
       "  </thead>\n",
       "  <tbody>\n",
       "    <tr>\n",
       "      <th>proportion</th>\n",
       "      <td>0.935075</td>\n",
       "      <td>0.022961</td>\n",
       "      <td>0.020586</td>\n",
       "      <td>0.011085</td>\n",
       "      <td>0.005542</td>\n",
       "      <td>0.004751</td>\n",
       "    </tr>\n",
       "    <tr>\n",
       "      <th>count</th>\n",
       "      <td>1181.000000</td>\n",
       "      <td>29.000000</td>\n",
       "      <td>26.000000</td>\n",
       "      <td>14.000000</td>\n",
       "      <td>7.000000</td>\n",
       "      <td>6.000000</td>\n",
       "    </tr>\n",
       "    <tr>\n",
       "      <th>label</th>\n",
       "      <td>0.081287</td>\n",
       "      <td>0.137931</td>\n",
       "      <td>0.115385</td>\n",
       "      <td>0.000000</td>\n",
       "      <td>0.000000</td>\n",
       "      <td>1.000000</td>\n",
       "    </tr>\n",
       "    <tr>\n",
       "      <th>diaghype</th>\n",
       "      <td>0.350550</td>\n",
       "      <td>0.551724</td>\n",
       "      <td>0.500000</td>\n",
       "      <td>0.714286</td>\n",
       "      <td>0.000000</td>\n",
       "      <td>0.000000</td>\n",
       "    </tr>\n",
       "  </tbody>\n",
       "</table>\n",
       "</div>"
      ],
      "text/plain": [
       "race                1.0        2.0        3.0        6.0       5.0       4.0\n",
       "proportion     0.935075   0.022961   0.020586   0.011085  0.005542  0.004751\n",
       "count       1181.000000  29.000000  26.000000  14.000000  7.000000  6.000000\n",
       "label          0.081287   0.137931   0.115385   0.000000  0.000000  1.000000\n",
       "diaghype       0.350550   0.551724   0.500000   0.714286  0.000000  0.000000"
      ]
     },
     "metadata": {},
     "output_type": "display_data"
    },
    {
     "data": {
      "text/markdown": [
       "#### Fold 1"
      ],
      "text/plain": [
       "<IPython.core.display.Markdown object>"
      ]
     },
     "metadata": {},
     "output_type": "display_data"
    },
    {
     "data": {
      "text/markdown": [
       "##### train - overall malignancy = 0.07810466024472794"
      ],
      "text/plain": [
       "<IPython.core.display.Markdown object>"
      ]
     },
     "metadata": {},
     "output_type": "display_data"
    },
    {
     "data": {
      "application/vnd.microsoft.datawrangler.viewer.v0+json": {
       "columns": [
        {
         "name": "index",
         "rawType": "object",
         "type": "string"
        },
        {
         "name": "1.0",
         "rawType": "float64",
         "type": "float"
        },
        {
         "name": "2.0",
         "rawType": "float64",
         "type": "float"
        },
        {
         "name": "3.0",
         "rawType": "float64",
         "type": "float"
        },
        {
         "name": "6.0",
         "rawType": "float64",
         "type": "float"
        },
        {
         "name": "4.0",
         "rawType": "float64",
         "type": "float"
        },
        {
         "name": "5.0",
         "rawType": "float64",
         "type": "float"
        }
       ],
       "conversionMethod": "pd.DataFrame",
       "ref": "f24588a5-9183-44d7-8ffe-2dbdd6736ed4",
       "rows": [
        [
         "proportion",
         "0.9373586218896816",
         "0.0282756220636854",
         "0.015486340699495388",
         "0.012441273708021576",
         "0.004611101444231773",
         "0.0018270401948842874"
        ],
        [
         "count",
         "10774.0",
         "325.0",
         "178.0",
         "143.0",
         "53.0",
         "21.0"
        ],
        [
         "label",
         "0.07713012808613329",
         "0.11076923076923077",
         "0.0898876404494382",
         "0.04195804195804196",
         "0.16981132075471697",
         "0.047619047619047616"
        ],
        [
         "diaghype",
         "0.34344186046511627",
         "0.5107692307692308",
         "0.4044943820224719",
         "0.32867132867132864",
         "0.20754716981132076",
         "0.23809523809523808"
        ]
       ],
       "shape": {
        "columns": 6,
        "rows": 4
       }
      },
      "text/html": [
       "<div>\n",
       "<style scoped>\n",
       "    .dataframe tbody tr th:only-of-type {\n",
       "        vertical-align: middle;\n",
       "    }\n",
       "\n",
       "    .dataframe tbody tr th {\n",
       "        vertical-align: top;\n",
       "    }\n",
       "\n",
       "    .dataframe thead th {\n",
       "        text-align: right;\n",
       "    }\n",
       "</style>\n",
       "<table border=\"1\" class=\"dataframe\">\n",
       "  <thead>\n",
       "    <tr style=\"text-align: right;\">\n",
       "      <th>race</th>\n",
       "      <th>1.0</th>\n",
       "      <th>2.0</th>\n",
       "      <th>3.0</th>\n",
       "      <th>6.0</th>\n",
       "      <th>4.0</th>\n",
       "      <th>5.0</th>\n",
       "    </tr>\n",
       "  </thead>\n",
       "  <tbody>\n",
       "    <tr>\n",
       "      <th>proportion</th>\n",
       "      <td>0.937359</td>\n",
       "      <td>0.028276</td>\n",
       "      <td>0.015486</td>\n",
       "      <td>0.012441</td>\n",
       "      <td>0.004611</td>\n",
       "      <td>0.001827</td>\n",
       "    </tr>\n",
       "    <tr>\n",
       "      <th>count</th>\n",
       "      <td>10774.000000</td>\n",
       "      <td>325.000000</td>\n",
       "      <td>178.000000</td>\n",
       "      <td>143.000000</td>\n",
       "      <td>53.000000</td>\n",
       "      <td>21.000000</td>\n",
       "    </tr>\n",
       "    <tr>\n",
       "      <th>label</th>\n",
       "      <td>0.077130</td>\n",
       "      <td>0.110769</td>\n",
       "      <td>0.089888</td>\n",
       "      <td>0.041958</td>\n",
       "      <td>0.169811</td>\n",
       "      <td>0.047619</td>\n",
       "    </tr>\n",
       "    <tr>\n",
       "      <th>diaghype</th>\n",
       "      <td>0.343442</td>\n",
       "      <td>0.510769</td>\n",
       "      <td>0.404494</td>\n",
       "      <td>0.328671</td>\n",
       "      <td>0.207547</td>\n",
       "      <td>0.238095</td>\n",
       "    </tr>\n",
       "  </tbody>\n",
       "</table>\n",
       "</div>"
      ],
      "text/plain": [
       "race                 1.0         2.0         3.0         6.0        4.0  \\\n",
       "proportion      0.937359    0.028276    0.015486    0.012441   0.004611   \n",
       "count       10774.000000  325.000000  178.000000  143.000000  53.000000   \n",
       "label           0.077130    0.110769    0.089888    0.041958   0.169811   \n",
       "diaghype        0.343442    0.510769    0.404494    0.328671   0.207547   \n",
       "\n",
       "race              5.0  \n",
       "proportion   0.001827  \n",
       "count       21.000000  \n",
       "label        0.047619  \n",
       "diaghype     0.238095  "
      ]
     },
     "metadata": {},
     "output_type": "display_data"
    },
    {
     "data": {
      "text/markdown": [
       "##### valid - overall malignancy = 0.07399103139013453"
      ],
      "text/plain": [
       "<IPython.core.display.Markdown object>"
      ]
     },
     "metadata": {},
     "output_type": "display_data"
    },
    {
     "data": {
      "application/vnd.microsoft.datawrangler.viewer.v0+json": {
       "columns": [
        {
         "name": "index",
         "rawType": "object",
         "type": "string"
        },
        {
         "name": "1.0",
         "rawType": "float64",
         "type": "float"
        },
        {
         "name": "2.0",
         "rawType": "float64",
         "type": "float"
        },
        {
         "name": "3.0",
         "rawType": "float64",
         "type": "float"
        },
        {
         "name": "6.0",
         "rawType": "float64",
         "type": "float"
        },
        {
         "name": "5.0",
         "rawType": "float64",
         "type": "float"
        },
        {
         "name": "4.0",
         "rawType": "float64",
         "type": "float"
        }
       ],
       "conversionMethod": "pd.DataFrame",
       "ref": "af68a274-00bb-41e7-a126-81e62586e779",
       "rows": [
        [
         "proportion",
         "0.9310344827586207",
         "0.04047976011994003",
         "0.012743628185907047",
         "0.010494752623688156",
         "0.0029985007496251873",
         "0.0022488755622188904"
        ],
        [
         "count",
         "1242.0",
         "54.0",
         "17.0",
         "14.0",
         "4.0",
         "3.0"
        ],
        [
         "label",
         "0.07407407407407407",
         "0.05555555555555555",
         "0.17647058823529413",
         "0.0",
         "0.25",
         "0.0"
        ],
        [
         "diaghype",
         "0.30676328502415456",
         "0.7222222222222222",
         "0.35294117647058826",
         "0.21428571428571427",
         "0.25",
         "0.0"
        ]
       ],
       "shape": {
        "columns": 6,
        "rows": 4
       }
      },
      "text/html": [
       "<div>\n",
       "<style scoped>\n",
       "    .dataframe tbody tr th:only-of-type {\n",
       "        vertical-align: middle;\n",
       "    }\n",
       "\n",
       "    .dataframe tbody tr th {\n",
       "        vertical-align: top;\n",
       "    }\n",
       "\n",
       "    .dataframe thead th {\n",
       "        text-align: right;\n",
       "    }\n",
       "</style>\n",
       "<table border=\"1\" class=\"dataframe\">\n",
       "  <thead>\n",
       "    <tr style=\"text-align: right;\">\n",
       "      <th>race</th>\n",
       "      <th>1.0</th>\n",
       "      <th>2.0</th>\n",
       "      <th>3.0</th>\n",
       "      <th>6.0</th>\n",
       "      <th>5.0</th>\n",
       "      <th>4.0</th>\n",
       "    </tr>\n",
       "  </thead>\n",
       "  <tbody>\n",
       "    <tr>\n",
       "      <th>proportion</th>\n",
       "      <td>0.931034</td>\n",
       "      <td>0.040480</td>\n",
       "      <td>0.012744</td>\n",
       "      <td>0.010495</td>\n",
       "      <td>0.002999</td>\n",
       "      <td>0.002249</td>\n",
       "    </tr>\n",
       "    <tr>\n",
       "      <th>count</th>\n",
       "      <td>1242.000000</td>\n",
       "      <td>54.000000</td>\n",
       "      <td>17.000000</td>\n",
       "      <td>14.000000</td>\n",
       "      <td>4.000000</td>\n",
       "      <td>3.000000</td>\n",
       "    </tr>\n",
       "    <tr>\n",
       "      <th>label</th>\n",
       "      <td>0.074074</td>\n",
       "      <td>0.055556</td>\n",
       "      <td>0.176471</td>\n",
       "      <td>0.000000</td>\n",
       "      <td>0.250000</td>\n",
       "      <td>0.000000</td>\n",
       "    </tr>\n",
       "    <tr>\n",
       "      <th>diaghype</th>\n",
       "      <td>0.306763</td>\n",
       "      <td>0.722222</td>\n",
       "      <td>0.352941</td>\n",
       "      <td>0.214286</td>\n",
       "      <td>0.250000</td>\n",
       "      <td>0.000000</td>\n",
       "    </tr>\n",
       "  </tbody>\n",
       "</table>\n",
       "</div>"
      ],
      "text/plain": [
       "race                1.0        2.0        3.0        6.0       5.0       4.0\n",
       "proportion     0.931034   0.040480   0.012744   0.010495  0.002999  0.002249\n",
       "count       1242.000000  54.000000  17.000000  14.000000  4.000000  3.000000\n",
       "label          0.074074   0.055556   0.176471   0.000000  0.250000  0.000000\n",
       "diaghype       0.306763   0.722222   0.352941   0.214286  0.250000  0.000000"
      ]
     },
     "metadata": {},
     "output_type": "display_data"
    },
    {
     "data": {
      "text/markdown": [
       "#### Fold 2"
      ],
      "text/plain": [
       "<IPython.core.display.Markdown object>"
      ]
     },
     "metadata": {},
     "output_type": "display_data"
    },
    {
     "data": {
      "text/markdown": [
       "##### train - overall malignancy = 0.07769510295898945"
      ],
      "text/plain": [
       "<IPython.core.display.Markdown object>"
      ]
     },
     "metadata": {},
     "output_type": "display_data"
    },
    {
     "data": {
      "application/vnd.microsoft.datawrangler.viewer.v0+json": {
       "columns": [
        {
         "name": "index",
         "rawType": "object",
         "type": "string"
        },
        {
         "name": "1.0",
         "rawType": "float64",
         "type": "float"
        },
        {
         "name": "2.0",
         "rawType": "float64",
         "type": "float"
        },
        {
         "name": "3.0",
         "rawType": "float64",
         "type": "float"
        },
        {
         "name": "6.0",
         "rawType": "float64",
         "type": "float"
        },
        {
         "name": "4.0",
         "rawType": "float64",
         "type": "float"
        },
        {
         "name": "5.0",
         "rawType": "float64",
         "type": "float"
        }
       ],
       "conversionMethod": "pd.DataFrame",
       "ref": "026627cb-9d20-4853-b361-45cff22536f0",
       "rows": [
        [
         "proportion",
         "0.9356293918625835",
         "0.03131777565715277",
         "0.015355252884531968",
         "0.01171163355599896",
         "0.0038171250108441053",
         "0.002168821028888696"
        ],
        [
         "count",
         "10785.0",
         "361.0",
         "177.0",
         "135.0",
         "44.0",
         "25.0"
        ],
        [
         "label",
         "0.07705146036161335",
         "0.10249307479224377",
         "0.0847457627118644",
         "0.037037037037037035",
         "0.1590909090909091",
         "0.08"
        ],
        [
         "diaghype",
         "0.3411392993216244",
         "0.5318559556786704",
         "0.4124293785310734",
         "0.2962962962962963",
         "0.20454545454545456",
         "0.24"
        ]
       ],
       "shape": {
        "columns": 6,
        "rows": 4
       }
      },
      "text/html": [
       "<div>\n",
       "<style scoped>\n",
       "    .dataframe tbody tr th:only-of-type {\n",
       "        vertical-align: middle;\n",
       "    }\n",
       "\n",
       "    .dataframe tbody tr th {\n",
       "        vertical-align: top;\n",
       "    }\n",
       "\n",
       "    .dataframe thead th {\n",
       "        text-align: right;\n",
       "    }\n",
       "</style>\n",
       "<table border=\"1\" class=\"dataframe\">\n",
       "  <thead>\n",
       "    <tr style=\"text-align: right;\">\n",
       "      <th>race</th>\n",
       "      <th>1.0</th>\n",
       "      <th>2.0</th>\n",
       "      <th>3.0</th>\n",
       "      <th>6.0</th>\n",
       "      <th>4.0</th>\n",
       "      <th>5.0</th>\n",
       "    </tr>\n",
       "  </thead>\n",
       "  <tbody>\n",
       "    <tr>\n",
       "      <th>proportion</th>\n",
       "      <td>0.935629</td>\n",
       "      <td>0.031318</td>\n",
       "      <td>0.015355</td>\n",
       "      <td>0.011712</td>\n",
       "      <td>0.003817</td>\n",
       "      <td>0.002169</td>\n",
       "    </tr>\n",
       "    <tr>\n",
       "      <th>count</th>\n",
       "      <td>10785.000000</td>\n",
       "      <td>361.000000</td>\n",
       "      <td>177.000000</td>\n",
       "      <td>135.000000</td>\n",
       "      <td>44.000000</td>\n",
       "      <td>25.000000</td>\n",
       "    </tr>\n",
       "    <tr>\n",
       "      <th>label</th>\n",
       "      <td>0.077051</td>\n",
       "      <td>0.102493</td>\n",
       "      <td>0.084746</td>\n",
       "      <td>0.037037</td>\n",
       "      <td>0.159091</td>\n",
       "      <td>0.080000</td>\n",
       "    </tr>\n",
       "    <tr>\n",
       "      <th>diaghype</th>\n",
       "      <td>0.341139</td>\n",
       "      <td>0.531856</td>\n",
       "      <td>0.412429</td>\n",
       "      <td>0.296296</td>\n",
       "      <td>0.204545</td>\n",
       "      <td>0.240000</td>\n",
       "    </tr>\n",
       "  </tbody>\n",
       "</table>\n",
       "</div>"
      ],
      "text/plain": [
       "race                 1.0         2.0         3.0         6.0        4.0  \\\n",
       "proportion      0.935629    0.031318    0.015355    0.011712   0.003817   \n",
       "count       10785.000000  361.000000  177.000000  135.000000  44.000000   \n",
       "label           0.077051    0.102493    0.084746    0.037037   0.159091   \n",
       "diaghype        0.341139    0.531856    0.412429    0.296296   0.204545   \n",
       "\n",
       "race              5.0  \n",
       "proportion   0.002169  \n",
       "count       25.000000  \n",
       "label        0.080000  \n",
       "diaghype     0.240000  "
      ]
     },
     "metadata": {},
     "output_type": "display_data"
    },
    {
     "data": {
      "text/markdown": [
       "##### valid - overall malignancy = 0.07751343054489639"
      ],
      "text/plain": [
       "<IPython.core.display.Markdown object>"
      ]
     },
     "metadata": {},
     "output_type": "display_data"
    },
    {
     "data": {
      "application/vnd.microsoft.datawrangler.viewer.v0+json": {
       "columns": [
        {
         "name": "index",
         "rawType": "object",
         "type": "string"
        },
        {
         "name": "1.0",
         "rawType": "float64",
         "type": "float"
        },
        {
         "name": "6.0",
         "rawType": "float64",
         "type": "float"
        },
        {
         "name": "2.0",
         "rawType": "float64",
         "type": "float"
        },
        {
         "name": "3.0",
         "rawType": "float64",
         "type": "float"
        },
        {
         "name": "4.0",
         "rawType": "float64",
         "type": "float"
        }
       ],
       "conversionMethod": "pd.DataFrame",
       "ref": "bb5e5332-2840-41a5-a100-31b8ca328cab",
       "rows": [
        [
         "proportion",
         "0.9461952344350499",
         "0.016910069177555727",
         "0.013835511145272867",
         "0.013835511145272867",
         "0.009223674096848577"
        ],
        [
         "count",
         "1231.0",
         "22.0",
         "18.0",
         "18.0",
         "12.0"
        ],
        [
         "label",
         "0.07473598700243704",
         "0.045454545454545456",
         "0.1111111111111111",
         "0.2222222222222222",
         "0.16666666666666666"
        ],
        [
         "diaghype",
         "0.32656376929325753",
         "0.45454545454545453",
         "0.7222222222222222",
         "0.2777777777777778",
         "0.16666666666666666"
        ]
       ],
       "shape": {
        "columns": 5,
        "rows": 4
       }
      },
      "text/html": [
       "<div>\n",
       "<style scoped>\n",
       "    .dataframe tbody tr th:only-of-type {\n",
       "        vertical-align: middle;\n",
       "    }\n",
       "\n",
       "    .dataframe tbody tr th {\n",
       "        vertical-align: top;\n",
       "    }\n",
       "\n",
       "    .dataframe thead th {\n",
       "        text-align: right;\n",
       "    }\n",
       "</style>\n",
       "<table border=\"1\" class=\"dataframe\">\n",
       "  <thead>\n",
       "    <tr style=\"text-align: right;\">\n",
       "      <th>race</th>\n",
       "      <th>1.0</th>\n",
       "      <th>6.0</th>\n",
       "      <th>2.0</th>\n",
       "      <th>3.0</th>\n",
       "      <th>4.0</th>\n",
       "    </tr>\n",
       "  </thead>\n",
       "  <tbody>\n",
       "    <tr>\n",
       "      <th>proportion</th>\n",
       "      <td>0.946195</td>\n",
       "      <td>0.016910</td>\n",
       "      <td>0.013836</td>\n",
       "      <td>0.013836</td>\n",
       "      <td>0.009224</td>\n",
       "    </tr>\n",
       "    <tr>\n",
       "      <th>count</th>\n",
       "      <td>1231.000000</td>\n",
       "      <td>22.000000</td>\n",
       "      <td>18.000000</td>\n",
       "      <td>18.000000</td>\n",
       "      <td>12.000000</td>\n",
       "    </tr>\n",
       "    <tr>\n",
       "      <th>label</th>\n",
       "      <td>0.074736</td>\n",
       "      <td>0.045455</td>\n",
       "      <td>0.111111</td>\n",
       "      <td>0.222222</td>\n",
       "      <td>0.166667</td>\n",
       "    </tr>\n",
       "    <tr>\n",
       "      <th>diaghype</th>\n",
       "      <td>0.326564</td>\n",
       "      <td>0.454545</td>\n",
       "      <td>0.722222</td>\n",
       "      <td>0.277778</td>\n",
       "      <td>0.166667</td>\n",
       "    </tr>\n",
       "  </tbody>\n",
       "</table>\n",
       "</div>"
      ],
      "text/plain": [
       "race                1.0        6.0        2.0        3.0        4.0\n",
       "proportion     0.946195   0.016910   0.013836   0.013836   0.009224\n",
       "count       1231.000000  22.000000  18.000000  18.000000  12.000000\n",
       "label          0.074736   0.045455   0.111111   0.222222   0.166667\n",
       "diaghype       0.326564   0.454545   0.722222   0.277778   0.166667"
      ]
     },
     "metadata": {},
     "output_type": "display_data"
    },
    {
     "data": {
      "text/markdown": [
       "#### Fold 3"
      ],
      "text/plain": [
       "<IPython.core.display.Markdown object>"
      ]
     },
     "metadata": {},
     "output_type": "display_data"
    },
    {
     "data": {
      "text/markdown": [
       "##### train - overall malignancy = 0.07858563153799603"
      ],
      "text/plain": [
       "<IPython.core.display.Markdown object>"
      ]
     },
     "metadata": {},
     "output_type": "display_data"
    },
    {
     "data": {
      "application/vnd.microsoft.datawrangler.viewer.v0+json": {
       "columns": [
        {
         "name": "index",
         "rawType": "object",
         "type": "string"
        },
        {
         "name": "1.0",
         "rawType": "float64",
         "type": "float"
        },
        {
         "name": "2.0",
         "rawType": "float64",
         "type": "float"
        },
        {
         "name": "3.0",
         "rawType": "float64",
         "type": "float"
        },
        {
         "name": "6.0",
         "rawType": "float64",
         "type": "float"
        },
        {
         "name": "4.0",
         "rawType": "float64",
         "type": "float"
        },
        {
         "name": "5.0",
         "rawType": "float64",
         "type": "float"
        }
       ],
       "conversionMethod": "pd.DataFrame",
       "ref": "e516f325-dcc9-4401-a97b-66fd67771d89",
       "rows": [
        [
         "proportion",
         "0.9390550498482878",
         "0.02869527524924144",
         "0.014477676636324231",
         "0.011009969657563935",
         "0.004594711746857391",
         "0.002167316861725184"
        ],
        [
         "count",
         "10832.0",
         "331.0",
         "167.0",
         "127.0",
         "53.0",
         "25.0"
        ],
        [
         "label",
         "0.07791728212703102",
         "0.09969788519637462",
         "0.09580838323353294",
         "0.031496062992125984",
         "0.16981132075471697",
         "0.08"
        ],
        [
         "diaghype",
         "0.3343819393042191",
         "0.5740181268882175",
         "0.3652694610778443",
         "0.3858267716535433",
         "0.1509433962264151",
         "0.24"
        ]
       ],
       "shape": {
        "columns": 6,
        "rows": 4
       }
      },
      "text/html": [
       "<div>\n",
       "<style scoped>\n",
       "    .dataframe tbody tr th:only-of-type {\n",
       "        vertical-align: middle;\n",
       "    }\n",
       "\n",
       "    .dataframe tbody tr th {\n",
       "        vertical-align: top;\n",
       "    }\n",
       "\n",
       "    .dataframe thead th {\n",
       "        text-align: right;\n",
       "    }\n",
       "</style>\n",
       "<table border=\"1\" class=\"dataframe\">\n",
       "  <thead>\n",
       "    <tr style=\"text-align: right;\">\n",
       "      <th>race</th>\n",
       "      <th>1.0</th>\n",
       "      <th>2.0</th>\n",
       "      <th>3.0</th>\n",
       "      <th>6.0</th>\n",
       "      <th>4.0</th>\n",
       "      <th>5.0</th>\n",
       "    </tr>\n",
       "  </thead>\n",
       "  <tbody>\n",
       "    <tr>\n",
       "      <th>proportion</th>\n",
       "      <td>0.939055</td>\n",
       "      <td>0.028695</td>\n",
       "      <td>0.014478</td>\n",
       "      <td>0.011010</td>\n",
       "      <td>0.004595</td>\n",
       "      <td>0.002167</td>\n",
       "    </tr>\n",
       "    <tr>\n",
       "      <th>count</th>\n",
       "      <td>10832.000000</td>\n",
       "      <td>331.000000</td>\n",
       "      <td>167.000000</td>\n",
       "      <td>127.000000</td>\n",
       "      <td>53.000000</td>\n",
       "      <td>25.000000</td>\n",
       "    </tr>\n",
       "    <tr>\n",
       "      <th>label</th>\n",
       "      <td>0.077917</td>\n",
       "      <td>0.099698</td>\n",
       "      <td>0.095808</td>\n",
       "      <td>0.031496</td>\n",
       "      <td>0.169811</td>\n",
       "      <td>0.080000</td>\n",
       "    </tr>\n",
       "    <tr>\n",
       "      <th>diaghype</th>\n",
       "      <td>0.334382</td>\n",
       "      <td>0.574018</td>\n",
       "      <td>0.365269</td>\n",
       "      <td>0.385827</td>\n",
       "      <td>0.150943</td>\n",
       "      <td>0.240000</td>\n",
       "    </tr>\n",
       "  </tbody>\n",
       "</table>\n",
       "</div>"
      ],
      "text/plain": [
       "race                 1.0         2.0         3.0         6.0        4.0  \\\n",
       "proportion      0.939055    0.028695    0.014478    0.011010   0.004595   \n",
       "count       10832.000000  331.000000  167.000000  127.000000  53.000000   \n",
       "label           0.077917    0.099698    0.095808    0.031496   0.169811   \n",
       "diaghype        0.334382    0.574018    0.365269    0.385827   0.150943   \n",
       "\n",
       "race              5.0  \n",
       "proportion   0.002167  \n",
       "count       25.000000  \n",
       "label        0.080000  \n",
       "diaghype     0.240000  "
      ]
     },
     "metadata": {},
     "output_type": "display_data"
    },
    {
     "data": {
      "text/markdown": [
       "##### valid - overall malignancy = 0.0695517774343122"
      ],
      "text/plain": [
       "<IPython.core.display.Markdown object>"
      ]
     },
     "metadata": {},
     "output_type": "display_data"
    },
    {
     "data": {
      "application/vnd.microsoft.datawrangler.viewer.v0+json": {
       "columns": [
        {
         "name": "index",
         "rawType": "object",
         "type": "string"
        },
        {
         "name": "1.0",
         "rawType": "float64",
         "type": "float"
        },
        {
         "name": "2.0",
         "rawType": "float64",
         "type": "float"
        },
        {
         "name": "6.0",
         "rawType": "float64",
         "type": "float"
        },
        {
         "name": "3.0",
         "rawType": "float64",
         "type": "float"
        },
        {
         "name": "4.0",
         "rawType": "float64",
         "type": "float"
        }
       ],
       "conversionMethod": "pd.DataFrame",
       "ref": "699e6f16-4758-4083-b43a-0733613018f0",
       "rows": [
        [
         "proportion",
         "0.9156999226604795",
         "0.037122969837587005",
         "0.02320185614849188",
         "0.02165506573859242",
         "0.002320185614849188"
        ],
        [
         "count",
         "1184.0",
         "48.0",
         "30.0",
         "28.0",
         "3.0"
        ],
        [
         "label",
         "0.06672297297297297",
         "0.125",
         "0.06666666666666667",
         "0.10714285714285714",
         "0.0"
        ],
        [
         "diaghype",
         "0.3876689189189189",
         "0.3125",
         "0.03333333333333333",
         "0.6071428571428571",
         "1.0"
        ]
       ],
       "shape": {
        "columns": 5,
        "rows": 4
       }
      },
      "text/html": [
       "<div>\n",
       "<style scoped>\n",
       "    .dataframe tbody tr th:only-of-type {\n",
       "        vertical-align: middle;\n",
       "    }\n",
       "\n",
       "    .dataframe tbody tr th {\n",
       "        vertical-align: top;\n",
       "    }\n",
       "\n",
       "    .dataframe thead th {\n",
       "        text-align: right;\n",
       "    }\n",
       "</style>\n",
       "<table border=\"1\" class=\"dataframe\">\n",
       "  <thead>\n",
       "    <tr style=\"text-align: right;\">\n",
       "      <th>race</th>\n",
       "      <th>1.0</th>\n",
       "      <th>2.0</th>\n",
       "      <th>6.0</th>\n",
       "      <th>3.0</th>\n",
       "      <th>4.0</th>\n",
       "    </tr>\n",
       "  </thead>\n",
       "  <tbody>\n",
       "    <tr>\n",
       "      <th>proportion</th>\n",
       "      <td>0.915700</td>\n",
       "      <td>0.037123</td>\n",
       "      <td>0.023202</td>\n",
       "      <td>0.021655</td>\n",
       "      <td>0.00232</td>\n",
       "    </tr>\n",
       "    <tr>\n",
       "      <th>count</th>\n",
       "      <td>1184.000000</td>\n",
       "      <td>48.000000</td>\n",
       "      <td>30.000000</td>\n",
       "      <td>28.000000</td>\n",
       "      <td>3.00000</td>\n",
       "    </tr>\n",
       "    <tr>\n",
       "      <th>label</th>\n",
       "      <td>0.066723</td>\n",
       "      <td>0.125000</td>\n",
       "      <td>0.066667</td>\n",
       "      <td>0.107143</td>\n",
       "      <td>0.00000</td>\n",
       "    </tr>\n",
       "    <tr>\n",
       "      <th>diaghype</th>\n",
       "      <td>0.387669</td>\n",
       "      <td>0.312500</td>\n",
       "      <td>0.033333</td>\n",
       "      <td>0.607143</td>\n",
       "      <td>1.00000</td>\n",
       "    </tr>\n",
       "  </tbody>\n",
       "</table>\n",
       "</div>"
      ],
      "text/plain": [
       "race                1.0        2.0        6.0        3.0      4.0\n",
       "proportion     0.915700   0.037123   0.023202   0.021655  0.00232\n",
       "count       1184.000000  48.000000  30.000000  28.000000  3.00000\n",
       "label          0.066723   0.125000   0.066667   0.107143  0.00000\n",
       "diaghype       0.387669   0.312500   0.033333   0.607143  1.00000"
      ]
     },
     "metadata": {},
     "output_type": "display_data"
    },
    {
     "data": {
      "text/markdown": [
       "#### Fold 4"
      ],
      "text/plain": [
       "<IPython.core.display.Markdown object>"
      ]
     },
     "metadata": {},
     "output_type": "display_data"
    },
    {
     "data": {
      "text/markdown": [
       "##### train - overall malignancy = 0.07857453281182095"
      ],
      "text/plain": [
       "<IPython.core.display.Markdown object>"
      ]
     },
     "metadata": {},
     "output_type": "display_data"
    },
    {
     "data": {
      "application/vnd.microsoft.datawrangler.viewer.v0+json": {
       "columns": [
        {
         "name": "index",
         "rawType": "object",
         "type": "string"
        },
        {
         "name": "1.0",
         "rawType": "float64",
         "type": "float"
        },
        {
         "name": "2.0",
         "rawType": "float64",
         "type": "float"
        },
        {
         "name": "3.0",
         "rawType": "float64",
         "type": "float"
        },
        {
         "name": "6.0",
         "rawType": "float64",
         "type": "float"
        },
        {
         "name": "4.0",
         "rawType": "float64",
         "type": "float"
        },
        {
         "name": "5.0",
         "rawType": "float64",
         "type": "float"
        }
       ],
       "conversionMethod": "pd.DataFrame",
       "ref": "e4e7db33-130f-492a-8efd-0d6f9b9a2fde",
       "rows": [
        [
         "proportion",
         "0.938197350069735",
         "0.029898884239888426",
         "0.014295676429567642",
         "0.011244769874476987",
         "0.004619944211994421",
         "0.0017433751743375174"
        ],
        [
         "count",
         "10763.0",
         "343.0",
         "164.0",
         "129.0",
         "53.0",
         "20.0"
        ],
        [
         "label",
         "0.0773947784075072",
         "0.11370262390670553",
         "0.10975609756097561",
         "0.023255813953488372",
         "0.16981132075471697",
         "0.05"
        ],
        [
         "diaghype",
         "0.34025514479932956",
         "0.5247813411078717",
         "0.43902439024390244",
         "0.3178294573643411",
         "0.20754716981132076",
         "0.15"
        ]
       ],
       "shape": {
        "columns": 6,
        "rows": 4
       }
      },
      "text/html": [
       "<div>\n",
       "<style scoped>\n",
       "    .dataframe tbody tr th:only-of-type {\n",
       "        vertical-align: middle;\n",
       "    }\n",
       "\n",
       "    .dataframe tbody tr th {\n",
       "        vertical-align: top;\n",
       "    }\n",
       "\n",
       "    .dataframe thead th {\n",
       "        text-align: right;\n",
       "    }\n",
       "</style>\n",
       "<table border=\"1\" class=\"dataframe\">\n",
       "  <thead>\n",
       "    <tr style=\"text-align: right;\">\n",
       "      <th>race</th>\n",
       "      <th>1.0</th>\n",
       "      <th>2.0</th>\n",
       "      <th>3.0</th>\n",
       "      <th>6.0</th>\n",
       "      <th>4.0</th>\n",
       "      <th>5.0</th>\n",
       "    </tr>\n",
       "  </thead>\n",
       "  <tbody>\n",
       "    <tr>\n",
       "      <th>proportion</th>\n",
       "      <td>0.938197</td>\n",
       "      <td>0.029899</td>\n",
       "      <td>0.014296</td>\n",
       "      <td>0.011245</td>\n",
       "      <td>0.004620</td>\n",
       "      <td>0.001743</td>\n",
       "    </tr>\n",
       "    <tr>\n",
       "      <th>count</th>\n",
       "      <td>10763.000000</td>\n",
       "      <td>343.000000</td>\n",
       "      <td>164.000000</td>\n",
       "      <td>129.000000</td>\n",
       "      <td>53.000000</td>\n",
       "      <td>20.000000</td>\n",
       "    </tr>\n",
       "    <tr>\n",
       "      <th>label</th>\n",
       "      <td>0.077395</td>\n",
       "      <td>0.113703</td>\n",
       "      <td>0.109756</td>\n",
       "      <td>0.023256</td>\n",
       "      <td>0.169811</td>\n",
       "      <td>0.050000</td>\n",
       "    </tr>\n",
       "    <tr>\n",
       "      <th>diaghype</th>\n",
       "      <td>0.340255</td>\n",
       "      <td>0.524781</td>\n",
       "      <td>0.439024</td>\n",
       "      <td>0.317829</td>\n",
       "      <td>0.207547</td>\n",
       "      <td>0.150000</td>\n",
       "    </tr>\n",
       "  </tbody>\n",
       "</table>\n",
       "</div>"
      ],
      "text/plain": [
       "race                 1.0         2.0         3.0         6.0        4.0  \\\n",
       "proportion      0.938197    0.029899    0.014296    0.011245   0.004620   \n",
       "count       10763.000000  343.000000  164.000000  129.000000  53.000000   \n",
       "label           0.077395    0.113703    0.109756    0.023256   0.169811   \n",
       "diaghype        0.340255    0.524781    0.439024    0.317829   0.207547   \n",
       "\n",
       "race              5.0  \n",
       "proportion   0.001743  \n",
       "count       20.000000  \n",
       "label        0.050000  \n",
       "diaghype     0.150000  "
      ]
     },
     "metadata": {},
     "output_type": "display_data"
    },
    {
     "data": {
      "text/markdown": [
       "##### valid - overall malignancy = 0.0700589970501475"
      ],
      "text/plain": [
       "<IPython.core.display.Markdown object>"
      ]
     },
     "metadata": {},
     "output_type": "display_data"
    },
    {
     "data": {
      "application/vnd.microsoft.datawrangler.viewer.v0+json": {
       "columns": [
        {
         "name": "index",
         "rawType": "object",
         "type": "string"
        },
        {
         "name": "1.0",
         "rawType": "float64",
         "type": "float"
        },
        {
         "name": "2.0",
         "rawType": "float64",
         "type": "float"
        },
        {
         "name": "3.0",
         "rawType": "float64",
         "type": "float"
        },
        {
         "name": "6.0",
         "rawType": "float64",
         "type": "float"
        },
        {
         "name": "5.0",
         "rawType": "float64",
         "type": "float"
        },
        {
         "name": "4.0",
         "rawType": "float64",
         "type": "float"
        }
       ],
       "conversionMethod": "pd.DataFrame",
       "ref": "7a3fcf93-b17c-4ed4-8d12-66f2cf133f39",
       "rows": [
        [
         "proportion",
         "0.9240412979351033",
         "0.02654867256637168",
         "0.022861356932153392",
         "0.02064896755162242",
         "0.003687315634218289",
         "0.0022123893805309734"
        ],
        [
         "count",
         "1253.0",
         "36.0",
         "31.0",
         "28.0",
         "5.0",
         "3.0"
        ],
        [
         "label",
         "0.07182761372705507",
         "0.0",
         "0.03225806451612903",
         "0.10714285714285714",
         "0.2",
         "0.0"
        ],
        [
         "diaghype",
         "0.3343974461292897",
         "0.6944444444444444",
         "0.1935483870967742",
         "0.32142857142857145",
         "0.6",
         "0.0"
        ]
       ],
       "shape": {
        "columns": 6,
        "rows": 4
       }
      },
      "text/html": [
       "<div>\n",
       "<style scoped>\n",
       "    .dataframe tbody tr th:only-of-type {\n",
       "        vertical-align: middle;\n",
       "    }\n",
       "\n",
       "    .dataframe tbody tr th {\n",
       "        vertical-align: top;\n",
       "    }\n",
       "\n",
       "    .dataframe thead th {\n",
       "        text-align: right;\n",
       "    }\n",
       "</style>\n",
       "<table border=\"1\" class=\"dataframe\">\n",
       "  <thead>\n",
       "    <tr style=\"text-align: right;\">\n",
       "      <th>race</th>\n",
       "      <th>1.0</th>\n",
       "      <th>2.0</th>\n",
       "      <th>3.0</th>\n",
       "      <th>6.0</th>\n",
       "      <th>5.0</th>\n",
       "      <th>4.0</th>\n",
       "    </tr>\n",
       "  </thead>\n",
       "  <tbody>\n",
       "    <tr>\n",
       "      <th>proportion</th>\n",
       "      <td>0.924041</td>\n",
       "      <td>0.026549</td>\n",
       "      <td>0.022861</td>\n",
       "      <td>0.020649</td>\n",
       "      <td>0.003687</td>\n",
       "      <td>0.002212</td>\n",
       "    </tr>\n",
       "    <tr>\n",
       "      <th>count</th>\n",
       "      <td>1253.000000</td>\n",
       "      <td>36.000000</td>\n",
       "      <td>31.000000</td>\n",
       "      <td>28.000000</td>\n",
       "      <td>5.000000</td>\n",
       "      <td>3.000000</td>\n",
       "    </tr>\n",
       "    <tr>\n",
       "      <th>label</th>\n",
       "      <td>0.071828</td>\n",
       "      <td>0.000000</td>\n",
       "      <td>0.032258</td>\n",
       "      <td>0.107143</td>\n",
       "      <td>0.200000</td>\n",
       "      <td>0.000000</td>\n",
       "    </tr>\n",
       "    <tr>\n",
       "      <th>diaghype</th>\n",
       "      <td>0.334397</td>\n",
       "      <td>0.694444</td>\n",
       "      <td>0.193548</td>\n",
       "      <td>0.321429</td>\n",
       "      <td>0.600000</td>\n",
       "      <td>0.000000</td>\n",
       "    </tr>\n",
       "  </tbody>\n",
       "</table>\n",
       "</div>"
      ],
      "text/plain": [
       "race                1.0        2.0        3.0        6.0       5.0       4.0\n",
       "proportion     0.924041   0.026549   0.022861   0.020649  0.003687  0.002212\n",
       "count       1253.000000  36.000000  31.000000  28.000000  5.000000  3.000000\n",
       "label          0.071828   0.000000   0.032258   0.107143  0.200000  0.000000\n",
       "diaghype       0.334397   0.694444   0.193548   0.321429  0.600000  0.000000"
      ]
     },
     "metadata": {},
     "output_type": "display_data"
    },
    {
     "data": {
      "text/markdown": [
       "#### Fold 5"
      ],
      "text/plain": [
       "<IPython.core.display.Markdown object>"
      ]
     },
     "metadata": {},
     "output_type": "display_data"
    },
    {
     "data": {
      "text/markdown": [
       "##### train - overall malignancy = 0.07736093143596377"
      ],
      "text/plain": [
       "<IPython.core.display.Markdown object>"
      ]
     },
     "metadata": {},
     "output_type": "display_data"
    },
    {
     "data": {
      "application/vnd.microsoft.datawrangler.viewer.v0+json": {
       "columns": [
        {
         "name": "index",
         "rawType": "object",
         "type": "string"
        },
        {
         "name": "1.0",
         "rawType": "float64",
         "type": "float"
        },
        {
         "name": "2.0",
         "rawType": "float64",
         "type": "float"
        },
        {
         "name": "3.0",
         "rawType": "float64",
         "type": "float"
        },
        {
         "name": "6.0",
         "rawType": "float64",
         "type": "float"
        },
        {
         "name": "4.0",
         "rawType": "float64",
         "type": "float"
        },
        {
         "name": "5.0",
         "rawType": "float64",
         "type": "float"
        }
       ],
       "conversionMethod": "pd.DataFrame",
       "ref": "66282bb1-523e-45f9-9b3c-ccb779fa8747",
       "rows": [
        [
         "proportion",
         "0.936948624805397",
         "0.030531049991350978",
         "0.014184397163120567",
         "0.011589690364988756",
         "0.004583982010032866",
         "0.0021622556651098427"
        ],
        [
         "count",
         "10833.0",
         "353.0",
         "164.0",
         "134.0",
         "53.0",
         "25.0"
        ],
        [
         "label",
         "0.07615618942121297",
         "0.10198300283286119",
         "0.11585365853658537",
         "0.04477611940298507",
         "0.1509433962264151",
         "0.08"
        ],
        [
         "diaghype",
         "0.33925432509945413",
         "0.546742209631728",
         "0.4146341463414634",
         "0.29850746268656714",
         "0.1509433962264151",
         "0.24"
        ]
       ],
       "shape": {
        "columns": 6,
        "rows": 4
       }
      },
      "text/html": [
       "<div>\n",
       "<style scoped>\n",
       "    .dataframe tbody tr th:only-of-type {\n",
       "        vertical-align: middle;\n",
       "    }\n",
       "\n",
       "    .dataframe tbody tr th {\n",
       "        vertical-align: top;\n",
       "    }\n",
       "\n",
       "    .dataframe thead th {\n",
       "        text-align: right;\n",
       "    }\n",
       "</style>\n",
       "<table border=\"1\" class=\"dataframe\">\n",
       "  <thead>\n",
       "    <tr style=\"text-align: right;\">\n",
       "      <th>race</th>\n",
       "      <th>1.0</th>\n",
       "      <th>2.0</th>\n",
       "      <th>3.0</th>\n",
       "      <th>6.0</th>\n",
       "      <th>4.0</th>\n",
       "      <th>5.0</th>\n",
       "    </tr>\n",
       "  </thead>\n",
       "  <tbody>\n",
       "    <tr>\n",
       "      <th>proportion</th>\n",
       "      <td>0.936949</td>\n",
       "      <td>0.030531</td>\n",
       "      <td>0.014184</td>\n",
       "      <td>0.011590</td>\n",
       "      <td>0.004584</td>\n",
       "      <td>0.002162</td>\n",
       "    </tr>\n",
       "    <tr>\n",
       "      <th>count</th>\n",
       "      <td>10833.000000</td>\n",
       "      <td>353.000000</td>\n",
       "      <td>164.000000</td>\n",
       "      <td>134.000000</td>\n",
       "      <td>53.000000</td>\n",
       "      <td>25.000000</td>\n",
       "    </tr>\n",
       "    <tr>\n",
       "      <th>label</th>\n",
       "      <td>0.076156</td>\n",
       "      <td>0.101983</td>\n",
       "      <td>0.115854</td>\n",
       "      <td>0.044776</td>\n",
       "      <td>0.150943</td>\n",
       "      <td>0.080000</td>\n",
       "    </tr>\n",
       "    <tr>\n",
       "      <th>diaghype</th>\n",
       "      <td>0.339254</td>\n",
       "      <td>0.546742</td>\n",
       "      <td>0.414634</td>\n",
       "      <td>0.298507</td>\n",
       "      <td>0.150943</td>\n",
       "      <td>0.240000</td>\n",
       "    </tr>\n",
       "  </tbody>\n",
       "</table>\n",
       "</div>"
      ],
      "text/plain": [
       "race                 1.0         2.0         3.0         6.0        4.0  \\\n",
       "proportion      0.936949    0.030531    0.014184    0.011590   0.004584   \n",
       "count       10833.000000  353.000000  164.000000  134.000000  53.000000   \n",
       "label           0.076156    0.101983    0.115854    0.044776   0.150943   \n",
       "diaghype        0.339254    0.546742    0.414634    0.298507   0.150943   \n",
       "\n",
       "race              5.0  \n",
       "proportion   0.002162  \n",
       "count       25.000000  \n",
       "label        0.080000  \n",
       "diaghype     0.240000  "
      ]
     },
     "metadata": {},
     "output_type": "display_data"
    },
    {
     "data": {
      "text/markdown": [
       "##### valid - overall malignancy = 0.08056872037914692"
      ],
      "text/plain": [
       "<IPython.core.display.Markdown object>"
      ]
     },
     "metadata": {},
     "output_type": "display_data"
    },
    {
     "data": {
      "application/vnd.microsoft.datawrangler.viewer.v0+json": {
       "columns": [
        {
         "name": "index",
         "rawType": "object",
         "type": "string"
        },
        {
         "name": "1.0",
         "rawType": "float64",
         "type": "float"
        },
        {
         "name": "3.0",
         "rawType": "float64",
         "type": "float"
        },
        {
         "name": "2.0",
         "rawType": "float64",
         "type": "float"
        },
        {
         "name": "6.0",
         "rawType": "float64",
         "type": "float"
        },
        {
         "name": "4.0",
         "rawType": "float64",
         "type": "float"
        }
       ],
       "conversionMethod": "pd.DataFrame",
       "ref": "cb9d9b24-d91a-4f5e-947d-c57e4c8c0291",
       "rows": [
        [
         "proportion",
         "0.9344391785150079",
         "0.02448657187993681",
         "0.020537124802527645",
         "0.018167456556082148",
         "0.002369668246445498"
        ],
        [
         "count",
         "1183.0",
         "31.0",
         "26.0",
         "23.0",
         "3.0"
        ],
        [
         "label",
         "0.08284023668639054",
         "0.0",
         "0.11538461538461539",
         "0.0",
         "0.3333333333333333"
        ],
        [
         "diaghype",
         "0.3431952662721893",
         "0.3225806451612903",
         "0.46153846153846156",
         "0.43478260869565216",
         "1.0"
        ]
       ],
       "shape": {
        "columns": 5,
        "rows": 4
       }
      },
      "text/html": [
       "<div>\n",
       "<style scoped>\n",
       "    .dataframe tbody tr th:only-of-type {\n",
       "        vertical-align: middle;\n",
       "    }\n",
       "\n",
       "    .dataframe tbody tr th {\n",
       "        vertical-align: top;\n",
       "    }\n",
       "\n",
       "    .dataframe thead th {\n",
       "        text-align: right;\n",
       "    }\n",
       "</style>\n",
       "<table border=\"1\" class=\"dataframe\">\n",
       "  <thead>\n",
       "    <tr style=\"text-align: right;\">\n",
       "      <th>race</th>\n",
       "      <th>1.0</th>\n",
       "      <th>3.0</th>\n",
       "      <th>2.0</th>\n",
       "      <th>6.0</th>\n",
       "      <th>4.0</th>\n",
       "    </tr>\n",
       "  </thead>\n",
       "  <tbody>\n",
       "    <tr>\n",
       "      <th>proportion</th>\n",
       "      <td>0.934439</td>\n",
       "      <td>0.024487</td>\n",
       "      <td>0.020537</td>\n",
       "      <td>0.018167</td>\n",
       "      <td>0.002370</td>\n",
       "    </tr>\n",
       "    <tr>\n",
       "      <th>count</th>\n",
       "      <td>1183.000000</td>\n",
       "      <td>31.000000</td>\n",
       "      <td>26.000000</td>\n",
       "      <td>23.000000</td>\n",
       "      <td>3.000000</td>\n",
       "    </tr>\n",
       "    <tr>\n",
       "      <th>label</th>\n",
       "      <td>0.082840</td>\n",
       "      <td>0.000000</td>\n",
       "      <td>0.115385</td>\n",
       "      <td>0.000000</td>\n",
       "      <td>0.333333</td>\n",
       "    </tr>\n",
       "    <tr>\n",
       "      <th>diaghype</th>\n",
       "      <td>0.343195</td>\n",
       "      <td>0.322581</td>\n",
       "      <td>0.461538</td>\n",
       "      <td>0.434783</td>\n",
       "      <td>1.000000</td>\n",
       "    </tr>\n",
       "  </tbody>\n",
       "</table>\n",
       "</div>"
      ],
      "text/plain": [
       "race                1.0        3.0        2.0        6.0       4.0\n",
       "proportion     0.934439   0.024487   0.020537   0.018167  0.002370\n",
       "count       1183.000000  31.000000  26.000000  23.000000  3.000000\n",
       "label          0.082840   0.000000   0.115385   0.000000  0.333333\n",
       "diaghype       0.343195   0.322581   0.461538   0.434783  1.000000"
      ]
     },
     "metadata": {},
     "output_type": "display_data"
    },
    {
     "data": {
      "text/markdown": [
       "#### Fold 6"
      ],
      "text/plain": [
       "<IPython.core.display.Markdown object>"
      ]
     },
     "metadata": {},
     "output_type": "display_data"
    },
    {
     "data": {
      "text/markdown": [
       "##### train - overall malignancy = 0.07764321910160611"
      ],
      "text/plain": [
       "<IPython.core.display.Markdown object>"
      ]
     },
     "metadata": {},
     "output_type": "display_data"
    },
    {
     "data": {
      "application/vnd.microsoft.datawrangler.viewer.v0+json": {
       "columns": [
        {
         "name": "index",
         "rawType": "object",
         "type": "string"
        },
        {
         "name": "1.0",
         "rawType": "float64",
         "type": "float"
        },
        {
         "name": "2.0",
         "rawType": "float64",
         "type": "float"
        },
        {
         "name": "3.0",
         "rawType": "float64",
         "type": "float"
        },
        {
         "name": "6.0",
         "rawType": "float64",
         "type": "float"
        },
        {
         "name": "4.0",
         "rawType": "float64",
         "type": "float"
        },
        {
         "name": "5.0",
         "rawType": "float64",
         "type": "float"
        }
       ],
       "conversionMethod": "pd.DataFrame",
       "ref": "5d25b6f3-c3d3-470b-9c9d-452400d88898",
       "rows": [
        [
         "proportion",
         "0.938931955211025",
         "0.029888027562446167",
         "0.013867355727820845",
         "0.01231696813092162",
         "0.0036175710594315244",
         "0.0013781223083548665"
        ],
        [
         "count",
         "10901.0",
         "347.0",
         "161.0",
         "143.0",
         "42.0",
         "16.0"
        ],
        [
         "label",
         "0.07669021190716448",
         "0.1037463976945245",
         "0.08695652173913043",
         "0.04195804195804196",
         "0.21428571428571427",
         "0.125"
        ],
        [
         "diaghype",
         "0.3442381915089138",
         "0.5129682997118156",
         "0.37267080745341613",
         "0.34265734265734266",
         "0.2619047619047619",
         "0.25"
        ]
       ],
       "shape": {
        "columns": 6,
        "rows": 4
       }
      },
      "text/html": [
       "<div>\n",
       "<style scoped>\n",
       "    .dataframe tbody tr th:only-of-type {\n",
       "        vertical-align: middle;\n",
       "    }\n",
       "\n",
       "    .dataframe tbody tr th {\n",
       "        vertical-align: top;\n",
       "    }\n",
       "\n",
       "    .dataframe thead th {\n",
       "        text-align: right;\n",
       "    }\n",
       "</style>\n",
       "<table border=\"1\" class=\"dataframe\">\n",
       "  <thead>\n",
       "    <tr style=\"text-align: right;\">\n",
       "      <th>race</th>\n",
       "      <th>1.0</th>\n",
       "      <th>2.0</th>\n",
       "      <th>3.0</th>\n",
       "      <th>6.0</th>\n",
       "      <th>4.0</th>\n",
       "      <th>5.0</th>\n",
       "    </tr>\n",
       "  </thead>\n",
       "  <tbody>\n",
       "    <tr>\n",
       "      <th>proportion</th>\n",
       "      <td>0.938932</td>\n",
       "      <td>0.029888</td>\n",
       "      <td>0.013867</td>\n",
       "      <td>0.012317</td>\n",
       "      <td>0.003618</td>\n",
       "      <td>0.001378</td>\n",
       "    </tr>\n",
       "    <tr>\n",
       "      <th>count</th>\n",
       "      <td>10901.000000</td>\n",
       "      <td>347.000000</td>\n",
       "      <td>161.000000</td>\n",
       "      <td>143.000000</td>\n",
       "      <td>42.000000</td>\n",
       "      <td>16.000000</td>\n",
       "    </tr>\n",
       "    <tr>\n",
       "      <th>label</th>\n",
       "      <td>0.076690</td>\n",
       "      <td>0.103746</td>\n",
       "      <td>0.086957</td>\n",
       "      <td>0.041958</td>\n",
       "      <td>0.214286</td>\n",
       "      <td>0.125000</td>\n",
       "    </tr>\n",
       "    <tr>\n",
       "      <th>diaghype</th>\n",
       "      <td>0.344238</td>\n",
       "      <td>0.512968</td>\n",
       "      <td>0.372671</td>\n",
       "      <td>0.342657</td>\n",
       "      <td>0.261905</td>\n",
       "      <td>0.250000</td>\n",
       "    </tr>\n",
       "  </tbody>\n",
       "</table>\n",
       "</div>"
      ],
      "text/plain": [
       "race                 1.0         2.0         3.0         6.0        4.0  \\\n",
       "proportion      0.938932    0.029888    0.013867    0.012317   0.003618   \n",
       "count       10901.000000  347.000000  161.000000  143.000000  42.000000   \n",
       "label           0.076690    0.103746    0.086957    0.041958   0.214286   \n",
       "diaghype        0.344238    0.512968    0.372671    0.342657   0.261905   \n",
       "\n",
       "race              5.0  \n",
       "proportion   0.001378  \n",
       "count       16.000000  \n",
       "label        0.125000  \n",
       "diaghype     0.250000  "
      ]
     },
     "metadata": {},
     "output_type": "display_data"
    },
    {
     "data": {
      "text/markdown": [
       "##### valid - overall malignancy = 0.07799671592775041"
      ],
      "text/plain": [
       "<IPython.core.display.Markdown object>"
      ]
     },
     "metadata": {},
     "output_type": "display_data"
    },
    {
     "data": {
      "application/vnd.microsoft.datawrangler.viewer.v0+json": {
       "columns": [
        {
         "name": "index",
         "rawType": "object",
         "type": "string"
        },
        {
         "name": "1.0",
         "rawType": "float64",
         "type": "float"
        },
        {
         "name": "3.0",
         "rawType": "float64",
         "type": "float"
        },
        {
         "name": "2.0",
         "rawType": "float64",
         "type": "float"
        },
        {
         "name": "6.0",
         "rawType": "float64",
         "type": "float"
        },
        {
         "name": "4.0",
         "rawType": "float64",
         "type": "float"
        },
        {
         "name": "5.0",
         "rawType": "float64",
         "type": "float"
        }
       ],
       "conversionMethod": "pd.DataFrame",
       "ref": "465a5ea4-c242-4306-bcdb-c3a0ad3af0ff",
       "rows": [
        [
         "proportion",
         "0.9154351395730707",
         "0.027914614121510674",
         "0.026272577996715927",
         "0.011494252873563218",
         "0.011494252873563218",
         "0.007389162561576354"
        ],
        [
         "count",
         "1115.0",
         "34.0",
         "32.0",
         "14.0",
         "14.0",
         "9.0"
        ],
        [
         "label",
         "0.07802690582959641",
         "0.14705882352941177",
         "0.09375",
         "0.0",
         "0.0",
         "0.0"
        ],
        [
         "diaghype",
         "0.2945945945945946",
         "0.5294117647058824",
         "0.84375",
         "0.07142857142857142",
         "0.0",
         "0.2222222222222222"
        ]
       ],
       "shape": {
        "columns": 6,
        "rows": 4
       }
      },
      "text/html": [
       "<div>\n",
       "<style scoped>\n",
       "    .dataframe tbody tr th:only-of-type {\n",
       "        vertical-align: middle;\n",
       "    }\n",
       "\n",
       "    .dataframe tbody tr th {\n",
       "        vertical-align: top;\n",
       "    }\n",
       "\n",
       "    .dataframe thead th {\n",
       "        text-align: right;\n",
       "    }\n",
       "</style>\n",
       "<table border=\"1\" class=\"dataframe\">\n",
       "  <thead>\n",
       "    <tr style=\"text-align: right;\">\n",
       "      <th>race</th>\n",
       "      <th>1.0</th>\n",
       "      <th>3.0</th>\n",
       "      <th>2.0</th>\n",
       "      <th>6.0</th>\n",
       "      <th>4.0</th>\n",
       "      <th>5.0</th>\n",
       "    </tr>\n",
       "  </thead>\n",
       "  <tbody>\n",
       "    <tr>\n",
       "      <th>proportion</th>\n",
       "      <td>0.915435</td>\n",
       "      <td>0.027915</td>\n",
       "      <td>0.026273</td>\n",
       "      <td>0.011494</td>\n",
       "      <td>0.011494</td>\n",
       "      <td>0.007389</td>\n",
       "    </tr>\n",
       "    <tr>\n",
       "      <th>count</th>\n",
       "      <td>1115.000000</td>\n",
       "      <td>34.000000</td>\n",
       "      <td>32.000000</td>\n",
       "      <td>14.000000</td>\n",
       "      <td>14.000000</td>\n",
       "      <td>9.000000</td>\n",
       "    </tr>\n",
       "    <tr>\n",
       "      <th>label</th>\n",
       "      <td>0.078027</td>\n",
       "      <td>0.147059</td>\n",
       "      <td>0.093750</td>\n",
       "      <td>0.000000</td>\n",
       "      <td>0.000000</td>\n",
       "      <td>0.000000</td>\n",
       "    </tr>\n",
       "    <tr>\n",
       "      <th>diaghype</th>\n",
       "      <td>0.294595</td>\n",
       "      <td>0.529412</td>\n",
       "      <td>0.843750</td>\n",
       "      <td>0.071429</td>\n",
       "      <td>0.000000</td>\n",
       "      <td>0.222222</td>\n",
       "    </tr>\n",
       "  </tbody>\n",
       "</table>\n",
       "</div>"
      ],
      "text/plain": [
       "race                1.0        3.0        2.0        6.0        4.0       5.0\n",
       "proportion     0.915435   0.027915   0.026273   0.011494   0.011494  0.007389\n",
       "count       1115.000000  34.000000  32.000000  14.000000  14.000000  9.000000\n",
       "label          0.078027   0.147059   0.093750   0.000000   0.000000  0.000000\n",
       "diaghype       0.294595   0.529412   0.843750   0.071429   0.000000  0.222222"
      ]
     },
     "metadata": {},
     "output_type": "display_data"
    },
    {
     "data": {
      "text/markdown": [
       "#### Fold 7"
      ],
      "text/plain": [
       "<IPython.core.display.Markdown object>"
      ]
     },
     "metadata": {},
     "output_type": "display_data"
    },
    {
     "data": {
      "text/markdown": [
       "##### train - overall malignancy = 0.07764136261455992"
      ],
      "text/plain": [
       "<IPython.core.display.Markdown object>"
      ]
     },
     "metadata": {},
     "output_type": "display_data"
    },
    {
     "data": {
      "application/vnd.microsoft.datawrangler.viewer.v0+json": {
       "columns": [
        {
         "name": "index",
         "rawType": "object",
         "type": "string"
        },
        {
         "name": "1.0",
         "rawType": "float64",
         "type": "float"
        },
        {
         "name": "2.0",
         "rawType": "float64",
         "type": "float"
        },
        {
         "name": "3.0",
         "rawType": "float64",
         "type": "float"
        },
        {
         "name": "6.0",
         "rawType": "float64",
         "type": "float"
        },
        {
         "name": "4.0",
         "rawType": "float64",
         "type": "float"
        },
        {
         "name": "5.0",
         "rawType": "float64",
         "type": "float"
        }
       ],
       "conversionMethod": "pd.DataFrame",
       "ref": "bc4da594-216f-4e43-a80d-966fa1141501",
       "rows": [
        [
         "proportion",
         "0.935923003555016",
         "0.02826671291077777",
         "0.016301049163270614",
         "0.013179571663920923",
         "0.004161969999132923",
         "0.002167692707881731"
        ],
        [
         "count",
         "10794.0",
         "326.0",
         "188.0",
         "152.0",
         "48.0",
         "25.0"
        ],
        [
         "label",
         "0.07670928293496387",
         "0.10122699386503067",
         "0.10106382978723404",
         "0.039473684210526314",
         "0.1875",
         "0.08"
        ],
        [
         "diaghype",
         "0.3366437720438092",
         "0.5674846625766872",
         "0.4148936170212766",
         "0.32894736842105265",
         "0.22916666666666666",
         "0.24"
        ]
       ],
       "shape": {
        "columns": 6,
        "rows": 4
       }
      },
      "text/html": [
       "<div>\n",
       "<style scoped>\n",
       "    .dataframe tbody tr th:only-of-type {\n",
       "        vertical-align: middle;\n",
       "    }\n",
       "\n",
       "    .dataframe tbody tr th {\n",
       "        vertical-align: top;\n",
       "    }\n",
       "\n",
       "    .dataframe thead th {\n",
       "        text-align: right;\n",
       "    }\n",
       "</style>\n",
       "<table border=\"1\" class=\"dataframe\">\n",
       "  <thead>\n",
       "    <tr style=\"text-align: right;\">\n",
       "      <th>race</th>\n",
       "      <th>1.0</th>\n",
       "      <th>2.0</th>\n",
       "      <th>3.0</th>\n",
       "      <th>6.0</th>\n",
       "      <th>4.0</th>\n",
       "      <th>5.0</th>\n",
       "    </tr>\n",
       "  </thead>\n",
       "  <tbody>\n",
       "    <tr>\n",
       "      <th>proportion</th>\n",
       "      <td>0.935923</td>\n",
       "      <td>0.028267</td>\n",
       "      <td>0.016301</td>\n",
       "      <td>0.013180</td>\n",
       "      <td>0.004162</td>\n",
       "      <td>0.002168</td>\n",
       "    </tr>\n",
       "    <tr>\n",
       "      <th>count</th>\n",
       "      <td>10794.000000</td>\n",
       "      <td>326.000000</td>\n",
       "      <td>188.000000</td>\n",
       "      <td>152.000000</td>\n",
       "      <td>48.000000</td>\n",
       "      <td>25.000000</td>\n",
       "    </tr>\n",
       "    <tr>\n",
       "      <th>label</th>\n",
       "      <td>0.076709</td>\n",
       "      <td>0.101227</td>\n",
       "      <td>0.101064</td>\n",
       "      <td>0.039474</td>\n",
       "      <td>0.187500</td>\n",
       "      <td>0.080000</td>\n",
       "    </tr>\n",
       "    <tr>\n",
       "      <th>diaghype</th>\n",
       "      <td>0.336644</td>\n",
       "      <td>0.567485</td>\n",
       "      <td>0.414894</td>\n",
       "      <td>0.328947</td>\n",
       "      <td>0.229167</td>\n",
       "      <td>0.240000</td>\n",
       "    </tr>\n",
       "  </tbody>\n",
       "</table>\n",
       "</div>"
      ],
      "text/plain": [
       "race                 1.0         2.0         3.0         6.0        4.0  \\\n",
       "proportion      0.935923    0.028267    0.016301    0.013180   0.004162   \n",
       "count       10794.000000  326.000000  188.000000  152.000000  48.000000   \n",
       "label           0.076709    0.101227    0.101064    0.039474   0.187500   \n",
       "diaghype        0.336644    0.567485    0.414894    0.328947   0.229167   \n",
       "\n",
       "race              5.0  \n",
       "proportion   0.002168  \n",
       "count       25.000000  \n",
       "label        0.080000  \n",
       "diaghype     0.240000  "
      ]
     },
     "metadata": {},
     "output_type": "display_data"
    },
    {
     "data": {
      "text/markdown": [
       "##### valid - overall malignancy = 0.077992277992278"
      ],
      "text/plain": [
       "<IPython.core.display.Markdown object>"
      ]
     },
     "metadata": {},
     "output_type": "display_data"
    },
    {
     "data": {
      "application/vnd.microsoft.datawrangler.viewer.v0+json": {
       "columns": [
        {
         "name": "index",
         "rawType": "object",
         "type": "string"
        },
        {
         "name": "1.0",
         "rawType": "float64",
         "type": "float"
        },
        {
         "name": "2.0",
         "rawType": "float64",
         "type": "float"
        },
        {
         "name": "4.0",
         "rawType": "float64",
         "type": "float"
        },
        {
         "name": "3.0",
         "rawType": "float64",
         "type": "float"
        },
        {
         "name": "6.0",
         "rawType": "float64",
         "type": "float"
        }
       ],
       "conversionMethod": "pd.DataFrame",
       "ref": "bb4fa35c-5162-4fe9-bf2e-9511643519d3",
       "rows": [
        [
         "proportion",
         "0.9436293436293436",
         "0.040926640926640924",
         "0.006177606177606178",
         "0.005405405405405406",
         "0.003861003861003861"
        ],
        [
         "count",
         "1222.0",
         "53.0",
         "8.0",
         "7.0",
         "5.0"
        ],
        [
         "label",
         "0.07774140752864157",
         "0.11320754716981132",
         "0.0",
         "0.0",
         "0.0"
        ],
        [
         "diaghype",
         "0.36617405582922824",
         "0.37735849056603776",
         "0.0",
         "0.0",
         "0.0"
        ]
       ],
       "shape": {
        "columns": 5,
        "rows": 4
       }
      },
      "text/html": [
       "<div>\n",
       "<style scoped>\n",
       "    .dataframe tbody tr th:only-of-type {\n",
       "        vertical-align: middle;\n",
       "    }\n",
       "\n",
       "    .dataframe tbody tr th {\n",
       "        vertical-align: top;\n",
       "    }\n",
       "\n",
       "    .dataframe thead th {\n",
       "        text-align: right;\n",
       "    }\n",
       "</style>\n",
       "<table border=\"1\" class=\"dataframe\">\n",
       "  <thead>\n",
       "    <tr style=\"text-align: right;\">\n",
       "      <th>race</th>\n",
       "      <th>1.0</th>\n",
       "      <th>2.0</th>\n",
       "      <th>4.0</th>\n",
       "      <th>3.0</th>\n",
       "      <th>6.0</th>\n",
       "    </tr>\n",
       "  </thead>\n",
       "  <tbody>\n",
       "    <tr>\n",
       "      <th>proportion</th>\n",
       "      <td>0.943629</td>\n",
       "      <td>0.040927</td>\n",
       "      <td>0.006178</td>\n",
       "      <td>0.005405</td>\n",
       "      <td>0.003861</td>\n",
       "    </tr>\n",
       "    <tr>\n",
       "      <th>count</th>\n",
       "      <td>1222.000000</td>\n",
       "      <td>53.000000</td>\n",
       "      <td>8.000000</td>\n",
       "      <td>7.000000</td>\n",
       "      <td>5.000000</td>\n",
       "    </tr>\n",
       "    <tr>\n",
       "      <th>label</th>\n",
       "      <td>0.077741</td>\n",
       "      <td>0.113208</td>\n",
       "      <td>0.000000</td>\n",
       "      <td>0.000000</td>\n",
       "      <td>0.000000</td>\n",
       "    </tr>\n",
       "    <tr>\n",
       "      <th>diaghype</th>\n",
       "      <td>0.366174</td>\n",
       "      <td>0.377358</td>\n",
       "      <td>0.000000</td>\n",
       "      <td>0.000000</td>\n",
       "      <td>0.000000</td>\n",
       "    </tr>\n",
       "  </tbody>\n",
       "</table>\n",
       "</div>"
      ],
      "text/plain": [
       "race                1.0        2.0       4.0       3.0       6.0\n",
       "proportion     0.943629   0.040927  0.006178  0.005405  0.003861\n",
       "count       1222.000000  53.000000  8.000000  7.000000  5.000000\n",
       "label          0.077741   0.113208  0.000000  0.000000  0.000000\n",
       "diaghype       0.366174   0.377358  0.000000  0.000000  0.000000"
      ]
     },
     "metadata": {},
     "output_type": "display_data"
    },
    {
     "data": {
      "text/markdown": [
       "#### Fold 8"
      ],
      "text/plain": [
       "<IPython.core.display.Markdown object>"
      ]
     },
     "metadata": {},
     "output_type": "display_data"
    },
    {
     "data": {
      "text/markdown": [
       "##### train - overall malignancy = 0.07689655172413794"
      ],
      "text/plain": [
       "<IPython.core.display.Markdown object>"
      ]
     },
     "metadata": {},
     "output_type": "display_data"
    },
    {
     "data": {
      "application/vnd.microsoft.datawrangler.viewer.v0+json": {
       "columns": [
        {
         "name": "index",
         "rawType": "object",
         "type": "string"
        },
        {
         "name": "1.0",
         "rawType": "float64",
         "type": "float"
        },
        {
         "name": "2.0",
         "rawType": "float64",
         "type": "float"
        },
        {
         "name": "3.0",
         "rawType": "float64",
         "type": "float"
        },
        {
         "name": "6.0",
         "rawType": "float64",
         "type": "float"
        },
        {
         "name": "4.0",
         "rawType": "float64",
         "type": "float"
        },
        {
         "name": "5.0",
         "rawType": "float64",
         "type": "float"
        }
       ],
       "conversionMethod": "pd.DataFrame",
       "ref": "dd2ed6bf-0ec4-4aaa-ad51-10f1dfc4235a",
       "rows": [
        [
         "proportion",
         "0.9339614486991097",
         "0.029388884086783647",
         "0.016596075719595472",
         "0.013052122050306855",
         "0.004840522084882012",
         "0.002160947359322327"
        ],
        [
         "count",
         "10805.0",
         "340.0",
         "192.0",
         "151.0",
         "56.0",
         "25.0"
        ],
        [
         "label",
         "0.07616844053678852",
         "0.09411764705882353",
         "0.09895833333333333",
         "0.039735099337748346",
         "0.16071428571428573",
         "0.08"
        ],
        [
         "diaghype",
         "0.33861698183166483",
         "0.5529411764705883",
         "0.390625",
         "0.2913907284768212",
         "0.19642857142857142",
         "0.24"
        ]
       ],
       "shape": {
        "columns": 6,
        "rows": 4
       }
      },
      "text/html": [
       "<div>\n",
       "<style scoped>\n",
       "    .dataframe tbody tr th:only-of-type {\n",
       "        vertical-align: middle;\n",
       "    }\n",
       "\n",
       "    .dataframe tbody tr th {\n",
       "        vertical-align: top;\n",
       "    }\n",
       "\n",
       "    .dataframe thead th {\n",
       "        text-align: right;\n",
       "    }\n",
       "</style>\n",
       "<table border=\"1\" class=\"dataframe\">\n",
       "  <thead>\n",
       "    <tr style=\"text-align: right;\">\n",
       "      <th>race</th>\n",
       "      <th>1.0</th>\n",
       "      <th>2.0</th>\n",
       "      <th>3.0</th>\n",
       "      <th>6.0</th>\n",
       "      <th>4.0</th>\n",
       "      <th>5.0</th>\n",
       "    </tr>\n",
       "  </thead>\n",
       "  <tbody>\n",
       "    <tr>\n",
       "      <th>proportion</th>\n",
       "      <td>0.933961</td>\n",
       "      <td>0.029389</td>\n",
       "      <td>0.016596</td>\n",
       "      <td>0.013052</td>\n",
       "      <td>0.004841</td>\n",
       "      <td>0.002161</td>\n",
       "    </tr>\n",
       "    <tr>\n",
       "      <th>count</th>\n",
       "      <td>10805.000000</td>\n",
       "      <td>340.000000</td>\n",
       "      <td>192.000000</td>\n",
       "      <td>151.000000</td>\n",
       "      <td>56.000000</td>\n",
       "      <td>25.000000</td>\n",
       "    </tr>\n",
       "    <tr>\n",
       "      <th>label</th>\n",
       "      <td>0.076168</td>\n",
       "      <td>0.094118</td>\n",
       "      <td>0.098958</td>\n",
       "      <td>0.039735</td>\n",
       "      <td>0.160714</td>\n",
       "      <td>0.080000</td>\n",
       "    </tr>\n",
       "    <tr>\n",
       "      <th>diaghype</th>\n",
       "      <td>0.338617</td>\n",
       "      <td>0.552941</td>\n",
       "      <td>0.390625</td>\n",
       "      <td>0.291391</td>\n",
       "      <td>0.196429</td>\n",
       "      <td>0.240000</td>\n",
       "    </tr>\n",
       "  </tbody>\n",
       "</table>\n",
       "</div>"
      ],
      "text/plain": [
       "race                 1.0         2.0         3.0         6.0        4.0  \\\n",
       "proportion      0.933961    0.029389    0.016596    0.013052   0.004841   \n",
       "count       10805.000000  340.000000  192.000000  151.000000  56.000000   \n",
       "label           0.076168    0.094118    0.098958    0.039735   0.160714   \n",
       "diaghype        0.338617    0.552941    0.390625    0.291391   0.196429   \n",
       "\n",
       "race              5.0  \n",
       "proportion   0.002161  \n",
       "count       25.000000  \n",
       "label        0.080000  \n",
       "diaghype     0.240000  "
      ]
     },
     "metadata": {},
     "output_type": "display_data"
    },
    {
     "data": {
      "text/markdown": [
       "##### valid - overall malignancy = 0.08485329103885805"
      ],
      "text/plain": [
       "<IPython.core.display.Markdown object>"
      ]
     },
     "metadata": {},
     "output_type": "display_data"
    },
    {
     "data": {
      "application/vnd.microsoft.datawrangler.viewer.v0+json": {
       "columns": [
        {
         "name": "index",
         "rawType": "object",
         "type": "string"
        },
        {
         "name": "1.0",
         "rawType": "float64",
         "type": "float"
        },
        {
         "name": "2.0",
         "rawType": "float64",
         "type": "float"
        },
        {
         "name": "6.0",
         "rawType": "float64",
         "type": "float"
        },
        {
         "name": "3.0",
         "rawType": "float64",
         "type": "float"
        }
       ],
       "conversionMethod": "pd.DataFrame",
       "ref": "f888fc7a-22e8-4ea6-82b1-908070f1c5c6",
       "rows": [
        [
         "proportion",
         "0.9618745035742653",
         "0.030976965845909452",
         "0.004765687053216839",
         "0.0023828435266084196"
        ],
        [
         "count",
         "1211.0",
         "39.0",
         "6.0",
         "3.0"
        ],
        [
         "label",
         "0.08257638315441784",
         "0.1794871794871795",
         "0.0",
         "0.0"
        ],
        [
         "diaghype",
         "0.3488372093023256",
         "0.4358974358974359",
         "1.0",
         "1.0"
        ]
       ],
       "shape": {
        "columns": 4,
        "rows": 4
       }
      },
      "text/html": [
       "<div>\n",
       "<style scoped>\n",
       "    .dataframe tbody tr th:only-of-type {\n",
       "        vertical-align: middle;\n",
       "    }\n",
       "\n",
       "    .dataframe tbody tr th {\n",
       "        vertical-align: top;\n",
       "    }\n",
       "\n",
       "    .dataframe thead th {\n",
       "        text-align: right;\n",
       "    }\n",
       "</style>\n",
       "<table border=\"1\" class=\"dataframe\">\n",
       "  <thead>\n",
       "    <tr style=\"text-align: right;\">\n",
       "      <th>race</th>\n",
       "      <th>1.0</th>\n",
       "      <th>2.0</th>\n",
       "      <th>6.0</th>\n",
       "      <th>3.0</th>\n",
       "    </tr>\n",
       "  </thead>\n",
       "  <tbody>\n",
       "    <tr>\n",
       "      <th>proportion</th>\n",
       "      <td>0.961875</td>\n",
       "      <td>0.030977</td>\n",
       "      <td>0.004766</td>\n",
       "      <td>0.002383</td>\n",
       "    </tr>\n",
       "    <tr>\n",
       "      <th>count</th>\n",
       "      <td>1211.000000</td>\n",
       "      <td>39.000000</td>\n",
       "      <td>6.000000</td>\n",
       "      <td>3.000000</td>\n",
       "    </tr>\n",
       "    <tr>\n",
       "      <th>label</th>\n",
       "      <td>0.082576</td>\n",
       "      <td>0.179487</td>\n",
       "      <td>0.000000</td>\n",
       "      <td>0.000000</td>\n",
       "    </tr>\n",
       "    <tr>\n",
       "      <th>diaghype</th>\n",
       "      <td>0.348837</td>\n",
       "      <td>0.435897</td>\n",
       "      <td>1.000000</td>\n",
       "      <td>1.000000</td>\n",
       "    </tr>\n",
       "  </tbody>\n",
       "</table>\n",
       "</div>"
      ],
      "text/plain": [
       "race                1.0        2.0       6.0       3.0\n",
       "proportion     0.961875   0.030977  0.004766  0.002383\n",
       "count       1211.000000  39.000000  6.000000  3.000000\n",
       "label          0.082576   0.179487  0.000000  0.000000\n",
       "diaghype       0.348837   0.435897  1.000000  1.000000"
      ]
     },
     "metadata": {},
     "output_type": "display_data"
    },
    {
     "data": {
      "text/markdown": [
       "#### Fold 9"
      ],
      "text/plain": [
       "<IPython.core.display.Markdown object>"
      ]
     },
     "metadata": {},
     "output_type": "display_data"
    },
    {
     "data": {
      "text/markdown": [
       "##### train - overall malignancy = 0.07741324377852407"
      ],
      "text/plain": [
       "<IPython.core.display.Markdown object>"
      ]
     },
     "metadata": {},
     "output_type": "display_data"
    },
    {
     "data": {
      "application/vnd.microsoft.datawrangler.viewer.v0+json": {
       "columns": [
        {
         "name": "index",
         "rawType": "object",
         "type": "string"
        },
        {
         "name": "1.0",
         "rawType": "float64",
         "type": "float"
        },
        {
         "name": "2.0",
         "rawType": "float64",
         "type": "float"
        },
        {
         "name": "3.0",
         "rawType": "float64",
         "type": "float"
        },
        {
         "name": "6.0",
         "rawType": "float64",
         "type": "float"
        },
        {
         "name": "4.0",
         "rawType": "float64",
         "type": "float"
        },
        {
         "name": "5.0",
         "rawType": "float64",
         "type": "float"
        }
       ],
       "conversionMethod": "pd.DataFrame",
       "ref": "e8362eb9-be34-4251-83a1-27f99d9db6a2",
       "rows": [
        [
         "proportion",
         "0.9341389728096676",
         "0.028916702632714716",
         "0.01683211048769961",
         "0.01346568839015969",
         "0.004488562796719896",
         "0.0021579628830384117"
        ],
        [
         "count",
         "10822.0",
         "335.0",
         "195.0",
         "156.0",
         "52.0",
         "25.0"
        ],
        [
         "label",
         "0.0766032156717797",
         "0.10149253731343283",
         "0.09743589743589744",
         "0.038461538461538464",
         "0.17307692307692307",
         "0.08"
        ],
        [
         "diaghype",
         "0.33999629835276696",
         "0.5492537313432836",
         "0.4",
         "0.32051282051282054",
         "0.15384615384615385",
         "0.24"
        ]
       ],
       "shape": {
        "columns": 6,
        "rows": 4
       }
      },
      "text/html": [
       "<div>\n",
       "<style scoped>\n",
       "    .dataframe tbody tr th:only-of-type {\n",
       "        vertical-align: middle;\n",
       "    }\n",
       "\n",
       "    .dataframe tbody tr th {\n",
       "        vertical-align: top;\n",
       "    }\n",
       "\n",
       "    .dataframe thead th {\n",
       "        text-align: right;\n",
       "    }\n",
       "</style>\n",
       "<table border=\"1\" class=\"dataframe\">\n",
       "  <thead>\n",
       "    <tr style=\"text-align: right;\">\n",
       "      <th>race</th>\n",
       "      <th>1.0</th>\n",
       "      <th>2.0</th>\n",
       "      <th>3.0</th>\n",
       "      <th>6.0</th>\n",
       "      <th>4.0</th>\n",
       "      <th>5.0</th>\n",
       "    </tr>\n",
       "  </thead>\n",
       "  <tbody>\n",
       "    <tr>\n",
       "      <th>proportion</th>\n",
       "      <td>0.934139</td>\n",
       "      <td>0.028917</td>\n",
       "      <td>0.016832</td>\n",
       "      <td>0.013466</td>\n",
       "      <td>0.004489</td>\n",
       "      <td>0.002158</td>\n",
       "    </tr>\n",
       "    <tr>\n",
       "      <th>count</th>\n",
       "      <td>10822.000000</td>\n",
       "      <td>335.000000</td>\n",
       "      <td>195.000000</td>\n",
       "      <td>156.000000</td>\n",
       "      <td>52.000000</td>\n",
       "      <td>25.000000</td>\n",
       "    </tr>\n",
       "    <tr>\n",
       "      <th>label</th>\n",
       "      <td>0.076603</td>\n",
       "      <td>0.101493</td>\n",
       "      <td>0.097436</td>\n",
       "      <td>0.038462</td>\n",
       "      <td>0.173077</td>\n",
       "      <td>0.080000</td>\n",
       "    </tr>\n",
       "    <tr>\n",
       "      <th>diaghype</th>\n",
       "      <td>0.339996</td>\n",
       "      <td>0.549254</td>\n",
       "      <td>0.400000</td>\n",
       "      <td>0.320513</td>\n",
       "      <td>0.153846</td>\n",
       "      <td>0.240000</td>\n",
       "    </tr>\n",
       "  </tbody>\n",
       "</table>\n",
       "</div>"
      ],
      "text/plain": [
       "race                 1.0         2.0         3.0         6.0        4.0  \\\n",
       "proportion      0.934139    0.028917    0.016832    0.013466   0.004489   \n",
       "count       10822.000000  335.000000  195.000000  156.000000  52.000000   \n",
       "label           0.076603    0.101493    0.097436    0.038462   0.173077   \n",
       "diaghype        0.339996    0.549254    0.400000    0.320513   0.153846   \n",
       "\n",
       "race              5.0  \n",
       "proportion   0.002158  \n",
       "count       25.000000  \n",
       "label        0.080000  \n",
       "diaghype     0.240000  "
      ]
     },
     "metadata": {},
     "output_type": "display_data"
    },
    {
     "data": {
      "text/markdown": [
       "##### valid - overall malignancy = 0.08012820512820513"
      ],
      "text/plain": [
       "<IPython.core.display.Markdown object>"
      ]
     },
     "metadata": {},
     "output_type": "display_data"
    },
    {
     "data": {
      "application/vnd.microsoft.datawrangler.viewer.v0+json": {
       "columns": [
        {
         "name": "index",
         "rawType": "object",
         "type": "string"
        },
        {
         "name": "1.0",
         "rawType": "float64",
         "type": "float"
        },
        {
         "name": "2.0",
         "rawType": "float64",
         "type": "float"
        },
        {
         "name": "4.0",
         "rawType": "float64",
         "type": "float"
        },
        {
         "name": "6.0",
         "rawType": "float64",
         "type": "float"
        }
       ],
       "conversionMethod": "pd.DataFrame",
       "ref": "0d411598-357b-4ec2-b3bc-379679ba6941",
       "rows": [
        [
         "proportion",
         "0.9605792437650845",
         "0.035398230088495575",
         "0.003218020917135961",
         "0.0008045052292839903"
        ],
        [
         "count",
         "1194.0",
         "44.0",
         "4.0",
         "1.0"
        ],
        [
         "label",
         "0.07872696817420435",
         "0.11363636363636363",
         "0.0",
         "0.0"
        ],
        [
         "diaghype",
         "0.33642495784148396",
         "0.4772727272727273",
         "0.75",
         "0.0"
        ]
       ],
       "shape": {
        "columns": 4,
        "rows": 4
       }
      },
      "text/html": [
       "<div>\n",
       "<style scoped>\n",
       "    .dataframe tbody tr th:only-of-type {\n",
       "        vertical-align: middle;\n",
       "    }\n",
       "\n",
       "    .dataframe tbody tr th {\n",
       "        vertical-align: top;\n",
       "    }\n",
       "\n",
       "    .dataframe thead th {\n",
       "        text-align: right;\n",
       "    }\n",
       "</style>\n",
       "<table border=\"1\" class=\"dataframe\">\n",
       "  <thead>\n",
       "    <tr style=\"text-align: right;\">\n",
       "      <th>race</th>\n",
       "      <th>1.0</th>\n",
       "      <th>2.0</th>\n",
       "      <th>4.0</th>\n",
       "      <th>6.0</th>\n",
       "    </tr>\n",
       "  </thead>\n",
       "  <tbody>\n",
       "    <tr>\n",
       "      <th>proportion</th>\n",
       "      <td>0.960579</td>\n",
       "      <td>0.035398</td>\n",
       "      <td>0.003218</td>\n",
       "      <td>0.000805</td>\n",
       "    </tr>\n",
       "    <tr>\n",
       "      <th>count</th>\n",
       "      <td>1194.000000</td>\n",
       "      <td>44.000000</td>\n",
       "      <td>4.000000</td>\n",
       "      <td>1.000000</td>\n",
       "    </tr>\n",
       "    <tr>\n",
       "      <th>label</th>\n",
       "      <td>0.078727</td>\n",
       "      <td>0.113636</td>\n",
       "      <td>0.000000</td>\n",
       "      <td>0.000000</td>\n",
       "    </tr>\n",
       "    <tr>\n",
       "      <th>diaghype</th>\n",
       "      <td>0.336425</td>\n",
       "      <td>0.477273</td>\n",
       "      <td>0.750000</td>\n",
       "      <td>0.000000</td>\n",
       "    </tr>\n",
       "  </tbody>\n",
       "</table>\n",
       "</div>"
      ],
      "text/plain": [
       "race                1.0        2.0       4.0       6.0\n",
       "proportion     0.960579   0.035398  0.003218  0.000805\n",
       "count       1194.000000  44.000000  4.000000  1.000000\n",
       "label          0.078727   0.113636  0.000000  0.000000\n",
       "diaghype       0.336425   0.477273  0.750000  0.000000"
      ]
     },
     "metadata": {},
     "output_type": "display_data"
    }
   ],
   "source": [
    "analyze_race_and_malignancy('80')"
   ]
  },
  {
   "cell_type": "markdown",
   "metadata": {},
   "source": [
    "## 20% subset"
   ]
  },
  {
   "cell_type": "code",
   "execution_count": 10,
   "metadata": {},
   "outputs": [
    {
     "name": "stdout",
     "output_type": "stream",
     "text": [
      "Theoretical max black proportion = 0.14956467661691542\n"
     ]
    },
    {
     "data": {
      "text/markdown": [
       "### Overall dataset:"
      ],
      "text/plain": [
       "<IPython.core.display.Markdown object>"
      ]
     },
     "metadata": {},
     "output_type": "display_data"
    },
    {
     "data": {
      "application/vnd.microsoft.datawrangler.viewer.v0+json": {
       "columns": [
        {
         "name": "index",
         "rawType": "object",
         "type": "string"
        },
        {
         "name": "1.0",
         "rawType": "float64",
         "type": "float"
        },
        {
         "name": "2.0",
         "rawType": "float64",
         "type": "float"
        },
        {
         "name": "3.0",
         "rawType": "float64",
         "type": "float"
        },
        {
         "name": "4.0",
         "rawType": "float64",
         "type": "float"
        },
        {
         "name": "6.0",
         "rawType": "float64",
         "type": "float"
        }
       ],
       "conversionMethod": "pd.DataFrame",
       "ref": "beb7c95d-bc8e-4a15-a096-71f9eeee5332",
       "rows": [
        [
         "proportion",
         "0.9528861154446178",
         "0.020904836193447737",
         "0.014664586583463339",
         "0.0062402496099844",
         "0.005304212168486739"
        ],
        [
         "count",
         "3054.0",
         "67.0",
         "47.0",
         "20.0",
         "17.0"
        ],
        [
         "label",
         "0.07596594629993451",
         "0.07462686567164178",
         "0.1276595744680851",
         "0.35",
         "0.0"
        ],
        [
         "diaghype",
         "0.3383705650459921",
         "0.582089552238806",
         "0.425531914893617",
         "0.05",
         "0.35294117647058826"
        ]
       ],
       "shape": {
        "columns": 5,
        "rows": 4
       }
      },
      "text/html": [
       "<div>\n",
       "<style scoped>\n",
       "    .dataframe tbody tr th:only-of-type {\n",
       "        vertical-align: middle;\n",
       "    }\n",
       "\n",
       "    .dataframe tbody tr th {\n",
       "        vertical-align: top;\n",
       "    }\n",
       "\n",
       "    .dataframe thead th {\n",
       "        text-align: right;\n",
       "    }\n",
       "</style>\n",
       "<table border=\"1\" class=\"dataframe\">\n",
       "  <thead>\n",
       "    <tr style=\"text-align: right;\">\n",
       "      <th>race</th>\n",
       "      <th>1.0</th>\n",
       "      <th>2.0</th>\n",
       "      <th>3.0</th>\n",
       "      <th>4.0</th>\n",
       "      <th>6.0</th>\n",
       "    </tr>\n",
       "  </thead>\n",
       "  <tbody>\n",
       "    <tr>\n",
       "      <th>proportion</th>\n",
       "      <td>0.952886</td>\n",
       "      <td>0.020905</td>\n",
       "      <td>0.014665</td>\n",
       "      <td>0.00624</td>\n",
       "      <td>0.005304</td>\n",
       "    </tr>\n",
       "    <tr>\n",
       "      <th>count</th>\n",
       "      <td>3054.000000</td>\n",
       "      <td>67.000000</td>\n",
       "      <td>47.000000</td>\n",
       "      <td>20.00000</td>\n",
       "      <td>17.000000</td>\n",
       "    </tr>\n",
       "    <tr>\n",
       "      <th>label</th>\n",
       "      <td>0.075966</td>\n",
       "      <td>0.074627</td>\n",
       "      <td>0.127660</td>\n",
       "      <td>0.35000</td>\n",
       "      <td>0.000000</td>\n",
       "    </tr>\n",
       "    <tr>\n",
       "      <th>diaghype</th>\n",
       "      <td>0.338371</td>\n",
       "      <td>0.582090</td>\n",
       "      <td>0.425532</td>\n",
       "      <td>0.05000</td>\n",
       "      <td>0.352941</td>\n",
       "    </tr>\n",
       "  </tbody>\n",
       "</table>\n",
       "</div>"
      ],
      "text/plain": [
       "race                1.0        2.0        3.0       4.0        6.0\n",
       "proportion     0.952886   0.020905   0.014665   0.00624   0.005304\n",
       "count       3054.000000  67.000000  47.000000  20.00000  17.000000\n",
       "label          0.075966   0.074627   0.127660   0.35000   0.000000\n",
       "diaghype       0.338371   0.582090   0.425532   0.05000   0.352941"
      ]
     },
     "metadata": {},
     "output_type": "display_data"
    },
    {
     "data": {
      "text/markdown": [
       "#### Fold 0"
      ],
      "text/plain": [
       "<IPython.core.display.Markdown object>"
      ]
     },
     "metadata": {},
     "output_type": "display_data"
    },
    {
     "data": {
      "text/markdown": [
       "##### train - overall malignancy = 0.07612456747404844"
      ],
      "text/plain": [
       "<IPython.core.display.Markdown object>"
      ]
     },
     "metadata": {},
     "output_type": "display_data"
    },
    {
     "data": {
      "application/vnd.microsoft.datawrangler.viewer.v0+json": {
       "columns": [
        {
         "name": "index",
         "rawType": "object",
         "type": "string"
        },
        {
         "name": "1.0",
         "rawType": "float64",
         "type": "float"
        },
        {
         "name": "2.0",
         "rawType": "float64",
         "type": "float"
        },
        {
         "name": "3.0",
         "rawType": "float64",
         "type": "float"
        },
        {
         "name": "6.0",
         "rawType": "float64",
         "type": "float"
        },
        {
         "name": "4.0",
         "rawType": "float64",
         "type": "float"
        }
       ],
       "conversionMethod": "pd.DataFrame",
       "ref": "9eaa4633-1e88-49af-8357-ebed8a8ce620",
       "rows": [
        [
         "proportion",
         "0.9560401523018346",
         "0.020768431983385256",
         "0.013499480789200415",
         "0.004845967462789893",
         "0.004845967462789893"
        ],
        [
         "count",
         "2762.0",
         "60.0",
         "39.0",
         "14.0",
         "14.0"
        ],
        [
         "label",
         "0.07530774800868936",
         "0.08333333333333333",
         "0.15384615384615385",
         "0.0",
         "0.07142857142857142"
        ],
        [
         "diaghype",
         "0.33575581395348836",
         "0.5833333333333334",
         "0.46153846153846156",
         "0.42857142857142855",
         "0.07142857142857142"
        ]
       ],
       "shape": {
        "columns": 5,
        "rows": 4
       }
      },
      "text/html": [
       "<div>\n",
       "<style scoped>\n",
       "    .dataframe tbody tr th:only-of-type {\n",
       "        vertical-align: middle;\n",
       "    }\n",
       "\n",
       "    .dataframe tbody tr th {\n",
       "        vertical-align: top;\n",
       "    }\n",
       "\n",
       "    .dataframe thead th {\n",
       "        text-align: right;\n",
       "    }\n",
       "</style>\n",
       "<table border=\"1\" class=\"dataframe\">\n",
       "  <thead>\n",
       "    <tr style=\"text-align: right;\">\n",
       "      <th>race</th>\n",
       "      <th>1.0</th>\n",
       "      <th>2.0</th>\n",
       "      <th>3.0</th>\n",
       "      <th>6.0</th>\n",
       "      <th>4.0</th>\n",
       "    </tr>\n",
       "  </thead>\n",
       "  <tbody>\n",
       "    <tr>\n",
       "      <th>proportion</th>\n",
       "      <td>0.956040</td>\n",
       "      <td>0.020768</td>\n",
       "      <td>0.013499</td>\n",
       "      <td>0.004846</td>\n",
       "      <td>0.004846</td>\n",
       "    </tr>\n",
       "    <tr>\n",
       "      <th>count</th>\n",
       "      <td>2762.000000</td>\n",
       "      <td>60.000000</td>\n",
       "      <td>39.000000</td>\n",
       "      <td>14.000000</td>\n",
       "      <td>14.000000</td>\n",
       "    </tr>\n",
       "    <tr>\n",
       "      <th>label</th>\n",
       "      <td>0.075308</td>\n",
       "      <td>0.083333</td>\n",
       "      <td>0.153846</td>\n",
       "      <td>0.000000</td>\n",
       "      <td>0.071429</td>\n",
       "    </tr>\n",
       "    <tr>\n",
       "      <th>diaghype</th>\n",
       "      <td>0.335756</td>\n",
       "      <td>0.583333</td>\n",
       "      <td>0.461538</td>\n",
       "      <td>0.428571</td>\n",
       "      <td>0.071429</td>\n",
       "    </tr>\n",
       "  </tbody>\n",
       "</table>\n",
       "</div>"
      ],
      "text/plain": [
       "race                1.0        2.0        3.0        6.0        4.0\n",
       "proportion     0.956040   0.020768   0.013499   0.004846   0.004846\n",
       "count       2762.000000  60.000000  39.000000  14.000000  14.000000\n",
       "label          0.075308   0.083333   0.153846   0.000000   0.071429\n",
       "diaghype       0.335756   0.583333   0.461538   0.428571   0.071429"
      ]
     },
     "metadata": {},
     "output_type": "display_data"
    },
    {
     "data": {
      "text/markdown": [
       "##### valid - overall malignancy = 0.09202453987730061"
      ],
      "text/plain": [
       "<IPython.core.display.Markdown object>"
      ]
     },
     "metadata": {},
     "output_type": "display_data"
    },
    {
     "data": {
      "application/vnd.microsoft.datawrangler.viewer.v0+json": {
       "columns": [
        {
         "name": "index",
         "rawType": "object",
         "type": "string"
        },
        {
         "name": "1.0",
         "rawType": "float64",
         "type": "float"
        },
        {
         "name": "3.0",
         "rawType": "float64",
         "type": "float"
        },
        {
         "name": "2.0",
         "rawType": "float64",
         "type": "float"
        },
        {
         "name": "4.0",
         "rawType": "float64",
         "type": "float"
        },
        {
         "name": "6.0",
         "rawType": "float64",
         "type": "float"
        }
       ],
       "conversionMethod": "pd.DataFrame",
       "ref": "28d7ee2f-b3d0-4f43-bf83-fb19d88fc2ac",
       "rows": [
        [
         "proportion",
         "0.9240506329113924",
         "0.02531645569620253",
         "0.022151898734177215",
         "0.0189873417721519",
         "0.00949367088607595"
        ],
        [
         "count",
         "292.0",
         "8.0",
         "7.0",
         "6.0",
         "3.0"
        ],
        [
         "label",
         "0.0821917808219178",
         "0.0",
         "0.0",
         "1.0",
         "0.0"
        ],
        [
         "diaghype",
         "0.363013698630137",
         "0.25",
         "0.5714285714285714",
         "0.0",
         "0.0"
        ]
       ],
       "shape": {
        "columns": 5,
        "rows": 4
       }
      },
      "text/html": [
       "<div>\n",
       "<style scoped>\n",
       "    .dataframe tbody tr th:only-of-type {\n",
       "        vertical-align: middle;\n",
       "    }\n",
       "\n",
       "    .dataframe tbody tr th {\n",
       "        vertical-align: top;\n",
       "    }\n",
       "\n",
       "    .dataframe thead th {\n",
       "        text-align: right;\n",
       "    }\n",
       "</style>\n",
       "<table border=\"1\" class=\"dataframe\">\n",
       "  <thead>\n",
       "    <tr style=\"text-align: right;\">\n",
       "      <th>race</th>\n",
       "      <th>1.0</th>\n",
       "      <th>3.0</th>\n",
       "      <th>2.0</th>\n",
       "      <th>4.0</th>\n",
       "      <th>6.0</th>\n",
       "    </tr>\n",
       "  </thead>\n",
       "  <tbody>\n",
       "    <tr>\n",
       "      <th>proportion</th>\n",
       "      <td>0.924051</td>\n",
       "      <td>0.025316</td>\n",
       "      <td>0.022152</td>\n",
       "      <td>0.018987</td>\n",
       "      <td>0.009494</td>\n",
       "    </tr>\n",
       "    <tr>\n",
       "      <th>count</th>\n",
       "      <td>292.000000</td>\n",
       "      <td>8.000000</td>\n",
       "      <td>7.000000</td>\n",
       "      <td>6.000000</td>\n",
       "      <td>3.000000</td>\n",
       "    </tr>\n",
       "    <tr>\n",
       "      <th>label</th>\n",
       "      <td>0.082192</td>\n",
       "      <td>0.000000</td>\n",
       "      <td>0.000000</td>\n",
       "      <td>1.000000</td>\n",
       "      <td>0.000000</td>\n",
       "    </tr>\n",
       "    <tr>\n",
       "      <th>diaghype</th>\n",
       "      <td>0.363014</td>\n",
       "      <td>0.250000</td>\n",
       "      <td>0.571429</td>\n",
       "      <td>0.000000</td>\n",
       "      <td>0.000000</td>\n",
       "    </tr>\n",
       "  </tbody>\n",
       "</table>\n",
       "</div>"
      ],
      "text/plain": [
       "race               1.0       3.0       2.0       4.0       6.0\n",
       "proportion    0.924051  0.025316  0.022152  0.018987  0.009494\n",
       "count       292.000000  8.000000  7.000000  6.000000  3.000000\n",
       "label         0.082192  0.000000  0.000000  1.000000  0.000000\n",
       "diaghype      0.363014  0.250000  0.571429  0.000000  0.000000"
      ]
     },
     "metadata": {},
     "output_type": "display_data"
    },
    {
     "data": {
      "text/markdown": [
       "#### Fold 1"
      ],
      "text/plain": [
       "<IPython.core.display.Markdown object>"
      ]
     },
     "metadata": {},
     "output_type": "display_data"
    },
    {
     "data": {
      "text/markdown": [
       "##### train - overall malignancy = 0.07858136300417246"
      ],
      "text/plain": [
       "<IPython.core.display.Markdown object>"
      ]
     },
     "metadata": {},
     "output_type": "display_data"
    },
    {
     "data": {
      "application/vnd.microsoft.datawrangler.viewer.v0+json": {
       "columns": [
        {
         "name": "index",
         "rawType": "object",
         "type": "string"
        },
        {
         "name": "1.0",
         "rawType": "float64",
         "type": "float"
        },
        {
         "name": "2.0",
         "rawType": "float64",
         "type": "float"
        },
        {
         "name": "3.0",
         "rawType": "float64",
         "type": "float"
        },
        {
         "name": "4.0",
         "rawType": "float64",
         "type": "float"
        },
        {
         "name": "6.0",
         "rawType": "float64",
         "type": "float"
        }
       ],
       "conversionMethod": "pd.DataFrame",
       "ref": "749c14f5-dbde-455c-ad13-0a858fd48e90",
       "rows": [
        [
         "proportion",
         "0.9535776614310646",
         "0.019895287958115182",
         "0.014659685863874346",
         "0.006980802792321117",
         "0.004886561954624782"
        ],
        [
         "count",
         "2732.0",
         "57.0",
         "42.0",
         "20.0",
         "14.0"
        ],
        [
         "label",
         "0.07650073206442166",
         "0.08771929824561403",
         "0.11904761904761904",
         "0.35",
         "0.0"
        ],
        [
         "diaghype",
         "0.33210874357090375",
         "0.5614035087719298",
         "0.38095238095238093",
         "0.05",
         "0.42857142857142855"
        ]
       ],
       "shape": {
        "columns": 5,
        "rows": 4
       }
      },
      "text/html": [
       "<div>\n",
       "<style scoped>\n",
       "    .dataframe tbody tr th:only-of-type {\n",
       "        vertical-align: middle;\n",
       "    }\n",
       "\n",
       "    .dataframe tbody tr th {\n",
       "        vertical-align: top;\n",
       "    }\n",
       "\n",
       "    .dataframe thead th {\n",
       "        text-align: right;\n",
       "    }\n",
       "</style>\n",
       "<table border=\"1\" class=\"dataframe\">\n",
       "  <thead>\n",
       "    <tr style=\"text-align: right;\">\n",
       "      <th>race</th>\n",
       "      <th>1.0</th>\n",
       "      <th>2.0</th>\n",
       "      <th>3.0</th>\n",
       "      <th>4.0</th>\n",
       "      <th>6.0</th>\n",
       "    </tr>\n",
       "  </thead>\n",
       "  <tbody>\n",
       "    <tr>\n",
       "      <th>proportion</th>\n",
       "      <td>0.953578</td>\n",
       "      <td>0.019895</td>\n",
       "      <td>0.014660</td>\n",
       "      <td>0.006981</td>\n",
       "      <td>0.004887</td>\n",
       "    </tr>\n",
       "    <tr>\n",
       "      <th>count</th>\n",
       "      <td>2732.000000</td>\n",
       "      <td>57.000000</td>\n",
       "      <td>42.000000</td>\n",
       "      <td>20.000000</td>\n",
       "      <td>14.000000</td>\n",
       "    </tr>\n",
       "    <tr>\n",
       "      <th>label</th>\n",
       "      <td>0.076501</td>\n",
       "      <td>0.087719</td>\n",
       "      <td>0.119048</td>\n",
       "      <td>0.350000</td>\n",
       "      <td>0.000000</td>\n",
       "    </tr>\n",
       "    <tr>\n",
       "      <th>diaghype</th>\n",
       "      <td>0.332109</td>\n",
       "      <td>0.561404</td>\n",
       "      <td>0.380952</td>\n",
       "      <td>0.050000</td>\n",
       "      <td>0.428571</td>\n",
       "    </tr>\n",
       "  </tbody>\n",
       "</table>\n",
       "</div>"
      ],
      "text/plain": [
       "race                1.0        2.0        3.0        4.0        6.0\n",
       "proportion     0.953578   0.019895   0.014660   0.006981   0.004887\n",
       "count       2732.000000  57.000000  42.000000  20.000000  14.000000\n",
       "label          0.076501   0.087719   0.119048   0.350000   0.000000\n",
       "diaghype       0.332109   0.561404   0.380952   0.050000   0.428571"
      ]
     },
     "metadata": {},
     "output_type": "display_data"
    },
    {
     "data": {
      "text/markdown": [
       "##### valid - overall malignancy = 0.07058823529411765"
      ],
      "text/plain": [
       "<IPython.core.display.Markdown object>"
      ]
     },
     "metadata": {},
     "output_type": "display_data"
    },
    {
     "data": {
      "application/vnd.microsoft.datawrangler.viewer.v0+json": {
       "columns": [
        {
         "name": "index",
         "rawType": "object",
         "type": "string"
        },
        {
         "name": "1.0",
         "rawType": "float64",
         "type": "float"
        },
        {
         "name": "2.0",
         "rawType": "float64",
         "type": "float"
        },
        {
         "name": "3.0",
         "rawType": "float64",
         "type": "float"
        },
        {
         "name": "6.0",
         "rawType": "float64",
         "type": "float"
        }
       ],
       "conversionMethod": "pd.DataFrame",
       "ref": "889cffcd-a7b1-4ec5-8677-a46949fc2e2e",
       "rows": [
        [
         "proportion",
         "0.9470588235294117",
         "0.029411764705882353",
         "0.014705882352941176",
         "0.008823529411764706"
        ],
        [
         "count",
         "322.0",
         "10.0",
         "5.0",
         "3.0"
        ],
        [
         "label",
         "0.07142857142857142",
         "0.0",
         "0.2",
         "0.0"
        ],
        [
         "diaghype",
         "0.391304347826087",
         "0.7",
         "0.8",
         "0.0"
        ]
       ],
       "shape": {
        "columns": 4,
        "rows": 4
       }
      },
      "text/html": [
       "<div>\n",
       "<style scoped>\n",
       "    .dataframe tbody tr th:only-of-type {\n",
       "        vertical-align: middle;\n",
       "    }\n",
       "\n",
       "    .dataframe tbody tr th {\n",
       "        vertical-align: top;\n",
       "    }\n",
       "\n",
       "    .dataframe thead th {\n",
       "        text-align: right;\n",
       "    }\n",
       "</style>\n",
       "<table border=\"1\" class=\"dataframe\">\n",
       "  <thead>\n",
       "    <tr style=\"text-align: right;\">\n",
       "      <th>race</th>\n",
       "      <th>1.0</th>\n",
       "      <th>2.0</th>\n",
       "      <th>3.0</th>\n",
       "      <th>6.0</th>\n",
       "    </tr>\n",
       "  </thead>\n",
       "  <tbody>\n",
       "    <tr>\n",
       "      <th>proportion</th>\n",
       "      <td>0.947059</td>\n",
       "      <td>0.029412</td>\n",
       "      <td>0.014706</td>\n",
       "      <td>0.008824</td>\n",
       "    </tr>\n",
       "    <tr>\n",
       "      <th>count</th>\n",
       "      <td>322.000000</td>\n",
       "      <td>10.000000</td>\n",
       "      <td>5.000000</td>\n",
       "      <td>3.000000</td>\n",
       "    </tr>\n",
       "    <tr>\n",
       "      <th>label</th>\n",
       "      <td>0.071429</td>\n",
       "      <td>0.000000</td>\n",
       "      <td>0.200000</td>\n",
       "      <td>0.000000</td>\n",
       "    </tr>\n",
       "    <tr>\n",
       "      <th>diaghype</th>\n",
       "      <td>0.391304</td>\n",
       "      <td>0.700000</td>\n",
       "      <td>0.800000</td>\n",
       "      <td>0.000000</td>\n",
       "    </tr>\n",
       "  </tbody>\n",
       "</table>\n",
       "</div>"
      ],
      "text/plain": [
       "race               1.0        2.0       3.0       6.0\n",
       "proportion    0.947059   0.029412  0.014706  0.008824\n",
       "count       322.000000  10.000000  5.000000  3.000000\n",
       "label         0.071429   0.000000  0.200000  0.000000\n",
       "diaghype      0.391304   0.700000  0.800000  0.000000"
      ]
     },
     "metadata": {},
     "output_type": "display_data"
    },
    {
     "data": {
      "text/markdown": [
       "#### Fold 2"
      ],
      "text/plain": [
       "<IPython.core.display.Markdown object>"
      ]
     },
     "metadata": {},
     "output_type": "display_data"
    },
    {
     "data": {
      "text/markdown": [
       "##### train - overall malignancy = 0.07700276243093923"
      ],
      "text/plain": [
       "<IPython.core.display.Markdown object>"
      ]
     },
     "metadata": {},
     "output_type": "display_data"
    },
    {
     "data": {
      "application/vnd.microsoft.datawrangler.viewer.v0+json": {
       "columns": [
        {
         "name": "index",
         "rawType": "object",
         "type": "string"
        },
        {
         "name": "1.0",
         "rawType": "float64",
         "type": "float"
        },
        {
         "name": "2.0",
         "rawType": "float64",
         "type": "float"
        },
        {
         "name": "3.0",
         "rawType": "float64",
         "type": "float"
        },
        {
         "name": "4.0",
         "rawType": "float64",
         "type": "float"
        },
        {
         "name": "6.0",
         "rawType": "float64",
         "type": "float"
        }
       ],
       "conversionMethod": "pd.DataFrame",
       "ref": "65dc0346-5350-4d45-a4c2-7983062d8615",
       "rows": [
        [
         "proportion",
         "0.9538994800693241",
         "0.021143847487001734",
         "0.01386481802426343",
         "0.006932409012131715",
         "0.004159445407279029"
        ],
        [
         "count",
         "2752.0",
         "61.0",
         "40.0",
         "20.0",
         "12.0"
        ],
        [
         "label",
         "0.07667151162790697",
         "0.06557377049180328",
         "0.025",
         "0.35",
         "0.0"
        ],
        [
         "diaghype",
         "0.3490153172866521",
         "0.5409836065573771",
         "0.425",
         "0.05",
         "0.16666666666666666"
        ]
       ],
       "shape": {
        "columns": 5,
        "rows": 4
       }
      },
      "text/html": [
       "<div>\n",
       "<style scoped>\n",
       "    .dataframe tbody tr th:only-of-type {\n",
       "        vertical-align: middle;\n",
       "    }\n",
       "\n",
       "    .dataframe tbody tr th {\n",
       "        vertical-align: top;\n",
       "    }\n",
       "\n",
       "    .dataframe thead th {\n",
       "        text-align: right;\n",
       "    }\n",
       "</style>\n",
       "<table border=\"1\" class=\"dataframe\">\n",
       "  <thead>\n",
       "    <tr style=\"text-align: right;\">\n",
       "      <th>race</th>\n",
       "      <th>1.0</th>\n",
       "      <th>2.0</th>\n",
       "      <th>3.0</th>\n",
       "      <th>4.0</th>\n",
       "      <th>6.0</th>\n",
       "    </tr>\n",
       "  </thead>\n",
       "  <tbody>\n",
       "    <tr>\n",
       "      <th>proportion</th>\n",
       "      <td>0.953899</td>\n",
       "      <td>0.021144</td>\n",
       "      <td>0.013865</td>\n",
       "      <td>0.006932</td>\n",
       "      <td>0.004159</td>\n",
       "    </tr>\n",
       "    <tr>\n",
       "      <th>count</th>\n",
       "      <td>2752.000000</td>\n",
       "      <td>61.000000</td>\n",
       "      <td>40.000000</td>\n",
       "      <td>20.000000</td>\n",
       "      <td>12.000000</td>\n",
       "    </tr>\n",
       "    <tr>\n",
       "      <th>label</th>\n",
       "      <td>0.076672</td>\n",
       "      <td>0.065574</td>\n",
       "      <td>0.025000</td>\n",
       "      <td>0.350000</td>\n",
       "      <td>0.000000</td>\n",
       "    </tr>\n",
       "    <tr>\n",
       "      <th>diaghype</th>\n",
       "      <td>0.349015</td>\n",
       "      <td>0.540984</td>\n",
       "      <td>0.425000</td>\n",
       "      <td>0.050000</td>\n",
       "      <td>0.166667</td>\n",
       "    </tr>\n",
       "  </tbody>\n",
       "</table>\n",
       "</div>"
      ],
      "text/plain": [
       "race                1.0        2.0        3.0        4.0        6.0\n",
       "proportion     0.953899   0.021144   0.013865   0.006932   0.004159\n",
       "count       2752.000000  61.000000  40.000000  20.000000  12.000000\n",
       "label          0.076672   0.065574   0.025000   0.350000   0.000000\n",
       "diaghype       0.349015   0.540984   0.425000   0.050000   0.166667"
      ]
     },
     "metadata": {},
     "output_type": "display_data"
    },
    {
     "data": {
      "text/markdown": [
       "##### valid - overall malignancy = 0.084375"
      ],
      "text/plain": [
       "<IPython.core.display.Markdown object>"
      ]
     },
     "metadata": {},
     "output_type": "display_data"
    },
    {
     "data": {
      "application/vnd.microsoft.datawrangler.viewer.v0+json": {
       "columns": [
        {
         "name": "index",
         "rawType": "object",
         "type": "string"
        },
        {
         "name": "1.0",
         "rawType": "float64",
         "type": "float"
        },
        {
         "name": "3.0",
         "rawType": "float64",
         "type": "float"
        },
        {
         "name": "2.0",
         "rawType": "float64",
         "type": "float"
        },
        {
         "name": "6.0",
         "rawType": "float64",
         "type": "float"
        }
       ],
       "conversionMethod": "pd.DataFrame",
       "ref": "92cd3ada-2416-4d39-9a8f-7c10574bee59",
       "rows": [
        [
         "proportion",
         "0.94375",
         "0.021875",
         "0.01875",
         "0.015625"
        ],
        [
         "count",
         "302.0",
         "7.0",
         "6.0",
         "5.0"
        ],
        [
         "label",
         "0.0695364238410596",
         "0.7142857142857143",
         "0.16666666666666666",
         "0.0"
        ],
        [
         "diaghype",
         "0.24172185430463577",
         "0.42857142857142855",
         "1.0",
         "0.8"
        ]
       ],
       "shape": {
        "columns": 4,
        "rows": 4
       }
      },
      "text/html": [
       "<div>\n",
       "<style scoped>\n",
       "    .dataframe tbody tr th:only-of-type {\n",
       "        vertical-align: middle;\n",
       "    }\n",
       "\n",
       "    .dataframe tbody tr th {\n",
       "        vertical-align: top;\n",
       "    }\n",
       "\n",
       "    .dataframe thead th {\n",
       "        text-align: right;\n",
       "    }\n",
       "</style>\n",
       "<table border=\"1\" class=\"dataframe\">\n",
       "  <thead>\n",
       "    <tr style=\"text-align: right;\">\n",
       "      <th>race</th>\n",
       "      <th>1.0</th>\n",
       "      <th>3.0</th>\n",
       "      <th>2.0</th>\n",
       "      <th>6.0</th>\n",
       "    </tr>\n",
       "  </thead>\n",
       "  <tbody>\n",
       "    <tr>\n",
       "      <th>proportion</th>\n",
       "      <td>0.943750</td>\n",
       "      <td>0.021875</td>\n",
       "      <td>0.018750</td>\n",
       "      <td>0.015625</td>\n",
       "    </tr>\n",
       "    <tr>\n",
       "      <th>count</th>\n",
       "      <td>302.000000</td>\n",
       "      <td>7.000000</td>\n",
       "      <td>6.000000</td>\n",
       "      <td>5.000000</td>\n",
       "    </tr>\n",
       "    <tr>\n",
       "      <th>label</th>\n",
       "      <td>0.069536</td>\n",
       "      <td>0.714286</td>\n",
       "      <td>0.166667</td>\n",
       "      <td>0.000000</td>\n",
       "    </tr>\n",
       "    <tr>\n",
       "      <th>diaghype</th>\n",
       "      <td>0.241722</td>\n",
       "      <td>0.428571</td>\n",
       "      <td>1.000000</td>\n",
       "      <td>0.800000</td>\n",
       "    </tr>\n",
       "  </tbody>\n",
       "</table>\n",
       "</div>"
      ],
      "text/plain": [
       "race               1.0       3.0       2.0       6.0\n",
       "proportion    0.943750  0.021875  0.018750  0.015625\n",
       "count       302.000000  7.000000  6.000000  5.000000\n",
       "label         0.069536  0.714286  0.166667  0.000000\n",
       "diaghype      0.241722  0.428571  1.000000  0.800000"
      ]
     },
     "metadata": {},
     "output_type": "display_data"
    },
    {
     "data": {
      "text/markdown": [
       "#### Fold 3"
      ],
      "text/plain": [
       "<IPython.core.display.Markdown object>"
      ]
     },
     "metadata": {},
     "output_type": "display_data"
    },
    {
     "data": {
      "text/markdown": [
       "##### train - overall malignancy = 0.07894736842105263"
      ],
      "text/plain": [
       "<IPython.core.display.Markdown object>"
      ]
     },
     "metadata": {},
     "output_type": "display_data"
    },
    {
     "data": {
      "application/vnd.microsoft.datawrangler.viewer.v0+json": {
       "columns": [
        {
         "name": "index",
         "rawType": "object",
         "type": "string"
        },
        {
         "name": "1.0",
         "rawType": "float64",
         "type": "float"
        },
        {
         "name": "2.0",
         "rawType": "float64",
         "type": "float"
        },
        {
         "name": "3.0",
         "rawType": "float64",
         "type": "float"
        },
        {
         "name": "4.0",
         "rawType": "float64",
         "type": "float"
        },
        {
         "name": "6.0",
         "rawType": "float64",
         "type": "float"
        }
       ],
       "conversionMethod": "pd.DataFrame",
       "ref": "e3531d03-42a9-4959-b2f6-2a5fad671a8f",
       "rows": [
        [
         "proportion",
         "0.9543739279588336",
         "0.018524871355060035",
         "0.014408233276157804",
         "0.00686106346483705",
         "0.005831903945111492"
        ],
        [
         "count",
         "2782.0",
         "54.0",
         "42.0",
         "20.0",
         "17.0"
        ],
        [
         "label",
         "0.07764198418404025",
         "0.037037037037037035",
         "0.14285714285714285",
         "0.35",
         "0.0"
        ],
        [
         "diaghype",
         "0.32936507936507936",
         "0.5925925925925926",
         "0.35714285714285715",
         "0.05",
         "0.35294117647058826"
        ]
       ],
       "shape": {
        "columns": 5,
        "rows": 4
       }
      },
      "text/html": [
       "<div>\n",
       "<style scoped>\n",
       "    .dataframe tbody tr th:only-of-type {\n",
       "        vertical-align: middle;\n",
       "    }\n",
       "\n",
       "    .dataframe tbody tr th {\n",
       "        vertical-align: top;\n",
       "    }\n",
       "\n",
       "    .dataframe thead th {\n",
       "        text-align: right;\n",
       "    }\n",
       "</style>\n",
       "<table border=\"1\" class=\"dataframe\">\n",
       "  <thead>\n",
       "    <tr style=\"text-align: right;\">\n",
       "      <th>race</th>\n",
       "      <th>1.0</th>\n",
       "      <th>2.0</th>\n",
       "      <th>3.0</th>\n",
       "      <th>4.0</th>\n",
       "      <th>6.0</th>\n",
       "    </tr>\n",
       "  </thead>\n",
       "  <tbody>\n",
       "    <tr>\n",
       "      <th>proportion</th>\n",
       "      <td>0.954374</td>\n",
       "      <td>0.018525</td>\n",
       "      <td>0.014408</td>\n",
       "      <td>0.006861</td>\n",
       "      <td>0.005832</td>\n",
       "    </tr>\n",
       "    <tr>\n",
       "      <th>count</th>\n",
       "      <td>2782.000000</td>\n",
       "      <td>54.000000</td>\n",
       "      <td>42.000000</td>\n",
       "      <td>20.000000</td>\n",
       "      <td>17.000000</td>\n",
       "    </tr>\n",
       "    <tr>\n",
       "      <th>label</th>\n",
       "      <td>0.077642</td>\n",
       "      <td>0.037037</td>\n",
       "      <td>0.142857</td>\n",
       "      <td>0.350000</td>\n",
       "      <td>0.000000</td>\n",
       "    </tr>\n",
       "    <tr>\n",
       "      <th>diaghype</th>\n",
       "      <td>0.329365</td>\n",
       "      <td>0.592593</td>\n",
       "      <td>0.357143</td>\n",
       "      <td>0.050000</td>\n",
       "      <td>0.352941</td>\n",
       "    </tr>\n",
       "  </tbody>\n",
       "</table>\n",
       "</div>"
      ],
      "text/plain": [
       "race                1.0        2.0        3.0        4.0        6.0\n",
       "proportion     0.954374   0.018525   0.014408   0.006861   0.005832\n",
       "count       2782.000000  54.000000  42.000000  20.000000  17.000000\n",
       "label          0.077642   0.037037   0.142857   0.350000   0.000000\n",
       "diaghype       0.329365   0.592593   0.357143   0.050000   0.352941"
      ]
     },
     "metadata": {},
     "output_type": "display_data"
    },
    {
     "data": {
      "text/markdown": [
       "##### valid - overall malignancy = 0.06551724137931035"
      ],
      "text/plain": [
       "<IPython.core.display.Markdown object>"
      ]
     },
     "metadata": {},
     "output_type": "display_data"
    },
    {
     "data": {
      "application/vnd.microsoft.datawrangler.viewer.v0+json": {
       "columns": [
        {
         "name": "index",
         "rawType": "object",
         "type": "string"
        },
        {
         "name": "1.0",
         "rawType": "float64",
         "type": "float"
        },
        {
         "name": "2.0",
         "rawType": "float64",
         "type": "float"
        },
        {
         "name": "3.0",
         "rawType": "float64",
         "type": "float"
        }
       ],
       "conversionMethod": "pd.DataFrame",
       "ref": "734c3688-207c-4892-b811-001908a6aafa",
       "rows": [
        [
         "proportion",
         "0.9379310344827586",
         "0.04482758620689655",
         "0.017241379310344827"
        ],
        [
         "count",
         "272.0",
         "13.0",
         "5.0"
        ],
        [
         "label",
         "0.058823529411764705",
         "0.23076923076923078",
         "0.0"
        ],
        [
         "diaghype",
         "0.43014705882352944",
         "0.5384615384615384",
         "1.0"
        ]
       ],
       "shape": {
        "columns": 3,
        "rows": 4
       }
      },
      "text/html": [
       "<div>\n",
       "<style scoped>\n",
       "    .dataframe tbody tr th:only-of-type {\n",
       "        vertical-align: middle;\n",
       "    }\n",
       "\n",
       "    .dataframe tbody tr th {\n",
       "        vertical-align: top;\n",
       "    }\n",
       "\n",
       "    .dataframe thead th {\n",
       "        text-align: right;\n",
       "    }\n",
       "</style>\n",
       "<table border=\"1\" class=\"dataframe\">\n",
       "  <thead>\n",
       "    <tr style=\"text-align: right;\">\n",
       "      <th>race</th>\n",
       "      <th>1.0</th>\n",
       "      <th>2.0</th>\n",
       "      <th>3.0</th>\n",
       "    </tr>\n",
       "  </thead>\n",
       "  <tbody>\n",
       "    <tr>\n",
       "      <th>proportion</th>\n",
       "      <td>0.937931</td>\n",
       "      <td>0.044828</td>\n",
       "      <td>0.017241</td>\n",
       "    </tr>\n",
       "    <tr>\n",
       "      <th>count</th>\n",
       "      <td>272.000000</td>\n",
       "      <td>13.000000</td>\n",
       "      <td>5.000000</td>\n",
       "    </tr>\n",
       "    <tr>\n",
       "      <th>label</th>\n",
       "      <td>0.058824</td>\n",
       "      <td>0.230769</td>\n",
       "      <td>0.000000</td>\n",
       "    </tr>\n",
       "    <tr>\n",
       "      <th>diaghype</th>\n",
       "      <td>0.430147</td>\n",
       "      <td>0.538462</td>\n",
       "      <td>1.000000</td>\n",
       "    </tr>\n",
       "  </tbody>\n",
       "</table>\n",
       "</div>"
      ],
      "text/plain": [
       "race               1.0        2.0       3.0\n",
       "proportion    0.937931   0.044828  0.017241\n",
       "count       272.000000  13.000000  5.000000\n",
       "label         0.058824   0.230769  0.000000\n",
       "diaghype      0.430147   0.538462  1.000000"
      ]
     },
     "metadata": {},
     "output_type": "display_data"
    },
    {
     "data": {
      "text/markdown": [
       "#### Fold 4"
      ],
      "text/plain": [
       "<IPython.core.display.Markdown object>"
      ]
     },
     "metadata": {},
     "output_type": "display_data"
    },
    {
     "data": {
      "text/markdown": [
       "##### train - overall malignancy = 0.07918710581639804"
      ],
      "text/plain": [
       "<IPython.core.display.Markdown object>"
      ]
     },
     "metadata": {},
     "output_type": "display_data"
    },
    {
     "data": {
      "application/vnd.microsoft.datawrangler.viewer.v0+json": {
       "columns": [
        {
         "name": "index",
         "rawType": "object",
         "type": "string"
        },
        {
         "name": "1.0",
         "rawType": "float64",
         "type": "float"
        },
        {
         "name": "2.0",
         "rawType": "float64",
         "type": "float"
        },
        {
         "name": "3.0",
         "rawType": "float64",
         "type": "float"
        },
        {
         "name": "4.0",
         "rawType": "float64",
         "type": "float"
        },
        {
         "name": "6.0",
         "rawType": "float64",
         "type": "float"
        }
       ],
       "conversionMethod": "pd.DataFrame",
       "ref": "512a1bc6-cb9b-4a02-abc6-0d9fe5d8033b",
       "rows": [
        [
         "proportion",
         "0.9528666901160746",
         "0.021807949349278932",
         "0.012310939148786493",
         "0.007034822370735139",
         "0.005979599015124868"
        ],
        [
         "count",
         "2709.0",
         "62.0",
         "35.0",
         "20.0",
         "17.0"
        ],
        [
         "label",
         "0.07678110003691399",
         "0.08064516129032258",
         "0.17142857142857143",
         "0.35",
         "0.0"
        ],
        [
         "diaghype",
         "0.3430900333456836",
         "0.6290322580645161",
         "0.5142857142857142",
         "0.05",
         "0.35294117647058826"
        ]
       ],
       "shape": {
        "columns": 5,
        "rows": 4
       }
      },
      "text/html": [
       "<div>\n",
       "<style scoped>\n",
       "    .dataframe tbody tr th:only-of-type {\n",
       "        vertical-align: middle;\n",
       "    }\n",
       "\n",
       "    .dataframe tbody tr th {\n",
       "        vertical-align: top;\n",
       "    }\n",
       "\n",
       "    .dataframe thead th {\n",
       "        text-align: right;\n",
       "    }\n",
       "</style>\n",
       "<table border=\"1\" class=\"dataframe\">\n",
       "  <thead>\n",
       "    <tr style=\"text-align: right;\">\n",
       "      <th>race</th>\n",
       "      <th>1.0</th>\n",
       "      <th>2.0</th>\n",
       "      <th>3.0</th>\n",
       "      <th>4.0</th>\n",
       "      <th>6.0</th>\n",
       "    </tr>\n",
       "  </thead>\n",
       "  <tbody>\n",
       "    <tr>\n",
       "      <th>proportion</th>\n",
       "      <td>0.952867</td>\n",
       "      <td>0.021808</td>\n",
       "      <td>0.012311</td>\n",
       "      <td>0.007035</td>\n",
       "      <td>0.005980</td>\n",
       "    </tr>\n",
       "    <tr>\n",
       "      <th>count</th>\n",
       "      <td>2709.000000</td>\n",
       "      <td>62.000000</td>\n",
       "      <td>35.000000</td>\n",
       "      <td>20.000000</td>\n",
       "      <td>17.000000</td>\n",
       "    </tr>\n",
       "    <tr>\n",
       "      <th>label</th>\n",
       "      <td>0.076781</td>\n",
       "      <td>0.080645</td>\n",
       "      <td>0.171429</td>\n",
       "      <td>0.350000</td>\n",
       "      <td>0.000000</td>\n",
       "    </tr>\n",
       "    <tr>\n",
       "      <th>diaghype</th>\n",
       "      <td>0.343090</td>\n",
       "      <td>0.629032</td>\n",
       "      <td>0.514286</td>\n",
       "      <td>0.050000</td>\n",
       "      <td>0.352941</td>\n",
       "    </tr>\n",
       "  </tbody>\n",
       "</table>\n",
       "</div>"
      ],
      "text/plain": [
       "race                1.0        2.0        3.0        4.0        6.0\n",
       "proportion     0.952867   0.021808   0.012311   0.007035   0.005980\n",
       "count       2709.000000  62.000000  35.000000  20.000000  17.000000\n",
       "label          0.076781   0.080645   0.171429   0.350000   0.000000\n",
       "diaghype       0.343090   0.629032   0.514286   0.050000   0.352941"
      ]
     },
     "metadata": {},
     "output_type": "display_data"
    },
    {
     "data": {
      "text/markdown": [
       "##### valid - overall malignancy = 0.06629834254143646"
      ],
      "text/plain": [
       "<IPython.core.display.Markdown object>"
      ]
     },
     "metadata": {},
     "output_type": "display_data"
    },
    {
     "data": {
      "application/vnd.microsoft.datawrangler.viewer.v0+json": {
       "columns": [
        {
         "name": "index",
         "rawType": "object",
         "type": "string"
        },
        {
         "name": "1.0",
         "rawType": "float64",
         "type": "float"
        },
        {
         "name": "3.0",
         "rawType": "float64",
         "type": "float"
        },
        {
         "name": "2.0",
         "rawType": "float64",
         "type": "float"
        }
       ],
       "conversionMethod": "pd.DataFrame",
       "ref": "b1993919-4e58-4b9e-abfe-350a1c2c62c0",
       "rows": [
        [
         "proportion",
         "0.9530386740331491",
         "0.03314917127071823",
         "0.013812154696132596"
        ],
        [
         "count",
         "345.0",
         "12.0",
         "5.0"
        ],
        [
         "label",
         "0.06956521739130435",
         "0.0",
         "0.0"
        ],
        [
         "diaghype",
         "0.30144927536231886",
         "0.16666666666666666",
         "0.0"
        ]
       ],
       "shape": {
        "columns": 3,
        "rows": 4
       }
      },
      "text/html": [
       "<div>\n",
       "<style scoped>\n",
       "    .dataframe tbody tr th:only-of-type {\n",
       "        vertical-align: middle;\n",
       "    }\n",
       "\n",
       "    .dataframe tbody tr th {\n",
       "        vertical-align: top;\n",
       "    }\n",
       "\n",
       "    .dataframe thead th {\n",
       "        text-align: right;\n",
       "    }\n",
       "</style>\n",
       "<table border=\"1\" class=\"dataframe\">\n",
       "  <thead>\n",
       "    <tr style=\"text-align: right;\">\n",
       "      <th>race</th>\n",
       "      <th>1.0</th>\n",
       "      <th>3.0</th>\n",
       "      <th>2.0</th>\n",
       "    </tr>\n",
       "  </thead>\n",
       "  <tbody>\n",
       "    <tr>\n",
       "      <th>proportion</th>\n",
       "      <td>0.953039</td>\n",
       "      <td>0.033149</td>\n",
       "      <td>0.013812</td>\n",
       "    </tr>\n",
       "    <tr>\n",
       "      <th>count</th>\n",
       "      <td>345.000000</td>\n",
       "      <td>12.000000</td>\n",
       "      <td>5.000000</td>\n",
       "    </tr>\n",
       "    <tr>\n",
       "      <th>label</th>\n",
       "      <td>0.069565</td>\n",
       "      <td>0.000000</td>\n",
       "      <td>0.000000</td>\n",
       "    </tr>\n",
       "    <tr>\n",
       "      <th>diaghype</th>\n",
       "      <td>0.301449</td>\n",
       "      <td>0.166667</td>\n",
       "      <td>0.000000</td>\n",
       "    </tr>\n",
       "  </tbody>\n",
       "</table>\n",
       "</div>"
      ],
      "text/plain": [
       "race               1.0        3.0       2.0\n",
       "proportion    0.953039   0.033149  0.013812\n",
       "count       345.000000  12.000000  5.000000\n",
       "label         0.069565   0.000000  0.000000\n",
       "diaghype      0.301449   0.166667  0.000000"
      ]
     },
     "metadata": {},
     "output_type": "display_data"
    },
    {
     "data": {
      "text/markdown": [
       "#### Fold 5"
      ],
      "text/plain": [
       "<IPython.core.display.Markdown object>"
      ]
     },
     "metadata": {},
     "output_type": "display_data"
    },
    {
     "data": {
      "text/markdown": [
       "##### train - overall malignancy = 0.0784313725490196"
      ],
      "text/plain": [
       "<IPython.core.display.Markdown object>"
      ]
     },
     "metadata": {},
     "output_type": "display_data"
    },
    {
     "data": {
      "application/vnd.microsoft.datawrangler.viewer.v0+json": {
       "columns": [
        {
         "name": "index",
         "rawType": "object",
         "type": "string"
        },
        {
         "name": "1.0",
         "rawType": "float64",
         "type": "float"
        },
        {
         "name": "2.0",
         "rawType": "float64",
         "type": "float"
        },
        {
         "name": "3.0",
         "rawType": "float64",
         "type": "float"
        },
        {
         "name": "4.0",
         "rawType": "float64",
         "type": "float"
        },
        {
         "name": "6.0",
         "rawType": "float64",
         "type": "float"
        }
       ],
       "conversionMethod": "pd.DataFrame",
       "ref": "681dfcdf-34bc-4e64-ac6d-a517c83e5797",
       "rows": [
        [
         "proportion",
         "0.9530386740331491",
         "0.021408839779005526",
         "0.013812154696132596",
         "0.006560773480662983",
         "0.0051795580110497235"
        ],
        [
         "count",
         "2760.0",
         "62.0",
         "40.0",
         "19.0",
         "15.0"
        ],
        [
         "label",
         "0.07644927536231884",
         "0.08064516129032258",
         "0.15",
         "0.3157894736842105",
         "0.0"
        ],
        [
         "diaghype",
         "0.3421818181818182",
         "0.5967741935483871",
         "0.4",
         "0.0",
         "0.3333333333333333"
        ]
       ],
       "shape": {
        "columns": 5,
        "rows": 4
       }
      },
      "text/html": [
       "<div>\n",
       "<style scoped>\n",
       "    .dataframe tbody tr th:only-of-type {\n",
       "        vertical-align: middle;\n",
       "    }\n",
       "\n",
       "    .dataframe tbody tr th {\n",
       "        vertical-align: top;\n",
       "    }\n",
       "\n",
       "    .dataframe thead th {\n",
       "        text-align: right;\n",
       "    }\n",
       "</style>\n",
       "<table border=\"1\" class=\"dataframe\">\n",
       "  <thead>\n",
       "    <tr style=\"text-align: right;\">\n",
       "      <th>race</th>\n",
       "      <th>1.0</th>\n",
       "      <th>2.0</th>\n",
       "      <th>3.0</th>\n",
       "      <th>4.0</th>\n",
       "      <th>6.0</th>\n",
       "    </tr>\n",
       "  </thead>\n",
       "  <tbody>\n",
       "    <tr>\n",
       "      <th>proportion</th>\n",
       "      <td>0.953039</td>\n",
       "      <td>0.021409</td>\n",
       "      <td>0.013812</td>\n",
       "      <td>0.006561</td>\n",
       "      <td>0.005180</td>\n",
       "    </tr>\n",
       "    <tr>\n",
       "      <th>count</th>\n",
       "      <td>2760.000000</td>\n",
       "      <td>62.000000</td>\n",
       "      <td>40.000000</td>\n",
       "      <td>19.000000</td>\n",
       "      <td>15.000000</td>\n",
       "    </tr>\n",
       "    <tr>\n",
       "      <th>label</th>\n",
       "      <td>0.076449</td>\n",
       "      <td>0.080645</td>\n",
       "      <td>0.150000</td>\n",
       "      <td>0.315789</td>\n",
       "      <td>0.000000</td>\n",
       "    </tr>\n",
       "    <tr>\n",
       "      <th>diaghype</th>\n",
       "      <td>0.342182</td>\n",
       "      <td>0.596774</td>\n",
       "      <td>0.400000</td>\n",
       "      <td>0.000000</td>\n",
       "      <td>0.333333</td>\n",
       "    </tr>\n",
       "  </tbody>\n",
       "</table>\n",
       "</div>"
      ],
      "text/plain": [
       "race                1.0        2.0        3.0        4.0        6.0\n",
       "proportion     0.953039   0.021409   0.013812   0.006561   0.005180\n",
       "count       2760.000000  62.000000  40.000000  19.000000  15.000000\n",
       "label          0.076449   0.080645   0.150000   0.315789   0.000000\n",
       "diaghype       0.342182   0.596774   0.400000   0.000000   0.333333"
      ]
     },
     "metadata": {},
     "output_type": "display_data"
    },
    {
     "data": {
      "text/markdown": [
       "##### valid - overall malignancy = 0.07119741100323625"
      ],
      "text/plain": [
       "<IPython.core.display.Markdown object>"
      ]
     },
     "metadata": {},
     "output_type": "display_data"
    },
    {
     "data": {
      "application/vnd.microsoft.datawrangler.viewer.v0+json": {
       "columns": [
        {
         "name": "index",
         "rawType": "object",
         "type": "string"
        },
        {
         "name": "1.0",
         "rawType": "float64",
         "type": "float"
        },
        {
         "name": "3.0",
         "rawType": "float64",
         "type": "float"
        },
        {
         "name": "2.0",
         "rawType": "float64",
         "type": "float"
        },
        {
         "name": "6.0",
         "rawType": "float64",
         "type": "float"
        },
        {
         "name": "4.0",
         "rawType": "float64",
         "type": "float"
        }
       ],
       "conversionMethod": "pd.DataFrame",
       "ref": "3ca82202-05a3-460c-8d35-bd06582f0b69",
       "rows": [
        [
         "proportion",
         "0.9514563106796117",
         "0.022653721682847898",
         "0.016181229773462782",
         "0.006472491909385114",
         "0.003236245954692557"
        ],
        [
         "count",
         "294.0",
         "7.0",
         "5.0",
         "2.0",
         "1.0"
        ],
        [
         "label",
         "0.07142857142857142",
         "0.0",
         "0.0",
         "0.0",
         "1.0"
        ],
        [
         "diaghype",
         "0.30272108843537415",
         "0.5714285714285714",
         "0.4",
         "0.5",
         "1.0"
        ]
       ],
       "shape": {
        "columns": 5,
        "rows": 4
       }
      },
      "text/html": [
       "<div>\n",
       "<style scoped>\n",
       "    .dataframe tbody tr th:only-of-type {\n",
       "        vertical-align: middle;\n",
       "    }\n",
       "\n",
       "    .dataframe tbody tr th {\n",
       "        vertical-align: top;\n",
       "    }\n",
       "\n",
       "    .dataframe thead th {\n",
       "        text-align: right;\n",
       "    }\n",
       "</style>\n",
       "<table border=\"1\" class=\"dataframe\">\n",
       "  <thead>\n",
       "    <tr style=\"text-align: right;\">\n",
       "      <th>race</th>\n",
       "      <th>1.0</th>\n",
       "      <th>3.0</th>\n",
       "      <th>2.0</th>\n",
       "      <th>6.0</th>\n",
       "      <th>4.0</th>\n",
       "    </tr>\n",
       "  </thead>\n",
       "  <tbody>\n",
       "    <tr>\n",
       "      <th>proportion</th>\n",
       "      <td>0.951456</td>\n",
       "      <td>0.022654</td>\n",
       "      <td>0.016181</td>\n",
       "      <td>0.006472</td>\n",
       "      <td>0.003236</td>\n",
       "    </tr>\n",
       "    <tr>\n",
       "      <th>count</th>\n",
       "      <td>294.000000</td>\n",
       "      <td>7.000000</td>\n",
       "      <td>5.000000</td>\n",
       "      <td>2.000000</td>\n",
       "      <td>1.000000</td>\n",
       "    </tr>\n",
       "    <tr>\n",
       "      <th>label</th>\n",
       "      <td>0.071429</td>\n",
       "      <td>0.000000</td>\n",
       "      <td>0.000000</td>\n",
       "      <td>0.000000</td>\n",
       "      <td>1.000000</td>\n",
       "    </tr>\n",
       "    <tr>\n",
       "      <th>diaghype</th>\n",
       "      <td>0.302721</td>\n",
       "      <td>0.571429</td>\n",
       "      <td>0.400000</td>\n",
       "      <td>0.500000</td>\n",
       "      <td>1.000000</td>\n",
       "    </tr>\n",
       "  </tbody>\n",
       "</table>\n",
       "</div>"
      ],
      "text/plain": [
       "race               1.0       3.0       2.0       6.0       4.0\n",
       "proportion    0.951456  0.022654  0.016181  0.006472  0.003236\n",
       "count       294.000000  7.000000  5.000000  2.000000  1.000000\n",
       "label         0.071429  0.000000  0.000000  0.000000  1.000000\n",
       "diaghype      0.302721  0.571429  0.400000  0.500000  1.000000"
      ]
     },
     "metadata": {},
     "output_type": "display_data"
    },
    {
     "data": {
      "text/markdown": [
       "#### Fold 6"
      ],
      "text/plain": [
       "<IPython.core.display.Markdown object>"
      ]
     },
     "metadata": {},
     "output_type": "display_data"
    },
    {
     "data": {
      "text/markdown": [
       "##### train - overall malignancy = 0.07705421070576202"
      ],
      "text/plain": [
       "<IPython.core.display.Markdown object>"
      ]
     },
     "metadata": {},
     "output_type": "display_data"
    },
    {
     "data": {
      "application/vnd.microsoft.datawrangler.viewer.v0+json": {
       "columns": [
        {
         "name": "index",
         "rawType": "object",
         "type": "string"
        },
        {
         "name": "1.0",
         "rawType": "float64",
         "type": "float"
        },
        {
         "name": "2.0",
         "rawType": "float64",
         "type": "float"
        },
        {
         "name": "3.0",
         "rawType": "float64",
         "type": "float"
        },
        {
         "name": "6.0",
         "rawType": "float64",
         "type": "float"
        },
        {
         "name": "4.0",
         "rawType": "float64",
         "type": "float"
        }
       ],
       "conversionMethod": "pd.DataFrame",
       "ref": "b19b901a-c8bc-44e1-b460-f3faa9180579",
       "rows": [
        [
         "proportion",
         "0.9544832306639288",
         "0.02292950034223135",
         "0.015058179329226557",
         "0.004791238877481177",
         "0.0027378507871321013"
        ],
        [
         "count",
         "2789.0",
         "67.0",
         "44.0",
         "14.0",
         "8.0"
        ],
        [
         "label",
         "0.07457870204374328",
         "0.07462686567164178",
         "0.13636363636363635",
         "0.0",
         "0.875"
        ],
        [
         "diaghype",
         "0.3423132183908046",
         "0.582089552238806",
         "0.45454545454545453",
         "0.35714285714285715",
         "0.125"
        ]
       ],
       "shape": {
        "columns": 5,
        "rows": 4
       }
      },
      "text/html": [
       "<div>\n",
       "<style scoped>\n",
       "    .dataframe tbody tr th:only-of-type {\n",
       "        vertical-align: middle;\n",
       "    }\n",
       "\n",
       "    .dataframe tbody tr th {\n",
       "        vertical-align: top;\n",
       "    }\n",
       "\n",
       "    .dataframe thead th {\n",
       "        text-align: right;\n",
       "    }\n",
       "</style>\n",
       "<table border=\"1\" class=\"dataframe\">\n",
       "  <thead>\n",
       "    <tr style=\"text-align: right;\">\n",
       "      <th>race</th>\n",
       "      <th>1.0</th>\n",
       "      <th>2.0</th>\n",
       "      <th>3.0</th>\n",
       "      <th>6.0</th>\n",
       "      <th>4.0</th>\n",
       "    </tr>\n",
       "  </thead>\n",
       "  <tbody>\n",
       "    <tr>\n",
       "      <th>proportion</th>\n",
       "      <td>0.954483</td>\n",
       "      <td>0.022930</td>\n",
       "      <td>0.015058</td>\n",
       "      <td>0.004791</td>\n",
       "      <td>0.002738</td>\n",
       "    </tr>\n",
       "    <tr>\n",
       "      <th>count</th>\n",
       "      <td>2789.000000</td>\n",
       "      <td>67.000000</td>\n",
       "      <td>44.000000</td>\n",
       "      <td>14.000000</td>\n",
       "      <td>8.000000</td>\n",
       "    </tr>\n",
       "    <tr>\n",
       "      <th>label</th>\n",
       "      <td>0.074579</td>\n",
       "      <td>0.074627</td>\n",
       "      <td>0.136364</td>\n",
       "      <td>0.000000</td>\n",
       "      <td>0.875000</td>\n",
       "    </tr>\n",
       "    <tr>\n",
       "      <th>diaghype</th>\n",
       "      <td>0.342313</td>\n",
       "      <td>0.582090</td>\n",
       "      <td>0.454545</td>\n",
       "      <td>0.357143</td>\n",
       "      <td>0.125000</td>\n",
       "    </tr>\n",
       "  </tbody>\n",
       "</table>\n",
       "</div>"
      ],
      "text/plain": [
       "race                1.0        2.0        3.0        6.0       4.0\n",
       "proportion     0.954483   0.022930   0.015058   0.004791  0.002738\n",
       "count       2789.000000  67.000000  44.000000  14.000000  8.000000\n",
       "label          0.074579   0.074627   0.136364   0.000000  0.875000\n",
       "diaghype       0.342313   0.582090   0.454545   0.357143  0.125000"
      ]
     },
     "metadata": {},
     "output_type": "display_data"
    },
    {
     "data": {
      "text/markdown": [
       "##### valid - overall malignancy = 0.08480565371024736"
      ],
      "text/plain": [
       "<IPython.core.display.Markdown object>"
      ]
     },
     "metadata": {},
     "output_type": "display_data"
    },
    {
     "data": {
      "application/vnd.microsoft.datawrangler.viewer.v0+json": {
       "columns": [
        {
         "name": "index",
         "rawType": "object",
         "type": "string"
        },
        {
         "name": "1.0",
         "rawType": "float64",
         "type": "float"
        },
        {
         "name": "4.0",
         "rawType": "float64",
         "type": "float"
        },
        {
         "name": "3.0",
         "rawType": "float64",
         "type": "float"
        },
        {
         "name": "6.0",
         "rawType": "float64",
         "type": "float"
        }
       ],
       "conversionMethod": "pd.DataFrame",
       "ref": "c357a403-69bd-4b58-8375-71ddb0bba675",
       "rows": [
        [
         "proportion",
         "0.9363957597173145",
         "0.04240282685512368",
         "0.01060070671378092",
         "0.01060070671378092"
        ],
        [
         "count",
         "265.0",
         "12.0",
         "3.0",
         "3.0"
        ],
        [
         "label",
         "0.09056603773584905",
         "0.0",
         "0.0",
         "0.0"
        ],
        [
         "diaghype",
         "0.29615384615384616",
         "0.0",
         "0.0",
         "0.3333333333333333"
        ]
       ],
       "shape": {
        "columns": 4,
        "rows": 4
       }
      },
      "text/html": [
       "<div>\n",
       "<style scoped>\n",
       "    .dataframe tbody tr th:only-of-type {\n",
       "        vertical-align: middle;\n",
       "    }\n",
       "\n",
       "    .dataframe tbody tr th {\n",
       "        vertical-align: top;\n",
       "    }\n",
       "\n",
       "    .dataframe thead th {\n",
       "        text-align: right;\n",
       "    }\n",
       "</style>\n",
       "<table border=\"1\" class=\"dataframe\">\n",
       "  <thead>\n",
       "    <tr style=\"text-align: right;\">\n",
       "      <th>race</th>\n",
       "      <th>1.0</th>\n",
       "      <th>4.0</th>\n",
       "      <th>3.0</th>\n",
       "      <th>6.0</th>\n",
       "    </tr>\n",
       "  </thead>\n",
       "  <tbody>\n",
       "    <tr>\n",
       "      <th>proportion</th>\n",
       "      <td>0.936396</td>\n",
       "      <td>0.042403</td>\n",
       "      <td>0.010601</td>\n",
       "      <td>0.010601</td>\n",
       "    </tr>\n",
       "    <tr>\n",
       "      <th>count</th>\n",
       "      <td>265.000000</td>\n",
       "      <td>12.000000</td>\n",
       "      <td>3.000000</td>\n",
       "      <td>3.000000</td>\n",
       "    </tr>\n",
       "    <tr>\n",
       "      <th>label</th>\n",
       "      <td>0.090566</td>\n",
       "      <td>0.000000</td>\n",
       "      <td>0.000000</td>\n",
       "      <td>0.000000</td>\n",
       "    </tr>\n",
       "    <tr>\n",
       "      <th>diaghype</th>\n",
       "      <td>0.296154</td>\n",
       "      <td>0.000000</td>\n",
       "      <td>0.000000</td>\n",
       "      <td>0.333333</td>\n",
       "    </tr>\n",
       "  </tbody>\n",
       "</table>\n",
       "</div>"
      ],
      "text/plain": [
       "race               1.0        4.0       3.0       6.0\n",
       "proportion    0.936396   0.042403  0.010601  0.010601\n",
       "count       265.000000  12.000000  3.000000  3.000000\n",
       "label         0.090566   0.000000  0.000000  0.000000\n",
       "diaghype      0.296154   0.000000  0.000000  0.333333"
      ]
     },
     "metadata": {},
     "output_type": "display_data"
    },
    {
     "data": {
      "text/markdown": [
       "#### Fold 7"
      ],
      "text/plain": [
       "<IPython.core.display.Markdown object>"
      ]
     },
     "metadata": {},
     "output_type": "display_data"
    },
    {
     "data": {
      "text/markdown": [
       "##### train - overall malignancy = 0.07830907830907831"
      ],
      "text/plain": [
       "<IPython.core.display.Markdown object>"
      ]
     },
     "metadata": {},
     "output_type": "display_data"
    },
    {
     "data": {
      "application/vnd.microsoft.datawrangler.viewer.v0+json": {
       "columns": [
        {
         "name": "index",
         "rawType": "object",
         "type": "string"
        },
        {
         "name": "1.0",
         "rawType": "float64",
         "type": "float"
        },
        {
         "name": "2.0",
         "rawType": "float64",
         "type": "float"
        },
        {
         "name": "3.0",
         "rawType": "float64",
         "type": "float"
        },
        {
         "name": "4.0",
         "rawType": "float64",
         "type": "float"
        },
        {
         "name": "6.0",
         "rawType": "float64",
         "type": "float"
        }
       ],
       "conversionMethod": "pd.DataFrame",
       "ref": "c4efe2f6-402c-4838-828f-857a5291e15c",
       "rows": [
        [
         "proportion",
         "0.9488695652173913",
         "0.02191304347826087",
         "0.01634782608695652",
         "0.006956521739130435",
         "0.00591304347826087"
        ],
        [
         "count",
         "2728.0",
         "63.0",
         "47.0",
         "20.0",
         "17.0"
        ],
        [
         "label",
         "0.07661290322580645",
         "0.06349206349206349",
         "0.1276595744680851",
         "0.35",
         "0.0"
        ],
        [
         "diaghype",
         "0.34375",
         "0.5714285714285714",
         "0.425531914893617",
         "0.05",
         "0.35294117647058826"
        ]
       ],
       "shape": {
        "columns": 5,
        "rows": 4
       }
      },
      "text/html": [
       "<div>\n",
       "<style scoped>\n",
       "    .dataframe tbody tr th:only-of-type {\n",
       "        vertical-align: middle;\n",
       "    }\n",
       "\n",
       "    .dataframe tbody tr th {\n",
       "        vertical-align: top;\n",
       "    }\n",
       "\n",
       "    .dataframe thead th {\n",
       "        text-align: right;\n",
       "    }\n",
       "</style>\n",
       "<table border=\"1\" class=\"dataframe\">\n",
       "  <thead>\n",
       "    <tr style=\"text-align: right;\">\n",
       "      <th>race</th>\n",
       "      <th>1.0</th>\n",
       "      <th>2.0</th>\n",
       "      <th>3.0</th>\n",
       "      <th>4.0</th>\n",
       "      <th>6.0</th>\n",
       "    </tr>\n",
       "  </thead>\n",
       "  <tbody>\n",
       "    <tr>\n",
       "      <th>proportion</th>\n",
       "      <td>0.948870</td>\n",
       "      <td>0.021913</td>\n",
       "      <td>0.016348</td>\n",
       "      <td>0.006957</td>\n",
       "      <td>0.005913</td>\n",
       "    </tr>\n",
       "    <tr>\n",
       "      <th>count</th>\n",
       "      <td>2728.000000</td>\n",
       "      <td>63.000000</td>\n",
       "      <td>47.000000</td>\n",
       "      <td>20.000000</td>\n",
       "      <td>17.000000</td>\n",
       "    </tr>\n",
       "    <tr>\n",
       "      <th>label</th>\n",
       "      <td>0.076613</td>\n",
       "      <td>0.063492</td>\n",
       "      <td>0.127660</td>\n",
       "      <td>0.350000</td>\n",
       "      <td>0.000000</td>\n",
       "    </tr>\n",
       "    <tr>\n",
       "      <th>diaghype</th>\n",
       "      <td>0.343750</td>\n",
       "      <td>0.571429</td>\n",
       "      <td>0.425532</td>\n",
       "      <td>0.050000</td>\n",
       "      <td>0.352941</td>\n",
       "    </tr>\n",
       "  </tbody>\n",
       "</table>\n",
       "</div>"
      ],
      "text/plain": [
       "race                1.0        2.0        3.0        4.0        6.0\n",
       "proportion     0.948870   0.021913   0.016348   0.006957   0.005913\n",
       "count       2728.000000  63.000000  47.000000  20.000000  17.000000\n",
       "label          0.076613   0.063492   0.127660   0.350000   0.000000\n",
       "diaghype       0.343750   0.571429   0.425532   0.050000   0.352941"
      ]
     },
     "metadata": {},
     "output_type": "display_data"
    },
    {
     "data": {
      "text/markdown": [
       "##### valid - overall malignancy = 0.07272727272727272"
      ],
      "text/plain": [
       "<IPython.core.display.Markdown object>"
      ]
     },
     "metadata": {},
     "output_type": "display_data"
    },
    {
     "data": {
      "application/vnd.microsoft.datawrangler.viewer.v0+json": {
       "columns": [
        {
         "name": "index",
         "rawType": "object",
         "type": "string"
        },
        {
         "name": "1.0",
         "rawType": "float64",
         "type": "float"
        },
        {
         "name": "2.0",
         "rawType": "float64",
         "type": "float"
        }
       ],
       "conversionMethod": "pd.DataFrame",
       "ref": "a9c262da-aa1d-4f47-915a-9b2324daed43",
       "rows": [
        [
         "proportion",
         "0.9878787878787879",
         "0.012121212121212121"
        ],
        [
         "count",
         "326.0",
         "4.0"
        ],
        [
         "label",
         "0.0705521472392638",
         "0.25"
        ],
        [
         "diaghype",
         "0.2932098765432099",
         "0.75"
        ]
       ],
       "shape": {
        "columns": 2,
        "rows": 4
       }
      },
      "text/html": [
       "<div>\n",
       "<style scoped>\n",
       "    .dataframe tbody tr th:only-of-type {\n",
       "        vertical-align: middle;\n",
       "    }\n",
       "\n",
       "    .dataframe tbody tr th {\n",
       "        vertical-align: top;\n",
       "    }\n",
       "\n",
       "    .dataframe thead th {\n",
       "        text-align: right;\n",
       "    }\n",
       "</style>\n",
       "<table border=\"1\" class=\"dataframe\">\n",
       "  <thead>\n",
       "    <tr style=\"text-align: right;\">\n",
       "      <th>race</th>\n",
       "      <th>1.0</th>\n",
       "      <th>2.0</th>\n",
       "    </tr>\n",
       "  </thead>\n",
       "  <tbody>\n",
       "    <tr>\n",
       "      <th>proportion</th>\n",
       "      <td>0.987879</td>\n",
       "      <td>0.012121</td>\n",
       "    </tr>\n",
       "    <tr>\n",
       "      <th>count</th>\n",
       "      <td>326.000000</td>\n",
       "      <td>4.000000</td>\n",
       "    </tr>\n",
       "    <tr>\n",
       "      <th>label</th>\n",
       "      <td>0.070552</td>\n",
       "      <td>0.250000</td>\n",
       "    </tr>\n",
       "    <tr>\n",
       "      <th>diaghype</th>\n",
       "      <td>0.293210</td>\n",
       "      <td>0.750000</td>\n",
       "    </tr>\n",
       "  </tbody>\n",
       "</table>\n",
       "</div>"
      ],
      "text/plain": [
       "race               1.0       2.0\n",
       "proportion    0.987879  0.012121\n",
       "count       326.000000  4.000000\n",
       "label         0.070552  0.250000\n",
       "diaghype      0.293210  0.750000"
      ]
     },
     "metadata": {},
     "output_type": "display_data"
    },
    {
     "data": {
      "text/markdown": [
       "#### Fold 8"
      ],
      "text/plain": [
       "<IPython.core.display.Markdown object>"
      ]
     },
     "metadata": {},
     "output_type": "display_data"
    },
    {
     "data": {
      "text/markdown": [
       "##### train - overall malignancy = 0.07649896623018608"
      ],
      "text/plain": [
       "<IPython.core.display.Markdown object>"
      ]
     },
     "metadata": {},
     "output_type": "display_data"
    },
    {
     "data": {
      "application/vnd.microsoft.datawrangler.viewer.v0+json": {
       "columns": [
        {
         "name": "index",
         "rawType": "object",
         "type": "string"
        },
        {
         "name": "1.0",
         "rawType": "float64",
         "type": "float"
        },
        {
         "name": "2.0",
         "rawType": "float64",
         "type": "float"
        },
        {
         "name": "3.0",
         "rawType": "float64",
         "type": "float"
        },
        {
         "name": "4.0",
         "rawType": "float64",
         "type": "float"
        },
        {
         "name": "6.0",
         "rawType": "float64",
         "type": "float"
        }
       ],
       "conversionMethod": "pd.DataFrame",
       "ref": "d000a1ef-a14a-4497-9a2b-3cf3f32966ac",
       "rows": [
        [
         "proportion",
         "0.9526115530958146",
         "0.018332756831546178",
         "0.016257350397786235",
         "0.0069180214458664825",
         "0.00588031822898651"
        ],
        [
         "count",
         "2754.0",
         "53.0",
         "47.0",
         "20.0",
         "17.0"
        ],
        [
         "label",
         "0.07407407407407407",
         "0.09433962264150944",
         "0.1276595744680851",
         "0.35",
         "0.0"
        ],
        [
         "diaghype",
         "0.33418274481252275",
         "0.5849056603773585",
         "0.425531914893617",
         "0.05",
         "0.35294117647058826"
        ]
       ],
       "shape": {
        "columns": 5,
        "rows": 4
       }
      },
      "text/html": [
       "<div>\n",
       "<style scoped>\n",
       "    .dataframe tbody tr th:only-of-type {\n",
       "        vertical-align: middle;\n",
       "    }\n",
       "\n",
       "    .dataframe tbody tr th {\n",
       "        vertical-align: top;\n",
       "    }\n",
       "\n",
       "    .dataframe thead th {\n",
       "        text-align: right;\n",
       "    }\n",
       "</style>\n",
       "<table border=\"1\" class=\"dataframe\">\n",
       "  <thead>\n",
       "    <tr style=\"text-align: right;\">\n",
       "      <th>race</th>\n",
       "      <th>1.0</th>\n",
       "      <th>2.0</th>\n",
       "      <th>3.0</th>\n",
       "      <th>4.0</th>\n",
       "      <th>6.0</th>\n",
       "    </tr>\n",
       "  </thead>\n",
       "  <tbody>\n",
       "    <tr>\n",
       "      <th>proportion</th>\n",
       "      <td>0.952612</td>\n",
       "      <td>0.018333</td>\n",
       "      <td>0.016257</td>\n",
       "      <td>0.006918</td>\n",
       "      <td>0.005880</td>\n",
       "    </tr>\n",
       "    <tr>\n",
       "      <th>count</th>\n",
       "      <td>2754.000000</td>\n",
       "      <td>53.000000</td>\n",
       "      <td>47.000000</td>\n",
       "      <td>20.000000</td>\n",
       "      <td>17.000000</td>\n",
       "    </tr>\n",
       "    <tr>\n",
       "      <th>label</th>\n",
       "      <td>0.074074</td>\n",
       "      <td>0.094340</td>\n",
       "      <td>0.127660</td>\n",
       "      <td>0.350000</td>\n",
       "      <td>0.000000</td>\n",
       "    </tr>\n",
       "    <tr>\n",
       "      <th>diaghype</th>\n",
       "      <td>0.334183</td>\n",
       "      <td>0.584906</td>\n",
       "      <td>0.425532</td>\n",
       "      <td>0.050000</td>\n",
       "      <td>0.352941</td>\n",
       "    </tr>\n",
       "  </tbody>\n",
       "</table>\n",
       "</div>"
      ],
      "text/plain": [
       "race                1.0        2.0        3.0        4.0        6.0\n",
       "proportion     0.952612   0.018333   0.016257   0.006918   0.005880\n",
       "count       2754.000000  53.000000  47.000000  20.000000  17.000000\n",
       "label          0.074074   0.094340   0.127660   0.350000   0.000000\n",
       "diaghype       0.334183   0.584906   0.425532   0.050000   0.352941"
      ]
     },
     "metadata": {},
     "output_type": "display_data"
    },
    {
     "data": {
      "text/markdown": [
       "##### valid - overall malignancy = 0.08917197452229299"
      ],
      "text/plain": [
       "<IPython.core.display.Markdown object>"
      ]
     },
     "metadata": {},
     "output_type": "display_data"
    },
    {
     "data": {
      "application/vnd.microsoft.datawrangler.viewer.v0+json": {
       "columns": [
        {
         "name": "index",
         "rawType": "object",
         "type": "string"
        },
        {
         "name": "1.0",
         "rawType": "float64",
         "type": "float"
        },
        {
         "name": "2.0",
         "rawType": "float64",
         "type": "float"
        }
       ],
       "conversionMethod": "pd.DataFrame",
       "ref": "8ba1fff1-3a02-425a-b557-4e4647a6725d",
       "rows": [
        [
         "proportion",
         "0.9554140127388535",
         "0.044585987261146494"
        ],
        [
         "count",
         "300.0",
         "14.0"
        ],
        [
         "label",
         "0.09333333333333334",
         "0.0"
        ],
        [
         "diaghype",
         "0.3771043771043771",
         "0.5714285714285714"
        ]
       ],
       "shape": {
        "columns": 2,
        "rows": 4
       }
      },
      "text/html": [
       "<div>\n",
       "<style scoped>\n",
       "    .dataframe tbody tr th:only-of-type {\n",
       "        vertical-align: middle;\n",
       "    }\n",
       "\n",
       "    .dataframe tbody tr th {\n",
       "        vertical-align: top;\n",
       "    }\n",
       "\n",
       "    .dataframe thead th {\n",
       "        text-align: right;\n",
       "    }\n",
       "</style>\n",
       "<table border=\"1\" class=\"dataframe\">\n",
       "  <thead>\n",
       "    <tr style=\"text-align: right;\">\n",
       "      <th>race</th>\n",
       "      <th>1.0</th>\n",
       "      <th>2.0</th>\n",
       "    </tr>\n",
       "  </thead>\n",
       "  <tbody>\n",
       "    <tr>\n",
       "      <th>proportion</th>\n",
       "      <td>0.955414</td>\n",
       "      <td>0.044586</td>\n",
       "    </tr>\n",
       "    <tr>\n",
       "      <th>count</th>\n",
       "      <td>300.000000</td>\n",
       "      <td>14.000000</td>\n",
       "    </tr>\n",
       "    <tr>\n",
       "      <th>label</th>\n",
       "      <td>0.093333</td>\n",
       "      <td>0.000000</td>\n",
       "    </tr>\n",
       "    <tr>\n",
       "      <th>diaghype</th>\n",
       "      <td>0.377104</td>\n",
       "      <td>0.571429</td>\n",
       "    </tr>\n",
       "  </tbody>\n",
       "</table>\n",
       "</div>"
      ],
      "text/plain": [
       "race               1.0        2.0\n",
       "proportion    0.955414   0.044586\n",
       "count       300.000000  14.000000\n",
       "label         0.093333   0.000000\n",
       "diaghype      0.377104   0.571429"
      ]
     },
     "metadata": {},
     "output_type": "display_data"
    },
    {
     "data": {
      "text/markdown": [
       "#### Fold 9"
      ],
      "text/plain": [
       "<IPython.core.display.Markdown object>"
      ]
     },
     "metadata": {},
     "output_type": "display_data"
    },
    {
     "data": {
      "text/markdown": [
       "##### train - overall malignancy = 0.07724425887265135"
      ],
      "text/plain": [
       "<IPython.core.display.Markdown object>"
      ]
     },
     "metadata": {},
     "output_type": "display_data"
    },
    {
     "data": {
      "application/vnd.microsoft.datawrangler.viewer.v0+json": {
       "columns": [
        {
         "name": "index",
         "rawType": "object",
         "type": "string"
        },
        {
         "name": "1.0",
         "rawType": "float64",
         "type": "float"
        },
        {
         "name": "2.0",
         "rawType": "float64",
         "type": "float"
        },
        {
         "name": "3.0",
         "rawType": "float64",
         "type": "float"
        },
        {
         "name": "4.0",
         "rawType": "float64",
         "type": "float"
        },
        {
         "name": "6.0",
         "rawType": "float64",
         "type": "float"
        }
       ],
       "conversionMethod": "pd.DataFrame",
       "ref": "146976c9-567a-4c5e-b0d1-e558f715e93f",
       "rows": [
        [
         "proportion",
         "0.9490223463687151",
         "0.0223463687150838",
         "0.016410614525139665",
         "0.006634078212290503",
         "0.00558659217877095"
        ],
        [
         "count",
         "2718.0",
         "64.0",
         "47.0",
         "19.0",
         "16.0"
        ],
        [
         "label",
         "0.07505518763796909",
         "0.078125",
         "0.1276595744680851",
         "0.3684210526315789",
         "0.0"
        ],
        [
         "diaghype",
         "0.33197932053175777",
         "0.578125",
         "0.425531914893617",
         "0.05263157894736842",
         "0.375"
        ]
       ],
       "shape": {
        "columns": 5,
        "rows": 4
       }
      },
      "text/html": [
       "<div>\n",
       "<style scoped>\n",
       "    .dataframe tbody tr th:only-of-type {\n",
       "        vertical-align: middle;\n",
       "    }\n",
       "\n",
       "    .dataframe tbody tr th {\n",
       "        vertical-align: top;\n",
       "    }\n",
       "\n",
       "    .dataframe thead th {\n",
       "        text-align: right;\n",
       "    }\n",
       "</style>\n",
       "<table border=\"1\" class=\"dataframe\">\n",
       "  <thead>\n",
       "    <tr style=\"text-align: right;\">\n",
       "      <th>race</th>\n",
       "      <th>1.0</th>\n",
       "      <th>2.0</th>\n",
       "      <th>3.0</th>\n",
       "      <th>4.0</th>\n",
       "      <th>6.0</th>\n",
       "    </tr>\n",
       "  </thead>\n",
       "  <tbody>\n",
       "    <tr>\n",
       "      <th>proportion</th>\n",
       "      <td>0.949022</td>\n",
       "      <td>0.022346</td>\n",
       "      <td>0.016411</td>\n",
       "      <td>0.006634</td>\n",
       "      <td>0.005587</td>\n",
       "    </tr>\n",
       "    <tr>\n",
       "      <th>count</th>\n",
       "      <td>2718.000000</td>\n",
       "      <td>64.000000</td>\n",
       "      <td>47.000000</td>\n",
       "      <td>19.000000</td>\n",
       "      <td>16.000000</td>\n",
       "    </tr>\n",
       "    <tr>\n",
       "      <th>label</th>\n",
       "      <td>0.075055</td>\n",
       "      <td>0.078125</td>\n",
       "      <td>0.127660</td>\n",
       "      <td>0.368421</td>\n",
       "      <td>0.000000</td>\n",
       "    </tr>\n",
       "    <tr>\n",
       "      <th>diaghype</th>\n",
       "      <td>0.331979</td>\n",
       "      <td>0.578125</td>\n",
       "      <td>0.425532</td>\n",
       "      <td>0.052632</td>\n",
       "      <td>0.375000</td>\n",
       "    </tr>\n",
       "  </tbody>\n",
       "</table>\n",
       "</div>"
      ],
      "text/plain": [
       "race                1.0        2.0        3.0        4.0        6.0\n",
       "proportion     0.949022   0.022346   0.016411   0.006634   0.005587\n",
       "count       2718.000000  64.000000  47.000000  19.000000  16.000000\n",
       "label          0.075055   0.078125   0.127660   0.368421   0.000000\n",
       "diaghype       0.331979   0.578125   0.425532   0.052632   0.375000"
      ]
     },
     "metadata": {},
     "output_type": "display_data"
    },
    {
     "data": {
      "text/markdown": [
       "##### valid - overall malignancy = 0.08187134502923976"
      ],
      "text/plain": [
       "<IPython.core.display.Markdown object>"
      ]
     },
     "metadata": {},
     "output_type": "display_data"
    },
    {
     "data": {
      "application/vnd.microsoft.datawrangler.viewer.v0+json": {
       "columns": [
        {
         "name": "index",
         "rawType": "object",
         "type": "string"
        },
        {
         "name": "1.0",
         "rawType": "float64",
         "type": "float"
        },
        {
         "name": "2.0",
         "rawType": "float64",
         "type": "float"
        },
        {
         "name": "6.0",
         "rawType": "float64",
         "type": "float"
        },
        {
         "name": "4.0",
         "rawType": "float64",
         "type": "float"
        }
       ],
       "conversionMethod": "pd.DataFrame",
       "ref": "309362aa-c3f0-4dcf-a2b5-9ec33ef66eb0",
       "rows": [
        [
         "proportion",
         "0.9853372434017595",
         "0.008797653958944282",
         "0.002932551319648094",
         "0.002932551319648094"
        ],
        [
         "count",
         "336.0",
         "3.0",
         "1.0",
         "1.0"
        ],
        [
         "label",
         "0.08333333333333333",
         "0.0",
         "0.0",
         "0.0"
        ],
        [
         "diaghype",
         "0.3898809523809524",
         "0.6666666666666666",
         "0.0",
         "0.0"
        ]
       ],
       "shape": {
        "columns": 4,
        "rows": 4
       }
      },
      "text/html": [
       "<div>\n",
       "<style scoped>\n",
       "    .dataframe tbody tr th:only-of-type {\n",
       "        vertical-align: middle;\n",
       "    }\n",
       "\n",
       "    .dataframe tbody tr th {\n",
       "        vertical-align: top;\n",
       "    }\n",
       "\n",
       "    .dataframe thead th {\n",
       "        text-align: right;\n",
       "    }\n",
       "</style>\n",
       "<table border=\"1\" class=\"dataframe\">\n",
       "  <thead>\n",
       "    <tr style=\"text-align: right;\">\n",
       "      <th>race</th>\n",
       "      <th>1.0</th>\n",
       "      <th>2.0</th>\n",
       "      <th>6.0</th>\n",
       "      <th>4.0</th>\n",
       "    </tr>\n",
       "  </thead>\n",
       "  <tbody>\n",
       "    <tr>\n",
       "      <th>proportion</th>\n",
       "      <td>0.985337</td>\n",
       "      <td>0.008798</td>\n",
       "      <td>0.002933</td>\n",
       "      <td>0.002933</td>\n",
       "    </tr>\n",
       "    <tr>\n",
       "      <th>count</th>\n",
       "      <td>336.000000</td>\n",
       "      <td>3.000000</td>\n",
       "      <td>1.000000</td>\n",
       "      <td>1.000000</td>\n",
       "    </tr>\n",
       "    <tr>\n",
       "      <th>label</th>\n",
       "      <td>0.083333</td>\n",
       "      <td>0.000000</td>\n",
       "      <td>0.000000</td>\n",
       "      <td>0.000000</td>\n",
       "    </tr>\n",
       "    <tr>\n",
       "      <th>diaghype</th>\n",
       "      <td>0.389881</td>\n",
       "      <td>0.666667</td>\n",
       "      <td>0.000000</td>\n",
       "      <td>0.000000</td>\n",
       "    </tr>\n",
       "  </tbody>\n",
       "</table>\n",
       "</div>"
      ],
      "text/plain": [
       "race               1.0       2.0       6.0       4.0\n",
       "proportion    0.985337  0.008798  0.002933  0.002933\n",
       "count       336.000000  3.000000  1.000000  1.000000\n",
       "label         0.083333  0.000000  0.000000  0.000000\n",
       "diaghype      0.389881  0.666667  0.000000  0.000000"
      ]
     },
     "metadata": {},
     "output_type": "display_data"
    }
   ],
   "source": [
    "analyze_race_and_malignancy('20')"
   ]
  }
 ],
 "metadata": {
  "kernelspec": {
   "display_name": "Python 3",
   "language": "python",
   "name": "python3"
  },
  "language_info": {
   "codemirror_mode": {
    "name": "ipython",
    "version": 3
   },
   "file_extension": ".py",
   "mimetype": "text/x-python",
   "name": "python",
   "nbconvert_exporter": "python",
   "pygments_lexer": "ipython3",
   "version": "3.11.9"
  }
 },
 "nbformat": 4,
 "nbformat_minor": 2
}
