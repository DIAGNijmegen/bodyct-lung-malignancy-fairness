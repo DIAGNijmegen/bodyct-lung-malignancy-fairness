{
 "cells": [
  {
   "cell_type": "code",
   "execution_count": null,
   "metadata": {},
   "outputs": [],
   "source": [
    "import pandas as pd\n",
    "import os\n",
    "import numpy as np\n",
    "import itertools\n",
    "import seaborn as sns\n",
    "import matplotlib.pyplot as plt\n",
    "import json\n",
    "from IPython.display import display, Markdown\n",
    "\n",
    "import sys\n",
    "sys.path.append('../')\n",
    "\n",
    "from evalutils.roc import get_bootstrapped_roc_ci_curves\n",
    "from sklearn.metrics import confusion_matrix, ConfusionMatrixDisplay\n",
    "\n",
    "from utilities import data, roc, threshold, output, info\n",
    "from utilities.info import *"
   ]
  },
  {
   "cell_type": "code",
   "execution_count": null,
   "metadata": {},
   "outputs": [],
   "source": [
    "# FIG_DIR = f\"{TEAMS_DIR}/melba-figs\"\n",
    "# TAB_DIR = f\"{TEAMS_DIR}/melba-tables\"\n",
    "\n",
    "print(\"FILES:\\t\", FILE_DIR)\n",
    "print(\"RESULT:\\t\", RESULTS_DIR)\n",
    "print(\"FIGS:\\t\", FIG_DIR)\n",
    "print(\"TABLES:\\t\", TAB_DIR)"
   ]
  },
  {
   "cell_type": "code",
   "execution_count": null,
   "metadata": {},
   "outputs": [],
   "source": [
    "POLICIES_TO_USE = ['90% Sensitivity', '90% Specificity', 'Brock ILST (6%)']\n",
    "TABLE_SCORE_PRECISION = 2\n",
    "MIN_MAL = 15\n",
    "TOP_N_CONFOUNDERS = 10"
   ]
  },
  {
   "cell_type": "code",
   "execution_count": null,
   "metadata": {},
   "outputs": [],
   "source": [
    "nlst_preds_nodule = pd.read_csv(f\"{FILE_DIR}/nlst_allmodels_demos.csv\")\n",
    "nlst_preds_nodule.info()"
   ]
  },
  {
   "cell_type": "code",
   "execution_count": null,
   "metadata": {},
   "outputs": [],
   "source": [
    "with open(f'{FILE_DIR}/nlst_democols.json') as json_data:\n",
    "    nlst_democols_og = json.load(json_data)\n",
    "    json_data.close()\n",
    "\n",
    "nlst_democols_og"
   ]
  },
  {
   "cell_type": "markdown",
   "metadata": {},
   "source": [
    "# Materials"
   ]
  },
  {
   "cell_type": "markdown",
   "metadata": {},
   "source": [
    "## Demographic characteristics of the NLST validation set (n=5911 scans)."
   ]
  },
  {
   "cell_type": "code",
   "execution_count": null,
   "metadata": {},
   "outputs": [],
   "source": [
    "nlst_5911, nlst_democols, _ = data.prep_nlst_preds(nlst_preds_nodule, nlst_democols_og, scanlevel=True, sybil=True, pretty=True, bin_num=False)\n",
    "len(nlst_5911)"
   ]
  },
  {
   "cell_type": "code",
   "execution_count": null,
   "metadata": {},
   "outputs": [],
   "source": [
    "df_out, invalid_attributes_5911 = output.dataset_malben_table(nlst_5911, nlst_democols)\n",
    "df_out"
   ]
  },
  {
   "cell_type": "code",
   "execution_count": null,
   "metadata": {},
   "outputs": [],
   "source": [
    "demos_no_duplicates = [data.rename_cols[c] for c in ['race','ethnic','educat','Gender','weight','height', 'BMI', 'Age']]\n",
    "df_out2 = df_out.xs('Demographics', level='Category').query(\"Characteristic in @demos_no_duplicates\")\n",
    "df_out2"
   ]
  },
  {
   "cell_type": "code",
   "execution_count": null,
   "metadata": {},
   "outputs": [],
   "source": [
    "print(df_out2.style.format(precision=1, na_rep='-').format_index(output.latex_replace_arrowbrackets).format(output.latex_replace_arrowbrackets).to_latex(\n",
    "    buf=f\"{TAB_DIR}/datasetDemos.tex\",\n",
    "    hrules=True, label='tab:datasetDemos', environment='table*', column_format='ll|rrr', position='ht!',\n",
    "    multirow_align='c', multicol_align='c',  position_float='centering', clines='skip-last;data',\n",
    "    caption=f'Demographic characteristics of the NLST validation set (n={len(nlst_5911)} scans). HS = High School.'))"
   ]
  },
  {
   "cell_type": "markdown",
   "metadata": {},
   "source": [
    "### Venk21 Training Set"
   ]
  },
  {
   "cell_type": "code",
   "execution_count": null,
   "metadata": {},
   "outputs": [],
   "source": [
    "venk21_full, venk21_democols, _ = data.prep_nlst_preds(nlst_preds_nodule, nlst_democols_og, scanlevel=True, sybil=False, pretty=True, bin_num=False)\n",
    "len(venk21_full)"
   ]
  },
  {
   "cell_type": "code",
   "execution_count": null,
   "metadata": {},
   "outputs": [],
   "source": [
    "venk21_datatable, _ = output.dataset_malben_table(venk21_full, venk21_democols)\n",
    "venk21_datatable = venk21_datatable.xs('Demographics', level='Category').query(\"Characteristic in @demos_no_duplicates\")\n",
    "venk21_datatable"
   ]
  },
  {
   "cell_type": "code",
   "execution_count": null,
   "metadata": {},
   "outputs": [],
   "source": [
    "print(venk21_datatable.style.format(precision=1, na_rep='-').format_index(output.latex_replace_arrowbrackets).format(output.latex_replace_arrowbrackets).to_latex(\n",
    "    buf=f\"{TAB_DIR}/venk21trainData.tex\",\n",
    "    hrules=True, label='tab:venk21trainData', environment='table*', column_format='ll|rrr', position='ht!',\n",
    "    multirow_align='c', multicol_align='c',  position_float='centering', clines='skip-last;data',\n",
    "    caption=f'Demographics of the NLST training set used for Venkadesh21 (n={len(venk21_full)} scans). HS = High School.'))"
   ]
  },
  {
   "cell_type": "markdown",
   "metadata": {},
   "source": [
    "### Sybil Training Set"
   ]
  },
  {
   "cell_type": "code",
   "execution_count": null,
   "metadata": {},
   "outputs": [],
   "source": [
    "sybil_train = pd.read_csv(f\"{FILE_DIR}/nlst_sybil_demos.csv\").query('split == \"train\"')\n",
    "sybil_train['label'] = sybil_train['sybil_label']\n",
    "sybil_train.info()"
   ]
  },
  {
   "cell_type": "code",
   "execution_count": null,
   "metadata": {},
   "outputs": [],
   "source": [
    "with open(f'{FILE_DIR}/nlst_sybil_democols.json') as json_data:\n",
    "    sybil_democols = json.load(json_data)\n",
    "    json_data.close()"
   ]
  },
  {
   "cell_type": "code",
   "execution_count": null,
   "metadata": {},
   "outputs": [],
   "source": [
    "sybil_train, sybil_democols = data.nlst_pretty_labels(sybil_train, sybil_democols)\n",
    "sybil_democols"
   ]
  },
  {
   "cell_type": "code",
   "execution_count": null,
   "metadata": {},
   "outputs": [],
   "source": [
    "sybil_datatable, _ = output.dataset_malben_table(sybil_train, sybil_democols)\n",
    "sybil_datatable = sybil_datatable.xs('Demographics', level='Category').query(\"Characteristic in @demos_no_duplicates\")\n",
    "sybil_datatable"
   ]
  },
  {
   "cell_type": "code",
   "execution_count": null,
   "metadata": {},
   "outputs": [],
   "source": [
    "print(sybil_datatable.style.format(precision=1, na_rep='-').format_index(output.latex_replace_arrowbrackets).format(output.latex_replace_arrowbrackets).to_latex(\n",
    "    buf=f\"{TAB_DIR}/sybilTrainData.tex\",\n",
    "    hrules=True, label='tab:sybilTrainData', environment='table*', column_format='ll|rrr', position='ht!',\n",
    "    multirow_align='c', multicol_align='c',  position_float='centering', clines='skip-last;data',\n",
    "    caption=f'Demographics of the NLST training set used for Sybil (n={len(sybil_train)} scans). HS = High School.'))"
   ]
  },
  {
   "cell_type": "markdown",
   "metadata": {},
   "source": [
    "# Methods"
   ]
  },
  {
   "cell_type": "markdown",
   "metadata": {},
   "source": [
    "### Thresholds from policies on validation sets."
   ]
  },
  {
   "cell_type": "code",
   "execution_count": null,
   "metadata": {},
   "outputs": [],
   "source": [
    "nlst_5911, _, _ = data.prep_nlst_preds(nlst_preds_nodule, nlst_democols_og, scanlevel=True, sybil=True, pretty=True, bin_num=False)\n",
    "nlst_5911_policies, _ = threshold.get_threshold_policies(nlst_5911, models=output.NLST_5911_MODELCOLS, policies=[(\"Sensitivity\", 0.9),(\"Specificity\", 0.9)], brock=False)"
   ]
  },
  {
   "cell_type": "code",
   "execution_count": null,
   "metadata": {},
   "outputs": [],
   "source": [
    "nlst_5911_policies.rename(columns=output.RENAME_POLICIES, inplace=True)\n",
    "nlst_5911_policies"
   ]
  },
  {
   "cell_type": "code",
   "execution_count": null,
   "metadata": {},
   "outputs": [],
   "source": [
    "print(nlst_5911_policies.style\n",
    "        .format(output.latex_replace_arrowbrackets, escape='latex-math', na_rep='')\n",
    "        .format_index(output.latex_replace_arrowbrackets, escape='latex-math', axis=1)\n",
    "        .format_index(output.latex_replace_arrowbrackets, escape='latex-math', axis=0)\n",
    "        .to_latex(\n",
    "    buf=f\"{TAB_DIR}/thresholds.tex\",\n",
    "    hrules=True, label='tab:thresholds', environment='table', column_format='l|rr', position='h!',\n",
    "    multirow_align='c', multicol_align='c',  position_float='centering', clines='skip-last;data',\n",
    "    caption='Thresholds used to evaluate model performance on NLST. All models are also evaluated on the Brock ILST 6\\% (0.06) moderate risk threshold \\citep{Lim2020-ilst}.'))"
   ]
  },
  {
   "cell_type": "markdown",
   "metadata": {},
   "source": [
    "# Results Part 1"
   ]
  },
  {
   "cell_type": "markdown",
   "metadata": {},
   "source": [
    "## ROC Tables"
   ]
  },
  {
   "cell_type": "code",
   "execution_count": null,
   "metadata": {},
   "outputs": [],
   "source": [
    "nlst_demos_to_include = ['Age', 'Sex', 'Race', 'Education', 'Height', 'Weight', 'BMI']"
   ]
  },
  {
   "cell_type": "code",
   "execution_count": null,
   "metadata": {},
   "outputs": [],
   "source": [
    "nlst_scan_res = pd.read_csv(f\"{RESULTS_DIR}/auroc-nlst-5911.csv\", index_col=0)\n",
    "nlst_model_order = ['Venkadesh', 'Sybil year 1', 'PanCan2b']\n",
    "nlst_scan_out = output.roc_results_pretty(nlst_scan_res, nlst_model_order, precision=TABLE_SCORE_PRECISION).drop(columns=['Malignant Scans'])\n",
    "nlst_scan_out_demos = nlst_scan_out.xs('Demographics', level='Category').query('Attribute in @nlst_demos_to_include & Attribute not in @invalid_attributes_5911')\n",
    "nlst_scan_out_demos"
   ]
  },
  {
   "cell_type": "code",
   "execution_count": null,
   "metadata": {},
   "outputs": [],
   "source": [
    "print(nlst_scan_out_demos.style\n",
    "        .format(output.latex_replace_arrowbrackets, escape='latex-math', na_rep='')\n",
    "        .format_index(output.latex_replace_arrowbrackets, escape='latex-math', axis=1)\n",
    "        .format_index(output.latex_replace_arrowbrackets, escape='latex-math', axis=0)\n",
    "        .to_latex(\n",
    "    buf=f\"{TAB_DIR}/resNLSTscanROC.tex\",\n",
    "    hrules=True, label='tab:resNLSTscanROC', environment='table*', column_format=f'll{\"|ll\"*len(nlst_model_order)}', position='h!',\n",
    "    multirow_align='c', multicol_align='c',  position_float='centering', clines='skip-last;data',\n",
    "    caption='AUROC (with 95\\% confidence intervals) for models for demographic subgroups on NLST.'))"
   ]
  },
  {
   "cell_type": "markdown",
   "metadata": {},
   "source": [
    "## ROC Plots"
   ]
  },
  {
   "cell_type": "code",
   "execution_count": null,
   "metadata": {},
   "outputs": [],
   "source": [
    "_ = roc.plot_rocs_subgroups(nlst_5911, 'Sex', models={'Sybil (Year 1)': 'sybil_year1'}, two_subgroups=True, dataset_name=\"NLST\", num_bootstraps=1000, imgpath=f\"{FIG_DIR}/sybilROCgender5911.png\")"
   ]
  },
  {
   "cell_type": "code",
   "execution_count": null,
   "metadata": {},
   "outputs": [],
   "source": [
    "_ = roc.plot_rocs_subgroups(nlst_5911, 'BMI', models={'Sybil (Year 1)': 'sybil_year1'}, two_subgroups=True, dataset_name=\"NLST\", num_bootstraps=1000, imgpath=f\"{FIG_DIR}/sybilBMIroc5911.png\")"
   ]
  },
  {
   "cell_type": "code",
   "execution_count": null,
   "metadata": {},
   "outputs": [],
   "source": [
    "_ = roc.plot_rocs_subgroups(nlst_5911, 'Emphysema in Scan', models={'Sybil (Year 1)': 'sybil_year1'}, two_subgroups=True, dataset_name=\"NLST\", num_bootstraps=1000, imgpath=f\"{FIG_DIR}/sybilROCemphysema5911.png\")"
   ]
  },
  {
   "cell_type": "markdown",
   "metadata": {},
   "source": [
    "## Threshold Utilities"
   ]
  },
  {
   "cell_type": "code",
   "execution_count": null,
   "metadata": {},
   "outputs": [],
   "source": [
    "threshold_nlst_5911 = pd.read_csv(f'{RESULTS_DIR}/threshold-perfs-nlst-5911.csv', index_col=0)\n",
    "threshold_nlst_5911, nlst_5911_policies = output.threshold_stats_pretty(threshold_nlst_5911, nlst_5911_policies)"
   ]
  },
  {
   "cell_type": "markdown",
   "metadata": {},
   "source": [
    "## Threshold Plots"
   ]
  },
  {
   "cell_type": "code",
   "execution_count": null,
   "metadata": {},
   "outputs": [],
   "source": [
    "_ = threshold.plot_threshold_stats_subgroups(nlst_5911, \"Race\", dataset_name='NLST',\n",
    "                                                policies=nlst_5911_policies[['90% Specificity']], models=output.NLST_5911_MODELCOLS, \n",
    "                                                stats=threshold_nlst_5911.query(f'attribute == \"Race\"'),\n",
    "                                                plot_metrics=['Sensitivity'], diff=False, show_mb_count=False,\n",
    "                                                imgpath=f\"{FIG_DIR}/allTPRrace5911.png\"\n",
    "                                                )  "
   ]
  },
  {
   "cell_type": "code",
   "execution_count": null,
   "metadata": {},
   "outputs": [],
   "source": [
    "_ = threshold.plot_threshold_stats_subgroups(nlst_5911, \"BMI\", dataset_name='NLST',\n",
    "                                                policies=nlst_5911_policies[['90% Sensitivity']], models=output.NLST_5911_MODELCOLS, \n",
    "                                                stats=threshold_nlst_5911.query(f'attribute == \"BMI\"'),\n",
    "                                                plot_metrics=['Specificity'], diff=False, show_mb_count=False,\n",
    "                                                imgpath=f\"{FIG_DIR}/allTNRbmi5911.png\"\n",
    "                                                )  "
   ]
  },
  {
   "cell_type": "code",
   "execution_count": null,
   "metadata": {},
   "outputs": [],
   "source": [
    "_ = threshold.plot_threshold_stats_subgroups(nlst_5911, \"Age\", dataset_name='NLST',\n",
    "                                                policies=nlst_5911_policies[['90% Sensitivity']], models=output.NLST_5911_MODELCOLS, \n",
    "                                                stats=threshold_nlst_5911.query(f'attribute == \"Age\"'),\n",
    "                                                plot_metrics=['Specificity'], diff=False, show_mb_count=False,\n",
    "                                                imgpath=f\"{FIG_DIR}/allTNRage5911.png\"\n",
    "                                                )  "
   ]
  },
  {
   "cell_type": "code",
   "execution_count": null,
   "metadata": {},
   "outputs": [],
   "source": [
    "_ = threshold.plot_threshold_stats_subgroups(nlst_5911, \"Education\", dataset_name='NLST',\n",
    "                                                policies=nlst_5911_policies[['90% Sensitivity']], models=output.NLST_5911_MODELCOLS, \n",
    "                                                stats=threshold_nlst_5911.query(f'attribute == \"Education\"'),\n",
    "                                                plot_metrics=['Specificity'], diff=False, show_mb_count=False,\n",
    "                                                imgpath=f\"{FIG_DIR}/allTNReducation5911.png\"\n",
    "                                                )  "
   ]
  },
  {
   "cell_type": "markdown",
   "metadata": {},
   "source": [
    "## Threshold Tables"
   ]
  },
  {
   "cell_type": "code",
   "execution_count": null,
   "metadata": {},
   "outputs": [],
   "source": [
    "pairwise_tpr_5911 = threshold.all_attribute_pairwise_comparisons(threshold_nlst_5911, metric='Sensitivity')\n",
    "threshold_tpr = output.threshold_results_pretty(pairwise_tpr_5911, model_order=list(output.NLST_5911_MODELCOLS.keys()), metric='Sensitivity')\n",
    "tpr_demo_5911 = threshold_tpr.xs(\"Demographics\", level='Category').query('Attribute in @nlst_demos_to_include & Policy in @POLICIES_TO_USE & Attribute not in @invalid_attributes_5911')\n",
    "tpr_demo_5911"
   ]
  },
  {
   "cell_type": "code",
   "execution_count": null,
   "metadata": {},
   "outputs": [],
   "source": [
    "output.latex_rotate_multirow('90% Sensitivity')"
   ]
  },
  {
   "cell_type": "code",
   "execution_count": null,
   "metadata": {},
   "outputs": [],
   "source": [
    "print(tpr_demo_5911.style\n",
    "        .format_index(output.latex_rotate_multirow, escape='latex-math', axis=0)\n",
    "        .format(output.latex_replace_arrowbrackets, escape='latex-math', na_rep='')\n",
    "        .format_index(output.latex_replace_arrowbrackets, escape='latex-math', axis=1)\n",
    "        .to_latex(\n",
    "    buf=f\"{TAB_DIR}/resNLSTfullTPR.tex\",\n",
    "    hrules=True, label='tab:resNLSTfullTPR', environment='table*', column_format=f'lll{\"|ll\"*len(list(output.NLST_5911_MODELCOLS.keys()))}', position='h!',\n",
    "    multirow_align='c', multicol_align='c',  position_float='centering', clines='skip-last;data', siunitx=True,\n",
    "    caption='Sensitivity (with 95\\% confidence intervals) for models for demographic subgroups on NLST. Single asterisk (*) = sensitivity of one subgroup is outside the CI of the other. Double asterisks (**) = CIs do not intersect.'))"
   ]
  },
  {
   "cell_type": "code",
   "execution_count": null,
   "metadata": {},
   "outputs": [],
   "source": [
    "pairwise_tnr_5911 = threshold.all_attribute_pairwise_comparisons(threshold_nlst_5911, metric='Specificity')\n",
    "threshold_tnr = output.threshold_results_pretty(pairwise_tnr_5911, model_order=list(output.NLST_5911_MODELCOLS.keys()), metric='Specificity')\n",
    "tnr_demo_5911 = threshold_tnr.xs(\"Demographics\", level='Category').query('Attribute in @nlst_demos_to_include & Policy in @POLICIES_TO_USE & Attribute not in @invalid_attributes_5911')\n",
    "tnr_demo_5911"
   ]
  },
  {
   "cell_type": "code",
   "execution_count": null,
   "metadata": {},
   "outputs": [],
   "source": [
    "print(tnr_demo_5911.style\n",
    "        .format_index(output.latex_rotate_multirow, escape='latex-math', axis=0)\n",
    "        .format(output.latex_replace_arrowbrackets, escape='latex-math', na_rep='')\n",
    "        .format_index(output.latex_replace_arrowbrackets, escape='latex-math', axis=1)\n",
    "        .to_latex(\n",
    "    buf=f\"{TAB_DIR}/resNLSTfullTNR.tex\",\n",
    "    hrules=True, label='tab:resNLSTfullTNR', environment='table*', column_format=f'lll{\"|ll\"*len(list(output.NLST_5911_MODELCOLS.keys()))}', position='h!',\n",
    "    multirow_align='c', multicol_align='c',  position_float='centering', clines='skip-last;data', siunitx=True,\n",
    "    caption='Specificity (with 95\\% confidence intervals) for models for demographic subgroups on NLST. Single asterisk (*) = specificity of one subgroup is outside the CI of the other. Double asterisks (**) = CIs do not intersect.'))"
   ]
  },
  {
   "cell_type": "markdown",
   "metadata": {},
   "source": [
    "# Confounder Results"
   ]
  },
  {
   "cell_type": "markdown",
   "metadata": {},
   "source": [
    "## Prevalence + ROC Tables"
   ]
  },
  {
   "cell_type": "code",
   "execution_count": null,
   "metadata": {},
   "outputs": [],
   "source": [
    "nlst_5911_v2, _, _ = data.prep_nlst_preds(nlst_preds_nodule, nlst_democols_og, scanlevel=True, sybil=True, pretty=False, bin_num=True)"
   ]
  },
  {
   "cell_type": "markdown",
   "metadata": {},
   "source": [
    "### Sex"
   ]
  },
  {
   "cell_type": "code",
   "execution_count": null,
   "metadata": {},
   "outputs": [],
   "source": [
    "gender_roc = pd.read_csv(f'{RESULTS_DIR}/auroc-gender-by-factors-nlst-5911.csv', index_col=0)\n",
    "gender_prev_roc, gender_topn_confounders = output.prevalence_plus_isolated_roc(\n",
    "    nlst_5911_v2,\n",
    "    'Gender',\n",
    "    NLST_POSSIBLE_CONFOUNDERS,\n",
    "    gender_roc,\n",
    "    'Sybil (Year 1)',\n",
    "    topn=TOP_N_CONFOUNDERS,\n",
    "    result_prec=TABLE_SCORE_PRECISION,\n",
    ")\n",
    "\n",
    "print(gender_prev_roc.style\n",
    "        .format(output.latex_replace_arrowbrackets, escape='latex-math', na_rep='')\n",
    "        .format_index(output.latex_replace_arrowbrackets, escape='latex-math', axis=1)\n",
    "        .format_index(output.latex_replace_arrowbrackets, escape='latex-math', axis=0)\n",
    "        .to_latex(\n",
    "    buf=f\"{TAB_DIR}/genderIsolationPlusROC.tex\",\n",
    "    hrules=True, label='tab:genderIsolationPlusROC', environment='sidewaystable*', column_format=f'll|rrrr|rrrr|l', position='h!',\n",
    "    multirow_align='c', multicol_align='c',  position_float='centering', clines='skip-last;data', siunitx=True,\n",
    "    caption=f'The top {TOP_N_CONFOUNDERS} characteristics with the largest prevalence difference between sexes, and the AUROC scores of the Sybil (Year 1) model between men and women, isolating for them.'))\n",
    "\n",
    "gender_prev_roc"
   ]
  },
  {
   "cell_type": "code",
   "execution_count": null,
   "metadata": {},
   "outputs": [],
   "source": [
    "_ = roc.plot_rocs_isolate_confounder(\n",
    "    nlst_5911,\n",
    "    'Sex',\n",
    "    'Work w/o Mask',\n",
    "    models={'Sybil (Year 1)': 'sybil_year1'},\n",
    "    dataset_name=\"NLST\",\n",
    "    num_bootstraps=1000,\n",
    "    imgpath=f\"{FIG_DIR}/sybilROCgender-WrkNoMask.png\"\n",
    ")"
   ]
  },
  {
   "cell_type": "markdown",
   "metadata": {},
   "source": [
    "### Race"
   ]
  },
  {
   "cell_type": "code",
   "execution_count": null,
   "metadata": {},
   "outputs": [],
   "source": [
    "cat_race_confounders, num_race_confounders = output.confounders_by_attribute(nlst_5911_v2, 'WhiteOrBlack', NLST_POSSIBLE_CONFOUNDERS, precision=1)\n",
    "num_race_confounders"
   ]
  },
  {
   "cell_type": "code",
   "execution_count": null,
   "metadata": {},
   "outputs": [],
   "source": [
    "num_race_confounders"
   ]
  },
  {
   "cell_type": "code",
   "execution_count": null,
   "metadata": {},
   "outputs": [],
   "source": [
    "nlst_preds_nodule.groupby(['WhiteOrBlack'])[['NoduleType', 'label']].value_counts(dropna=True, normalize=True)"
   ]
  },
  {
   "cell_type": "code",
   "execution_count": null,
   "metadata": {},
   "outputs": [],
   "source": [
    "cat_race_confounders.xs(\"Nodule\")"
   ]
  },
  {
   "cell_type": "code",
   "execution_count": null,
   "metadata": {},
   "outputs": [],
   "source": [
    "race_roc = pd.read_csv(f'{RESULTS_DIR}/auroc-race-by-factors-nlst-5911.csv', index_col=0)\n",
    "race_prev_roc, race_topn_confounders = output.prevalence_plus_isolated_roc(\n",
    "    nlst_5911_v2,\n",
    "    'WhiteOrBlack',\n",
    "    NLST_POSSIBLE_CONFOUNDERS,\n",
    "    race_roc,\n",
    "    'Venkadesh21',\n",
    "    topn=TOP_N_CONFOUNDERS,\n",
    "    result_prec=TABLE_SCORE_PRECISION,\n",
    ")\n",
    "\n",
    "print(race_prev_roc.style\n",
    "        .format(output.latex_replace_arrowbrackets, escape='latex-math', na_rep='')\n",
    "        .format_index(output.latex_replace_arrowbrackets, escape='latex-math', axis=1)\n",
    "        .format_index(output.latex_replace_arrowbrackets, escape='latex-math', axis=0)\n",
    "        .to_latex(\n",
    "    buf=f\"{TAB_DIR}/raceIsolationPlusROC.tex\",\n",
    "    hrules=True, label='tab:raceIsolationPlusROC', environment='sidewaystable*', column_format=f'll|rrrr|rrrr|l', position='h!',\n",
    "    multirow_align='c', multicol_align='c',  position_float='centering', clines='skip-last;data', siunitx=True,\n",
    "    caption=f'The top {TOP_N_CONFOUNDERS} characteristics with the largest prevalence difference between White and Black participants, and the AUROC scores of the Venkadesh21 model between these racial groups isolating for them.'))\n",
    "\n",
    "race_prev_roc"
   ]
  },
  {
   "cell_type": "code",
   "execution_count": null,
   "metadata": {},
   "outputs": [],
   "source": [
    "race_roc_all = output.roc_isolations_pretty(\n",
    "        race_roc, 'WhiteOrBlack', 'Venkadesh21', precision=2\n",
    ")"
   ]
  },
  {
   "cell_type": "code",
   "execution_count": null,
   "metadata": {},
   "outputs": [],
   "source": [
    "race_roc_all.xs('Nodule')"
   ]
  },
  {
   "cell_type": "code",
   "execution_count": null,
   "metadata": {},
   "outputs": [],
   "source": [
    "_ = roc.plot_rocs_isolate_confounder(\n",
    "    nlst_5911,\n",
    "    'Race',\n",
    "    'Hypertension Diag.',\n",
    "    models={'Venkadesh21': 'DL_cal'},\n",
    "    dataset_name=\"NLST\",\n",
    "    num_bootstraps=1000,\n",
    "    imgpath=f\"{FIG_DIR}/venkROCrace-Hypertension.png\"\n",
    ")"
   ]
  },
  {
   "cell_type": "markdown",
   "metadata": {},
   "source": [
    "### BMI"
   ]
  },
  {
   "cell_type": "code",
   "execution_count": null,
   "metadata": {},
   "outputs": [],
   "source": [
    "bmi_roc = pd.read_csv(f'{RESULTS_DIR}/auroc-bmi-by-factors-nlst-5911.csv', index_col=0)\n",
    "bmi_prev_roc, bmi_topn_confounders = output.prevalence_plus_isolated_roc(\n",
    "    nlst_5911_v2,\n",
    "    'Overweight',\n",
    "    NLST_POSSIBLE_CONFOUNDERS,\n",
    "    bmi_roc,\n",
    "    'Sybil (Year 1)',\n",
    "    topn=TOP_N_CONFOUNDERS,\n",
    "    result_prec=TABLE_SCORE_PRECISION,\n",
    ")\n",
    "\n",
    "print(bmi_prev_roc.style\n",
    "        .format(output.latex_replace_arrowbrackets, escape='latex-math', na_rep='')\n",
    "        .format_index(output.latex_replace_arrowbrackets, escape='latex-math', axis=1)\n",
    "        .format_index(output.latex_replace_arrowbrackets, escape='latex-math', axis=0)\n",
    "        .to_latex(\n",
    "    buf=f\"{TAB_DIR}/bmiIsolationPlusROC.tex\",\n",
    "    hrules=True, label='tab:bmiIsolationPlusROC', environment='sidewaystable*', column_format=f'll|rrrr|rrrr|l', position='h!',\n",
    "    multirow_align='c', multicol_align='c',  position_float='centering', clines='skip-last;data', siunitx=True,\n",
    "    caption=f'The top {TOP_N_CONFOUNDERS} characteristics with the largest prevalence difference between high and low BMI participants, and the AUROC scores of the Sybil (Year 1) model between BMI groups isolating for them.'))\n",
    "\n",
    "bmi_prev_roc"
   ]
  },
  {
   "cell_type": "code",
   "execution_count": null,
   "metadata": {},
   "outputs": [],
   "source": [
    "_ = roc.plot_rocs_isolate_confounder(\n",
    "    nlst_5911,\n",
    "    'BMI',\n",
    "    'Emphysema in Scan',\n",
    "    models={'Sybil (Year 1)': 'sybil_year1'},\n",
    "    dataset_name=\"NLST\",\n",
    "    num_bootstraps=1000,\n",
    "    imgpath=f\"{FIG_DIR}/sybilROCbmi-Emphysema.png\"\n",
    ")"
   ]
  },
  {
   "cell_type": "code",
   "execution_count": null,
   "metadata": {},
   "outputs": [],
   "source": [
    "bmi_pancan_roc, bmi_topn_confounders = output.prevalence_plus_isolated_roc(\n",
    "    nlst_5911_v2,\n",
    "    'Overweight',\n",
    "    NLST_POSSIBLE_CONFOUNDERS,\n",
    "    bmi_roc,\n",
    "    'PanCan2b',\n",
    "    topn=TOP_N_CONFOUNDERS,\n",
    "    result_prec=TABLE_SCORE_PRECISION,\n",
    ")\n",
    "\n",
    "print(bmi_pancan_roc.style\n",
    "        .format(output.latex_replace_arrowbrackets, escape='latex-math', na_rep='')\n",
    "        .format_index(output.latex_replace_arrowbrackets, escape='latex-math', axis=1)\n",
    "        .format_index(output.latex_replace_arrowbrackets, escape='latex-math', axis=0)\n",
    "        .to_latex(\n",
    "    buf=f\"{TAB_DIR}/bmiIsolationPlusROCpancan.tex\",\n",
    "    hrules=True, label='tab:bmiIsolationPlusROCpancan', environment='sidewaystable*', column_format=f'll|rrrr|rrrr|l', position='h!',\n",
    "    multirow_align='c', multicol_align='c',  position_float='centering', clines='skip-last;data', siunitx=True,\n",
    "    caption=f'The top {TOP_N_CONFOUNDERS} characteristics with the largest prevalence difference between high and low BMI participants, and the AUROC scores of the PanCan2b model between BMI groups isolating for them.'))\n",
    "\n",
    "bmi_pancan_roc"
   ]
  },
  {
   "cell_type": "markdown",
   "metadata": {},
   "source": [
    "### Education"
   ]
  },
  {
   "cell_type": "code",
   "execution_count": null,
   "metadata": {},
   "outputs": [],
   "source": [
    "hs_or_more_roc = pd.read_csv(f'{RESULTS_DIR}/auroc-hs-or-more-by-factors-nlst-5911.csv', index_col=0)\n",
    "hs_or_more_sybil_roc, hs_or_more_topn_confounders = output.prevalence_plus_isolated_roc(\n",
    "    nlst_5911_v2,\n",
    "    'HS-or-more',\n",
    "    NLST_POSSIBLE_CONFOUNDERS,\n",
    "    hs_or_more_roc,\n",
    "    'Sybil (Year 1)',\n",
    "    topn=TOP_N_CONFOUNDERS,\n",
    "    result_prec=TABLE_SCORE_PRECISION,\n",
    ")\n",
    "hs_or_more_sybil_roc"
   ]
  },
  {
   "cell_type": "code",
   "execution_count": null,
   "metadata": {},
   "outputs": [],
   "source": [
    "hs_or_more_venk21_roc, hs_or_more_topn_confounders = output.prevalence_plus_isolated_roc(\n",
    "    nlst_5911_v2,\n",
    "    'HS-or-more',\n",
    "    NLST_POSSIBLE_CONFOUNDERS,\n",
    "    hs_or_more_roc,\n",
    "    'Venkadesh21',\n",
    "    topn=TOP_N_CONFOUNDERS,\n",
    "    result_prec=TABLE_SCORE_PRECISION,\n",
    ")\n",
    "hs_or_more_venk21_roc"
   ]
  },
  {
   "cell_type": "code",
   "execution_count": null,
   "metadata": {},
   "outputs": [],
   "source": [
    "hs_or_more_pancan_roc, hs_or_more_topn_confounders = output.prevalence_plus_isolated_roc(\n",
    "    nlst_5911_v2,\n",
    "    'HS-or-more',\n",
    "    NLST_POSSIBLE_CONFOUNDERS,\n",
    "    hs_or_more_roc,\n",
    "    'PanCan2b',\n",
    "    topn=TOP_N_CONFOUNDERS,\n",
    "    result_prec=TABLE_SCORE_PRECISION,\n",
    ")\n",
    "\n",
    "print(hs_or_more_pancan_roc.style\n",
    "        .format(output.latex_replace_arrowbrackets, escape='latex-math', na_rep='')\n",
    "        .format_index(output.latex_replace_arrowbrackets, escape='latex-math', axis=1)\n",
    "        .format_index(output.latex_replace_arrowbrackets, escape='latex-math', axis=0)\n",
    "        .to_latex(\n",
    "    buf=f\"{TAB_DIR}/educationIsolationPlusROCpancan.tex\",\n",
    "    hrules=True, label='tab:educationIsolationPlusROCpancan', environment='sidewaystable*', column_format=f'll|rrrr|rrrr|l', position='h!',\n",
    "    multirow_align='c', multicol_align='c',  position_float='centering', clines='skip-last;data', siunitx=True,\n",
    "    caption=f'The top {TOP_N_CONFOUNDERS} characteristics with the largest prevalence difference between have graduated high school or higher and those who have not, and the AUROC scores of the PanCan2b model between these subgroups isolating for them.'))\n",
    "\n",
    "\n",
    "hs_or_more_pancan_roc"
   ]
  },
  {
   "cell_type": "markdown",
   "metadata": {},
   "source": [
    "## Sensitivity and Specificity"
   ]
  },
  {
   "cell_type": "markdown",
   "metadata": {},
   "source": [
    "### Sex"
   ]
  },
  {
   "cell_type": "markdown",
   "metadata": {},
   "source": [
    "#### Sybil"
   ]
  },
  {
   "cell_type": "code",
   "execution_count": null,
   "metadata": {},
   "outputs": [],
   "source": [
    "gender_pairwise_comps = None"
   ]
  },
  {
   "cell_type": "code",
   "execution_count": null,
   "metadata": {},
   "outputs": [],
   "source": [
    "gender_isolations = pd.read_csv(f'{RESULTS_DIR}/threshold-gender-by-factors-nlst-5911.csv', index_col=0)\n",
    "gender_tpr_tnr, gender_pairwise_comps = output.threshold_isolation_pairwise(\n",
    "    gender_isolations, \"Gender\", \"Sybil (Year 1)\", \n",
    "    nlst_5911_policies, \n",
    "    topn_confs=gender_topn_confounders, \n",
    "    pairwise_comps=gender_pairwise_comps)\n",
    "gender_tpr_tnr"
   ]
  },
  {
   "cell_type": "code",
   "execution_count": null,
   "metadata": {},
   "outputs": [],
   "source": [
    "print(gender_tpr_tnr.style\n",
    "        .format(output.latex_replace_arrowbrackets, escape='latex-math', na_rep='')\n",
    "        .format_index(output.latex_replace_arrowbrackets, escape='latex-math', axis=1)\n",
    "        .format_index(output.latex_replace_arrowbrackets, escape='latex-math', axis=0)\n",
    "        .to_latex(\n",
    "    buf=f\"{TAB_DIR}/genderTPRandTNRisolated.tex\",\n",
    "    hrules=True, label='tab:genderTPRandTNRisolated', environment='sidewaystable*', column_format=f'll|rrr|rrr', position='h!',\n",
    "    multirow_align='c', multicol_align='c',  position_float='centering', clines='skip-last;data', siunitx=True,\n",
    "    caption=f'Sensitivity and Specificity at specific thresholds (with 95\\% confidence intervals) for the Sybil (Year 1) model between men and women, isolating for the top {TOP_N_CONFOUNDERS} characteristics with the largest prevalence difference between sexes. Single asterisk (*) = metric of one subgroup is outside the CI of the other. Double asterisks (**) = CIs do not intersect.'))"
   ]
  },
  {
   "cell_type": "markdown",
   "metadata": {},
   "source": [
    "#### PanCan2b"
   ]
  },
  {
   "cell_type": "code",
   "execution_count": null,
   "metadata": {},
   "outputs": [],
   "source": [
    "pancan_gender_tpr_tnr, gender_pairwise_comps = output.threshold_isolation_pairwise(\n",
    "    gender_isolations, \"Gender\", \"PanCan2b\", \n",
    "    nlst_5911_policies, \n",
    "    topn_confs=gender_topn_confounders, \n",
    "    pairwise_comps=gender_pairwise_comps)\n",
    "pancan_gender_tpr_tnr"
   ]
  },
  {
   "cell_type": "markdown",
   "metadata": {},
   "source": [
    "### Race"
   ]
  },
  {
   "cell_type": "code",
   "execution_count": null,
   "metadata": {},
   "outputs": [],
   "source": [
    "race_pairwise_comps = None"
   ]
  },
  {
   "cell_type": "code",
   "execution_count": null,
   "metadata": {},
   "outputs": [],
   "source": [
    "race_isolations = pd.read_csv(f'{RESULTS_DIR}/threshold-race-by-factors-nlst-5911.csv', index_col=0)\n",
    "race_tpr_tnr, race_pairwise_comps = output.threshold_isolation_pairwise(\n",
    "    race_isolations, \"WhiteOrBlack\", \"Venkadesh21\", \n",
    "    nlst_5911_policies, \n",
    "    topn_confs=race_topn_confounders, \n",
    "    pairwise_comps=race_pairwise_comps)\n",
    "race_tpr_tnr"
   ]
  },
  {
   "cell_type": "code",
   "execution_count": null,
   "metadata": {},
   "outputs": [],
   "source": [
    "print(race_tpr_tnr.style\n",
    "        .format(output.latex_replace_arrowbrackets, escape='latex-math', na_rep='')\n",
    "        .format_index(output.latex_replace_arrowbrackets, escape='latex-math', axis=1)\n",
    "        .format_index(output.latex_replace_arrowbrackets, escape='latex-math', axis=0)\n",
    "        .to_latex(\n",
    "    buf=f\"{TAB_DIR}/raceTPRandTNRisolated.tex\",\n",
    "    hrules=True, label='tab:raceTPRandTNRisolated', environment='sidewaystable*', column_format=f'll|rrr|rrr', position='h!',\n",
    "    multirow_align='c', multicol_align='c',  position_float='centering', clines='skip-last;data', siunitx=True,\n",
    "    caption=f'Sensitivity and Specificity at specific thresholds (with 95\\% confidence intervals) for the Venkadesh21 model between between White and Black participants, isolating for the top {TOP_N_CONFOUNDERS} characteristics with the largest prevalence difference between racial groups. Single asterisk (*) = metric of one subgroup is outside the CI of the other. Double asterisks (**) = CIs do not intersect.'))"
   ]
  },
  {
   "cell_type": "code",
   "execution_count": null,
   "metadata": {},
   "outputs": [],
   "source": [
    "all_race_tpr_tnr, _ = output.threshold_isolation_pairwise(\n",
    "    race_isolations, \"WhiteOrBlack\", \"Venkadesh21\", \n",
    "    nlst_5911_policies, \n",
    "    topn_confs=None, \n",
    "    pairwise_comps=race_pairwise_comps)"
   ]
  },
  {
   "cell_type": "code",
   "execution_count": null,
   "metadata": {},
   "outputs": [],
   "source": [
    "all_race_tpr_tnr[all_race_tpr_tnr.index.get_level_values(0).str.contains('Nodule')]"
   ]
  },
  {
   "cell_type": "markdown",
   "metadata": {},
   "source": [
    "### BMI"
   ]
  },
  {
   "cell_type": "code",
   "execution_count": null,
   "metadata": {},
   "outputs": [],
   "source": [
    "bmi_pairwise_comps = None"
   ]
  },
  {
   "cell_type": "code",
   "execution_count": null,
   "metadata": {},
   "outputs": [],
   "source": [
    "bmi_isolations = pd.read_csv(f'{RESULTS_DIR}/threshold-bmi-by-factors-nlst-5911.csv', index_col=0)\n",
    "bmi_tpr_tnr, bmi_pairwise_comps = output.threshold_isolation_pairwise(\n",
    "    bmi_isolations, \"Overweight\", \"Sybil (Year 1)\", \n",
    "    nlst_5911_policies, \n",
    "    topn_confs=bmi_topn_confounders, \n",
    "    pairwise_comps=bmi_pairwise_comps)\n",
    "bmi_tpr_tnr"
   ]
  },
  {
   "cell_type": "code",
   "execution_count": null,
   "metadata": {},
   "outputs": [],
   "source": [
    "print(bmi_tpr_tnr.style\n",
    "        .format(output.latex_replace_arrowbrackets, escape='latex-math', na_rep='')\n",
    "        .format_index(output.latex_replace_arrowbrackets, escape='latex-math', axis=1)\n",
    "        .format_index(output.latex_replace_arrowbrackets, escape='latex-math', axis=0)\n",
    "        .to_latex(\n",
    "    buf=f\"{TAB_DIR}/bmiTPRandTNRisolated.tex\",\n",
    "    hrules=True, label='tab:bmiTPRandTNRisolated', environment='sidewaystable*', column_format=f'll|rrr|rrr', position='h!',\n",
    "    multirow_align='c', multicol_align='c',  position_float='centering', clines='skip-last;data', siunitx=True,\n",
    "    caption=f'Sensitivity and Specificity at specific thresholds (with 95\\% confidence intervals) for the Sybil (Year 1) model between between high and low BMI participants, isolating for the top {TOP_N_CONFOUNDERS} characteristics with the largest prevalence difference between subgroups. Single asterisk (*) = metric of one subgroup is outside the CI of the other. Double asterisks (**) = CIs do not intersect.'))"
   ]
  },
  {
   "cell_type": "code",
   "execution_count": null,
   "metadata": {},
   "outputs": [],
   "source": [
    "pancan_bmi_tpr_tnr, bmi_pairwise_comps = output.threshold_isolation_pairwise(\n",
    "    bmi_isolations, \"Overweight\", \"PanCan2b\", \n",
    "    nlst_5911_policies, \n",
    "    topn_confs=bmi_topn_confounders, \n",
    "    pairwise_comps=bmi_pairwise_comps)\n",
    "\n",
    "print(pancan_bmi_tpr_tnr.style\n",
    "        .format(output.latex_replace_arrowbrackets, escape='latex-math', na_rep='')\n",
    "        .format_index(output.latex_replace_arrowbrackets, escape='latex-math', axis=1)\n",
    "        .format_index(output.latex_replace_arrowbrackets, escape='latex-math', axis=0)\n",
    "        .to_latex(\n",
    "    buf=f\"{TAB_DIR}/bmiTPRandTNRisolatedPanCan.tex\",\n",
    "    hrules=True, label='tab:bmiTPRandTNRisolatedPanCan', environment='sidewaystable*', column_format=f'll|rrr|rrr', position='h!',\n",
    "    multirow_align='c', multicol_align='c',  position_float='centering', clines='skip-last;data', siunitx=True,\n",
    "    caption=f'Sensitivity and Specificity at specific thresholds (with 95\\% confidence intervals) for the PanCan2b model between between high and low BMI participants, isolating for the top {TOP_N_CONFOUNDERS} characteristics with the largest prevalence difference between subgroups. Single asterisk (*) = metric of one subgroup is outside the CI of the other. Double asterisks (**) = CIs do not intersect.'))\n",
    "\n",
    "pancan_bmi_tpr_tnr"
   ]
  },
  {
   "cell_type": "code",
   "execution_count": null,
   "metadata": {},
   "outputs": [],
   "source": [
    "venk_bmi_tpr_tnr, bmi_pairwise_comps = output.threshold_isolation_pairwise(\n",
    "    bmi_isolations, \"Overweight\", \"Venkadesh21\", \n",
    "    nlst_5911_policies, \n",
    "    topn_confs=bmi_topn_confounders, \n",
    "    pairwise_comps=bmi_pairwise_comps)\n",
    "\n",
    "print(venk_bmi_tpr_tnr.style\n",
    "        .format(output.latex_replace_arrowbrackets, escape='latex-math', na_rep='')\n",
    "        .format_index(output.latex_replace_arrowbrackets, escape='latex-math', axis=1)\n",
    "        .format_index(output.latex_replace_arrowbrackets, escape='latex-math', axis=0)\n",
    "        .to_latex(\n",
    "    buf=f\"{TAB_DIR}/bmiTPRandTNRisolatedVenk21.tex\",\n",
    "    hrules=True, label='tab:bmiTPRandTNRisolatedVenk21', environment='sidewaystable*', column_format=f'll|rrr|rrr', position='h!',\n",
    "    multirow_align='c', multicol_align='c',  position_float='centering', clines='skip-last;data', siunitx=True,\n",
    "    caption=f'Sensitivity and Specificity at specific thresholds (with 95\\% confidence intervals) for the Venkadesh21 model between between high and low BMI participants, isolating for the top {TOP_N_CONFOUNDERS} characteristics with the largest prevalence difference between subgroups. Single asterisk (*) = metric of one subgroup is outside the CI of the other. Double asterisks (**) = CIs do not intersect.'))\n",
    "\n",
    "\n",
    "venk_bmi_tpr_tnr"
   ]
  },
  {
   "cell_type": "markdown",
   "metadata": {},
   "source": [
    "### Education"
   ]
  },
  {
   "cell_type": "code",
   "execution_count": null,
   "metadata": {},
   "outputs": [],
   "source": [
    "hs_or_more_pairwise_comps = None"
   ]
  },
  {
   "cell_type": "code",
   "execution_count": null,
   "metadata": {},
   "outputs": [],
   "source": [
    "hs_or_more_isolations = pd.read_csv(f'{RESULTS_DIR}/threshold-hs-or-more-by-factors-nlst-5911.csv', index_col=0)"
   ]
  },
  {
   "cell_type": "code",
   "execution_count": null,
   "metadata": {},
   "outputs": [],
   "source": [
    "sybil_hs_or_more_tpr_tnr, hs_or_more_pairwise_comps = output.threshold_isolation_pairwise(\n",
    "    hs_or_more_isolations, \"HS-or-more\", \"Sybil (Year 1)\", \n",
    "    nlst_5911_policies, \n",
    "    topn_confs=hs_or_more_topn_confounders, \n",
    "    pairwise_comps=hs_or_more_pairwise_comps)\n",
    "\n",
    "print(sybil_hs_or_more_tpr_tnr.style\n",
    "        .format(output.latex_replace_arrowbrackets, escape='latex-math', na_rep='')\n",
    "        .format_index(output.latex_replace_arrowbrackets, escape='latex-math', axis=1)\n",
    "        .format_index(output.latex_replace_arrowbrackets, escape='latex-math', axis=0)\n",
    "        .to_latex(\n",
    "    buf=f\"{TAB_DIR}/educationTPRandTNRisolatedSybil.tex\",\n",
    "    hrules=True, label='tab:educationTPRandTNRisolatedSybil', environment='sidewaystable*', column_format=f'll|rrr|rrr', position='h!',\n",
    "    multirow_align='c', multicol_align='c',  position_float='centering', clines='skip-last;data', siunitx=True,\n",
    "    caption=f'Sensitivity and Specificity at specific thresholds (with 95\\% confidence intervals) for the Sybil Year 1 model between between participants who have graduated high school or higher and those who have not, isolating for the top {TOP_N_CONFOUNDERS} characteristics with the largest prevalence difference between subgroups. Single asterisk (*) = metric of one subgroup is outside the CI of the other. Double asterisks (**) = CIs do not intersect.'))\n",
    "\n",
    "sybil_hs_or_more_tpr_tnr"
   ]
  },
  {
   "cell_type": "code",
   "execution_count": null,
   "metadata": {},
   "outputs": [],
   "source": [
    "venk21_hs_or_more_tpr_tnr, hs_or_more_pairwise_comps = output.threshold_isolation_pairwise(\n",
    "    hs_or_more_isolations, \"HS-or-more\", \"Venkadesh21\", \n",
    "    nlst_5911_policies, \n",
    "    topn_confs=hs_or_more_topn_confounders, \n",
    "    pairwise_comps=hs_or_more_pairwise_comps)\n",
    "\n",
    "print(venk21_hs_or_more_tpr_tnr.style\n",
    "        .format(output.latex_replace_arrowbrackets, escape='latex-math', na_rep='')\n",
    "        .format_index(output.latex_replace_arrowbrackets, escape='latex-math', axis=1)\n",
    "        .format_index(output.latex_replace_arrowbrackets, escape='latex-math', axis=0)\n",
    "        .to_latex(\n",
    "    buf=f\"{TAB_DIR}/educationTPRandTNRisolatedVenk21.tex\",\n",
    "    hrules=True, label='tab:educationTPRandTNRisolatedVenk21', environment='sidewaystable*', column_format=f'll|rrr|rrr', position='h!',\n",
    "    multirow_align='c', multicol_align='c',  position_float='centering', clines='skip-last;data', siunitx=True,\n",
    "    caption=f'Sensitivity and Specificity at specific thresholds (with 95\\% confidence intervals) for the Venkadesh21 model between between participants who have graduated high school or higher and those who have not, isolating for the top {TOP_N_CONFOUNDERS} characteristics with the largest prevalence difference between subgroups. Single asterisk (*) = metric of one subgroup is outside the CI of the other. Double asterisks (**) = CIs do not intersect.'))\n",
    "\n",
    "venk21_hs_or_more_tpr_tnr"
   ]
  },
  {
   "cell_type": "code",
   "execution_count": null,
   "metadata": {},
   "outputs": [],
   "source": [
    "pancan_hs_or_more_tpr_tnr, hs_or_more_pairwise_comps = output.threshold_isolation_pairwise(\n",
    "    hs_or_more_isolations, \"HS-or-more\", \"PanCan2b\", \n",
    "    nlst_5911_policies, \n",
    "    topn_confs=hs_or_more_topn_confounders, \n",
    "    pairwise_comps=hs_or_more_pairwise_comps)\n",
    "\n",
    "print(pancan_hs_or_more_tpr_tnr.style\n",
    "        .format(output.latex_replace_arrowbrackets, escape='latex-math', na_rep='')\n",
    "        .format_index(output.latex_replace_arrowbrackets, escape='latex-math', axis=1)\n",
    "        .format_index(output.latex_replace_arrowbrackets, escape='latex-math', axis=0)\n",
    "        .to_latex(\n",
    "    buf=f\"{TAB_DIR}/educationTPRandTNRisolatedPanCan.tex\",\n",
    "    hrules=True, label='tab:educationTPRandTNRisolatedPanCan', environment='sidewaystable*', column_format=f'll|rrr|rrr', position='h!',\n",
    "    multirow_align='c', multicol_align='c',  position_float='centering', clines='skip-last;data', siunitx=True,\n",
    "    caption=f'Sensitivity and Specificity at specific thresholds (with 95\\% confidence intervals) for the PanCan2b model between between participants who have graduated high school or higher and those who have not, isolating for the top {TOP_N_CONFOUNDERS} characteristics with the largest prevalence difference between subgroups. Single asterisk (*) = metric of one subgroup is outside the CI of the other. Double asterisks (**) = CIs do not intersect.'))\n",
    "\n",
    "pancan_hs_or_more_tpr_tnr"
   ]
  }
 ],
 "metadata": {
  "kernelspec": {
   "display_name": "Python 3",
   "language": "python",
   "name": "python3"
  },
  "language_info": {
   "codemirror_mode": {
    "name": "ipython",
    "version": 3
   },
   "file_extension": ".py",
   "mimetype": "text/x-python",
   "name": "python",
   "nbconvert_exporter": "python",
   "pygments_lexer": "ipython3",
   "version": "3.11.9"
  }
 },
 "nbformat": 4,
 "nbformat_minor": 2
}
