{
 "cells": [
  {
   "cell_type": "markdown",
   "metadata": {},
   "source": [
    "# Linear Regression with Predictions and Demographics\n",
    "*Shaurya Gaur*\n",
    "\n",
    "Are the predictions from our models correlated with certain variables that they should (not) be?\n",
    "\n",
    "Adapted from [this lab exercise](https://github.com/Harshita0109/Sales-Prediction/blob/master/2048035_Lab3.ipynb)."
   ]
  },
  {
   "cell_type": "code",
   "execution_count": null,
   "metadata": {},
   "outputs": [],
   "source": [
    "import pandas as pd\n",
    "import os\n",
    "import numpy as np\n",
    "import seaborn as sns\n",
    "import matplotlib.pyplot as plt\n",
    "import json\n",
    "from scipy.stats import pearsonr, spearmanr\n",
    "from IPython.display import display, Markdown\n",
    "\n",
    "import sys\n",
    "sys.path.append('../')\n",
    "\n",
    "import utils\n",
    "from evalutils.roc import get_bootstrapped_roc_ci_curves\n",
    "from sklearn.metrics import confusion_matrix, ConfusionMatrixDisplay\n",
    "from sklearn.linear_model import LinearRegression, LogisticRegression\n",
    "\n",
    "## directory where results are\n",
    "# EXPERIMENT_DIR = f\"/data/bodyct/experiments/lung-malignancy-fairness-shaurya\"\n",
    "# NLST_PREDS = f\"{EXPERIMENT_DIR}/nlst\"\n",
    "\n",
    "TEAMS_DIR = \"/mnt/c/Users/shaur/OneDrive - Radboudumc/Documents - Master - Shaurya Gaur/General/Malignancy-Estimation Results/nlst\"\n",
    "NLST_PREDS = TEAMS_DIR ## Comment out if not using Teams backup (aka Chansey is up :)"
   ]
  },
  {
   "cell_type": "code",
   "execution_count": null,
   "metadata": {},
   "outputs": [],
   "source": [
    "def calc_corr(df0, demo_col, models, regressor=LinearRegression()):\n",
    "    allstats = []\n",
    "    df = df0.dropna(subset=demo_col, axis=0)\n",
    "    for m in models:\n",
    "        predcol = df[models[m]]\n",
    "        \n",
    "        pearson_result, pearson_pval = pearsonr(df[demo_col], predcol)\n",
    "        # pearson_lo, pearson_hi = pearson_result.confidence_interval(0.95)\n",
    "\n",
    "        spearman_result, spearman_pval = spearmanr(df[demo_col], predcol)\n",
    "        \n",
    "        regressor.fit(np.array(df[demo_col].tolist()).reshape(-1, 1), predcol)\n",
    "\n",
    "        allstats.append({\n",
    "            'SRC': spearman_result,\n",
    "            'SRC p-val': spearman_pval,\n",
    "            'PCC': pearson_result,\n",
    "            'PCC p-val': pearson_pval,\n",
    "            # 'PCC CI-lo': pearson_lo,\n",
    "            # 'PCC CI-hi': pearson_hi,\n",
    "            'regressor intercept': regressor.intercept_,\n",
    "            'regressor coefficient': regressor.coef_[0], \n",
    "        })\n",
    "    statdf = pd.DataFrame(allstats, index=models.keys())\n",
    "    return statdf"
   ]
  },
  {
   "cell_type": "markdown",
   "metadata": {},
   "source": [
    "## NLST: Load data"
   ]
  },
  {
   "cell_type": "code",
   "execution_count": 11,
   "metadata": {},
   "outputs": [
    {
     "name": "stdout",
     "output_type": "stream",
     "text": [
      "<class 'pandas.core.frame.DataFrame'>\n",
      "Index: 1172 entries, 4740 to 10150\n",
      "Data columns (total 96 columns):\n",
      " #   Column                 Non-Null Count  Dtype  \n",
      "---  ------                 --------------  -----  \n",
      " 0   PatientID              1172 non-null   int64  \n",
      " 1   StudyDate              1172 non-null   int64  \n",
      " 2   SeriesInstanceUID      1172 non-null   object \n",
      " 3   LesionID               1172 non-null   int64  \n",
      " 4   Spiculation            1172 non-null   bool   \n",
      " 5   Diameter [mm]          1172 non-null   float64\n",
      " 6   Age                    1172 non-null   int64  \n",
      " 7   Gender                 1172 non-null   int64  \n",
      " 8   FamilyHistoryLungCa    1172 non-null   bool   \n",
      " 9   Emphysema              1172 non-null   bool   \n",
      " 10  NoduleInUpperLung      1172 non-null   bool   \n",
      " 11  NoduleCounts           1172 non-null   int64  \n",
      " 12  SCT_EPI_LOC            1119 non-null   float64\n",
      " 13  xie_gc_gclobe150       53 non-null     float64\n",
      " 14  loclup                 127 non-null    float64\n",
      " 15  locrup                 127 non-null    float64\n",
      " 16  PanCan2b               1172 non-null   float64\n",
      " 17  label                  1172 non-null   int64  \n",
      " 18  DL                     1172 non-null   float64\n",
      " 19  Thijmen_mean           1172 non-null   float64\n",
      " 20  height                 1172 non-null   float64\n",
      " 21  weight                 1171 non-null   float64\n",
      " 22  pkyr                   1172 non-null   float64\n",
      " 23  smokeage               1172 non-null   float64\n",
      " 24  smokeday               1172 non-null   int64  \n",
      " 25  smokeyr                1172 non-null   int64  \n",
      " 26  marital                1172 non-null   float64\n",
      " 27  educat                 1153 non-null   float64\n",
      " 28  race                   1169 non-null   float64\n",
      " 29  ethnic                 1170 non-null   float64\n",
      " 30  cigar                  1166 non-null   float64\n",
      " 31  cigsmok                1172 non-null   int64  \n",
      " 32  pipe                   1165 non-null   float64\n",
      " 33  smokelive              1167 non-null   float64\n",
      " 34  smokework              1160 non-null   float64\n",
      " 35  wrkasbe                1172 non-null   float64\n",
      " 36  wrkbaki                1172 non-null   float64\n",
      " 37  wrkbutc                1172 non-null   float64\n",
      " 38  wrkchem                1171 non-null   float64\n",
      " 39  wrkcoal                1172 non-null   float64\n",
      " 40  wrkcott                1172 non-null   float64\n",
      " 41  wrkfarm                1172 non-null   float64\n",
      " 42  wrkfire                1172 non-null   float64\n",
      " 43  wrkflou                1172 non-null   float64\n",
      " 44  wrkfoun                1172 non-null   float64\n",
      " 45  wrkhard                1172 non-null   float64\n",
      " 46  wrkpain                1172 non-null   float64\n",
      " 47  wrksand                1172 non-null   float64\n",
      " 48  wrkweld                1172 non-null   float64\n",
      " 49  wrknomask              1172 non-null   bool   \n",
      " 50  diagadas               1172 non-null   float64\n",
      " 51  diagasbe               1170 non-null   float64\n",
      " 52  diagbron               1170 non-null   float64\n",
      " 53  diagchas               1172 non-null   float64\n",
      " 54  diagchro               1168 non-null   float64\n",
      " 55  diagcopd               1170 non-null   float64\n",
      " 56  diagdiab               1172 non-null   float64\n",
      " 57  diagemph               1168 non-null   float64\n",
      " 58  diagfibr               1172 non-null   float64\n",
      " 59  diaghear               1168 non-null   float64\n",
      " 60  diaghype               1168 non-null   float64\n",
      " 61  diagpneu               1172 non-null   float64\n",
      " 62  diagsarc               1172 non-null   float64\n",
      " 63  diagsili               1172 non-null   float64\n",
      " 64  diagstro               1172 non-null   float64\n",
      " 65  diagtube               1172 non-null   float64\n",
      " 66  cancblad               1171 non-null   float64\n",
      " 67  cancbrea               1171 non-null   float64\n",
      " 68  canccerv               1171 non-null   float64\n",
      " 69  canccolo               1171 non-null   float64\n",
      " 70  cancesop               1171 non-null   float64\n",
      " 71  canckidn               1171 non-null   float64\n",
      " 72  canclary               1171 non-null   float64\n",
      " 73  canclung               1171 non-null   float64\n",
      " 74  cancnasa               1171 non-null   float64\n",
      " 75  cancoral               1170 non-null   float64\n",
      " 76  cancpanc               1171 non-null   float64\n",
      " 77  cancphar               1171 non-null   float64\n",
      " 78  cancstom               1171 non-null   float64\n",
      " 79  cancthyr               1171 non-null   float64\n",
      " 80  canctran               1171 non-null   float64\n",
      " 81  study                  1172 non-null   int64  \n",
      " 82  Thijmen_local          1172 non-null   float64\n",
      " 83  InSybilTrain           1172 non-null   bool   \n",
      " 84  Thijmen_global_hidden  1172 non-null   float64\n",
      " 85  Thijmen_global_show    1172 non-null   float64\n",
      " 86  sybil_year1            1172 non-null   float64\n",
      " 87  sybil_year2            1172 non-null   float64\n",
      " 88  sybil_year3            1172 non-null   float64\n",
      " 89  sybil_year4            1172 non-null   float64\n",
      " 90  sybil_year5            1172 non-null   float64\n",
      " 91  sybil_year6            1172 non-null   float64\n",
      " 92  PersonalCancerHist     1172 non-null   bool   \n",
      " 93  NonHispanicWhite       1172 non-null   bool   \n",
      " 94  HighSchoolPlus         1172 non-null   bool   \n",
      " 95  Married                1172 non-null   bool   \n",
      "dtypes: bool(10), float64(74), int64(11), object(1)\n",
      "memory usage: 808.0+ KB\n"
     ]
    }
   ],
   "source": [
    "nlst_preds = pd.read_csv(f\"{NLST_PREDS}/nlst_demov2_allmodels.csv\")\n",
    "nlst_preds = utils.prep_nlst_preds(nlst_preds, scanlevel=True, sybil=True, tijmen=True)\n",
    "nlst_preds.info()"
   ]
  },
  {
   "cell_type": "code",
   "execution_count": 12,
   "metadata": {},
   "outputs": [],
   "source": [
    "with open(f'{NLST_PREDS}/nlst_demo_v1_cols.json') as json_data:\n",
    "    nlst_democols = json.load(json_data)\n",
    "    json_data.close()"
   ]
  },
  {
   "cell_type": "code",
   "execution_count": 13,
   "metadata": {},
   "outputs": [
    {
     "data": {
      "text/plain": [
       "{'demo': ['height', 'weight', 'Age'],\n",
       " 'smoke': ['pkyr', 'smokeage', 'smokeday', 'smokeyr']}"
      ]
     },
     "execution_count": 13,
     "metadata": {},
     "output_type": "execute_result"
    }
   ],
   "source": [
    "nlst_democols['num']"
   ]
  },
  {
   "cell_type": "code",
   "execution_count": 14,
   "metadata": {},
   "outputs": [],
   "source": [
    "MODEL_TO_COL = {\n",
    "    \"Venkadesh\": \"DL\",\n",
    "    \"de Haas Combined\": \"Thijmen_mean\",\n",
    "    # \"de Haas Local\": \"Thijmen_local\",\n",
    "    # \"de Haas Global (hidden nodule)\": \"Thijmen_global_hidden\",\n",
    "    \"de Haas Global (shown nodule)\": \"Thijmen_global_show\",\n",
    "    \"Sybil\": \"sybil_year1\",\n",
    "    \"PanCan2b\": \"PanCan2b\",\n",
    "    \"Reference Standard\": 'label'\n",
    "}"
   ]
  },
  {
   "cell_type": "markdown",
   "metadata": {},
   "source": [
    "## NLST: How are numerical demographic columns related with predictions?"
   ]
  },
  {
   "cell_type": "markdown",
   "metadata": {},
   "source": [
    "### Demographic columns"
   ]
  },
  {
   "cell_type": "code",
   "execution_count": 15,
   "metadata": {},
   "outputs": [
    {
     "data": {
      "text/markdown": [
       "#### height"
      ],
      "text/plain": [
       "<IPython.core.display.Markdown object>"
      ]
     },
     "metadata": {},
     "output_type": "display_data"
    },
    {
     "ename": "AttributeError",
     "evalue": "'numpy.float64' object has no attribute 'confidence_interval'",
     "output_type": "error",
     "traceback": [
      "\u001b[0;31m---------------------------------------------------------------------------\u001b[0m",
      "\u001b[0;31mAttributeError\u001b[0m                            Traceback (most recent call last)",
      "Cell \u001b[0;32mIn[15], line 6\u001b[0m\n\u001b[1;32m      3\u001b[0m scatplot_list \u001b[38;5;241m=\u001b[39m \u001b[38;5;28mlist\u001b[39m(MODEL_TO_COL\u001b[38;5;241m.\u001b[39mvalues())\n\u001b[1;32m      4\u001b[0m scatplot_list\u001b[38;5;241m.\u001b[39mremove(\u001b[38;5;124m'\u001b[39m\u001b[38;5;124mlabel\u001b[39m\u001b[38;5;124m'\u001b[39m)\n\u001b[0;32m----> 6\u001b[0m display(\u001b[43mcalc_corr\u001b[49m\u001b[43m(\u001b[49m\u001b[43mnlst_preds\u001b[49m\u001b[43m,\u001b[49m\u001b[43m \u001b[49m\u001b[43mc\u001b[49m\u001b[43m,\u001b[49m\u001b[43m \u001b[49m\u001b[43mMODEL_TO_COL\u001b[49m\u001b[43m)\u001b[49m)\n\u001b[1;32m      7\u001b[0m sns\u001b[38;5;241m.\u001b[39mhistplot(nlst_preds, x\u001b[38;5;241m=\u001b[39mc, bins\u001b[38;5;241m=\u001b[39m\u001b[38;5;241m25\u001b[39m, hue\u001b[38;5;241m=\u001b[39m\u001b[38;5;124m\"\u001b[39m\u001b[38;5;124mlabel\u001b[39m\u001b[38;5;124m\"\u001b[39m, multiple\u001b[38;5;241m=\u001b[39m\u001b[38;5;124m'\u001b[39m\u001b[38;5;124mstack\u001b[39m\u001b[38;5;124m'\u001b[39m)\n\u001b[1;32m      8\u001b[0m sns\u001b[38;5;241m.\u001b[39mpairplot(nlst_preds, x_vars\u001b[38;5;241m=\u001b[39mscatplot_list, y_vars\u001b[38;5;241m=\u001b[39mc, kind\u001b[38;5;241m=\u001b[39m\u001b[38;5;124m'\u001b[39m\u001b[38;5;124mscatter\u001b[39m\u001b[38;5;124m'\u001b[39m, height\u001b[38;5;241m=\u001b[39m\u001b[38;5;241m4\u001b[39m, aspect\u001b[38;5;241m=\u001b[39m\u001b[38;5;241m1\u001b[39m, hue\u001b[38;5;241m=\u001b[39m\u001b[38;5;124m'\u001b[39m\u001b[38;5;124mlabel\u001b[39m\u001b[38;5;124m'\u001b[39m, plot_kws\u001b[38;5;241m=\u001b[39m{\u001b[38;5;124m'\u001b[39m\u001b[38;5;124malpha\u001b[39m\u001b[38;5;124m'\u001b[39m: \u001b[38;5;241m0.5\u001b[39m})\n",
      "Cell \u001b[0;32mIn[10], line 8\u001b[0m, in \u001b[0;36mcalc_corr\u001b[0;34m(df0, demo_col, models, regressor)\u001b[0m\n\u001b[1;32m      5\u001b[0m predcol \u001b[38;5;241m=\u001b[39m df[models[m]]\n\u001b[1;32m      7\u001b[0m pearson_result, pearson_pval \u001b[38;5;241m=\u001b[39m pearsonr(df[demo_col], predcol)\n\u001b[0;32m----> 8\u001b[0m pearson_lo, pearson_hi \u001b[38;5;241m=\u001b[39m \u001b[43mpearson_result\u001b[49m\u001b[38;5;241;43m.\u001b[39;49m\u001b[43mconfidence_interval\u001b[49m(\u001b[38;5;241m0.95\u001b[39m)\n\u001b[1;32m     10\u001b[0m spearman_result, spearman_pval \u001b[38;5;241m=\u001b[39m spearmanr(df[demo_col], predcol)\n\u001b[1;32m     12\u001b[0m regressor\u001b[38;5;241m.\u001b[39mfit(np\u001b[38;5;241m.\u001b[39marray(df[demo_col]\u001b[38;5;241m.\u001b[39mtolist())\u001b[38;5;241m.\u001b[39mreshape(\u001b[38;5;241m-\u001b[39m\u001b[38;5;241m1\u001b[39m, \u001b[38;5;241m1\u001b[39m), predcol)\n",
      "\u001b[0;31mAttributeError\u001b[0m: 'numpy.float64' object has no attribute 'confidence_interval'"
     ]
    }
   ],
   "source": [
    "for c in nlst_democols['num']['demo']:\n",
    "    display(Markdown(f\"#### {c}\"))\n",
    "    scatplot_list = list(MODEL_TO_COL.values())\n",
    "    scatplot_list.remove('label')\n",
    "\n",
    "    display(calc_corr(nlst_preds, c, MODEL_TO_COL))\n",
    "    sns.histplot(nlst_preds, x=c, bins=25, hue=\"label\", multiple='stack')\n",
    "    sns.pairplot(nlst_preds, x_vars=scatplot_list, y_vars=c, kind='scatter', height=4, aspect=1, hue='label', plot_kws={'alpha': 0.5})\n",
    "    plt.show()\n",
    "\n",
    "    for c2 in ['NonHispanicWhite', 'Gender', 'HighSchoolPlus', 'Married', 'Emphysema', 'PersonalCancerHist', 'FamilyHistoryLungCa']:\n",
    "        display(Markdown(f\"#### {c} by {c2}\"))\n",
    "        groups = nlst_preds.groupby(c2)\n",
    "        for label, df_group in groups:    \n",
    "            print(label)\n",
    "            sns.pairplot(df_group, x_vars=scatplot_list, y_vars=c, kind='scatter', height=4, aspect=1, hue='label', plot_kws={'alpha': 0.5})\n",
    "            plt.show()"
   ]
  },
  {
   "cell_type": "code",
   "execution_count": null,
   "metadata": {},
   "outputs": [],
   "source": []
  },
  {
   "cell_type": "code",
   "execution_count": null,
   "metadata": {},
   "outputs": [],
   "source": [
    "mlr = LinearRegression()\n",
    "mlr_df = nlst_preds.dropna(subset=nlst_democols['num']['demo'], axis=0)\n",
    "coefs = {}\n",
    "\n",
    "for m in MODEL_TO_COL:\n",
    "    mlr.fit(mlr_df[nlst_democols['num']['demo']], mlr_df[MODEL_TO_COL[m]])\n",
    "    coefs[m] = mlr.coef_\n",
    "\n",
    "pd.DataFrame(coefs, index=nlst_democols['num']['demo']).T"
   ]
  },
  {
   "cell_type": "markdown",
   "metadata": {},
   "source": [
    "### smoking columns"
   ]
  },
  {
   "cell_type": "code",
   "execution_count": null,
   "metadata": {},
   "outputs": [],
   "source": [
    "for c in nlst_democols['num']['smoke']:\n",
    "    display(Markdown(f\"#### {c}\"))\n",
    "    scatplot_list = list(MODEL_TO_COL.values())\n",
    "    scatplot_list.remove('label')\n",
    "\n",
    "    display(calc_corr(nlst_preds, c, MODEL_TO_COL))\n",
    "    sns.histplot(nlst_preds, x=c, bins=25, hue=\"label\", multiple='stack')\n",
    "    sns.pairplot(nlst_preds, x_vars=scatplot_list, y_vars=c, kind='scatter', height=4, aspect=1, hue='label', plot_kws={'alpha': 0.5})\n",
    "    plt.show()\n",
    "\n",
    "    for c2 in ['NonHispanicWhite', 'Gender', 'HighSchoolPlus', 'Married', 'Emphysema', 'PersonalCancerHist', 'FamilyHistoryLungCa']:\n",
    "        display(Markdown(f\"#### {c} by {c2}\"))\n",
    "        groups = nlst_preds.groupby(c2)\n",
    "        for label, df_group in groups:    \n",
    "            print(label)\n",
    "            sns.pairplot(df_group, x_vars=scatplot_list, y_vars=c, kind='scatter', height=4, aspect=1, hue='label', plot_kws={'alpha': 0.5})\n",
    "            plt.show()"
   ]
  },
  {
   "cell_type": "code",
   "execution_count": null,
   "metadata": {},
   "outputs": [],
   "source": [
    "mlr = LinearRegression()\n",
    "mlr_df = nlst_preds.dropna(subset=nlst_democols['num']['smoke'], axis=0)\n",
    "coefs = {}\n",
    "\n",
    "for m in MODEL_TO_COL:\n",
    "    mlr.fit(mlr_df[nlst_democols['num']['smoke']], mlr_df[MODEL_TO_COL[m]])\n",
    "    coefs[m] = mlr.coef_\n",
    "\n",
    "pd.DataFrame(coefs, index=nlst_democols['num']['smoke']).T"
   ]
  },
  {
   "cell_type": "markdown",
   "metadata": {},
   "source": [
    "## DLCST: load data"
   ]
  },
  {
   "cell_type": "code",
   "execution_count": null,
   "metadata": {},
   "outputs": [],
   "source": [
    "dlcst_preds = pd.read_csv(f\"{EXPERIMENT_DIR}/dlcst/dlcst_thijmen_kiran_sybil_malignancy_estimation_results.csv\", header=0)\n",
    "dlcst_preds.info()"
   ]
  },
  {
   "cell_type": "code",
   "execution_count": null,
   "metadata": {},
   "outputs": [],
   "source": [
    "MODEL_TO_COL_DLCST = {\n",
    "    \"Venkadesh\": \"Ensemble_Kiran\",\n",
    "    \"de Haas\": \"thijmen_mean\",\n",
    "    \"Sybil\": \"sybil_year1\",\n",
    "    \"PanCan2b\": \"PanCan2b\",\n",
    "}"
   ]
  },
  {
   "cell_type": "code",
   "execution_count": null,
   "metadata": {},
   "outputs": [],
   "source": [
    "dlcst_democols = ['Age', 'Sex', 'FamilyHistoryLungCa', 'Emphysema', 'NoduleCountPerScan']"
   ]
  },
  {
   "cell_type": "markdown",
   "metadata": {},
   "source": [
    "## DLCST: How are the columns related with predictions?"
   ]
  },
  {
   "cell_type": "code",
   "execution_count": null,
   "metadata": {},
   "outputs": [],
   "source": [
    "for c in dlcst_democols:\n",
    "    print(f\"{c}: {dlcst_preds[c].isna().sum()} null values\")\n",
    "    display(calc_corr(dlcst_preds, c, MODEL_TO_COL_DLCST))\n",
    "    sns.histplot(dlcst_preds, x=c, bins=25, hue=\"label\", multiple='stack')\n",
    "    sns.pairplot(dlcst_preds, x_vars=MODEL_TO_COL_DLCST.values(), y_vars=c, kind='scatter', height=4, aspect=1)\n",
    "    plt.show()"
   ]
  },
  {
   "cell_type": "code",
   "execution_count": null,
   "metadata": {},
   "outputs": [],
   "source": [
    "mlr = LinearRegression()\n",
    "mlr_df = dlcst_preds.dropna(subset=dlcst_democols, axis=0)\n",
    "coefs = {}\n",
    "\n",
    "for m in MODEL_TO_COL_DLCST:\n",
    "    mlr.fit(mlr_df[dlcst_democols], mlr_df[MODEL_TO_COL_DLCST[m]])\n",
    "    coefs[m] = mlr.coef_\n",
    "\n",
    "pd.DataFrame(coefs, index=dlcst_democols).T"
   ]
  }
 ],
 "metadata": {
  "kernelspec": {
   "display_name": "Python 3",
   "language": "python",
   "name": "python3"
  },
  "language_info": {
   "codemirror_mode": {
    "name": "ipython",
    "version": 3
   },
   "file_extension": ".py",
   "mimetype": "text/x-python",
   "name": "python",
   "nbconvert_exporter": "python",
   "pygments_lexer": "ipython3",
   "version": "3.11.9"
  }
 },
 "nbformat": 4,
 "nbformat_minor": 2
}
