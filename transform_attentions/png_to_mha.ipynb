{
 "cells": [
  {
   "cell_type": "code",
   "execution_count": 1,
   "metadata": {},
   "outputs": [],
   "source": [
    "from PIL import Image\n",
    "import os\n",
    "import matplotlib.pyplot as plt\n",
    "from matplotlib.widgets import Slider\n",
    "import numpy as np\n",
    "import pandas as pd\n",
    "from IPython.display import display, Markdown\n",
    "import SimpleITK as sitk\n",
    "\n",
    "import sys\n",
    "sys.path.append('../../rse-panimg')\n",
    "\n",
    "from pathlib import Path\n",
    "from panimg import convert"
   ]
  },
  {
   "cell_type": "code",
   "execution_count": 19,
   "metadata": {},
   "outputs": [],
   "source": [
    "ATTENTION_PARENT_DIR = f\"V:/experiments/lung-malignancy-fairness-shaurya/nlst/sybil_attentions\"\n",
    "ATTENTION_GIF_DIR_DIR = f\"{ATTENTION_PARENT_DIR}/attention_gifs\"\n",
    "ATTENTION_PNG_DIR_DIR = f\"{ATTENTION_PARENT_DIR}/attention_imgs\"\n",
    "ATTENTION_MHA_DIR_DIR = f\"{ATTENTION_PARENT_DIR}/attention_mha2d\"\n",
    "ATTENTION_MHA3D_DIR   = f\"{ATTENTION_PARENT_DIR}/attention_mha3d_skip2d\""
   ]
  },
  {
   "cell_type": "code",
   "execution_count": 20,
   "metadata": {},
   "outputs": [],
   "source": [
    "os.makedirs(ATTENTION_PNG_DIR_DIR, exist_ok=True)\n",
    "os.makedirs(ATTENTION_MHA_DIR_DIR, exist_ok=True)\n",
    "os.makedirs(ATTENTION_MHA3D_DIR, exist_ok=True)"
   ]
  },
  {
   "cell_type": "code",
   "execution_count": 21,
   "metadata": {},
   "outputs": [
    {
     "data": {
      "text/plain": [
       "['serie_1.2.840.113654.2.55.145385352624582326596824382275465435553',\n",
       " 'serie_1.2.840.113654.2.55.145616115778906978668823205981054792515',\n",
       " 'serie_1.2.840.113654.2.55.158391584353757200962479457670501546291',\n",
       " 'serie_1.2.840.113654.2.55.175702525661871626890784804368160596565',\n",
       " 'serie_1.2.840.113654.2.55.241924049353992159785903857377772231263',\n",
       " 'serie_1.2.840.113654.2.55.248083914288744344546769925024268560749',\n",
       " 'serie_1.2.840.113654.2.55.263132066860645282583134020193623337530',\n",
       " 'serie_1.2.840.113654.2.55.287137212573085949544120272517078094143',\n",
       " 'serie_1.2.840.113654.2.55.55905915368746417680608580988846234578',\n",
       " 'serie_1.2.840.113654.2.55.67095101227495808685302586770473894957',\n",
       " 'serie_1.2.840.113654.2.55.81136962133262551156371928517766508555',\n",
       " 'serie_1.3.6.1.4.1.14519.5.2.1.7009.9004.117168587881036721196334662566',\n",
       " 'serie_1.3.6.1.4.1.14519.5.2.1.7009.9004.145215505102406333449483782713',\n",
       " 'serie_1.3.6.1.4.1.14519.5.2.1.7009.9004.181715871926844141208177392303',\n",
       " 'serie_1.3.6.1.4.1.14519.5.2.1.7009.9004.184145865626087655808498226297',\n",
       " 'serie_1.3.6.1.4.1.14519.5.2.1.7009.9004.216648624768018621300629367171',\n",
       " 'serie_1.3.6.1.4.1.14519.5.2.1.7009.9004.224904739064042290382020225518',\n",
       " 'serie_1.3.6.1.4.1.14519.5.2.1.7009.9004.226300330064379796263332757787',\n",
       " 'serie_1.3.6.1.4.1.14519.5.2.1.7009.9004.265076645294278420451491835992',\n",
       " 'serie_1.3.6.1.4.1.14519.5.2.1.7009.9004.298279943701275302166863540472',\n",
       " 'serie_1.3.6.1.4.1.14519.5.2.1.7009.9004.336832610089461934819661898582',\n",
       " 'serie_1.3.6.1.4.1.14519.5.2.1.7009.9004.351278480511322788417778234687',\n",
       " 'serie_1.3.6.1.4.1.14519.5.2.1.7009.9004.535429846806879730758167799634',\n",
       " 'serie_1.3.6.1.4.1.14519.5.2.1.7009.9004.611567201165109552550650414957',\n",
       " 'serie_1.3.6.1.4.1.14519.5.2.1.7009.9004.652542111531875496786085581001']"
      ]
     },
     "execution_count": 21,
     "metadata": {},
     "output_type": "execute_result"
    }
   ],
   "source": [
    "subfolders = [f[:-4] for f in os.listdir(ATTENTION_GIF_DIR_DIR)]\n",
    "subfolders"
   ]
  },
  {
   "cell_type": "code",
   "execution_count": 13,
   "metadata": {},
   "outputs": [],
   "source": [
    "# for i in range(1):\n",
    "#     seriesid = subfolders[i]\n",
    "#     n_frames = len(os.listdir(f\"{ATTENTION_PNG_DIR_DIR}/{seriesid}\"))\n",
    "#     print(f\"{seriesid}: {n_frames} frames\")\n",
    "#     result = convert(\n",
    "#         input_directory=Path(f\"{ATTENTION_PNG_DIR_DIR}/{seriesid}\"),\n",
    "#         output_directory=Path(f\"{ATTENTION_MHA_DIR_DIR}/{seriesid}\"),\n",
    "#     )\n",
    "#     print(result)"
   ]
  },
  {
   "cell_type": "code",
   "execution_count": 10,
   "metadata": {},
   "outputs": [],
   "source": [
    "def split_gif_to_frames(gif_path, output_folder):\n",
    "    if not os.path.exists(output_folder):\n",
    "        os.makedirs(output_folder)\n",
    "\n",
    "    with Image.open(gif_path) as gif:\n",
    "        frame_count = gif.n_frames\n",
    "        print(f\"Total frames: {frame_count}\")\n",
    "\n",
    "        for frame in range(frame_count):\n",
    "            gif.seek(frame)\n",
    "            frame_filename = os.path.join(output_folder, f\"frame_{frame:03d}.png\")\n",
    "            gif.save(frame_filename, format=\"PNG\")\n",
    "            # print(f\"Saved: {frame_filename}\")"
   ]
  },
  {
   "cell_type": "code",
   "execution_count": 11,
   "metadata": {},
   "outputs": [],
   "source": [
    "def stack_mha_files(input_folder, output_mha_path):\n",
    "    # Get list of MHA files in the folder, sorted by filename (assuming sequential naming)\n",
    "    frame_subdirs = sorted(os.listdir(input_folder))\n",
    "    mha_files = [f'{sd}/{os.listdir(f\"{input_folder}/{sd}\")[0]}' for sd in frame_subdirs][1:]\n",
    "    \n",
    "    # mha_files = sorted([f for f in os.listdir(input_folder) if f.endswith('.mha')])\n",
    "\n",
    "    if not mha_files:\n",
    "        raise ValueError(\"No MHA files found in the provided directory\")\n",
    "\n",
    "    # Read the first MHA file to determine the size and spacing of the slices\n",
    "    first_mha_path = os.path.join(input_folder, mha_files[0])\n",
    "    first_image = sitk.ReadImage(first_mha_path, outputPixelType=sitk.sitkVectorUInt8)\n",
    "    slice_size = first_image.GetSize()  # (width, height, depth)\n",
    "    print(\"slice size:\", slice_size, \", num_components:\", first_image.GetNumberOfComponentsPerPixel())\n",
    "\n",
    "    # Create an empty list to hold the images\n",
    "    image_list = []\n",
    "\n",
    "    # Load each MHA file and append the images to the list\n",
    "    for i, mha_file in enumerate(mha_files):\n",
    "        mha_path = os.path.join(input_folder, mha_file)\n",
    "        img = sitk.ReadImage(mha_path, sitk.sitkVectorUInt8)\n",
    "        # print(\"slice \", i, \" size:\", img.GetSize(), \", num_components:\", img.GetNumberOfComponentsPerPixel())\n",
    "        if img.GetNumberOfComponentsPerPixel() == 3:\n",
    "            image_list.append(img)\n",
    "\n",
    "    # Stack the images along the third dimension (Z-axis)\n",
    "    print(\"number of frames in stack:\", len(image_list))\n",
    "    stacked_image = sitk.JoinSeries(image_list)\n",
    "    stack_size = stacked_image.GetSize()\n",
    "    print(\"stack size:\", stack_size, \", stack n_components:\", stacked_image.GetNumberOfComponentsPerPixel())\n",
    "\n",
    "    # Save the stacked image as a single 3D MHA file\n",
    "    sitk.WriteImage(stacked_image, output_mha_path)\n",
    "    print(f\"Stacked MHA saved as {output_mha_path}\")"
   ]
  },
  {
   "cell_type": "code",
   "execution_count": 12,
   "metadata": {},
   "outputs": [],
   "source": [
    "## SKIP panimg.\n",
    "def stack_png_to_mha(input_folder, output_mha_path):\n",
    "    # Get list of MHA files in the folder, sorted by filename (assuming sequential naming)\n",
    "    # frame_subdirs = sorted(os.listdir(input_folder))\n",
    "    # mha_files = [f'{sd}/{os.listdir(f\"{input_folder}/{sd}\")[0]}' for sd in frame_subdirs][1:]\n",
    "    \n",
    "    png_files = sorted([f for f in os.listdir(input_folder) if f.endswith('.png')])\n",
    "\n",
    "    if not png_files:\n",
    "        raise ValueError(\"No MHA files found in the provided directory\")\n",
    "\n",
    "    # Read the first MHA file to determine the size and spacing of the slices\n",
    "    first_png_path = os.path.join(input_folder, png_files[0])\n",
    "    first_image = sitk.ReadImage(first_png_path, outputPixelType=sitk.sitkVectorUInt8)\n",
    "    slice_size = first_image.GetSize()  # (width, height, depth)\n",
    "    print(\"slice size:\", slice_size, \", num_components:\", first_image.GetNumberOfComponentsPerPixel())\n",
    "\n",
    "    # Create an empty list to hold the images\n",
    "    image_list = []\n",
    "\n",
    "    # Load each PNG file and append the images to the list\n",
    "    for i, png_file in enumerate(png_files):\n",
    "        png_path = os.path.join(input_folder, png_file)\n",
    "        img = sitk.ReadImage(png_path, sitk.sitkVectorUInt8)\n",
    "        # print(\"slice \", i, \" size:\", img.GetSize(), \", num_components:\", img.GetNumberOfComponentsPerPixel())\n",
    "        if img.GetNumberOfComponentsPerPixel() == 3:\n",
    "            image_list.append(img)\n",
    "\n",
    "    # Stack the images along the third dimension (Z-axis)\n",
    "    print(\"number of frames in stack:\", len(image_list))\n",
    "    stacked_image = sitk.JoinSeries(image_list)\n",
    "    stack_size = stacked_image.GetSize()\n",
    "    print(\"stack size:\", stack_size, \", stack n_components:\", stacked_image.GetNumberOfComponentsPerPixel())\n",
    "\n",
    "    # Save the stacked image as a single 3D MHA file\n",
    "    sitk.WriteImage(stacked_image, output_mha_path)\n",
    "    print(f\"Stacked MHA saved as {output_mha_path}\")"
   ]
  },
  {
   "cell_type": "code",
   "execution_count": 16,
   "metadata": {},
   "outputs": [],
   "source": [
    "# for i in range(1):\n",
    "#     seriesid = subfolders[i]\n",
    "#     n_frames = len(os.listdir(f\"{ATTENTION_MHA_DIR_DIR}/{seriesid}\"))\n",
    "#     print(f\"{seriesid}: {n_frames} subfolders\")\n",
    "#     input_folder = f\"{ATTENTION_MHA_DIR_DIR}/{seriesid}\"  # Folder containing the individual MHA slices\n",
    "#     output_mha_path = f\"{ATTENTION_MHA3D_DIR}/{seriesid}.mha\"  # Path to save the stacked MHA file\n",
    "#     stack_mha_files(input_folder, output_mha_path)"
   ]
  },
  {
   "cell_type": "code",
   "execution_count": 22,
   "metadata": {},
   "outputs": [
    {
     "name": "stdout",
     "output_type": "stream",
     "text": [
      "\n",
      "1 / 25: converting serie_1.2.840.113654.2.55.145385352624582326596824382275465435553 ...\n"
     ]
    },
    {
     "ename": "RuntimeError",
     "evalue": "Exception thrown in SimpleITK ImageFileReader_Execute: D:\\a\\SimpleITK\\SimpleITK\\Code\\IO\\src\\sitkImageReaderBase.cxx:99:\nsitk::ERROR: Unable to determine ImageIO reader for \"V:/experiments/lung-malignancy-fairness-shaurya/nlst/sybil_attentions/attention_gifs/serie_1.2.840.113654.2.55.145385352624582326596824382275465435553.gif\"",
     "output_type": "error",
     "traceback": [
      "\u001b[1;31m---------------------------------------------------------------------------\u001b[0m",
      "\u001b[1;31mRuntimeError\u001b[0m                              Traceback (most recent call last)",
      "\u001b[1;32m~\\AppData\\Local\\Temp\\ipykernel_24256\\3520696419.py\u001b[0m in \u001b[0;36m?\u001b[1;34m()\u001b[0m\n\u001b[0;32m     19\u001b[0m \u001b[1;33m\u001b[0m\u001b[0m\n\u001b[0;32m     20\u001b[0m     \u001b[1;31m# input_folder = f\"{ATTENTION_MHA_DIR_DIR}/{seriesid}\"  # Folder containing the individual MHA slices\u001b[0m\u001b[1;33m\u001b[0m\u001b[1;33m\u001b[0m\u001b[0m\n\u001b[0;32m     21\u001b[0m     \u001b[0moutput_mha_path\u001b[0m \u001b[1;33m=\u001b[0m \u001b[1;34mf\"{ATTENTION_MHA3D_DIR}/{seriesid}.mha\"\u001b[0m  \u001b[1;31m# Path to save the stacked MHA file\u001b[0m\u001b[1;33m\u001b[0m\u001b[1;33m\u001b[0m\u001b[0m\n\u001b[0;32m     22\u001b[0m     \u001b[1;31m# stack_png_to_mha(png_folder, output_mha_path)\u001b[0m\u001b[1;33m\u001b[0m\u001b[1;33m\u001b[0m\u001b[0m\n\u001b[1;32m---> 23\u001b[1;33m     \u001b[0mgif_to_mha\u001b[0m\u001b[1;33m(\u001b[0m\u001b[0mgif_path\u001b[0m\u001b[1;33m,\u001b[0m \u001b[0moutput_mha_path\u001b[0m\u001b[1;33m)\u001b[0m\u001b[1;33m\u001b[0m\u001b[1;33m\u001b[0m\u001b[0m\n\u001b[0m",
      "\u001b[1;32m~\\AppData\\Local\\Temp\\ipykernel_24256\\326679811.py\u001b[0m in \u001b[0;36m?\u001b[1;34m(input_gif_path, output_mha_path)\u001b[0m\n\u001b[0;32m      1\u001b[0m \u001b[1;32mdef\u001b[0m \u001b[0mgif_to_mha\u001b[0m\u001b[1;33m(\u001b[0m\u001b[0minput_gif_path\u001b[0m\u001b[1;33m,\u001b[0m \u001b[0moutput_mha_path\u001b[0m\u001b[1;33m)\u001b[0m\u001b[1;33m:\u001b[0m\u001b[1;33m\u001b[0m\u001b[1;33m\u001b[0m\u001b[0m\n\u001b[1;32m----> 2\u001b[1;33m     \u001b[0mgif_image\u001b[0m \u001b[1;33m=\u001b[0m \u001b[0msitk\u001b[0m\u001b[1;33m.\u001b[0m\u001b[0mReadImage\u001b[0m\u001b[1;33m(\u001b[0m\u001b[0minput_gif_path\u001b[0m\u001b[1;33m)\u001b[0m\u001b[1;33m\u001b[0m\u001b[1;33m\u001b[0m\u001b[0m\n\u001b[0m\u001b[0;32m      3\u001b[0m     \u001b[0mslice_size\u001b[0m \u001b[1;33m=\u001b[0m \u001b[0mgif_image\u001b[0m\u001b[1;33m.\u001b[0m\u001b[0mGetSize\u001b[0m\u001b[1;33m(\u001b[0m\u001b[1;33m)\u001b[0m  \u001b[1;31m# (width, height, depth)\u001b[0m\u001b[1;33m\u001b[0m\u001b[1;33m\u001b[0m\u001b[0m\n\u001b[0;32m      4\u001b[0m     \u001b[0mprint\u001b[0m\u001b[1;33m(\u001b[0m\u001b[1;34m\"gif size:\"\u001b[0m\u001b[1;33m,\u001b[0m \u001b[0mslice_size\u001b[0m\u001b[1;33m,\u001b[0m \u001b[1;34m\", num_components:\"\u001b[0m\u001b[1;33m,\u001b[0m \u001b[0mgif_image\u001b[0m\u001b[1;33m.\u001b[0m\u001b[0mGetNumberOfComponentsPerPixel\u001b[0m\u001b[1;33m(\u001b[0m\u001b[1;33m)\u001b[0m\u001b[1;33m)\u001b[0m\u001b[1;33m\u001b[0m\u001b[1;33m\u001b[0m\u001b[0m\n\u001b[0;32m      5\u001b[0m     \u001b[0msitk\u001b[0m\u001b[1;33m.\u001b[0m\u001b[0mWriteImage\u001b[0m\u001b[1;33m(\u001b[0m\u001b[0mgif_image\u001b[0m\u001b[1;33m,\u001b[0m \u001b[0moutput_mha_path\u001b[0m\u001b[1;33m)\u001b[0m\u001b[1;33m\u001b[0m\u001b[1;33m\u001b[0m\u001b[0m\n",
      "\u001b[1;32m~\\AppData\\Local\\Packages\\PythonSoftwareFoundation.Python.3.11_qbz5n2kfra8p0\\LocalCache\\local-packages\\Python311\\site-packages\\SimpleITK\\extra.py\u001b[0m in \u001b[0;36m?\u001b[1;34m(fileName, outputPixelType, imageIO)\u001b[0m\n\u001b[0;32m    380\u001b[0m         \u001b[0mreader\u001b[0m\u001b[1;33m.\u001b[0m\u001b[0mSetFileNames\u001b[0m\u001b[1;33m(\u001b[0m\u001b[0mfileName\u001b[0m\u001b[1;33m)\u001b[0m\u001b[1;33m\u001b[0m\u001b[1;33m\u001b[0m\u001b[0m\n\u001b[0;32m    381\u001b[0m \u001b[1;33m\u001b[0m\u001b[0m\n\u001b[0;32m    382\u001b[0m     \u001b[0mreader\u001b[0m\u001b[1;33m.\u001b[0m\u001b[0mSetImageIO\u001b[0m\u001b[1;33m(\u001b[0m\u001b[0mimageIO\u001b[0m\u001b[1;33m)\u001b[0m\u001b[1;33m\u001b[0m\u001b[1;33m\u001b[0m\u001b[0m\n\u001b[0;32m    383\u001b[0m     \u001b[0mreader\u001b[0m\u001b[1;33m.\u001b[0m\u001b[0mSetOutputPixelType\u001b[0m\u001b[1;33m(\u001b[0m\u001b[0moutputPixelType\u001b[0m\u001b[1;33m)\u001b[0m\u001b[1;33m\u001b[0m\u001b[1;33m\u001b[0m\u001b[0m\n\u001b[1;32m--> 384\u001b[1;33m     \u001b[1;32mreturn\u001b[0m \u001b[0mreader\u001b[0m\u001b[1;33m.\u001b[0m\u001b[0mExecute\u001b[0m\u001b[1;33m(\u001b[0m\u001b[1;33m)\u001b[0m\u001b[1;33m\u001b[0m\u001b[1;33m\u001b[0m\u001b[0m\n\u001b[0m",
      "\u001b[1;32m~\\AppData\\Local\\Packages\\PythonSoftwareFoundation.Python.3.11_qbz5n2kfra8p0\\LocalCache\\local-packages\\Python311\\site-packages\\SimpleITK\\SimpleITK.py\u001b[0m in \u001b[0;36m?\u001b[1;34m(self)\u001b[0m\n\u001b[0;32m   8498\u001b[0m         \u001b[0mtype\u001b[0m \u001b[0mto\u001b[0m \u001b[0mbe\u001b[0m \u001b[0msame\u001b[0m \u001b[1;32mas\u001b[0m \u001b[0mthe\u001b[0m \u001b[0mfile\u001b[0m\u001b[1;33m.\u001b[0m \u001b[0mIf\u001b[0m \u001b[0mthe\u001b[0m \u001b[0mpixel\u001b[0m \u001b[0mtype\u001b[0m \u001b[1;32mis\u001b[0m \u001b[0mspecified\u001b[0m \u001b[0mthen\u001b[0m \u001b[0mthe\u001b[0m \u001b[0mitk\u001b[0m\u001b[1;33m:\u001b[0m\u001b[1;33m:\u001b[0m\u001b[0mConvertPixelBuffer\u001b[0m \u001b[0mwill\u001b[0m \u001b[0mbe\u001b[0m \u001b[0mused\u001b[0m \u001b[0mto\u001b[0m \u001b[0mconvert\u001b[0m \u001b[0mthe\u001b[0m \u001b[0mpixels\u001b[0m\u001b[1;33m.\u001b[0m\u001b[1;33m\u001b[0m\u001b[1;33m\u001b[0m\u001b[0m\n\u001b[0;32m   8499\u001b[0m \u001b[1;33m\u001b[0m\u001b[0m\n\u001b[0;32m   8500\u001b[0m \u001b[1;33m\u001b[0m\u001b[0m\n\u001b[0;32m   8501\u001b[0m         \"\"\"\n\u001b[1;32m-> 8502\u001b[1;33m         \u001b[1;32mreturn\u001b[0m \u001b[0m_SimpleITK\u001b[0m\u001b[1;33m.\u001b[0m\u001b[0mImageFileReader_Execute\u001b[0m\u001b[1;33m(\u001b[0m\u001b[0mself\u001b[0m\u001b[1;33m)\u001b[0m\u001b[1;33m\u001b[0m\u001b[1;33m\u001b[0m\u001b[0m\n\u001b[0m",
      "\u001b[1;31mRuntimeError\u001b[0m: Exception thrown in SimpleITK ImageFileReader_Execute: D:\\a\\SimpleITK\\SimpleITK\\Code\\IO\\src\\sitkImageReaderBase.cxx:99:\nsitk::ERROR: Unable to determine ImageIO reader for \"V:/experiments/lung-malignancy-fairness-shaurya/nlst/sybil_attentions/attention_gifs/serie_1.2.840.113654.2.55.145385352624582326596824382275465435553.gif\""
     ]
    }
   ],
   "source": [
    "# for i in range(44, len(subfolders)):\n",
    "for i in range(1):\n",
    "    seriesid = subfolders[i]\n",
    "    print(f\"\\n{i+1} / {len(subfolders)}: converting {seriesid} ...\")\n",
    "    \n",
    "    gif_path = f\"{ATTENTION_GIF_DIR_DIR}/{seriesid}.gif\"\n",
    "    png_folder = f\"{ATTENTION_PNG_DIR_DIR}/{seriesid}\"\n",
    "    split_gif_to_frames(gif_path, png_folder)\n",
    "    n_frames = len(os.listdir(f\"{ATTENTION_PNG_DIR_DIR}/{seriesid}\"))\n",
    "    print(f\"{n_frames} frames\")\n",
    "\n",
    "    # result = convert(\n",
    "    #     input_directory=Path(f\"{ATTENTION_PNG_DIR_DIR}/{seriesid}\"),\n",
    "    #     output_directory=Path(f\"{ATTENTION_MHA_DIR_DIR}/{seriesid}\"),\n",
    "    # )\n",
    "    # print(result)\n",
    "    # n_frames = len(os.listdir(f\"{ATTENTION_MHA_DIR_DIR}/{seriesid}\"))\n",
    "    # print(f\"{n_frames} subfolders\")\n",
    "\n",
    "    # input_folder = f\"{ATTENTION_MHA_DIR_DIR}/{seriesid}\"  # Folder containing the individual MHA slices\n",
    "    output_mha_path = f\"{ATTENTION_MHA3D_DIR}/{seriesid}.mha\"  # Path to save the stacked MHA file\n",
    "    stack_png_to_mha(png_folder, output_mha_path)"
   ]
  }
 ],
 "metadata": {
  "kernelspec": {
   "display_name": "Python 3",
   "language": "python",
   "name": "python3"
  },
  "language_info": {
   "codemirror_mode": {
    "name": "ipython",
    "version": 3
   },
   "file_extension": ".py",
   "mimetype": "text/x-python",
   "name": "python",
   "nbconvert_exporter": "python",
   "pygments_lexer": "ipython3",
   "version": "3.11.9"
  }
 },
 "nbformat": 4,
 "nbformat_minor": 2
}
