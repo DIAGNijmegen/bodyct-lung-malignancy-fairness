{
 "cells": [
  {
   "cell_type": "code",
   "execution_count": 1,
   "metadata": {},
   "outputs": [],
   "source": [
    "from PIL import Image\n",
    "import os\n",
    "import matplotlib.pyplot as plt\n",
    "from matplotlib.widgets import Slider\n",
    "import numpy as np\n",
    "import pandas as pd\n",
    "from IPython.display import display, Markdown\n",
    "import SimpleITK as sitk\n",
    "\n",
    "import sys\n",
    "sys.path.append('../../rse-panimg')\n",
    "\n",
    "from pathlib import Path\n",
    "from panimg import convert"
   ]
  },
  {
   "cell_type": "code",
   "execution_count": 19,
   "metadata": {},
   "outputs": [],
   "source": [
    "ATTENTION_PARENT_DIR = f\"V:/experiments/lung-malignancy-fairness-shaurya/nlst/sybil_attentions\"\n",
    "ATTENTION_GIF_DIR_DIR = f\"{ATTENTION_PARENT_DIR}/attention_gifs\"\n",
    "ATTENTION_PNG_DIR_DIR = f\"{ATTENTION_PARENT_DIR}/attention_imgs\"\n",
    "ATTENTION_MHA_DIR_DIR = f\"{ATTENTION_PARENT_DIR}/attention_mha2d\"\n",
    "ATTENTION_MHA3D_DIR   = f\"{ATTENTION_PARENT_DIR}/attention_mha3d_skip2d\""
   ]
  },
  {
   "cell_type": "code",
   "execution_count": 20,
   "metadata": {},
   "outputs": [],
   "source": [
    "os.makedirs(ATTENTION_PNG_DIR_DIR, exist_ok=True)\n",
    "os.makedirs(ATTENTION_MHA_DIR_DIR, exist_ok=True)\n",
    "os.makedirs(ATTENTION_MHA3D_DIR, exist_ok=True)"
   ]
  },
  {
   "cell_type": "code",
   "execution_count": null,
   "metadata": {},
   "outputs": [],
   "source": [
    "subfolders = [f[:-4] for f in os.listdir(ATTENTION_GIF_DIR_DIR)]"
   ]
  },
  {
   "cell_type": "code",
   "execution_count": 13,
   "metadata": {},
   "outputs": [],
   "source": [
    "# for i in range(1):\n",
    "#     seriesid = subfolders[i]\n",
    "#     n_frames = len(os.listdir(f\"{ATTENTION_PNG_DIR_DIR}/{seriesid}\"))\n",
    "#     print(f\"{seriesid}: {n_frames} frames\")\n",
    "#     result = convert(\n",
    "#         input_directory=Path(f\"{ATTENTION_PNG_DIR_DIR}/{seriesid}\"),\n",
    "#         output_directory=Path(f\"{ATTENTION_MHA_DIR_DIR}/{seriesid}\"),\n",
    "#     )\n",
    "#     print(result)"
   ]
  },
  {
   "cell_type": "code",
   "execution_count": 10,
   "metadata": {},
   "outputs": [],
   "source": [
    "def split_gif_to_frames(gif_path, output_folder):\n",
    "    if not os.path.exists(output_folder):\n",
    "        os.makedirs(output_folder)\n",
    "\n",
    "    with Image.open(gif_path) as gif:\n",
    "        frame_count = gif.n_frames\n",
    "        print(f\"Total frames: {frame_count}\")\n",
    "\n",
    "        for frame in range(frame_count):\n",
    "            gif.seek(frame)\n",
    "            frame_filename = os.path.join(output_folder, f\"frame_{frame:03d}.png\")\n",
    "            gif.save(frame_filename, format=\"PNG\")\n",
    "            # print(f\"Saved: {frame_filename}\")"
   ]
  },
  {
   "cell_type": "code",
   "execution_count": 11,
   "metadata": {},
   "outputs": [],
   "source": [
    "def stack_mha_files(input_folder, output_mha_path):\n",
    "    # Get list of MHA files in the folder, sorted by filename (assuming sequential naming)\n",
    "    frame_subdirs = sorted(os.listdir(input_folder))\n",
    "    mha_files = [f'{sd}/{os.listdir(f\"{input_folder}/{sd}\")[0]}' for sd in frame_subdirs][1:]\n",
    "    \n",
    "    # mha_files = sorted([f for f in os.listdir(input_folder) if f.endswith('.mha')])\n",
    "\n",
    "    if not mha_files:\n",
    "        raise ValueError(\"No MHA files found in the provided directory\")\n",
    "\n",
    "    # Read the first MHA file to determine the size and spacing of the slices\n",
    "    first_mha_path = os.path.join(input_folder, mha_files[0])\n",
    "    first_image = sitk.ReadImage(first_mha_path, outputPixelType=sitk.sitkVectorUInt8)\n",
    "    slice_size = first_image.GetSize()  # (width, height, depth)\n",
    "    print(\"slice size:\", slice_size, \", num_components:\", first_image.GetNumberOfComponentsPerPixel())\n",
    "\n",
    "    # Create an empty list to hold the images\n",
    "    image_list = []\n",
    "\n",
    "    # Load each MHA file and append the images to the list\n",
    "    for i, mha_file in enumerate(mha_files):\n",
    "        mha_path = os.path.join(input_folder, mha_file)\n",
    "        img = sitk.ReadImage(mha_path, sitk.sitkVectorUInt8)\n",
    "        # print(\"slice \", i, \" size:\", img.GetSize(), \", num_components:\", img.GetNumberOfComponentsPerPixel())\n",
    "        if img.GetNumberOfComponentsPerPixel() == 3:\n",
    "            image_list.append(img)\n",
    "\n",
    "    # Stack the images along the third dimension (Z-axis)\n",
    "    print(\"number of frames in stack:\", len(image_list))\n",
    "    stacked_image = sitk.JoinSeries(image_list)\n",
    "    stack_size = stacked_image.GetSize()\n",
    "    print(\"stack size:\", stack_size, \", stack n_components:\", stacked_image.GetNumberOfComponentsPerPixel())\n",
    "\n",
    "    # Save the stacked image as a single 3D MHA file\n",
    "    sitk.WriteImage(stacked_image, output_mha_path)\n",
    "    print(f\"Stacked MHA saved as {output_mha_path}\")"
   ]
  },
  {
   "cell_type": "code",
   "execution_count": 12,
   "metadata": {},
   "outputs": [],
   "source": [
    "## SKIP panimg.\n",
    "def stack_png_to_mha(input_folder, output_mha_path):\n",
    "    # Get list of MHA files in the folder, sorted by filename (assuming sequential naming)\n",
    "    # frame_subdirs = sorted(os.listdir(input_folder))\n",
    "    # mha_files = [f'{sd}/{os.listdir(f\"{input_folder}/{sd}\")[0]}' for sd in frame_subdirs][1:]\n",
    "    \n",
    "    png_files = sorted([f for f in os.listdir(input_folder) if f.endswith('.png')])\n",
    "\n",
    "    if not png_files:\n",
    "        raise ValueError(\"No MHA files found in the provided directory\")\n",
    "\n",
    "    # Read the first MHA file to determine the size and spacing of the slices\n",
    "    first_png_path = os.path.join(input_folder, png_files[0])\n",
    "    first_image = sitk.ReadImage(first_png_path, outputPixelType=sitk.sitkVectorUInt8)\n",
    "    slice_size = first_image.GetSize()  # (width, height, depth)\n",
    "    print(\"slice size:\", slice_size, \", num_components:\", first_image.GetNumberOfComponentsPerPixel())\n",
    "\n",
    "    # Create an empty list to hold the images\n",
    "    image_list = []\n",
    "\n",
    "    # Load each PNG file and append the images to the list\n",
    "    for i, png_file in enumerate(png_files):\n",
    "        png_path = os.path.join(input_folder, png_file)\n",
    "        img = sitk.ReadImage(png_path, sitk.sitkVectorUInt8)\n",
    "        # print(\"slice \", i, \" size:\", img.GetSize(), \", num_components:\", img.GetNumberOfComponentsPerPixel())\n",
    "        if img.GetNumberOfComponentsPerPixel() == 3:\n",
    "            image_list.append(img)\n",
    "\n",
    "    # Stack the images along the third dimension (Z-axis)\n",
    "    print(\"number of frames in stack:\", len(image_list))\n",
    "    stacked_image = sitk.JoinSeries(image_list)\n",
    "    stack_size = stacked_image.GetSize()\n",
    "    print(\"stack size:\", stack_size, \", stack n_components:\", stacked_image.GetNumberOfComponentsPerPixel())\n",
    "\n",
    "    # Save the stacked image as a single 3D MHA file\n",
    "    sitk.WriteImage(stacked_image, output_mha_path)\n",
    "    print(f\"Stacked MHA saved as {output_mha_path}\")"
   ]
  },
  {
   "cell_type": "code",
   "execution_count": 16,
   "metadata": {},
   "outputs": [],
   "source": [
    "# for i in range(1):\n",
    "#     seriesid = subfolders[i]\n",
    "#     n_frames = len(os.listdir(f\"{ATTENTION_MHA_DIR_DIR}/{seriesid}\"))\n",
    "#     print(f\"{seriesid}: {n_frames} subfolders\")\n",
    "#     input_folder = f\"{ATTENTION_MHA_DIR_DIR}/{seriesid}\"  # Folder containing the individual MHA slices\n",
    "#     output_mha_path = f\"{ATTENTION_MHA3D_DIR}/{seriesid}.mha\"  # Path to save the stacked MHA file\n",
    "#     stack_mha_files(input_folder, output_mha_path)"
   ]
  },
  {
   "cell_type": "code",
   "execution_count": null,
   "metadata": {},
   "outputs": [],
   "source": [
    "# for i in range(44, len(subfolders)):\n",
    "for i in range(1):\n",
    "    seriesid = subfolders[i]\n",
    "    print(f\"\\n{i+1} / {len(subfolders)}: converting ...\")\n",
    "    \n",
    "    gif_path = f\"{ATTENTION_GIF_DIR_DIR}/{seriesid}.gif\"\n",
    "    png_folder = f\"{ATTENTION_PNG_DIR_DIR}/{seriesid}\"\n",
    "    split_gif_to_frames(gif_path, png_folder)\n",
    "    n_frames = len(os.listdir(f\"{ATTENTION_PNG_DIR_DIR}/{seriesid}\"))\n",
    "    print(f\"{n_frames} frames\")\n",
    "\n",
    "    # result = convert(\n",
    "    #     input_directory=Path(f\"{ATTENTION_PNG_DIR_DIR}/{seriesid}\"),\n",
    "    #     output_directory=Path(f\"{ATTENTION_MHA_DIR_DIR}/{seriesid}\"),\n",
    "    # )\n",
    "    # print(result)\n",
    "    # n_frames = len(os.listdir(f\"{ATTENTION_MHA_DIR_DIR}/{seriesid}\"))\n",
    "    # print(f\"{n_frames} subfolders\")\n",
    "\n",
    "    # input_folder = f\"{ATTENTION_MHA_DIR_DIR}/{seriesid}\"  # Folder containing the individual MHA slices\n",
    "    output_mha_path = f\"{ATTENTION_MHA3D_DIR}/{seriesid}.mha\"  # Path to save the stacked MHA file\n",
    "    stack_png_to_mha(png_folder, output_mha_path)"
   ]
  }
 ],
 "metadata": {
  "kernelspec": {
   "display_name": "Python 3",
   "language": "python",
   "name": "python3"
  },
  "language_info": {
   "codemirror_mode": {
    "name": "ipython",
    "version": 3
   },
   "file_extension": ".py",
   "mimetype": "text/x-python",
   "name": "python",
   "nbconvert_exporter": "python",
   "pygments_lexer": "ipython3",
   "version": "3.11.9"
  }
 },
 "nbformat": 4,
 "nbformat_minor": 2
}
