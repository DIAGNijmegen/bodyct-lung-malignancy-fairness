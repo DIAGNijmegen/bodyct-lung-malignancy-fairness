{
 "cells": [
  {
   "cell_type": "code",
   "execution_count": 1,
   "metadata": {},
   "outputs": [],
   "source": [
    "from PIL import Image\n",
    "import os\n",
    "import matplotlib.pyplot as plt\n",
    "from matplotlib.widgets import Slider\n",
    "import numpy as np\n",
    "import pandas as pd\n",
    "from IPython.display import display, Markdown\n",
    "\n",
    "ATTENTION_GIF_DIR_DIR = f\"V:/experiments/lung-malignancy-fairness-shaurya/nlst/sybil_attentions/attention\"\n",
    "ATTENTION_IMG_DIR = f\"V:/experiments/lung-malignancy-fairness-shaurya/nlst/sybil_attentions/attention_imgs\""
   ]
  },
  {
   "cell_type": "code",
   "execution_count": 2,
   "metadata": {},
   "outputs": [],
   "source": [
    "%matplotlib notebook"
   ]
  },
  {
   "cell_type": "code",
   "execution_count": null,
   "metadata": {},
   "outputs": [],
   "source": [
    "def split_gif_to_frames(gif_path, output_folder):\n",
    "    if not os.path.exists(output_folder):\n",
    "        os.makedirs(output_folder)\n",
    "\n",
    "    with Image.open(gif_path) as gif:\n",
    "        frame_count = gif.n_frames\n",
    "        print(f\"Total frames: {frame_count}\")\n",
    "\n",
    "        for frame in range(frame_count):\n",
    "            gif.seek(frame)\n",
    "            frame_filename = os.path.join(output_folder, f\"frame_{frame:03d}.png\")\n",
    "            gif.save(frame_filename, format=\"PNG\")\n",
    "            print(f\"Saved: {frame}\")"
   ]
  },
  {
   "cell_type": "code",
   "execution_count": 3,
   "metadata": {},
   "outputs": [],
   "source": [
    "subfolders = os.listdir(ATTENTION_GIF_DIR_DIR)"
   ]
  },
  {
   "cell_type": "code",
   "execution_count": 4,
   "metadata": {},
   "outputs": [],
   "source": [
    "os.makedirs(ATTENTION_IMG_DIR)"
   ]
  },
  {
   "cell_type": "code",
   "execution_count": null,
   "metadata": {},
   "outputs": [],
   "source": [
    "for i, sub in enumerate(subfolders):\n",
    "    gif_path = f\"{ATTENTION_GIF_DIR_DIR}/{sub}/{sub}.gif\"\n",
    "    output_folder = f\"{ATTENTION_IMG_DIR}/{sub}\"\n",
    "    print(f\"{i+1} / {len(subfolders)} ...\")\n",
    "    split_gif_to_frames(gif_path, output_folder)"
   ]
  }
 ],
 "metadata": {
  "kernelspec": {
   "display_name": "Python 3",
   "language": "python",
   "name": "python3"
  },
  "language_info": {
   "codemirror_mode": {
    "name": "ipython",
    "version": 3
   },
   "file_extension": ".py",
   "mimetype": "text/x-python",
   "name": "python",
   "nbconvert_exporter": "python",
   "pygments_lexer": "ipython3",
   "version": "3.11.9"
  }
 },
 "nbformat": 4,
 "nbformat_minor": 4
}
