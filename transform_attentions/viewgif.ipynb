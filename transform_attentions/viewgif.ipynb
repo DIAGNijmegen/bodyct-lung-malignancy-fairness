{
 "cells": [
  {
   "cell_type": "code",
   "execution_count": 1,
   "metadata": {},
   "outputs": [],
   "source": [
    "import PIL as pillow\n",
    "import os\n",
    "import matplotlib.pyplot as plt\n",
    "from matplotlib.widgets import Slider\n",
    "import numpy as np\n",
    "import pandas as pd\n",
    "from IPython.display import display, Markdown\n",
    "import SimpleITK as sitk\n",
    "\n",
    "ATTENTION_GIF_DIR_DIR = f\"V:/experiments/lung-malignancy-fairness-shaurya/nlst/sybil_attentions/attention\"\n",
    "ATTENTION_IMG_DIR = f\"V:/experiments/lung-malignancy-fairness-shaurya/nlst/sybil_attentions/attention_imgs\""
   ]
  },
  {
   "cell_type": "code",
   "execution_count": 2,
   "metadata": {},
   "outputs": [],
   "source": [
    "%matplotlib widget"
   ]
  },
  {
   "cell_type": "code",
   "execution_count": 3,
   "metadata": {},
   "outputs": [],
   "source": [
    "def get_frames_from_gif(gif_path):\n",
    "    gif = pillow.Image.open(gif_path)\n",
    "    frames = []\n",
    "    while True:\n",
    "        frames.append(np.array(gif))\n",
    "        try:\n",
    "            gif.seek(gif.tell() + 1)\n",
    "        except EOFError:\n",
    "            break\n",
    "    \n",
    "    return frames"
   ]
  },
  {
   "cell_type": "code",
   "execution_count": 9,
   "metadata": {},
   "outputs": [],
   "source": [
    "def get_frames_from_mha(mha_path):\n",
    "    img = sitk.ReadImage(mha_path, outputPixelType=sitk.sitkVectorUInt8)\n",
    "    print(img.GetSize())\n",
    "    arr = sitk.GetArrayFromImage(img)\n",
    "    return arr"
   ]
  },
  {
   "cell_type": "code",
   "execution_count": 5,
   "metadata": {},
   "outputs": [],
   "source": [
    "def show_gif_slider(path, seriesuid):\n",
    "    # Load the GIF using PIL (Pillow)\n",
    "    # frames = get_frames_from_gif(path)\n",
    "    frames = get_frames_from_mha(path)\n",
    "\n",
    "    # Number of frames in the GIF\n",
    "    num_frames = len(frames)\n",
    "\n",
    "    fig, ax = plt.subplots(figsize=(6, 6))\n",
    "    plt.subplots_adjust(bottom=0.25)\n",
    "    im = ax.imshow(frames[0], cmap='gray')\n",
    "\n",
    "    ax.axis('off')\n",
    "\n",
    "    # Add the slider\n",
    "    ax_slider = plt.axes([0.1, 0.02, 0.8, 0.03], facecolor='lightgoldenrodyellow')\n",
    "    slider = Slider(ax_slider, 'Frame', 0, num_frames-1, valinit=0, valstep=1)\n",
    "\n",
    "    # Update function for the slider\n",
    "    def update(val):\n",
    "        frame_idx = int(slider.val)\n",
    "        im.set_data(frames[frame_idx])\n",
    "        fig.canvas.draw_idle()\n",
    "\n",
    "    # Attach the update function to the slider\n",
    "    slider.on_changed(update)\n",
    "    plt.show()"
   ]
  },
  {
   "cell_type": "markdown",
   "metadata": {},
   "source": [
    "Scroll code (from Tijmen's repository)."
   ]
  },
  {
   "cell_type": "code",
   "execution_count": 6,
   "metadata": {},
   "outputs": [],
   "source": [
    "def show_gif_scroll(gif_path):\n",
    "    frames = get_frames_from_gif(gif_path)\n",
    "    fig, ax = plt.subplots(1, 1)\n",
    "    tracker = IndexTracker(ax, frames)\n",
    "    fig.canvas.mpl_connect('scroll_event', tracker.onscroll)\n",
    "    plt.show()\n",
    "\n",
    "class IndexTracker(object):\n",
    "    def __init__(self, ax, X):\n",
    "        self.ax = ax\n",
    "        ax.set_title('use scroll wheel to navigate images')\n",
    "\n",
    "        self.X = X\n",
    "        self.slices = len(X)\n",
    "        self.ind = self.slices // 2\n",
    "\n",
    "        self.im = ax.imshow(self.X[self.ind], cmap=\"gray\")\n",
    "        self.update()\n",
    "\n",
    "    def onscroll(self, event):\n",
    "        print(\"%s %s\" % (event.button, event.step))\n",
    "        if event.button == 'up':\n",
    "            self.ind = (self.ind + 1) % self.slices\n",
    "        else:\n",
    "            self.ind = (self.ind - 1) % self.slices\n",
    "        self.update()\n",
    "\n",
    "    def update(self):\n",
    "        self.im.set_data(self.X[self.ind])\n",
    "        self.ax.set_ylabel('slice %s' % self.ind)\n",
    "        self.im.axes.figure.canvas.draw()"
   ]
  },
  {
   "cell_type": "code",
   "execution_count": 7,
   "metadata": {},
   "outputs": [],
   "source": [
    "df = pd.read_csv(f\"V:/experiments/lung-malignancy-fairness-shaurya/nlst/sybil_fn_brock_top25.csv\")"
   ]
  },
  {
   "cell_type": "code",
   "execution_count": 11,
   "metadata": {},
   "outputs": [
    {
     "data": {
      "text/markdown": [
       "### 1.2.840.113654.2.55.241924049353992159785903857377772231263"
      ],
      "text/plain": [
       "<IPython.core.display.Markdown object>"
      ]
     },
     "metadata": {},
     "output_type": "display_data"
    },
    {
     "data": {
      "text/plain": [
       "Age                         58\n",
       "Gender                       1\n",
       "race                       1.0\n",
       "FamilyHistoryLungCa      False\n",
       "Emphysema                 True\n",
       "Diameter [mm]             63.1\n",
       "NoduleInUpperLung        False\n",
       "PartSolid                False\n",
       "NoduleCounts                 3\n",
       "Spiculation              False\n",
       "CoordX                   41.33\n",
       "CoordY                   70.42\n",
       "CoordZ                 1487.98\n",
       "loclup                     0.0\n",
       "locrup                     0.0\n",
       "Name: 0, dtype: object"
      ]
     },
     "metadata": {},
     "output_type": "display_data"
    },
    {
     "name": "stdout",
     "output_type": "stream",
     "text": [
      "VectorImage (00000209D2488F40)\n",
      "  RTTI typeinfo:   class itk::VectorImage<unsigned char,3>\n",
      "  Reference Count: 1\n",
      "  Modified Time: 2336\n",
      "  Debug: Off\n",
      "  Object Name: \n",
      "  Observers: \n",
      "    none\n",
      "  Source: (none)\n",
      "  Source output name: (none)\n",
      "  Release Data: Off\n",
      "  Data Released: False\n",
      "  Global Release Data: Off\n",
      "  PipelineMTime: 2308\n",
      "  UpdateMTime: 2332\n",
      "  RealTimeStamp: 0 seconds \n",
      "  LargestPossibleRegion: \n",
      "    Dimension: 3\n",
      "    Index: [0, 0, 0]\n",
      "    Size: [3, 512, 512]\n",
      "  BufferedRegion: \n",
      "    Dimension: 3\n",
      "    Index: [0, 0, 0]\n",
      "    Size: [3, 512, 512]\n",
      "  RequestedRegion: \n",
      "    Dimension: 3\n",
      "    Index: [0, 0, 0]\n",
      "    Size: [3, 512, 512]\n",
      "  Spacing: [1, 1, 1]\n",
      "  Origin: [0, 0, 0]\n",
      "  Direction: \n",
      "1 0 0\n",
      "0 1 0\n",
      "0 0 1\n",
      "\n",
      "  IndexToPointMatrix: \n",
      "1 0 0\n",
      "0 1 0\n",
      "0 0 1\n",
      "\n",
      "  PointToIndexMatrix: \n",
      "1 0 0\n",
      "0 1 0\n",
      "0 0 1\n",
      "\n",
      "  Inverse Direction: \n",
      "1 0 0\n",
      "0 1 0\n",
      "0 0 1\n",
      "\n",
      "  VectorLength: 1\n",
      "  PixelContainer: \n",
      "    ImportImageContainer (00000209D2C281B0)\n",
      "      RTTI typeinfo:   class itk::ImportImageContainer<unsigned __int64,unsigned char>\n",
      "      Reference Count: 1\n",
      "      Modified Time: 2329\n",
      "      Debug: Off\n",
      "      Object Name: \n",
      "      Observers: \n",
      "        none\n",
      "      Pointer: 00000209BF010000\n",
      "      Container manages memory: true\n",
      "      Size: 786432\n",
      "      Capacity: 786432\n",
      "\n",
      "(3, 512, 512)\n"
     ]
    },
    {
     "data": {
      "application/vnd.jupyter.widget-view+json": {
       "model_id": "d8019a21cb5b4fd1903357b661fde789",
       "version_major": 2,
       "version_minor": 0
      },
      "image/png": "[encoded data removed]",
      "text/html": [
       "\n",
       "            <div style=\"display: inline-block;\">\n",
       "                <div class=\"jupyter-widgets widget-label\" style=\"text-align: center;\">\n",
       "                    Figure\n",
       "                </div>\n",
       "                <img src='data:image/png;base64,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' width=600.0/>\n",
       "            </div>\n",
       "        "
      ],
      "text/plain": [
       "Canvas(toolbar=Toolbar(toolitems=[('Home', 'Reset original view', 'home', 'home'), ('Back', 'Back to previous …"
      ]
     },
     "metadata": {},
     "output_type": "display_data"
    }
   ],
   "source": [
    "pancan_cols = ['Age', 'Gender', 'race', 'FamilyHistoryLungCa', 'Emphysema', 'Diameter [mm]', 'NoduleInUpperLung', 'PartSolid', 'NoduleCounts', 'Spiculation']\n",
    "nodule_loc = [\"CoordX\", \"CoordY\", \"CoordZ\", \"loclup\", \"locrup\"]\n",
    "\n",
    "cols_to_show = pancan_cols + ['weight', 'BMI', 'Adenocarcinoma', 'Squamous_cell_carcinoma', 'diaghype', 'wrkasbe', 'wrkfoun', 'cigar', 'pipe']\n",
    "\n",
    "ATTENTION_DIR = f\"V:/experiments/lung-malignancy-fairness-shaurya/nlst/sybil_attentions/attention_mha_direct\"\n",
    "series = ['1.3.6.1.4.1.14519.5.2.1.7009.9004.336832610089461934819661898582']\n",
    "series = df['SeriesInstanceUID'].tolist()\n",
    "for i in range(1):\n",
    "    seriesuid = series[i]\n",
    "    display(Markdown(f\"### {seriesuid}\"))\n",
    "    display(df.iloc[i][pancan_cols + nodule_loc])   \n",
    "    gif_path = f\"{ATTENTION_DIR}/serie_{seriesuid}.mha\"\n",
    "    show_gif_slider(gif_path, seriesuid)\n",
    "    # show_gif_scroll(gif_path)"
   ]
  }
 ],
 "metadata": {
  "kernelspec": {
   "display_name": "Python 3",
   "language": "python",
   "name": "python3"
  },
  "language_info": {
   "codemirror_mode": {
    "name": "ipython",
    "version": 3
   },
   "file_extension": ".py",
   "mimetype": "text/x-python",
   "name": "python",
   "nbconvert_exporter": "python",
   "pygments_lexer": "ipython3",
   "version": "3.11.9"
  }
 },
 "nbformat": 4,
 "nbformat_minor": 4
}
