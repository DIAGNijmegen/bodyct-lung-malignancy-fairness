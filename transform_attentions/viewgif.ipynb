{
 "cells": [
  {
   "cell_type": "code",
   "execution_count": 1,
   "metadata": {},
   "outputs": [],
   "source": [
    "import PIL as pillow\n",
    "import os\n",
    "import matplotlib.pyplot as plt\n",
    "from matplotlib.widgets import Slider\n",
    "import numpy as np\n",
    "import pandas as pd\n",
    "from IPython.display import display, Markdown\n",
    "import SimpleITK as sitk\n",
    "\n",
    "ATTENTION_GIF_DIR_DIR = f\"V:/experiments/lung-malignancy-fairness-shaurya/nlst/sybil_attentions/attention\"\n",
    "ATTENTION_IMG_DIR = f\"V:/experiments/lung-malignancy-fairness-shaurya/nlst/sybil_attentions/attention_imgs\""
   ]
  },
  {
   "cell_type": "code",
   "execution_count": 2,
   "metadata": {},
   "outputs": [],
   "source": [
    "%matplotlib widget"
   ]
  },
  {
   "cell_type": "code",
   "execution_count": 3,
   "metadata": {},
   "outputs": [],
   "source": [
    "def get_frames_from_gif(gif_path):\n",
    "    gif = pillow.Image.open(gif_path)\n",
    "    frames = []\n",
    "    while True:\n",
    "        frames.append(np.array(gif))\n",
    "        try:\n",
    "            gif.seek(gif.tell() + 1)\n",
    "        except EOFError:\n",
    "            break\n",
    "    \n",
    "    return frames"
   ]
  },
  {
   "cell_type": "code",
   "execution_count": 9,
   "metadata": {},
   "outputs": [],
   "source": [
    "def get_frames_from_mha(mha_path):\n",
    "    img = sitk.ReadImage(mha_path, outputPixelType=sitk.sitkVectorUInt8)\n",
    "    print(img.GetSize())\n",
    "    arr = sitk.GetArrayFromImage(img)\n",
    "    return arr"
   ]
  },
  {
   "cell_type": "code",
   "execution_count": 5,
   "metadata": {},
   "outputs": [],
   "source": [
    "def show_gif_slider(path, seriesuid):\n",
    "    # Load the GIF using PIL (Pillow)\n",
    "    # frames = get_frames_from_gif(path)\n",
    "    frames = get_frames_from_mha(path)\n",
    "\n",
    "    # Number of frames in the GIF\n",
    "    num_frames = len(frames)\n",
    "\n",
    "    fig, ax = plt.subplots(figsize=(6, 6))\n",
    "    plt.subplots_adjust(bottom=0.25)\n",
    "    im = ax.imshow(frames[0], cmap='gray')\n",
    "\n",
    "    ax.axis('off')\n",
    "\n",
    "    # Add the slider\n",
    "    ax_slider = plt.axes([0.1, 0.02, 0.8, 0.03], facecolor='lightgoldenrodyellow')\n",
    "    slider = Slider(ax_slider, 'Frame', 0, num_frames-1, valinit=0, valstep=1)\n",
    "\n",
    "    # Update function for the slider\n",
    "    def update(val):\n",
    "        frame_idx = int(slider.val)\n",
    "        im.set_data(frames[frame_idx])\n",
    "        fig.canvas.draw_idle()\n",
    "\n",
    "    # Attach the update function to the slider\n",
    "    slider.on_changed(update)\n",
    "    plt.show()"
   ]
  },
  {
   "cell_type": "markdown",
   "metadata": {},
   "source": [
    "Scroll code (from Tijmen's repository)."
   ]
  },
  {
   "cell_type": "code",
   "execution_count": 6,
   "metadata": {},
   "outputs": [],
   "source": [
    "def show_gif_scroll(gif_path):\n",
    "    frames = get_frames_from_gif(gif_path)\n",
    "    fig, ax = plt.subplots(1, 1)\n",
    "    tracker = IndexTracker(ax, frames)\n",
    "    fig.canvas.mpl_connect('scroll_event', tracker.onscroll)\n",
    "    plt.show()\n",
    "\n",
    "class IndexTracker(object):\n",
    "    def __init__(self, ax, X):\n",
    "        self.ax = ax\n",
    "        ax.set_title('use scroll wheel to navigate images')\n",
    "\n",
    "        self.X = X\n",
    "        self.slices = len(X)\n",
    "        self.ind = self.slices // 2\n",
    "\n",
    "        self.im = ax.imshow(self.X[self.ind], cmap=\"gray\")\n",
    "        self.update()\n",
    "\n",
    "    def onscroll(self, event):\n",
    "        print(\"%s %s\" % (event.button, event.step))\n",
    "        if event.button == 'up':\n",
    "            self.ind = (self.ind + 1) % self.slices\n",
    "        else:\n",
    "            self.ind = (self.ind - 1) % self.slices\n",
    "        self.update()\n",
    "\n",
    "    def update(self):\n",
    "        self.im.set_data(self.X[self.ind])\n",
    "        self.ax.set_ylabel('slice %s' % self.ind)\n",
    "        self.im.axes.figure.canvas.draw()"
   ]
  },
  {
   "cell_type": "code",
   "execution_count": 7,
   "metadata": {},
   "outputs": [],
   "source": [
    "df = pd.read_csv(f\"V:/experiments/lung-malignancy-fairness-shaurya/nlst/sybil_fn_brock_top25.csv\")"
   ]
  },
  {
   "cell_type": "code",
   "execution_count": null,
   "metadata": {},
   "outputs": [],
   "source": [
    "pancan_cols = ['Age', 'Gender', 'race', 'FamilyHistoryLungCa', 'Emphysema', 'Diameter [mm]', 'NoduleInUpperLung', 'PartSolid', 'NoduleCounts', 'Spiculation']\n",
    "nodule_loc = [\"CoordX\", \"CoordY\", \"CoordZ\", \"loclup\", \"locrup\"]\n",
    "\n",
    "cols_to_show = pancan_cols + ['weight', 'BMI', 'Adenocarcinoma', 'Squamous_cell_carcinoma', 'diaghype', 'wrkasbe', 'wrkfoun', 'cigar', 'pipe']\n",
    "\n",
    "ATTENTION_DIR = f\"V:/experiments/lung-malignancy-fairness-shaurya/nlst/sybil_attentions/attention_mha_direct\"\n",
    "series = None\n",
    "for i in range(1):\n",
    "    seriesuid = series[i]\n",
    "    display(Markdown(f\"### {seriesuid}\"))\n",
    "    display(df.iloc[i][pancan_cols + nodule_loc])   \n",
    "    gif_path = f\"{ATTENTION_DIR}/serie_{seriesuid}.mha\"\n",
    "    show_gif_slider(gif_path, seriesuid)\n",
    "    # show_gif_scroll(gif_path)"
   ]
  }
 ],
 "metadata": {
  "kernelspec": {
   "display_name": "Python 3",
   "language": "python",
   "name": "python3"
  },
  "language_info": {
   "codemirror_mode": {
    "name": "ipython",
    "version": 3
   },
   "file_extension": ".py",
   "mimetype": "text/x-python",
   "name": "python",
   "nbconvert_exporter": "python",
   "pygments_lexer": "ipython3",
   "version": "3.11.9"
  }
 },
 "nbformat": 4,
 "nbformat_minor": 4
}
