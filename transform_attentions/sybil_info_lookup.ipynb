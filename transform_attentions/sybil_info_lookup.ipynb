{
 "cells": [
  {
   "cell_type": "code",
   "execution_count": 4,
   "metadata": {},
   "outputs": [],
   "source": [
    "import pandas as pd\n",
    "import os\n",
    "import numpy as np\n",
    "import seaborn as sns\n",
    "import matplotlib.pyplot as plt\n",
    "import json\n",
    "from IPython.display import display, Markdown\n",
    "from scipy.stats import pearsonr, spearmanr, ks_2samp, mannwhitneyu, ttest_ind\n",
    "\n",
    "import sys\n",
    "sys.path.append('../')\n",
    "\n",
    "# import utils\n",
    "from evalutils.roc import get_bootstrapped_roc_ci_curves\n",
    "from sklearn.metrics import confusion_matrix, ConfusionMatrixDisplay\n",
    "\n",
    "## directory where results are\n",
    "EXPERIMENT_DIR = f\"/data/bodyct/experiments/lung-malignancy-fairness-shaurya\"\n",
    "NLST_PREDS = f\"{EXPERIMENT_DIR}/nlst\"\n",
    "\n",
    "TEAMS_DIR = \"C:/Users/shaur/OneDrive - Radboudumc/Documents - Master - Shaurya Gaur/General/Malignancy-Estimation Results\"\n",
    "NLST_PREDS = f\"{TEAMS_DIR}/nlst\" ## Comment out if not using Teams backup (aka Chansey is up :)"
   ]
  },
  {
   "cell_type": "code",
   "execution_count": null,
   "metadata": {},
   "outputs": [],
   "source": [
    "df = pd.read_csv(f\"{NLST_PREDS}/sybil_fn_brock_top25.csv\")"
   ]
  },
  {
   "cell_type": "code",
   "execution_count": null,
   "metadata": {},
   "outputs": [],
   "source": [
    "df[[\n",
    "    'PanCan2b', 'sybil_year1',\n",
    "     'Age', 'Gender', 'race', 'weight', 'BMI',\n",
    "     'Emphysema', 'Adenocarcinoma', 'pkyr', 'pipe', 'cigar', 'diaghype', 'LC_stage',\n",
    "     'wrknomask', 'wrkfoun', 'wrkasbe',  'diaghear'\n",
    "    #  'Squamous_cell_carcinoma', 'Large_cell_carcinoma', 'diagcopd', 'NoduleInUpperLung', 'Solid'\n",
    "]]"
   ]
  },
  {
   "cell_type": "code",
   "execution_count": null,
   "metadata": {},
   "outputs": [],
   "source": [
    "df.sort_values(by=['race', 'Emphysema', 'Squamous_cell_carcinoma', 'Gender', 'BMI', 'diaghype'], ascending=[False, False, True, True, False, True])[[\n",
    "     'Age', 'Gender', 'race', 'weight', 'BMI',\n",
    "     'Emphysema', 'Adenocarcinoma', 'pkyr', 'pipe', 'cigar', 'diaghype', 'LC_stage','Squamous_cell_carcinoma',\n",
    "        # 'wrknomask', 'wrkfoun', 'wrkasbe',  'diaghear'-\n",
    "    #  'Squamous_cell_carcinoma', 'Large_cell_carcinoma', 'diagcopd', 'NoduleInUpperLung', 'Solid'\n",
    "]]"
   ]
  },
  {
   "cell_type": "code",
   "execution_count": 6,
   "metadata": {},
   "outputs": [],
   "source": [
    "priority_idxs = [24, 20, 1, 2, 6, 21, 5, 0, 14, 17,\n",
    "                 11, 13, 16, 22,\n",
    "                 7, 9, \n",
    "                 3, 4, 8, 10, 12, 15, 18, 19, 23\n",
    "                 ]"
   ]
  },
  {
   "cell_type": "code",
   "execution_count": 7,
   "metadata": {},
   "outputs": [
    {
     "data": {
      "text/plain": [
       "25"
      ]
     },
     "execution_count": 7,
     "metadata": {},
     "output_type": "execute_result"
    }
   ],
   "source": [
    "len(priority_idxs)"
   ]
  },
  {
   "cell_type": "code",
   "execution_count": null,
   "metadata": {},
   "outputs": [],
   "source": [
    "df.iloc[priority_idxs][[\n",
    "     'Age', 'Gender', 'race', 'weight', 'BMI',\n",
    "     'Emphysema', 'Adenocarcinoma', 'pkyr', 'pipe', 'cigar', 'diaghype', 'LC_stage','Squamous_cell_carcinoma',\n",
    "        # 'wrknomask', 'wrkfoun', 'wrkasbe',  'diaghear'-\n",
    "    #  'Squamous_cell_carcinoma', 'Large_cell_carcinoma', 'diagcopd', 'NoduleInUpperLung', 'Solid'\n",
    "]]"
   ]
  },
  {
   "cell_type": "code",
   "execution_count": 8,
   "metadata": {},
   "outputs": [],
   "source": [
    "with open(f'{NLST_PREDS}/nlst_demo_v4_cols.json') as json_data:\n",
    "    nlst_democols = json.load(json_data)\n",
    "    json_data.close()"
   ]
  },
  {
   "cell_type": "code",
   "execution_count": null,
   "metadata": {},
   "outputs": [],
   "source": [
    "series_list = df.iloc[priority_idxs]['SeriesInstanceUID'].tolist()"
   ]
  },
  {
   "cell_type": "code",
   "execution_count": 5,
   "metadata": {},
   "outputs": [],
   "source": [
    "df = pd.read_csv(f\"{TEAMS_DIR}/nlst/nlst_demov4_allmodels_cal.csv\")"
   ]
  },
  {
   "cell_type": "code",
   "execution_count": null,
   "metadata": {},
   "outputs": [],
   "source": [
    "series_id = \"\"\n",
    "\n",
    "pancan_cols = ['label', 'Age', 'Gender', 'race', 'FamilyHistoryLungCa', 'height', 'Emphysema', 'Diameter_mm', 'NoduleInUpperLung', 'PartSolid', 'NoduleCounts', 'Spiculation']\n",
    "df.query(f'SeriesInstanceUID == \"{series_id}\"')[['PanCan2b'] + pancan_cols + nlst_democols['cat']['nodule'] + ['CoordX', 'CoordY', 'CoordZ'] + nlst_democols['cat']['lungcanc']].T"
   ]
  },
  {
   "cell_type": "code",
   "execution_count": null,
   "metadata": {},
   "outputs": [],
   "source": [
    "df.query(f'SeriesInstanceUID == \"{series_id}\"')[[\n",
    "     'Age', 'Gender', 'race', 'weight', 'BMI',\n",
    "     'Emphysema', 'Adenocarcinoma', 'pkyr', 'pipe', 'cigar', 'diaghype', 'LC_stage','Squamous_cell_carcinoma',\n",
    "        'wrknomask', 'wrkfoun', 'wrkasbe',  'diaghear',\n",
    "     'Squamous_cell_carcinoma', 'Large_cell_carcinoma', 'diagcopd', 'NoduleInUpperLung', 'Solid'\n",
    "]].T"
   ]
  }
 ],
 "metadata": {
  "kernelspec": {
   "display_name": "Python 3",
   "language": "python",
   "name": "python3"
  },
  "language_info": {
   "codemirror_mode": {
    "name": "ipython",
    "version": 3
   },
   "file_extension": ".py",
   "mimetype": "text/x-python",
   "name": "python",
   "nbconvert_exporter": "python",
   "pygments_lexer": "ipython3",
   "version": "3.11.9"
  }
 },
 "nbformat": 4,
 "nbformat_minor": 2
}
