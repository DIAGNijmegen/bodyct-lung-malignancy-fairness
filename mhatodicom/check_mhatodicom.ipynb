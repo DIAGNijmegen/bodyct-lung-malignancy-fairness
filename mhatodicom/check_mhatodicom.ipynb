{
 "cells": [
  {
   "cell_type": "code",
   "execution_count": 1,
   "metadata": {},
   "outputs": [],
   "source": [
    "import os\n",
    "import sys\n",
    "import time\n",
    "import pandas as pd\n",
    "import SimpleITK as sitk\n",
    "import numpy as np\n",
    "import time\n",
    "from pathlib import Path\n",
    "import multiprocessing\n",
    "import mhatodicom"
   ]
  },
  {
   "cell_type": "code",
   "execution_count": 2,
   "metadata": {},
   "outputs": [],
   "source": [
    "DATASET_NAME = \"nlst\"\n",
    "LOCAL_PC = True\n",
    "root_dir = \"/mnt/w\" if LOCAL_PC else \"/data/bodyct\"\n",
    "EXPERIMENT_DIR = f\"{root_dir}/experiments/lung-malignancy-fairness-shaurya\"\n",
    "DATA_DIR = f\"{EXPERIMENT_DIR}/{DATASET_NAME}\"\n",
    "\n",
    "csv_path = f\"{DATA_DIR}/nlst_demo_v1_w4preds.csv\""
   ]
  },
  {
   "cell_type": "code",
   "execution_count": 3,
   "metadata": {},
   "outputs": [],
   "source": [
    "df = pd.read_csv(csv_path)\n",
    "df = df[(~df['Thijmen_mean'].isna()) & (df['InSybilTrain'] == False)]\n",
    "series_instance_uids = pd.unique(df['SeriesInstanceUID']).tolist()\n",
    "len(series_instance_uids)"
   ]
  },
  {
   "cell_type": "code",
   "execution_count": 4,
   "metadata": {},
   "outputs": [],
   "source": [
    "def check_mha_dicom(mha_file, output_dir, pixel_dtype=np.int16):\n",
    "    try:\n",
    "        assert pixel_dtype in [np.int16, np.float64]\n",
    "\n",
    "        if pixel_dtype == np.int16:\n",
    "            mha_image = sitk.ReadImage(str(mha_file), sitk.sitkInt16)\n",
    "        elif pixel_dtype == np.float64:\n",
    "            mha_image = sitk.ReadImage(str(mha_file), sitk.sitkFloat64)\n",
    "\n",
    "        fail_slices = mhatodicom.check_all_slices_created(output_dir, mha_image.GetDepth())\n",
    "        \n",
    "        if len(fail_slices) > 0:\n",
    "            print(f\"ERROR: {output_dir} - slices missing: {fail_slices}\", file=sys.stderr)\n",
    "            return False\n",
    "        return True\n",
    "    except:\n",
    "        print(f\"ERROR: {output_dir} - something went wrong :(\", file=sys.stderr)\n",
    "        return False"
   ]
  },
  {
   "cell_type": "code",
   "execution_count": 8,
   "metadata": {},
   "outputs": [],
   "source": [
    "def mha_dicom_process(i, total, series_instance_uid):\n",
    "    src_dir = f\"{root_dir}/experiments/0-{DATASET_NAME}-mha\"\n",
    "    output_folder_path = f\"{DATA_DIR}/DICOM_files\"\n",
    "\n",
    "    mha_filename = series_instance_uid + '.mha'\n",
    "    mha_filepath = os.path.join(src_dir, mha_filename)\n",
    "\n",
    "    print(f\"{i+1} / {total}: checking {series_instance_uid} ... \")\n",
    "    if os.path.exists(mha_filepath):\n",
    "        output_subfolder = mhatodicom.process_mha_file(mha_filepath, output_folder_path)\n",
    "        success = check_mha_dicom(mha_filepath, output_subfolder)\n",
    "        if success:\n",
    "            print(f\"{i+1} / {total}: SUCCESSfully converted\")\n",
    "            return True\n",
    "        if not success: \n",
    "            print(f\"{i+1} / {total}: FAILED to convert {series_instance_uid}\", file=sys.stderr)\n",
    "            return False\n",
    "    else:\n",
    "        print(f\"File {mha_filename} not found in the source directory.\")\n",
    "        return False"
   ]
  },
  {
   "cell_type": "code",
   "execution_count": null,
   "metadata": {},
   "outputs": [
    {
     "name": "stderr",
     "output_type": "stream",
     "text": [
      "Exception ignored in: <function _releaseLock at 0x7f73855955e0>\n",
      "Traceback (most recent call last):\n",
      "  File \"/usr/lib/python3.8/logging/__init__.py\", line 227, in _releaseLock\n",
      "    def _releaseLock():\n",
      "KeyboardInterrupt: \n"
     ]
    }
   ],
   "source": [
    "converterpool = multiprocessing.Pool()\n",
    "result_bools = converterpool.starmap(mha_dicom_process, \n",
    "                    zip(range(len(series_instance_uids)), [len(series_instance_uids)] * len(series_instance_uids), series_instance_uids))"
   ]
  }
 ],
 "metadata": {
  "kernelspec": {
   "display_name": "venv",
   "language": "python",
   "name": "python3"
  },
  "language_info": {
   "codemirror_mode": {
    "name": "ipython",
    "version": 3
   },
   "file_extension": ".py",
   "mimetype": "text/x-python",
   "name": "python",
   "nbconvert_exporter": "python",
   "pygments_lexer": "ipython3",
   "version": "3.8.10"
  }
 },
 "nbformat": 4,
 "nbformat_minor": 2
}
