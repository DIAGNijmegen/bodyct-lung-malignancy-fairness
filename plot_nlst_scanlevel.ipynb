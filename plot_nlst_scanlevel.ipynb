{
 "cells": [
  {
   "cell_type": "code",
   "execution_count": 1,
   "metadata": {},
   "outputs": [],
   "source": [
    "import pandas as pd\n",
    "import os\n",
    "import numpy as np\n",
    "import seaborn as sns\n",
    "import matplotlib.pyplot as plt\n",
    "import json\n",
    "\n",
    "import sys\n",
    "sys.path.append('../')\n",
    "\n",
    "import utils\n",
    "from utils import ax_rocs, plot_rocs, rocs_models\n",
    "from evalutils.roc import get_bootstrapped_roc_ci_curves\n",
    "from sklearn.metrics import confusion_matrix, ConfusionMatrixDisplay\n",
    "\n",
    "## directory where results are\n",
    "LOCAL_PC = False\n",
    "root_dir = \"/mnt/w\" if LOCAL_PC else \"/data/bodyct\"\n",
    "EXPERIMENT_DIR = f\"{root_dir}/experiments/lung-malignancy-fairness-shaurya\"\n",
    "NLST_PREDS = f\"{EXPERIMENT_DIR}/nlst-preds\"\n",
    "\n",
    "NLST_PREDS_LOCAL = \"/mnt/c/Users/shaur/OneDrive - Radboudumc/Documents - Master - Shaurya Gaur/General/Malignancy-Estimation Results/nlst\"\n",
    "NLST_PREDS = NLST_PREDS_LOCAL ## Comment out if not using Teams backup (aka Chansey is up :)"
   ]
  },
  {
   "cell_type": "code",
   "execution_count": 19,
   "metadata": {},
   "outputs": [
    {
     "name": "stdout",
     "output_type": "stream",
     "text": [
      "<class 'pandas.core.frame.DataFrame'>\n",
      "RangeIndex: 16077 entries, 0 to 16076\n",
      "Data columns (total 89 columns):\n",
      " #   Column               Non-Null Count  Dtype  \n",
      "---  ------               --------------  -----  \n",
      " 0   PatientID            16077 non-null  int64  \n",
      " 1   StudyDate            16077 non-null  int64  \n",
      " 2   SeriesInstanceUID    16077 non-null  object \n",
      " 3   CoordX               16077 non-null  float64\n",
      " 4   CoordY               16077 non-null  float64\n",
      " 5   CoordZ               16077 non-null  float64\n",
      " 6   LesionID             16077 non-null  int64  \n",
      " 7   NoduleType           16077 non-null  object \n",
      " 8   Spiculation          16077 non-null  bool   \n",
      " 9   Diameter [mm]        16077 non-null  float64\n",
      " 10  Age                  16077 non-null  int64  \n",
      " 11  Gender               16077 non-null  int64  \n",
      " 12  FamilyHistoryLungCa  16077 non-null  bool   \n",
      " 13  Emphysema            16077 non-null  bool   \n",
      " 14  NoduleInUpperLung    16077 non-null  bool   \n",
      " 15  NoduleCounts         16077 non-null  int64  \n",
      " 16  SCT_EPI_LOC          15479 non-null  float64\n",
      " 17  xie_gc_gclobe150     598 non-null    float64\n",
      " 18  loclup               1249 non-null   float64\n",
      " 19  locrup               1249 non-null   float64\n",
      " 20  PanCan2b             16077 non-null  float64\n",
      " 21  label                16077 non-null  int64  \n",
      " 22  DL                   16077 non-null  float64\n",
      " 23  NoduleID             16077 non-null  object \n",
      " 24  AnnotationID         16077 non-null  object \n",
      " 25  Thijmen_mean         3240 non-null   float64\n",
      " 26  height               16054 non-null  float64\n",
      " 27  weight               16042 non-null  float64\n",
      " 28  pkyr                 16077 non-null  float64\n",
      " 29  smokeage             16077 non-null  float64\n",
      " 30  smokeday             16077 non-null  int64  \n",
      " 31  smokeyr              16077 non-null  int64  \n",
      " 32  marital              16032 non-null  float64\n",
      " 33  educat               15795 non-null  float64\n",
      " 34  race                 16038 non-null  float64\n",
      " 35  ethnic               15989 non-null  float64\n",
      " 36  cigar                16027 non-null  float64\n",
      " 37  cigsmok              16077 non-null  int64  \n",
      " 38  pipe                 15980 non-null  float64\n",
      " 39  smokelive            16012 non-null  float64\n",
      " 40  smokework            15965 non-null  float64\n",
      " 41  wrkasbe              16066 non-null  float64\n",
      " 42  wrkbaki              16076 non-null  float64\n",
      " 43  wrkbutc              16076 non-null  float64\n",
      " 44  wrkchem              16063 non-null  float64\n",
      " 45  wrkcoal              16076 non-null  float64\n",
      " 46  wrkcott              16076 non-null  float64\n",
      " 47  wrkfarm              16073 non-null  float64\n",
      " 48  wrkfire              16076 non-null  float64\n",
      " 49  wrkflou              16076 non-null  float64\n",
      " 50  wrkfoun              16076 non-null  float64\n",
      " 51  wrkhard              16076 non-null  float64\n",
      " 52  wrkpain              16076 non-null  float64\n",
      " 53  wrksand              16076 non-null  float64\n",
      " 54  wrkweld              16076 non-null  float64\n",
      " 55  wrknomask            16077 non-null  bool   \n",
      " 56  diagadas             16053 non-null  float64\n",
      " 57  diagasbe             16059 non-null  float64\n",
      " 58  diagbron             16034 non-null  float64\n",
      " 59  diagchas             16059 non-null  float64\n",
      " 60  diagchro             16029 non-null  float64\n",
      " 61  diagcopd             16036 non-null  float64\n",
      " 62  diagdiab             16060 non-null  float64\n",
      " 63  diagemph             16038 non-null  float64\n",
      " 64  diagfibr             16056 non-null  float64\n",
      " 65  diaghear             16028 non-null  float64\n",
      " 66  diaghype             16047 non-null  float64\n",
      " 67  diagpneu             16053 non-null  float64\n",
      " 68  diagsarc             16050 non-null  float64\n",
      " 69  diagsili             16050 non-null  float64\n",
      " 70  diagstro             16062 non-null  float64\n",
      " 71  diagtube             16058 non-null  float64\n",
      " 72  cancblad             16045 non-null  float64\n",
      " 73  cancbrea             16045 non-null  float64\n",
      " 74  canccerv             16050 non-null  float64\n",
      " 75  canccolo             16052 non-null  float64\n",
      " 76  cancesop             16052 non-null  float64\n",
      " 77  canckidn             16052 non-null  float64\n",
      " 78  canclary             16052 non-null  float64\n",
      " 79  canclung             16052 non-null  float64\n",
      " 80  cancnasa             16041 non-null  float64\n",
      " 81  cancoral             16051 non-null  float64\n",
      " 82  cancpanc             16052 non-null  float64\n",
      " 83  cancphar             16052 non-null  float64\n",
      " 84  cancstom             16052 non-null  float64\n",
      " 85  cancthyr             16039 non-null  float64\n",
      " 86  canctran             16043 non-null  float64\n",
      " 87  study                16077 non-null  int64  \n",
      " 88  Thijmen_local        16077 non-null  float64\n",
      "dtypes: bool(5), float64(69), int64(11), object(4)\n",
      "memory usage: 10.4+ MB\n"
     ]
    }
   ],
   "source": [
    "nlst_preds_nodule = pd.read_csv(f'{NLST_PREDS}/nlst_demo_v1_w4preds.csv')\n",
    "nlst_preds_nodule.info()"
   ]
  },
  {
   "cell_type": "code",
   "execution_count": 3,
   "metadata": {},
   "outputs": [],
   "source": [
    "with open(f'{NLST_PREDS}/nlst_demo_v1_cols.json') as json_data:\n",
    "    nlst_democols = json.load(json_data)\n",
    "    json_data.close()"
   ]
  },
  {
   "cell_type": "code",
   "execution_count": 4,
   "metadata": {},
   "outputs": [],
   "source": [
    "MODEL_TO_COL = {\n",
    "    \"Venkadesh\": \"DL\",\n",
    "    \"de Haas\": \"Thijmen_mean\",\n",
    "    \"de Haas local\": \"Thijmen_local\",\n",
    "    # \"Sybil\": \"sybil_year1\",\n",
    "    \"PanCan2b\": \"PanCan2b\",\n",
    "}"
   ]
  },
  {
   "cell_type": "markdown",
   "metadata": {},
   "source": [
    "### Convert to scan-level"
   ]
  },
  {
   "cell_type": "code",
   "execution_count": 20,
   "metadata": {},
   "outputs": [
    {
     "data": {
      "text/plain": [
       "PatientID               5282\n",
       "StudyDate                  3\n",
       "SeriesInstanceUID      10183\n",
       "CoordX                 11867\n",
       "CoordY                 13071\n",
       "CoordZ                 13528\n",
       "LesionID                  18\n",
       "NoduleType                 7\n",
       "Spiculation                2\n",
       "Diameter [mm]            368\n",
       "Age                       23\n",
       "Gender                     2\n",
       "FamilyHistoryLungCa        2\n",
       "Emphysema                  2\n",
       "NoduleInUpperLung          2\n",
       "NoduleCounts              12\n",
       "SCT_EPI_LOC                7\n",
       "xie_gc_gclobe150           6\n",
       "loclup                     2\n",
       "locrup                     2\n",
       "PanCan2b               14187\n",
       "label                      2\n",
       "DL                     16068\n",
       "NoduleID               10024\n",
       "AnnotationID           16077\n",
       "Thijmen_mean            3240\n",
       "height                    28\n",
       "weight                   216\n",
       "pkyr                     284\n",
       "smokeage                  33\n",
       "dtype: int64"
      ]
     },
     "execution_count": 20,
     "metadata": {},
     "output_type": "execute_result"
    }
   ],
   "source": [
    "nlst_preds_nodule.nunique()[0:30]"
   ]
  },
  {
   "cell_type": "code",
   "execution_count": 23,
   "metadata": {},
   "outputs": [
    {
     "data": {
      "text/plain": [
       "PatientID               5282\n",
       "StudyDate                  3\n",
       "SeriesInstanceUID      10183\n",
       "LesionID                  18\n",
       "Age                       23\n",
       "Gender                     2\n",
       "FamilyHistoryLungCa        2\n",
       "Emphysema                  2\n",
       "NoduleInUpperLung          2\n",
       "NoduleCounts              12\n",
       "SCT_EPI_LOC                7\n",
       "xie_gc_gclobe150           6\n",
       "loclup                     2\n",
       "locrup                     2\n",
       "PanCan2b               14187\n",
       "label                      2\n",
       "DL                     16068\n",
       "Thijmen_mean            3240\n",
       "height                    28\n",
       "weight                   216\n",
       "pkyr                     284\n",
       "smokeage                  33\n",
       "smokeday                  42\n",
       "smokeyr                   52\n",
       "marital                    5\n",
       "educat                     7\n",
       "race                       6\n",
       "ethnic                     2\n",
       "cigar                      2\n",
       "cigsmok                    2\n",
       "dtype: int64"
      ]
     },
     "execution_count": 23,
     "metadata": {},
     "output_type": "execute_result"
    }
   ],
   "source": [
    "nodule_specific_cols = ['NoduleType', 'Spiculation', 'CoordX', 'CoordY', 'CoordZ', 'Diameter [mm]', 'NoduleID', 'AnnotationID']\n",
    "nlst_preds = nlst_preds_nodule.drop(nodule_specific_cols, axis=1)\n",
    "nlst_preds.nunique()[0:30]"
   ]
  },
  {
   "cell_type": "code",
   "execution_count": 33,
   "metadata": {},
   "outputs": [
    {
     "data": {
      "text/plain": [
       "Thijmen_local        10183\n",
       "SeriesInstanceUID    10183\n",
       "DL                   10181\n",
       "PanCan2b              9379\n",
       "PatientID             5282\n",
       "                     ...  \n",
       "wrkweld                  2\n",
       "wrknomask                2\n",
       "diagadas                 2\n",
       "wrkfire                  2\n",
       "cancpanc                 1\n",
       "Length: 81, dtype: int64"
      ]
     },
     "execution_count": 33,
     "metadata": {},
     "output_type": "execute_result"
    }
   ],
   "source": [
    "models = list(MODEL_TO_COL.values())\n",
    "for m in models:\n",
    "    nlst_preds[m] = nlst_preds.groupby('SeriesInstanceUID')[m].transform(max)\n",
    "\n",
    "nlst_preds.nunique().sort_values(ascending=False)"
   ]
  },
  {
   "cell_type": "code",
   "execution_count": 35,
   "metadata": {},
   "outputs": [
    {
     "name": "stdout",
     "output_type": "stream",
     "text": [
      "<class 'pandas.core.frame.DataFrame'>\n",
      "RangeIndex: 10183 entries, 0 to 10182\n",
      "Data columns (total 81 columns):\n",
      " #   Column               Non-Null Count  Dtype  \n",
      "---  ------               --------------  -----  \n",
      " 0   PatientID            10183 non-null  int64  \n",
      " 1   StudyDate            10183 non-null  int64  \n",
      " 2   SeriesInstanceUID    10183 non-null  object \n",
      " 3   LesionID             10183 non-null  int64  \n",
      " 4   Age                  10183 non-null  int64  \n",
      " 5   Gender               10183 non-null  int64  \n",
      " 6   FamilyHistoryLungCa  10183 non-null  bool   \n",
      " 7   Emphysema            10183 non-null  bool   \n",
      " 8   NoduleInUpperLung    10183 non-null  bool   \n",
      " 9   NoduleCounts         10183 non-null  int64  \n",
      " 10  SCT_EPI_LOC          9615 non-null   float64\n",
      " 11  xie_gc_gclobe150     568 non-null    float64\n",
      " 12  loclup               1199 non-null   float64\n",
      " 13  locrup               1199 non-null   float64\n",
      " 14  PanCan2b             10183 non-null  float64\n",
      " 15  label                10183 non-null  int64  \n",
      " 16  DL                   10183 non-null  float64\n",
      " 17  Thijmen_mean         2062 non-null   float64\n",
      " 18  height               10169 non-null  float64\n",
      " 19  weight               10161 non-null  float64\n",
      " 20  pkyr                 10183 non-null  float64\n",
      " 21  smokeage             10183 non-null  float64\n",
      " 22  smokeday             10183 non-null  int64  \n",
      " 23  smokeyr              10183 non-null  int64  \n",
      " 24  marital              10162 non-null  float64\n",
      " 25  educat               10003 non-null  float64\n",
      " 26  race                 10155 non-null  float64\n",
      " 27  ethnic               10127 non-null  float64\n",
      " 28  cigar                10149 non-null  float64\n",
      " 29  cigsmok              10183 non-null  int64  \n",
      " 30  pipe                 10122 non-null  float64\n",
      " 31  smokelive            10139 non-null  float64\n",
      " 32  smokework            10110 non-null  float64\n",
      " 33  wrkasbe              10175 non-null  float64\n",
      " 34  wrkbaki              10182 non-null  float64\n",
      " 35  wrkbutc              10182 non-null  float64\n",
      " 36  wrkchem              10178 non-null  float64\n",
      " 37  wrkcoal              10182 non-null  float64\n",
      " 38  wrkcott              10182 non-null  float64\n",
      " 39  wrkfarm              10179 non-null  float64\n",
      " 40  wrkfire              10182 non-null  float64\n",
      " 41  wrkflou              10182 non-null  float64\n",
      " 42  wrkfoun              10182 non-null  float64\n",
      " 43  wrkhard              10182 non-null  float64\n",
      " 44  wrkpain              10182 non-null  float64\n",
      " 45  wrksand              10182 non-null  float64\n",
      " 46  wrkweld              10182 non-null  float64\n",
      " 47  wrknomask            10183 non-null  bool   \n",
      " 48  diagadas             10168 non-null  float64\n",
      " 49  diagasbe             10170 non-null  float64\n",
      " 50  diagbron             10151 non-null  float64\n",
      " 51  diagchas             10171 non-null  float64\n",
      " 52  diagchro             10150 non-null  float64\n",
      " 53  diagcopd             10155 non-null  float64\n",
      " 54  diagdiab             10171 non-null  float64\n",
      " 55  diagemph             10158 non-null  float64\n",
      " 56  diagfibr             10168 non-null  float64\n",
      " 57  diaghear             10148 non-null  float64\n",
      " 58  diaghype             10164 non-null  float64\n",
      " 59  diagpneu             10163 non-null  float64\n",
      " 60  diagsarc             10162 non-null  float64\n",
      " 61  diagsili             10162 non-null  float64\n",
      " 62  diagstro             10173 non-null  float64\n",
      " 63  diagtube             10170 non-null  float64\n",
      " 64  cancblad             10166 non-null  float64\n",
      " 65  cancbrea             10166 non-null  float64\n",
      " 66  canccerv             10167 non-null  float64\n",
      " 67  canccolo             10169 non-null  float64\n",
      " 68  cancesop             10169 non-null  float64\n",
      " 69  canckidn             10169 non-null  float64\n",
      " 70  canclary             10169 non-null  float64\n",
      " 71  canclung             10169 non-null  float64\n",
      " 72  cancnasa             10164 non-null  float64\n",
      " 73  cancoral             10168 non-null  float64\n",
      " 74  cancpanc             10169 non-null  float64\n",
      " 75  cancphar             10169 non-null  float64\n",
      " 76  cancstom             10169 non-null  float64\n",
      " 77  cancthyr             10165 non-null  float64\n",
      " 78  canctran             10161 non-null  float64\n",
      " 79  study                10183 non-null  int64  \n",
      " 80  Thijmen_local        10183 non-null  float64\n",
      "dtypes: bool(4), float64(65), int64(11), object(1)\n",
      "memory usage: 6.0+ MB\n"
     ]
    }
   ],
   "source": [
    "nlst_preds = nlst_preds.drop_duplicates(['SeriesInstanceUID'], ignore_index=True)\n",
    "nlst_preds.info()"
   ]
  },
  {
   "cell_type": "code",
   "execution_count": null,
   "metadata": {},
   "outputs": [],
   "source": [
    "MODEL_TO_COL = {\n",
    "    \"Venkadesh\": \"DL\",\n",
    "    # \"de Haas\": \"Thijmen_mean\",\n",
    "    \"de Haas local\": \"Thijmen_local\",\n",
    "    # \"Sybil\": \"sybil_year1\",\n",
    "    \"PanCan2b\": \"PanCan2b\",\n",
    "}"
   ]
  },
  {
   "cell_type": "markdown",
   "metadata": {},
   "source": [
    "Sanity check - let's see internal NLST validation results."
   ]
  },
  {
   "cell_type": "code",
   "execution_count": 36,
   "metadata": {},
   "outputs": [
    {
     "ename": "ValueError",
     "evalue": "Input contains NaN.",
     "output_type": "error",
     "traceback": [
      "\u001b[0;31m---------------------------------------------------------------------------\u001b[0m",
      "\u001b[0;31mValueError\u001b[0m                                Traceback (most recent call last)",
      "Cell \u001b[0;32mIn[36], line 1\u001b[0m\n\u001b[0;32m----> 1\u001b[0m \u001b[43mutils\u001b[49m\u001b[38;5;241;43m.\u001b[39;49m\u001b[43mrocs_models\u001b[49m\u001b[43m(\u001b[49m\u001b[43mnlst_preds\u001b[49m\u001b[43m,\u001b[49m\u001b[43m \u001b[49m\u001b[43mmodels\u001b[49m\u001b[38;5;241;43m=\u001b[39;49m\u001b[43mMODEL_TO_COL\u001b[49m\u001b[43m,\u001b[49m\u001b[43m \u001b[49m\u001b[43mdataset_label\u001b[49m\u001b[38;5;241;43m=\u001b[39;49m\u001b[38;5;124;43m\"\u001b[39;49m\u001b[38;5;124;43mNLST\u001b[39;49m\u001b[38;5;124;43m\"\u001b[39;49m\u001b[43m)\u001b[49m\n",
      "File \u001b[0;32m/mnt/c/Users/shaur/github/thesis-repo-xps/utils.py:99\u001b[0m, in \u001b[0;36mrocs_models\u001b[0;34m(df, true_col, models, dataset_label, subset_label, imgpath, plot_ci)\u001b[0m\n\u001b[1;32m     97\u001b[0m rocs \u001b[38;5;241m=\u001b[39m {}\n\u001b[1;32m     98\u001b[0m \u001b[38;5;28;01mfor\u001b[39;00m m \u001b[38;5;129;01min\u001b[39;00m models:\n\u001b[0;32m---> 99\u001b[0m     rocs[m] \u001b[38;5;241m=\u001b[39m \u001b[43mget_bootstrapped_roc_ci_curves\u001b[49m\u001b[43m(\u001b[49m\u001b[43mdf\u001b[49m\u001b[43m[\u001b[49m\u001b[43mmodels\u001b[49m\u001b[43m[\u001b[49m\u001b[43mm\u001b[49m\u001b[43m]\u001b[49m\u001b[43m]\u001b[49m\u001b[38;5;241;43m.\u001b[39;49m\u001b[43mvalues\u001b[49m\u001b[43m,\u001b[49m\u001b[43m \u001b[49m\u001b[43mdf\u001b[49m\u001b[43m[\u001b[49m\u001b[43mtrue_col\u001b[49m\u001b[43m]\u001b[49m\u001b[38;5;241;43m.\u001b[39;49m\u001b[43mvalues\u001b[49m\u001b[43m)\u001b[49m\n\u001b[1;32m    101\u001b[0m plot_rocs(rocs, \u001b[38;5;124mf\u001b[39m\u001b[38;5;124m'\u001b[39m\u001b[38;5;132;01m{\u001b[39;00mdataset_label\u001b[38;5;132;01m}\u001b[39;00m\u001b[38;5;124m (\u001b[39m\u001b[38;5;132;01m{\u001b[39;00msubset_label\u001b[38;5;132;01m}\u001b[39;00m\u001b[38;5;124m patients, n=\u001b[39m\u001b[38;5;132;01m{\u001b[39;00m\u001b[38;5;28mlen\u001b[39m(df)\u001b[38;5;132;01m}\u001b[39;00m\u001b[38;5;124m) ROC Curves Across Models \u001b[39m\u001b[38;5;124m'\u001b[39m, imgpath, plot_ci)\n",
      "File \u001b[0;32m/mnt/c/Users/shaur/github/thesis-repo-xps/venv/lib/python3.8/site-packages/evalutils/roc.py:72\u001b[0m, in \u001b[0;36mget_bootstrapped_roc_ci_curves\u001b[0;34m(y_pred, y_true, num_bootstraps, ci_to_use)\u001b[0m\n\u001b[1;32m     70\u001b[0m     \u001b[38;5;28;01mcontinue\u001b[39;00m\n\u001b[1;32m     71\u001b[0m \u001b[38;5;66;03m# get the fpr and tpr for this bootstrap\u001b[39;00m\n\u001b[0;32m---> 72\u001b[0m fpr, tpr, thresholds \u001b[38;5;241m=\u001b[39m \u001b[43mmetrics\u001b[49m\u001b[38;5;241;43m.\u001b[39;49m\u001b[43mroc_curve\u001b[49m\u001b[43m(\u001b[49m\n\u001b[1;32m     73\u001b[0m \u001b[43m    \u001b[49m\u001b[43my_true\u001b[49m\u001b[43m[\u001b[49m\u001b[43mindices\u001b[49m\u001b[43m]\u001b[49m\u001b[43m,\u001b[49m\u001b[43m \u001b[49m\u001b[43my_pred\u001b[49m\u001b[43m[\u001b[49m\u001b[43mindices\u001b[49m\u001b[43m]\u001b[49m\n\u001b[1;32m     74\u001b[0m \u001b[43m\u001b[49m\u001b[43m)\u001b[49m\n\u001b[1;32m     75\u001b[0m \u001b[38;5;66;03m# get values at fixed fpr locations\u001b[39;00m\n\u001b[1;32m     76\u001b[0m tpr_b \u001b[38;5;241m=\u001b[39m np\u001b[38;5;241m.\u001b[39minterp(base_fpr, fpr, tpr)\n",
      "File \u001b[0;32m/mnt/c/Users/shaur/github/thesis-repo-xps/venv/lib/python3.8/site-packages/sklearn/utils/_param_validation.py:214\u001b[0m, in \u001b[0;36mvalidate_params.<locals>.decorator.<locals>.wrapper\u001b[0;34m(*args, **kwargs)\u001b[0m\n\u001b[1;32m    208\u001b[0m \u001b[38;5;28;01mtry\u001b[39;00m:\n\u001b[1;32m    209\u001b[0m     \u001b[38;5;28;01mwith\u001b[39;00m config_context(\n\u001b[1;32m    210\u001b[0m         skip_parameter_validation\u001b[38;5;241m=\u001b[39m(\n\u001b[1;32m    211\u001b[0m             prefer_skip_nested_validation \u001b[38;5;129;01mor\u001b[39;00m global_skip_validation\n\u001b[1;32m    212\u001b[0m         )\n\u001b[1;32m    213\u001b[0m     ):\n\u001b[0;32m--> 214\u001b[0m         \u001b[38;5;28;01mreturn\u001b[39;00m \u001b[43mfunc\u001b[49m\u001b[43m(\u001b[49m\u001b[38;5;241;43m*\u001b[39;49m\u001b[43margs\u001b[49m\u001b[43m,\u001b[49m\u001b[43m \u001b[49m\u001b[38;5;241;43m*\u001b[39;49m\u001b[38;5;241;43m*\u001b[39;49m\u001b[43mkwargs\u001b[49m\u001b[43m)\u001b[49m\n\u001b[1;32m    215\u001b[0m \u001b[38;5;28;01mexcept\u001b[39;00m InvalidParameterError \u001b[38;5;28;01mas\u001b[39;00m e:\n\u001b[1;32m    216\u001b[0m     \u001b[38;5;66;03m# When the function is just a wrapper around an estimator, we allow\u001b[39;00m\n\u001b[1;32m    217\u001b[0m     \u001b[38;5;66;03m# the function to delegate validation to the estimator, but we replace\u001b[39;00m\n\u001b[1;32m    218\u001b[0m     \u001b[38;5;66;03m# the name of the estimator by the name of the function in the error\u001b[39;00m\n\u001b[1;32m    219\u001b[0m     \u001b[38;5;66;03m# message to avoid confusion.\u001b[39;00m\n\u001b[1;32m    220\u001b[0m     msg \u001b[38;5;241m=\u001b[39m re\u001b[38;5;241m.\u001b[39msub(\n\u001b[1;32m    221\u001b[0m         \u001b[38;5;124mr\u001b[39m\u001b[38;5;124m\"\u001b[39m\u001b[38;5;124mparameter of \u001b[39m\u001b[38;5;124m\\\u001b[39m\u001b[38;5;124mw+ must be\u001b[39m\u001b[38;5;124m\"\u001b[39m,\n\u001b[1;32m    222\u001b[0m         \u001b[38;5;124mf\u001b[39m\u001b[38;5;124m\"\u001b[39m\u001b[38;5;124mparameter of \u001b[39m\u001b[38;5;132;01m{\u001b[39;00mfunc\u001b[38;5;241m.\u001b[39m\u001b[38;5;18m__qualname__\u001b[39m\u001b[38;5;132;01m}\u001b[39;00m\u001b[38;5;124m must be\u001b[39m\u001b[38;5;124m\"\u001b[39m,\n\u001b[1;32m    223\u001b[0m         \u001b[38;5;28mstr\u001b[39m(e),\n\u001b[1;32m    224\u001b[0m     )\n",
      "File \u001b[0;32m/mnt/c/Users/shaur/github/thesis-repo-xps/venv/lib/python3.8/site-packages/sklearn/metrics/_ranking.py:1095\u001b[0m, in \u001b[0;36mroc_curve\u001b[0;34m(y_true, y_score, pos_label, sample_weight, drop_intermediate)\u001b[0m\n\u001b[1;32m    993\u001b[0m \u001b[38;5;129m@validate_params\u001b[39m(\n\u001b[1;32m    994\u001b[0m     {\n\u001b[1;32m    995\u001b[0m         \u001b[38;5;124m\"\u001b[39m\u001b[38;5;124my_true\u001b[39m\u001b[38;5;124m\"\u001b[39m: [\u001b[38;5;124m\"\u001b[39m\u001b[38;5;124marray-like\u001b[39m\u001b[38;5;124m\"\u001b[39m],\n\u001b[0;32m   (...)\u001b[0m\n\u001b[1;32m   1004\u001b[0m     y_true, y_score, \u001b[38;5;241m*\u001b[39m, pos_label\u001b[38;5;241m=\u001b[39m\u001b[38;5;28;01mNone\u001b[39;00m, sample_weight\u001b[38;5;241m=\u001b[39m\u001b[38;5;28;01mNone\u001b[39;00m, drop_intermediate\u001b[38;5;241m=\u001b[39m\u001b[38;5;28;01mTrue\u001b[39;00m\n\u001b[1;32m   1005\u001b[0m ):\n\u001b[1;32m   1006\u001b[0m \u001b[38;5;250m    \u001b[39m\u001b[38;5;124;03m\"\"\"Compute Receiver operating characteristic (ROC).\u001b[39;00m\n\u001b[1;32m   1007\u001b[0m \n\u001b[1;32m   1008\u001b[0m \u001b[38;5;124;03m    Note: this implementation is restricted to the binary classification task.\u001b[39;00m\n\u001b[0;32m   (...)\u001b[0m\n\u001b[1;32m   1093\u001b[0m \u001b[38;5;124;03m    array([ inf, 0.8 , 0.4 , 0.35, 0.1 ])\u001b[39;00m\n\u001b[1;32m   1094\u001b[0m \u001b[38;5;124;03m    \"\"\"\u001b[39;00m\n\u001b[0;32m-> 1095\u001b[0m     fps, tps, thresholds \u001b[38;5;241m=\u001b[39m \u001b[43m_binary_clf_curve\u001b[49m\u001b[43m(\u001b[49m\n\u001b[1;32m   1096\u001b[0m \u001b[43m        \u001b[49m\u001b[43my_true\u001b[49m\u001b[43m,\u001b[49m\u001b[43m \u001b[49m\u001b[43my_score\u001b[49m\u001b[43m,\u001b[49m\u001b[43m \u001b[49m\u001b[43mpos_label\u001b[49m\u001b[38;5;241;43m=\u001b[39;49m\u001b[43mpos_label\u001b[49m\u001b[43m,\u001b[49m\u001b[43m \u001b[49m\u001b[43msample_weight\u001b[49m\u001b[38;5;241;43m=\u001b[39;49m\u001b[43msample_weight\u001b[49m\n\u001b[1;32m   1097\u001b[0m \u001b[43m    \u001b[49m\u001b[43m)\u001b[49m\n\u001b[1;32m   1099\u001b[0m     \u001b[38;5;66;03m# Attempt to drop thresholds corresponding to points in between and\u001b[39;00m\n\u001b[1;32m   1100\u001b[0m     \u001b[38;5;66;03m# collinear with other points. These are always suboptimal and do not\u001b[39;00m\n\u001b[1;32m   1101\u001b[0m     \u001b[38;5;66;03m# appear on a plotted ROC curve (and thus do not affect the AUC).\u001b[39;00m\n\u001b[0;32m   (...)\u001b[0m\n\u001b[1;32m   1106\u001b[0m     \u001b[38;5;66;03m# but does not drop more complicated cases like fps = [1, 3, 7],\u001b[39;00m\n\u001b[1;32m   1107\u001b[0m     \u001b[38;5;66;03m# tps = [1, 2, 4]; there is no harm in keeping too many thresholds.\u001b[39;00m\n\u001b[1;32m   1108\u001b[0m     \u001b[38;5;28;01mif\u001b[39;00m drop_intermediate \u001b[38;5;129;01mand\u001b[39;00m \u001b[38;5;28mlen\u001b[39m(fps) \u001b[38;5;241m>\u001b[39m \u001b[38;5;241m2\u001b[39m:\n",
      "File \u001b[0;32m/mnt/c/Users/shaur/github/thesis-repo-xps/venv/lib/python3.8/site-packages/sklearn/metrics/_ranking.py:810\u001b[0m, in \u001b[0;36m_binary_clf_curve\u001b[0;34m(y_true, y_score, pos_label, sample_weight)\u001b[0m\n\u001b[1;32m    808\u001b[0m y_score \u001b[38;5;241m=\u001b[39m column_or_1d(y_score)\n\u001b[1;32m    809\u001b[0m assert_all_finite(y_true)\n\u001b[0;32m--> 810\u001b[0m \u001b[43massert_all_finite\u001b[49m\u001b[43m(\u001b[49m\u001b[43my_score\u001b[49m\u001b[43m)\u001b[49m\n\u001b[1;32m    812\u001b[0m \u001b[38;5;66;03m# Filter out zero-weighted samples, as they should not impact the result\u001b[39;00m\n\u001b[1;32m    813\u001b[0m \u001b[38;5;28;01mif\u001b[39;00m sample_weight \u001b[38;5;129;01mis\u001b[39;00m \u001b[38;5;129;01mnot\u001b[39;00m \u001b[38;5;28;01mNone\u001b[39;00m:\n",
      "File \u001b[0;32m/mnt/c/Users/shaur/github/thesis-repo-xps/venv/lib/python3.8/site-packages/sklearn/utils/validation.py:200\u001b[0m, in \u001b[0;36massert_all_finite\u001b[0;34m(X, allow_nan, estimator_name, input_name)\u001b[0m\n\u001b[1;32m    174\u001b[0m \u001b[38;5;28;01mdef\u001b[39;00m \u001b[38;5;21massert_all_finite\u001b[39m(\n\u001b[1;32m    175\u001b[0m     X,\n\u001b[1;32m    176\u001b[0m     \u001b[38;5;241m*\u001b[39m,\n\u001b[0;32m   (...)\u001b[0m\n\u001b[1;32m    179\u001b[0m     input_name\u001b[38;5;241m=\u001b[39m\u001b[38;5;124m\"\u001b[39m\u001b[38;5;124m\"\u001b[39m,\n\u001b[1;32m    180\u001b[0m ):\n\u001b[1;32m    181\u001b[0m \u001b[38;5;250m    \u001b[39m\u001b[38;5;124;03m\"\"\"Throw a ValueError if X contains NaN or infinity.\u001b[39;00m\n\u001b[1;32m    182\u001b[0m \n\u001b[1;32m    183\u001b[0m \u001b[38;5;124;03m    Parameters\u001b[39;00m\n\u001b[0;32m   (...)\u001b[0m\n\u001b[1;32m    198\u001b[0m \u001b[38;5;124;03m        documentation.\u001b[39;00m\n\u001b[1;32m    199\u001b[0m \u001b[38;5;124;03m    \"\"\"\u001b[39;00m\n\u001b[0;32m--> 200\u001b[0m     \u001b[43m_assert_all_finite\u001b[49m\u001b[43m(\u001b[49m\n\u001b[1;32m    201\u001b[0m \u001b[43m        \u001b[49m\u001b[43mX\u001b[49m\u001b[38;5;241;43m.\u001b[39;49m\u001b[43mdata\u001b[49m\u001b[43m \u001b[49m\u001b[38;5;28;43;01mif\u001b[39;49;00m\u001b[43m \u001b[49m\u001b[43msp\u001b[49m\u001b[38;5;241;43m.\u001b[39;49m\u001b[43missparse\u001b[49m\u001b[43m(\u001b[49m\u001b[43mX\u001b[49m\u001b[43m)\u001b[49m\u001b[43m \u001b[49m\u001b[38;5;28;43;01melse\u001b[39;49;00m\u001b[43m \u001b[49m\u001b[43mX\u001b[49m\u001b[43m,\u001b[49m\n\u001b[1;32m    202\u001b[0m \u001b[43m        \u001b[49m\u001b[43mallow_nan\u001b[49m\u001b[38;5;241;43m=\u001b[39;49m\u001b[43mallow_nan\u001b[49m\u001b[43m,\u001b[49m\n\u001b[1;32m    203\u001b[0m \u001b[43m        \u001b[49m\u001b[43mestimator_name\u001b[49m\u001b[38;5;241;43m=\u001b[39;49m\u001b[43mestimator_name\u001b[49m\u001b[43m,\u001b[49m\n\u001b[1;32m    204\u001b[0m \u001b[43m        \u001b[49m\u001b[43minput_name\u001b[49m\u001b[38;5;241;43m=\u001b[39;49m\u001b[43minput_name\u001b[49m\u001b[43m,\u001b[49m\n\u001b[1;32m    205\u001b[0m \u001b[43m    \u001b[49m\u001b[43m)\u001b[49m\n",
      "File \u001b[0;32m/mnt/c/Users/shaur/github/thesis-repo-xps/venv/lib/python3.8/site-packages/sklearn/utils/validation.py:122\u001b[0m, in \u001b[0;36m_assert_all_finite\u001b[0;34m(X, allow_nan, msg_dtype, estimator_name, input_name)\u001b[0m\n\u001b[1;32m    119\u001b[0m \u001b[38;5;28;01mif\u001b[39;00m first_pass_isfinite:\n\u001b[1;32m    120\u001b[0m     \u001b[38;5;28;01mreturn\u001b[39;00m\n\u001b[0;32m--> 122\u001b[0m \u001b[43m_assert_all_finite_element_wise\u001b[49m\u001b[43m(\u001b[49m\n\u001b[1;32m    123\u001b[0m \u001b[43m    \u001b[49m\u001b[43mX\u001b[49m\u001b[43m,\u001b[49m\n\u001b[1;32m    124\u001b[0m \u001b[43m    \u001b[49m\u001b[43mxp\u001b[49m\u001b[38;5;241;43m=\u001b[39;49m\u001b[43mxp\u001b[49m\u001b[43m,\u001b[49m\n\u001b[1;32m    125\u001b[0m \u001b[43m    \u001b[49m\u001b[43mallow_nan\u001b[49m\u001b[38;5;241;43m=\u001b[39;49m\u001b[43mallow_nan\u001b[49m\u001b[43m,\u001b[49m\n\u001b[1;32m    126\u001b[0m \u001b[43m    \u001b[49m\u001b[43mmsg_dtype\u001b[49m\u001b[38;5;241;43m=\u001b[39;49m\u001b[43mmsg_dtype\u001b[49m\u001b[43m,\u001b[49m\n\u001b[1;32m    127\u001b[0m \u001b[43m    \u001b[49m\u001b[43mestimator_name\u001b[49m\u001b[38;5;241;43m=\u001b[39;49m\u001b[43mestimator_name\u001b[49m\u001b[43m,\u001b[49m\n\u001b[1;32m    128\u001b[0m \u001b[43m    \u001b[49m\u001b[43minput_name\u001b[49m\u001b[38;5;241;43m=\u001b[39;49m\u001b[43minput_name\u001b[49m\u001b[43m,\u001b[49m\n\u001b[1;32m    129\u001b[0m \u001b[43m\u001b[49m\u001b[43m)\u001b[49m\n",
      "File \u001b[0;32m/mnt/c/Users/shaur/github/thesis-repo-xps/venv/lib/python3.8/site-packages/sklearn/utils/validation.py:171\u001b[0m, in \u001b[0;36m_assert_all_finite_element_wise\u001b[0;34m(X, xp, allow_nan, msg_dtype, estimator_name, input_name)\u001b[0m\n\u001b[1;32m    154\u001b[0m \u001b[38;5;28;01mif\u001b[39;00m estimator_name \u001b[38;5;129;01mand\u001b[39;00m input_name \u001b[38;5;241m==\u001b[39m \u001b[38;5;124m\"\u001b[39m\u001b[38;5;124mX\u001b[39m\u001b[38;5;124m\"\u001b[39m \u001b[38;5;129;01mand\u001b[39;00m has_nan_error:\n\u001b[1;32m    155\u001b[0m     \u001b[38;5;66;03m# Improve the error message on how to handle missing values in\u001b[39;00m\n\u001b[1;32m    156\u001b[0m     \u001b[38;5;66;03m# scikit-learn.\u001b[39;00m\n\u001b[1;32m    157\u001b[0m     msg_err \u001b[38;5;241m+\u001b[39m\u001b[38;5;241m=\u001b[39m (\n\u001b[1;32m    158\u001b[0m         \u001b[38;5;124mf\u001b[39m\u001b[38;5;124m\"\u001b[39m\u001b[38;5;130;01m\\n\u001b[39;00m\u001b[38;5;132;01m{\u001b[39;00mestimator_name\u001b[38;5;132;01m}\u001b[39;00m\u001b[38;5;124m does not accept missing values\u001b[39m\u001b[38;5;124m\"\u001b[39m\n\u001b[1;32m    159\u001b[0m         \u001b[38;5;124m\"\u001b[39m\u001b[38;5;124m encoded as NaN natively. For supervised learning, you might want\u001b[39m\u001b[38;5;124m\"\u001b[39m\n\u001b[0;32m   (...)\u001b[0m\n\u001b[1;32m    169\u001b[0m         \u001b[38;5;124m\"\u001b[39m\u001b[38;5;124m#estimators-that-handle-nan-values\u001b[39m\u001b[38;5;124m\"\u001b[39m\n\u001b[1;32m    170\u001b[0m     )\n\u001b[0;32m--> 171\u001b[0m \u001b[38;5;28;01mraise\u001b[39;00m \u001b[38;5;167;01mValueError\u001b[39;00m(msg_err)\n",
      "\u001b[0;31mValueError\u001b[0m: Input contains NaN."
     ]
    }
   ],
   "source": [
    "utils.rocs_models(nlst_preds, models=MODEL_TO_COL, dataset_label=\"NLST\")"
   ]
  },
  {
   "cell_type": "code",
   "execution_count": null,
   "metadata": {},
   "outputs": [],
   "source": [
    "utils.stats_from_cm(*utils.cm_with_thres(nlst_preds))"
   ]
  },
  {
   "cell_type": "markdown",
   "metadata": {},
   "source": [
    "## Plot results by category"
   ]
  },
  {
   "cell_type": "code",
   "execution_count": 10,
   "metadata": {},
   "outputs": [],
   "source": [
    "def plot_by_category(df, cat, models=MODEL_TO_COL.keys()):\n",
    "    groups = df.groupby(cat) \n",
    "    df_catinfo, plot_roc = utils.info_by_splits(groups)\n",
    "    display(df_catinfo)\n",
    "\n",
    "    if not plot_roc:\n",
    "        print(\"Not plotting ROC since there are zero values for malignant or benign nodules :(\")\n",
    "        return df_catinfo\n",
    "\n",
    "    rocs = {}\n",
    "    for m in models:\n",
    "        rocs[m], df_perf = utils.perf_by_splits(groups, pred_col=MODEL_TO_COL[m])\n",
    "        print(m)\n",
    "        display(df_perf)\n",
    "\n",
    "    fig, ax = plt.subplots(1, len(models), figsize=(6.5*len(models) - 0.5, 6))\n",
    "    fig.suptitle(f\"Model Performance Split By {cat}\")\n",
    "    for i, m in enumerate(models):\n",
    "        utils.ax_rocs(ax[i], rocs[m], title=m)\n",
    "    plt.show()\n",
    "\n",
    "    return df_catinfo        "
   ]
  },
  {
   "cell_type": "markdown",
   "metadata": {},
   "source": [
    "### Included columns (from predictions)"
   ]
  },
  {
   "cell_type": "code",
   "execution_count": null,
   "metadata": {},
   "outputs": [],
   "source": [
    "# pred_only_cols = [\"NoduleInUpperLung\", \"Spiculation\", \"NoduleType\"]\n",
    "# for c in pred_only_cols:\n",
    "#     print(c)\n",
    "#     plot_by_category(nlst_preds, c)"
   ]
  },
  {
   "cell_type": "markdown",
   "metadata": {},
   "source": [
    "### Demographics"
   ]
  },
  {
   "cell_type": "code",
   "execution_count": null,
   "metadata": {},
   "outputs": [],
   "source": [
    "for cat in nlst_democols['cat']['demo']:\n",
    "    print(cat)\n",
    "    plot_by_category(nlst_preds, cat)"
   ]
  },
  {
   "cell_type": "markdown",
   "metadata": {},
   "source": [
    "### Smoking"
   ]
  },
  {
   "cell_type": "code",
   "execution_count": null,
   "metadata": {},
   "outputs": [],
   "source": [
    "for cat in nlst_democols['cat']['smoke']:\n",
    "    print(cat)\n",
    "    plot_by_category(nlst_preds, cat)"
   ]
  },
  {
   "cell_type": "markdown",
   "metadata": {},
   "source": [
    "### Work history"
   ]
  },
  {
   "cell_type": "code",
   "execution_count": null,
   "metadata": {},
   "outputs": [],
   "source": [
    "for cat in nlst_democols['cat']['work']:\n",
    "    print(cat)\n",
    "    plot_by_category(nlst_preds, cat)"
   ]
  },
  {
   "cell_type": "markdown",
   "metadata": {},
   "source": [
    "### Disease history"
   ]
  },
  {
   "cell_type": "code",
   "execution_count": null,
   "metadata": {},
   "outputs": [],
   "source": [
    "plot_by_category(nlst_preds, 'Emphysema')"
   ]
  },
  {
   "cell_type": "code",
   "execution_count": null,
   "metadata": {},
   "outputs": [],
   "source": [
    "for cat in nlst_democols['cat']['disease']:\n",
    "    print(cat)\n",
    "    plot_by_category(nlst_preds, cat)"
   ]
  },
  {
   "cell_type": "markdown",
   "metadata": {},
   "source": [
    "### Personal cancer history"
   ]
  },
  {
   "cell_type": "code",
   "execution_count": null,
   "metadata": {},
   "outputs": [],
   "source": [
    "for cat in nlst_democols['cat']['canchist']:\n",
    "    print(cat)\n",
    "    plot_by_category(nlst_preds, cat)"
   ]
  },
  {
   "cell_type": "markdown",
   "metadata": {},
   "source": [
    "## Binning for numerical columns"
   ]
  },
  {
   "cell_type": "markdown",
   "metadata": {},
   "source": [
    "### Demographic columns"
   ]
  },
  {
   "cell_type": "code",
   "execution_count": null,
   "metadata": {},
   "outputs": [],
   "source": [
    "for c in nlst_democols['num']['demo']:\n",
    "    print(c)\n",
    "    display(nlst_preds.groupby('label')[c].describe())\n",
    "    sns.histplot(nlst_preds, x=c, bins=25, hue=\"label\", multiple='stack')\n",
    "    plt.show()"
   ]
  },
  {
   "cell_type": "code",
   "execution_count": null,
   "metadata": {},
   "outputs": [],
   "source": [
    "nlst_preds['bin_Age'] = pd.cut(nlst_preds['Age'], bins=[55, 60, 65, 70, 78], right=False)\n",
    "display(nlst_preds.groupby('bin_Age')['label'].describe())\n",
    "plot_by_category(nlst_preds, f'bin_Age')"
   ]
  },
  {
   "cell_type": "code",
   "execution_count": null,
   "metadata": {},
   "outputs": [],
   "source": [
    "nlst_preds['bin_height'] = pd.cut(nlst_preds['height'], bins=[48, 68, 88], right=True)\n",
    "display(nlst_preds.groupby('bin_height')[['label', 'height']].describe())\n",
    "plot_by_category(nlst_preds, f'bin_height')"
   ]
  },
  {
   "cell_type": "code",
   "execution_count": null,
   "metadata": {},
   "outputs": [],
   "source": [
    "nlst_preds['bin_weight'] = pd.cut(nlst_preds['weight'], bins=[79, 179, 279], right=True)\n",
    "display(nlst_preds.groupby('bin_weight')[['label', 'weight']].describe())\n",
    "plot_by_category(nlst_preds, f'bin_weight')"
   ]
  },
  {
   "cell_type": "markdown",
   "metadata": {},
   "source": [
    "### Smoking columns"
   ]
  },
  {
   "cell_type": "code",
   "execution_count": null,
   "metadata": {},
   "outputs": [],
   "source": [
    "for c in nlst_democols['num']['smoke']:\n",
    "    print(c)\n",
    "    display(nlst_preds.groupby('label')[c].describe())\n",
    "    sns.histplot(nlst_preds, x=c, bins=25, hue=\"label\", multiple='stack')\n",
    "    plt.show()"
   ]
  },
  {
   "cell_type": "code",
   "execution_count": null,
   "metadata": {},
   "outputs": [],
   "source": [
    "for c in nlst_democols['num']['smoke']:\n",
    "    nlst_preds[f'bin_{c}'] = pd.qcut(nlst_preds[c], q=2)\n",
    "    display(nlst_preds.groupby(f'bin_{c}')[['label', f'{c}']].describe())\n",
    "    plot_by_category(nlst_preds, f'bin_{c}')"
   ]
  },
  {
   "cell_type": "markdown",
   "metadata": {},
   "source": [
    "### Included columns from predictions"
   ]
  },
  {
   "cell_type": "code",
   "execution_count": null,
   "metadata": {},
   "outputs": [],
   "source": [
    "included_num_cols = [\"Diameter [mm]\", \"NoduleCounts\"]\n",
    "for c in included_num_cols:\n",
    "    print(c)\n",
    "    display(nlst_preds.groupby('label')[c].describe())\n",
    "    sns.histplot(nlst_preds, x=c, bins=25, hue=\"label\", multiple='stack')\n",
    "    plt.show()"
   ]
  },
  {
   "cell_type": "code",
   "execution_count": null,
   "metadata": {},
   "outputs": [],
   "source": [
    "for c in included_num_cols:\n",
    "    nlst_preds[f'bin_{c}'] = pd.qcut(nlst_preds[c], q=2, duplicates='drop')\n",
    "    display(nlst_preds.groupby(f'bin_{c}')[['label', f'{c}']].describe())\n",
    "    plot_by_category(nlst_preds, f'bin_{c}')"
   ]
  },
  {
   "cell_type": "markdown",
   "metadata": {},
   "source": [
    "## Further binning categorical columns"
   ]
  },
  {
   "cell_type": "code",
   "execution_count": null,
   "metadata": {},
   "outputs": [],
   "source": [
    "nlst_preds[['race', 'ethnic']].value_counts()"
   ]
  },
  {
   "cell_type": "code",
   "execution_count": null,
   "metadata": {},
   "outputs": [],
   "source": [
    "non_hispanic_white = (nlst_preds['race'] == 1.0) & (nlst_preds['ethnic'] == 2.0)\n",
    "nlst_preds['NonHispanicWhite'] = non_hispanic_white\n",
    "plot_by_category(nlst_preds, 'NonHispanicWhite')"
   ]
  },
  {
   "cell_type": "code",
   "execution_count": null,
   "metadata": {},
   "outputs": [],
   "source": [
    "high_school_plus = (nlst_preds['educat'] != 1.0)\n",
    "nlst_preds['HighSchoolPlus'] = high_school_plus\n",
    "plot_by_category(nlst_preds, 'HighSchoolPlus')"
   ]
  },
  {
   "cell_type": "code",
   "execution_count": null,
   "metadata": {},
   "outputs": [],
   "source": [
    "married = (nlst_preds['marital'] != 2.0)\n",
    "nlst_preds['Married'] = married\n",
    "plot_by_category(nlst_preds, 'Married')"
   ]
  },
  {
   "cell_type": "markdown",
   "metadata": {},
   "source": [
    "## Investigate links"
   ]
  }
 ],
 "metadata": {
  "kernelspec": {
   "display_name": "venv",
   "language": "python",
   "name": "python3"
  },
  "language_info": {
   "codemirror_mode": {
    "name": "ipython",
    "version": 3
   },
   "file_extension": ".py",
   "mimetype": "text/x-python",
   "name": "python",
   "nbconvert_exporter": "python",
   "pygments_lexer": "ipython3",
   "version": "3.8.10"
  }
 },
 "nbformat": 4,
 "nbformat_minor": 2
}
