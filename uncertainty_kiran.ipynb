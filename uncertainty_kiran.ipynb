{
 "cells": [
  {
   "cell_type": "markdown",
   "metadata": {},
   "source": [
    "# Get Uncertainty info for Kiran's Model\n",
    "\n",
    "For NLST and DLCST. Thanks Dre!"
   ]
  },
  {
   "cell_type": "code",
   "execution_count": 76,
   "metadata": {},
   "outputs": [],
   "source": [
    "import pandas as pd\n",
    "import os\n",
    "import numpy as np\n",
    "import seaborn as sns\n",
    "import matplotlib.pyplot as plt\n",
    "import json\n",
    "from IPython.display import display, Markdown\n",
    "from sklearn.calibration import calibration_curve\n",
    "from sklearn.calibration import CalibratedClassifierCV\n",
    "from scipy.special import logit, expit\n",
    "from scipy.stats import entropy\n",
    "from sklearn.linear_model import LogisticRegression\n",
    "\n",
    "import sys\n",
    "sys.path.append('../')\n",
    "\n",
    "import utils\n",
    "from evalutils.roc import get_bootstrapped_roc_ci_curves\n",
    "from sklearn.metrics import confusion_matrix, ConfusionMatrixDisplay\n",
    "\n",
    "## directory where results are\n",
    "CHANSEY_ROOT = \"V:\"\n",
    "CHANSEY_DIR = f\"{CHANSEY_ROOT}/experiments/lung-malignancy-fairness-shaurya\"\n",
    "TEAMS_DIR = \"C:/Users/shaur/OneDrive - Radboudumc/Documents - Master - Shaurya Gaur/General/Malignancy-Estimation Results\""
   ]
  },
  {
   "cell_type": "code",
   "execution_count": 78,
   "metadata": {},
   "outputs": [],
   "source": [
    "DLCST_CERTAIN   = f\"{CHANSEY_ROOT}/experiments/amara/Technical/Uncertainty/results/LungRads/data/DLCST_certain_Entropy.csv\"\n",
    "DLCST_UNCERTAIN = f\"{CHANSEY_ROOT}/experiments/amara/Technical/Uncertainty/results/LungRads/data/DLCST_uncertain_Entropy.csv\"\n",
    "NLST_LOGITS = f\"{CHANSEY_ROOT}/experiments/amara/Technical/Uncertainty/dataset_csv/NLST_internal_validation.csv\""
   ]
  },
  {
   "cell_type": "code",
   "execution_count": 79,
   "metadata": {},
   "outputs": [],
   "source": [
    "DLCST_PREDS = f\"{TEAMS_DIR}/dlcst/calibrated_dlcst_thijmen_kiran_sybil_malignancy_estimation_results.csv\"\n",
    "NLST_PREDS = f\"{TEAMS_DIR}/nlst/nlst_demov4_allmodels_cal.csv\""
   ]
  },
  {
   "cell_type": "markdown",
   "metadata": {},
   "source": [
    "## Read DLCST"
   ]
  },
  {
   "cell_type": "code",
   "execution_count": 80,
   "metadata": {},
   "outputs": [
    {
     "name": "stdout",
     "output_type": "stream",
     "text": [
      "<class 'pandas.core.frame.DataFrame'>\n",
      "RangeIndex: 794 entries, 0 to 793\n",
      "Data columns (total 63 columns):\n",
      " #   Column                                  Non-Null Count  Dtype  \n",
      "---  ------                                  --------------  -----  \n",
      " 0   PatientID                               794 non-null    int64  \n",
      " 1   StudyDate                               794 non-null    int64  \n",
      " 2   SeriesInstanceUID                       794 non-null    object \n",
      " 3   CoordX                                  794 non-null    float64\n",
      " 4   CoordY                                  794 non-null    float64\n",
      " 5   CoordZ                                  794 non-null    float64\n",
      " 6   Age                                     794 non-null    int64  \n",
      " 7   Sex                                     794 non-null    int64  \n",
      " 8   FamilyHistoryLungCa                     794 non-null    int64  \n",
      " 9   Emphysema                               794 non-null    int64  \n",
      " 10  diameter_mm                             794 non-null    float64\n",
      " 11  NoduleCountPerScan                      794 non-null    int64  \n",
      " 12  Spiculated                              794 non-null    int64  \n",
      " 13  NoduleType                              794 non-null    object \n",
      " 14  Calcified                               794 non-null    int64  \n",
      " 15  PFN                                     794 non-null    int64  \n",
      " 16  UpperLobe                               794 non-null    int64  \n",
      " 17  PanCan2b                                794 non-null    float64\n",
      " 18  class                                   794 non-null    int64  \n",
      " 19  tag                                     794 non-null    object \n",
      " 20  ThoracicRadiologist1                    233 non-null    float64\n",
      " 21  RadiologyResident4                      233 non-null    float64\n",
      " 22  ThoracicRadiologist3                    233 non-null    float64\n",
      " 23  RadiologyResident5                      233 non-null    float64\n",
      " 24  ThoracicRadiologist4                    233 non-null    float64\n",
      " 25  RadiologyResident1                      233 non-null    float64\n",
      " 26  RadiologyResident3                      233 non-null    float64\n",
      " 27  ThoracicRadiologist2                    233 non-null    float64\n",
      " 28  Pulmonologist1                          233 non-null    float64\n",
      " 29  Pulmonologist2                          233 non-null    float64\n",
      " 30  RadiologyResident2                      233 non-null    float64\n",
      " 31  NoduleID                                794 non-null    object \n",
      " 32  AnnotationID                            794 non-null    object \n",
      " 33  label                                   794 non-null    int64  \n",
      " 34  mvresnet50_05.08.2020_deepr_50mm_fold0  794 non-null    float64\n",
      " 35  mvresnet50_05.08.2020_deepr_50mm_fold1  794 non-null    float64\n",
      " 36  mvresnet50_05.08.2020_deepr_50mm_fold2  794 non-null    float64\n",
      " 37  mvresnet50_05.08.2020_deepr_50mm_fold3  794 non-null    float64\n",
      " 38  mvresnet50_05.08.2020_deepr_50mm_fold4  794 non-null    float64\n",
      " 39  mvresnet50_05.08.2020_deepr_50mm_fold5  794 non-null    float64\n",
      " 40  mvresnet50_05.08.2020_deepr_50mm_fold6  794 non-null    float64\n",
      " 41  mvresnet50_05.08.2020_deepr_50mm_fold7  794 non-null    float64\n",
      " 42  mvresnet50_05.08.2020_deepr_50mm_fold8  794 non-null    float64\n",
      " 43  mvresnet50_05.08.2020_deepr_50mm_fold9  794 non-null    float64\n",
      " 44  i3d_05.08.2020_deepr_50mm_fold0         794 non-null    float64\n",
      " 45  i3d_05.08.2020_deepr_50mm_fold1         794 non-null    float64\n",
      " 46  i3d_05.08.2020_deepr_50mm_fold2         794 non-null    float64\n",
      " 47  i3d_05.08.2020_deepr_50mm_fold3         794 non-null    float64\n",
      " 48  i3d_05.08.2020_deepr_50mm_fold4         794 non-null    float64\n",
      " 49  i3d_05.08.2020_deepr_50mm_fold5         794 non-null    float64\n",
      " 50  i3d_05.08.2020_deepr_50mm_fold6         794 non-null    float64\n",
      " 51  i3d_05.08.2020_deepr_50mm_fold7         794 non-null    float64\n",
      " 52  i3d_05.08.2020_deepr_50mm_fold8         794 non-null    float64\n",
      " 53  i3d_05.08.2020_deepr_50mm_fold9         794 non-null    float64\n",
      " 54  DL                                      794 non-null    float64\n",
      " 55  std                                     794 non-null    float64\n",
      " 56  std_experts                             233 non-null    float64\n",
      " 57  expert_output                           233 non-null    float64\n",
      " 58  Mean_entropy                            794 non-null    float64\n",
      " 59  Size_label                              794 non-null    object \n",
      " 60  NoduleType_Size                         794 non-null    object \n",
      " 61  Group_label                             794 non-null    object \n",
      " 62  calibratedDL                            794 non-null    float64\n",
      "dtypes: float64(42), int64(13), object(8)\n",
      "memory usage: 390.9+ KB\n",
      "<class 'pandas.core.frame.DataFrame'>\n",
      "RangeIndex: 89 entries, 0 to 88\n",
      "Data columns (total 63 columns):\n",
      " #   Column                                  Non-Null Count  Dtype  \n",
      "---  ------                                  --------------  -----  \n",
      " 0   PatientID                               89 non-null     int64  \n",
      " 1   StudyDate                               89 non-null     int64  \n",
      " 2   SeriesInstanceUID                       89 non-null     object \n",
      " 3   CoordX                                  89 non-null     float64\n",
      " 4   CoordY                                  89 non-null     float64\n",
      " 5   CoordZ                                  89 non-null     float64\n",
      " 6   Age                                     89 non-null     int64  \n",
      " 7   Sex                                     89 non-null     int64  \n",
      " 8   FamilyHistoryLungCa                     89 non-null     int64  \n",
      " 9   Emphysema                               89 non-null     int64  \n",
      " 10  diameter_mm                             89 non-null     float64\n",
      " 11  NoduleCountPerScan                      89 non-null     int64  \n",
      " 12  Spiculated                              89 non-null     int64  \n",
      " 13  NoduleType                              89 non-null     object \n",
      " 14  Calcified                               89 non-null     int64  \n",
      " 15  PFN                                     89 non-null     int64  \n",
      " 16  UpperLobe                               89 non-null     int64  \n",
      " 17  PanCan2b                                89 non-null     float64\n",
      " 18  class                                   89 non-null     int64  \n",
      " 19  tag                                     89 non-null     object \n",
      " 20  ThoracicRadiologist1                    60 non-null     float64\n",
      " 21  RadiologyResident4                      60 non-null     float64\n",
      " 22  ThoracicRadiologist3                    60 non-null     float64\n",
      " 23  RadiologyResident5                      60 non-null     float64\n",
      " 24  ThoracicRadiologist4                    60 non-null     float64\n",
      " 25  RadiologyResident1                      60 non-null     float64\n",
      " 26  RadiologyResident3                      60 non-null     float64\n",
      " 27  ThoracicRadiologist2                    60 non-null     float64\n",
      " 28  Pulmonologist1                          60 non-null     float64\n",
      " 29  Pulmonologist2                          60 non-null     float64\n",
      " 30  RadiologyResident2                      60 non-null     float64\n",
      " 31  NoduleID                                89 non-null     object \n",
      " 32  AnnotationID                            89 non-null     object \n",
      " 33  label                                   89 non-null     int64  \n",
      " 34  mvresnet50_05.08.2020_deepr_50mm_fold0  89 non-null     float64\n",
      " 35  mvresnet50_05.08.2020_deepr_50mm_fold1  89 non-null     float64\n",
      " 36  mvresnet50_05.08.2020_deepr_50mm_fold2  89 non-null     float64\n",
      " 37  mvresnet50_05.08.2020_deepr_50mm_fold3  89 non-null     float64\n",
      " 38  mvresnet50_05.08.2020_deepr_50mm_fold4  89 non-null     float64\n",
      " 39  mvresnet50_05.08.2020_deepr_50mm_fold5  89 non-null     float64\n",
      " 40  mvresnet50_05.08.2020_deepr_50mm_fold6  89 non-null     float64\n",
      " 41  mvresnet50_05.08.2020_deepr_50mm_fold7  89 non-null     float64\n",
      " 42  mvresnet50_05.08.2020_deepr_50mm_fold8  89 non-null     float64\n",
      " 43  mvresnet50_05.08.2020_deepr_50mm_fold9  89 non-null     float64\n",
      " 44  i3d_05.08.2020_deepr_50mm_fold0         89 non-null     float64\n",
      " 45  i3d_05.08.2020_deepr_50mm_fold1         89 non-null     float64\n",
      " 46  i3d_05.08.2020_deepr_50mm_fold2         89 non-null     float64\n",
      " 47  i3d_05.08.2020_deepr_50mm_fold3         89 non-null     float64\n",
      " 48  i3d_05.08.2020_deepr_50mm_fold4         89 non-null     float64\n",
      " 49  i3d_05.08.2020_deepr_50mm_fold5         89 non-null     float64\n",
      " 50  i3d_05.08.2020_deepr_50mm_fold6         89 non-null     float64\n",
      " 51  i3d_05.08.2020_deepr_50mm_fold7         89 non-null     float64\n",
      " 52  i3d_05.08.2020_deepr_50mm_fold8         89 non-null     float64\n",
      " 53  i3d_05.08.2020_deepr_50mm_fold9         89 non-null     float64\n",
      " 54  DL                                      89 non-null     float64\n",
      " 55  std                                     89 non-null     float64\n",
      " 56  std_experts                             60 non-null     float64\n",
      " 57  expert_output                           60 non-null     float64\n",
      " 58  Mean_entropy                            89 non-null     float64\n",
      " 59  Size_label                              89 non-null     object \n",
      " 60  NoduleType_Size                         89 non-null     object \n",
      " 61  Group_label                             89 non-null     object \n",
      " 62  calibratedDL                            89 non-null     float64\n",
      "dtypes: float64(42), int64(13), object(8)\n",
      "memory usage: 43.9+ KB\n"
     ]
    },
    {
     "data": {
      "text/plain": [
       "(None, None)"
      ]
     },
     "execution_count": 80,
     "metadata": {},
     "output_type": "execute_result"
    }
   ],
   "source": [
    "df_dlcst_certain = pd.read_csv(DLCST_CERTAIN)\n",
    "df_dlcst_uncertain = pd.read_csv(DLCST_UNCERTAIN)\n",
    "df_dlcst_certain.info(), df_dlcst_uncertain.info()"
   ]
  },
  {
   "cell_type": "code",
   "execution_count": 81,
   "metadata": {},
   "outputs": [
    {
     "name": "stdout",
     "output_type": "stream",
     "text": [
      "<class 'pandas.core.frame.DataFrame'>\n",
      "RangeIndex: 883 entries, 0 to 882\n",
      "Data columns (total 63 columns):\n",
      " #   Column                                  Non-Null Count  Dtype  \n",
      "---  ------                                  --------------  -----  \n",
      " 0   PatientID                               883 non-null    int64  \n",
      " 1   StudyDate                               883 non-null    int64  \n",
      " 2   SeriesInstanceUID                       883 non-null    object \n",
      " 3   CoordX                                  883 non-null    float64\n",
      " 4   CoordY                                  883 non-null    float64\n",
      " 5   CoordZ                                  883 non-null    float64\n",
      " 6   Age                                     883 non-null    int64  \n",
      " 7   Sex                                     883 non-null    int64  \n",
      " 8   FamilyHistoryLungCa                     883 non-null    int64  \n",
      " 9   Emphysema                               883 non-null    int64  \n",
      " 10  diameter_mm                             883 non-null    float64\n",
      " 11  NoduleCountPerScan                      883 non-null    int64  \n",
      " 12  Spiculated                              883 non-null    int64  \n",
      " 13  NoduleType                              883 non-null    object \n",
      " 14  Calcified                               883 non-null    int64  \n",
      " 15  PFN                                     883 non-null    int64  \n",
      " 16  UpperLobe                               883 non-null    int64  \n",
      " 17  PanCan2b                                883 non-null    float64\n",
      " 18  class                                   883 non-null    int64  \n",
      " 19  tag                                     883 non-null    object \n",
      " 20  ThoracicRadiologist1                    293 non-null    float64\n",
      " 21  RadiologyResident4                      293 non-null    float64\n",
      " 22  ThoracicRadiologist3                    293 non-null    float64\n",
      " 23  RadiologyResident5                      293 non-null    float64\n",
      " 24  ThoracicRadiologist4                    293 non-null    float64\n",
      " 25  RadiologyResident1                      293 non-null    float64\n",
      " 26  RadiologyResident3                      293 non-null    float64\n",
      " 27  ThoracicRadiologist2                    293 non-null    float64\n",
      " 28  Pulmonologist1                          293 non-null    float64\n",
      " 29  Pulmonologist2                          293 non-null    float64\n",
      " 30  RadiologyResident2                      293 non-null    float64\n",
      " 31  NoduleID                                883 non-null    object \n",
      " 32  AnnotationID                            883 non-null    object \n",
      " 33  label                                   883 non-null    int64  \n",
      " 34  mvresnet50_05.08.2020_deepr_50mm_fold0  883 non-null    float64\n",
      " 35  mvresnet50_05.08.2020_deepr_50mm_fold1  883 non-null    float64\n",
      " 36  mvresnet50_05.08.2020_deepr_50mm_fold2  883 non-null    float64\n",
      " 37  mvresnet50_05.08.2020_deepr_50mm_fold3  883 non-null    float64\n",
      " 38  mvresnet50_05.08.2020_deepr_50mm_fold4  883 non-null    float64\n",
      " 39  mvresnet50_05.08.2020_deepr_50mm_fold5  883 non-null    float64\n",
      " 40  mvresnet50_05.08.2020_deepr_50mm_fold6  883 non-null    float64\n",
      " 41  mvresnet50_05.08.2020_deepr_50mm_fold7  883 non-null    float64\n",
      " 42  mvresnet50_05.08.2020_deepr_50mm_fold8  883 non-null    float64\n",
      " 43  mvresnet50_05.08.2020_deepr_50mm_fold9  883 non-null    float64\n",
      " 44  i3d_05.08.2020_deepr_50mm_fold0         883 non-null    float64\n",
      " 45  i3d_05.08.2020_deepr_50mm_fold1         883 non-null    float64\n",
      " 46  i3d_05.08.2020_deepr_50mm_fold2         883 non-null    float64\n",
      " 47  i3d_05.08.2020_deepr_50mm_fold3         883 non-null    float64\n",
      " 48  i3d_05.08.2020_deepr_50mm_fold4         883 non-null    float64\n",
      " 49  i3d_05.08.2020_deepr_50mm_fold5         883 non-null    float64\n",
      " 50  i3d_05.08.2020_deepr_50mm_fold6         883 non-null    float64\n",
      " 51  i3d_05.08.2020_deepr_50mm_fold7         883 non-null    float64\n",
      " 52  i3d_05.08.2020_deepr_50mm_fold8         883 non-null    float64\n",
      " 53  i3d_05.08.2020_deepr_50mm_fold9         883 non-null    float64\n",
      " 54  DL                                      883 non-null    float64\n",
      " 55  std                                     883 non-null    float64\n",
      " 56  std_experts                             293 non-null    float64\n",
      " 57  expert_output                           293 non-null    float64\n",
      " 58  Mean_entropy                            883 non-null    float64\n",
      " 59  Size_label                              883 non-null    object \n",
      " 60  NoduleType_Size                         883 non-null    object \n",
      " 61  Group_label                             883 non-null    object \n",
      " 62  calibratedDL                            883 non-null    float64\n",
      "dtypes: float64(42), int64(13), object(8)\n",
      "memory usage: 434.7+ KB\n"
     ]
    }
   ],
   "source": [
    "df_dlcst_uncertainty = pd.concat([df_dlcst_uncertain, df_dlcst_certain], axis=0, ignore_index=True).reset_index(drop=True)\n",
    "df_dlcst_uncertainty.info()"
   ]
  },
  {
   "cell_type": "code",
   "execution_count": 82,
   "metadata": {},
   "outputs": [
    {
     "data": {
      "text/plain": [
       "i3d_05.08.2020_deepr_50mm_fold2           883\n",
       "i3d_05.08.2020_deepr_50mm_fold0           883\n",
       "i3d_05.08.2020_deepr_50mm_fold1           883\n",
       "mvresnet50_05.08.2020_deepr_50mm_fold8    883\n",
       "mvresnet50_05.08.2020_deepr_50mm_fold7    883\n",
       "Mean_entropy                              883\n",
       "calibratedDL                              883\n",
       "DL                                        883\n",
       "i3d_05.08.2020_deepr_50mm_fold9           883\n",
       "i3d_05.08.2020_deepr_50mm_fold8           883\n",
       "i3d_05.08.2020_deepr_50mm_fold7           883\n",
       "i3d_05.08.2020_deepr_50mm_fold6           883\n",
       "i3d_05.08.2020_deepr_50mm_fold5           883\n",
       "i3d_05.08.2020_deepr_50mm_fold4           883\n",
       "std                                       883\n",
       "i3d_05.08.2020_deepr_50mm_fold3           883\n",
       "mvresnet50_05.08.2020_deepr_50mm_fold4    883\n",
       "mvresnet50_05.08.2020_deepr_50mm_fold2    883\n",
       "mvresnet50_05.08.2020_deepr_50mm_fold3    883\n",
       "mvresnet50_05.08.2020_deepr_50mm_fold1    883\n",
       "mvresnet50_05.08.2020_deepr_50mm_fold0    883\n",
       "mvresnet50_05.08.2020_deepr_50mm_fold6    883\n",
       "mvresnet50_05.08.2020_deepr_50mm_fold9    883\n",
       "mvresnet50_05.08.2020_deepr_50mm_fold5    883\n",
       "NoduleID                                  883\n",
       "AnnotationID                              883\n",
       "CoordY                                    842\n",
       "dtype: int64"
      ]
     },
     "execution_count": 82,
     "metadata": {},
     "output_type": "execute_result"
    }
   ],
   "source": [
    "df_dlcst_uncertainty.nunique().sort_values(ascending=False).head(27)"
   ]
  },
  {
   "cell_type": "code",
   "execution_count": 83,
   "metadata": {},
   "outputs": [
    {
     "name": "stdout",
     "output_type": "stream",
     "text": [
      "<class 'pandas.core.frame.DataFrame'>\n",
      "RangeIndex: 599 entries, 0 to 598\n",
      "Data columns (total 20 columns):\n",
      " #   Column               Non-Null Count  Dtype  \n",
      "---  ------               --------------  -----  \n",
      " 0   PatientID            599 non-null    int64  \n",
      " 1   StudyDate            599 non-null    int64  \n",
      " 2   SeriesInstanceUID    599 non-null    object \n",
      " 3   Age                  599 non-null    int64  \n",
      " 4   Sex                  599 non-null    int64  \n",
      " 5   FamilyHistoryLungCa  599 non-null    int64  \n",
      " 6   Emphysema            599 non-null    int64  \n",
      " 7   NoduleCountPerScan   599 non-null    int64  \n",
      " 8   sybil_year1          599 non-null    float64\n",
      " 9   sybil_year2          599 non-null    float64\n",
      " 10  sybil_year3          599 non-null    float64\n",
      " 11  sybil_year4          599 non-null    float64\n",
      " 12  sybil_year5          599 non-null    float64\n",
      " 13  sybil_year6          599 non-null    float64\n",
      " 14  PanCan2b             599 non-null    float64\n",
      " 15  Ensemble_Kiran       599 non-null    float64\n",
      " 16  thijmen_mean         599 non-null    float64\n",
      " 17  label                599 non-null    int64  \n",
      " 18  Ensemble_Kiran_cal   599 non-null    float64\n",
      " 19  thijmen_mean_cal     599 non-null    float64\n",
      "dtypes: float64(11), int64(8), object(1)\n",
      "memory usage: 93.7+ KB\n"
     ]
    }
   ],
   "source": [
    "dlcst_preds = pd.read_csv(DLCST_PREDS)\n",
    "dlcst_preds.info()"
   ]
  },
  {
   "cell_type": "code",
   "execution_count": 84,
   "metadata": {},
   "outputs": [
    {
     "name": "stdout",
     "output_type": "stream",
     "text": [
      "<class 'pandas.core.frame.DataFrame'>\n",
      "RangeIndex: 883 entries, 0 to 882\n",
      "Data columns (total 34 columns):\n",
      " #   Column               Non-Null Count  Dtype  \n",
      "---  ------               --------------  -----  \n",
      " 0   PatientID            883 non-null    int64  \n",
      " 1   StudyDate            883 non-null    int64  \n",
      " 2   SeriesInstanceUID    883 non-null    object \n",
      " 3   CoordX               883 non-null    float64\n",
      " 4   CoordY               883 non-null    float64\n",
      " 5   CoordZ               883 non-null    float64\n",
      " 6   Age                  883 non-null    int64  \n",
      " 7   Sex                  883 non-null    int64  \n",
      " 8   FamilyHistoryLungCa  883 non-null    int64  \n",
      " 9   Emphysema            883 non-null    int64  \n",
      " 10  NoduleSizeDLCST      883 non-null    float64\n",
      " 11  NoduleCountPerScan   883 non-null    int64  \n",
      " 12  Spiculated           883 non-null    int64  \n",
      " 13  NoduleType           883 non-null    object \n",
      " 14  Calcified            883 non-null    int64  \n",
      " 15  PFN                  883 non-null    int64  \n",
      " 16  UpperLobe            883 non-null    int64  \n",
      " 17  PanCan2b             883 non-null    float64\n",
      " 18  tag                  883 non-null    object \n",
      " 19  Liesbeth             293 non-null    float64\n",
      " 20  Mathilde             293 non-null    float64\n",
      " 21  Miranda              293 non-null    float64\n",
      " 22  Monique              293 non-null    float64\n",
      " 23  Nicola               293 non-null    float64\n",
      " 24  Onno                 293 non-null    float64\n",
      " 25  Rianne               293 non-null    float64\n",
      " 26  Santiago             293 non-null    float64\n",
      " 27  Asger                293 non-null    float64\n",
      " 28  Matiullah            293 non-null    float64\n",
      " 29  Marieke              293 non-null    float64\n",
      " 30  NoduleID             883 non-null    object \n",
      " 31  AnnotationID         883 non-null    object \n",
      " 32  label                883 non-null    int64  \n",
      " 33  Ensemble             883 non-null    float64\n",
      "dtypes: float64(17), int64(12), object(5)\n",
      "memory usage: 234.7+ KB\n"
     ]
    }
   ],
   "source": [
    "dlcst_preds_nodule = pd.read_csv(f\"{TEAMS_DIR}/dlcst/20220816_DLCST_full_Venk21.csv\")\n",
    "dlcst_preds_nodule.info()"
   ]
  },
  {
   "cell_type": "code",
   "execution_count": 85,
   "metadata": {},
   "outputs": [
    {
     "data": {
      "text/plain": [
       "PatientID              599\n",
       "SeriesInstanceUID      599\n",
       "thijmen_mean_cal       599\n",
       "thijmen_mean           599\n",
       "Ensemble_Kiran_cal     596\n",
       "Ensemble_Kiran         596\n",
       "PanCan2b               478\n",
       "StudyDate              221\n",
       "sybil_year6            103\n",
       "sybil_year5            100\n",
       "sybil_year4             82\n",
       "sybil_year3             82\n",
       "sybil_year1             61\n",
       "sybil_year2             60\n",
       "Age                     23\n",
       "NoduleCountPerScan       9\n",
       "FamilyHistoryLungCa      2\n",
       "Sex                      2\n",
       "Emphysema                2\n",
       "label                    2\n",
       "dtype: int64"
      ]
     },
     "execution_count": 85,
     "metadata": {},
     "output_type": "execute_result"
    }
   ],
   "source": [
    "dlcst_preds.nunique().sort_values(ascending=False)"
   ]
  },
  {
   "cell_type": "markdown",
   "metadata": {},
   "source": [
    "Ok, time to check the ensemble predictions."
   ]
  },
  {
   "cell_type": "code",
   "execution_count": 86,
   "metadata": {},
   "outputs": [],
   "source": [
    "ensemble_check_uncer = df_dlcst_uncertainty[['AnnotationID', 'DL']].sort_values(by='AnnotationID', ascending=True).reset_index(drop=True)\n",
    "ensemble_check_preds = dlcst_preds_nodule[['AnnotationID', 'Ensemble']].sort_values(by='AnnotationID', ascending=True).reset_index(drop=True)\n",
    "ensemble_check_preds['DL'] = ensemble_check_preds['Ensemble']"
   ]
  },
  {
   "cell_type": "code",
   "execution_count": 87,
   "metadata": {},
   "outputs": [
    {
     "data": {
      "text/html": [
       "<div>\n",
       "<style scoped>\n",
       "    .dataframe tbody tr th:only-of-type {\n",
       "        vertical-align: middle;\n",
       "    }\n",
       "\n",
       "    .dataframe tbody tr th {\n",
       "        vertical-align: top;\n",
       "    }\n",
       "\n",
       "    .dataframe thead tr th {\n",
       "        text-align: left;\n",
       "    }\n",
       "</style>\n",
       "<table border=\"1\" class=\"dataframe\">\n",
       "  <thead>\n",
       "    <tr>\n",
       "      <th></th>\n",
       "      <th colspan=\"2\" halign=\"left\">DL</th>\n",
       "    </tr>\n",
       "    <tr>\n",
       "      <th></th>\n",
       "      <th>self</th>\n",
       "      <th>other</th>\n",
       "    </tr>\n",
       "  </thead>\n",
       "  <tbody>\n",
       "    <tr>\n",
       "      <th>615</th>\n",
       "      <td>2.268332e-07</td>\n",
       "      <td>2.268332e-07</td>\n",
       "    </tr>\n",
       "    <tr>\n",
       "      <th>630</th>\n",
       "      <td>2.763743e-05</td>\n",
       "      <td>2.763743e-05</td>\n",
       "    </tr>\n",
       "    <tr>\n",
       "      <th>792</th>\n",
       "      <td>2.064720e-05</td>\n",
       "      <td>2.064720e-05</td>\n",
       "    </tr>\n",
       "  </tbody>\n",
       "</table>\n",
       "</div>"
      ],
      "text/plain": [
       "               DL              \n",
       "             self         other\n",
       "615  2.268332e-07  2.268332e-07\n",
       "630  2.763743e-05  2.763743e-05\n",
       "792  2.064720e-05  2.064720e-05"
      ]
     },
     "execution_count": 87,
     "metadata": {},
     "output_type": "execute_result"
    }
   ],
   "source": [
    "ensemble_check_preds[['AnnotationID', 'DL']].compare(ensemble_check_uncer[['AnnotationID', 'DL']])"
   ]
  },
  {
   "cell_type": "code",
   "execution_count": 88,
   "metadata": {},
   "outputs": [
    {
     "data": {
      "text/plain": [
       "'1.2.840.113704.1.111.4964.1106577805.10'"
      ]
     },
     "execution_count": 88,
     "metadata": {},
     "output_type": "execute_result"
    }
   ],
   "source": [
    "spot_check_series = dlcst_preds['SeriesInstanceUID'][0]\n",
    "spot_check_series"
   ]
  },
  {
   "cell_type": "code",
   "execution_count": 89,
   "metadata": {},
   "outputs": [
    {
     "data": {
      "text/html": [
       "<div>\n",
       "<style scoped>\n",
       "    .dataframe tbody tr th:only-of-type {\n",
       "        vertical-align: middle;\n",
       "    }\n",
       "\n",
       "    .dataframe tbody tr th {\n",
       "        vertical-align: top;\n",
       "    }\n",
       "\n",
       "    .dataframe thead th {\n",
       "        text-align: right;\n",
       "    }\n",
       "</style>\n",
       "<table border=\"1\" class=\"dataframe\">\n",
       "  <thead>\n",
       "    <tr style=\"text-align: right;\">\n",
       "      <th></th>\n",
       "      <th>SeriesInstanceUID</th>\n",
       "      <th>Ensemble_Kiran</th>\n",
       "    </tr>\n",
       "  </thead>\n",
       "  <tbody>\n",
       "    <tr>\n",
       "      <th>0</th>\n",
       "      <td>1.2.840.113704.1.111.4964.1106577805.10</td>\n",
       "      <td>0.082652</td>\n",
       "    </tr>\n",
       "  </tbody>\n",
       "</table>\n",
       "</div>"
      ],
      "text/plain": [
       "                         SeriesInstanceUID  Ensemble_Kiran\n",
       "0  1.2.840.113704.1.111.4964.1106577805.10        0.082652"
      ]
     },
     "metadata": {},
     "output_type": "display_data"
    },
    {
     "data": {
      "text/html": [
       "<div>\n",
       "<style scoped>\n",
       "    .dataframe tbody tr th:only-of-type {\n",
       "        vertical-align: middle;\n",
       "    }\n",
       "\n",
       "    .dataframe tbody tr th {\n",
       "        vertical-align: top;\n",
       "    }\n",
       "\n",
       "    .dataframe thead th {\n",
       "        text-align: right;\n",
       "    }\n",
       "</style>\n",
       "<table border=\"1\" class=\"dataframe\">\n",
       "  <thead>\n",
       "    <tr style=\"text-align: right;\">\n",
       "      <th></th>\n",
       "      <th>AnnotationID</th>\n",
       "      <th>Ensemble</th>\n",
       "    </tr>\n",
       "  </thead>\n",
       "  <tbody>\n",
       "    <tr>\n",
       "      <th>0</th>\n",
       "      <td>4_1_20050124</td>\n",
       "      <td>0.030901</td>\n",
       "    </tr>\n",
       "    <tr>\n",
       "      <th>1</th>\n",
       "      <td>4_2_20050124</td>\n",
       "      <td>0.001042</td>\n",
       "    </tr>\n",
       "    <tr>\n",
       "      <th>2</th>\n",
       "      <td>4_3_20050124</td>\n",
       "      <td>0.002834</td>\n",
       "    </tr>\n",
       "    <tr>\n",
       "      <th>3</th>\n",
       "      <td>4_4_20050124</td>\n",
       "      <td>0.000063</td>\n",
       "    </tr>\n",
       "    <tr>\n",
       "      <th>4</th>\n",
       "      <td>4_6_20050124</td>\n",
       "      <td>0.082652</td>\n",
       "    </tr>\n",
       "  </tbody>\n",
       "</table>\n",
       "</div>"
      ],
      "text/plain": [
       "   AnnotationID  Ensemble\n",
       "0  4_1_20050124  0.030901\n",
       "1  4_2_20050124  0.001042\n",
       "2  4_3_20050124  0.002834\n",
       "3  4_4_20050124  0.000063\n",
       "4  4_6_20050124  0.082652"
      ]
     },
     "metadata": {},
     "output_type": "display_data"
    },
    {
     "data": {
      "text/html": [
       "<div>\n",
       "<style scoped>\n",
       "    .dataframe tbody tr th:only-of-type {\n",
       "        vertical-align: middle;\n",
       "    }\n",
       "\n",
       "    .dataframe tbody tr th {\n",
       "        vertical-align: top;\n",
       "    }\n",
       "\n",
       "    .dataframe thead th {\n",
       "        text-align: right;\n",
       "    }\n",
       "</style>\n",
       "<table border=\"1\" class=\"dataframe\">\n",
       "  <thead>\n",
       "    <tr style=\"text-align: right;\">\n",
       "      <th></th>\n",
       "      <th>SeriesInstanceUID</th>\n",
       "      <th>AnnotationID</th>\n",
       "      <th>DL</th>\n",
       "      <th>Mean_entropy</th>\n",
       "    </tr>\n",
       "  </thead>\n",
       "  <tbody>\n",
       "    <tr>\n",
       "      <th>89</th>\n",
       "      <td>1.2.840.113704.1.111.4964.1106577805.10</td>\n",
       "      <td>4_1_20050124</td>\n",
       "      <td>0.030901</td>\n",
       "      <td>0.438489</td>\n",
       "    </tr>\n",
       "    <tr>\n",
       "      <th>90</th>\n",
       "      <td>1.2.840.113704.1.111.4964.1106577805.10</td>\n",
       "      <td>4_2_20050124</td>\n",
       "      <td>0.001042</td>\n",
       "      <td>0.093826</td>\n",
       "    </tr>\n",
       "    <tr>\n",
       "      <th>91</th>\n",
       "      <td>1.2.840.113704.1.111.4964.1106577805.10</td>\n",
       "      <td>4_3_20050124</td>\n",
       "      <td>0.002834</td>\n",
       "      <td>0.147615</td>\n",
       "    </tr>\n",
       "    <tr>\n",
       "      <th>92</th>\n",
       "      <td>1.2.840.113704.1.111.4964.1106577805.10</td>\n",
       "      <td>4_4_20050124</td>\n",
       "      <td>0.000063</td>\n",
       "      <td>0.028098</td>\n",
       "    </tr>\n",
       "    <tr>\n",
       "      <th>93</th>\n",
       "      <td>1.2.840.113704.1.111.4964.1106577805.10</td>\n",
       "      <td>4_6_20050124</td>\n",
       "      <td>0.082652</td>\n",
       "      <td>0.418363</td>\n",
       "    </tr>\n",
       "  </tbody>\n",
       "</table>\n",
       "</div>"
      ],
      "text/plain": [
       "                          SeriesInstanceUID  AnnotationID        DL  \\\n",
       "89  1.2.840.113704.1.111.4964.1106577805.10  4_1_20050124  0.030901   \n",
       "90  1.2.840.113704.1.111.4964.1106577805.10  4_2_20050124  0.001042   \n",
       "91  1.2.840.113704.1.111.4964.1106577805.10  4_3_20050124  0.002834   \n",
       "92  1.2.840.113704.1.111.4964.1106577805.10  4_4_20050124  0.000063   \n",
       "93  1.2.840.113704.1.111.4964.1106577805.10  4_6_20050124  0.082652   \n",
       "\n",
       "    Mean_entropy  \n",
       "89      0.438489  \n",
       "90      0.093826  \n",
       "91      0.147615  \n",
       "92      0.028098  \n",
       "93      0.418363  "
      ]
     },
     "metadata": {},
     "output_type": "display_data"
    }
   ],
   "source": [
    "display(dlcst_preds.query(f'SeriesInstanceUID == \"{spot_check_series}\"')[['SeriesInstanceUID', 'Ensemble_Kiran']])\n",
    "display(dlcst_preds_nodule.query(f'SeriesInstanceUID == \"{spot_check_series}\"')[['AnnotationID', 'Ensemble']])\n",
    "display(df_dlcst_uncertainty.query(f'SeriesInstanceUID == \"{spot_check_series}\"')[['SeriesInstanceUID', 'AnnotationID', 'DL', 'Mean_entropy']])"
   ]
  },
  {
   "cell_type": "markdown",
   "metadata": {},
   "source": [
    "Ok, so the predictions are the same."
   ]
  },
  {
   "cell_type": "code",
   "execution_count": 90,
   "metadata": {},
   "outputs": [
    {
     "name": "stdout",
     "output_type": "stream",
     "text": [
      "<class 'pandas.core.frame.DataFrame'>\n",
      "RangeIndex: 883 entries, 0 to 882\n",
      "Data columns (total 35 columns):\n",
      " #   Column               Non-Null Count  Dtype  \n",
      "---  ------               --------------  -----  \n",
      " 0   PatientID            883 non-null    int64  \n",
      " 1   StudyDate            883 non-null    int64  \n",
      " 2   SeriesInstanceUID    883 non-null    object \n",
      " 3   CoordX               883 non-null    float64\n",
      " 4   CoordY               883 non-null    float64\n",
      " 5   CoordZ               883 non-null    float64\n",
      " 6   Age                  883 non-null    int64  \n",
      " 7   Sex                  883 non-null    int64  \n",
      " 8   FamilyHistoryLungCa  883 non-null    int64  \n",
      " 9   Emphysema            883 non-null    int64  \n",
      " 10  NoduleSizeDLCST      883 non-null    float64\n",
      " 11  NoduleCountPerScan   883 non-null    int64  \n",
      " 12  Spiculated           883 non-null    int64  \n",
      " 13  NoduleType           883 non-null    object \n",
      " 14  Calcified            883 non-null    int64  \n",
      " 15  PFN                  883 non-null    int64  \n",
      " 16  UpperLobe            883 non-null    int64  \n",
      " 17  PanCan2b             883 non-null    float64\n",
      " 18  tag                  883 non-null    object \n",
      " 19  Liesbeth             293 non-null    float64\n",
      " 20  Mathilde             293 non-null    float64\n",
      " 21  Miranda              293 non-null    float64\n",
      " 22  Monique              293 non-null    float64\n",
      " 23  Nicola               293 non-null    float64\n",
      " 24  Onno                 293 non-null    float64\n",
      " 25  Rianne               293 non-null    float64\n",
      " 26  Santiago             293 non-null    float64\n",
      " 27  Asger                293 non-null    float64\n",
      " 28  Matiullah            293 non-null    float64\n",
      " 29  Marieke              293 non-null    float64\n",
      " 30  NoduleID             883 non-null    object \n",
      " 31  AnnotationID         883 non-null    object \n",
      " 32  label                883 non-null    int64  \n",
      " 33  Ensemble             883 non-null    float64\n",
      " 34  Mean_entropy         883 non-null    float64\n",
      "dtypes: float64(18), int64(12), object(5)\n",
      "memory usage: 241.6+ KB\n"
     ]
    }
   ],
   "source": [
    "dlcst_preds_nodule_w_entropy = dlcst_preds_nodule.merge(\n",
    "    right=df_dlcst_uncertainty[['AnnotationID', 'Mean_entropy']], how='left', \n",
    "    on=['AnnotationID'], suffixes=('', '')\n",
    ")\n",
    "dlcst_preds_nodule_w_entropy.info()"
   ]
  },
  {
   "cell_type": "code",
   "execution_count": 91,
   "metadata": {},
   "outputs": [],
   "source": [
    "dlcst_preds_nodule_w_entropy.to_csv(f\"{TEAMS_DIR}/dlcst/20220816_DLCST_full_Venk21_w_uncertainty.csv\", index=False)"
   ]
  },
  {
   "cell_type": "code",
   "execution_count": 92,
   "metadata": {},
   "outputs": [],
   "source": [
    "df_dlcst_uncertainty.to_csv(f\"{TEAMS_DIR}/dlcst/dlcst_uncertainty_Venk21.csv\", index=False)"
   ]
  },
  {
   "cell_type": "code",
   "execution_count": 93,
   "metadata": {},
   "outputs": [],
   "source": [
    "df_dlcst_uncertainty['Ensemble_Kiran'] = df_dlcst_uncertainty['DL']"
   ]
  },
  {
   "cell_type": "code",
   "execution_count": 94,
   "metadata": {},
   "outputs": [
    {
     "data": {
      "text/html": [
       "<div>\n",
       "<style scoped>\n",
       "    .dataframe tbody tr th:only-of-type {\n",
       "        vertical-align: middle;\n",
       "    }\n",
       "\n",
       "    .dataframe tbody tr th {\n",
       "        vertical-align: top;\n",
       "    }\n",
       "\n",
       "    .dataframe thead th {\n",
       "        text-align: right;\n",
       "    }\n",
       "</style>\n",
       "<table border=\"1\" class=\"dataframe\">\n",
       "  <thead>\n",
       "    <tr style=\"text-align: right;\">\n",
       "      <th></th>\n",
       "      <th>SeriesInstanceUID</th>\n",
       "      <th>Ensemble_Kiran</th>\n",
       "      <th>Mean_entropy</th>\n",
       "    </tr>\n",
       "  </thead>\n",
       "  <tbody>\n",
       "    <tr>\n",
       "      <th>0</th>\n",
       "      <td>1.2.840.113704.1.111.616.1112795278.10</td>\n",
       "      <td>0.709479</td>\n",
       "      <td>0.610065</td>\n",
       "    </tr>\n",
       "    <tr>\n",
       "      <th>1</th>\n",
       "      <td>1.2.840.113704.1.111.4620.1102346626.10</td>\n",
       "      <td>0.322166</td>\n",
       "      <td>0.561323</td>\n",
       "    </tr>\n",
       "    <tr>\n",
       "      <th>2</th>\n",
       "      <td>1.2.840.113704.1.111.3652.1193760933.11</td>\n",
       "      <td>0.692819</td>\n",
       "      <td>0.628372</td>\n",
       "    </tr>\n",
       "    <tr>\n",
       "      <th>3</th>\n",
       "      <td>1.2.840.113704.1.111.5808.1100791833.10</td>\n",
       "      <td>0.726948</td>\n",
       "      <td>0.601210</td>\n",
       "    </tr>\n",
       "    <tr>\n",
       "      <th>4</th>\n",
       "      <td>1.2.840.113704.1.111.9592.1200934074.11</td>\n",
       "      <td>0.274001</td>\n",
       "      <td>0.508309</td>\n",
       "    </tr>\n",
       "    <tr>\n",
       "      <th>...</th>\n",
       "      <td>...</td>\n",
       "      <td>...</td>\n",
       "      <td>...</td>\n",
       "    </tr>\n",
       "    <tr>\n",
       "      <th>878</th>\n",
       "      <td>1.2.840.113704.1.111.5848.1144079789.11</td>\n",
       "      <td>0.000007</td>\n",
       "      <td>0.014936</td>\n",
       "    </tr>\n",
       "    <tr>\n",
       "      <th>879</th>\n",
       "      <td>1.2.840.113704.1.111.5848.1144079789.11</td>\n",
       "      <td>0.081857</td>\n",
       "      <td>0.462017</td>\n",
       "    </tr>\n",
       "    <tr>\n",
       "      <th>880</th>\n",
       "      <td>1.2.840.113704.1.111.5112.1144079519.11</td>\n",
       "      <td>0.000162</td>\n",
       "      <td>0.040947</td>\n",
       "    </tr>\n",
       "    <tr>\n",
       "      <th>881</th>\n",
       "      <td>1.2.840.113704.1.111.5112.1144079519.11</td>\n",
       "      <td>0.001050</td>\n",
       "      <td>0.066176</td>\n",
       "    </tr>\n",
       "    <tr>\n",
       "      <th>882</th>\n",
       "      <td>1.2.840.113704.1.111.5112.1144079519.11</td>\n",
       "      <td>0.000063</td>\n",
       "      <td>0.019321</td>\n",
       "    </tr>\n",
       "  </tbody>\n",
       "</table>\n",
       "<p>883 rows × 3 columns</p>\n",
       "</div>"
      ],
      "text/plain": [
       "                           SeriesInstanceUID  Ensemble_Kiran  Mean_entropy\n",
       "0     1.2.840.113704.1.111.616.1112795278.10        0.709479      0.610065\n",
       "1    1.2.840.113704.1.111.4620.1102346626.10        0.322166      0.561323\n",
       "2    1.2.840.113704.1.111.3652.1193760933.11        0.692819      0.628372\n",
       "3    1.2.840.113704.1.111.5808.1100791833.10        0.726948      0.601210\n",
       "4    1.2.840.113704.1.111.9592.1200934074.11        0.274001      0.508309\n",
       "..                                       ...             ...           ...\n",
       "878  1.2.840.113704.1.111.5848.1144079789.11        0.000007      0.014936\n",
       "879  1.2.840.113704.1.111.5848.1144079789.11        0.081857      0.462017\n",
       "880  1.2.840.113704.1.111.5112.1144079519.11        0.000162      0.040947\n",
       "881  1.2.840.113704.1.111.5112.1144079519.11        0.001050      0.066176\n",
       "882  1.2.840.113704.1.111.5112.1144079519.11        0.000063      0.019321\n",
       "\n",
       "[883 rows x 3 columns]"
      ]
     },
     "execution_count": 94,
     "metadata": {},
     "output_type": "execute_result"
    }
   ],
   "source": [
    "df_dlcst_uncertainty[['SeriesInstanceUID', 'Ensemble_Kiran', 'Mean_entropy']]"
   ]
  },
  {
   "cell_type": "code",
   "execution_count": 95,
   "metadata": {},
   "outputs": [],
   "source": [
    "def make_str_join_key(row):\n",
    "    return f\"{row['SeriesInstanceUID']} {row['Ensemble_Kiran']}\""
   ]
  },
  {
   "cell_type": "code",
   "execution_count": 96,
   "metadata": {},
   "outputs": [
    {
     "name": "stdout",
     "output_type": "stream",
     "text": [
      "<class 'pandas.core.frame.DataFrame'>\n",
      "RangeIndex: 599 entries, 0 to 598\n",
      "Data columns (total 21 columns):\n",
      " #   Column               Non-Null Count  Dtype  \n",
      "---  ------               --------------  -----  \n",
      " 0   PatientID            599 non-null    int64  \n",
      " 1   StudyDate            599 non-null    int64  \n",
      " 2   SeriesInstanceUID    599 non-null    object \n",
      " 3   Age                  599 non-null    int64  \n",
      " 4   Sex                  599 non-null    int64  \n",
      " 5   FamilyHistoryLungCa  599 non-null    int64  \n",
      " 6   Emphysema            599 non-null    int64  \n",
      " 7   NoduleCountPerScan   599 non-null    int64  \n",
      " 8   sybil_year1          599 non-null    float64\n",
      " 9   sybil_year2          599 non-null    float64\n",
      " 10  sybil_year3          599 non-null    float64\n",
      " 11  sybil_year4          599 non-null    float64\n",
      " 12  sybil_year5          599 non-null    float64\n",
      " 13  sybil_year6          599 non-null    float64\n",
      " 14  PanCan2b             599 non-null    float64\n",
      " 15  Ensemble_Kiran       599 non-null    float64\n",
      " 16  thijmen_mean         599 non-null    float64\n",
      " 17  label                599 non-null    int64  \n",
      " 18  Ensemble_Kiran_cal   599 non-null    float64\n",
      " 19  thijmen_mean_cal     599 non-null    float64\n",
      " 20  joinkey              599 non-null    object \n",
      "dtypes: float64(11), int64(8), object(2)\n",
      "memory usage: 98.4+ KB\n"
     ]
    }
   ],
   "source": [
    "dlcst_preds['joinkey'] = dlcst_preds.apply(make_str_join_key, axis=1)\n",
    "df_dlcst_uncertainty['joinkey'] = df_dlcst_uncertainty.apply(make_str_join_key, axis=1)\n",
    "dlcst_preds.info()"
   ]
  },
  {
   "cell_type": "code",
   "execution_count": null,
   "metadata": {},
   "outputs": [],
   "source": []
  },
  {
   "cell_type": "code",
   "execution_count": 97,
   "metadata": {},
   "outputs": [
    {
     "name": "stdout",
     "output_type": "stream",
     "text": [
      "<class 'pandas.core.frame.DataFrame'>\n",
      "RangeIndex: 599 entries, 0 to 598\n",
      "Data columns (total 22 columns):\n",
      " #   Column               Non-Null Count  Dtype  \n",
      "---  ------               --------------  -----  \n",
      " 0   PatientID            599 non-null    int64  \n",
      " 1   StudyDate            599 non-null    int64  \n",
      " 2   SeriesInstanceUID    599 non-null    object \n",
      " 3   Age                  599 non-null    int64  \n",
      " 4   Sex                  599 non-null    int64  \n",
      " 5   FamilyHistoryLungCa  599 non-null    int64  \n",
      " 6   Emphysema            599 non-null    int64  \n",
      " 7   NoduleCountPerScan   599 non-null    int64  \n",
      " 8   sybil_year1          599 non-null    float64\n",
      " 9   sybil_year2          599 non-null    float64\n",
      " 10  sybil_year3          599 non-null    float64\n",
      " 11  sybil_year4          599 non-null    float64\n",
      " 12  sybil_year5          599 non-null    float64\n",
      " 13  sybil_year6          599 non-null    float64\n",
      " 14  PanCan2b             599 non-null    float64\n",
      " 15  Ensemble_Kiran       599 non-null    float64\n",
      " 16  thijmen_mean         599 non-null    float64\n",
      " 17  label                599 non-null    int64  \n",
      " 18  Ensemble_Kiran_cal   599 non-null    float64\n",
      " 19  thijmen_mean_cal     599 non-null    float64\n",
      " 20  joinkey              599 non-null    object \n",
      " 21  Mean_entropy         0 non-null      float64\n",
      "dtypes: float64(12), int64(8), object(2)\n",
      "memory usage: 103.1+ KB\n"
     ]
    }
   ],
   "source": [
    "dlcst_preds_w_entropy = dlcst_preds.merge(\n",
    "    right=df_dlcst_uncertainty[['joinkey', 'Mean_entropy']], \n",
    "    left_on=['joinkey'], how='left',\n",
    "    right_on=['joinkey'],\n",
    "    # suffixes=('', '_Kiran'), copy=False\n",
    ")\n",
    "dlcst_preds_w_entropy.info()"
   ]
  },
  {
   "cell_type": "markdown",
   "metadata": {},
   "source": [
    "## NLST"
   ]
  },
  {
   "cell_type": "code",
   "execution_count": 98,
   "metadata": {},
   "outputs": [
    {
     "name": "stdout",
     "output_type": "stream",
     "text": [
      "<class 'pandas.core.frame.DataFrame'>\n",
      "RangeIndex: 16077 entries, 0 to 16076\n",
      "Data columns (total 17 columns):\n",
      " #   Column                                  Non-Null Count  Dtype  \n",
      "---  ------                                  --------------  -----  \n",
      " 0   PatientID                               16077 non-null  int64  \n",
      " 1   SeriesInstanceUID                       16077 non-null  object \n",
      " 2   StudyDate                               16077 non-null  int64  \n",
      " 3   CoordX                                  16077 non-null  float64\n",
      " 4   CoordY                                  16077 non-null  float64\n",
      " 5   CoordZ                                  16077 non-null  float64\n",
      " 6   Diameter [mm]                           16077 non-null  float64\n",
      " 7   NoduleType                              16076 non-null  object \n",
      " 8   label                                   16077 non-null  int64  \n",
      " 9   LesionID                                16077 non-null  int64  \n",
      " 10  NoduleID                                16077 non-null  object \n",
      " 11  AnnotationID                            16077 non-null  object \n",
      " 12  logit_mvresnet50_05.08.2020_deepr_50mm  16077 non-null  float64\n",
      " 13  logit_i3d_05.08.2020_deepr_50mm         16077 non-null  float64\n",
      " 14  Mean_logit                              16077 non-null  float64\n",
      " 15  Ensemble                                16077 non-null  float64\n",
      " 16  Mean_entropy                            16077 non-null  float64\n",
      "dtypes: float64(9), int64(4), object(4)\n",
      "memory usage: 2.1+ MB\n"
     ]
    }
   ],
   "source": [
    "dataset = pd.read_csv(NLST_LOGITS)\n",
    "\n",
    "\n",
    "data_pred = expit(dataset[['logit_mvresnet50_05.08.2020_deepr_50mm',\n",
    "                            'logit_i3d_05.08.2020_deepr_50mm']])\n",
    "\n",
    "for index, row in data_pred.iterrows():\n",
    "    prediction_entropy = []\n",
    "    for value in row:\n",
    "        class1 = value\n",
    "        class0 = 1 - value\n",
    "        entr = entropy([class0, class1], base=2)\n",
    "        prediction_entropy.append(entr)\n",
    "    dataset.loc[index, 'Mean_entropy'] = np.mean(prediction_entropy)\n",
    " \n",
    "dataset.info()"
   ]
  },
  {
   "cell_type": "code",
   "execution_count": 99,
   "metadata": {},
   "outputs": [
    {
     "name": "stdout",
     "output_type": "stream",
     "text": [
      "<class 'pandas.core.frame.DataFrame'>\n",
      "RangeIndex: 16077 entries, 0 to 16076\n",
      "Columns: 126 entries, PatientID to Unfinished_ed\n",
      "dtypes: bool(27), float64(85), int64(11), object(3)\n",
      "memory usage: 12.6+ MB\n"
     ]
    }
   ],
   "source": [
    "nlst_preds_nodule = pd.read_csv(NLST_PREDS)\n",
    "nlst_preds_nodule.info()"
   ]
  },
  {
   "cell_type": "code",
   "execution_count": 101,
   "metadata": {},
   "outputs": [
    {
     "data": {
      "text/plain": [
       "Mean_logit                                16077\n",
       "AnnotationID                              16077\n",
       "Mean_entropy                              16077\n",
       "Ensemble                                  16076\n",
       "logit_i3d_05.08.2020_deepr_50mm           16075\n",
       "logit_mvresnet50_05.08.2020_deepr_50mm    16075\n",
       "CoordZ                                    13528\n",
       "CoordY                                    13071\n",
       "CoordX                                    11867\n",
       "SeriesInstanceUID                         10183\n",
       "NoduleID                                  10024\n",
       "PatientID                                  5282\n",
       "Diameter [mm]                               368\n",
       "LesionID                                     18\n",
       "NoduleType                                    7\n",
       "StudyDate                                     3\n",
       "label                                         2\n",
       "dtype: int64"
      ]
     },
     "execution_count": 101,
     "metadata": {},
     "output_type": "execute_result"
    }
   ],
   "source": [
    "dataset.nunique().sort_values(ascending=False)"
   ]
  },
  {
   "cell_type": "code",
   "execution_count": 103,
   "metadata": {},
   "outputs": [],
   "source": [
    "nlst_preds_nodule = nlst_preds_nodule.sort_values(by='AnnotationID', ascending=True)\n",
    "nlst_uncertainty = dataset.sort_values(by='AnnotationID', ascending=True)"
   ]
  },
  {
   "cell_type": "code",
   "execution_count": 104,
   "metadata": {},
   "outputs": [
    {
     "name": "stdout",
     "output_type": "stream",
     "text": [
      "<class 'pandas.core.frame.DataFrame'>\n",
      "Index: 16077 entries, 7664 to 7663\n",
      "Columns: 127 entries, PatientID to Mean_Entropy_Kiran\n",
      "dtypes: bool(27), float64(86), int64(11), object(3)\n",
      "memory usage: 12.8+ MB\n"
     ]
    }
   ],
   "source": [
    "nlst_preds_nodule['Mean_Entropy_Kiran'] = nlst_uncertainty['Mean_entropy']\n",
    "nlst_preds_nodule.info()"
   ]
  },
  {
   "cell_type": "code",
   "execution_count": 105,
   "metadata": {},
   "outputs": [],
   "source": [
    "nlst_preds_nodule.to_csv(NLST_PREDS, index=False)"
   ]
  }
 ],
 "metadata": {
  "kernelspec": {
   "display_name": "Python 3",
   "language": "python",
   "name": "python3"
  },
  "language_info": {
   "codemirror_mode": {
    "name": "ipython",
    "version": 3
   },
   "file_extension": ".py",
   "mimetype": "text/x-python",
   "name": "python",
   "nbconvert_exporter": "python",
   "pygments_lexer": "ipython3",
   "version": "3.11.9"
  }
 },
 "nbformat": 4,
 "nbformat_minor": 2
}
