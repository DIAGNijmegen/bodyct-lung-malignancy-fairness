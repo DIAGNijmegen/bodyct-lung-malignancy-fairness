{
 "cells": [
  {
   "cell_type": "code",
   "execution_count": null,
   "metadata": {},
   "outputs": [],
   "source": [
    "import pandas as pd\n",
    "import os\n",
    "import numpy as np\n",
    "import json\n",
    "import seaborn as sns\n",
    "import matplotlib.pyplot as plt\n",
    "import copy\n",
    "from IPython.display import display, Markdown\n",
    "\n",
    "from utilities import data\n",
    "from utilities.info import *\n",
    "\n",
    "%matplotlib inline\n",
    "FILE_DIR"
   ]
  },
  {
   "cell_type": "markdown",
   "metadata": {},
   "source": [
    "## Grab Data for Each Model"
   ]
  },
  {
   "cell_type": "code",
   "execution_count": null,
   "metadata": {},
   "outputs": [],
   "source": [
    "kiran_nodule = pd.read_csv(f\"{FILE_DIR}/nlst_allmodels_demos.csv\")\n",
    "\n",
    "with open(f'{FILE_DIR}/nlst_democols.json') as json_data:\n",
    "    kiran_demos_original = json.load(json_data)\n",
    "    json_data.close()\n",
    "\n",
    "kiran_data, kiran_demos, _ = data.prep_nlst_preds(kiran_nodule, kiran_demos_original, scanlevel=True, sybil=False, tijmen=False, bin_num=False)\n",
    "kiran_demos['cat']['other'].append('label')\n",
    "kiran_demos"
   ]
  },
  {
   "cell_type": "code",
   "execution_count": null,
   "metadata": {},
   "outputs": [],
   "source": [
    "sybil_data = pd.read_csv(f\"{FILE_DIR}/nlst_sybil_demos.csv\")\n",
    "\n",
    "with open(f'{FILE_DIR}/nlst_sybil_democols.json') as json_data:\n",
    "    sybil_demos = json.load(json_data)\n",
    "    json_data.close()\n",
    "\n",
    "sybil_demos"
   ]
  },
  {
   "cell_type": "markdown",
   "metadata": {},
   "source": [
    "Get data for Tijmen's linear layer."
   ]
  },
  {
   "cell_type": "code",
   "execution_count": null,
   "metadata": {},
   "outputs": [],
   "source": [
    "tijmen_train = kiran_data[kiran_data['Thijmen_mean'].isna()]\n",
    "print(\"train:\", len(tijmen_train), \"Scans\")\n",
    "tijmen_val = kiran_data[~kiran_data['Thijmen_mean'].isna()]\n",
    "print(\"val:\", len(tijmen_val), \"Scans\")"
   ]
  },
  {
   "cell_type": "code",
   "execution_count": null,
   "metadata": {},
   "outputs": [],
   "source": [
    "sybil_splits = {s: sybil_data.query(f'split == \"{s}\"') for s in ['train', 'dev', 'test']}\n",
    "for s in ['train', 'dev', 'test']:\n",
    "    print(s, len(sybil_splits[s]), 'Scans')"
   ]
  },
  {
   "cell_type": "markdown",
   "metadata": {},
   "source": [
    "## Model Training Sets"
   ]
  },
  {
   "cell_type": "code",
   "execution_count": null,
   "metadata": {},
   "outputs": [],
   "source": [
    "training_sets = {\n",
    "    'Kiran': kiran_data,\n",
    "    'Tijmen': tijmen_train,\n",
    "    'Sybil': sybil_splits['train']\n",
    "}"
   ]
  },
  {
   "cell_type": "markdown",
   "metadata": {},
   "source": [
    "### Categorical columns"
   ]
  },
  {
   "cell_type": "code",
   "execution_count": null,
   "metadata": {},
   "outputs": [],
   "source": [
    "cat_demo_splits = data.combine_diff_dfs(sybil_demos['cat'], data.diffs_category_prevalence, training_sets).dropna(subset='value', axis=0).query('value != 0')\n",
    "display(cat_demo_splits.sort_values(by='diff_Kiran_Sybil', ascending=False).head(10))\n",
    "display(cat_demo_splits.sort_values(by='diff_Kiran_Sybil', ascending=True ).head(10))"
   ]
  },
  {
   "cell_type": "code",
   "execution_count": null,
   "metadata": {},
   "outputs": [],
   "source": [
    "display(cat_demo_splits.query('category == \"demo\"').sort_values(by='diff_Kiran_Sybil', ascending=False).head(10))\n",
    "cat_demo_splits.query('category == \"demo\"').sort_values(by='diff_Kiran_Sybil', ascending=True).head(10)"
   ]
  },
  {
   "cell_type": "markdown",
   "metadata": {},
   "source": [
    "### Numerical columns"
   ]
  },
  {
   "cell_type": "code",
   "execution_count": null,
   "metadata": {},
   "outputs": [],
   "source": [
    "num_demo_splits = data.combine_diff_dfs(sybil_demos['num'], data.diffs_numerical_means, training_sets)\n",
    "display(num_demo_splits.sort_values(by='diff_Kiran_Sybil', ascending=False).query('diff_Kiran_Sybil > 0'))\n",
    "num_demo_splits.sort_values(by='diff_Kiran_Sybil', ascending=True).query('diff_Kiran_Sybil < 0')"
   ]
  },
  {
   "cell_type": "markdown",
   "metadata": {},
   "source": [
    "## Model Validation Sets"
   ]
  },
  {
   "cell_type": "code",
   "execution_count": null,
   "metadata": {},
   "outputs": [],
   "source": [
    "val_sets = {\n",
    "    'Kiran': kiran_data,\n",
    "    'Tijmen': tijmen_val,\n",
    "    'SybilDev': sybil_splits['dev'],\n",
    "    'SybilTest': sybil_splits['test']\n",
    "}"
   ]
  },
  {
   "cell_type": "markdown",
   "metadata": {},
   "source": [
    "### Categorical columns"
   ]
  },
  {
   "cell_type": "code",
   "execution_count": null,
   "metadata": {},
   "outputs": [],
   "source": [
    "cat_demo_val = data.combine_diff_dfs(sybil_demos['cat'], data.diffs_category_prevalence, val_sets).dropna(subset='value', axis=0).query('value != 0')\n",
    "display(cat_demo_val.sort_values(by='diff_Kiran_SybilTest', ascending=False).head(10))\n",
    "display(cat_demo_val.sort_values(by='diff_Kiran_SybilTest', ascending=True ).head(10))"
   ]
  },
  {
   "cell_type": "markdown",
   "metadata": {},
   "source": [
    "### Numerical columns"
   ]
  },
  {
   "cell_type": "code",
   "execution_count": null,
   "metadata": {},
   "outputs": [],
   "source": [
    "num_demo_val = data.combine_diff_dfs(sybil_demos['num'], data.diffs_numerical_means, val_sets)    \n",
    "display(num_demo_val.sort_values(by='diff_Kiran_SybilTest', ascending=False).head(10))\n",
    "display(num_demo_val.sort_values(by='diff_Kiran_SybilTest', ascending=True ).head(10))"
   ]
  },
  {
   "cell_type": "markdown",
   "metadata": {},
   "source": [
    "## Sybil Train vs. Validation Sets"
   ]
  },
  {
   "cell_type": "code",
   "execution_count": null,
   "metadata": {},
   "outputs": [],
   "source": [
    "sybil_splits[\"eval\"] = kiran_data"
   ]
  },
  {
   "cell_type": "code",
   "execution_count": null,
   "metadata": {},
   "outputs": [],
   "source": [
    "cat_demo_shift = data.combine_diff_dfs(sybil_demos['cat'], data.diffs_category_prevalence, sybil_splits).dropna(subset='value', axis=0).query('value != 0')\n",
    "display(cat_demo_shift.sort_values(by='diff_train_test', ascending=False).head(10))\n",
    "cat_demo_shift.sort_values(by='diff_train_test', ascending=True).head(10)"
   ]
  },
  {
   "cell_type": "code",
   "execution_count": null,
   "metadata": {},
   "outputs": [],
   "source": [
    "num_demo_shift = data.combine_diff_dfs(sybil_demos['num'], data.diffs_numerical_means, sybil_splits)\n",
    "display(num_demo_shift.sort_values(by='diff_train_test', ascending=False).head(10))\n",
    "num_demo_shift.sort_values(by='diff_train_test', ascending=True).head(10)"
   ]
  },
  {
   "cell_type": "markdown",
   "metadata": {},
   "source": [
    "Conclusion: not much demographic shift (1-2% overall not much, really). Besides family history."
   ]
  },
  {
   "cell_type": "markdown",
   "metadata": {},
   "source": [
    "## NLST vs. DLCST"
   ]
  },
  {
   "cell_type": "code",
   "execution_count": null,
   "metadata": {},
   "outputs": [],
   "source": [
    "dlcst_preds = pd.read_csv(f\"{FILE_DIR}/dlcst_allmodels_cal.csv\", header=0)\n",
    "dlcst_preds.info()"
   ]
  },
  {
   "cell_type": "code",
   "execution_count": null,
   "metadata": {},
   "outputs": [],
   "source": [
    "kiran_data['Sex'] = kiran_data['Gender']\n",
    "kiran_data['NoduleCountPerScan'] = kiran_data['NoduleCounts']\n",
    "kiran_data['Emphysema'] = kiran_data['Emphysema'].astype(int)"
   ]
  },
  {
   "cell_type": "code",
   "execution_count": null,
   "metadata": {},
   "outputs": [],
   "source": [
    "screening_sets = {\n",
    "    # \"nlst_sybil\": sybil_demos,\n",
    "    \"nlst\": kiran_data,\n",
    "    \"dlcst\": dlcst_preds\n",
    "}"
   ]
  },
  {
   "cell_type": "code",
   "execution_count": null,
   "metadata": {},
   "outputs": [],
   "source": [
    "cat_demo_dlcst = data.combine_diff_dfs(DLCST_DEMOCOLS['cat'], data.diffs_category_prevalence, screening_sets)\n",
    "display(cat_demo_dlcst.sort_values(by='diff_nlst_dlcst', ascending=False).head(10))\n",
    "cat_demo_dlcst.sort_values(by='diff_nlst_dlcst', ascending=True).head(10)"
   ]
  },
  {
   "cell_type": "code",
   "execution_count": null,
   "metadata": {},
   "outputs": [],
   "source": [
    "num_demo_dlcst = data.combine_diff_dfs(DLCST_DEMOCOLS['num'], data.diffs_numerical_means, screening_sets)\n",
    "display(num_demo_dlcst.sort_values(by='diff_nlst_dlcst', ascending=False).head(10))\n",
    "num_demo_dlcst.sort_values(by='diff_nlst_dlcst', ascending=True).head(10)"
   ]
  },
  {
   "cell_type": "markdown",
   "metadata": {},
   "source": [
    "### Different validation sets"
   ]
  },
  {
   "cell_type": "code",
   "execution_count": null,
   "metadata": {},
   "outputs": [],
   "source": [
    "all_nodules = pd.read_csv(f\"{FILE_DIR}/nlst_allmodels_demos.csv\")\n",
    "some_nodules, nlst_democols_nodules, _ = data.prep_nlst_preds(all_nodules, democols=kiran_demos, scanlevel=False, tijmen=True, sybil=False)\n",
    "print(len(all_nodules), len(some_nodules))"
   ]
  },
  {
   "cell_type": "code",
   "execution_count": null,
   "metadata": {},
   "outputs": [],
   "source": [
    "all_scans, _, _ = data.prep_nlst_preds(all_nodules, democols=kiran_demos_original, scanlevel=True, tijmen=False, sybil=True)\n",
    "some_scans, _, _ = data.prep_nlst_preds(all_nodules, democols=kiran_demos_original, scanlevel=True, tijmen=True, sybil=True)\n",
    "print(len(all_scans), len(some_scans))"
   ]
  },
  {
   "cell_type": "code",
   "execution_count": null,
   "metadata": {},
   "outputs": [],
   "source": [
    "valsets = {\n",
    "    \"allnodules\": all_nodules,\n",
    "    \"somenodules\": some_nodules,\n",
    "    \"allscans\": all_scans,\n",
    "    \"somescans\": some_scans\n",
    "}"
   ]
  },
  {
   "cell_type": "code",
   "execution_count": null,
   "metadata": {},
   "outputs": [],
   "source": [
    "cat_demo_shift = data.combine_diff_dfs(kiran_demos['cat'], data.diffs_category_prevalence, valsets)\n",
    "num_demo_shift = data.combine_diff_dfs(kiran_demos['num'], data.diffs_numerical_means, valsets)"
   ]
  },
  {
   "cell_type": "markdown",
   "metadata": {},
   "source": [
    "#### Difference between Nodule sets and Scan sets"
   ]
  },
  {
   "cell_type": "code",
   "execution_count": null,
   "metadata": {},
   "outputs": [],
   "source": [
    "display(cat_demo_shift.sort_values(by='diff_allnodules_allscans', ascending=False).head(10))\n",
    "cat_demo_shift.sort_values(by='diff_allnodules_allscans', ascending=True).head(10)"
   ]
  },
  {
   "cell_type": "code",
   "execution_count": null,
   "metadata": {},
   "outputs": [],
   "source": [
    "display(num_demo_shift.sort_values(by='diff_allnodules_allscans', ascending=False).head(10))\n",
    "num_demo_shift.sort_values(by='diff_allnodules_allscans', ascending=True).head(10)"
   ]
  },
  {
   "cell_type": "markdown",
   "metadata": {},
   "source": [
    "#### Diff between sets for Tijmen's combined model vs. the rest"
   ]
  },
  {
   "cell_type": "code",
   "execution_count": null,
   "metadata": {},
   "outputs": [],
   "source": [
    "display(cat_demo_shift.sort_values(by='diff_allscans_somescans', ascending=False).head(10))\n",
    "cat_demo_shift.sort_values(by='diff_allscans_somescans', ascending=True).head(10)"
   ]
  },
  {
   "cell_type": "code",
   "execution_count": null,
   "metadata": {},
   "outputs": [],
   "source": [
    "display(num_demo_shift.sort_values(by='diff_allscans_somescans', ascending=False).head(10))\n",
    "num_demo_shift.sort_values(by='diff_allscans_somescans', ascending=True).head(10)"
   ]
  },
  {
   "cell_type": "markdown",
   "metadata": {},
   "source": [
    "## What about men vs. women?"
   ]
  },
  {
   "cell_type": "markdown",
   "metadata": {},
   "source": [
    "### Training sets"
   ]
  },
  {
   "cell_type": "code",
   "execution_count": null,
   "metadata": {},
   "outputs": [],
   "source": [
    "gender_train_sets = {\n",
    "    \"M\":sybil_splits['train'].query('Gender == 1'),\n",
    "    \"F\":sybil_splits['train'].query('Gender == 2'),\n",
    "}"
   ]
  },
  {
   "cell_type": "code",
   "execution_count": null,
   "metadata": {},
   "outputs": [],
   "source": [
    "cat_demo_gender = data.combine_diff_dfs(sybil_demos['cat'], data.diffs_category_prevalence, gender_train_sets, include_stat=True).query('value != 0')\n",
    "display(cat_demo_gender.sort_values(by='diff_M_F', ascending=False))\n",
    "cat_demo_gender.sort_values(by='diff_M_F', ascending=True)"
   ]
  },
  {
   "cell_type": "code",
   "execution_count": null,
   "metadata": {},
   "outputs": [],
   "source": [
    "display(cat_demo_gender.sort_values(by='diff_M_F', ascending=False).query('category == \"lungcanc\"'))\n",
    "cat_demo_gender.sort_values(by='diff_M_F', ascending=True).query('category == \"lungcanc\"')"
   ]
  },
  {
   "cell_type": "code",
   "execution_count": null,
   "metadata": {},
   "outputs": [],
   "source": [
    "num_demo_gender = data.combine_diff_dfs(sybil_demos['num'], data.diffs_numerical_means, gender_train_sets, include_stat=True)\n",
    "display(num_demo_gender.sort_values(by='diff_M_F', ascending=False).head(10))\n",
    "num_demo_gender.sort_values(by='diff_M_F', ascending=True).head(10)"
   ]
  },
  {
   "cell_type": "markdown",
   "metadata": {},
   "source": [
    "### Evaluation sets (Kiran data)"
   ]
  },
  {
   "cell_type": "code",
   "execution_count": null,
   "metadata": {},
   "outputs": [],
   "source": [
    "gender_eval_sets = {\n",
    "    \"M\":kiran_data.query('Gender == 1'),\n",
    "    \"F\":kiran_data.query('Gender == 2'),\n",
    "}"
   ]
  },
  {
   "cell_type": "code",
   "execution_count": null,
   "metadata": {},
   "outputs": [],
   "source": [
    "cat_gender_eval = data.combine_diff_dfs(kiran_demos['cat'], data.diffs_category_prevalence, gender_eval_sets).query('value != 0')\n",
    "display(cat_gender_eval.sort_values(by='diff_M_F', ascending=False).head(40))\n",
    "cat_gender_eval.sort_values(by='diff_M_F', ascending=True).head(40)"
   ]
  },
  {
   "cell_type": "code",
   "execution_count": null,
   "metadata": {},
   "outputs": [],
   "source": [
    "display(cat_gender_eval.query('category == \"nodule\"').sort_values(by='diff_M_F', ascending=False).head(40))\n",
    "cat_gender_eval.query('category == \"nodule\"').sort_values(by='diff_M_F', ascending=True).head(40)"
   ]
  },
  {
   "cell_type": "code",
   "execution_count": null,
   "metadata": {},
   "outputs": [],
   "source": [
    "display(cat_gender_eval.query('attribute == \"LC_stage\"').sort_values(by='diff_M_F', ascending=False).head(40))\n",
    "cat_gender_eval.query('attribute == \"LC_stage\"').sort_values(by='diff_M_F', ascending=True).head(40)"
   ]
  },
  {
   "cell_type": "code",
   "execution_count": null,
   "metadata": {},
   "outputs": [],
   "source": [
    "num_gender_eval = data.combine_diff_dfs(kiran_demos['num'], data.diffs_numerical_means, gender_eval_sets)\n",
    "display(num_gender_eval.sort_values(by='diff_M_F', ascending=False).head(10))\n",
    "num_gender_eval.sort_values(by='diff_M_F', ascending=True).head(10)"
   ]
  },
  {
   "cell_type": "markdown",
   "metadata": {},
   "source": [
    "## What about BMI?"
   ]
  },
  {
   "cell_type": "markdown",
   "metadata": {},
   "source": [
    "### Sybil training set"
   ]
  },
  {
   "cell_type": "code",
   "execution_count": null,
   "metadata": {},
   "outputs": [],
   "source": [
    "sybil_train_over = sybil_splits['train'].query('Overweight == 1')\n",
    "sybil_train_normal = sybil_splits['train'].query('Overweight == 0')\n",
    "\n",
    "overweight_train_sets = {\n",
    "    \"over\":sybil_train_over,\n",
    "    \"normal\":sybil_train_normal,\n",
    "}"
   ]
  },
  {
   "cell_type": "code",
   "execution_count": null,
   "metadata": {},
   "outputs": [],
   "source": [
    "cat_demo_overweight = data.combine_diff_dfs(sybil_demos['cat'], data.diffs_category_prevalence, overweight_train_sets).query('value != 0')\n",
    "display(cat_demo_overweight.sort_values(by='diff_over_normal', ascending=False).head(40))\n",
    "cat_demo_overweight.sort_values(by='diff_over_normal', ascending=True).head(40)"
   ]
  },
  {
   "cell_type": "code",
   "execution_count": null,
   "metadata": {},
   "outputs": [],
   "source": [
    "display(cat_demo_overweight.sort_values(by='diff_over_normal', ascending=False).query('category == \"lungcanc\"'))\n",
    "cat_demo_overweight.sort_values(by='diff_over_normal', ascending=True).query('category == \"lungcanc\"')"
   ]
  },
  {
   "cell_type": "code",
   "execution_count": null,
   "metadata": {},
   "outputs": [],
   "source": [
    "num_demo_overweight = data.combine_diff_dfs(sybil_demos['num'], data.diffs_numerical_means, overweight_train_sets)\n",
    "display(num_demo_overweight.sort_values(by='diff_over_normal', ascending=False).head(10))\n",
    "num_demo_overweight.sort_values(by='diff_over_normal', ascending=True).head(10)"
   ]
  },
  {
   "cell_type": "markdown",
   "metadata": {},
   "source": [
    "### Evaluation set (Kiran Data)"
   ]
  },
  {
   "cell_type": "code",
   "execution_count": null,
   "metadata": {},
   "outputs": [],
   "source": [
    "kiran_data_over = kiran_data.query('Overweight == 1')\n",
    "kiran_data_normal = kiran_data.query('Overweight == 0')\n",
    "\n",
    "overweight_eval_sets = {\n",
    "    \"over\":kiran_data_over,\n",
    "    \"normal\":kiran_data_normal,\n",
    "}"
   ]
  },
  {
   "cell_type": "code",
   "execution_count": null,
   "metadata": {},
   "outputs": [],
   "source": [
    "cat_eval_overweight = data.combine_diff_dfs(kiran_demos['cat'], data.diffs_category_prevalence, overweight_eval_sets).query('value != 0')\n",
    "display(cat_eval_overweight.sort_values(by='diff_over_normal', ascending=False).head(40))\n",
    "cat_eval_overweight.sort_values(by='diff_over_normal', ascending=True).head(40)"
   ]
  },
  {
   "cell_type": "code",
   "execution_count": null,
   "metadata": {},
   "outputs": [],
   "source": [
    "display(cat_eval_overweight.sort_values(by='diff_over_normal', ascending=False).query('category == \"nodule\"'))\n",
    "cat_eval_overweight.sort_values(by='diff_over_normal', ascending=True).query('category == \"nodule\"')"
   ]
  },
  {
   "cell_type": "code",
   "execution_count": null,
   "metadata": {},
   "outputs": [],
   "source": [
    "num_eval_overweight = data.combine_diff_dfs(kiran_demos['num'], data.diffs_numerical_means, overweight_eval_sets)\n",
    "display(num_eval_overweight.sort_values(by='diff_over_normal', ascending=False).head(10))\n",
    "num_eval_overweight.sort_values(by='diff_over_normal', ascending=True).head(10)"
   ]
  },
  {
   "cell_type": "markdown",
   "metadata": {},
   "source": [
    "## What about race?"
   ]
  },
  {
   "cell_type": "markdown",
   "metadata": {},
   "source": [
    "### Kiran data"
   ]
  },
  {
   "cell_type": "code",
   "execution_count": null,
   "metadata": {},
   "outputs": [],
   "source": [
    "kiran_data_white = kiran_data.query('race == 1')\n",
    "kiran_data_black = kiran_data.query('race == 2')\n",
    "\n",
    "race_kiran_sets = {\n",
    "    \"white\":kiran_data_white,\n",
    "    \"black\":kiran_data_black,\n",
    "}"
   ]
  },
  {
   "cell_type": "code",
   "execution_count": null,
   "metadata": {},
   "outputs": [],
   "source": [
    "cat_race_kiran = data.combine_diff_dfs(kiran_demos_original['cat'], data.diffs_category_prevalence, race_kiran_sets, include_stat=True).query('value != 0')\n",
    "display(cat_race_kiran.sort_values(by='diff_white_black', ascending=False).head(40))\n",
    "cat_race_kiran.sort_values(by='diff_white_black', ascending=True).head(40)"
   ]
  },
  {
   "cell_type": "code",
   "execution_count": null,
   "metadata": {},
   "outputs": [],
   "source": [
    "display(cat_race_kiran.query('category == \"nodule\"').sort_values(by='diff_white_black', ascending=False).head(40))\n",
    "cat_race_kiran.query('category == \"nodule\"').sort_values(by='diff_white_black', ascending=True).head(40)"
   ]
  },
  {
   "cell_type": "code",
   "execution_count": null,
   "metadata": {},
   "outputs": [],
   "source": [
    "display(cat_race_kiran.query('attribute == \"LC_stage\"').sort_values(by='diff_white_black', ascending=False).head(40))\n",
    "cat_race_kiran.query('attribute == \"LC_stage\"').sort_values(by='diff_white_black', ascending=True).head(40)"
   ]
  },
  {
   "cell_type": "code",
   "execution_count": null,
   "metadata": {},
   "outputs": [],
   "source": [
    "num_race_kiran = data.combine_diff_dfs(kiran_demos['num'], data.diffs_numerical_means, race_kiran_sets, include_stat=True)\n",
    "display(num_race_kiran.sort_values(by='diff_white_black', ascending=False).head(10))\n",
    "num_race_kiran.sort_values(by='diff_white_black', ascending=True).head(10)"
   ]
  }
 ],
 "metadata": {
  "kernelspec": {
   "display_name": "Python 3",
   "language": "python",
   "name": "python3"
  },
  "language_info": {
   "codemirror_mode": {
    "name": "ipython",
    "version": 3
   },
   "file_extension": ".py",
   "mimetype": "text/x-python",
   "name": "python",
   "nbconvert_exporter": "python",
   "pygments_lexer": "ipython3",
   "version": "3.11.9"
  }
 },
 "nbformat": 4,
 "nbformat_minor": 2
}
