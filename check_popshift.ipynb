{
 "cells": [
  {
   "cell_type": "code",
   "execution_count": null,
   "metadata": {},
   "outputs": [],
   "source": [
    "import pandas as pd\n",
    "import os\n",
    "import numpy as np\n",
    "import json\n",
    "import seaborn as sns\n",
    "import matplotlib.pyplot as plt\n",
    "import copy\n",
    "from IPython.display import display, Markdown\n",
    "\n",
    "from utilities import data\n",
    "from utilities.info import *\n",
    "\n",
    "%matplotlib inline"
   ]
  },
  {
   "cell_type": "markdown",
   "metadata": {},
   "source": [
    "## Grab Data for Each Model"
   ]
  },
  {
   "cell_type": "code",
   "execution_count": null,
   "metadata": {},
   "outputs": [],
   "source": [
    "venk21_nodule = pd.read_csv(f\"{FILE_DIR}/nlst_allmodels_demos.csv\")\n",
    "\n",
    "with open(f'{FILE_DIR}/nlst_democols.json') as json_data:\n",
    "    venk21_demos_original = json.load(json_data)\n",
    "    json_data.close()\n",
    "\n",
    "venk21_data, venk21_demos, _ = data.prep_nlst_preds(venk21_nodule, venk21_demos_original, scanlevel=True, sybil=False, bin_num=False)\n",
    "venk21_demos['cat']['other'].append('label')"
   ]
  },
  {
   "cell_type": "code",
   "execution_count": null,
   "metadata": {},
   "outputs": [],
   "source": [
    "sybil_data = pd.read_csv(f\"{FILE_DIR}/nlst_sybil_demos.csv\")\n",
    "\n",
    "with open(f'{FILE_DIR}/nlst_sybil_democols.json') as json_data:\n",
    "    sybil_demos = json.load(json_data)\n",
    "    json_data.close()"
   ]
  },
  {
   "cell_type": "code",
   "execution_count": null,
   "metadata": {},
   "outputs": [],
   "source": [
    "sybil_splits = {s: sybil_data.query(f'split == \"{s}\"') for s in ['train', 'dev', 'test']}"
   ]
  },
  {
   "cell_type": "markdown",
   "metadata": {},
   "source": [
    "## Model Training Sets"
   ]
  },
  {
   "cell_type": "code",
   "execution_count": null,
   "metadata": {},
   "outputs": [],
   "source": [
    "training_sets = {\n",
    "    'Venk21': venk21_data,\n",
    "    'Sybil': sybil_splits['train']\n",
    "}"
   ]
  },
  {
   "cell_type": "markdown",
   "metadata": {},
   "source": [
    "### Categorical columns"
   ]
  },
  {
   "cell_type": "code",
   "execution_count": null,
   "metadata": {},
   "outputs": [],
   "source": [
    "cat_demo_splits = data.combine_diff_dfs(sybil_demos['cat'], data.diffs_category_prevalence, training_sets).dropna(subset='value', axis=0).query('value != 0')\n",
    "display(cat_demo_splits.sort_values(by='diff_Venk21_Sybil', ascending=False).head(10))\n",
    "display(cat_demo_splits.sort_values(by='diff_Venk21_Sybil', ascending=True ).head(10))"
   ]
  },
  {
   "cell_type": "markdown",
   "metadata": {},
   "source": [
    "### Numerical columns"
   ]
  },
  {
   "cell_type": "code",
   "execution_count": null,
   "metadata": {},
   "outputs": [],
   "source": [
    "num_demo_splits = data.combine_diff_dfs(sybil_demos['num'], data.diffs_numerical_means, training_sets)\n",
    "display(num_demo_splits.sort_values(by='diff_Venk21_Sybil', ascending=False).query('diff_Venk21_Sybil > 0'))\n",
    "num_demo_splits.sort_values(by='diff_Venk21_Sybil', ascending=True).query('diff_Venk21_Sybil < 0')"
   ]
  },
  {
   "cell_type": "markdown",
   "metadata": {},
   "source": [
    "## Model Validation Sets"
   ]
  },
  {
   "cell_type": "code",
   "execution_count": null,
   "metadata": {},
   "outputs": [],
   "source": [
    "val_sets = {\n",
    "    'Venk21': venk21_data,\n",
    "    'SybilDev': sybil_splits['dev'],\n",
    "    'SybilTest': sybil_splits['test']\n",
    "}"
   ]
  },
  {
   "cell_type": "markdown",
   "metadata": {},
   "source": [
    "### Categorical columns"
   ]
  },
  {
   "cell_type": "code",
   "execution_count": null,
   "metadata": {},
   "outputs": [],
   "source": [
    "cat_demo_val = data.combine_diff_dfs(sybil_demos['cat'], data.diffs_category_prevalence, val_sets).dropna(subset='value', axis=0).query('value != 0')\n",
    "display(cat_demo_val.sort_values(by='diff_Venk21_SybilTest', ascending=False).head(10))\n",
    "display(cat_demo_val.sort_values(by='diff_Venk21_SybilTest', ascending=True ).head(10))"
   ]
  },
  {
   "cell_type": "markdown",
   "metadata": {},
   "source": [
    "### Numerical columns"
   ]
  },
  {
   "cell_type": "code",
   "execution_count": null,
   "metadata": {},
   "outputs": [],
   "source": [
    "num_demo_val = data.combine_diff_dfs(sybil_demos['num'], data.diffs_numerical_means, val_sets)    \n",
    "display(num_demo_val.sort_values(by='diff_Venk21_SybilTest', ascending=False).head(10))\n",
    "display(num_demo_val.sort_values(by='diff_Venk21_SybilTest', ascending=True ).head(10))"
   ]
  },
  {
   "cell_type": "markdown",
   "metadata": {},
   "source": [
    "## Sybil Train vs. Validation Sets"
   ]
  },
  {
   "cell_type": "code",
   "execution_count": null,
   "metadata": {},
   "outputs": [],
   "source": [
    "sybil_splits[\"eval\"] = venk21_data"
   ]
  },
  {
   "cell_type": "code",
   "execution_count": null,
   "metadata": {},
   "outputs": [],
   "source": [
    "cat_demo_shift = data.combine_diff_dfs(sybil_demos['cat'], data.diffs_category_prevalence, sybil_splits).dropna(subset='value', axis=0).query('value != 0')\n",
    "display(cat_demo_shift.sort_values(by='diff_train_test', ascending=False).head(10))\n",
    "cat_demo_shift.sort_values(by='diff_train_test', ascending=True).head(10)"
   ]
  },
  {
   "cell_type": "code",
   "execution_count": null,
   "metadata": {},
   "outputs": [],
   "source": [
    "num_demo_shift = data.combine_diff_dfs(sybil_demos['num'], data.diffs_numerical_means, sybil_splits)\n",
    "display(num_demo_shift.sort_values(by='diff_train_test', ascending=False).head(10))\n",
    "num_demo_shift.sort_values(by='diff_train_test', ascending=True).head(10)"
   ]
  },
  {
   "cell_type": "markdown",
   "metadata": {},
   "source": [
    "Conclusion: not much demographic shift (1-2% overall not much, really). Besides family history."
   ]
  },
  {
   "cell_type": "markdown",
   "metadata": {},
   "source": [
    "## What about men vs. women?"
   ]
  },
  {
   "cell_type": "markdown",
   "metadata": {},
   "source": [
    "### Training sets"
   ]
  },
  {
   "cell_type": "code",
   "execution_count": null,
   "metadata": {},
   "outputs": [],
   "source": [
    "gender_train_sets = {\n",
    "    \"M\":sybil_splits['train'].query('Gender == 1'),\n",
    "    \"F\":sybil_splits['train'].query('Gender == 2'),\n",
    "}"
   ]
  },
  {
   "cell_type": "code",
   "execution_count": null,
   "metadata": {},
   "outputs": [],
   "source": [
    "cat_demo_gender = data.combine_diff_dfs(sybil_demos['cat'], data.diffs_category_prevalence, gender_train_sets, include_stat=True).query('value != 0')\n",
    "display(cat_demo_gender.sort_values(by='diff_M_F', ascending=False))\n",
    "cat_demo_gender.sort_values(by='diff_M_F', ascending=True)"
   ]
  },
  {
   "cell_type": "code",
   "execution_count": null,
   "metadata": {},
   "outputs": [],
   "source": [
    "display(cat_demo_gender.sort_values(by='diff_M_F', ascending=False).query('category == \"lungcanc\"'))\n",
    "cat_demo_gender.sort_values(by='diff_M_F', ascending=True).query('category == \"lungcanc\"')"
   ]
  },
  {
   "cell_type": "code",
   "execution_count": null,
   "metadata": {},
   "outputs": [],
   "source": [
    "num_demo_gender = data.combine_diff_dfs(sybil_demos['num'], data.diffs_numerical_means, gender_train_sets, include_stat=True)\n",
    "display(num_demo_gender.sort_values(by='diff_M_F', ascending=False).head(10))\n",
    "num_demo_gender.sort_values(by='diff_M_F', ascending=True).head(10)"
   ]
  },
  {
   "cell_type": "markdown",
   "metadata": {},
   "source": [
    "### Evaluation sets (Venk21 data)"
   ]
  },
  {
   "cell_type": "code",
   "execution_count": null,
   "metadata": {},
   "outputs": [],
   "source": [
    "gender_eval_sets = {\n",
    "    \"M\":venk21_data.query('Gender == 1'),\n",
    "    \"F\":venk21_data.query('Gender == 2'),\n",
    "}"
   ]
  },
  {
   "cell_type": "code",
   "execution_count": null,
   "metadata": {},
   "outputs": [],
   "source": [
    "cat_gender_eval = data.combine_diff_dfs(venk21_demos['cat'], data.diffs_category_prevalence, gender_eval_sets).query('value != 0')\n",
    "display(cat_gender_eval.sort_values(by='diff_M_F', ascending=False).head(40))\n",
    "cat_gender_eval.sort_values(by='diff_M_F', ascending=True).head(40)"
   ]
  },
  {
   "cell_type": "code",
   "execution_count": null,
   "metadata": {},
   "outputs": [],
   "source": [
    "display(cat_gender_eval.query('category == \"nodule\"').sort_values(by='diff_M_F', ascending=False).head(40))\n",
    "cat_gender_eval.query('category == \"nodule\"').sort_values(by='diff_M_F', ascending=True).head(40)"
   ]
  },
  {
   "cell_type": "code",
   "execution_count": null,
   "metadata": {},
   "outputs": [],
   "source": [
    "display(cat_gender_eval.query('attribute == \"LC_stage\"').sort_values(by='diff_M_F', ascending=False).head(40))\n",
    "cat_gender_eval.query('attribute == \"LC_stage\"').sort_values(by='diff_M_F', ascending=True).head(40)"
   ]
  },
  {
   "cell_type": "code",
   "execution_count": null,
   "metadata": {},
   "outputs": [],
   "source": [
    "num_gender_eval = data.combine_diff_dfs(venk21_demos['num'], data.diffs_numerical_means, gender_eval_sets)\n",
    "display(num_gender_eval.sort_values(by='diff_M_F', ascending=False).head(10))\n",
    "num_gender_eval.sort_values(by='diff_M_F', ascending=True).head(10)"
   ]
  },
  {
   "cell_type": "markdown",
   "metadata": {},
   "source": [
    "## What about BMI?"
   ]
  },
  {
   "cell_type": "markdown",
   "metadata": {},
   "source": [
    "### Sybil training set"
   ]
  },
  {
   "cell_type": "code",
   "execution_count": null,
   "metadata": {},
   "outputs": [],
   "source": [
    "sybil_train_over = sybil_splits['train'].query('Overweight == 1')\n",
    "sybil_train_normal = sybil_splits['train'].query('Overweight == 0')\n",
    "\n",
    "overweight_train_sets = {\n",
    "    \"over\":sybil_train_over,\n",
    "    \"normal\":sybil_train_normal,\n",
    "}"
   ]
  },
  {
   "cell_type": "code",
   "execution_count": null,
   "metadata": {},
   "outputs": [],
   "source": [
    "cat_demo_overweight = data.combine_diff_dfs(sybil_demos['cat'], data.diffs_category_prevalence, overweight_train_sets).query('value != 0')\n",
    "display(cat_demo_overweight.sort_values(by='diff_over_normal', ascending=False).head(40))\n",
    "cat_demo_overweight.sort_values(by='diff_over_normal', ascending=True).head(40)"
   ]
  },
  {
   "cell_type": "code",
   "execution_count": null,
   "metadata": {},
   "outputs": [],
   "source": [
    "display(cat_demo_overweight.sort_values(by='diff_over_normal', ascending=False).query('category == \"lungcanc\"'))\n",
    "cat_demo_overweight.sort_values(by='diff_over_normal', ascending=True).query('category == \"lungcanc\"')"
   ]
  },
  {
   "cell_type": "code",
   "execution_count": null,
   "metadata": {},
   "outputs": [],
   "source": [
    "num_demo_overweight = data.combine_diff_dfs(sybil_demos['num'], data.diffs_numerical_means, overweight_train_sets)\n",
    "display(num_demo_overweight.sort_values(by='diff_over_normal', ascending=False).head(10))\n",
    "num_demo_overweight.sort_values(by='diff_over_normal', ascending=True).head(10)"
   ]
  },
  {
   "cell_type": "markdown",
   "metadata": {},
   "source": [
    "### Evaluation set (venk21 Data)"
   ]
  },
  {
   "cell_type": "code",
   "execution_count": null,
   "metadata": {},
   "outputs": [],
   "source": [
    "venk21_data_over = venk21_data.query('Overweight == 1')\n",
    "venk21_data_normal = venk21_data.query('Overweight == 0')\n",
    "\n",
    "overweight_eval_sets = {\n",
    "    \"over\":venk21_data_over,\n",
    "    \"normal\":venk21_data_normal,\n",
    "}"
   ]
  },
  {
   "cell_type": "code",
   "execution_count": null,
   "metadata": {},
   "outputs": [],
   "source": [
    "cat_eval_overweight = data.combine_diff_dfs(venk21_demos['cat'], data.diffs_category_prevalence, overweight_eval_sets).query('value != 0')\n",
    "display(cat_eval_overweight.sort_values(by='diff_over_normal', ascending=False).head(40))\n",
    "cat_eval_overweight.sort_values(by='diff_over_normal', ascending=True).head(40)"
   ]
  },
  {
   "cell_type": "code",
   "execution_count": null,
   "metadata": {},
   "outputs": [],
   "source": [
    "display(cat_eval_overweight.sort_values(by='diff_over_normal', ascending=False).query('category == \"nodule\"'))\n",
    "cat_eval_overweight.sort_values(by='diff_over_normal', ascending=True).query('category == \"nodule\"')"
   ]
  },
  {
   "cell_type": "code",
   "execution_count": null,
   "metadata": {},
   "outputs": [],
   "source": [
    "num_eval_overweight = data.combine_diff_dfs(venk21_demos['num'], data.diffs_numerical_means, overweight_eval_sets)\n",
    "display(num_eval_overweight.sort_values(by='diff_over_normal', ascending=False).head(10))\n",
    "num_eval_overweight.sort_values(by='diff_over_normal', ascending=True).head(10)"
   ]
  },
  {
   "cell_type": "markdown",
   "metadata": {},
   "source": [
    "## What about race?"
   ]
  },
  {
   "cell_type": "markdown",
   "metadata": {},
   "source": [
    "### venk21 data"
   ]
  },
  {
   "cell_type": "code",
   "execution_count": null,
   "metadata": {},
   "outputs": [],
   "source": [
    "venk21_data_white = venk21_data.query('race == 1')\n",
    "venk21_data_black = venk21_data.query('race == 2')\n",
    "\n",
    "race_venk21_sets = {\n",
    "    \"white\":venk21_data_white,\n",
    "    \"black\":venk21_data_black,\n",
    "}"
   ]
  },
  {
   "cell_type": "code",
   "execution_count": null,
   "metadata": {},
   "outputs": [],
   "source": [
    "cat_race_venk21 = data.combine_diff_dfs(venk21_demos['cat'], data.diffs_category_prevalence, race_venk21_sets, include_stat=True).query('value != 0')\n",
    "display(cat_race_venk21.sort_values(by='diff_white_black', ascending=False).head(40))\n",
    "cat_race_venk21.sort_values(by='diff_white_black', ascending=True).head(40)"
   ]
  },
  {
   "cell_type": "code",
   "execution_count": null,
   "metadata": {},
   "outputs": [],
   "source": [
    "display(cat_race_venk21.query('category == \"nodule\"').sort_values(by='diff_white_black', ascending=False).head(40))\n",
    "cat_race_venk21.query('category == \"nodule\"').sort_values(by='diff_white_black', ascending=True).head(40)"
   ]
  },
  {
   "cell_type": "code",
   "execution_count": null,
   "metadata": {},
   "outputs": [],
   "source": [
    "display(cat_race_venk21.query('attribute == \"LC_stage\"').sort_values(by='diff_white_black', ascending=False).head(40))\n",
    "cat_race_venk21.query('attribute == \"LC_stage\"').sort_values(by='diff_white_black', ascending=True).head(40)"
   ]
  },
  {
   "cell_type": "code",
   "execution_count": null,
   "metadata": {},
   "outputs": [],
   "source": [
    "num_race_venk21 = data.combine_diff_dfs(venk21_demos['num'], data.diffs_numerical_means, race_venk21_sets, include_stat=True)\n",
    "display(num_race_venk21.sort_values(by='diff_white_black', ascending=False).head(10))\n",
    "num_race_venk21.sort_values(by='diff_white_black', ascending=True).head(10)"
   ]
  }
 ],
 "metadata": {
  "kernelspec": {
   "display_name": "Python 3",
   "language": "python",
   "name": "python3"
  },
  "language_info": {
   "codemirror_mode": {
    "name": "ipython",
    "version": 3
   },
   "file_extension": ".py",
   "mimetype": "text/x-python",
   "name": "python",
   "nbconvert_exporter": "python",
   "pygments_lexer": "ipython3",
   "version": "3.11.9"
  }
 },
 "nbformat": 4,
 "nbformat_minor": 2
}
