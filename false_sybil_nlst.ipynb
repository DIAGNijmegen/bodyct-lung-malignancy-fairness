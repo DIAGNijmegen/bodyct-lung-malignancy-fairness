{
 "cells": [
  {
   "cell_type": "code",
   "execution_count": null,
   "metadata": {},
   "outputs": [],
   "source": [
    "import pandas as pd\n",
    "import os\n",
    "import numpy as np\n",
    "import seaborn as sns\n",
    "import matplotlib.pyplot as plt\n",
    "import json\n",
    "from IPython.display import display, Markdown\n",
    "from scipy.stats import pearsonr, spearmanr, ks_2samp, mannwhitneyu, ttest_ind\n",
    "\n",
    "import sys\n",
    "sys.path.append('../')\n",
    "\n",
    "from utilities import data\n",
    "from evalutils.roc import get_bootstrapped_roc_ci_curves\n",
    "from sklearn.metrics import confusion_matrix, ConfusionMatrixDisplay\n",
    "\n",
    "## directory where results are\n",
    "EXPERIMENT_DIR = f\"W:/experiments/lung-malignancy-fairness-shaurya\"\n",
    "CHANSEY_NLST_PREDS = f\"{EXPERIMENT_DIR}/nlst\"\n",
    "\n",
    "TEAMS_DIR = \"C:/Users/shaur/OneDrive - Radboudumc/Documents - Master - Shaurya Gaur/General/Malignancy-Estimation Results\"\n",
    "LOCAL_NLST_PREDS = f\"{TEAMS_DIR}/nlst\" ## Comment out if not using Teams backup (aka Chansey is up :)\n",
    "NLST_PREDS = LOCAL_NLST_PREDS"
   ]
  },
  {
   "cell_type": "code",
   "execution_count": null,
   "metadata": {},
   "outputs": [],
   "source": [
    "nlst_preds_nodule = pd.read_csv(f\"{NLST_PREDS}/nlst_demov4_allmodels_cal.csv\")\n",
    "nlst_preds_nodule.info()"
   ]
  },
  {
   "cell_type": "code",
   "execution_count": null,
   "metadata": {},
   "outputs": [],
   "source": [
    "with open(f'{NLST_PREDS}/nlst_demo_v4_cols.json') as json_data:\n",
    "    nlst_democols = json.load(json_data)\n",
    "    json_data.close()\n",
    "\n",
    "nlst_democols['num'].pop('nodule')"
   ]
  },
  {
   "cell_type": "code",
   "execution_count": null,
   "metadata": {},
   "outputs": [],
   "source": [
    "\n",
    "nlst_democols"
   ]
  },
  {
   "cell_type": "code",
   "execution_count": null,
   "metadata": {},
   "outputs": [],
   "source": [
    "nlst_preds = data.prep_nlst_preds(nlst_preds_nodule, scanlevel=True, tijmen=False, sybil=True)\n",
    "nlst_preds.info()"
   ]
  },
  {
   "cell_type": "code",
   "execution_count": null,
   "metadata": {},
   "outputs": [],
   "source": [
    "nlst_policy_thresholds = pd.read_csv(f\"{NLST_PREDS}/policy-thresholds-{len(nlst_preds)}.csv\", index_col=0)\n",
    "nlst_policy_thresholds"
   ]
  },
  {
   "cell_type": "code",
   "execution_count": null,
   "metadata": {},
   "outputs": [],
   "source": [
    "THRESHOLD = 'Brock'"
   ]
  },
  {
   "cell_type": "code",
   "execution_count": null,
   "metadata": {},
   "outputs": [],
   "source": [
    "sybil_worse_df = pd.read_csv(f\"{NLST_PREDS}/sybil_worse.csv\")\n",
    "sybil_worse_df"
   ]
  },
  {
   "cell_type": "markdown",
   "metadata": {},
   "source": [
    "Sybil's worse columns are from our [scan level AUC results](./plot_nlst_scanlevel.ipynb).\n",
    "\n",
    "PanCan columns from [Radiopaedia](https://radiopaedia.org/articles/brock-model-for-pulmonary-nodules).\n",
    "\n",
    "The gender differential columns are from the \"What about men vs women?\" section of the [training info demographic splits notebook](./nlst/nlst_traininfo.ipynb)."
   ]
  },
  {
   "cell_type": "code",
   "execution_count": null,
   "metadata": {},
   "outputs": [],
   "source": [
    "pancan_cols = ['Age', 'Gender', 'race', 'FamilyHistoryLungCa', 'Emphysema', 'Diameter [mm]', 'NoduleInUpperLung', 'PartSolid', 'NoduleCounts', 'Spiculation']\n",
    "train_diff_cols = ['pipe', 'cigar', 'Married', 'wrknomask', 'wrkfarm', 'smokework', 'diaghear', 'diagasbe', 'smokelive', 'diagpneu', 'diagchro', 'diagcopd', 'PersonalCancerHist', 'cigsmok', 'cancbrea', 'pkyr', 'smokeage']\n",
    "relevant_cols = list(set(list(sybil_worse_df['col']) + pancan_cols + train_diff_cols + nlst_democols['cat']['lungcanc'] + nlst_democols['cat']['nodule']))"
   ]
  },
  {
   "cell_type": "code",
   "execution_count": null,
   "metadata": {},
   "outputs": [],
   "source": [
    "relevant_cols"
   ]
  },
  {
   "cell_type": "code",
   "execution_count": null,
   "metadata": {},
   "outputs": [],
   "source": [
    "nlst_preds[['sybil_year1']].info()"
   ]
  },
  {
   "cell_type": "code",
   "execution_count": null,
   "metadata": {},
   "outputs": [],
   "source": [
    "MODEL_TO_COL = {\n",
    "    \"Venkadesh\": \"DL_cal\",\n",
    "    # \"de Haas Combined\": \"Thijmen_mean_cal\",\n",
    "    \"de Haas Local\": \"Thijmen_local_cal\",\n",
    "    \"de Haas Global (hidden nodule)\": \"Thijmen_global_hidden\",\n",
    "    \"de Haas Global (w/nodule)\": \"Thijmen_global_show_cal\",\n",
    "    \"Sybil\": \"sybil_year1\",\n",
    "    \"PanCan2b\": \"PanCan2b\",\n",
    "}"
   ]
  },
  {
   "cell_type": "code",
   "execution_count": null,
   "metadata": {},
   "outputs": [],
   "source": [
    "nlst_preds['Sybil_pred_label'] = (nlst_preds[MODEL_TO_COL['Sybil']] > nlst_policy_thresholds.loc['Sybil year 1', THRESHOLD]).astype(int).to_numpy()\n",
    "nlst_preds['Sybil_PanCan_diff'] = nlst_preds[MODEL_TO_COL['Sybil']] - nlst_preds['PanCan2b']"
   ]
  },
  {
   "cell_type": "code",
   "execution_count": null,
   "metadata": {},
   "outputs": [],
   "source": [
    "false_positives = nlst_preds.query(\"label == 0 and Sybil_pred_label == 1\")\n",
    "false_negatives = nlst_preds.query(\"label == 1 and Sybil_pred_label == 0\")\n",
    "\n",
    "true_positives = nlst_preds.query(\"label == 1 and Sybil_pred_label == 1\")\n",
    "true_negatives = nlst_preds.query(\"label == 0 and Sybil_pred_label == 0\")"
   ]
  },
  {
   "cell_type": "markdown",
   "metadata": {},
   "source": [
    "## Difference between TP/FP/TN/FN"
   ]
  },
  {
   "cell_type": "code",
   "execution_count": null,
   "metadata": {},
   "outputs": [],
   "source": [
    "result_sets = {\n",
    "    \"FP\": false_positives,\n",
    "    \"FN\": false_negatives,\n",
    "    \"TP\": true_positives,\n",
    "    \"TN\": true_negatives, \n",
    "}"
   ]
  },
  {
   "cell_type": "markdown",
   "metadata": {},
   "source": [
    "### utility code"
   ]
  },
  {
   "cell_type": "code",
   "execution_count": null,
   "metadata": {},
   "outputs": [],
   "source": [
    "def combine_col_dfs(cols=nlst_democols['cat'], df_func=pd.DataFrame, dfsets=result_sets, dispdf=False):\n",
    "    splitdfs = []\n",
    "    for cat in cols:\n",
    "        if dispdf: display(Markdown(f\"### {cat}\"))\n",
    "        \n",
    "        for c in cols[cat]:\n",
    "            df = df_func(c, dfsets)\n",
    "            if dispdf: display(df)\n",
    "\n",
    "            df['category'] = [cat] * len(df)\n",
    "            df['attribute'] = [c] * len(df)\n",
    "            df['value'] = df.index.values\n",
    "            \n",
    "            dfcols = df.columns.tolist()\n",
    "            dfcols = dfcols[-3:] + dfcols[:-3]\n",
    "            df = df[dfcols]\n",
    "            df.reset_index(inplace=True, drop=True)\n",
    "            df.sort_values(by='value', ascending=True, inplace=True)\n",
    "\n",
    "            splitdfs.append(df)\n",
    "\n",
    "    return pd.concat(splitdfs, axis=0, ignore_index=True)"
   ]
  },
  {
   "cell_type": "code",
   "execution_count": null,
   "metadata": {},
   "outputs": [],
   "source": [
    "def cat_dist_df(c='Gender', dfsets=result_sets):\n",
    "    dfdict = {}\n",
    "    for m in dfsets:\n",
    "        dfdict[f\"{m}_freq\"] = dfsets[m][c].value_counts(normalize=False, dropna=False).astype(int)\n",
    "        dfdict[f\"{m}_norm\"] = 100 * dfsets[m][c].value_counts(normalize=True, dropna=False).round(6)\n",
    "        dfdict[f\"{m}_freq\"].fillna(0, inplace=True)\n",
    "        dfdict[f\"{m}_norm\"].fillna(0, inplace=True)\n",
    "    \n",
    "    for i, m1 in enumerate(dfsets):\n",
    "        for j, m2 in enumerate(dfsets):\n",
    "            if j > i:\n",
    "                # dfdict[f\"diff_freq_{m1}_{m2}\"] = (dfdict[f\"{m1}_freq\"] - dfdict[f\"{m2}_freq\"]).round(4)\n",
    "                dfdict[f\"diff_norm_{m1}_{m2}\"] = (dfdict[f\"{m1}_norm\"] - dfdict[f\"{m2}_norm\"]).round(4)\n",
    "    \n",
    "    df = pd.DataFrame(dfdict).drop_duplicates()\n",
    "\n",
    "    for m in dfsets:\n",
    "        df[f\"{m}_freq\"] = df[f\"{m}_freq\"].fillna(0.0)\n",
    "        df[f\"{m}_norm\"] = df[f\"{m}_norm\"].fillna(0.0)\n",
    "\n",
    "    for i, m1 in enumerate(dfsets):\n",
    "        for j, m2 in enumerate(dfsets):\n",
    "            if j > i:\n",
    "                # dfdict[f\"diff_freq_{m1}_{m2}\"] = (dfdict[f\"{m1}_freq\"] - dfdict[f\"{m2}_freq\"]).round(4)\n",
    "                df[f\"diff_norm_{m1}_{m2}\"] = (df[f\"{m1}_norm\"] - df[f\"{m2}_norm\"]).round(4)    \n",
    "\n",
    "    # df = pd.DataFrame(dfdict).drop_duplicates()\n",
    "    return df"
   ]
  },
  {
   "cell_type": "code",
   "execution_count": null,
   "metadata": {},
   "outputs": [],
   "source": [
    "def num_dist_df(c='Gender', dfsets=result_sets):\n",
    "    dfdict = {}\n",
    "    for m in dfsets:\n",
    "        dfdict[f\"{m}\"] = dfsets[m][c].describe(percentiles=[0.5]).round(4)\n",
    "    \n",
    "    for i, m1 in enumerate(dfsets):\n",
    "        for j, m2 in enumerate(dfsets):\n",
    "            if j > i:\n",
    "                dfdict[f\"diff_{m1}_{m2}\"] = dfdict[f\"{m1}\"] - dfdict[f\"{m2}\"]\n",
    "    \n",
    "    df = pd.DataFrame(dfdict).drop_duplicates()\n",
    "    # display(df)\n",
    "    df.drop(index=['count', 'max', 'min', 'std'], inplace=True)\n",
    "    return df"
   ]
  },
  {
   "cell_type": "markdown",
   "metadata": {},
   "source": [
    "### differences"
   ]
  },
  {
   "cell_type": "code",
   "execution_count": null,
   "metadata": {},
   "outputs": [],
   "source": [
    "cat_demo_splits = combine_col_dfs(nlst_democols['cat'], cat_dist_df, result_sets).query('value != 0')\n",
    "display(cat_demo_splits.sort_values(by='diff_norm_FP_TP', ascending=False)[cat_demo_splits['attribute'].isin(relevant_cols)].head(20))\n",
    "cat_demo_splits.sort_values(by='diff_norm_FP_TP', ascending=True)[cat_demo_splits['attribute'].isin(relevant_cols)].head(20)"
   ]
  },
  {
   "cell_type": "code",
   "execution_count": null,
   "metadata": {},
   "outputs": [],
   "source": [
    "cat_demo_splits = combine_col_dfs(nlst_democols['cat'], cat_dist_df, result_sets).query('value != 0')\n",
    "display(cat_demo_splits.sort_values(by='diff_norm_FP_FN', ascending=False).query('category == \"nodule\"'))\n",
    "cat_demo_splits.sort_values(by='diff_norm_FP_FN', ascending=True).query('category == \"nodule\"')"
   ]
  },
  {
   "cell_type": "code",
   "execution_count": null,
   "metadata": {},
   "outputs": [],
   "source": [
    "num_demo_splits = combine_col_dfs(nlst_democols['num'], num_dist_df, result_sets)\n",
    "display(num_demo_splits.sort_values(by='diff_FP_FN', ascending=False)[num_demo_splits['attribute'].isin(relevant_cols)].head(20))\n",
    "num_demo_splits.sort_values(by='diff_FP_FN', ascending=True)[num_demo_splits['attribute'].isin(relevant_cols)].head(20)"
   ]
  },
  {
   "cell_type": "markdown",
   "metadata": {},
   "source": [
    "### Now with the top 100 scores that were different from PanCan"
   ]
  },
  {
   "cell_type": "code",
   "execution_count": null,
   "metadata": {},
   "outputs": [],
   "source": [
    "result_top_100_diff = {\n",
    "    \"FP\": false_positives.sort_values(by=['Sybil_PanCan_diff'], ascending=False)[0:100],\n",
    "    \"FN\": false_negatives.sort_values(by=['Sybil_PanCan_diff'], ascending=False)[0:100],\n",
    "}"
   ]
  },
  {
   "cell_type": "code",
   "execution_count": null,
   "metadata": {},
   "outputs": [],
   "source": [
    "cat_demo_splits = combine_col_dfs(nlst_democols['cat'], cat_dist_df, result_top_100_diff).query('value != 0')\n",
    "display(cat_demo_splits.sort_values(by='diff_norm_FP_FN', ascending=False)[cat_demo_splits['attribute'].isin(relevant_cols)].head(20))\n",
    "cat_demo_splits.sort_values(by='diff_norm_FP_FN', ascending=True)[cat_demo_splits['attribute'].isin(relevant_cols)].head(20)"
   ]
  },
  {
   "cell_type": "code",
   "execution_count": null,
   "metadata": {},
   "outputs": [],
   "source": [
    "cat_demo_splits = combine_col_dfs(nlst_democols['cat'], cat_dist_df, result_top_100_diff).query('value != 0')\n",
    "display(cat_demo_splits.sort_values(by='diff_norm_FP_FN', ascending=False).query(\"category == 'nodule'\"))\n",
    "cat_demo_splits.sort_values(by='diff_norm_FP_FN', ascending=True).query(\"category == 'nodule'\")"
   ]
  },
  {
   "cell_type": "code",
   "execution_count": null,
   "metadata": {},
   "outputs": [],
   "source": [
    "num_demo_splits = combine_col_dfs(nlst_democols['num'], num_dist_df, result_top_100_diff)\n",
    "display(num_demo_splits.sort_values(by='diff_FP_FN', ascending=False)[num_demo_splits['attribute'].isin(relevant_cols)].head(20))\n",
    "num_demo_splits.sort_values(by='diff_FP_FN', ascending=True)[num_demo_splits['attribute'].isin(relevant_cols)].head(20)"
   ]
  },
  {
   "cell_type": "markdown",
   "metadata": {},
   "source": [
    "## True Positives"
   ]
  },
  {
   "cell_type": "code",
   "execution_count": null,
   "metadata": {},
   "outputs": [],
   "source": [
    "true_positives = nlst_preds.query(\"label == 1 and Sybil_pred_label == 1\")\n",
    "true_positives['abs_Sybil_PanCan_diff'] = true_positives['Sybil_PanCan_diff'].apply(abs)\n",
    "tp_top20 = true_positives.sort_values(by=['sybil_year1','abs_Sybil_PanCan_diff',  'PanCan2b'], ascending=[False, True, False]).head(20)\n",
    "tp_top20[\n",
    "    ['PatientID', 'label', 'Sybil_pred_label', 'PanCan2b', 'sybil_year1', 'abs_Sybil_PanCan_diff'] + nlst_democols['cat']['nodule'] + ['Emphysema', 'Gender', 'race', 'BMI', 'Age']\n",
    "]"
   ]
  },
  {
   "cell_type": "code",
   "execution_count": null,
   "metadata": {},
   "outputs": [],
   "source": [
    "tp_top20_series = tp_top20['SeriesInstanceUID'].tolist()"
   ]
  },
  {
   "cell_type": "code",
   "execution_count": null,
   "metadata": {},
   "outputs": [],
   "source": [
    "tp_top20_save = nlst_preds_nodule[nlst_preds_nodule['SeriesInstanceUID'].isin(tp_top20_series)]"
   ]
  },
  {
   "cell_type": "code",
   "execution_count": null,
   "metadata": {},
   "outputs": [],
   "source": [
    "# tp_top20_save.to_csv(f\"{CHANSEY_NLST_PREDS}/sybil_tp_brock_top20.csv\", index=False)\n",
    "tp_top20_save.to_csv(f\"{LOCAL_NLST_PREDS}/sybil_tp_brock_top20.csv\", index=False)"
   ]
  },
  {
   "cell_type": "markdown",
   "metadata": {},
   "source": [
    "## False Positives"
   ]
  },
  {
   "cell_type": "code",
   "execution_count": null,
   "metadata": {},
   "outputs": [],
   "source": [
    "false_positives = nlst_preds.query(\"label == 0 and Sybil_pred_label == 1\")"
   ]
  },
  {
   "cell_type": "code",
   "execution_count": null,
   "metadata": {},
   "outputs": [],
   "source": [
    "sns.histplot(false_positives, x='Sybil_PanCan_diff', hue='Gender', common_norm=False, element='bars', kde=True, stat='density')"
   ]
  },
  {
   "cell_type": "markdown",
   "metadata": {},
   "source": [
    "### Select FPs for Attention Visualization"
   ]
  },
  {
   "cell_type": "code",
   "execution_count": null,
   "metadata": {},
   "outputs": [],
   "source": [
    "fp_relevant_cols = [\n",
    "    'sybil_year1', 'PanCan2b',\n",
    "    'Gender', 'Age',  'race', 'BMI', 'Emphysema', 'NoduleInUpperLung', \n",
    "    'wrkasbe', 'wrkchem',  'wrkweld',\n",
    "    'diagadas', 'diagcopd', 'diaghear', 'diagpneu',\n",
    "    # 'diaghype', 'pkyr', 'cigar', 'pipe'\n",
    "]\n",
    "fp_top50 = false_positives.query('PanCan2b < 0.06').sort_values(by='Sybil_PanCan_diff', ascending=False).head(50)\n",
    "display(fp_top50[fp_relevant_cols])"
   ]
  },
  {
   "cell_type": "markdown",
   "metadata": {},
   "source": [
    "For further analysis. Not for getting attentions. For the above dataframe ONLY!!!!"
   ]
  },
  {
   "cell_type": "code",
   "execution_count": null,
   "metadata": {},
   "outputs": [],
   "source": [
    "# interesting_idxs = [2263, 3985, 929, 655, 2659, 2439, 1863, 726, 2459, 2676, 4627, 1832]"
   ]
  },
  {
   "cell_type": "code",
   "execution_count": null,
   "metadata": {},
   "outputs": [],
   "source": [
    "# interesting_series = [fp_top50.loc[i, 'SeriesInstanceUID'] for i in interesting_idxs]"
   ]
  },
  {
   "cell_type": "markdown",
   "metadata": {},
   "source": [
    "Get top 50 series IDs."
   ]
  },
  {
   "cell_type": "code",
   "execution_count": null,
   "metadata": {},
   "outputs": [],
   "source": [
    "fp_top50_series = fp_top50['SeriesInstanceUID'].tolist()"
   ]
  },
  {
   "cell_type": "code",
   "execution_count": null,
   "metadata": {},
   "outputs": [],
   "source": [
    "fp_top50_save = nlst_preds_nodule[nlst_preds_nodule['SeriesInstanceUID'].isin(fp_top50_series)]"
   ]
  },
  {
   "cell_type": "code",
   "execution_count": null,
   "metadata": {},
   "outputs": [],
   "source": [
    "# fp_top50_save.to_csv(f\"{CHANSEY_NLST_PREDS}/sybil_fp_brock_top50.csv\", index=False)\n",
    "fp_top50_save.to_csv(f\"{LOCAL_NLST_PREDS}/sybil_fp_brock_top50.csv\", index=False)"
   ]
  },
  {
   "cell_type": "markdown",
   "metadata": {},
   "source": [
    "### Gender differences"
   ]
  },
  {
   "cell_type": "code",
   "execution_count": null,
   "metadata": {},
   "outputs": [],
   "source": [
    "gender_fps = {\n",
    "    \"M\": false_positives.query(\"Gender == 1\"),\n",
    "    \"F\": false_positives.query(\"Gender == 2\"),\n",
    "}"
   ]
  },
  {
   "cell_type": "code",
   "execution_count": null,
   "metadata": {},
   "outputs": [],
   "source": [
    "cat_demo_splits = combine_col_dfs(nlst_democols['cat'], cat_dist_df, gender_fps).query('value != 0')\n",
    "display(cat_demo_splits.sort_values(by='diff_norm_M_F', ascending=False)[cat_demo_splits['attribute'].isin(relevant_cols)].head(20))\n",
    "cat_demo_splits.sort_values(by='diff_norm_M_F', ascending=True)[cat_demo_splits['attribute'].isin(relevant_cols)].head(20)"
   ]
  },
  {
   "cell_type": "code",
   "execution_count": null,
   "metadata": {},
   "outputs": [],
   "source": [
    "# num_demo_splits = combine_col_dfs(nlst_democols['num'], num_dist_df, gender_fps)\n",
    "# display(num_demo_splits.sort_values(by='diff_M_F', ascending=False)[num_demo_splits['attribute'].isin(relevant_cols)].head(20))\n",
    "# num_demo_splits.sort_values(by='diff_M_F', ascending=True)[num_demo_splits['attribute'].isin(relevant_cols)].head(20)"
   ]
  },
  {
   "cell_type": "markdown",
   "metadata": {},
   "source": [
    "## False Negatives"
   ]
  },
  {
   "cell_type": "code",
   "execution_count": null,
   "metadata": {},
   "outputs": [],
   "source": [
    "len(false_negatives)"
   ]
  },
  {
   "cell_type": "code",
   "execution_count": null,
   "metadata": {},
   "outputs": [],
   "source": [
    "false_negatives.sort_values(by=['Sybil_PanCan_diff'], ascending=True)[[\n",
    "     'PanCan2b', 'sybil_year1', 'Sybil_PanCan_diff', \n",
    "     'Age', 'Gender', 'race', 'weight', 'BMI',\n",
    "     'Emphysema', 'Adenocarcinoma', 'pkyr', 'pipe', 'cigar', \n",
    "     'wrknomask', 'wrkfoun', 'wrkasbe', 'diaghype', 'diaghear'\n",
    "    #  'Squamous_cell_carcinoma', 'Large_cell_carcinoma', 'diagcopd', 'NoduleInUpperLung', 'Solid'\n",
    "]].head(25)"
   ]
  },
  {
   "cell_type": "code",
   "execution_count": null,
   "metadata": {},
   "outputs": [],
   "source": [
    "fn_top_25_sybil = false_negatives.sort_values(by=['Sybil_PanCan_diff'], ascending=True).head(25)"
   ]
  },
  {
   "cell_type": "code",
   "execution_count": null,
   "metadata": {},
   "outputs": [],
   "source": [
    "fn_top_25_sybil.to_csv(f\"{NLST_PREDS}/sybil_fn_brock_top25.csv\")"
   ]
  },
  {
   "cell_type": "markdown",
   "metadata": {},
   "source": [
    "### Gender differences"
   ]
  },
  {
   "cell_type": "code",
   "execution_count": null,
   "metadata": {},
   "outputs": [],
   "source": [
    "sns.histplot(false_negatives, x='Sybil_PanCan_diff', hue='Gender', common_norm=False, element='bars', kde=True, stat='density')"
   ]
  },
  {
   "cell_type": "code",
   "execution_count": null,
   "metadata": {},
   "outputs": [],
   "source": [
    "gender_fns = {\n",
    "    \"M\": false_negatives.query(\"Gender == 1\"),\n",
    "    \"F\": false_negatives.query(\"Gender == 2\"),\n",
    "}"
   ]
  },
  {
   "cell_type": "code",
   "execution_count": null,
   "metadata": {},
   "outputs": [],
   "source": [
    "cat_demo_splits = combine_col_dfs(nlst_democols['cat'], cat_dist_df, gender_fns).query('value != 0')\n",
    "display(cat_demo_splits.sort_values(by='diff_norm_M_F', ascending=False).head(30))\n",
    "cat_demo_splits.sort_values(by='diff_norm_M_F', ascending=True).head(30)"
   ]
  },
  {
   "cell_type": "code",
   "execution_count": null,
   "metadata": {},
   "outputs": [],
   "source": [
    "display(cat_demo_splits.sort_values(by='diff_norm_M_F', ascending=False).query('category == \"nodule\"'))\n",
    "cat_demo_splits.sort_values(by='diff_norm_M_F', ascending=True).query('category == \"nodule\"')"
   ]
  },
  {
   "cell_type": "code",
   "execution_count": null,
   "metadata": {},
   "outputs": [],
   "source": [
    "display(cat_demo_splits.sort_values(by='diff_norm_M_F', ascending=False).query('attribute == \"LC_stage\"'))\n",
    "cat_demo_splits.sort_values(by='diff_norm_M_F', ascending=True).query('attribute == \"LC_stage\"')"
   ]
  },
  {
   "cell_type": "code",
   "execution_count": null,
   "metadata": {},
   "outputs": [],
   "source": [
    "num_demo_splits = combine_col_dfs(nlst_democols['num'], num_dist_df, gender_fns)\n",
    "display(num_demo_splits.sort_values(by='diff_M_F', ascending=False)[num_demo_splits['attribute'].isin(relevant_cols)].head(20))\n",
    "num_demo_splits.sort_values(by='diff_M_F', ascending=True)[num_demo_splits['attribute'].isin(relevant_cols)].head(20)"
   ]
  },
  {
   "cell_type": "markdown",
   "metadata": {},
   "source": [
    "### Racial differences"
   ]
  },
  {
   "cell_type": "code",
   "execution_count": null,
   "metadata": {},
   "outputs": [],
   "source": [
    "sns.histplot(false_negatives, x='Sybil_PanCan_diff', hue='race', common_norm=False, element='bars', kde=True)"
   ]
  },
  {
   "cell_type": "code",
   "execution_count": null,
   "metadata": {},
   "outputs": [],
   "source": [
    "false_negatives['race'].value_counts()"
   ]
  },
  {
   "cell_type": "code",
   "execution_count": null,
   "metadata": {},
   "outputs": [],
   "source": [
    "race_fns = {\n",
    "    \"white\": false_negatives.query(\"race == 1\"),\n",
    "    \"black\": false_negatives.query(\"race == 2\"),    \n",
    "}"
   ]
  },
  {
   "cell_type": "code",
   "execution_count": null,
   "metadata": {},
   "outputs": [],
   "source": [
    "cat_race_splits = combine_col_dfs(nlst_democols['cat'], cat_dist_df, race_fns).query('value != 0')\n",
    "display(cat_race_splits.sort_values(by='diff_norm_white_black', ascending=False).head(30))\n",
    "cat_race_splits.sort_values(by='diff_norm_white_black', ascending=True).head(30)"
   ]
  },
  {
   "cell_type": "code",
   "execution_count": null,
   "metadata": {},
   "outputs": [],
   "source": [
    "display(cat_race_splits.sort_values(by='diff_norm_white_black', ascending=False).query('category == \"nodule\"'))\n",
    "cat_race_splits.sort_values(by='diff_norm_white_black', ascending=True).query('category == \"nodule\"')"
   ]
  },
  {
   "cell_type": "code",
   "execution_count": null,
   "metadata": {},
   "outputs": [],
   "source": [
    "display(cat_race_splits.sort_values(by='diff_norm_white_black', ascending=False).query('attribute == \"LC_stage\"'))\n",
    "cat_race_splits.sort_values(by='diff_norm_white_black', ascending=True).query('attribute == \"LC_stage\"')"
   ]
  },
  {
   "cell_type": "code",
   "execution_count": null,
   "metadata": {},
   "outputs": [],
   "source": [
    "num_race_splits = combine_col_dfs(nlst_democols['num'], num_dist_df, race_fns)\n",
    "display(num_race_splits.sort_values(by='diff_white_black', ascending=False)[num_race_splits['attribute'].isin(relevant_cols)].head(20))\n",
    "num_race_splits.sort_values(by='diff_white_black', ascending=True)[num_race_splits['attribute'].isin(relevant_cols)].head(20)"
   ]
  },
  {
   "cell_type": "code",
   "execution_count": null,
   "metadata": {},
   "outputs": [],
   "source": [
    "fn_black_series = false_negatives.query('race == 2')['SeriesInstanceUID'].tolist()\n",
    "len(fn_black_series)"
   ]
  },
  {
   "cell_type": "code",
   "execution_count": null,
   "metadata": {},
   "outputs": [],
   "source": [
    "fn_black_sybil = nlst_preds_nodule[nlst_preds_nodule['SeriesInstanceUID'].isin(fn_black_series)]"
   ]
  },
  {
   "cell_type": "code",
   "execution_count": null,
   "metadata": {},
   "outputs": [],
   "source": [
    "fn_black_sybil.to_csv(f\"{NLST_PREDS}/sybil_fn_brock_black.csv\")\n",
    "# fn_black_sybil.to_csv(f\"{CHANSEY_NLST_PREDS}/sybil_fn_brock_black.csv\")"
   ]
  },
  {
   "cell_type": "markdown",
   "metadata": {},
   "source": [
    "## What do our radiologist's notes line up with?"
   ]
  },
  {
   "cell_type": "markdown",
   "metadata": {},
   "source": [
    "### False Negatives"
   ]
  },
  {
   "cell_type": "code",
   "execution_count": null,
   "metadata": {},
   "outputs": [],
   "source": [
    "fn_traits = pd.read_csv(f\"{NLST_PREDS}/Sybil-Heatmap-Info/ernst-sybil-fn-traits.csv\")"
   ]
  },
  {
   "cell_type": "code",
   "execution_count": null,
   "metadata": {},
   "outputs": [],
   "source": [
    "fn_traits2 = fn_traits.merge(false_negatives, how='left', on='SeriesInstanceUID', copy=False, suffixes=('', ''))"
   ]
  },
  {
   "cell_type": "markdown",
   "metadata": {},
   "source": [
    "### False Positives"
   ]
  },
  {
   "cell_type": "code",
   "execution_count": null,
   "metadata": {},
   "outputs": [],
   "source": [
    "fp_top50 = pd.read_csv(f\"{NLST_PREDS}/Sybil-Heatmap-Info/sybil_fp_brock_top50.csv\")"
   ]
  },
  {
   "cell_type": "code",
   "execution_count": null,
   "metadata": {},
   "outputs": [],
   "source": [
    "fp_traits = pd.read_csv(f\"{NLST_PREDS}/Sybil-Heatmap-Info/ernst-sybil-fp-tp-traits.csv\").query('PredType == \"FP\"')"
   ]
  },
  {
   "cell_type": "code",
   "execution_count": null,
   "metadata": {},
   "outputs": [],
   "source": [
    "fp_traits['AttnOnAreaNotes'].fillna('', inplace=True)\n",
    "fp_traits['OtherNotes'].fillna('', inplace=True)"
   ]
  },
  {
   "cell_type": "code",
   "execution_count": null,
   "metadata": {},
   "outputs": [],
   "source": [
    "fp_traits2 = fp_traits.merge(nlst_preds, how='left', on='SeriesInstanceUID', copy=False, suffixes=('', ''))\n",
    "fp_traits2[['Reader', 'AttnOnTumor', 'Zshift', 'AbnormalAttn','AttnOnAreaNotes', 'OtherNotes'] + ['PanCan2b', 'sybil_year1', 'BMI', 'Gender', 'race', 'Emphysema', 'diaghype']]"
   ]
  },
  {
   "cell_type": "code",
   "execution_count": null,
   "metadata": {},
   "outputs": [],
   "source": [
    "fp_traits['AttnOnAreaNotes'].str.contains('normal').sum()"
   ]
  },
  {
   "cell_type": "code",
   "execution_count": null,
   "metadata": {},
   "outputs": [],
   "source": [
    "fp_traits2.query('AbnormalAttn == True')[['AttnOnTumor', 'AttnOnAreaNotes', 'Gender', 'race', 'BMI', \"NoduleCounts\", 'wrknomask', 'wrkfarm', 'diaghear', 'diaghype', 'diagcopd', 'diagadas', 'diagpneu', 'cigar', 'pipe'] + list(sybil_worse_df['col']) + nlst_democols['cat']['other'] + nlst_democols['cat']['disease'] + nlst_democols['cat']['work']]"
   ]
  },
  {
   "cell_type": "code",
   "execution_count": null,
   "metadata": {},
   "outputs": [],
   "source": [
    "fp_abnormal = fp_traits2.query('AbnormalAttn == True and Reader == \"SG\"')\n",
    "len(fp_abnormal)"
   ]
  },
  {
   "cell_type": "code",
   "execution_count": null,
   "metadata": {},
   "outputs": [],
   "source": [
    "gender_key = {1: 'Male', 2: 'Female'}\n",
    "race_key = {1.0: 'White American', 2.0: 'Black American', 3.0: 'Asian American'}\n",
    "\n",
    "def weight_cat(bmi):\n",
    "    if bmi < 18.5: return 'underweight'\n",
    "    if bmi < 25: return 'normal weight'\n",
    "    if bmi < 30: return 'overweight'\n",
    "    return 'obese'\n",
    "\n",
    "def list_workhist(row):\n",
    "    workhist_key = {\n",
    "        'wrkasbe': 'Asbestos',\n",
    "        'wrkbaki': 'Baking',\n",
    "        'wrkbutc': 'Butcher',\n",
    "        'wrkchem': 'Chemicals / plastics manufacturing',\n",
    "        'wrkfarm': 'Farmwork',\n",
    "        'wrkfire': 'Firefighting',\n",
    "        'wrkfoun': 'Foundry',\n",
    "        'wrkpain': 'Painting',\n",
    "        'wrksand': 'Sandblasting',\n",
    "        'wrkweld': 'Welding'\n",
    "    }\n",
    "    out_strs = []\n",
    "    for col in nlst_democols['cat']['work']:\n",
    "        if col in workhist_key and row[col]:\n",
    "            out_strs.append(workhist_key[col])\n",
    "    \n",
    "    return \", \".join(out_strs)\n",
    "\n",
    "# for i, (index, row) in enumerate(fp_abnormal.iterrows()):\n",
    "#     if row['Reader'] == 'ES': continue\n",
    "#     print(f\"Scan {i+1}/{len(fp_abnormal)}\")\n",
    "#     print(\"Series Instance UID:\", row['SeriesInstanceUID'], \"\\n\")\n",
    "#     print(f\"Scan with heatmaps: \\t serie_{row['SeriesInstanceUID']}.mha\")\n",
    "#     print(f\"Scan with NO heatmaps: \\t noattn_{row['SeriesInstanceUID']}.mha\")\n",
    "\n",
    "#     if row['AttnOnAreaNotes'] or row['OtherNotes']: print(f\"\\nNotes from Shaurya:\")\n",
    "#     if row['AttnOnAreaNotes']: print(f\"  - Attention: {row['AttnOnAreaNotes']}\")\n",
    "#     if row['OtherNotes']: print(f\"  - Other: {row['OtherNotes']}\")\n",
    "    \n",
    "#     print(f\"\\nGender: {gender_key[row['Gender']]} \\t Race: {race_key[row['race']]} \\t Body Mass Index: {row['BMI']:.2f} ({weight_cat(row['BMI'])})\")\n",
    "    \n",
    "#     print(f\"\\nEmphysema in scan: {'YES' if row['Emphysema'] else 'NO'} \\t Previous diagnosis of hypertension: {'YES' if row['diaghype'] else 'NO'}\")\n",
    "    \n",
    "#     print(f\"\\nFamily History of Lung Cancer: {'YES' if row['FamilyHistoryLungCa'] else 'NO'}\")\n",
    "\n",
    "#     print(f\"\\nDid patient smoke a cigar? {'YES' if row['cigar'] else 'NO'} \\t Did patient smoke a pipe? {'YES' if row['pipe'] else 'NO'}\")\n",
    "    \n",
    "#     print(f\"\\nDid patient work in a field high-risk for the lungs (according to NLST) without a mask? {'YES' if row['wrknomask'] else 'NO'}\")\n",
    "\n",
    "#     workhist_str = list_workhist(row)\n",
    "#     if workhist_str != \"\": print(f\"\\nWork history (1 or more years) in: {list_workhist(row)}\")\n",
    "\n",
    "#     print(\"\\n\\n\")"
   ]
  },
  {
   "cell_type": "markdown",
   "metadata": {},
   "source": [
    "## Do our false positives and false negatives exist in Sybil's set?"
   ]
  },
  {
   "cell_type": "code",
   "execution_count": null,
   "metadata": {},
   "outputs": [],
   "source": [
    "sybil_fp     = pd.read_csv(f\"{NLST_PREDS}/Sybil-Heatmap-Info/ernst-sybil-fp-tp-traits.csv\").query('PredType == \"FP\"')\n",
    "sybil_tp     = pd.read_csv(f\"{NLST_PREDS}/Sybil-Heatmap-Info/ernst-sybil-fp-tp-traits.csv\").query('PredType == \"TP\"')\n",
    "sybil_fn     = pd.read_csv(f\"{NLST_PREDS}/Sybil-Heatmap-Info/ernst-sybil-fn-traits.csv\")\n",
    "sybil_splits = pd.read_csv(f\"{NLST_PREDS}/sybil-nlst-splitinfo.csv\")"
   ]
  },
  {
   "cell_type": "code",
   "execution_count": null,
   "metadata": {},
   "outputs": [],
   "source": [
    "sybil_train_series = set(sybil_splits['SeriesInstanceUID'].tolist())"
   ]
  }
 ],
 "metadata": {
  "kernelspec": {
   "display_name": "Python 3",
   "language": "python",
   "name": "python3"
  },
  "language_info": {
   "codemirror_mode": {
    "name": "ipython",
    "version": 3
   },
   "file_extension": ".py",
   "mimetype": "text/x-python",
   "name": "python",
   "nbconvert_exporter": "python",
   "pygments_lexer": "ipython3",
   "version": "3.11.9"
  }
 },
 "nbformat": 4,
 "nbformat_minor": 2
}
