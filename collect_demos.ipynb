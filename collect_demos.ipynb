{
 "cells": [
  {
   "cell_type": "markdown",
   "metadata": {},
   "source": [
    "# NLST Demographic Info\n",
    "\n",
    "Handle the demographic information columns (there's so many) before examining performance."
   ]
  },
  {
   "cell_type": "code",
   "execution_count": null,
   "metadata": {},
   "outputs": [],
   "source": [
    "import pandas as pd\n",
    "import numpy as np\n",
    "import seaborn as sns\n",
    "import json\n",
    "\n",
    "from utilities.info import *\n",
    "from utilities.predictions import sybil_label\n",
    "\n",
    "DICT_PATH = f\"{INPUT_DIR}/participant_d040722.csv\"\n",
    "FILE_DIR"
   ]
  },
  {
   "cell_type": "markdown",
   "metadata": {},
   "source": [
    "## Load Demographic Info and Choose Rows Based on Patients"
   ]
  },
  {
   "cell_type": "markdown",
   "metadata": {},
   "source": [
    "Venk21 data. Our main dataset, including validation predictions."
   ]
  },
  {
   "cell_type": "code",
   "execution_count": null,
   "metadata": {},
   "outputs": [],
   "source": [
    "PREDS_PATH = f\"{FILE_DIR}/nlst_allmodels.csv\"\n",
    "INCLUDES_VENK21_DATA = True\n",
    "\n",
    "OUTDEMOS_PATH = f\"{FILE_DIR}/nlst_demos.csv\"\n",
    "OUTMERGE_PATH = f\"{FILE_DIR}/nlst_allmodels_demos.csv\"\n",
    "OUTCOLS_PATH = f\"{FILE_DIR}/nlst_democols.json\""
   ]
  },
  {
   "cell_type": "markdown",
   "metadata": {},
   "source": [
    "Sybil training data splits. For prevalence checks."
   ]
  },
  {
   "cell_type": "code",
   "execution_count": null,
   "metadata": {},
   "outputs": [],
   "source": [
    "# PREDS_PATH = f\"{INPUT_DIR}/sybil-nlst-info/sybil-nlst-splitinfo.csv\"\n",
    "# INCLUDES_VENK21_DATA = False\n",
    "\n",
    "# OUTDEMOS_PATH = f\"{FILE_DIR}/nlst_sybil_demos_patientlevel.csv\"\n",
    "# OUTMERGE_PATH = f\"{FILE_DIR}/nlst_sybil_demos.csv\"\n",
    "# OUTCOLS_PATH = f\"{FILE_DIR}/nlst_sybil_democols.json\""
   ]
  },
  {
   "cell_type": "code",
   "execution_count": null,
   "metadata": {},
   "outputs": [],
   "source": [
    "nlst_preds = pd.read_csv(PREDS_PATH)\n",
    "nlst_preds.info()"
   ]
  },
  {
   "cell_type": "code",
   "execution_count": null,
   "metadata": {},
   "outputs": [],
   "source": [
    "nlst_dict_full = pd.read_csv(DICT_PATH)\n",
    "nlst_dict_full.info()"
   ]
  },
  {
   "cell_type": "code",
   "execution_count": null,
   "metadata": {},
   "outputs": [],
   "source": [
    "df = nlst_dict_full[nlst_dict_full['pid'].isin(nlst_preds['PatientID'])].reset_index(drop=True)\n",
    "df.info()"
   ]
  },
  {
   "cell_type": "markdown",
   "metadata": {},
   "source": [
    "## Choose Demographic Columns"
   ]
  },
  {
   "cell_type": "code",
   "execution_count": null,
   "metadata": {},
   "outputs": [],
   "source": [
    "cols = {\"num\": {}, 'cat': {}}\n",
    "df['PatientID'] = df['pid']\n",
    "cols[\"info\"] = ['PatientID', 'study']\n",
    "df['study'].value_counts(dropna=False)"
   ]
  },
  {
   "cell_type": "markdown",
   "metadata": {},
   "source": [
    "Next up we analyze and aggregate the columns since that still leaves us about 140 at the end."
   ]
  },
  {
   "cell_type": "markdown",
   "metadata": {},
   "source": [
    "### Demographic columns"
   ]
  },
  {
   "cell_type": "code",
   "execution_count": null,
   "metadata": {},
   "outputs": [],
   "source": [
    "col_demo_cat = ['race', 'gender', 'ethnic', 'marital', 'educat']\n",
    "col_demo_num = ['age', 'height', 'weight']\n",
    "df[col_demo_cat + col_demo_num].isna().sum()"
   ]
  },
  {
   "cell_type": "code",
   "execution_count": null,
   "metadata": {},
   "outputs": [],
   "source": [
    "print(df['educat'].value_counts(dropna=False))\n",
    "df['educat'].replace([8, 95, 98, 99], value=np.nan, inplace=True)\n",
    "print(df['educat'].value_counts(dropna=False))"
   ]
  },
  {
   "cell_type": "code",
   "execution_count": null,
   "metadata": {},
   "outputs": [],
   "source": [
    "df['HS-or-more'] = df['educat'].apply(lambda x: 1 if x >=3 else (0 if x < 3 else None))\n",
    "col_demo_cat.append('HS-or-more')\n",
    "df['HS-or-more'].value_counts(dropna=False)"
   ]
  },
  {
   "cell_type": "code",
   "execution_count": null,
   "metadata": {},
   "outputs": [],
   "source": [
    "df['more-than-HS'] = df['educat'].apply(lambda x: 1 if x >=4 else (0 if x < 4 else None))\n",
    "col_demo_cat.append('more-than-HS')\n",
    "df['more-than-HS'].value_counts(dropna=False)"
   ]
  },
  {
   "cell_type": "code",
   "execution_count": null,
   "metadata": {},
   "outputs": [],
   "source": [
    "print(df['ethnic'].value_counts(dropna=False))\n",
    "df['ethnic'].replace([7, 95, 98, 99], value=np.nan, inplace=True)\n",
    "print(df['ethnic'].value_counts(dropna=False))"
   ]
  },
  {
   "cell_type": "code",
   "execution_count": null,
   "metadata": {},
   "outputs": [],
   "source": [
    "print(df['marital'].value_counts(dropna=False))\n",
    "df['marital'].replace([7, 9], value=np.nan, inplace=True)\n",
    "print(df['marital'].value_counts(dropna=False))"
   ]
  },
  {
   "cell_type": "code",
   "execution_count": null,
   "metadata": {},
   "outputs": [],
   "source": [
    "print(df['race'].value_counts(dropna=False))\n",
    "df['race'].replace([7, 95, 96, 98, 99], value=np.nan, inplace=True)\n",
    "print(df['race'].value_counts(dropna=False))"
   ]
  },
  {
   "cell_type": "code",
   "execution_count": null,
   "metadata": {},
   "outputs": [],
   "source": [
    "df.query('ethnic == 1')['race'].value_counts(dropna=False)"
   ]
  },
  {
   "cell_type": "code",
   "execution_count": null,
   "metadata": {},
   "outputs": [],
   "source": [
    "df['NonHispanicWhite'] = (df['race'] == 1.0) & (df['ethnic'] == 2.0)\n",
    "col_demo_cat.append('NonHispanicWhite')\n",
    "df['NonHispanicWhite'].value_counts(dropna=False)"
   ]
  },
  {
   "cell_type": "code",
   "execution_count": null,
   "metadata": {},
   "outputs": [],
   "source": [
    "df['HighSchoolPlus'] = (df['educat'] != 1.0)\n",
    "col_demo_cat.append('HighSchoolPlus')\n",
    "df['HighSchoolPlus'].value_counts(dropna=False)"
   ]
  },
  {
   "cell_type": "code",
   "execution_count": null,
   "metadata": {},
   "outputs": [],
   "source": [
    "df['Married'] = (df['marital'] == 2.0)\n",
    "col_demo_cat.append('Married')\n",
    "df['Married'].value_counts(dropna=False)"
   ]
  },
  {
   "cell_type": "code",
   "execution_count": null,
   "metadata": {},
   "outputs": [],
   "source": [
    "def bmi_calc(height, weight):\n",
    "    return (weight * 703) / (height * height)\n",
    "\n",
    "df['BMI'] = bmi_calc(height=df['height'], weight=df['weight'])\n",
    "col_demo_num.append('BMI')\n",
    "df['BMI'].describe()"
   ]
  },
  {
   "cell_type": "code",
   "execution_count": null,
   "metadata": {},
   "outputs": [],
   "source": [
    "df['WhiteOrBlack'] = df['race'].replace([3, 4, 5, 6], value=np.nan, inplace=False)\n",
    "col_demo_cat.append('WhiteOrBlack')\n",
    "df['WhiteOrBlack'].value_counts()"
   ]
  },
  {
   "cell_type": "code",
   "execution_count": null,
   "metadata": {},
   "outputs": [],
   "source": [
    "df['Overweight'] = (df['BMI'] >= 25)\n",
    "col_demo_cat.append('Overweight')"
   ]
  },
  {
   "cell_type": "code",
   "execution_count": null,
   "metadata": {},
   "outputs": [],
   "source": [
    "df['Unfinished_ed'] = (df['educat'] == 2) | (df['educat'] == 5)\n",
    "col_demo_cat.append('Unfinished_ed')"
   ]
  },
  {
   "cell_type": "code",
   "execution_count": null,
   "metadata": {},
   "outputs": [],
   "source": [
    "df[col_demo_cat + col_demo_num].isna().sum()"
   ]
  },
  {
   "cell_type": "markdown",
   "metadata": {},
   "source": [
    "Age and gender are already included in the Venk21 sheet so we don't need it here as well."
   ]
  },
  {
   "cell_type": "code",
   "execution_count": null,
   "metadata": {},
   "outputs": [],
   "source": [
    "cols['cat']['demo'] = list(set(col_demo_cat) - set(['gender']))\n",
    "cols['num']['demo'] = list(set(col_demo_num) - set(['age']))"
   ]
  },
  {
   "cell_type": "code",
   "execution_count": null,
   "metadata": {},
   "outputs": [],
   "source": [
    "cols"
   ]
  },
  {
   "cell_type": "markdown",
   "metadata": {},
   "source": [
    "### Smoking columns"
   ]
  },
  {
   "cell_type": "code",
   "execution_count": null,
   "metadata": {},
   "outputs": [],
   "source": [
    "col_smoke_cat =  ['cigar', 'cigsmok', 'pipe', 'smokelive', 'smokework']\n",
    "col_smoke_num = ['pkyr', 'smokeage', 'smokeday', 'smokeyr']\n",
    "df[col_smoke_cat + col_smoke_num].isna().sum()"
   ]
  },
  {
   "cell_type": "markdown",
   "metadata": {},
   "source": [
    "Let's not include `age_quit` - too many None values."
   ]
  },
  {
   "cell_type": "code",
   "execution_count": null,
   "metadata": {},
   "outputs": [],
   "source": [
    "pd.DataFrame({c: df[c].value_counts(dropna=False) for c in col_smoke_cat}).drop_duplicates()"
   ]
  },
  {
   "cell_type": "code",
   "execution_count": null,
   "metadata": {},
   "outputs": [],
   "source": [
    "pd.DataFrame({c: [len(df.query(f'gender == {i} and {c} == 1')) for i in [1,2]] for c in col_smoke_cat}, index=['M','F'])"
   ]
  },
  {
   "cell_type": "code",
   "execution_count": null,
   "metadata": {},
   "outputs": [],
   "source": [
    "cols['cat']['smoke'] = col_smoke_cat\n",
    "cols['num']['smoke'] = col_smoke_num"
   ]
  },
  {
   "cell_type": "markdown",
   "metadata": {},
   "source": [
    "### Work history columns"
   ]
  },
  {
   "cell_type": "code",
   "execution_count": null,
   "metadata": {},
   "outputs": [],
   "source": [
    "workfacets = ['res', 'wrk', 'yrs']\n",
    "worktypes = ['asbe', 'baki', 'butc', 'chem', 'coal', 'cott', 'farm', 'fire', 'flou', 'foun', 'hard', 'pain', 'sand', 'weld']\n",
    "workcols = {f: [f+t for t in worktypes] for f in workfacets}"
   ]
  },
  {
   "cell_type": "code",
   "execution_count": null,
   "metadata": {},
   "outputs": [],
   "source": [
    "for t in worktypes:\n",
    "    hasworked = len(df.query(f'wrk{t} == 1'))\n",
    "    resnotnull = len(df[~df[f'res{t}'].isna()])\n",
    "    yrsnotnull = len(df[~df[f'yrs{t}'].isna()])\n",
    "    print(t, hasworked, resnotnull, yrsnotnull)"
   ]
  },
  {
   "cell_type": "code",
   "execution_count": null,
   "metadata": {},
   "outputs": [],
   "source": [
    "df[workcols['wrk']].sum(axis=1).sort_values(ascending=False)"
   ]
  },
  {
   "cell_type": "code",
   "execution_count": null,
   "metadata": {},
   "outputs": [],
   "source": [
    "pd.DataFrame({t: df[f'wrk{t}'].value_counts(dropna=False) for t in worktypes})"
   ]
  },
  {
   "cell_type": "code",
   "execution_count": null,
   "metadata": {},
   "outputs": [],
   "source": [
    "pd.DataFrame({t: [len(df.query(f'gender == {i} and wrk{t} == 1')) for i in [1,2]] for t in worktypes}, index=['M','F'])"
   ]
  },
  {
   "cell_type": "code",
   "execution_count": null,
   "metadata": {},
   "outputs": [],
   "source": [
    "pd.DataFrame({t: df[f'res{t}'].value_counts(dropna=False) for t in worktypes}).drop_duplicates()"
   ]
  },
  {
   "cell_type": "code",
   "execution_count": null,
   "metadata": {},
   "outputs": [],
   "source": [
    "for t in worktypes:\n",
    "    nomask = df[f'res{t}'] == 0\n",
    "    df[f'wrknomask{t}'] = nomask\n",
    "\n",
    "df['wrknomask'] = df[[f'wrknomask{t}' for t in worktypes]].any(axis=1)"
   ]
  },
  {
   "cell_type": "code",
   "execution_count": null,
   "metadata": {},
   "outputs": [],
   "source": [
    "pd.DataFrame({t: [len(df.query(f'gender == {i} and wrknomask{t} == 1')) for i in [1,2]] for t in worktypes}, index=['M','F'])"
   ]
  },
  {
   "cell_type": "code",
   "execution_count": null,
   "metadata": {},
   "outputs": [],
   "source": [
    "df['wrknomask'].value_counts()"
   ]
  },
  {
   "cell_type": "code",
   "execution_count": null,
   "metadata": {},
   "outputs": [],
   "source": [
    "df[workcols['res']].iloc[3156]"
   ]
  },
  {
   "cell_type": "code",
   "execution_count": null,
   "metadata": {},
   "outputs": [],
   "source": [
    "df[workcols['yrs']].describe()"
   ]
  },
  {
   "cell_type": "code",
   "execution_count": null,
   "metadata": {},
   "outputs": [],
   "source": [
    "sns.boxenplot(data=df[workcols['yrs']], orient='h')"
   ]
  },
  {
   "cell_type": "code",
   "execution_count": null,
   "metadata": {},
   "outputs": [],
   "source": [
    "cols['cat']['work'] = workcols['wrk']"
   ]
  },
  {
   "cell_type": "markdown",
   "metadata": {},
   "source": [
    "### Disease history columns"
   ]
  },
  {
   "cell_type": "code",
   "execution_count": null,
   "metadata": {},
   "outputs": [],
   "source": [
    "diseasefacets = ['age', 'diag']\n",
    "diseasetypes = ['adas', 'asbe', 'bron', 'chas', 'chro', 'copd', 'diab', 'emph', 'fibr', 'hear', 'hype', 'pneu', 'sarc', 'sili', 'stro', 'tube']"
   ]
  },
  {
   "cell_type": "code",
   "execution_count": null,
   "metadata": {},
   "outputs": [],
   "source": [
    "pd.DataFrame({t: df[f'diag{t}'].value_counts(dropna=False) for t in diseasetypes}).drop_duplicates()"
   ]
  },
  {
   "cell_type": "code",
   "execution_count": null,
   "metadata": {},
   "outputs": [],
   "source": [
    "pd.DataFrame({t: [len(df.query(f'gender == {i} and diag{t} == 1')) for i in [1,2]] for t in diseasetypes}, index=['M','F'])"
   ]
  },
  {
   "cell_type": "code",
   "execution_count": null,
   "metadata": {},
   "outputs": [],
   "source": [
    "df[[f\"age{t}\" for t in diseasetypes]].describe()"
   ]
  },
  {
   "cell_type": "code",
   "execution_count": null,
   "metadata": {},
   "outputs": [],
   "source": [
    "sns.boxenplot(data=df[[f\"age{t}\" for t in diseasetypes]], orient='h')"
   ]
  },
  {
   "cell_type": "code",
   "execution_count": null,
   "metadata": {},
   "outputs": [],
   "source": [
    "cols['cat']['disease'] = [f'diag{t}' for t in diseasetypes]"
   ]
  },
  {
   "cell_type": "markdown",
   "metadata": {},
   "source": [
    "### Personal cancer history columns"
   ]
  },
  {
   "cell_type": "code",
   "execution_count": null,
   "metadata": {},
   "outputs": [],
   "source": [
    "pcancerfacets = ['age', 'canc']\n",
    "pcancertypes = ['blad', 'brea', 'cerv', 'colo', 'esop', 'kidn', 'lary', 'lung', 'nasa', 'oral', 'panc', 'phar', 'stom', 'thyr', 'tran']"
   ]
  },
  {
   "cell_type": "code",
   "execution_count": null,
   "metadata": {},
   "outputs": [],
   "source": [
    "pd.DataFrame({t: df[f'canc{t}'].value_counts(dropna=False) for t in pcancertypes}).drop_duplicates()"
   ]
  },
  {
   "cell_type": "code",
   "execution_count": null,
   "metadata": {},
   "outputs": [],
   "source": [
    "pd.DataFrame({t: [len(df.query(f'gender == {i} and canc{t} == 1')) for i in [1,2]] for t in pcancertypes}, index=['M','F'])"
   ]
  },
  {
   "cell_type": "code",
   "execution_count": null,
   "metadata": {},
   "outputs": [],
   "source": [
    "df[[f\"age{t}\" for t in pcancertypes]].describe()"
   ]
  },
  {
   "cell_type": "code",
   "execution_count": null,
   "metadata": {},
   "outputs": [],
   "source": [
    "sns.boxenplot(data=df[[f\"age{t}\" for t in pcancertypes]], orient='h')"
   ]
  },
  {
   "cell_type": "code",
   "execution_count": null,
   "metadata": {},
   "outputs": [],
   "source": [
    "cols['cat']['canchist'] = [f\"canc{t}\" for t in pcancertypes]"
   ]
  },
  {
   "cell_type": "code",
   "execution_count": null,
   "metadata": {},
   "outputs": [],
   "source": [
    "df['PersonalCancerHist'] = df[[f\"canc{t}\" for t in pcancertypes]].any(axis=1)\n",
    "df['PersonalCancerHist'].value_counts(dropna=False)"
   ]
  },
  {
   "cell_type": "markdown",
   "metadata": {},
   "source": [
    "### Family history Lung cancer columns\n",
    "Unused because it doesn't match with existing `FamilyHistoryLungCa` column."
   ]
  },
  {
   "cell_type": "code",
   "execution_count": null,
   "metadata": {},
   "outputs": [],
   "source": [
    "relatives = ['brother', 'sister', 'child', 'father', 'mother']\n",
    "col_famhist = ['fam'+member for member in relatives]\n",
    "pd.DataFrame({t: df[f'fam{t}'].value_counts(dropna=False) for t in relatives}).drop_duplicates()"
   ]
  },
  {
   "cell_type": "code",
   "execution_count": null,
   "metadata": {},
   "outputs": [],
   "source": [
    "df['famhist'] = df[col_famhist].any(axis=1)\n",
    "df_famhist = df[['pid', 'famhist']].set_index('pid')\n",
    "df_famhist.value_counts(dropna=False)"
   ]
  },
  {
   "cell_type": "markdown",
   "metadata": {},
   "source": [
    "### Alcohol columns - UNUSED"
   ]
  },
  {
   "cell_type": "code",
   "execution_count": null,
   "metadata": {},
   "outputs": [],
   "source": [
    "alcohol_acrin = ['acrin_alc_curr', 'acrin_alc_ever', 'acrin_drink24hr', 'acrin_drinknum_curr', 'acrin_drinknum_form', 'acrin_drinkyrs_curr', 'acrin_drinkyrs_form', 'acrin_lastdrink']\n",
    "alcohol_lss = ['lss_alcohol_freq', 'lss_alcohol_num']"
   ]
  },
  {
   "cell_type": "code",
   "execution_count": null,
   "metadata": {},
   "outputs": [],
   "source": [
    "df['study'].value_counts() #1 is LSS, 2 and 3 are ACRIN"
   ]
  },
  {
   "cell_type": "code",
   "execution_count": null,
   "metadata": {},
   "outputs": [],
   "source": [
    "df['acrin_alc_curr'].value_counts(dropna=False)"
   ]
  },
  {
   "cell_type": "code",
   "execution_count": null,
   "metadata": {},
   "outputs": [],
   "source": [
    "df['lss_alcohol_freq'].value_counts(dropna=False)"
   ]
  },
  {
   "cell_type": "code",
   "execution_count": null,
   "metadata": {},
   "outputs": [],
   "source": [
    "df[alcohol_acrin + alcohol_lss].describe()"
   ]
  },
  {
   "cell_type": "markdown",
   "metadata": {},
   "source": [
    "I don't know how to aggregate these columns, if I'm gonna be honest."
   ]
  },
  {
   "cell_type": "markdown",
   "metadata": {},
   "source": [
    "### Lung Cancer columns"
   ]
  },
  {
   "cell_type": "code",
   "execution_count": null,
   "metadata": {},
   "outputs": [],
   "source": [
    "histology_cat_key = {\n",
    "    1: \"Small_cell_carcinoma\",\n",
    "    2: \"Squamous_cell_carcinoma\",\n",
    "    3: \"Adenocarcinoma\",\n",
    "    4: \"Bronchiolo-alveolar_carcinoma\",\n",
    "    5: \"Large_cell_carcinoma\",\n",
    "    6: \"Adenosquamous_carcinoma\",\n",
    "    7: \"Pleomorphic/sarcomatoid\",\n",
    "    8: \"Carcinoid_tumor\",\n",
    "    9: \"Unclassified_carcinoma\",\n",
    "}"
   ]
  },
  {
   "cell_type": "code",
   "execution_count": null,
   "metadata": {},
   "outputs": [],
   "source": [
    "df['LC_type'] = df['histology_cat'].replace(histology_cat_key)\n",
    "df = pd.get_dummies(df, columns=['LC_type'], prefix='', prefix_sep='')"
   ]
  },
  {
   "cell_type": "code",
   "execution_count": null,
   "metadata": {},
   "outputs": [],
   "source": [
    "df['LC_stage'] = df['de_stag_7thed'].replace([999], value=np.nan, inplace=False)"
   ]
  },
  {
   "cell_type": "code",
   "execution_count": null,
   "metadata": {},
   "outputs": [],
   "source": [
    "cols['cat']['lungcanc'] = list(histology_cat_key.values()) + ['LC_stage']\n",
    "cols['cat']['lungcanc'].remove(\"Pleomorphic/sarcomatoid\")"
   ]
  },
  {
   "cell_type": "code",
   "execution_count": null,
   "metadata": {},
   "outputs": [],
   "source": [
    "cols[\"info\"].append('lung_cancer')\n",
    "df['lung_cancer'].value_counts(dropna=False)"
   ]
  },
  {
   "cell_type": "code",
   "execution_count": null,
   "metadata": {},
   "outputs": [],
   "source": [
    "cols[\"info\"].append('cancyr')\n",
    "df['cancyr'].value_counts(dropna=False)"
   ]
  },
  {
   "cell_type": "code",
   "execution_count": null,
   "metadata": {},
   "outputs": [],
   "source": [
    "cols[\"info\"].extend([f\"scr_days{f}\" for f in range(3)])"
   ]
  },
  {
   "cell_type": "code",
   "execution_count": null,
   "metadata": {},
   "outputs": [],
   "source": [
    "cols[\"info\"].append(\"fup_days\")\n",
    "cols[\"info\"].append(\"candx_days\")"
   ]
  },
  {
   "cell_type": "markdown",
   "metadata": {},
   "source": [
    "### Other columns"
   ]
  },
  {
   "cell_type": "code",
   "execution_count": null,
   "metadata": {},
   "outputs": [],
   "source": [
    "if not INCLUDES_VENK21_DATA:\n",
    "    cols['cat']['other'] = ['wrknomask', 'PersonalCancerHist', 'FamilyHistoryLungCa']\n",
    "\n",
    "    df['Gender'] = df['gender']\n",
    "    cols['cat']['demo'].append('Gender')\n",
    "    \n",
    "    df['Age'] = df['age']\n",
    "    cols['num']['demo'].append('Age')\n",
    "\n",
    "    df['FamilyHistoryLungCa'] = df['famhist']\n",
    "\n",
    "else:\n",
    "    cols['cat']['other'] = ['wrknomask', 'PersonalCancerHist']"
   ]
  },
  {
   "cell_type": "markdown",
   "metadata": {},
   "source": [
    "## Save Columns"
   ]
  },
  {
   "cell_type": "code",
   "execution_count": null,
   "metadata": {},
   "outputs": [],
   "source": [
    "cols"
   ]
  },
  {
   "cell_type": "code",
   "execution_count": null,
   "metadata": {},
   "outputs": [],
   "source": [
    "cols_num = sum(cols['num'].values(), start=[])\n",
    "cols_cat = sum(cols['cat'].values(), start=[])\n",
    "cols_list = cols_num + cols_cat + cols['info']\n",
    "len(cols_list)"
   ]
  },
  {
   "cell_type": "code",
   "execution_count": null,
   "metadata": {},
   "outputs": [],
   "source": [
    "if INCLUDES_VENK21_DATA:\n",
    "    cols['cat']['demo'].append('Gender')\n",
    "    cols['num']['demo'].append('Age')\n",
    "    cols['cat']['other'] = ['wrknomask', 'PersonalCancerHist', 'FamilyHistoryLungCa', 'Emphysema']\n",
    "    cols['cat']['nodule'] = ['Solid', 'GroundGlassOpacity', 'Perifissural', 'NonSolid',\n",
    "       'PartSolid', 'SemiSolid', 'Calcified', 'NoduleInUpperLung', 'Spiculation']\n",
    "    cols['num']['nodule'] = [\"CoordX\", \"CoordY\", \"CoordZ\"]\n",
    "    cols['num']['other'] = ['Diameter_mm', 'NoduleCounts']"
   ]
  },
  {
   "cell_type": "code",
   "execution_count": null,
   "metadata": {},
   "outputs": [],
   "source": [
    "with open(OUTCOLS_PATH, 'w') as f:\n",
    "    json.dump(cols, f)"
   ]
  },
  {
   "cell_type": "code",
   "execution_count": null,
   "metadata": {},
   "outputs": [],
   "source": [
    "df[cols_list].to_csv(OUTDEMOS_PATH, index=False)"
   ]
  },
  {
   "cell_type": "code",
   "execution_count": null,
   "metadata": {},
   "outputs": [],
   "source": [
    "nlst_preds_demos = nlst_preds.merge(df[cols_list], on='PatientID', how='left')\n",
    "nlst_preds_demos.info()"
   ]
  },
  {
   "cell_type": "markdown",
   "metadata": {},
   "source": [
    "### Label check"
   ]
  },
  {
   "cell_type": "code",
   "execution_count": null,
   "metadata": {},
   "outputs": [],
   "source": [
    "nlst_preds['timepoint'].value_counts()"
   ]
  },
  {
   "cell_type": "code",
   "execution_count": null,
   "metadata": {},
   "outputs": [],
   "source": [
    "if INCLUDES_VENK21_DATA:\n",
    "    display(nlst_preds_demos['lung_cancer'].value_counts(dropna=False))\n",
    "else:\n",
    "    display(nlst_preds_demos[['split', 'lung_cancer']].value_counts(dropna=False))"
   ]
  },
  {
   "cell_type": "code",
   "execution_count": null,
   "metadata": {},
   "outputs": [],
   "source": [
    "nlst_preds_demos['sybil_label'] = nlst_preds_demos.apply(sybil_label, axis=1)\n",
    "if INCLUDES_VENK21_DATA:\n",
    "    display(nlst_preds_demos['sybil_label'].value_counts(dropna=False))\n",
    "else:\n",
    "    display(nlst_preds_demos[['split', 'sybil_label']].value_counts(dropna=False))"
   ]
  },
  {
   "cell_type": "code",
   "execution_count": null,
   "metadata": {},
   "outputs": [],
   "source": [
    "if INCLUDES_VENK21_DATA:\n",
    "    display(nlst_preds_demos[['label', 'lung_cancer', 'sybil_label']].value_counts(dropna=False))\n",
    "else:\n",
    "    display(nlst_preds_demos['split'].value_counts(dropna=False))"
   ]
  },
  {
   "cell_type": "markdown",
   "metadata": {},
   "source": [
    "### Save whole CSV"
   ]
  },
  {
   "cell_type": "code",
   "execution_count": null,
   "metadata": {},
   "outputs": [],
   "source": [
    "nlst_preds_demos.to_csv(OUTMERGE_PATH, index=False)"
   ]
  }
 ],
 "metadata": {
  "kernelspec": {
   "display_name": "Python 3",
   "language": "python",
   "name": "python3"
  },
  "language_info": {
   "codemirror_mode": {
    "name": "ipython",
    "version": 3
   },
   "file_extension": ".py",
   "mimetype": "text/x-python",
   "name": "python",
   "nbconvert_exporter": "python",
   "pygments_lexer": "ipython3",
   "version": "3.11.9"
  }
 },
 "nbformat": 4,
 "nbformat_minor": 2
}
