{
 "cells": [
  {
   "cell_type": "markdown",
   "metadata": {},
   "source": [
    "# NLST Demographic Info\n",
    "\n",
    "Handle the demographic information columns (there's so many) before examining performance."
   ]
  },
  {
   "cell_type": "code",
   "execution_count": 1,
   "metadata": {},
   "outputs": [
    {
     "data": {
      "text/plain": [
       "'C:/Users/shaur/OneDrive - Radboudumc/Documents - Master - Shaurya Gaur/General/Data/melba-files-2'"
      ]
     },
     "execution_count": 1,
     "metadata": {},
     "output_type": "execute_result"
    }
   ],
   "source": [
    "import pandas as pd\n",
    "import numpy as np\n",
    "import seaborn as sns\n",
    "import json\n",
    "\n",
    "from utilities.info import *\n",
    "from utilities.predictions import sybil_label\n",
    "\n",
    "DICT_PATH = f\"{INPUT_DIR}/participant_d040722.csv\"\n",
    "FILE_DIR"
   ]
  },
  {
   "cell_type": "markdown",
   "metadata": {},
   "source": [
    "## Load Demographic Info and Choose Rows Based on Patients"
   ]
  },
  {
   "cell_type": "markdown",
   "metadata": {},
   "source": [
    "Venk21 data. Our main dataset, including validation predictions."
   ]
  },
  {
   "cell_type": "code",
   "execution_count": 84,
   "metadata": {},
   "outputs": [],
   "source": [
    "PREDS_PATH = f\"{FILE_DIR}/nlst_allmodels.csv\"\n",
    "INCLUDES_VENK21_DATA = True\n",
    "\n",
    "OUTDEMOS_PATH = f\"{FILE_DIR}/nlst_demos.csv\"\n",
    "OUTMERGE_PATH = f\"{FILE_DIR}/nlst_allmodels_demos.csv\"\n",
    "OUTCOLS_PATH = f\"{FILE_DIR}/nlst_democols.json\""
   ]
  },
  {
   "cell_type": "markdown",
   "metadata": {},
   "source": [
    "Sybil training data splits. For prevalence checks."
   ]
  },
  {
   "cell_type": "code",
   "execution_count": 85,
   "metadata": {},
   "outputs": [],
   "source": [
    "# PREDS_PATH = f\"{INPUT_DIR}/sybil-nlst-info/sybil-nlst-splitinfo.csv\"\n",
    "# INCLUDES_VENK21_DATA = False\n",
    "\n",
    "# OUTDEMOS_PATH = f\"{FILE_DIR}/nlst_sybil_demos_patientlevel.csv\"\n",
    "# OUTMERGE_PATH = f\"{FILE_DIR}/nlst_sybil_demos.csv\"\n",
    "# OUTCOLS_PATH = f\"{FILE_DIR}/nlst_sybil_democols.json\""
   ]
  },
  {
   "cell_type": "code",
   "execution_count": 86,
   "metadata": {},
   "outputs": [
    {
     "name": "stdout",
     "output_type": "stream",
     "text": [
      "<class 'pandas.core.frame.DataFrame'>\n",
      "RangeIndex: 16077 entries, 0 to 16076\n",
      "Data columns (total 41 columns):\n",
      " #   Column               Non-Null Count  Dtype  \n",
      "---  ------               --------------  -----  \n",
      " 0   PatientID            16077 non-null  int64  \n",
      " 1   StudyDate            16077 non-null  int64  \n",
      " 2   SeriesInstanceUID    16077 non-null  object \n",
      " 3   CoordX               16077 non-null  float64\n",
      " 4   CoordY               16077 non-null  float64\n",
      " 5   CoordZ               16077 non-null  float64\n",
      " 6   LesionID             16077 non-null  int64  \n",
      " 7   NoduleType           16077 non-null  object \n",
      " 8   Spiculation          16077 non-null  bool   \n",
      " 9   Diameter_mm          16077 non-null  float64\n",
      " 10  Age                  16077 non-null  int64  \n",
      " 11  Gender               16077 non-null  int64  \n",
      " 12  FamilyHistoryLungCa  16077 non-null  bool   \n",
      " 13  Emphysema            16077 non-null  bool   \n",
      " 14  NoduleInUpperLung    16077 non-null  bool   \n",
      " 15  NoduleCounts         16077 non-null  int64  \n",
      " 16  SCT_EPI_LOC          15479 non-null  float64\n",
      " 17  xie_gc_gclobe150     598 non-null    float64\n",
      " 18  loclup               1249 non-null   float64\n",
      " 19  locrup               1249 non-null   float64\n",
      " 20  PanCan2b             16077 non-null  float64\n",
      " 21  label                16077 non-null  int64  \n",
      " 22  DL                   16077 non-null  float64\n",
      " 23  NoduleID             16077 non-null  object \n",
      " 24  AnnotationID         16077 non-null  object \n",
      " 25  timepoint            16077 non-null  int64  \n",
      " 26  DL_cal               16077 non-null  float64\n",
      " 27  InSybilTrain         16077 non-null  bool   \n",
      " 28  sybil_year1          9543 non-null   float64\n",
      " 29  sybil_year2          9543 non-null   float64\n",
      " 30  sybil_year3          9543 non-null   float64\n",
      " 31  sybil_year4          9543 non-null   float64\n",
      " 32  sybil_year5          9543 non-null   float64\n",
      " 33  sybil_year6          9543 non-null   float64\n",
      " 34  Calcified            16077 non-null  bool   \n",
      " 35  GroundGlassOpacity   16077 non-null  bool   \n",
      " 36  NonSolid             16077 non-null  bool   \n",
      " 37  PartSolid            16077 non-null  bool   \n",
      " 38  Perifissural         16077 non-null  bool   \n",
      " 39  SemiSolid            16077 non-null  bool   \n",
      " 40  Solid                16077 non-null  bool   \n",
      "dtypes: bool(12), float64(17), int64(8), object(4)\n",
      "memory usage: 3.7+ MB\n"
     ]
    }
   ],
   "source": [
    "nlst_preds = pd.read_csv(PREDS_PATH)\n",
    "nlst_preds.info()"
   ]
  },
  {
   "cell_type": "code",
   "execution_count": 87,
   "metadata": {},
   "outputs": [
    {
     "name": "stderr",
     "output_type": "stream",
     "text": [
      "C:\\Users\\shaur\\AppData\\Local\\Temp\\ipykernel_3512\\3010214097.py:1: DtypeWarning: Columns (239,240,348) have mixed types. Specify dtype option on import or set low_memory=False.\n",
      "  nlst_dict_full = pd.read_csv(DICT_PATH)\n"
     ]
    },
    {
     "name": "stdout",
     "output_type": "stream",
     "text": [
      "<class 'pandas.core.frame.DataFrame'>\n",
      "RangeIndex: 53452 entries, 0 to 53451\n",
      "Columns: 356 entries, cen to evpsent\n",
      "dtypes: float64(283), int64(64), object(9)\n",
      "memory usage: 145.2+ MB\n"
     ]
    }
   ],
   "source": [
    "nlst_dict_full = pd.read_csv(DICT_PATH)\n",
    "nlst_dict_full.info()"
   ]
  },
  {
   "cell_type": "code",
   "execution_count": 88,
   "metadata": {},
   "outputs": [
    {
     "name": "stdout",
     "output_type": "stream",
     "text": [
      "<class 'pandas.core.frame.DataFrame'>\n",
      "RangeIndex: 5282 entries, 0 to 5281\n",
      "Columns: 356 entries, cen to evpsent\n",
      "dtypes: float64(283), int64(64), object(9)\n",
      "memory usage: 14.3+ MB\n"
     ]
    }
   ],
   "source": [
    "df = nlst_dict_full[nlst_dict_full['pid'].isin(nlst_preds['PatientID'])].reset_index(drop=True)\n",
    "df.info()"
   ]
  },
  {
   "cell_type": "markdown",
   "metadata": {},
   "source": [
    "## Choose Demographic Columns"
   ]
  },
  {
   "cell_type": "code",
   "execution_count": 89,
   "metadata": {},
   "outputs": [
    {
     "data": {
      "text/plain": [
       "study\n",
       "1    3518\n",
       "2    1023\n",
       "3     741\n",
       "Name: count, dtype: int64"
      ]
     },
     "execution_count": 89,
     "metadata": {},
     "output_type": "execute_result"
    }
   ],
   "source": [
    "cols = {\"num\": {}, 'cat': {}}\n",
    "df['PatientID'] = df['pid']\n",
    "cols[\"info\"] = ['PatientID', 'study']\n",
    "df['study'].value_counts(dropna=False)"
   ]
  },
  {
   "cell_type": "markdown",
   "metadata": {},
   "source": [
    "Next up we analyze and aggregate the columns since that still leaves us about 140 at the end."
   ]
  },
  {
   "cell_type": "markdown",
   "metadata": {},
   "source": [
    "### Demographic columns"
   ]
  },
  {
   "cell_type": "code",
   "execution_count": 90,
   "metadata": {},
   "outputs": [
    {
     "data": {
      "text/plain": [
       "race        0\n",
       "gender      0\n",
       "ethnic      0\n",
       "marital     1\n",
       "educat      0\n",
       "age         0\n",
       "height      9\n",
       "weight     12\n",
       "dtype: int64"
      ]
     },
     "execution_count": 90,
     "metadata": {},
     "output_type": "execute_result"
    }
   ],
   "source": [
    "col_demo_cat = ['race', 'gender', 'ethnic', 'marital', 'educat']\n",
    "col_demo_num = ['age', 'height', 'weight']\n",
    "df[col_demo_cat + col_demo_num].isna().sum()"
   ]
  },
  {
   "cell_type": "code",
   "execution_count": 91,
   "metadata": {},
   "outputs": [
    {
     "name": "stdout",
     "output_type": "stream",
     "text": [
      "educat\n",
      "3     1324\n",
      "5     1201\n",
      "6      833\n",
      "7      757\n",
      "4      711\n",
      "2      276\n",
      "8       88\n",
      "1       81\n",
      "99      10\n",
      "95       1\n",
      "Name: count, dtype: int64\n",
      "educat\n",
      "3.0    1324\n",
      "5.0    1201\n",
      "6.0     833\n",
      "7.0     757\n",
      "4.0     711\n",
      "2.0     276\n",
      "NaN      99\n",
      "1.0      81\n",
      "Name: count, dtype: int64\n"
     ]
    },
    {
     "name": "stderr",
     "output_type": "stream",
     "text": [
      "C:\\Users\\shaur\\AppData\\Local\\Temp\\ipykernel_3512\\394257443.py:2: FutureWarning: A value is trying to be set on a copy of a DataFrame or Series through chained assignment using an inplace method.\n",
      "The behavior will change in pandas 3.0. This inplace method will never work because the intermediate object on which we are setting values always behaves as a copy.\n",
      "\n",
      "For example, when doing 'df[col].method(value, inplace=True)', try using 'df.method({col: value}, inplace=True)' or df[col] = df[col].method(value) instead, to perform the operation inplace on the original object.\n",
      "\n",
      "\n",
      "  df['educat'].replace([8, 95, 98, 99], value=np.nan, inplace=True)\n"
     ]
    }
   ],
   "source": [
    "print(df['educat'].value_counts(dropna=False))\n",
    "df['educat'].replace([8, 95, 98, 99], value=np.nan, inplace=True)\n",
    "print(df['educat'].value_counts(dropna=False))"
   ]
  },
  {
   "cell_type": "code",
   "execution_count": 92,
   "metadata": {},
   "outputs": [
    {
     "data": {
      "text/plain": [
       "HS-or-more\n",
       "1.0    4826\n",
       "0.0     357\n",
       "NaN      99\n",
       "Name: count, dtype: int64"
      ]
     },
     "execution_count": 92,
     "metadata": {},
     "output_type": "execute_result"
    }
   ],
   "source": [
    "df['HS-or-more'] = df['educat'].apply(lambda x: 1 if x >=3 else (0 if x < 3 else None))\n",
    "col_demo_cat.append('HS-or-more')\n",
    "df['HS-or-more'].value_counts(dropna=False)"
   ]
  },
  {
   "cell_type": "code",
   "execution_count": 93,
   "metadata": {},
   "outputs": [
    {
     "data": {
      "text/plain": [
       "more-than-HS\n",
       "1.0    3502\n",
       "0.0    1681\n",
       "NaN      99\n",
       "Name: count, dtype: int64"
      ]
     },
     "execution_count": 93,
     "metadata": {},
     "output_type": "execute_result"
    }
   ],
   "source": [
    "df['more-than-HS'] = df['educat'].apply(lambda x: 1 if x >=4 else (0 if x < 4 else None))\n",
    "col_demo_cat.append('more-than-HS')\n",
    "df['more-than-HS'].value_counts(dropna=False)"
   ]
  },
  {
   "cell_type": "code",
   "execution_count": 94,
   "metadata": {},
   "outputs": [
    {
     "name": "stdout",
     "output_type": "stream",
     "text": [
      "ethnic\n",
      "2     5170\n",
      "1       79\n",
      "99      29\n",
      "7        3\n",
      "95       1\n",
      "Name: count, dtype: int64\n",
      "ethnic\n",
      "2.0    5170\n",
      "1.0      79\n",
      "NaN      33\n",
      "Name: count, dtype: int64\n"
     ]
    },
    {
     "name": "stderr",
     "output_type": "stream",
     "text": [
      "C:\\Users\\shaur\\AppData\\Local\\Temp\\ipykernel_3512\\1743828899.py:2: FutureWarning: A value is trying to be set on a copy of a DataFrame or Series through chained assignment using an inplace method.\n",
      "The behavior will change in pandas 3.0. This inplace method will never work because the intermediate object on which we are setting values always behaves as a copy.\n",
      "\n",
      "For example, when doing 'df[col].method(value, inplace=True)', try using 'df.method({col: value}, inplace=True)' or df[col] = df[col].method(value) instead, to perform the operation inplace on the original object.\n",
      "\n",
      "\n",
      "  df['ethnic'].replace([7, 95, 98, 99], value=np.nan, inplace=True)\n"
     ]
    }
   ],
   "source": [
    "print(df['ethnic'].value_counts(dropna=False))\n",
    "df['ethnic'].replace([7, 95, 98, 99], value=np.nan, inplace=True)\n",
    "print(df['ethnic'].value_counts(dropna=False))"
   ]
  },
  {
   "cell_type": "code",
   "execution_count": 95,
   "metadata": {},
   "outputs": [
    {
     "name": "stdout",
     "output_type": "stream",
     "text": [
      "marital\n",
      "2.0    3507\n",
      "5.0    1014\n",
      "3.0     454\n",
      "1.0     233\n",
      "4.0      62\n",
      "9.0       6\n",
      "7.0       5\n",
      "NaN       1\n",
      "Name: count, dtype: int64\n",
      "marital\n",
      "2.0    3507\n",
      "5.0    1014\n",
      "3.0     454\n",
      "1.0     233\n",
      "4.0      62\n",
      "NaN      12\n",
      "Name: count, dtype: int64\n"
     ]
    },
    {
     "name": "stderr",
     "output_type": "stream",
     "text": [
      "C:\\Users\\shaur\\AppData\\Local\\Temp\\ipykernel_3512\\1313743828.py:2: FutureWarning: A value is trying to be set on a copy of a DataFrame or Series through chained assignment using an inplace method.\n",
      "The behavior will change in pandas 3.0. This inplace method will never work because the intermediate object on which we are setting values always behaves as a copy.\n",
      "\n",
      "For example, when doing 'df[col].method(value, inplace=True)', try using 'df.method({col: value}, inplace=True)' or df[col] = df[col].method(value) instead, to perform the operation inplace on the original object.\n",
      "\n",
      "\n",
      "  df['marital'].replace([7, 9], value=np.nan, inplace=True)\n"
     ]
    }
   ],
   "source": [
    "print(df['marital'].value_counts(dropna=False))\n",
    "df['marital'].replace([7, 9], value=np.nan, inplace=True)\n",
    "print(df['marital'].value_counts(dropna=False))"
   ]
  },
  {
   "cell_type": "code",
   "execution_count": 96,
   "metadata": {},
   "outputs": [
    {
     "name": "stdout",
     "output_type": "stream",
     "text": [
      "race\n",
      "1     4882\n",
      "2      195\n",
      "3       93\n",
      "6       59\n",
      "4       20\n",
      "5       19\n",
      "7        6\n",
      "99       5\n",
      "98       1\n",
      "95       1\n",
      "96       1\n",
      "Name: count, dtype: int64\n",
      "race\n",
      "1.0    4882\n",
      "2.0     195\n",
      "3.0      93\n",
      "6.0      59\n",
      "4.0      20\n",
      "5.0      19\n",
      "NaN      14\n",
      "Name: count, dtype: int64\n"
     ]
    },
    {
     "name": "stderr",
     "output_type": "stream",
     "text": [
      "C:\\Users\\shaur\\AppData\\Local\\Temp\\ipykernel_3512\\2770304117.py:2: FutureWarning: A value is trying to be set on a copy of a DataFrame or Series through chained assignment using an inplace method.\n",
      "The behavior will change in pandas 3.0. This inplace method will never work because the intermediate object on which we are setting values always behaves as a copy.\n",
      "\n",
      "For example, when doing 'df[col].method(value, inplace=True)', try using 'df.method({col: value}, inplace=True)' or df[col] = df[col].method(value) instead, to perform the operation inplace on the original object.\n",
      "\n",
      "\n",
      "  df['race'].replace([7, 95, 96, 98, 99], value=np.nan, inplace=True)\n"
     ]
    }
   ],
   "source": [
    "print(df['race'].value_counts(dropna=False))\n",
    "df['race'].replace([7, 95, 96, 98, 99], value=np.nan, inplace=True)\n",
    "print(df['race'].value_counts(dropna=False))"
   ]
  },
  {
   "cell_type": "code",
   "execution_count": 97,
   "metadata": {},
   "outputs": [
    {
     "data": {
      "text/plain": [
       "race\n",
       "1.0    63\n",
       "NaN     9\n",
       "2.0     2\n",
       "6.0     2\n",
       "3.0     2\n",
       "4.0     1\n",
       "Name: count, dtype: int64"
      ]
     },
     "execution_count": 97,
     "metadata": {},
     "output_type": "execute_result"
    }
   ],
   "source": [
    "df.query('ethnic == 1')['race'].value_counts(dropna=False)"
   ]
  },
  {
   "cell_type": "code",
   "execution_count": 98,
   "metadata": {},
   "outputs": [
    {
     "data": {
      "text/plain": [
       "NonHispanicWhite\n",
       "True     4798\n",
       "False     484\n",
       "Name: count, dtype: int64"
      ]
     },
     "execution_count": 98,
     "metadata": {},
     "output_type": "execute_result"
    }
   ],
   "source": [
    "df['NonHispanicWhite'] = (df['race'] == 1.0) & (df['ethnic'] == 2.0)\n",
    "col_demo_cat.append('NonHispanicWhite')\n",
    "df['NonHispanicWhite'].value_counts(dropna=False)"
   ]
  },
  {
   "cell_type": "code",
   "execution_count": 99,
   "metadata": {},
   "outputs": [
    {
     "data": {
      "text/plain": [
       "HighSchoolPlus\n",
       "True     5201\n",
       "False      81\n",
       "Name: count, dtype: int64"
      ]
     },
     "execution_count": 99,
     "metadata": {},
     "output_type": "execute_result"
    }
   ],
   "source": [
    "df['HighSchoolPlus'] = (df['educat'] != 1.0)\n",
    "col_demo_cat.append('HighSchoolPlus')\n",
    "df['HighSchoolPlus'].value_counts(dropna=False)"
   ]
  },
  {
   "cell_type": "code",
   "execution_count": 100,
   "metadata": {},
   "outputs": [
    {
     "data": {
      "text/plain": [
       "Married\n",
       "True     3507\n",
       "False    1775\n",
       "Name: count, dtype: int64"
      ]
     },
     "execution_count": 100,
     "metadata": {},
     "output_type": "execute_result"
    }
   ],
   "source": [
    "df['Married'] = (df['marital'] == 2.0)\n",
    "col_demo_cat.append('Married')\n",
    "df['Married'].value_counts(dropna=False)"
   ]
  },
  {
   "cell_type": "code",
   "execution_count": 101,
   "metadata": {},
   "outputs": [
    {
     "data": {
      "text/plain": [
       "count    5265.000000\n",
       "mean       27.585568\n",
       "std         5.021753\n",
       "min        13.284203\n",
       "25%        24.207989\n",
       "50%        26.959459\n",
       "75%        30.341527\n",
       "max        65.000416\n",
       "Name: BMI, dtype: float64"
      ]
     },
     "execution_count": 101,
     "metadata": {},
     "output_type": "execute_result"
    }
   ],
   "source": [
    "def bmi_calc(height, weight):\n",
    "    return (weight * 703) / (height * height)\n",
    "\n",
    "df['BMI'] = bmi_calc(height=df['height'], weight=df['weight'])\n",
    "col_demo_num.append('BMI')\n",
    "df['BMI'].describe()"
   ]
  },
  {
   "cell_type": "code",
   "execution_count": 102,
   "metadata": {},
   "outputs": [
    {
     "data": {
      "text/plain": [
       "WhiteOrBlack\n",
       "1.0    4882\n",
       "2.0     195\n",
       "Name: count, dtype: int64"
      ]
     },
     "execution_count": 102,
     "metadata": {},
     "output_type": "execute_result"
    }
   ],
   "source": [
    "df['WhiteOrBlack'] = df['race'].replace([3, 4, 5, 6], value=np.nan, inplace=False)\n",
    "col_demo_cat.append('WhiteOrBlack')\n",
    "df['WhiteOrBlack'].value_counts()"
   ]
  },
  {
   "cell_type": "code",
   "execution_count": 103,
   "metadata": {},
   "outputs": [],
   "source": [
    "df['Overweight'] = (df['BMI'] >= 25)\n",
    "col_demo_cat.append('Overweight')"
   ]
  },
  {
   "cell_type": "code",
   "execution_count": 104,
   "metadata": {},
   "outputs": [],
   "source": [
    "df['Unfinished_ed'] = (df['educat'] == 2) | (df['educat'] == 5)\n",
    "col_demo_cat.append('Unfinished_ed')"
   ]
  },
  {
   "cell_type": "code",
   "execution_count": 105,
   "metadata": {},
   "outputs": [
    {
     "data": {
      "text/plain": [
       "race                 14\n",
       "gender                0\n",
       "ethnic               33\n",
       "marital              12\n",
       "educat               99\n",
       "HS-or-more           99\n",
       "more-than-HS         99\n",
       "NonHispanicWhite      0\n",
       "HighSchoolPlus        0\n",
       "Married               0\n",
       "WhiteOrBlack        205\n",
       "Overweight            0\n",
       "Unfinished_ed         0\n",
       "age                   0\n",
       "height                9\n",
       "weight               12\n",
       "BMI                  17\n",
       "dtype: int64"
      ]
     },
     "execution_count": 105,
     "metadata": {},
     "output_type": "execute_result"
    }
   ],
   "source": [
    "df[col_demo_cat + col_demo_num].isna().sum()"
   ]
  },
  {
   "cell_type": "markdown",
   "metadata": {},
   "source": [
    "Age and gender are already included in the Venk21 sheet so we don't need it here as well."
   ]
  },
  {
   "cell_type": "code",
   "execution_count": 106,
   "metadata": {},
   "outputs": [],
   "source": [
    "cols['cat']['demo'] = list(set(col_demo_cat) - set(['gender']))\n",
    "cols['num']['demo'] = list(set(col_demo_num) - set(['age']))"
   ]
  },
  {
   "cell_type": "code",
   "execution_count": 107,
   "metadata": {},
   "outputs": [
    {
     "data": {
      "text/plain": [
       "{'num': {'demo': ['weight', 'height', 'BMI']},\n",
       " 'cat': {'demo': ['HS-or-more',\n",
       "   'HighSchoolPlus',\n",
       "   'educat',\n",
       "   'more-than-HS',\n",
       "   'Married',\n",
       "   'Unfinished_ed',\n",
       "   'WhiteOrBlack',\n",
       "   'NonHispanicWhite',\n",
       "   'race',\n",
       "   'ethnic',\n",
       "   'marital',\n",
       "   'Overweight']},\n",
       " 'info': ['PatientID', 'study']}"
      ]
     },
     "execution_count": 107,
     "metadata": {},
     "output_type": "execute_result"
    }
   ],
   "source": [
    "cols"
   ]
  },
  {
   "cell_type": "markdown",
   "metadata": {},
   "source": [
    "### Smoking columns"
   ]
  },
  {
   "cell_type": "code",
   "execution_count": 108,
   "metadata": {},
   "outputs": [
    {
     "data": {
      "text/plain": [
       "cigar        18\n",
       "cigsmok       0\n",
       "pipe         35\n",
       "smokelive    23\n",
       "smokework    35\n",
       "pkyr          0\n",
       "smokeage      0\n",
       "smokeday      0\n",
       "smokeyr       0\n",
       "dtype: int64"
      ]
     },
     "execution_count": 108,
     "metadata": {},
     "output_type": "execute_result"
    }
   ],
   "source": [
    "col_smoke_cat =  ['cigar', 'cigsmok', 'pipe', 'smokelive', 'smokework']\n",
    "col_smoke_num = ['pkyr', 'smokeage', 'smokeday', 'smokeyr']\n",
    "df[col_smoke_cat + col_smoke_num].isna().sum()"
   ]
  },
  {
   "cell_type": "markdown",
   "metadata": {},
   "source": [
    "Let's not include `age_quit` - too many None values."
   ]
  },
  {
   "cell_type": "code",
   "execution_count": 109,
   "metadata": {},
   "outputs": [
    {
     "data": {
      "text/html": [
       "<div>\n",
       "<style scoped>\n",
       "    .dataframe tbody tr th:only-of-type {\n",
       "        vertical-align: middle;\n",
       "    }\n",
       "\n",
       "    .dataframe tbody tr th {\n",
       "        vertical-align: top;\n",
       "    }\n",
       "\n",
       "    .dataframe thead th {\n",
       "        text-align: right;\n",
       "    }\n",
       "</style>\n",
       "<table border=\"1\" class=\"dataframe\">\n",
       "  <thead>\n",
       "    <tr style=\"text-align: right;\">\n",
       "      <th></th>\n",
       "      <th>cigar</th>\n",
       "      <th>cigsmok</th>\n",
       "      <th>pipe</th>\n",
       "      <th>smokelive</th>\n",
       "      <th>smokework</th>\n",
       "    </tr>\n",
       "  </thead>\n",
       "  <tbody>\n",
       "    <tr>\n",
       "      <th>0.0</th>\n",
       "      <td>4242</td>\n",
       "      <td>2621.0</td>\n",
       "      <td>4097</td>\n",
       "      <td>614</td>\n",
       "      <td>675</td>\n",
       "    </tr>\n",
       "    <tr>\n",
       "      <th>1.0</th>\n",
       "      <td>1022</td>\n",
       "      <td>2661.0</td>\n",
       "      <td>1150</td>\n",
       "      <td>4645</td>\n",
       "      <td>4572</td>\n",
       "    </tr>\n",
       "    <tr>\n",
       "      <th>NaN</th>\n",
       "      <td>18</td>\n",
       "      <td>NaN</td>\n",
       "      <td>35</td>\n",
       "      <td>23</td>\n",
       "      <td>35</td>\n",
       "    </tr>\n",
       "  </tbody>\n",
       "</table>\n",
       "</div>"
      ],
      "text/plain": [
       "     cigar  cigsmok  pipe  smokelive  smokework\n",
       "0.0   4242   2621.0  4097        614        675\n",
       "1.0   1022   2661.0  1150       4645       4572\n",
       "NaN     18      NaN    35         23         35"
      ]
     },
     "execution_count": 109,
     "metadata": {},
     "output_type": "execute_result"
    }
   ],
   "source": [
    "pd.DataFrame({c: df[c].value_counts(dropna=False) for c in col_smoke_cat}).drop_duplicates()"
   ]
  },
  {
   "cell_type": "code",
   "execution_count": 110,
   "metadata": {},
   "outputs": [
    {
     "data": {
      "text/html": [
       "<div>\n",
       "<style scoped>\n",
       "    .dataframe tbody tr th:only-of-type {\n",
       "        vertical-align: middle;\n",
       "    }\n",
       "\n",
       "    .dataframe tbody tr th {\n",
       "        vertical-align: top;\n",
       "    }\n",
       "\n",
       "    .dataframe thead th {\n",
       "        text-align: right;\n",
       "    }\n",
       "</style>\n",
       "<table border=\"1\" class=\"dataframe\">\n",
       "  <thead>\n",
       "    <tr style=\"text-align: right;\">\n",
       "      <th></th>\n",
       "      <th>cigar</th>\n",
       "      <th>cigsmok</th>\n",
       "      <th>pipe</th>\n",
       "      <th>smokelive</th>\n",
       "      <th>smokework</th>\n",
       "    </tr>\n",
       "  </thead>\n",
       "  <tbody>\n",
       "    <tr>\n",
       "      <th>M</th>\n",
       "      <td>942</td>\n",
       "      <td>1495</td>\n",
       "      <td>1107</td>\n",
       "      <td>2520</td>\n",
       "      <td>2665</td>\n",
       "    </tr>\n",
       "    <tr>\n",
       "      <th>F</th>\n",
       "      <td>80</td>\n",
       "      <td>1166</td>\n",
       "      <td>43</td>\n",
       "      <td>2125</td>\n",
       "      <td>1907</td>\n",
       "    </tr>\n",
       "  </tbody>\n",
       "</table>\n",
       "</div>"
      ],
      "text/plain": [
       "   cigar  cigsmok  pipe  smokelive  smokework\n",
       "M    942     1495  1107       2520       2665\n",
       "F     80     1166    43       2125       1907"
      ]
     },
     "execution_count": 110,
     "metadata": {},
     "output_type": "execute_result"
    }
   ],
   "source": [
    "pd.DataFrame({c: [len(df.query(f'gender == {i} and {c} == 1')) for i in [1,2]] for c in col_smoke_cat}, index=['M','F'])"
   ]
  },
  {
   "cell_type": "code",
   "execution_count": 111,
   "metadata": {},
   "outputs": [],
   "source": [
    "cols['cat']['smoke'] = col_smoke_cat\n",
    "cols['num']['smoke'] = col_smoke_num"
   ]
  },
  {
   "cell_type": "markdown",
   "metadata": {},
   "source": [
    "### Work history columns"
   ]
  },
  {
   "cell_type": "code",
   "execution_count": 112,
   "metadata": {},
   "outputs": [],
   "source": [
    "workfacets = ['res', 'wrk', 'yrs']\n",
    "worktypes = ['asbe', 'baki', 'butc', 'chem', 'coal', 'cott', 'farm', 'fire', 'flou', 'foun', 'hard', 'pain', 'sand', 'weld']\n",
    "workcols = {f: [f+t for t in worktypes] for f in workfacets}"
   ]
  },
  {
   "cell_type": "code",
   "execution_count": 113,
   "metadata": {},
   "outputs": [
    {
     "name": "stdout",
     "output_type": "stream",
     "text": [
      "asbe 253 246 240\n",
      "baki 133 132 127\n",
      "butc 111 109 110\n",
      "chem 352 333 343\n",
      "coal 27 26 26\n",
      "cott 43 41 42\n",
      "farm 591 566 578\n",
      "fire 95 93 93\n",
      "flou 54 53 54\n",
      "foun 229 219 222\n",
      "hard 36 34 36\n",
      "pain 282 274 272\n",
      "sand 95 90 88\n",
      "weld 297 287 290\n"
     ]
    }
   ],
   "source": [
    "for t in worktypes:\n",
    "    hasworked = len(df.query(f'wrk{t} == 1'))\n",
    "    resnotnull = len(df[~df[f'res{t}'].isna()])\n",
    "    yrsnotnull = len(df[~df[f'yrs{t}'].isna()])\n",
    "    print(t, hasworked, resnotnull, yrsnotnull)"
   ]
  },
  {
   "cell_type": "code",
   "execution_count": 114,
   "metadata": {},
   "outputs": [
    {
     "data": {
      "text/plain": [
       "3427    12.0\n",
       "3121     8.0\n",
       "3602     8.0\n",
       "2343     7.0\n",
       "1908     7.0\n",
       "        ... \n",
       "2052     0.0\n",
       "2054     0.0\n",
       "2056     0.0\n",
       "2057     0.0\n",
       "2641     0.0\n",
       "Length: 5282, dtype: float64"
      ]
     },
     "execution_count": 114,
     "metadata": {},
     "output_type": "execute_result"
    }
   ],
   "source": [
    "df[workcols['wrk']].sum(axis=1).sort_values(ascending=False)"
   ]
  },
  {
   "cell_type": "code",
   "execution_count": 115,
   "metadata": {},
   "outputs": [
    {
     "data": {
      "text/html": [
       "<div>\n",
       "<style scoped>\n",
       "    .dataframe tbody tr th:only-of-type {\n",
       "        vertical-align: middle;\n",
       "    }\n",
       "\n",
       "    .dataframe tbody tr th {\n",
       "        vertical-align: top;\n",
       "    }\n",
       "\n",
       "    .dataframe thead th {\n",
       "        text-align: right;\n",
       "    }\n",
       "</style>\n",
       "<table border=\"1\" class=\"dataframe\">\n",
       "  <thead>\n",
       "    <tr style=\"text-align: right;\">\n",
       "      <th></th>\n",
       "      <th>asbe</th>\n",
       "      <th>baki</th>\n",
       "      <th>butc</th>\n",
       "      <th>chem</th>\n",
       "      <th>coal</th>\n",
       "      <th>cott</th>\n",
       "      <th>farm</th>\n",
       "      <th>fire</th>\n",
       "      <th>flou</th>\n",
       "      <th>foun</th>\n",
       "      <th>hard</th>\n",
       "      <th>pain</th>\n",
       "      <th>sand</th>\n",
       "      <th>weld</th>\n",
       "    </tr>\n",
       "  </thead>\n",
       "  <tbody>\n",
       "    <tr>\n",
       "      <th>0.0</th>\n",
       "      <td>5024</td>\n",
       "      <td>5148</td>\n",
       "      <td>5170</td>\n",
       "      <td>4927</td>\n",
       "      <td>5254</td>\n",
       "      <td>5238</td>\n",
       "      <td>4689</td>\n",
       "      <td>5186</td>\n",
       "      <td>5227</td>\n",
       "      <td>5052</td>\n",
       "      <td>5245</td>\n",
       "      <td>4999</td>\n",
       "      <td>5186</td>\n",
       "      <td>4984</td>\n",
       "    </tr>\n",
       "    <tr>\n",
       "      <th>1.0</th>\n",
       "      <td>253</td>\n",
       "      <td>133</td>\n",
       "      <td>111</td>\n",
       "      <td>352</td>\n",
       "      <td>27</td>\n",
       "      <td>43</td>\n",
       "      <td>591</td>\n",
       "      <td>95</td>\n",
       "      <td>54</td>\n",
       "      <td>229</td>\n",
       "      <td>36</td>\n",
       "      <td>282</td>\n",
       "      <td>95</td>\n",
       "      <td>297</td>\n",
       "    </tr>\n",
       "    <tr>\n",
       "      <th>NaN</th>\n",
       "      <td>5</td>\n",
       "      <td>1</td>\n",
       "      <td>1</td>\n",
       "      <td>3</td>\n",
       "      <td>1</td>\n",
       "      <td>1</td>\n",
       "      <td>2</td>\n",
       "      <td>1</td>\n",
       "      <td>1</td>\n",
       "      <td>1</td>\n",
       "      <td>1</td>\n",
       "      <td>1</td>\n",
       "      <td>1</td>\n",
       "      <td>1</td>\n",
       "    </tr>\n",
       "  </tbody>\n",
       "</table>\n",
       "</div>"
      ],
      "text/plain": [
       "     asbe  baki  butc  chem  coal  cott  farm  fire  flou  foun  hard  pain  \\\n",
       "0.0  5024  5148  5170  4927  5254  5238  4689  5186  5227  5052  5245  4999   \n",
       "1.0   253   133   111   352    27    43   591    95    54   229    36   282   \n",
       "NaN     5     1     1     3     1     1     2     1     1     1     1     1   \n",
       "\n",
       "     sand  weld  \n",
       "0.0  5186  4984  \n",
       "1.0    95   297  \n",
       "NaN     1     1  "
      ]
     },
     "execution_count": 115,
     "metadata": {},
     "output_type": "execute_result"
    }
   ],
   "source": [
    "pd.DataFrame({t: df[f'wrk{t}'].value_counts(dropna=False) for t in worktypes})"
   ]
  },
  {
   "cell_type": "code",
   "execution_count": 116,
   "metadata": {},
   "outputs": [
    {
     "data": {
      "text/html": [
       "<div>\n",
       "<style scoped>\n",
       "    .dataframe tbody tr th:only-of-type {\n",
       "        vertical-align: middle;\n",
       "    }\n",
       "\n",
       "    .dataframe tbody tr th {\n",
       "        vertical-align: top;\n",
       "    }\n",
       "\n",
       "    .dataframe thead th {\n",
       "        text-align: right;\n",
       "    }\n",
       "</style>\n",
       "<table border=\"1\" class=\"dataframe\">\n",
       "  <thead>\n",
       "    <tr style=\"text-align: right;\">\n",
       "      <th></th>\n",
       "      <th>asbe</th>\n",
       "      <th>baki</th>\n",
       "      <th>butc</th>\n",
       "      <th>chem</th>\n",
       "      <th>coal</th>\n",
       "      <th>cott</th>\n",
       "      <th>farm</th>\n",
       "      <th>fire</th>\n",
       "      <th>flou</th>\n",
       "      <th>foun</th>\n",
       "      <th>hard</th>\n",
       "      <th>pain</th>\n",
       "      <th>sand</th>\n",
       "      <th>weld</th>\n",
       "    </tr>\n",
       "  </thead>\n",
       "  <tbody>\n",
       "    <tr>\n",
       "      <th>M</th>\n",
       "      <td>234</td>\n",
       "      <td>73</td>\n",
       "      <td>93</td>\n",
       "      <td>235</td>\n",
       "      <td>26</td>\n",
       "      <td>30</td>\n",
       "      <td>454</td>\n",
       "      <td>92</td>\n",
       "      <td>45</td>\n",
       "      <td>210</td>\n",
       "      <td>35</td>\n",
       "      <td>235</td>\n",
       "      <td>82</td>\n",
       "      <td>275</td>\n",
       "    </tr>\n",
       "    <tr>\n",
       "      <th>F</th>\n",
       "      <td>19</td>\n",
       "      <td>60</td>\n",
       "      <td>18</td>\n",
       "      <td>117</td>\n",
       "      <td>1</td>\n",
       "      <td>13</td>\n",
       "      <td>137</td>\n",
       "      <td>3</td>\n",
       "      <td>9</td>\n",
       "      <td>19</td>\n",
       "      <td>1</td>\n",
       "      <td>47</td>\n",
       "      <td>13</td>\n",
       "      <td>22</td>\n",
       "    </tr>\n",
       "  </tbody>\n",
       "</table>\n",
       "</div>"
      ],
      "text/plain": [
       "   asbe  baki  butc  chem  coal  cott  farm  fire  flou  foun  hard  pain  \\\n",
       "M   234    73    93   235    26    30   454    92    45   210    35   235   \n",
       "F    19    60    18   117     1    13   137     3     9    19     1    47   \n",
       "\n",
       "   sand  weld  \n",
       "M    82   275  \n",
       "F    13    22  "
      ]
     },
     "execution_count": 116,
     "metadata": {},
     "output_type": "execute_result"
    }
   ],
   "source": [
    "pd.DataFrame({t: [len(df.query(f'gender == {i} and wrk{t} == 1')) for i in [1,2]] for t in worktypes}, index=['M','F'])"
   ]
  },
  {
   "cell_type": "code",
   "execution_count": 117,
   "metadata": {},
   "outputs": [
    {
     "data": {
      "text/html": [
       "<div>\n",
       "<style scoped>\n",
       "    .dataframe tbody tr th:only-of-type {\n",
       "        vertical-align: middle;\n",
       "    }\n",
       "\n",
       "    .dataframe tbody tr th {\n",
       "        vertical-align: top;\n",
       "    }\n",
       "\n",
       "    .dataframe thead th {\n",
       "        text-align: right;\n",
       "    }\n",
       "</style>\n",
       "<table border=\"1\" class=\"dataframe\">\n",
       "  <thead>\n",
       "    <tr style=\"text-align: right;\">\n",
       "      <th></th>\n",
       "      <th>asbe</th>\n",
       "      <th>baki</th>\n",
       "      <th>butc</th>\n",
       "      <th>chem</th>\n",
       "      <th>coal</th>\n",
       "      <th>cott</th>\n",
       "      <th>farm</th>\n",
       "      <th>fire</th>\n",
       "      <th>flou</th>\n",
       "      <th>foun</th>\n",
       "      <th>hard</th>\n",
       "      <th>pain</th>\n",
       "      <th>sand</th>\n",
       "      <th>weld</th>\n",
       "    </tr>\n",
       "  </thead>\n",
       "  <tbody>\n",
       "    <tr>\n",
       "      <th>0.0</th>\n",
       "      <td>205</td>\n",
       "      <td>131.0</td>\n",
       "      <td>107.0</td>\n",
       "      <td>277</td>\n",
       "      <td>22</td>\n",
       "      <td>39.0</td>\n",
       "      <td>549</td>\n",
       "      <td>45</td>\n",
       "      <td>47</td>\n",
       "      <td>190</td>\n",
       "      <td>28</td>\n",
       "      <td>201</td>\n",
       "      <td>41</td>\n",
       "      <td>235</td>\n",
       "    </tr>\n",
       "    <tr>\n",
       "      <th>1.0</th>\n",
       "      <td>36</td>\n",
       "      <td>1.0</td>\n",
       "      <td>2.0</td>\n",
       "      <td>51</td>\n",
       "      <td>2</td>\n",
       "      <td>2.0</td>\n",
       "      <td>15</td>\n",
       "      <td>45</td>\n",
       "      <td>5</td>\n",
       "      <td>26</td>\n",
       "      <td>5</td>\n",
       "      <td>69</td>\n",
       "      <td>48</td>\n",
       "      <td>51</td>\n",
       "    </tr>\n",
       "    <tr>\n",
       "      <th>2.0</th>\n",
       "      <td>5</td>\n",
       "      <td>NaN</td>\n",
       "      <td>NaN</td>\n",
       "      <td>5</td>\n",
       "      <td>2</td>\n",
       "      <td>NaN</td>\n",
       "      <td>2</td>\n",
       "      <td>3</td>\n",
       "      <td>1</td>\n",
       "      <td>3</td>\n",
       "      <td>1</td>\n",
       "      <td>4</td>\n",
       "      <td>1</td>\n",
       "      <td>1</td>\n",
       "    </tr>\n",
       "    <tr>\n",
       "      <th>NaN</th>\n",
       "      <td>5036</td>\n",
       "      <td>5150.0</td>\n",
       "      <td>5173.0</td>\n",
       "      <td>4949</td>\n",
       "      <td>5256</td>\n",
       "      <td>5241.0</td>\n",
       "      <td>4716</td>\n",
       "      <td>5189</td>\n",
       "      <td>5229</td>\n",
       "      <td>5063</td>\n",
       "      <td>5248</td>\n",
       "      <td>5008</td>\n",
       "      <td>5192</td>\n",
       "      <td>4995</td>\n",
       "    </tr>\n",
       "  </tbody>\n",
       "</table>\n",
       "</div>"
      ],
      "text/plain": [
       "     asbe    baki    butc  chem  coal    cott  farm  fire  flou  foun  hard  \\\n",
       "0.0   205   131.0   107.0   277    22    39.0   549    45    47   190    28   \n",
       "1.0    36     1.0     2.0    51     2     2.0    15    45     5    26     5   \n",
       "2.0     5     NaN     NaN     5     2     NaN     2     3     1     3     1   \n",
       "NaN  5036  5150.0  5173.0  4949  5256  5241.0  4716  5189  5229  5063  5248   \n",
       "\n",
       "     pain  sand  weld  \n",
       "0.0   201    41   235  \n",
       "1.0    69    48    51  \n",
       "2.0     4     1     1  \n",
       "NaN  5008  5192  4995  "
      ]
     },
     "execution_count": 117,
     "metadata": {},
     "output_type": "execute_result"
    }
   ],
   "source": [
    "pd.DataFrame({t: df[f'res{t}'].value_counts(dropna=False) for t in worktypes}).drop_duplicates()"
   ]
  },
  {
   "cell_type": "code",
   "execution_count": 118,
   "metadata": {},
   "outputs": [],
   "source": [
    "for t in worktypes:\n",
    "    nomask = df[f'res{t}'] == 0\n",
    "    df[f'wrknomask{t}'] = nomask\n",
    "\n",
    "df['wrknomask'] = df[[f'wrknomask{t}' for t in worktypes]].any(axis=1)"
   ]
  },
  {
   "cell_type": "code",
   "execution_count": 119,
   "metadata": {},
   "outputs": [
    {
     "data": {
      "text/html": [
       "<div>\n",
       "<style scoped>\n",
       "    .dataframe tbody tr th:only-of-type {\n",
       "        vertical-align: middle;\n",
       "    }\n",
       "\n",
       "    .dataframe tbody tr th {\n",
       "        vertical-align: top;\n",
       "    }\n",
       "\n",
       "    .dataframe thead th {\n",
       "        text-align: right;\n",
       "    }\n",
       "</style>\n",
       "<table border=\"1\" class=\"dataframe\">\n",
       "  <thead>\n",
       "    <tr style=\"text-align: right;\">\n",
       "      <th></th>\n",
       "      <th>asbe</th>\n",
       "      <th>baki</th>\n",
       "      <th>butc</th>\n",
       "      <th>chem</th>\n",
       "      <th>coal</th>\n",
       "      <th>cott</th>\n",
       "      <th>farm</th>\n",
       "      <th>fire</th>\n",
       "      <th>flou</th>\n",
       "      <th>foun</th>\n",
       "      <th>hard</th>\n",
       "      <th>pain</th>\n",
       "      <th>sand</th>\n",
       "      <th>weld</th>\n",
       "    </tr>\n",
       "  </thead>\n",
       "  <tbody>\n",
       "    <tr>\n",
       "      <th>M</th>\n",
       "      <td>188</td>\n",
       "      <td>72</td>\n",
       "      <td>91</td>\n",
       "      <td>180</td>\n",
       "      <td>21</td>\n",
       "      <td>26</td>\n",
       "      <td>426</td>\n",
       "      <td>44</td>\n",
       "      <td>40</td>\n",
       "      <td>173</td>\n",
       "      <td>28</td>\n",
       "      <td>162</td>\n",
       "      <td>33</td>\n",
       "      <td>219</td>\n",
       "    </tr>\n",
       "    <tr>\n",
       "      <th>F</th>\n",
       "      <td>17</td>\n",
       "      <td>59</td>\n",
       "      <td>16</td>\n",
       "      <td>97</td>\n",
       "      <td>1</td>\n",
       "      <td>13</td>\n",
       "      <td>123</td>\n",
       "      <td>1</td>\n",
       "      <td>7</td>\n",
       "      <td>17</td>\n",
       "      <td>0</td>\n",
       "      <td>39</td>\n",
       "      <td>8</td>\n",
       "      <td>16</td>\n",
       "    </tr>\n",
       "  </tbody>\n",
       "</table>\n",
       "</div>"
      ],
      "text/plain": [
       "   asbe  baki  butc  chem  coal  cott  farm  fire  flou  foun  hard  pain  \\\n",
       "M   188    72    91   180    21    26   426    44    40   173    28   162   \n",
       "F    17    59    16    97     1    13   123     1     7    17     0    39   \n",
       "\n",
       "   sand  weld  \n",
       "M    33   219  \n",
       "F     8    16  "
      ]
     },
     "execution_count": 119,
     "metadata": {},
     "output_type": "execute_result"
    }
   ],
   "source": [
    "pd.DataFrame({t: [len(df.query(f'gender == {i} and wrknomask{t} == 1')) for i in [1,2]] for t in worktypes}, index=['M','F'])"
   ]
  },
  {
   "cell_type": "code",
   "execution_count": 120,
   "metadata": {},
   "outputs": [
    {
     "data": {
      "text/plain": [
       "wrknomask\n",
       "False    3959\n",
       "True     1323\n",
       "Name: count, dtype: int64"
      ]
     },
     "execution_count": 120,
     "metadata": {},
     "output_type": "execute_result"
    }
   ],
   "source": [
    "df['wrknomask'].value_counts()"
   ]
  },
  {
   "cell_type": "code",
   "execution_count": 121,
   "metadata": {},
   "outputs": [
    {
     "data": {
      "text/plain": [
       "resasbe    NaN\n",
       "resbaki    NaN\n",
       "resbutc    NaN\n",
       "reschem    NaN\n",
       "rescoal    NaN\n",
       "rescott    NaN\n",
       "resfarm    0.0\n",
       "resfire    NaN\n",
       "resflou    NaN\n",
       "resfoun    NaN\n",
       "reshard    NaN\n",
       "respain    2.0\n",
       "ressand    NaN\n",
       "resweld    NaN\n",
       "Name: 3156, dtype: float64"
      ]
     },
     "execution_count": 121,
     "metadata": {},
     "output_type": "execute_result"
    }
   ],
   "source": [
    "df[workcols['res']].iloc[3156]"
   ]
  },
  {
   "cell_type": "code",
   "execution_count": 122,
   "metadata": {},
   "outputs": [
    {
     "data": {
      "text/html": [
       "<div>\n",
       "<style scoped>\n",
       "    .dataframe tbody tr th:only-of-type {\n",
       "        vertical-align: middle;\n",
       "    }\n",
       "\n",
       "    .dataframe tbody tr th {\n",
       "        vertical-align: top;\n",
       "    }\n",
       "\n",
       "    .dataframe thead th {\n",
       "        text-align: right;\n",
       "    }\n",
       "</style>\n",
       "<table border=\"1\" class=\"dataframe\">\n",
       "  <thead>\n",
       "    <tr style=\"text-align: right;\">\n",
       "      <th></th>\n",
       "      <th>yrsasbe</th>\n",
       "      <th>yrsbaki</th>\n",
       "      <th>yrsbutc</th>\n",
       "      <th>yrschem</th>\n",
       "      <th>yrscoal</th>\n",
       "      <th>yrscott</th>\n",
       "      <th>yrsfarm</th>\n",
       "      <th>yrsfire</th>\n",
       "      <th>yrsflou</th>\n",
       "      <th>yrsfoun</th>\n",
       "      <th>yrshard</th>\n",
       "      <th>yrspain</th>\n",
       "      <th>yrssand</th>\n",
       "      <th>yrsweld</th>\n",
       "    </tr>\n",
       "  </thead>\n",
       "  <tbody>\n",
       "    <tr>\n",
       "      <th>count</th>\n",
       "      <td>240.000000</td>\n",
       "      <td>127.000000</td>\n",
       "      <td>110.000000</td>\n",
       "      <td>343.000000</td>\n",
       "      <td>26.000000</td>\n",
       "      <td>42.000000</td>\n",
       "      <td>578.000000</td>\n",
       "      <td>93.000000</td>\n",
       "      <td>54.000000</td>\n",
       "      <td>222.000000</td>\n",
       "      <td>36.000000</td>\n",
       "      <td>272.000000</td>\n",
       "      <td>88.000000</td>\n",
       "      <td>290.000000</td>\n",
       "    </tr>\n",
       "    <tr>\n",
       "      <th>mean</th>\n",
       "      <td>14.741667</td>\n",
       "      <td>8.259843</td>\n",
       "      <td>9.827273</td>\n",
       "      <td>13.087464</td>\n",
       "      <td>16.076923</td>\n",
       "      <td>7.571429</td>\n",
       "      <td>13.043253</td>\n",
       "      <td>14.752688</td>\n",
       "      <td>9.148148</td>\n",
       "      <td>13.909910</td>\n",
       "      <td>10.277778</td>\n",
       "      <td>10.448529</td>\n",
       "      <td>10.920455</td>\n",
       "      <td>14.420690</td>\n",
       "    </tr>\n",
       "    <tr>\n",
       "      <th>std</th>\n",
       "      <td>13.258609</td>\n",
       "      <td>10.830742</td>\n",
       "      <td>11.739418</td>\n",
       "      <td>12.162806</td>\n",
       "      <td>13.962587</td>\n",
       "      <td>9.625025</td>\n",
       "      <td>10.545430</td>\n",
       "      <td>10.478400</td>\n",
       "      <td>11.296029</td>\n",
       "      <td>13.636556</td>\n",
       "      <td>10.188540</td>\n",
       "      <td>11.427822</td>\n",
       "      <td>10.875705</td>\n",
       "      <td>12.957834</td>\n",
       "    </tr>\n",
       "    <tr>\n",
       "      <th>min</th>\n",
       "      <td>1.000000</td>\n",
       "      <td>1.000000</td>\n",
       "      <td>1.000000</td>\n",
       "      <td>1.000000</td>\n",
       "      <td>2.000000</td>\n",
       "      <td>1.000000</td>\n",
       "      <td>1.000000</td>\n",
       "      <td>1.000000</td>\n",
       "      <td>1.000000</td>\n",
       "      <td>1.000000</td>\n",
       "      <td>1.000000</td>\n",
       "      <td>1.000000</td>\n",
       "      <td>1.000000</td>\n",
       "      <td>1.000000</td>\n",
       "    </tr>\n",
       "    <tr>\n",
       "      <th>25%</th>\n",
       "      <td>3.000000</td>\n",
       "      <td>2.000000</td>\n",
       "      <td>2.000000</td>\n",
       "      <td>2.000000</td>\n",
       "      <td>2.250000</td>\n",
       "      <td>1.000000</td>\n",
       "      <td>5.000000</td>\n",
       "      <td>5.000000</td>\n",
       "      <td>2.000000</td>\n",
       "      <td>3.000000</td>\n",
       "      <td>2.000000</td>\n",
       "      <td>2.000000</td>\n",
       "      <td>2.000000</td>\n",
       "      <td>3.000000</td>\n",
       "    </tr>\n",
       "    <tr>\n",
       "      <th>50%</th>\n",
       "      <td>10.000000</td>\n",
       "      <td>3.000000</td>\n",
       "      <td>4.000000</td>\n",
       "      <td>8.000000</td>\n",
       "      <td>16.500000</td>\n",
       "      <td>4.000000</td>\n",
       "      <td>10.000000</td>\n",
       "      <td>12.000000</td>\n",
       "      <td>4.000000</td>\n",
       "      <td>8.000000</td>\n",
       "      <td>6.500000</td>\n",
       "      <td>5.000000</td>\n",
       "      <td>7.500000</td>\n",
       "      <td>10.000000</td>\n",
       "    </tr>\n",
       "    <tr>\n",
       "      <th>75%</th>\n",
       "      <td>25.000000</td>\n",
       "      <td>10.000000</td>\n",
       "      <td>14.750000</td>\n",
       "      <td>22.000000</td>\n",
       "      <td>24.500000</td>\n",
       "      <td>7.750000</td>\n",
       "      <td>18.000000</td>\n",
       "      <td>24.000000</td>\n",
       "      <td>9.750000</td>\n",
       "      <td>23.750000</td>\n",
       "      <td>15.250000</td>\n",
       "      <td>15.000000</td>\n",
       "      <td>18.000000</td>\n",
       "      <td>25.000000</td>\n",
       "    </tr>\n",
       "    <tr>\n",
       "      <th>max</th>\n",
       "      <td>50.000000</td>\n",
       "      <td>50.000000</td>\n",
       "      <td>50.000000</td>\n",
       "      <td>50.000000</td>\n",
       "      <td>55.000000</td>\n",
       "      <td>40.000000</td>\n",
       "      <td>60.000000</td>\n",
       "      <td>38.000000</td>\n",
       "      <td>47.000000</td>\n",
       "      <td>47.000000</td>\n",
       "      <td>38.000000</td>\n",
       "      <td>50.000000</td>\n",
       "      <td>50.000000</td>\n",
       "      <td>50.000000</td>\n",
       "    </tr>\n",
       "  </tbody>\n",
       "</table>\n",
       "</div>"
      ],
      "text/plain": [
       "          yrsasbe     yrsbaki     yrsbutc     yrschem    yrscoal    yrscott  \\\n",
       "count  240.000000  127.000000  110.000000  343.000000  26.000000  42.000000   \n",
       "mean    14.741667    8.259843    9.827273   13.087464  16.076923   7.571429   \n",
       "std     13.258609   10.830742   11.739418   12.162806  13.962587   9.625025   \n",
       "min      1.000000    1.000000    1.000000    1.000000   2.000000   1.000000   \n",
       "25%      3.000000    2.000000    2.000000    2.000000   2.250000   1.000000   \n",
       "50%     10.000000    3.000000    4.000000    8.000000  16.500000   4.000000   \n",
       "75%     25.000000   10.000000   14.750000   22.000000  24.500000   7.750000   \n",
       "max     50.000000   50.000000   50.000000   50.000000  55.000000  40.000000   \n",
       "\n",
       "          yrsfarm    yrsfire    yrsflou     yrsfoun    yrshard     yrspain  \\\n",
       "count  578.000000  93.000000  54.000000  222.000000  36.000000  272.000000   \n",
       "mean    13.043253  14.752688   9.148148   13.909910  10.277778   10.448529   \n",
       "std     10.545430  10.478400  11.296029   13.636556  10.188540   11.427822   \n",
       "min      1.000000   1.000000   1.000000    1.000000   1.000000    1.000000   \n",
       "25%      5.000000   5.000000   2.000000    3.000000   2.000000    2.000000   \n",
       "50%     10.000000  12.000000   4.000000    8.000000   6.500000    5.000000   \n",
       "75%     18.000000  24.000000   9.750000   23.750000  15.250000   15.000000   \n",
       "max     60.000000  38.000000  47.000000   47.000000  38.000000   50.000000   \n",
       "\n",
       "         yrssand     yrsweld  \n",
       "count  88.000000  290.000000  \n",
       "mean   10.920455   14.420690  \n",
       "std    10.875705   12.957834  \n",
       "min     1.000000    1.000000  \n",
       "25%     2.000000    3.000000  \n",
       "50%     7.500000   10.000000  \n",
       "75%    18.000000   25.000000  \n",
       "max    50.000000   50.000000  "
      ]
     },
     "execution_count": 122,
     "metadata": {},
     "output_type": "execute_result"
    }
   ],
   "source": [
    "df[workcols['yrs']].describe()"
   ]
  },
  {
   "cell_type": "code",
   "execution_count": 123,
   "metadata": {},
   "outputs": [
    {
     "data": {
      "text/plain": [
       "<Axes: >"
      ]
     },
     "execution_count": 123,
     "metadata": {},
     "output_type": "execute_result"
    },
    {
     "data": {
      "image/png": "[encoded data removed]",
      "text/plain": [
       "<Figure size 640x480 with 1 Axes>"
      ]
     },
     "metadata": {},
     "output_type": "display_data"
    }
   ],
   "source": [
    "sns.boxenplot(data=df[workcols['yrs']], orient='h')"
   ]
  },
  {
   "cell_type": "code",
   "execution_count": 124,
   "metadata": {},
   "outputs": [],
   "source": [
    "cols['cat']['work'] = workcols['wrk']"
   ]
  },
  {
   "cell_type": "markdown",
   "metadata": {},
   "source": [
    "### Disease history columns"
   ]
  },
  {
   "cell_type": "code",
   "execution_count": 125,
   "metadata": {},
   "outputs": [],
   "source": [
    "diseasefacets = ['age', 'diag']\n",
    "diseasetypes = ['adas', 'asbe', 'bron', 'chas', 'chro', 'copd', 'diab', 'emph', 'fibr', 'hear', 'hype', 'pneu', 'sarc', 'sili', 'stro', 'tube']"
   ]
  },
  {
   "cell_type": "code",
   "execution_count": 126,
   "metadata": {},
   "outputs": [
    {
     "data": {
      "text/html": [
       "<div>\n",
       "<style scoped>\n",
       "    .dataframe tbody tr th:only-of-type {\n",
       "        vertical-align: middle;\n",
       "    }\n",
       "\n",
       "    .dataframe tbody tr th {\n",
       "        vertical-align: top;\n",
       "    }\n",
       "\n",
       "    .dataframe thead th {\n",
       "        text-align: right;\n",
       "    }\n",
       "</style>\n",
       "<table border=\"1\" class=\"dataframe\">\n",
       "  <thead>\n",
       "    <tr style=\"text-align: right;\">\n",
       "      <th></th>\n",
       "      <th>adas</th>\n",
       "      <th>asbe</th>\n",
       "      <th>bron</th>\n",
       "      <th>chas</th>\n",
       "      <th>chro</th>\n",
       "      <th>copd</th>\n",
       "      <th>diab</th>\n",
       "      <th>emph</th>\n",
       "      <th>fibr</th>\n",
       "      <th>hear</th>\n",
       "      <th>hype</th>\n",
       "      <th>pneu</th>\n",
       "      <th>sarc</th>\n",
       "      <th>sili</th>\n",
       "      <th>stro</th>\n",
       "      <th>tube</th>\n",
       "    </tr>\n",
       "  </thead>\n",
       "  <tbody>\n",
       "    <tr>\n",
       "      <th>0.0</th>\n",
       "      <td>4920</td>\n",
       "      <td>5218</td>\n",
       "      <td>5084</td>\n",
       "      <td>5097</td>\n",
       "      <td>4705</td>\n",
       "      <td>4905</td>\n",
       "      <td>4758</td>\n",
       "      <td>4723</td>\n",
       "      <td>5257</td>\n",
       "      <td>4556</td>\n",
       "      <td>3396</td>\n",
       "      <td>4031</td>\n",
       "      <td>5256</td>\n",
       "      <td>5260</td>\n",
       "      <td>5124</td>\n",
       "      <td>5216</td>\n",
       "    </tr>\n",
       "    <tr>\n",
       "      <th>1.0</th>\n",
       "      <td>353</td>\n",
       "      <td>57</td>\n",
       "      <td>181</td>\n",
       "      <td>178</td>\n",
       "      <td>561</td>\n",
       "      <td>358</td>\n",
       "      <td>518</td>\n",
       "      <td>546</td>\n",
       "      <td>16</td>\n",
       "      <td>706</td>\n",
       "      <td>1876</td>\n",
       "      <td>1240</td>\n",
       "      <td>13</td>\n",
       "      <td>9</td>\n",
       "      <td>152</td>\n",
       "      <td>60</td>\n",
       "    </tr>\n",
       "    <tr>\n",
       "      <th>NaN</th>\n",
       "      <td>9</td>\n",
       "      <td>7</td>\n",
       "      <td>17</td>\n",
       "      <td>7</td>\n",
       "      <td>16</td>\n",
       "      <td>19</td>\n",
       "      <td>6</td>\n",
       "      <td>13</td>\n",
       "      <td>9</td>\n",
       "      <td>20</td>\n",
       "      <td>10</td>\n",
       "      <td>11</td>\n",
       "      <td>13</td>\n",
       "      <td>13</td>\n",
       "      <td>6</td>\n",
       "      <td>6</td>\n",
       "    </tr>\n",
       "  </tbody>\n",
       "</table>\n",
       "</div>"
      ],
      "text/plain": [
       "     adas  asbe  bron  chas  chro  copd  diab  emph  fibr  hear  hype  pneu  \\\n",
       "0.0  4920  5218  5084  5097  4705  4905  4758  4723  5257  4556  3396  4031   \n",
       "1.0   353    57   181   178   561   358   518   546    16   706  1876  1240   \n",
       "NaN     9     7    17     7    16    19     6    13     9    20    10    11   \n",
       "\n",
       "     sarc  sili  stro  tube  \n",
       "0.0  5256  5260  5124  5216  \n",
       "1.0    13     9   152    60  \n",
       "NaN    13    13     6     6  "
      ]
     },
     "execution_count": 126,
     "metadata": {},
     "output_type": "execute_result"
    }
   ],
   "source": [
    "pd.DataFrame({t: df[f'diag{t}'].value_counts(dropna=False) for t in diseasetypes}).drop_duplicates()"
   ]
  },
  {
   "cell_type": "code",
   "execution_count": 127,
   "metadata": {},
   "outputs": [
    {
     "data": {
      "text/html": [
       "<div>\n",
       "<style scoped>\n",
       "    .dataframe tbody tr th:only-of-type {\n",
       "        vertical-align: middle;\n",
       "    }\n",
       "\n",
       "    .dataframe tbody tr th {\n",
       "        vertical-align: top;\n",
       "    }\n",
       "\n",
       "    .dataframe thead th {\n",
       "        text-align: right;\n",
       "    }\n",
       "</style>\n",
       "<table border=\"1\" class=\"dataframe\">\n",
       "  <thead>\n",
       "    <tr style=\"text-align: right;\">\n",
       "      <th></th>\n",
       "      <th>adas</th>\n",
       "      <th>asbe</th>\n",
       "      <th>bron</th>\n",
       "      <th>chas</th>\n",
       "      <th>chro</th>\n",
       "      <th>copd</th>\n",
       "      <th>diab</th>\n",
       "      <th>emph</th>\n",
       "      <th>fibr</th>\n",
       "      <th>hear</th>\n",
       "      <th>hype</th>\n",
       "      <th>pneu</th>\n",
       "      <th>sarc</th>\n",
       "      <th>sili</th>\n",
       "      <th>stro</th>\n",
       "      <th>tube</th>\n",
       "    </tr>\n",
       "  </thead>\n",
       "  <tbody>\n",
       "    <tr>\n",
       "      <th>M</th>\n",
       "      <td>111</td>\n",
       "      <td>55</td>\n",
       "      <td>89</td>\n",
       "      <td>104</td>\n",
       "      <td>203</td>\n",
       "      <td>177</td>\n",
       "      <td>341</td>\n",
       "      <td>338</td>\n",
       "      <td>10</td>\n",
       "      <td>521</td>\n",
       "      <td>1123</td>\n",
       "      <td>580</td>\n",
       "      <td>6</td>\n",
       "      <td>7</td>\n",
       "      <td>99</td>\n",
       "      <td>34</td>\n",
       "    </tr>\n",
       "    <tr>\n",
       "      <th>F</th>\n",
       "      <td>242</td>\n",
       "      <td>2</td>\n",
       "      <td>92</td>\n",
       "      <td>74</td>\n",
       "      <td>358</td>\n",
       "      <td>181</td>\n",
       "      <td>177</td>\n",
       "      <td>208</td>\n",
       "      <td>6</td>\n",
       "      <td>185</td>\n",
       "      <td>753</td>\n",
       "      <td>660</td>\n",
       "      <td>7</td>\n",
       "      <td>2</td>\n",
       "      <td>53</td>\n",
       "      <td>26</td>\n",
       "    </tr>\n",
       "  </tbody>\n",
       "</table>\n",
       "</div>"
      ],
      "text/plain": [
       "   adas  asbe  bron  chas  chro  copd  diab  emph  fibr  hear  hype  pneu  \\\n",
       "M   111    55    89   104   203   177   341   338    10   521  1123   580   \n",
       "F   242     2    92    74   358   181   177   208     6   185   753   660   \n",
       "\n",
       "   sarc  sili  stro  tube  \n",
       "M     6     7    99    34  \n",
       "F     7     2    53    26  "
      ]
     },
     "execution_count": 127,
     "metadata": {},
     "output_type": "execute_result"
    }
   ],
   "source": [
    "pd.DataFrame({t: [len(df.query(f'gender == {i} and diag{t} == 1')) for i in [1,2]] for t in diseasetypes}, index=['M','F'])"
   ]
  },
  {
   "cell_type": "code",
   "execution_count": 128,
   "metadata": {},
   "outputs": [
    {
     "data": {
      "text/html": [
       "<div>\n",
       "<style scoped>\n",
       "    .dataframe tbody tr th:only-of-type {\n",
       "        vertical-align: middle;\n",
       "    }\n",
       "\n",
       "    .dataframe tbody tr th {\n",
       "        vertical-align: top;\n",
       "    }\n",
       "\n",
       "    .dataframe thead th {\n",
       "        text-align: right;\n",
       "    }\n",
       "</style>\n",
       "<table border=\"1\" class=\"dataframe\">\n",
       "  <thead>\n",
       "    <tr style=\"text-align: right;\">\n",
       "      <th></th>\n",
       "      <th>ageadas</th>\n",
       "      <th>ageasbe</th>\n",
       "      <th>agebron</th>\n",
       "      <th>agechas</th>\n",
       "      <th>agechro</th>\n",
       "      <th>agecopd</th>\n",
       "      <th>agediab</th>\n",
       "      <th>ageemph</th>\n",
       "      <th>agefibr</th>\n",
       "      <th>agehear</th>\n",
       "      <th>agehype</th>\n",
       "      <th>agepneu</th>\n",
       "      <th>agesarc</th>\n",
       "      <th>agesili</th>\n",
       "      <th>agestro</th>\n",
       "      <th>agetube</th>\n",
       "    </tr>\n",
       "  </thead>\n",
       "  <tbody>\n",
       "    <tr>\n",
       "      <th>count</th>\n",
       "      <td>344.000000</td>\n",
       "      <td>56.000000</td>\n",
       "      <td>151.000000</td>\n",
       "      <td>164.000000</td>\n",
       "      <td>511.000000</td>\n",
       "      <td>339.000000</td>\n",
       "      <td>504.000000</td>\n",
       "      <td>513.000000</td>\n",
       "      <td>15.000000</td>\n",
       "      <td>677.000000</td>\n",
       "      <td>1810.000000</td>\n",
       "      <td>1149.000000</td>\n",
       "      <td>13.000000</td>\n",
       "      <td>9.000000</td>\n",
       "      <td>147.000000</td>\n",
       "      <td>58.000000</td>\n",
       "    </tr>\n",
       "    <tr>\n",
       "      <th>mean</th>\n",
       "      <td>49.976744</td>\n",
       "      <td>54.642857</td>\n",
       "      <td>38.357616</td>\n",
       "      <td>6.646341</td>\n",
       "      <td>40.927593</td>\n",
       "      <td>56.982301</td>\n",
       "      <td>54.438492</td>\n",
       "      <td>56.116959</td>\n",
       "      <td>50.866667</td>\n",
       "      <td>54.355982</td>\n",
       "      <td>51.765746</td>\n",
       "      <td>35.375109</td>\n",
       "      <td>48.153846</td>\n",
       "      <td>53.555556</td>\n",
       "      <td>57.455782</td>\n",
       "      <td>28.465517</td>\n",
       "    </tr>\n",
       "    <tr>\n",
       "      <th>std</th>\n",
       "      <td>12.838741</td>\n",
       "      <td>7.354476</td>\n",
       "      <td>19.412829</td>\n",
       "      <td>3.939331</td>\n",
       "      <td>17.123446</td>\n",
       "      <td>7.469443</td>\n",
       "      <td>9.963561</td>\n",
       "      <td>8.926455</td>\n",
       "      <td>9.804275</td>\n",
       "      <td>10.431178</td>\n",
       "      <td>10.868191</td>\n",
       "      <td>20.112604</td>\n",
       "      <td>18.045526</td>\n",
       "      <td>12.875472</td>\n",
       "      <td>8.327403</td>\n",
       "      <td>18.714115</td>\n",
       "    </tr>\n",
       "    <tr>\n",
       "      <th>min</th>\n",
       "      <td>13.000000</td>\n",
       "      <td>27.000000</td>\n",
       "      <td>1.000000</td>\n",
       "      <td>0.000000</td>\n",
       "      <td>1.000000</td>\n",
       "      <td>30.000000</td>\n",
       "      <td>1.000000</td>\n",
       "      <td>13.000000</td>\n",
       "      <td>25.000000</td>\n",
       "      <td>1.000000</td>\n",
       "      <td>3.000000</td>\n",
       "      <td>1.000000</td>\n",
       "      <td>8.000000</td>\n",
       "      <td>30.000000</td>\n",
       "      <td>21.000000</td>\n",
       "      <td>0.000000</td>\n",
       "    </tr>\n",
       "    <tr>\n",
       "      <th>25%</th>\n",
       "      <td>42.750000</td>\n",
       "      <td>50.000000</td>\n",
       "      <td>21.000000</td>\n",
       "      <td>4.000000</td>\n",
       "      <td>30.000000</td>\n",
       "      <td>52.500000</td>\n",
       "      <td>50.000000</td>\n",
       "      <td>51.000000</td>\n",
       "      <td>49.000000</td>\n",
       "      <td>50.000000</td>\n",
       "      <td>46.000000</td>\n",
       "      <td>18.000000</td>\n",
       "      <td>39.000000</td>\n",
       "      <td>54.000000</td>\n",
       "      <td>54.000000</td>\n",
       "      <td>12.750000</td>\n",
       "    </tr>\n",
       "    <tr>\n",
       "      <th>50%</th>\n",
       "      <td>53.000000</td>\n",
       "      <td>56.500000</td>\n",
       "      <td>40.000000</td>\n",
       "      <td>6.000000</td>\n",
       "      <td>45.000000</td>\n",
       "      <td>57.000000</td>\n",
       "      <td>56.000000</td>\n",
       "      <td>57.000000</td>\n",
       "      <td>51.000000</td>\n",
       "      <td>56.000000</td>\n",
       "      <td>54.000000</td>\n",
       "      <td>35.000000</td>\n",
       "      <td>54.000000</td>\n",
       "      <td>57.000000</td>\n",
       "      <td>59.000000</td>\n",
       "      <td>25.000000</td>\n",
       "    </tr>\n",
       "    <tr>\n",
       "      <th>75%</th>\n",
       "      <td>60.000000</td>\n",
       "      <td>60.000000</td>\n",
       "      <td>55.000000</td>\n",
       "      <td>9.000000</td>\n",
       "      <td>55.000000</td>\n",
       "      <td>62.000000</td>\n",
       "      <td>60.000000</td>\n",
       "      <td>62.000000</td>\n",
       "      <td>56.000000</td>\n",
       "      <td>61.000000</td>\n",
       "      <td>60.000000</td>\n",
       "      <td>54.000000</td>\n",
       "      <td>61.000000</td>\n",
       "      <td>62.000000</td>\n",
       "      <td>62.000000</td>\n",
       "      <td>41.500000</td>\n",
       "    </tr>\n",
       "    <tr>\n",
       "      <th>max</th>\n",
       "      <td>72.000000</td>\n",
       "      <td>65.000000</td>\n",
       "      <td>73.000000</td>\n",
       "      <td>17.000000</td>\n",
       "      <td>72.000000</td>\n",
       "      <td>73.000000</td>\n",
       "      <td>73.000000</td>\n",
       "      <td>73.000000</td>\n",
       "      <td>65.000000</td>\n",
       "      <td>74.000000</td>\n",
       "      <td>73.000000</td>\n",
       "      <td>74.000000</td>\n",
       "      <td>69.000000</td>\n",
       "      <td>65.000000</td>\n",
       "      <td>73.000000</td>\n",
       "      <td>68.000000</td>\n",
       "    </tr>\n",
       "  </tbody>\n",
       "</table>\n",
       "</div>"
      ],
      "text/plain": [
       "          ageadas    ageasbe     agebron     agechas     agechro     agecopd  \\\n",
       "count  344.000000  56.000000  151.000000  164.000000  511.000000  339.000000   \n",
       "mean    49.976744  54.642857   38.357616    6.646341   40.927593   56.982301   \n",
       "std     12.838741   7.354476   19.412829    3.939331   17.123446    7.469443   \n",
       "min     13.000000  27.000000    1.000000    0.000000    1.000000   30.000000   \n",
       "25%     42.750000  50.000000   21.000000    4.000000   30.000000   52.500000   \n",
       "50%     53.000000  56.500000   40.000000    6.000000   45.000000   57.000000   \n",
       "75%     60.000000  60.000000   55.000000    9.000000   55.000000   62.000000   \n",
       "max     72.000000  65.000000   73.000000   17.000000   72.000000   73.000000   \n",
       "\n",
       "          agediab     ageemph    agefibr     agehear      agehype  \\\n",
       "count  504.000000  513.000000  15.000000  677.000000  1810.000000   \n",
       "mean    54.438492   56.116959  50.866667   54.355982    51.765746   \n",
       "std      9.963561    8.926455   9.804275   10.431178    10.868191   \n",
       "min      1.000000   13.000000  25.000000    1.000000     3.000000   \n",
       "25%     50.000000   51.000000  49.000000   50.000000    46.000000   \n",
       "50%     56.000000   57.000000  51.000000   56.000000    54.000000   \n",
       "75%     60.000000   62.000000  56.000000   61.000000    60.000000   \n",
       "max     73.000000   73.000000  65.000000   74.000000    73.000000   \n",
       "\n",
       "           agepneu    agesarc    agesili     agestro    agetube  \n",
       "count  1149.000000  13.000000   9.000000  147.000000  58.000000  \n",
       "mean     35.375109  48.153846  53.555556   57.455782  28.465517  \n",
       "std      20.112604  18.045526  12.875472    8.327403  18.714115  \n",
       "min       1.000000   8.000000  30.000000   21.000000   0.000000  \n",
       "25%      18.000000  39.000000  54.000000   54.000000  12.750000  \n",
       "50%      35.000000  54.000000  57.000000   59.000000  25.000000  \n",
       "75%      54.000000  61.000000  62.000000   62.000000  41.500000  \n",
       "max      74.000000  69.000000  65.000000   73.000000  68.000000  "
      ]
     },
     "execution_count": 128,
     "metadata": {},
     "output_type": "execute_result"
    }
   ],
   "source": [
    "df[[f\"age{t}\" for t in diseasetypes]].describe()"
   ]
  },
  {
   "cell_type": "code",
   "execution_count": 129,
   "metadata": {},
   "outputs": [
    {
     "data": {
      "text/plain": [
       "<Axes: >"
      ]
     },
     "execution_count": 129,
     "metadata": {},
     "output_type": "execute_result"
    },
    {
     "data": {
      "image/png": "[encoded data removed]",
      "text/plain": [
       "<Figure size 640x480 with 1 Axes>"
      ]
     },
     "metadata": {},
     "output_type": "display_data"
    }
   ],
   "source": [
    "sns.boxenplot(data=df[[f\"age{t}\" for t in diseasetypes]], orient='h')"
   ]
  },
  {
   "cell_type": "code",
   "execution_count": 130,
   "metadata": {},
   "outputs": [],
   "source": [
    "cols['cat']['disease'] = [f'diag{t}' for t in diseasetypes]"
   ]
  },
  {
   "cell_type": "markdown",
   "metadata": {},
   "source": [
    "### Personal cancer history columns"
   ]
  },
  {
   "cell_type": "code",
   "execution_count": 131,
   "metadata": {},
   "outputs": [],
   "source": [
    "pcancerfacets = ['age', 'canc']\n",
    "pcancertypes = ['blad', 'brea', 'cerv', 'colo', 'esop', 'kidn', 'lary', 'lung', 'nasa', 'oral', 'panc', 'phar', 'stom', 'thyr', 'tran']"
   ]
  },
  {
   "cell_type": "code",
   "execution_count": 132,
   "metadata": {},
   "outputs": [
    {
     "data": {
      "text/html": [
       "<div>\n",
       "<style scoped>\n",
       "    .dataframe tbody tr th:only-of-type {\n",
       "        vertical-align: middle;\n",
       "    }\n",
       "\n",
       "    .dataframe tbody tr th {\n",
       "        vertical-align: top;\n",
       "    }\n",
       "\n",
       "    .dataframe thead th {\n",
       "        text-align: right;\n",
       "    }\n",
       "</style>\n",
       "<table border=\"1\" class=\"dataframe\">\n",
       "  <thead>\n",
       "    <tr style=\"text-align: right;\">\n",
       "      <th></th>\n",
       "      <th>blad</th>\n",
       "      <th>brea</th>\n",
       "      <th>cerv</th>\n",
       "      <th>colo</th>\n",
       "      <th>esop</th>\n",
       "      <th>kidn</th>\n",
       "      <th>lary</th>\n",
       "      <th>lung</th>\n",
       "      <th>nasa</th>\n",
       "      <th>oral</th>\n",
       "      <th>panc</th>\n",
       "      <th>phar</th>\n",
       "      <th>stom</th>\n",
       "      <th>thyr</th>\n",
       "      <th>tran</th>\n",
       "    </tr>\n",
       "  </thead>\n",
       "  <tbody>\n",
       "    <tr>\n",
       "      <th>0.0</th>\n",
       "      <td>5240</td>\n",
       "      <td>5182</td>\n",
       "      <td>5197</td>\n",
       "      <td>5251</td>\n",
       "      <td>5271</td>\n",
       "      <td>5268</td>\n",
       "      <td>5271</td>\n",
       "      <td>5272</td>\n",
       "      <td>5271</td>\n",
       "      <td>5261</td>\n",
       "      <td>5276.0</td>\n",
       "      <td>5275</td>\n",
       "      <td>5270</td>\n",
       "      <td>5265</td>\n",
       "      <td>5271</td>\n",
       "    </tr>\n",
       "    <tr>\n",
       "      <th>1.0</th>\n",
       "      <td>35</td>\n",
       "      <td>91</td>\n",
       "      <td>78</td>\n",
       "      <td>25</td>\n",
       "      <td>5</td>\n",
       "      <td>8</td>\n",
       "      <td>5</td>\n",
       "      <td>4</td>\n",
       "      <td>3</td>\n",
       "      <td>14</td>\n",
       "      <td>NaN</td>\n",
       "      <td>1</td>\n",
       "      <td>6</td>\n",
       "      <td>8</td>\n",
       "      <td>1</td>\n",
       "    </tr>\n",
       "    <tr>\n",
       "      <th>NaN</th>\n",
       "      <td>7</td>\n",
       "      <td>9</td>\n",
       "      <td>7</td>\n",
       "      <td>6</td>\n",
       "      <td>6</td>\n",
       "      <td>6</td>\n",
       "      <td>6</td>\n",
       "      <td>6</td>\n",
       "      <td>8</td>\n",
       "      <td>7</td>\n",
       "      <td>6.0</td>\n",
       "      <td>6</td>\n",
       "      <td>6</td>\n",
       "      <td>9</td>\n",
       "      <td>10</td>\n",
       "    </tr>\n",
       "  </tbody>\n",
       "</table>\n",
       "</div>"
      ],
      "text/plain": [
       "     blad  brea  cerv  colo  esop  kidn  lary  lung  nasa  oral    panc  phar  \\\n",
       "0.0  5240  5182  5197  5251  5271  5268  5271  5272  5271  5261  5276.0  5275   \n",
       "1.0    35    91    78    25     5     8     5     4     3    14     NaN     1   \n",
       "NaN     7     9     7     6     6     6     6     6     8     7     6.0     6   \n",
       "\n",
       "     stom  thyr  tran  \n",
       "0.0  5270  5265  5271  \n",
       "1.0     6     8     1  \n",
       "NaN     6     9    10  "
      ]
     },
     "execution_count": 132,
     "metadata": {},
     "output_type": "execute_result"
    }
   ],
   "source": [
    "pd.DataFrame({t: df[f'canc{t}'].value_counts(dropna=False) for t in pcancertypes}).drop_duplicates()"
   ]
  },
  {
   "cell_type": "code",
   "execution_count": 133,
   "metadata": {},
   "outputs": [
    {
     "data": {
      "text/html": [
       "<div>\n",
       "<style scoped>\n",
       "    .dataframe tbody tr th:only-of-type {\n",
       "        vertical-align: middle;\n",
       "    }\n",
       "\n",
       "    .dataframe tbody tr th {\n",
       "        vertical-align: top;\n",
       "    }\n",
       "\n",
       "    .dataframe thead th {\n",
       "        text-align: right;\n",
       "    }\n",
       "</style>\n",
       "<table border=\"1\" class=\"dataframe\">\n",
       "  <thead>\n",
       "    <tr style=\"text-align: right;\">\n",
       "      <th></th>\n",
       "      <th>blad</th>\n",
       "      <th>brea</th>\n",
       "      <th>cerv</th>\n",
       "      <th>colo</th>\n",
       "      <th>esop</th>\n",
       "      <th>kidn</th>\n",
       "      <th>lary</th>\n",
       "      <th>lung</th>\n",
       "      <th>nasa</th>\n",
       "      <th>oral</th>\n",
       "      <th>panc</th>\n",
       "      <th>phar</th>\n",
       "      <th>stom</th>\n",
       "      <th>thyr</th>\n",
       "      <th>tran</th>\n",
       "    </tr>\n",
       "  </thead>\n",
       "  <tbody>\n",
       "    <tr>\n",
       "      <th>M</th>\n",
       "      <td>31</td>\n",
       "      <td>0</td>\n",
       "      <td>0</td>\n",
       "      <td>14</td>\n",
       "      <td>4</td>\n",
       "      <td>4</td>\n",
       "      <td>5</td>\n",
       "      <td>3</td>\n",
       "      <td>2</td>\n",
       "      <td>9</td>\n",
       "      <td>0</td>\n",
       "      <td>0</td>\n",
       "      <td>4</td>\n",
       "      <td>5</td>\n",
       "      <td>0</td>\n",
       "    </tr>\n",
       "    <tr>\n",
       "      <th>F</th>\n",
       "      <td>4</td>\n",
       "      <td>91</td>\n",
       "      <td>78</td>\n",
       "      <td>11</td>\n",
       "      <td>1</td>\n",
       "      <td>4</td>\n",
       "      <td>0</td>\n",
       "      <td>1</td>\n",
       "      <td>1</td>\n",
       "      <td>5</td>\n",
       "      <td>0</td>\n",
       "      <td>1</td>\n",
       "      <td>2</td>\n",
       "      <td>3</td>\n",
       "      <td>1</td>\n",
       "    </tr>\n",
       "  </tbody>\n",
       "</table>\n",
       "</div>"
      ],
      "text/plain": [
       "   blad  brea  cerv  colo  esop  kidn  lary  lung  nasa  oral  panc  phar  \\\n",
       "M    31     0     0    14     4     4     5     3     2     9     0     0   \n",
       "F     4    91    78    11     1     4     0     1     1     5     0     1   \n",
       "\n",
       "   stom  thyr  tran  \n",
       "M     4     5     0  \n",
       "F     2     3     1  "
      ]
     },
     "execution_count": 133,
     "metadata": {},
     "output_type": "execute_result"
    }
   ],
   "source": [
    "pd.DataFrame({t: [len(df.query(f'gender == {i} and canc{t} == 1')) for i in [1,2]] for t in pcancertypes}, index=['M','F'])"
   ]
  },
  {
   "cell_type": "code",
   "execution_count": 134,
   "metadata": {},
   "outputs": [
    {
     "data": {
      "text/html": [
       "<div>\n",
       "<style scoped>\n",
       "    .dataframe tbody tr th:only-of-type {\n",
       "        vertical-align: middle;\n",
       "    }\n",
       "\n",
       "    .dataframe tbody tr th {\n",
       "        vertical-align: top;\n",
       "    }\n",
       "\n",
       "    .dataframe thead th {\n",
       "        text-align: right;\n",
       "    }\n",
       "</style>\n",
       "<table border=\"1\" class=\"dataframe\">\n",
       "  <thead>\n",
       "    <tr style=\"text-align: right;\">\n",
       "      <th></th>\n",
       "      <th>ageblad</th>\n",
       "      <th>agebrea</th>\n",
       "      <th>agecerv</th>\n",
       "      <th>agecolo</th>\n",
       "      <th>ageesop</th>\n",
       "      <th>agekidn</th>\n",
       "      <th>agelary</th>\n",
       "      <th>agelung</th>\n",
       "      <th>agenasa</th>\n",
       "      <th>ageoral</th>\n",
       "      <th>agepanc</th>\n",
       "      <th>agephar</th>\n",
       "      <th>agestom</th>\n",
       "      <th>agethyr</th>\n",
       "      <th>agetran</th>\n",
       "    </tr>\n",
       "  </thead>\n",
       "  <tbody>\n",
       "    <tr>\n",
       "      <th>count</th>\n",
       "      <td>35.000000</td>\n",
       "      <td>91.000000</td>\n",
       "      <td>78.000000</td>\n",
       "      <td>25.000000</td>\n",
       "      <td>5.000000</td>\n",
       "      <td>8.000000</td>\n",
       "      <td>5.000000</td>\n",
       "      <td>4.00</td>\n",
       "      <td>3.000000</td>\n",
       "      <td>14.000000</td>\n",
       "      <td>0.0</td>\n",
       "      <td>1.0</td>\n",
       "      <td>6.000000</td>\n",
       "      <td>8.000000</td>\n",
       "      <td>1.0</td>\n",
       "    </tr>\n",
       "    <tr>\n",
       "      <th>mean</th>\n",
       "      <td>55.885714</td>\n",
       "      <td>49.626374</td>\n",
       "      <td>36.538462</td>\n",
       "      <td>53.840000</td>\n",
       "      <td>50.800000</td>\n",
       "      <td>54.625000</td>\n",
       "      <td>55.000000</td>\n",
       "      <td>65.25</td>\n",
       "      <td>62.000000</td>\n",
       "      <td>53.928571</td>\n",
       "      <td>NaN</td>\n",
       "      <td>54.0</td>\n",
       "      <td>47.000000</td>\n",
       "      <td>45.375000</td>\n",
       "      <td>45.0</td>\n",
       "    </tr>\n",
       "    <tr>\n",
       "      <th>std</th>\n",
       "      <td>10.303544</td>\n",
       "      <td>8.452019</td>\n",
       "      <td>10.079801</td>\n",
       "      <td>8.979978</td>\n",
       "      <td>6.978539</td>\n",
       "      <td>7.424621</td>\n",
       "      <td>12.629331</td>\n",
       "      <td>4.50</td>\n",
       "      <td>6.244998</td>\n",
       "      <td>9.988180</td>\n",
       "      <td>NaN</td>\n",
       "      <td>NaN</td>\n",
       "      <td>7.071068</td>\n",
       "      <td>11.987345</td>\n",
       "      <td>NaN</td>\n",
       "    </tr>\n",
       "    <tr>\n",
       "      <th>min</th>\n",
       "      <td>17.000000</td>\n",
       "      <td>25.000000</td>\n",
       "      <td>21.000000</td>\n",
       "      <td>32.000000</td>\n",
       "      <td>45.000000</td>\n",
       "      <td>48.000000</td>\n",
       "      <td>40.000000</td>\n",
       "      <td>59.00</td>\n",
       "      <td>55.000000</td>\n",
       "      <td>36.000000</td>\n",
       "      <td>NaN</td>\n",
       "      <td>54.0</td>\n",
       "      <td>35.000000</td>\n",
       "      <td>30.000000</td>\n",
       "      <td>45.0</td>\n",
       "    </tr>\n",
       "    <tr>\n",
       "      <th>25%</th>\n",
       "      <td>52.000000</td>\n",
       "      <td>43.500000</td>\n",
       "      <td>28.000000</td>\n",
       "      <td>50.000000</td>\n",
       "      <td>46.000000</td>\n",
       "      <td>49.500000</td>\n",
       "      <td>43.000000</td>\n",
       "      <td>63.50</td>\n",
       "      <td>59.500000</td>\n",
       "      <td>50.000000</td>\n",
       "      <td>NaN</td>\n",
       "      <td>54.0</td>\n",
       "      <td>45.000000</td>\n",
       "      <td>36.250000</td>\n",
       "      <td>45.0</td>\n",
       "    </tr>\n",
       "    <tr>\n",
       "      <th>50%</th>\n",
       "      <td>56.000000</td>\n",
       "      <td>50.000000</td>\n",
       "      <td>34.500000</td>\n",
       "      <td>55.000000</td>\n",
       "      <td>48.000000</td>\n",
       "      <td>52.000000</td>\n",
       "      <td>60.000000</td>\n",
       "      <td>66.50</td>\n",
       "      <td>64.000000</td>\n",
       "      <td>54.000000</td>\n",
       "      <td>NaN</td>\n",
       "      <td>54.0</td>\n",
       "      <td>47.500000</td>\n",
       "      <td>43.000000</td>\n",
       "      <td>45.0</td>\n",
       "    </tr>\n",
       "    <tr>\n",
       "      <th>75%</th>\n",
       "      <td>63.500000</td>\n",
       "      <td>55.500000</td>\n",
       "      <td>41.750000</td>\n",
       "      <td>59.000000</td>\n",
       "      <td>53.000000</td>\n",
       "      <td>57.500000</td>\n",
       "      <td>65.000000</td>\n",
       "      <td>68.25</td>\n",
       "      <td>65.500000</td>\n",
       "      <td>60.750000</td>\n",
       "      <td>NaN</td>\n",
       "      <td>54.0</td>\n",
       "      <td>51.500000</td>\n",
       "      <td>56.250000</td>\n",
       "      <td>45.0</td>\n",
       "    </tr>\n",
       "    <tr>\n",
       "      <th>max</th>\n",
       "      <td>68.000000</td>\n",
       "      <td>68.000000</td>\n",
       "      <td>63.000000</td>\n",
       "      <td>67.000000</td>\n",
       "      <td>62.000000</td>\n",
       "      <td>67.000000</td>\n",
       "      <td>67.000000</td>\n",
       "      <td>69.00</td>\n",
       "      <td>67.000000</td>\n",
       "      <td>70.000000</td>\n",
       "      <td>NaN</td>\n",
       "      <td>54.0</td>\n",
       "      <td>55.000000</td>\n",
       "      <td>61.000000</td>\n",
       "      <td>45.0</td>\n",
       "    </tr>\n",
       "  </tbody>\n",
       "</table>\n",
       "</div>"
      ],
      "text/plain": [
       "         ageblad    agebrea    agecerv    agecolo    ageesop    agekidn  \\\n",
       "count  35.000000  91.000000  78.000000  25.000000   5.000000   8.000000   \n",
       "mean   55.885714  49.626374  36.538462  53.840000  50.800000  54.625000   \n",
       "std    10.303544   8.452019  10.079801   8.979978   6.978539   7.424621   \n",
       "min    17.000000  25.000000  21.000000  32.000000  45.000000  48.000000   \n",
       "25%    52.000000  43.500000  28.000000  50.000000  46.000000  49.500000   \n",
       "50%    56.000000  50.000000  34.500000  55.000000  48.000000  52.000000   \n",
       "75%    63.500000  55.500000  41.750000  59.000000  53.000000  57.500000   \n",
       "max    68.000000  68.000000  63.000000  67.000000  62.000000  67.000000   \n",
       "\n",
       "         agelary  agelung    agenasa    ageoral  agepanc  agephar    agestom  \\\n",
       "count   5.000000     4.00   3.000000  14.000000      0.0      1.0   6.000000   \n",
       "mean   55.000000    65.25  62.000000  53.928571      NaN     54.0  47.000000   \n",
       "std    12.629331     4.50   6.244998   9.988180      NaN      NaN   7.071068   \n",
       "min    40.000000    59.00  55.000000  36.000000      NaN     54.0  35.000000   \n",
       "25%    43.000000    63.50  59.500000  50.000000      NaN     54.0  45.000000   \n",
       "50%    60.000000    66.50  64.000000  54.000000      NaN     54.0  47.500000   \n",
       "75%    65.000000    68.25  65.500000  60.750000      NaN     54.0  51.500000   \n",
       "max    67.000000    69.00  67.000000  70.000000      NaN     54.0  55.000000   \n",
       "\n",
       "         agethyr  agetran  \n",
       "count   8.000000      1.0  \n",
       "mean   45.375000     45.0  \n",
       "std    11.987345      NaN  \n",
       "min    30.000000     45.0  \n",
       "25%    36.250000     45.0  \n",
       "50%    43.000000     45.0  \n",
       "75%    56.250000     45.0  \n",
       "max    61.000000     45.0  "
      ]
     },
     "execution_count": 134,
     "metadata": {},
     "output_type": "execute_result"
    }
   ],
   "source": [
    "df[[f\"age{t}\" for t in pcancertypes]].describe()"
   ]
  },
  {
   "cell_type": "code",
   "execution_count": 135,
   "metadata": {},
   "outputs": [
    {
     "data": {
      "text/plain": [
       "<Axes: >"
      ]
     },
     "execution_count": 135,
     "metadata": {},
     "output_type": "execute_result"
    },
    {
     "data": {
      "image/png": "[encoded data removed]",
      "text/plain": [
       "<Figure size 640x480 with 1 Axes>"
      ]
     },
     "metadata": {},
     "output_type": "display_data"
    }
   ],
   "source": [
    "sns.boxenplot(data=df[[f\"age{t}\" for t in pcancertypes]], orient='h')"
   ]
  },
  {
   "cell_type": "code",
   "execution_count": 136,
   "metadata": {},
   "outputs": [],
   "source": [
    "cols['cat']['canchist'] = [f\"canc{t}\" for t in pcancertypes]"
   ]
  },
  {
   "cell_type": "code",
   "execution_count": 137,
   "metadata": {},
   "outputs": [
    {
     "data": {
      "text/plain": [
       "PersonalCancerHist\n",
       "False    5018\n",
       "True      264\n",
       "Name: count, dtype: int64"
      ]
     },
     "execution_count": 137,
     "metadata": {},
     "output_type": "execute_result"
    }
   ],
   "source": [
    "df['PersonalCancerHist'] = df[[f\"canc{t}\" for t in pcancertypes]].any(axis=1)\n",
    "df['PersonalCancerHist'].value_counts(dropna=False)"
   ]
  },
  {
   "cell_type": "markdown",
   "metadata": {},
   "source": [
    "### Family history Lung cancer columns\n",
    "Unused because it doesn't match with existing `FamilyHistoryLungCa` column."
   ]
  },
  {
   "cell_type": "code",
   "execution_count": 138,
   "metadata": {},
   "outputs": [
    {
     "data": {
      "text/html": [
       "<div>\n",
       "<style scoped>\n",
       "    .dataframe tbody tr th:only-of-type {\n",
       "        vertical-align: middle;\n",
       "    }\n",
       "\n",
       "    .dataframe tbody tr th {\n",
       "        vertical-align: top;\n",
       "    }\n",
       "\n",
       "    .dataframe thead th {\n",
       "        text-align: right;\n",
       "    }\n",
       "</style>\n",
       "<table border=\"1\" class=\"dataframe\">\n",
       "  <thead>\n",
       "    <tr style=\"text-align: right;\">\n",
       "      <th></th>\n",
       "      <th>brother</th>\n",
       "      <th>sister</th>\n",
       "      <th>child</th>\n",
       "      <th>father</th>\n",
       "      <th>mother</th>\n",
       "    </tr>\n",
       "  </thead>\n",
       "  <tbody>\n",
       "    <tr>\n",
       "      <th>0.0</th>\n",
       "      <td>4842</td>\n",
       "      <td>4920</td>\n",
       "      <td>5113</td>\n",
       "      <td>4552</td>\n",
       "      <td>4813</td>\n",
       "    </tr>\n",
       "    <tr>\n",
       "      <th>1.0</th>\n",
       "      <td>298</td>\n",
       "      <td>221</td>\n",
       "      <td>25</td>\n",
       "      <td>562</td>\n",
       "      <td>339</td>\n",
       "    </tr>\n",
       "    <tr>\n",
       "      <th>NaN</th>\n",
       "      <td>142</td>\n",
       "      <td>141</td>\n",
       "      <td>144</td>\n",
       "      <td>168</td>\n",
       "      <td>130</td>\n",
       "    </tr>\n",
       "  </tbody>\n",
       "</table>\n",
       "</div>"
      ],
      "text/plain": [
       "     brother  sister  child  father  mother\n",
       "0.0     4842    4920   5113    4552    4813\n",
       "1.0      298     221     25     562     339\n",
       "NaN      142     141    144     168     130"
      ]
     },
     "execution_count": 138,
     "metadata": {},
     "output_type": "execute_result"
    }
   ],
   "source": [
    "relatives = ['brother', 'sister', 'child', 'father', 'mother']\n",
    "col_famhist = ['fam'+member for member in relatives]\n",
    "pd.DataFrame({t: df[f'fam{t}'].value_counts(dropna=False) for t in relatives}).drop_duplicates()"
   ]
  },
  {
   "cell_type": "code",
   "execution_count": 139,
   "metadata": {},
   "outputs": [
    {
     "data": {
      "text/plain": [
       "famhist\n",
       "False      4070\n",
       "True       1212\n",
       "Name: count, dtype: int64"
      ]
     },
     "execution_count": 139,
     "metadata": {},
     "output_type": "execute_result"
    }
   ],
   "source": [
    "df['famhist'] = df[col_famhist].any(axis=1)\n",
    "df_famhist = df[['pid', 'famhist']].set_index('pid')\n",
    "df_famhist.value_counts(dropna=False)"
   ]
  },
  {
   "cell_type": "markdown",
   "metadata": {},
   "source": [
    "### Alcohol columns - UNUSED"
   ]
  },
  {
   "cell_type": "code",
   "execution_count": 140,
   "metadata": {},
   "outputs": [],
   "source": [
    "alcohol_acrin = ['acrin_alc_curr', 'acrin_alc_ever', 'acrin_drink24hr', 'acrin_drinknum_curr', 'acrin_drinknum_form', 'acrin_drinkyrs_curr', 'acrin_drinkyrs_form', 'acrin_lastdrink']\n",
    "alcohol_lss = ['lss_alcohol_freq', 'lss_alcohol_num']"
   ]
  },
  {
   "cell_type": "code",
   "execution_count": 141,
   "metadata": {},
   "outputs": [
    {
     "data": {
      "text/plain": [
       "study\n",
       "1    3518\n",
       "2    1023\n",
       "3     741\n",
       "Name: count, dtype: int64"
      ]
     },
     "execution_count": 141,
     "metadata": {},
     "output_type": "execute_result"
    }
   ],
   "source": [
    "df['study'].value_counts() #1 is LSS, 2 and 3 are ACRIN"
   ]
  },
  {
   "cell_type": "code",
   "execution_count": 142,
   "metadata": {},
   "outputs": [
    {
     "data": {
      "text/plain": [
       "acrin_alc_curr\n",
       "NaN    3620\n",
       "2.0    1225\n",
       "1.0     437\n",
       "Name: count, dtype: int64"
      ]
     },
     "execution_count": 142,
     "metadata": {},
     "output_type": "execute_result"
    }
   ],
   "source": [
    "df['acrin_alc_curr'].value_counts(dropna=False)"
   ]
  },
  {
   "cell_type": "code",
   "execution_count": 143,
   "metadata": {},
   "outputs": [
    {
     "data": {
      "text/plain": [
       "lss_alcohol_freq\n",
       "NaN    1787\n",
       "2.0     876\n",
       "5.0     804\n",
       "1.0     722\n",
       "3.0     619\n",
       "4.0     474\n",
       "Name: count, dtype: int64"
      ]
     },
     "execution_count": 143,
     "metadata": {},
     "output_type": "execute_result"
    }
   ],
   "source": [
    "df['lss_alcohol_freq'].value_counts(dropna=False)"
   ]
  },
  {
   "cell_type": "code",
   "execution_count": 144,
   "metadata": {},
   "outputs": [
    {
     "data": {
      "text/html": [
       "<div>\n",
       "<style scoped>\n",
       "    .dataframe tbody tr th:only-of-type {\n",
       "        vertical-align: middle;\n",
       "    }\n",
       "\n",
       "    .dataframe tbody tr th {\n",
       "        vertical-align: top;\n",
       "    }\n",
       "\n",
       "    .dataframe thead th {\n",
       "        text-align: right;\n",
       "    }\n",
       "</style>\n",
       "<table border=\"1\" class=\"dataframe\">\n",
       "  <thead>\n",
       "    <tr style=\"text-align: right;\">\n",
       "      <th></th>\n",
       "      <th>acrin_alc_curr</th>\n",
       "      <th>acrin_alc_ever</th>\n",
       "      <th>acrin_drink24hr</th>\n",
       "      <th>acrin_drinknum_curr</th>\n",
       "      <th>acrin_drinknum_form</th>\n",
       "      <th>acrin_drinkyrs_curr</th>\n",
       "      <th>acrin_drinkyrs_form</th>\n",
       "      <th>acrin_lastdrink</th>\n",
       "      <th>lss_alcohol_freq</th>\n",
       "      <th>lss_alcohol_num</th>\n",
       "    </tr>\n",
       "  </thead>\n",
       "  <tbody>\n",
       "    <tr>\n",
       "      <th>count</th>\n",
       "      <td>1662.000000</td>\n",
       "      <td>1757.000000</td>\n",
       "      <td>1185.000000</td>\n",
       "      <td>1181.000000</td>\n",
       "      <td>404.000000</td>\n",
       "      <td>1174.000000</td>\n",
       "      <td>405.000000</td>\n",
       "      <td>435.000000</td>\n",
       "      <td>3495.000000</td>\n",
       "      <td>2744.000000</td>\n",
       "    </tr>\n",
       "    <tr>\n",
       "      <th>mean</th>\n",
       "      <td>1.737064</td>\n",
       "      <td>1.948776</td>\n",
       "      <td>0.972152</td>\n",
       "      <td>6.938188</td>\n",
       "      <td>13.975248</td>\n",
       "      <td>39.326235</td>\n",
       "      <td>23.711111</td>\n",
       "      <td>2.372414</td>\n",
       "      <td>2.931903</td>\n",
       "      <td>1.910350</td>\n",
       "    </tr>\n",
       "    <tr>\n",
       "      <th>std</th>\n",
       "      <td>0.440361</td>\n",
       "      <td>0.220516</td>\n",
       "      <td>1.622811</td>\n",
       "      <td>9.341564</td>\n",
       "      <td>20.147949</td>\n",
       "      <td>10.454303</td>\n",
       "      <td>13.555825</td>\n",
       "      <td>0.860914</td>\n",
       "      <td>1.459018</td>\n",
       "      <td>0.912094</td>\n",
       "    </tr>\n",
       "    <tr>\n",
       "      <th>min</th>\n",
       "      <td>1.000000</td>\n",
       "      <td>1.000000</td>\n",
       "      <td>0.000000</td>\n",
       "      <td>0.000000</td>\n",
       "      <td>0.000000</td>\n",
       "      <td>0.000000</td>\n",
       "      <td>0.000000</td>\n",
       "      <td>1.000000</td>\n",
       "      <td>1.000000</td>\n",
       "      <td>1.000000</td>\n",
       "    </tr>\n",
       "    <tr>\n",
       "      <th>25%</th>\n",
       "      <td>1.000000</td>\n",
       "      <td>2.000000</td>\n",
       "      <td>0.000000</td>\n",
       "      <td>0.000000</td>\n",
       "      <td>0.000000</td>\n",
       "      <td>35.000000</td>\n",
       "      <td>12.000000</td>\n",
       "      <td>1.000000</td>\n",
       "      <td>2.000000</td>\n",
       "      <td>1.000000</td>\n",
       "    </tr>\n",
       "    <tr>\n",
       "      <th>50%</th>\n",
       "      <td>2.000000</td>\n",
       "      <td>2.000000</td>\n",
       "      <td>0.000000</td>\n",
       "      <td>4.000000</td>\n",
       "      <td>5.000000</td>\n",
       "      <td>40.000000</td>\n",
       "      <td>23.000000</td>\n",
       "      <td>3.000000</td>\n",
       "      <td>3.000000</td>\n",
       "      <td>2.000000</td>\n",
       "    </tr>\n",
       "    <tr>\n",
       "      <th>75%</th>\n",
       "      <td>2.000000</td>\n",
       "      <td>2.000000</td>\n",
       "      <td>2.000000</td>\n",
       "      <td>10.000000</td>\n",
       "      <td>20.000000</td>\n",
       "      <td>45.000000</td>\n",
       "      <td>34.000000</td>\n",
       "      <td>3.000000</td>\n",
       "      <td>4.000000</td>\n",
       "      <td>2.000000</td>\n",
       "    </tr>\n",
       "    <tr>\n",
       "      <th>max</th>\n",
       "      <td>2.000000</td>\n",
       "      <td>2.000000</td>\n",
       "      <td>26.000000</td>\n",
       "      <td>89.000000</td>\n",
       "      <td>100.000000</td>\n",
       "      <td>70.000000</td>\n",
       "      <td>70.000000</td>\n",
       "      <td>3.000000</td>\n",
       "      <td>5.000000</td>\n",
       "      <td>5.000000</td>\n",
       "    </tr>\n",
       "  </tbody>\n",
       "</table>\n",
       "</div>"
      ],
      "text/plain": [
       "       acrin_alc_curr  acrin_alc_ever  acrin_drink24hr  acrin_drinknum_curr  \\\n",
       "count     1662.000000     1757.000000      1185.000000          1181.000000   \n",
       "mean         1.737064        1.948776         0.972152             6.938188   \n",
       "std          0.440361        0.220516         1.622811             9.341564   \n",
       "min          1.000000        1.000000         0.000000             0.000000   \n",
       "25%          1.000000        2.000000         0.000000             0.000000   \n",
       "50%          2.000000        2.000000         0.000000             4.000000   \n",
       "75%          2.000000        2.000000         2.000000            10.000000   \n",
       "max          2.000000        2.000000        26.000000            89.000000   \n",
       "\n",
       "       acrin_drinknum_form  acrin_drinkyrs_curr  acrin_drinkyrs_form  \\\n",
       "count           404.000000          1174.000000           405.000000   \n",
       "mean             13.975248            39.326235            23.711111   \n",
       "std              20.147949            10.454303            13.555825   \n",
       "min               0.000000             0.000000             0.000000   \n",
       "25%               0.000000            35.000000            12.000000   \n",
       "50%               5.000000            40.000000            23.000000   \n",
       "75%              20.000000            45.000000            34.000000   \n",
       "max             100.000000            70.000000            70.000000   \n",
       "\n",
       "       acrin_lastdrink  lss_alcohol_freq  lss_alcohol_num  \n",
       "count       435.000000       3495.000000      2744.000000  \n",
       "mean          2.372414          2.931903         1.910350  \n",
       "std           0.860914          1.459018         0.912094  \n",
       "min           1.000000          1.000000         1.000000  \n",
       "25%           1.000000          2.000000         1.000000  \n",
       "50%           3.000000          3.000000         2.000000  \n",
       "75%           3.000000          4.000000         2.000000  \n",
       "max           3.000000          5.000000         5.000000  "
      ]
     },
     "execution_count": 144,
     "metadata": {},
     "output_type": "execute_result"
    }
   ],
   "source": [
    "df[alcohol_acrin + alcohol_lss].describe()"
   ]
  },
  {
   "cell_type": "markdown",
   "metadata": {},
   "source": [
    "I don't know how to aggregate these columns, if I'm gonna be honest."
   ]
  },
  {
   "cell_type": "markdown",
   "metadata": {},
   "source": [
    "### Lung Cancer columns"
   ]
  },
  {
   "cell_type": "code",
   "execution_count": 145,
   "metadata": {},
   "outputs": [],
   "source": [
    "histology_cat_key = {\n",
    "    1: \"Small_cell_carcinoma\",\n",
    "    2: \"Squamous_cell_carcinoma\",\n",
    "    3: \"Adenocarcinoma\",\n",
    "    4: \"Bronchiolo-alveolar_carcinoma\",\n",
    "    5: \"Large_cell_carcinoma\",\n",
    "    6: \"Adenosquamous_carcinoma\",\n",
    "    7: \"Pleomorphic/sarcomatoid\",\n",
    "    8: \"Carcinoid_tumor\",\n",
    "    9: \"Unclassified_carcinoma\",\n",
    "}"
   ]
  },
  {
   "cell_type": "code",
   "execution_count": 146,
   "metadata": {},
   "outputs": [],
   "source": [
    "df['LC_type'] = df['histology_cat'].replace(histology_cat_key)\n",
    "df = pd.get_dummies(df, columns=['LC_type'], prefix='', prefix_sep='')"
   ]
  },
  {
   "cell_type": "code",
   "execution_count": 147,
   "metadata": {},
   "outputs": [],
   "source": [
    "df['LC_stage'] = df['de_stag_7thed'].replace([999], value=np.nan, inplace=False)"
   ]
  },
  {
   "cell_type": "code",
   "execution_count": 148,
   "metadata": {},
   "outputs": [],
   "source": [
    "cols['cat']['lungcanc'] = list(histology_cat_key.values()) + ['LC_stage']\n",
    "cols['cat']['lungcanc'].remove(\"Pleomorphic/sarcomatoid\")"
   ]
  },
  {
   "cell_type": "code",
   "execution_count": 149,
   "metadata": {},
   "outputs": [
    {
     "data": {
      "text/plain": [
       "lung_cancer\n",
       "0    4596\n",
       "1     686\n",
       "Name: count, dtype: int64"
      ]
     },
     "execution_count": 149,
     "metadata": {},
     "output_type": "execute_result"
    }
   ],
   "source": [
    "cols[\"info\"].append('lung_cancer')\n",
    "df['lung_cancer'].value_counts(dropna=False)"
   ]
  },
  {
   "cell_type": "code",
   "execution_count": 150,
   "metadata": {},
   "outputs": [
    {
     "data": {
      "text/plain": [
       "cancyr\n",
       "NaN    4596\n",
       "0.0     248\n",
       "2.0     194\n",
       "1.0     152\n",
       "3.0      31\n",
       "5.0      27\n",
       "4.0      27\n",
       "6.0       7\n",
       "Name: count, dtype: int64"
      ]
     },
     "execution_count": 150,
     "metadata": {},
     "output_type": "execute_result"
    }
   ],
   "source": [
    "cols[\"info\"].append('cancyr')\n",
    "df['cancyr'].value_counts(dropna=False)"
   ]
  },
  {
   "cell_type": "code",
   "execution_count": 151,
   "metadata": {},
   "outputs": [],
   "source": [
    "cols[\"info\"].extend([f\"scr_days{f}\" for f in range(3)])"
   ]
  },
  {
   "cell_type": "code",
   "execution_count": 152,
   "metadata": {},
   "outputs": [],
   "source": [
    "cols[\"info\"].append(\"fup_days\")\n",
    "cols[\"info\"].append(\"candx_days\")"
   ]
  },
  {
   "cell_type": "markdown",
   "metadata": {},
   "source": [
    "### Other columns"
   ]
  },
  {
   "cell_type": "code",
   "execution_count": 153,
   "metadata": {},
   "outputs": [],
   "source": [
    "if not INCLUDES_VENK21_DATA:\n",
    "    cols['cat']['other'] = ['wrknomask', 'PersonalCancerHist', 'FamilyHistoryLungCa']\n",
    "\n",
    "    df['Gender'] = df['gender']\n",
    "    cols['cat']['demo'].append('Gender')\n",
    "    \n",
    "    df['Age'] = df['age']\n",
    "    cols['num']['demo'].append('Age')\n",
    "\n",
    "    df['FamilyHistoryLungCa'] = df['famhist']\n",
    "\n",
    "else:\n",
    "    cols['cat']['other'] = ['wrknomask', 'PersonalCancerHist']"
   ]
  },
  {
   "cell_type": "markdown",
   "metadata": {},
   "source": [
    "## Save Columns"
   ]
  },
  {
   "cell_type": "code",
   "execution_count": 154,
   "metadata": {},
   "outputs": [
    {
     "data": {
      "text/plain": [
       "{'num': {'demo': ['weight', 'height', 'BMI'],\n",
       "  'smoke': ['pkyr', 'smokeage', 'smokeday', 'smokeyr']},\n",
       " 'cat': {'demo': ['HS-or-more',\n",
       "   'HighSchoolPlus',\n",
       "   'educat',\n",
       "   'more-than-HS',\n",
       "   'Married',\n",
       "   'Unfinished_ed',\n",
       "   'WhiteOrBlack',\n",
       "   'NonHispanicWhite',\n",
       "   'race',\n",
       "   'ethnic',\n",
       "   'marital',\n",
       "   'Overweight'],\n",
       "  'smoke': ['cigar', 'cigsmok', 'pipe', 'smokelive', 'smokework'],\n",
       "  'work': ['wrkasbe',\n",
       "   'wrkbaki',\n",
       "   'wrkbutc',\n",
       "   'wrkchem',\n",
       "   'wrkcoal',\n",
       "   'wrkcott',\n",
       "   'wrkfarm',\n",
       "   'wrkfire',\n",
       "   'wrkflou',\n",
       "   'wrkfoun',\n",
       "   'wrkhard',\n",
       "   'wrkpain',\n",
       "   'wrksand',\n",
       "   'wrkweld'],\n",
       "  'disease': ['diagadas',\n",
       "   'diagasbe',\n",
       "   'diagbron',\n",
       "   'diagchas',\n",
       "   'diagchro',\n",
       "   'diagcopd',\n",
       "   'diagdiab',\n",
       "   'diagemph',\n",
       "   'diagfibr',\n",
       "   'diaghear',\n",
       "   'diaghype',\n",
       "   'diagpneu',\n",
       "   'diagsarc',\n",
       "   'diagsili',\n",
       "   'diagstro',\n",
       "   'diagtube'],\n",
       "  'canchist': ['cancblad',\n",
       "   'cancbrea',\n",
       "   'canccerv',\n",
       "   'canccolo',\n",
       "   'cancesop',\n",
       "   'canckidn',\n",
       "   'canclary',\n",
       "   'canclung',\n",
       "   'cancnasa',\n",
       "   'cancoral',\n",
       "   'cancpanc',\n",
       "   'cancphar',\n",
       "   'cancstom',\n",
       "   'cancthyr',\n",
       "   'canctran'],\n",
       "  'lungcanc': ['Small_cell_carcinoma',\n",
       "   'Squamous_cell_carcinoma',\n",
       "   'Adenocarcinoma',\n",
       "   'Bronchiolo-alveolar_carcinoma',\n",
       "   'Large_cell_carcinoma',\n",
       "   'Adenosquamous_carcinoma',\n",
       "   'Carcinoid_tumor',\n",
       "   'Unclassified_carcinoma',\n",
       "   'LC_stage'],\n",
       "  'other': ['wrknomask', 'PersonalCancerHist']},\n",
       " 'info': ['PatientID',\n",
       "  'study',\n",
       "  'lung_cancer',\n",
       "  'cancyr',\n",
       "  'scr_days0',\n",
       "  'scr_days1',\n",
       "  'scr_days2',\n",
       "  'fup_days',\n",
       "  'candx_days']}"
      ]
     },
     "execution_count": 154,
     "metadata": {},
     "output_type": "execute_result"
    }
   ],
   "source": [
    "cols"
   ]
  },
  {
   "cell_type": "code",
   "execution_count": 155,
   "metadata": {},
   "outputs": [
    {
     "data": {
      "text/plain": [
       "89"
      ]
     },
     "execution_count": 155,
     "metadata": {},
     "output_type": "execute_result"
    }
   ],
   "source": [
    "cols_num = sum(cols['num'].values(), start=[])\n",
    "cols_cat = sum(cols['cat'].values(), start=[])\n",
    "cols_list = cols_num + cols_cat + cols['info']\n",
    "len(cols_list)"
   ]
  },
  {
   "cell_type": "code",
   "execution_count": 156,
   "metadata": {},
   "outputs": [],
   "source": [
    "if INCLUDES_VENK21_DATA:\n",
    "    cols['cat']['demo'].append('Gender')\n",
    "    cols['num']['demo'].append('Age')\n",
    "    cols['cat']['other'] = ['wrknomask', 'PersonalCancerHist', 'FamilyHistoryLungCa', 'Emphysema']\n",
    "    cols['cat']['nodule'] = ['Solid', 'GroundGlassOpacity', 'Perifissural', 'NonSolid',\n",
    "       'PartSolid', 'SemiSolid', 'Calcified', 'NoduleInUpperLung', 'Spiculation']\n",
    "    cols['num']['nodule'] = [\"CoordX\", \"CoordY\", \"CoordZ\"]\n",
    "    cols['num']['other'] = ['Diameter_mm', 'NoduleCounts']"
   ]
  },
  {
   "cell_type": "code",
   "execution_count": 157,
   "metadata": {},
   "outputs": [],
   "source": [
    "with open(OUTCOLS_PATH, 'w') as f:\n",
    "    json.dump(cols, f)"
   ]
  },
  {
   "cell_type": "code",
   "execution_count": 158,
   "metadata": {},
   "outputs": [],
   "source": [
    "df[cols_list].to_csv(OUTDEMOS_PATH, index=False)"
   ]
  },
  {
   "cell_type": "code",
   "execution_count": 159,
   "metadata": {},
   "outputs": [
    {
     "name": "stdout",
     "output_type": "stream",
     "text": [
      "<class 'pandas.core.frame.DataFrame'>\n",
      "RangeIndex: 16077 entries, 0 to 16076\n",
      "Columns: 129 entries, PatientID to candx_days\n",
      "dtypes: bool(27), float64(84), int64(14), object(4)\n",
      "memory usage: 12.9+ MB\n"
     ]
    }
   ],
   "source": [
    "nlst_preds_demos = nlst_preds.merge(df[cols_list], on='PatientID', how='left')\n",
    "nlst_preds_demos.info()"
   ]
  },
  {
   "cell_type": "markdown",
   "metadata": {},
   "source": [
    "### Label check"
   ]
  },
  {
   "cell_type": "markdown",
   "metadata": {},
   "source": [
    "Sybil label function adapted from [reginabarzilaygroup/Sybil.git](https://github.com/reginabarzilaygroup/Sybil/blob/1e358f8069cb4d0986071ed50d9836200a6ed625/sybil/datasets/nlst.py#L322), as mentioned in [this GitHub issue](https://github.com/reginabarzilaygroup/Sybil/issues/72) by Peter Mikhael (Sybil author)."
   ]
  },
  {
   "cell_type": "code",
   "execution_count": 160,
   "metadata": {},
   "outputs": [
    {
     "data": {
      "text/plain": [
       "timepoint\n",
       "0    5657\n",
       "1    5413\n",
       "2    5007\n",
       "Name: count, dtype: int64"
      ]
     },
     "execution_count": 160,
     "metadata": {},
     "output_type": "execute_result"
    }
   ],
   "source": [
    "nlst_preds['timepoint'].value_counts()"
   ]
  },
  {
   "cell_type": "code",
   "execution_count": 161,
   "metadata": {},
   "outputs": [
    {
     "data": {
      "text/plain": [
       "lung_cancer\n",
       "0    14828\n",
       "1     1249\n",
       "Name: count, dtype: int64"
      ]
     },
     "metadata": {},
     "output_type": "display_data"
    }
   ],
   "source": [
    "if INCLUDES_VENK21_DATA:\n",
    "    display(nlst_preds_demos['lung_cancer'].value_counts(dropna=False))\n",
    "else:\n",
    "    display(nlst_preds_demos[['split', 'lung_cancer']].value_counts(dropna=False))"
   ]
  },
  {
   "cell_type": "code",
   "execution_count": 162,
   "metadata": {},
   "outputs": [
    {
     "data": {
      "text/plain": [
       "sybil_label\n",
       "False    14832\n",
       "True      1245\n",
       "Name: count, dtype: int64"
      ]
     },
     "metadata": {},
     "output_type": "display_data"
    }
   ],
   "source": [
    "nlst_preds_demos['sybil_label'] = nlst_preds_demos.apply(sybil_label, axis=1)\n",
    "if INCLUDES_VENK21_DATA:\n",
    "    display(nlst_preds_demos['sybil_label'].value_counts(dropna=False))\n",
    "else:\n",
    "    display(nlst_preds_demos[['split', 'sybil_label']].value_counts(dropna=False))"
   ]
  },
  {
   "cell_type": "code",
   "execution_count": 163,
   "metadata": {},
   "outputs": [
    {
     "data": {
      "text/plain": [
       "label  lung_cancer  sybil_label\n",
       "0      0            False          14828\n",
       "1      1            True            1245\n",
       "                    False              4\n",
       "Name: count, dtype: int64"
      ]
     },
     "metadata": {},
     "output_type": "display_data"
    }
   ],
   "source": [
    "if INCLUDES_VENK21_DATA:\n",
    "    display(nlst_preds_demos[['label', 'lung_cancer', 'sybil_label']].value_counts(dropna=False))\n",
    "else:\n",
    "    display(nlst_preds_demos['split'].value_counts(dropna=False))"
   ]
  },
  {
   "cell_type": "markdown",
   "metadata": {},
   "source": [
    "### Save whole CSV"
   ]
  },
  {
   "cell_type": "code",
   "execution_count": 164,
   "metadata": {},
   "outputs": [],
   "source": [
    "nlst_preds_demos.to_csv(OUTMERGE_PATH, index=False)"
   ]
  }
 ],
 "metadata": {
  "kernelspec": {
   "display_name": "Python 3",
   "language": "python",
   "name": "python3"
  },
  "language_info": {
   "codemirror_mode": {
    "name": "ipython",
    "version": 3
   },
   "file_extension": ".py",
   "mimetype": "text/x-python",
   "name": "python",
   "nbconvert_exporter": "python",
   "pygments_lexer": "ipython3",
   "version": "3.11.9"
  }
 },
 "nbformat": 4,
 "nbformat_minor": 2
}
