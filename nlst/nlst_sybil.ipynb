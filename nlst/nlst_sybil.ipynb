{
 "cells": [
  {
   "cell_type": "code",
   "execution_count": 1,
   "metadata": {},
   "outputs": [],
   "source": [
    "import pandas as pd\n",
    "import os\n",
    "import numpy as np\n",
    "import json\n",
    "\n",
    "import seaborn as sns\n",
    "sns.set_style(\"white\")\n",
    "from evalutils.roc import get_bootstrapped_roc_ci_curves\n",
    "import matplotlib.pyplot as plt\n",
    "\n",
    "import sys\n",
    "sys.path.append('../')\n",
    "import utils\n",
    "\n",
    "%matplotlib inline\n",
    "import sklearn.metrics as skl_metrics\n",
    "\n",
    "## directory where results are\n",
    "EXPERIMENT_DIR = f\"/data/bodyct/experiments/lung-malignancy-fairness-shaurya\"\n",
    "NLST_PREDS = f\"{EXPERIMENT_DIR}/nlst\"\n",
    "\n",
    "TEAMS_DIR = \"C:/Users/shaur/OneDrive - Radboudumc/Documents - Master - Shaurya Gaur/General/Malignancy-Estimation Results/nlst\"\n",
    "NLST_PREDS = TEAMS_DIR ## Comment out if not using Teams backup (aka Chansey is up :)"
   ]
  },
  {
   "cell_type": "markdown",
   "metadata": {},
   "source": [
    "## Handle Sybil annotation info"
   ]
  },
  {
   "cell_type": "code",
   "execution_count": 10,
   "metadata": {},
   "outputs": [
    {
     "ename": "FileNotFoundError",
     "evalue": "[Errno 2] No such file or directory: 'C:/Users/shaur/OneDrive - Radboudumc/Documents - Master - Shaurya Gaur/General/Malignancy-Estimation Results/nlst/sybil-nlst-train-annotations.json'",
     "output_type": "error",
     "traceback": [
      "\u001b[1;31m---------------------------------------------------------------------------\u001b[0m",
      "\u001b[1;31mFileNotFoundError\u001b[0m                         Traceback (most recent call last)",
      "Cell \u001b[1;32mIn[10], line 2\u001b[0m\n\u001b[0;32m      1\u001b[0m SYBIL_ANNOT_PATH \u001b[38;5;241m=\u001b[39m \u001b[38;5;124mf\u001b[39m\u001b[38;5;124m\"\u001b[39m\u001b[38;5;132;01m{\u001b[39;00mTEAMS_DIR\u001b[38;5;132;01m}\u001b[39;00m\u001b[38;5;124m/sybil-nlst-train-annotations.json\u001b[39m\u001b[38;5;124m\"\u001b[39m\n\u001b[1;32m----> 2\u001b[0m \u001b[38;5;28;01mwith\u001b[39;00m \u001b[38;5;28;43mopen\u001b[39;49m\u001b[43m(\u001b[49m\u001b[43mSYBIL_ANNOT_PATH\u001b[49m\u001b[43m,\u001b[49m\u001b[43m \u001b[49m\u001b[38;5;124;43m\"\u001b[39;49m\u001b[38;5;124;43mr\u001b[39;49m\u001b[38;5;124;43m\"\u001b[39;49m\u001b[43m)\u001b[49m \u001b[38;5;28;01mas\u001b[39;00m f:\n\u001b[0;32m      3\u001b[0m     sybil_annots \u001b[38;5;241m=\u001b[39m json\u001b[38;5;241m.\u001b[39mload(f)\n\u001b[0;32m      5\u001b[0m sybil_annots\n",
      "File \u001b[1;32m~\\AppData\\Local\\Packages\\PythonSoftwareFoundation.Python.3.11_qbz5n2kfra8p0\\LocalCache\\local-packages\\Python311\\site-packages\\IPython\\core\\interactiveshell.py:324\u001b[0m, in \u001b[0;36m_modified_open\u001b[1;34m(file, *args, **kwargs)\u001b[0m\n\u001b[0;32m    317\u001b[0m \u001b[38;5;28;01mif\u001b[39;00m file \u001b[38;5;129;01min\u001b[39;00m {\u001b[38;5;241m0\u001b[39m, \u001b[38;5;241m1\u001b[39m, \u001b[38;5;241m2\u001b[39m}:\n\u001b[0;32m    318\u001b[0m     \u001b[38;5;28;01mraise\u001b[39;00m \u001b[38;5;167;01mValueError\u001b[39;00m(\n\u001b[0;32m    319\u001b[0m         \u001b[38;5;124mf\u001b[39m\u001b[38;5;124m\"\u001b[39m\u001b[38;5;124mIPython won\u001b[39m\u001b[38;5;124m'\u001b[39m\u001b[38;5;124mt let you open fd=\u001b[39m\u001b[38;5;132;01m{\u001b[39;00mfile\u001b[38;5;132;01m}\u001b[39;00m\u001b[38;5;124m by default \u001b[39m\u001b[38;5;124m\"\u001b[39m\n\u001b[0;32m    320\u001b[0m         \u001b[38;5;124m\"\u001b[39m\u001b[38;5;124mas it is likely to crash IPython. If you know what you are doing, \u001b[39m\u001b[38;5;124m\"\u001b[39m\n\u001b[0;32m    321\u001b[0m         \u001b[38;5;124m\"\u001b[39m\u001b[38;5;124myou can use builtins\u001b[39m\u001b[38;5;124m'\u001b[39m\u001b[38;5;124m open.\u001b[39m\u001b[38;5;124m\"\u001b[39m\n\u001b[0;32m    322\u001b[0m     )\n\u001b[1;32m--> 324\u001b[0m \u001b[38;5;28;01mreturn\u001b[39;00m \u001b[43mio_open\u001b[49m\u001b[43m(\u001b[49m\u001b[43mfile\u001b[49m\u001b[43m,\u001b[49m\u001b[43m \u001b[49m\u001b[38;5;241;43m*\u001b[39;49m\u001b[43margs\u001b[49m\u001b[43m,\u001b[49m\u001b[43m \u001b[49m\u001b[38;5;241;43m*\u001b[39;49m\u001b[38;5;241;43m*\u001b[39;49m\u001b[43mkwargs\u001b[49m\u001b[43m)\u001b[49m\n",
      "\u001b[1;31mFileNotFoundError\u001b[0m: [Errno 2] No such file or directory: 'C:/Users/shaur/OneDrive - Radboudumc/Documents - Master - Shaurya Gaur/General/Malignancy-Estimation Results/nlst/sybil-nlst-train-annotations.json'"
     ]
    }
   ],
   "source": [
    "SYBIL_ANNOT_PATH = f\"{TEAMS_DIR}/sybil-nlst-train-annotations.json\"\n",
    "with open(SYBIL_ANNOT_PATH, \"r\") as f:\n",
    "    sybil_annots = json.load(f)\n",
    "\n",
    "sybil_annots"
   ]
  },
  {
   "cell_type": "code",
   "execution_count": 4,
   "metadata": {},
   "outputs": [
    {
     "data": {
      "text/plain": [
       "(972, 9273)"
      ]
     },
     "execution_count": 4,
     "metadata": {},
     "output_type": "execute_result"
    }
   ],
   "source": [
    "sybil_ser_iuids = pd.Series(list(sybil_annots.keys()))\n",
    "sybil_sop_iuids = pd.Series(sum([list(a.keys()) for a in sybil_annots.values()], start=[]))\n",
    "len(sybil_ser_iuids), len(sybil_sop_iuids)"
   ]
  },
  {
   "cell_type": "code",
   "execution_count": 5,
   "metadata": {},
   "outputs": [
    {
     "data": {
      "text/plain": [
       "(9273, 972)"
      ]
     },
     "execution_count": 5,
     "metadata": {},
     "output_type": "execute_result"
    }
   ],
   "source": [
    "sybil_sop_iuids.nunique(), sybil_ser_iuids.nunique()"
   ]
  },
  {
   "cell_type": "code",
   "execution_count": 6,
   "metadata": {},
   "outputs": [
    {
     "data": {
      "text/plain": [
       "0    1.2.840.113654.2.55.27516043901205007432317083...\n",
       "1    1.2.840.113654.2.55.98336108916096429974899588...\n",
       "2    1.2.840.113654.2.55.28097281540164891590337477...\n",
       "3    1.2.840.113654.2.55.24791760535415696414038245...\n",
       "4    1.2.840.113654.2.55.23793008515026704674351422...\n",
       "dtype: object"
      ]
     },
     "execution_count": 6,
     "metadata": {},
     "output_type": "execute_result"
    }
   ],
   "source": [
    "sybil_sop_iuids.head()"
   ]
  },
  {
   "cell_type": "code",
   "execution_count": 7,
   "metadata": {},
   "outputs": [
    {
     "data": {
      "text/plain": [
       "0    1.2.840.113654.2.55.38995485391900019876570761...\n",
       "1    1.2.840.113654.2.55.50761756412482430061802871...\n",
       "2    1.2.840.113654.2.55.24023112856488152536348979...\n",
       "3    1.2.840.113654.2.55.24785488463405747713776937...\n",
       "4    1.2.840.113654.2.55.15708941008648745210499888...\n",
       "dtype: object"
      ]
     },
     "execution_count": 7,
     "metadata": {},
     "output_type": "execute_result"
    }
   ],
   "source": [
    "sybil_ser_iuids.head()"
   ]
  },
  {
   "cell_type": "code",
   "execution_count": 8,
   "metadata": {},
   "outputs": [
    {
     "data": {
      "text/plain": [
       "array(['1.2.840.113654.2.55.240231128564881525363489796879328810792',\n",
       "       '1.2.840.113654.2.55.50761756412482430061802871163319122196',\n",
       "       '1.2.840.113654.2.55.125678454609249687113295452275381538966', ...,\n",
       "       '1.3.6.1.4.1.14519.5.2.1.7009.9004.796552648301224162316340948265',\n",
       "       '1.3.6.1.4.1.14519.5.2.1.7009.9004.698887010763542043410231186032',\n",
       "       '1.3.6.1.4.1.14519.5.2.1.7009.9004.513699984521040918361880189881'],\n",
       "      dtype=object)"
      ]
     },
     "execution_count": 8,
     "metadata": {},
     "output_type": "execute_result"
    }
   ],
   "source": [
    "nlst_others = pd.read_csv(f\"{NLST_PREDS}/nlst_kiran_thijmen_pancan_16077.csv\")\n",
    "kiran_ser_iuids = pd.unique(nlst_others['SeriesInstanceUID'])\n",
    "kiran_ser_iuids"
   ]
  },
  {
   "cell_type": "code",
   "execution_count": 9,
   "metadata": {},
   "outputs": [],
   "source": [
    "match_ser_iuds = set(kiran_ser_iuids).intersection(set(sybil_ser_iuids))"
   ]
  },
  {
   "cell_type": "code",
   "execution_count": 10,
   "metadata": {},
   "outputs": [
    {
     "data": {
      "text/plain": [
       "648"
      ]
     },
     "execution_count": 10,
     "metadata": {},
     "output_type": "execute_result"
    }
   ],
   "source": [
    "len(match_ser_iuds)"
   ]
  },
  {
   "cell_type": "markdown",
   "metadata": {},
   "source": [
    "## Load Sybil PID to Splits CSV"
   ]
  },
  {
   "cell_type": "code",
   "execution_count": 5,
   "metadata": {},
   "outputs": [
    {
     "data": {
      "text/html": [
       "<div>\n",
       "<style scoped>\n",
       "    .dataframe tbody tr th:only-of-type {\n",
       "        vertical-align: middle;\n",
       "    }\n",
       "\n",
       "    .dataframe tbody tr th {\n",
       "        vertical-align: top;\n",
       "    }\n",
       "\n",
       "    .dataframe thead th {\n",
       "        text-align: right;\n",
       "    }\n",
       "</style>\n",
       "<table border=\"1\" class=\"dataframe\">\n",
       "  <thead>\n",
       "    <tr style=\"text-align: right;\">\n",
       "      <th></th>\n",
       "      <th>PID</th>\n",
       "      <th>SPLIT</th>\n",
       "    </tr>\n",
       "  </thead>\n",
       "  <tbody>\n",
       "    <tr>\n",
       "      <th>0</th>\n",
       "      <td>122361</td>\n",
       "      <td>test</td>\n",
       "    </tr>\n",
       "    <tr>\n",
       "      <th>1</th>\n",
       "      <td>113845</td>\n",
       "      <td>train</td>\n",
       "    </tr>\n",
       "    <tr>\n",
       "      <th>2</th>\n",
       "      <td>204631</td>\n",
       "      <td>train</td>\n",
       "    </tr>\n",
       "    <tr>\n",
       "      <th>3</th>\n",
       "      <td>126153</td>\n",
       "      <td>train</td>\n",
       "    </tr>\n",
       "    <tr>\n",
       "      <th>4</th>\n",
       "      <td>101643</td>\n",
       "      <td>test</td>\n",
       "    </tr>\n",
       "  </tbody>\n",
       "</table>\n",
       "</div>"
      ],
      "text/plain": [
       "      PID  SPLIT\n",
       "0  122361   test\n",
       "1  113845  train\n",
       "2  204631  train\n",
       "3  126153  train\n",
       "4  101643   test"
      ]
     },
     "execution_count": 5,
     "metadata": {},
     "output_type": "execute_result"
    }
   ],
   "source": [
    "pidtosplit = pd.read_csv(f\"{NLST_PREDS}/sybil-nlst-pid2split.csv\")\n",
    "pidtosplit.head()"
   ]
  },
  {
   "cell_type": "code",
   "execution_count": 6,
   "metadata": {},
   "outputs": [
    {
     "data": {
      "text/plain": [
       "SPLIT\n",
       "train    10200\n",
       "dev       2472\n",
       "test      2328\n",
       "Name: count, dtype: int64"
      ]
     },
     "execution_count": 6,
     "metadata": {},
     "output_type": "execute_result"
    }
   ],
   "source": [
    "pidtosplit['SPLIT'].value_counts(dropna=False)"
   ]
  },
  {
   "cell_type": "code",
   "execution_count": 9,
   "metadata": {},
   "outputs": [
    {
     "data": {
      "text/html": [
       "<div>\n",
       "<style scoped>\n",
       "    .dataframe tbody tr th:only-of-type {\n",
       "        vertical-align: middle;\n",
       "    }\n",
       "\n",
       "    .dataframe tbody tr th {\n",
       "        vertical-align: top;\n",
       "    }\n",
       "\n",
       "    .dataframe thead th {\n",
       "        text-align: right;\n",
       "    }\n",
       "</style>\n",
       "<table border=\"1\" class=\"dataframe\">\n",
       "  <thead>\n",
       "    <tr style=\"text-align: right;\">\n",
       "      <th></th>\n",
       "      <th>id</th>\n",
       "      <th>split</th>\n",
       "      <th>pid</th>\n",
       "      <th>timepoint</th>\n",
       "      <th>SeriesInstanceUID</th>\n",
       "    </tr>\n",
       "  </thead>\n",
       "  <tbody>\n",
       "    <tr>\n",
       "      <th>0</th>\n",
       "      <td>PID-204631__TimePoint-0__Series-1.3.6.1.4.1.14...</td>\n",
       "      <td>train</td>\n",
       "      <td>204631</td>\n",
       "      <td>0</td>\n",
       "      <td>1.3.6.1.4.1.14519.5.2.1.7009.9004.186764828479...</td>\n",
       "    </tr>\n",
       "    <tr>\n",
       "      <th>1</th>\n",
       "      <td>PID-204631__TimePoint-1__Series-1.3.6.1.4.1.14...</td>\n",
       "      <td>train</td>\n",
       "      <td>204631</td>\n",
       "      <td>1</td>\n",
       "      <td>1.3.6.1.4.1.14519.5.2.1.7009.9004.154974321095...</td>\n",
       "    </tr>\n",
       "    <tr>\n",
       "      <th>2</th>\n",
       "      <td>PID-204631__TimePoint-2__Series-1.3.6.1.4.1.14...</td>\n",
       "      <td>train</td>\n",
       "      <td>204631</td>\n",
       "      <td>2</td>\n",
       "      <td>1.3.6.1.4.1.14519.5.2.1.7009.9004.181632252038...</td>\n",
       "    </tr>\n",
       "    <tr>\n",
       "      <th>3</th>\n",
       "      <td>PID-126153__TimePoint-2__Series-1.2.840.113654...</td>\n",
       "      <td>train</td>\n",
       "      <td>126153</td>\n",
       "      <td>2</td>\n",
       "      <td>1.2.840.113654.2.55.43665829455927473870872470...</td>\n",
       "    </tr>\n",
       "    <tr>\n",
       "      <th>4</th>\n",
       "      <td>PID-126153__TimePoint-1__Series-1.2.840.113654...</td>\n",
       "      <td>train</td>\n",
       "      <td>126153</td>\n",
       "      <td>1</td>\n",
       "      <td>1.2.840.113654.2.55.18862732764668567267836753...</td>\n",
       "    </tr>\n",
       "    <tr>\n",
       "      <th>...</th>\n",
       "      <td>...</td>\n",
       "      <td>...</td>\n",
       "      <td>...</td>\n",
       "      <td>...</td>\n",
       "      <td>...</td>\n",
       "    </tr>\n",
       "    <tr>\n",
       "      <th>41275</th>\n",
       "      <td>PID-133831__TimePoint-2__Series-1.2.840.113654...</td>\n",
       "      <td>test</td>\n",
       "      <td>133831</td>\n",
       "      <td>2</td>\n",
       "      <td>1.2.840.113654.2.55.26279217761753193890516762...</td>\n",
       "    </tr>\n",
       "    <tr>\n",
       "      <th>41276</th>\n",
       "      <td>PID-133831__TimePoint-0__Series-1.2.840.113654...</td>\n",
       "      <td>test</td>\n",
       "      <td>133831</td>\n",
       "      <td>0</td>\n",
       "      <td>1.2.840.113654.2.55.23986337370551290634823184...</td>\n",
       "    </tr>\n",
       "    <tr>\n",
       "      <th>41277</th>\n",
       "      <td>PID-116981__TimePoint-0__Series-1.2.840.113654...</td>\n",
       "      <td>test</td>\n",
       "      <td>116981</td>\n",
       "      <td>0</td>\n",
       "      <td>1.2.840.113654.2.55.16179604920107519147811774...</td>\n",
       "    </tr>\n",
       "    <tr>\n",
       "      <th>41278</th>\n",
       "      <td>PID-116981__TimePoint-2__Series-1.2.840.113654...</td>\n",
       "      <td>test</td>\n",
       "      <td>116981</td>\n",
       "      <td>2</td>\n",
       "      <td>1.2.840.113654.2.55.59492406653704762882979549...</td>\n",
       "    </tr>\n",
       "    <tr>\n",
       "      <th>41279</th>\n",
       "      <td>PID-116981__TimePoint-1__Series-1.2.840.113654...</td>\n",
       "      <td>test</td>\n",
       "      <td>116981</td>\n",
       "      <td>1</td>\n",
       "      <td>1.2.840.113654.2.55.64498551494685723700722207...</td>\n",
       "    </tr>\n",
       "  </tbody>\n",
       "</table>\n",
       "<p>41280 rows × 5 columns</p>\n",
       "</div>"
      ],
      "text/plain": [
       "                                                      id  split     pid  \\\n",
       "0      PID-204631__TimePoint-0__Series-1.3.6.1.4.1.14...  train  204631   \n",
       "1      PID-204631__TimePoint-1__Series-1.3.6.1.4.1.14...  train  204631   \n",
       "2      PID-204631__TimePoint-2__Series-1.3.6.1.4.1.14...  train  204631   \n",
       "3      PID-126153__TimePoint-2__Series-1.2.840.113654...  train  126153   \n",
       "4      PID-126153__TimePoint-1__Series-1.2.840.113654...  train  126153   \n",
       "...                                                  ...    ...     ...   \n",
       "41275  PID-133831__TimePoint-2__Series-1.2.840.113654...   test  133831   \n",
       "41276  PID-133831__TimePoint-0__Series-1.2.840.113654...   test  133831   \n",
       "41277  PID-116981__TimePoint-0__Series-1.2.840.113654...   test  116981   \n",
       "41278  PID-116981__TimePoint-2__Series-1.2.840.113654...   test  116981   \n",
       "41279  PID-116981__TimePoint-1__Series-1.2.840.113654...   test  116981   \n",
       "\n",
       "      timepoint                                  SeriesInstanceUID  \n",
       "0             0  1.3.6.1.4.1.14519.5.2.1.7009.9004.186764828479...  \n",
       "1             1  1.3.6.1.4.1.14519.5.2.1.7009.9004.154974321095...  \n",
       "2             2  1.3.6.1.4.1.14519.5.2.1.7009.9004.181632252038...  \n",
       "3             2  1.2.840.113654.2.55.43665829455927473870872470...  \n",
       "4             1  1.2.840.113654.2.55.18862732764668567267836753...  \n",
       "...         ...                                                ...  \n",
       "41275         2  1.2.840.113654.2.55.26279217761753193890516762...  \n",
       "41276         0  1.2.840.113654.2.55.23986337370551290634823184...  \n",
       "41277         0  1.2.840.113654.2.55.16179604920107519147811774...  \n",
       "41278         2  1.2.840.113654.2.55.59492406653704762882979549...  \n",
       "41279         1  1.2.840.113654.2.55.64498551494685723700722207...  \n",
       "\n",
       "[41280 rows x 5 columns]"
      ]
     },
     "execution_count": 9,
     "metadata": {},
     "output_type": "execute_result"
    }
   ],
   "source": [
    "import pickle\n",
    "import re\n",
    "\n",
    "SYBIL_SERIES_JSON_PATH = f\"{NLST_PREDS}/sybil-nlst-pid_tp_series2split.p\"\n",
    "\n",
    "sybil_siuid_dict = pickle.load(open(SYBIL_SERIES_JSON_PATH, \"rb\"))\n",
    "\n",
    "ids = list(sybil_siuid_dict.keys())\n",
    "splits = list(sybil_siuid_dict.values())\n",
    "pids = [re.split('PID-|__TimePoint-|__Series-', i)[1] for i in ids]\n",
    "timepoints = [re.split('PID-|__TimePoint-|__Series-', i)[2] for i in ids]\n",
    "siuids = [re.split('PID-|__TimePoint-|__Series-', i)[3] for i in ids]\n",
    "\n",
    "\n",
    "sybil_siuid_df = pd.DataFrame({'id': ids, 'split': splits, 'pid': pids, 'timepoint': timepoints, 'SeriesInstanceUID': siuids})\n",
    "sybil_siuid_df"
   ]
  },
  {
   "cell_type": "code",
   "execution_count": 14,
   "metadata": {},
   "outputs": [],
   "source": [
    "sybil_siuid_df.to_csv(f\"{NLST_PREDS}/sybil-nlst-splitinfo.csv\", index=False)"
   ]
  },
  {
   "cell_type": "code",
   "execution_count": 10,
   "metadata": {},
   "outputs": [
    {
     "data": {
      "text/plain": [
       "split\n",
       "train    28160\n",
       "dev       6838\n",
       "test      6282\n",
       "Name: count, dtype: int64"
      ]
     },
     "execution_count": 10,
     "metadata": {},
     "output_type": "execute_result"
    }
   ],
   "source": [
    "sybil_siuid_df['split'].value_counts()"
   ]
  },
  {
   "cell_type": "code",
   "execution_count": 12,
   "metadata": {},
   "outputs": [
    {
     "data": {
      "text/html": [
       "<div>\n",
       "<style scoped>\n",
       "    .dataframe tbody tr th:only-of-type {\n",
       "        vertical-align: middle;\n",
       "    }\n",
       "\n",
       "    .dataframe tbody tr th {\n",
       "        vertical-align: top;\n",
       "    }\n",
       "\n",
       "    .dataframe thead th {\n",
       "        text-align: right;\n",
       "    }\n",
       "</style>\n",
       "<table border=\"1\" class=\"dataframe\">\n",
       "  <thead>\n",
       "    <tr style=\"text-align: right;\">\n",
       "      <th></th>\n",
       "      <th>id</th>\n",
       "      <th>pid</th>\n",
       "      <th>timepoint</th>\n",
       "      <th>SeriesInstanceUID</th>\n",
       "    </tr>\n",
       "    <tr>\n",
       "      <th>split</th>\n",
       "      <th></th>\n",
       "      <th></th>\n",
       "      <th></th>\n",
       "      <th></th>\n",
       "    </tr>\n",
       "  </thead>\n",
       "  <tbody>\n",
       "    <tr>\n",
       "      <th>dev</th>\n",
       "      <td>6838</td>\n",
       "      <td>2336</td>\n",
       "      <td>3</td>\n",
       "      <td>6838</td>\n",
       "    </tr>\n",
       "    <tr>\n",
       "      <th>test</th>\n",
       "      <td>6282</td>\n",
       "      <td>2203</td>\n",
       "      <td>3</td>\n",
       "      <td>6282</td>\n",
       "    </tr>\n",
       "    <tr>\n",
       "      <th>train</th>\n",
       "      <td>28160</td>\n",
       "      <td>9646</td>\n",
       "      <td>3</td>\n",
       "      <td>28160</td>\n",
       "    </tr>\n",
       "  </tbody>\n",
       "</table>\n",
       "</div>"
      ],
      "text/plain": [
       "          id   pid  timepoint  SeriesInstanceUID\n",
       "split                                           \n",
       "dev     6838  2336          3               6838\n",
       "test    6282  2203          3               6282\n",
       "train  28160  9646          3              28160"
      ]
     },
     "execution_count": 12,
     "metadata": {},
     "output_type": "execute_result"
    }
   ],
   "source": [
    "sybil_siuid_df.groupby('split').nunique()"
   ]
  },
  {
   "cell_type": "code",
   "execution_count": 21,
   "metadata": {},
   "outputs": [
    {
     "name": "stdout",
     "output_type": "stream",
     "text": [
      "<class 'pandas.core.frame.DataFrame'>\n",
      "RangeIndex: 41280 entries, 0 to 41279\n",
      "Data columns (total 5 columns):\n",
      " #   Column             Non-Null Count  Dtype \n",
      "---  ------             --------------  ----- \n",
      " 0   id                 41280 non-null  object\n",
      " 1   split              41280 non-null  object\n",
      " 2   pid                41280 non-null  object\n",
      " 3   timepoint          41280 non-null  object\n",
      " 4   SeriesInstanceUID  41280 non-null  object\n",
      "dtypes: object(5)\n",
      "memory usage: 1.6+ MB\n"
     ]
    }
   ],
   "source": [
    "sybil_siuid_df.info()"
   ]
  },
  {
   "cell_type": "code",
   "execution_count": 66,
   "metadata": {},
   "outputs": [],
   "source": [
    "sybil_siuid_df['pid'] = sybil_siuid_df['pid'].astype(int)\n",
    "sybil_siuid_df['timepoint'] = sybil_siuid_df['timepoint'].astype(int)"
   ]
  },
  {
   "cell_type": "code",
   "execution_count": 67,
   "metadata": {},
   "outputs": [
    {
     "name": "stdout",
     "output_type": "stream",
     "text": [
      "<class 'pandas.core.frame.DataFrame'>\n",
      "RangeIndex: 41280 entries, 0 to 41279\n",
      "Data columns (total 5 columns):\n",
      " #   Column             Non-Null Count  Dtype \n",
      "---  ------             --------------  ----- \n",
      " 0   id                 41280 non-null  object\n",
      " 1   split              41280 non-null  object\n",
      " 2   pid                41280 non-null  int64 \n",
      " 3   timepoint          41280 non-null  int64 \n",
      " 4   SeriesInstanceUID  41280 non-null  object\n",
      "dtypes: int64(2), object(3)\n",
      "memory usage: 1.6+ MB\n"
     ]
    }
   ],
   "source": [
    "sybil_siuid_df.info()"
   ]
  },
  {
   "cell_type": "markdown",
   "metadata": {},
   "source": [
    "### Find intersections between Sybil and Kiran and Tijmen"
   ]
  },
  {
   "cell_type": "code",
   "execution_count": 19,
   "metadata": {},
   "outputs": [
    {
     "data": {
      "text/plain": [
       "(28160, 6838, 6282)"
      ]
     },
     "execution_count": 19,
     "metadata": {},
     "output_type": "execute_result"
    }
   ],
   "source": [
    "sybil_train_seriesids = pd.unique(sybil_siuid_df.query('split == \"train\"')['SeriesInstanceUID'])\n",
    "sybil_dev_seriesids = pd.unique(sybil_siuid_df.query('split == \"dev\"')['SeriesInstanceUID'])\n",
    "sybil_test_seriesids = pd.unique(sybil_siuid_df.query('split == \"test\"')['SeriesInstanceUID'])\n",
    "len(sybil_train_seriesids), len(sybil_dev_seriesids), len(sybil_test_seriesids)"
   ]
  },
  {
   "cell_type": "code",
   "execution_count": 20,
   "metadata": {},
   "outputs": [
    {
     "data": {
      "text/plain": [
       "(0, 0, 0)"
      ]
     },
     "execution_count": 20,
     "metadata": {},
     "output_type": "execute_result"
    }
   ],
   "source": [
    "## Sanity check\n",
    "set2 = set(sybil_train_seriesids).intersection(set(sybil_dev_seriesids))\n",
    "set3 = set(sybil_train_seriesids).intersection(set(sybil_test_seriesids))\n",
    "set4 = set(sybil_dev_seriesids).intersection(set(sybil_test_seriesids))\n",
    "len(set2), len(set3), len(set4)"
   ]
  },
  {
   "cell_type": "code",
   "execution_count": 21,
   "metadata": {},
   "outputs": [
    {
     "data": {
      "text/plain": [
       "10183"
      ]
     },
     "execution_count": 21,
     "metadata": {},
     "output_type": "execute_result"
    }
   ],
   "source": [
    "len(kiran_ser_iuids)"
   ]
  },
  {
   "cell_type": "code",
   "execution_count": 22,
   "metadata": {},
   "outputs": [
    {
     "data": {
      "text/plain": [
       "(4271, 947, 757, 5912)"
      ]
     },
     "execution_count": 22,
     "metadata": {},
     "output_type": "execute_result"
    }
   ],
   "source": [
    "match_train_ids = set(kiran_ser_iuids).intersection(set(sybil_train_seriesids))\n",
    "match_dev_ids = set(kiran_ser_iuids).intersection(set(sybil_dev_seriesids))\n",
    "match_test_ids = set(kiran_ser_iuids).intersection(set(sybil_test_seriesids))\n",
    "len(match_train_ids), len(match_dev_ids), len(match_test_ids), len(kiran_ser_iuids) - len(match_train_ids)"
   ]
  },
  {
   "cell_type": "code",
   "execution_count": 23,
   "metadata": {},
   "outputs": [
    {
     "data": {
      "text/plain": [
       "2062"
      ]
     },
     "execution_count": 23,
     "metadata": {},
     "output_type": "execute_result"
    }
   ],
   "source": [
    "nlst_tijmen = nlst_others[~nlst_others['Thijmen_mean'].isna()]\n",
    "tijmen_ser_iuids = pd.unique(nlst_tijmen['SeriesInstanceUID'])\n",
    "len(tijmen_ser_iuids)"
   ]
  },
  {
   "cell_type": "code",
   "execution_count": 24,
   "metadata": {},
   "outputs": [
    {
     "data": {
      "text/plain": [
       "(890, 197, 143, 1172)"
      ]
     },
     "execution_count": 24,
     "metadata": {},
     "output_type": "execute_result"
    }
   ],
   "source": [
    "match_train_ids2 = set(tijmen_ser_iuids).intersection(set(sybil_train_seriesids))\n",
    "match_dev_ids2 = set(tijmen_ser_iuids).intersection(set(sybil_dev_seriesids))\n",
    "match_test_ids2 = set(tijmen_ser_iuids).intersection(set(sybil_test_seriesids))\n",
    "len(match_train_ids2), len(match_dev_ids2), len(match_test_ids2), len(tijmen_ser_iuids) - len(match_train_ids2)"
   ]
  },
  {
   "cell_type": "code",
   "execution_count": 25,
   "metadata": {},
   "outputs": [
    {
     "data": {
      "text/plain": [
       "1172"
      ]
     },
     "execution_count": 25,
     "metadata": {},
     "output_type": "execute_result"
    }
   ],
   "source": [
    "sybil_siuids_to_use = set(tijmen_ser_iuids) - set(sybil_train_seriesids)\n",
    "len(sybil_siuids_to_use)"
   ]
  },
  {
   "cell_type": "code",
   "execution_count": 27,
   "metadata": {},
   "outputs": [
    {
     "data": {
      "text/plain": [
       "InSybilTrain\n",
       "False    9545\n",
       "True     6532\n",
       "Name: count, dtype: int64"
      ]
     },
     "execution_count": 27,
     "metadata": {},
     "output_type": "execute_result"
    }
   ],
   "source": [
    "nlst_preds = pd.read_csv(f'{NLST_PREDS}/nlst_demo_v1_w4preds.csv')\n",
    "nlst_preds['InSybilTrain'] = nlst_preds['SeriesInstanceUID'].isin(sybil_train_seriesids)\n",
    "nlst_preds['InSybilTrain'].value_counts()"
   ]
  },
  {
   "cell_type": "code",
   "execution_count": 30,
   "metadata": {},
   "outputs": [
    {
     "data": {
      "text/html": [
       "<div>\n",
       "<style scoped>\n",
       "    .dataframe tbody tr th:only-of-type {\n",
       "        vertical-align: middle;\n",
       "    }\n",
       "\n",
       "    .dataframe tbody tr th {\n",
       "        vertical-align: top;\n",
       "    }\n",
       "\n",
       "    .dataframe thead th {\n",
       "        text-align: right;\n",
       "    }\n",
       "</style>\n",
       "<table border=\"1\" class=\"dataframe\">\n",
       "  <thead>\n",
       "    <tr style=\"text-align: right;\">\n",
       "      <th></th>\n",
       "      <th>PatientID</th>\n",
       "      <th>StudyDate</th>\n",
       "      <th>SeriesInstanceUID</th>\n",
       "      <th>CoordX</th>\n",
       "      <th>CoordY</th>\n",
       "      <th>CoordZ</th>\n",
       "      <th>LesionID</th>\n",
       "      <th>NoduleType</th>\n",
       "      <th>Spiculation</th>\n",
       "      <th>Diameter [mm]</th>\n",
       "      <th>...</th>\n",
       "      <th>cancnasa</th>\n",
       "      <th>cancoral</th>\n",
       "      <th>cancpanc</th>\n",
       "      <th>cancphar</th>\n",
       "      <th>cancstom</th>\n",
       "      <th>cancthyr</th>\n",
       "      <th>canctran</th>\n",
       "      <th>study</th>\n",
       "      <th>Thijmen_local</th>\n",
       "      <th>InSybilTrain</th>\n",
       "    </tr>\n",
       "  </thead>\n",
       "  <tbody>\n",
       "    <tr>\n",
       "      <th>0</th>\n",
       "      <td>100012</td>\n",
       "      <td>19990102</td>\n",
       "      <td>1.2.840.113654.2.55.24023112856488152536348979...</td>\n",
       "      <td>-32.919853</td>\n",
       "      <td>-136.22139</td>\n",
       "      <td>-90.400002</td>\n",
       "      <td>1</td>\n",
       "      <td>Solid</td>\n",
       "      <td>False</td>\n",
       "      <td>11.5</td>\n",
       "      <td>...</td>\n",
       "      <td>0.0</td>\n",
       "      <td>0.0</td>\n",
       "      <td>0.0</td>\n",
       "      <td>0.0</td>\n",
       "      <td>0.0</td>\n",
       "      <td>0.0</td>\n",
       "      <td>0.0</td>\n",
       "      <td>1</td>\n",
       "      <td>0.968842</td>\n",
       "      <td>False</td>\n",
       "    </tr>\n",
       "    <tr>\n",
       "      <th>1</th>\n",
       "      <td>100012</td>\n",
       "      <td>20000102</td>\n",
       "      <td>1.2.840.113654.2.55.50761756412482430061802871...</td>\n",
       "      <td>-47.650000</td>\n",
       "      <td>-130.37000</td>\n",
       "      <td>1222.350000</td>\n",
       "      <td>1</td>\n",
       "      <td>PartSolid</td>\n",
       "      <td>False</td>\n",
       "      <td>23.4</td>\n",
       "      <td>...</td>\n",
       "      <td>0.0</td>\n",
       "      <td>0.0</td>\n",
       "      <td>0.0</td>\n",
       "      <td>0.0</td>\n",
       "      <td>0.0</td>\n",
       "      <td>0.0</td>\n",
       "      <td>0.0</td>\n",
       "      <td>1</td>\n",
       "      <td>0.984129</td>\n",
       "      <td>False</td>\n",
       "    </tr>\n",
       "    <tr>\n",
       "      <th>2</th>\n",
       "      <td>100019</td>\n",
       "      <td>20000102</td>\n",
       "      <td>1.2.840.113654.2.55.12567845460924968711329545...</td>\n",
       "      <td>-103.190000</td>\n",
       "      <td>74.01000</td>\n",
       "      <td>-1129.370000</td>\n",
       "      <td>1</td>\n",
       "      <td>Solid</td>\n",
       "      <td>False</td>\n",
       "      <td>10.6</td>\n",
       "      <td>...</td>\n",
       "      <td>0.0</td>\n",
       "      <td>0.0</td>\n",
       "      <td>0.0</td>\n",
       "      <td>0.0</td>\n",
       "      <td>0.0</td>\n",
       "      <td>0.0</td>\n",
       "      <td>0.0</td>\n",
       "      <td>1</td>\n",
       "      <td>0.919277</td>\n",
       "      <td>False</td>\n",
       "    </tr>\n",
       "    <tr>\n",
       "      <th>3</th>\n",
       "      <td>100035</td>\n",
       "      <td>19990102</td>\n",
       "      <td>1.2.840.113654.2.55.64360087057061878755830205...</td>\n",
       "      <td>124.670000</td>\n",
       "      <td>5.85000</td>\n",
       "      <td>-193.590000</td>\n",
       "      <td>1</td>\n",
       "      <td>Solid</td>\n",
       "      <td>False</td>\n",
       "      <td>5.0</td>\n",
       "      <td>...</td>\n",
       "      <td>0.0</td>\n",
       "      <td>0.0</td>\n",
       "      <td>0.0</td>\n",
       "      <td>0.0</td>\n",
       "      <td>0.0</td>\n",
       "      <td>0.0</td>\n",
       "      <td>0.0</td>\n",
       "      <td>1</td>\n",
       "      <td>0.002378</td>\n",
       "      <td>True</td>\n",
       "    </tr>\n",
       "    <tr>\n",
       "      <th>4</th>\n",
       "      <td>100035</td>\n",
       "      <td>20000102</td>\n",
       "      <td>1.2.840.113654.2.55.33941066798745864774354503...</td>\n",
       "      <td>127.360000</td>\n",
       "      <td>-2.95000</td>\n",
       "      <td>-184.570000</td>\n",
       "      <td>1</td>\n",
       "      <td>Solid</td>\n",
       "      <td>False</td>\n",
       "      <td>4.8</td>\n",
       "      <td>...</td>\n",
       "      <td>0.0</td>\n",
       "      <td>0.0</td>\n",
       "      <td>0.0</td>\n",
       "      <td>0.0</td>\n",
       "      <td>0.0</td>\n",
       "      <td>0.0</td>\n",
       "      <td>0.0</td>\n",
       "      <td>1</td>\n",
       "      <td>0.000555</td>\n",
       "      <td>False</td>\n",
       "    </tr>\n",
       "  </tbody>\n",
       "</table>\n",
       "<p>5 rows × 90 columns</p>\n",
       "</div>"
      ],
      "text/plain": [
       "   PatientID  StudyDate                                  SeriesInstanceUID  \\\n",
       "0     100012   19990102  1.2.840.113654.2.55.24023112856488152536348979...   \n",
       "1     100012   20000102  1.2.840.113654.2.55.50761756412482430061802871...   \n",
       "2     100019   20000102  1.2.840.113654.2.55.12567845460924968711329545...   \n",
       "3     100035   19990102  1.2.840.113654.2.55.64360087057061878755830205...   \n",
       "4     100035   20000102  1.2.840.113654.2.55.33941066798745864774354503...   \n",
       "\n",
       "       CoordX     CoordY       CoordZ  LesionID NoduleType  Spiculation  \\\n",
       "0  -32.919853 -136.22139   -90.400002         1      Solid        False   \n",
       "1  -47.650000 -130.37000  1222.350000         1  PartSolid        False   \n",
       "2 -103.190000   74.01000 -1129.370000         1      Solid        False   \n",
       "3  124.670000    5.85000  -193.590000         1      Solid        False   \n",
       "4  127.360000   -2.95000  -184.570000         1      Solid        False   \n",
       "\n",
       "   Diameter [mm]  ...  cancnasa  cancoral  cancpanc  cancphar  cancstom  \\\n",
       "0           11.5  ...       0.0       0.0       0.0       0.0       0.0   \n",
       "1           23.4  ...       0.0       0.0       0.0       0.0       0.0   \n",
       "2           10.6  ...       0.0       0.0       0.0       0.0       0.0   \n",
       "3            5.0  ...       0.0       0.0       0.0       0.0       0.0   \n",
       "4            4.8  ...       0.0       0.0       0.0       0.0       0.0   \n",
       "\n",
       "   cancthyr  canctran  study  Thijmen_local  InSybilTrain  \n",
       "0       0.0       0.0      1       0.968842         False  \n",
       "1       0.0       0.0      1       0.984129         False  \n",
       "2       0.0       0.0      1       0.919277         False  \n",
       "3       0.0       0.0      1       0.002378          True  \n",
       "4       0.0       0.0      1       0.000555         False  \n",
       "\n",
       "[5 rows x 90 columns]"
      ]
     },
     "execution_count": 30,
     "metadata": {},
     "output_type": "execute_result"
    }
   ],
   "source": [
    "nlst_preds.to_csv()"
   ]
  },
  {
   "cell_type": "code",
   "execution_count": 29,
   "metadata": {},
   "outputs": [
    {
     "data": {
      "text/plain": [
       "InSybilTrain\n",
       "False    5912\n",
       "True     4271\n",
       "Name: count, dtype: int64"
      ]
     },
     "execution_count": 29,
     "metadata": {},
     "output_type": "execute_result"
    }
   ],
   "source": [
    "nlst_preds.drop_duplicates(subset=['SeriesInstanceUID'])['InSybilTrain'].value_counts()"
   ]
  },
  {
   "cell_type": "code",
   "execution_count": 32,
   "metadata": {},
   "outputs": [
    {
     "data": {
      "text/plain": [
       "1172"
      ]
     },
     "execution_count": 32,
     "metadata": {},
     "output_type": "execute_result"
    }
   ],
   "source": [
    "nlst_preds[(~nlst_preds['Thijmen_mean'].isna()) & (nlst_preds['InSybilTrain'] == False)]['SeriesInstanceUID'].nunique()"
   ]
  },
  {
   "cell_type": "code",
   "execution_count": 33,
   "metadata": {},
   "outputs": [],
   "source": [
    "nlst_preds.to_csv(f'{NLST_PREDS}/nlst_demo_v1_w4preds.csv', index=False)"
   ]
  },
  {
   "cell_type": "markdown",
   "metadata": {},
   "source": [
    "## Get Demographic info for Sybil data split"
   ]
  },
  {
   "cell_type": "code",
   "execution_count": 3,
   "metadata": {},
   "outputs": [
    {
     "data": {
      "text/plain": [
       "14185"
      ]
     },
     "execution_count": 3,
     "metadata": {},
     "output_type": "execute_result"
    }
   ],
   "source": [
    "sybil_siuid_df = pd.read_csv(f\"{NLST_PREDS}/sybil-nlst-splitinfo.csv\")\n",
    "sybil_siuid_df['pid'] = sybil_siuid_df['pid'].astype(int)\n",
    "sybil_siuid_df['timepoint'] = sybil_siuid_df['timepoint'].astype(int)\n",
    "sybil_siuid_df['pid'].nunique()\n",
    "# sybil_siuid_df.info()"
   ]
  },
  {
   "cell_type": "code",
   "execution_count": 4,
   "metadata": {},
   "outputs": [],
   "source": [
    "with open(f'{NLST_PREDS}/nlst_demo_v4_cols.json') as json_data:\n",
    "    nlst_democols = json.load(json_data)\n",
    "    json_data.close()"
   ]
  },
  {
   "cell_type": "code",
   "execution_count": 5,
   "metadata": {},
   "outputs": [
    {
     "data": {
      "text/plain": [
       "{'num': {'demo': ['height', 'weight', 'Age', 'BMI'],\n",
       "  'smoke': ['pkyr', 'smokeage', 'smokeday', 'smokeyr'],\n",
       "  'nodule': ['CoordX', 'CoordY', 'CoordZ'],\n",
       "  'other': ['NoduleCounts', 'Diameter [mm]'],\n",
       "  'lungcanc': ['LC_stage']},\n",
       " 'cat': {'demo': ['marital',\n",
       "   'educat',\n",
       "   'race',\n",
       "   'ethnic',\n",
       "   'Gender',\n",
       "   'Married',\n",
       "   'NonHispanicWhite',\n",
       "   'HighSchoolPlus'],\n",
       "  'smoke': ['cigar', 'cigsmok', 'pipe', 'smokelive', 'smokework'],\n",
       "  'work': ['wrkasbe',\n",
       "   'wrkbaki',\n",
       "   'wrkbutc',\n",
       "   'wrkchem',\n",
       "   'wrkcoal',\n",
       "   'wrkcott',\n",
       "   'wrkfarm',\n",
       "   'wrkfire',\n",
       "   'wrkflou',\n",
       "   'wrkfoun',\n",
       "   'wrkhard',\n",
       "   'wrkpain',\n",
       "   'wrksand',\n",
       "   'wrkweld'],\n",
       "  'disease': ['diagadas',\n",
       "   'diagasbe',\n",
       "   'diagbron',\n",
       "   'diagchas',\n",
       "   'diagchro',\n",
       "   'diagcopd',\n",
       "   'diagdiab',\n",
       "   'diagemph',\n",
       "   'diagfibr',\n",
       "   'diaghear',\n",
       "   'diaghype',\n",
       "   'diagpneu',\n",
       "   'diagsarc',\n",
       "   'diagsili',\n",
       "   'diagstro',\n",
       "   'diagtube'],\n",
       "  'canchist': ['cancblad',\n",
       "   'cancbrea',\n",
       "   'canccerv',\n",
       "   'canccolo',\n",
       "   'cancesop',\n",
       "   'canckidn',\n",
       "   'canclary',\n",
       "   'canclung',\n",
       "   'cancnasa',\n",
       "   'cancoral',\n",
       "   'cancpanc',\n",
       "   'cancphar',\n",
       "   'cancstom',\n",
       "   'cancthyr',\n",
       "   'canctran'],\n",
       "  'nodule': ['Spiculation',\n",
       "   'NoduleInUpperLung',\n",
       "   'Solid',\n",
       "   'GroundGlassOpacity',\n",
       "   'Perifissural',\n",
       "   'NonSolid',\n",
       "   'PartSolid',\n",
       "   'SemiSolid',\n",
       "   'Calcified'],\n",
       "  'other': ['wrknomask',\n",
       "   'FamilyHistoryLungCa',\n",
       "   'PersonalCancerHist',\n",
       "   'Emphysema'],\n",
       "  'lungcanc': ['Small_cell_carcinoma',\n",
       "   'Squamous_cell_carcinoma',\n",
       "   'Adenocarcinoma',\n",
       "   'Bronchiolo-alveolar_carcinoma',\n",
       "   'Large_cell_carcinoma',\n",
       "   'Adenosquamous_carcinoma',\n",
       "   'Carcinoid_tumor',\n",
       "   'Unclassified_carcinoma',\n",
       "   'LC_stage']},\n",
       " 'info': ['PatientID', 'study']}"
      ]
     },
     "execution_count": 5,
     "metadata": {},
     "output_type": "execute_result"
    }
   ],
   "source": [
    "nlst_democols"
   ]
  },
  {
   "cell_type": "code",
   "execution_count": 6,
   "metadata": {},
   "outputs": [
    {
     "data": {
      "text/plain": [
       "82"
      ]
     },
     "execution_count": 6,
     "metadata": {},
     "output_type": "execute_result"
    }
   ],
   "source": [
    "cols_num = sum(nlst_democols['num'].values(), start=[])\n",
    "cols_cat = sum(nlst_democols['cat'].values(), start=[])\n",
    "cols_num = list(set(cols_num) - set(nlst_democols['num']['nodule'] + nlst_democols['num']['other']))\n",
    "cols_cat = list(set(cols_cat) - set(nlst_democols['cat']['nodule']))\n",
    "cols_list = cols_num + cols_cat + nlst_democols['info']\n",
    "len(cols_list)"
   ]
  },
  {
   "cell_type": "code",
   "execution_count": 7,
   "metadata": {},
   "outputs": [
    {
     "name": "stderr",
     "output_type": "stream",
     "text": [
      "C:\\Users\\shaur\\AppData\\Local\\Temp\\ipykernel_22504\\2896154133.py:1: DtypeWarning: Columns (239,240,348) have mixed types. Specify dtype option on import or set low_memory=False.\n",
      "  nlst_dict_full = pd.read_csv(f\"{NLST_PREDS}/participant_d040722.csv\")\n"
     ]
    },
    {
     "name": "stdout",
     "output_type": "stream",
     "text": [
      "<class 'pandas.core.frame.DataFrame'>\n",
      "RangeIndex: 53452 entries, 0 to 53451\n",
      "Columns: 356 entries, cen to evpsent\n",
      "dtypes: float64(283), int64(64), object(9)\n",
      "memory usage: 145.2+ MB\n"
     ]
    }
   ],
   "source": [
    "nlst_dict_full = pd.read_csv(f\"{NLST_PREDS}/participant_d040722.csv\")\n",
    "nlst_dict_full.info()"
   ]
  },
  {
   "cell_type": "code",
   "execution_count": 8,
   "metadata": {},
   "outputs": [
    {
     "name": "stdout",
     "output_type": "stream",
     "text": [
      "<class 'pandas.core.frame.DataFrame'>\n",
      "RangeIndex: 14185 entries, 0 to 14184\n",
      "Columns: 356 entries, cen to evpsent\n",
      "dtypes: float64(283), int64(64), object(9)\n",
      "memory usage: 38.5+ MB\n"
     ]
    }
   ],
   "source": [
    "df = nlst_dict_full[nlst_dict_full['pid'].isin(sybil_siuid_df['pid'])].reset_index(drop=True)\n",
    "df.info()"
   ]
  },
  {
   "cell_type": "markdown",
   "metadata": {},
   "source": [
    "### replicate column aggregrations"
   ]
  },
  {
   "cell_type": "code",
   "execution_count": 9,
   "metadata": {},
   "outputs": [],
   "source": [
    "worktypes = ['asbe', 'baki', 'butc', 'chem', 'coal', 'cott', 'farm', 'fire', 'flou', 'foun', 'hard', 'pain', 'sand', 'weld']\n",
    "for t in worktypes:\n",
    "    nomask = df[f'res{t}'] == 0\n",
    "    df[f'wrknomask{t}'] = nomask\n",
    "\n",
    "df['wrknomask'] = df[[f'wrknomask{t}' for t in worktypes]].any(axis=1)"
   ]
  },
  {
   "cell_type": "code",
   "execution_count": 10,
   "metadata": {},
   "outputs": [
    {
     "data": {
      "text/plain": [
       "NonHispanicWhite\n",
       "True     12808\n",
       "False     1377\n",
       "Name: count, dtype: int64"
      ]
     },
     "execution_count": 10,
     "metadata": {},
     "output_type": "execute_result"
    }
   ],
   "source": [
    "df['NonHispanicWhite'] = (df['race'] == 1.0) & (df['ethnic'] == 2.0)\n",
    "df['NonHispanicWhite'].value_counts(dropna=False)"
   ]
  },
  {
   "cell_type": "code",
   "execution_count": 11,
   "metadata": {},
   "outputs": [
    {
     "data": {
      "text/plain": [
       "HighSchoolPlus\n",
       "True     13998\n",
       "False      187\n",
       "Name: count, dtype: int64"
      ]
     },
     "execution_count": 11,
     "metadata": {},
     "output_type": "execute_result"
    }
   ],
   "source": [
    "df['HighSchoolPlus'] = (df['educat'] != 1.0)\n",
    "df['HighSchoolPlus'].value_counts(dropna=False)"
   ]
  },
  {
   "cell_type": "code",
   "execution_count": 12,
   "metadata": {},
   "outputs": [
    {
     "data": {
      "text/plain": [
       "Married\n",
       "True     9673\n",
       "False    4512\n",
       "Name: count, dtype: int64"
      ]
     },
     "execution_count": 12,
     "metadata": {},
     "output_type": "execute_result"
    }
   ],
   "source": [
    "df['Married'] = (df['marital'] == 2.0)\n",
    "df['Married'].value_counts(dropna=False)"
   ]
  },
  {
   "cell_type": "code",
   "execution_count": 13,
   "metadata": {},
   "outputs": [
    {
     "data": {
      "text/plain": [
       "PersonalCancerHist\n",
       "False    13622\n",
       "True       563\n",
       "Name: count, dtype: int64"
      ]
     },
     "execution_count": 13,
     "metadata": {},
     "output_type": "execute_result"
    }
   ],
   "source": [
    "onlycancertypes = list(set(nlst_democols['cat']['canchist']) - set(['FamilyHistoryLungCa'])) \n",
    "df['PersonalCancerHist'] = df[onlycancertypes].any(axis=1)\n",
    "df['PersonalCancerHist'].value_counts(dropna=False)"
   ]
  },
  {
   "cell_type": "code",
   "execution_count": 14,
   "metadata": {},
   "outputs": [
    {
     "data": {
      "text/plain": [
       "FamilyHistoryLungCa\n",
       "False    11058\n",
       "True      3127\n",
       "Name: count, dtype: int64"
      ]
     },
     "execution_count": 14,
     "metadata": {},
     "output_type": "execute_result"
    }
   ],
   "source": [
    "relatives = ['brother', 'sister', 'child', 'father', 'mother']\n",
    "col_famhist = ['fam'+member for member in relatives]\n",
    "df['FamilyHistoryLungCa'] = df[col_famhist].any(axis=1)\n",
    "df['FamilyHistoryLungCa'].value_counts(dropna=False)"
   ]
  },
  {
   "cell_type": "code",
   "execution_count": 15,
   "metadata": {},
   "outputs": [],
   "source": [
    "df['LC_stage'] = df['de_stag_7thed'].replace([999], value=np.nan, inplace=False)"
   ]
  },
  {
   "cell_type": "code",
   "execution_count": 16,
   "metadata": {},
   "outputs": [
    {
     "data": {
      "text/plain": [
       "0        26.605753\n",
       "1        29.411224\n",
       "2        34.453108\n",
       "3        30.406574\n",
       "4        22.237915\n",
       "           ...    \n",
       "14180    37.029831\n",
       "14181    31.321007\n",
       "14182    22.804931\n",
       "14183    23.324846\n",
       "14184    31.926903\n",
       "Name: BMI, Length: 14185, dtype: float64"
      ]
     },
     "execution_count": 16,
     "metadata": {},
     "output_type": "execute_result"
    }
   ],
   "source": [
    "df['BMI'] = df.apply(lambda x: utils.bmi_calc(x['height'], x['weight']), axis=1)\n",
    "df['BMI']"
   ]
  },
  {
   "cell_type": "code",
   "execution_count": 17,
   "metadata": {},
   "outputs": [],
   "source": [
    "df['Age'] = df['age']\n",
    "df['Gender'] = df['gender']\n",
    "df['Emphysema'] = df['diagemph']"
   ]
  },
  {
   "cell_type": "code",
   "execution_count": 18,
   "metadata": {},
   "outputs": [
    {
     "data": {
      "text/html": [
       "<div>\n",
       "<style scoped>\n",
       "    .dataframe tbody tr th:only-of-type {\n",
       "        vertical-align: middle;\n",
       "    }\n",
       "\n",
       "    .dataframe tbody tr th {\n",
       "        vertical-align: top;\n",
       "    }\n",
       "\n",
       "    .dataframe thead th {\n",
       "        text-align: right;\n",
       "    }\n",
       "</style>\n",
       "<table border=\"1\" class=\"dataframe\">\n",
       "  <thead>\n",
       "    <tr style=\"text-align: right;\">\n",
       "      <th>LC_type</th>\n",
       "      <th>NaN</th>\n",
       "      <th>Adenocarcinoma</th>\n",
       "      <th>Squamous_cell_carcinoma</th>\n",
       "      <th>Small_cell_carcinoma</th>\n",
       "      <th>Unclassified_carcinoma</th>\n",
       "      <th>Bronchiolo-alveolar_carcinoma</th>\n",
       "      <th>Large_cell_carcinoma</th>\n",
       "      <th>Adenosquamous_carcinoma</th>\n",
       "      <th>Carcinoid_tumor</th>\n",
       "      <th>Pleomorphic/sarcomatoid</th>\n",
       "    </tr>\n",
       "  </thead>\n",
       "  <tbody>\n",
       "    <tr>\n",
       "      <th>M</th>\n",
       "      <td>7785.0</td>\n",
       "      <td>204.0</td>\n",
       "      <td>165.0</td>\n",
       "      <td>77.0</td>\n",
       "      <td>67.0</td>\n",
       "      <td>45.0</td>\n",
       "      <td>22.0</td>\n",
       "      <td>8.0</td>\n",
       "      <td>3.0</td>\n",
       "      <td>NaN</td>\n",
       "    </tr>\n",
       "    <tr>\n",
       "      <th>F</th>\n",
       "      <td>5415.0</td>\n",
       "      <td>157.0</td>\n",
       "      <td>60.0</td>\n",
       "      <td>47.0</td>\n",
       "      <td>51.0</td>\n",
       "      <td>58.0</td>\n",
       "      <td>13.0</td>\n",
       "      <td>4.0</td>\n",
       "      <td>3.0</td>\n",
       "      <td>1.0</td>\n",
       "    </tr>\n",
       "  </tbody>\n",
       "</table>\n",
       "</div>"
      ],
      "text/plain": [
       "LC_type     NaN  Adenocarcinoma  Squamous_cell_carcinoma  \\\n",
       "M        7785.0           204.0                    165.0   \n",
       "F        5415.0           157.0                     60.0   \n",
       "\n",
       "LC_type  Small_cell_carcinoma  Unclassified_carcinoma  \\\n",
       "M                        77.0                    67.0   \n",
       "F                        47.0                    51.0   \n",
       "\n",
       "LC_type  Bronchiolo-alveolar_carcinoma  Large_cell_carcinoma  \\\n",
       "M                                 45.0                  22.0   \n",
       "F                                 58.0                  13.0   \n",
       "\n",
       "LC_type  Adenosquamous_carcinoma  Carcinoid_tumor  Pleomorphic/sarcomatoid  \n",
       "M                            8.0              3.0                      NaN  \n",
       "F                            4.0              3.0                      1.0  "
      ]
     },
     "metadata": {},
     "output_type": "display_data"
    }
   ],
   "source": [
    "histology_cat_key = {\n",
    "    1: \"Small_cell_carcinoma\",\n",
    "    2: \"Squamous_cell_carcinoma\",\n",
    "    3: \"Adenocarcinoma\",\n",
    "    4: \"Bronchiolo-alveolar_carcinoma\",\n",
    "    5: \"Large_cell_carcinoma\",\n",
    "    6: \"Adenosquamous_carcinoma\",\n",
    "    7: \"Pleomorphic/sarcomatoid\",\n",
    "    8: \"Carcinoid_tumor\",\n",
    "    9: \"Unclassified_carcinoma\",\n",
    "}\n",
    "\n",
    "df['LC_type'] = df['histology_cat'].replace(histology_cat_key)\n",
    "display(pd.DataFrame([df.query(f'gender == {i}')['LC_type'].value_counts(dropna=False) for i in [1,2]], index=['M','F']))"
   ]
  },
  {
   "cell_type": "code",
   "execution_count": 19,
   "metadata": {},
   "outputs": [
    {
     "data": {
      "text/html": [
       "<div>\n",
       "<style scoped>\n",
       "    .dataframe tbody tr th:only-of-type {\n",
       "        vertical-align: middle;\n",
       "    }\n",
       "\n",
       "    .dataframe tbody tr th {\n",
       "        vertical-align: top;\n",
       "    }\n",
       "\n",
       "    .dataframe thead th {\n",
       "        text-align: right;\n",
       "    }\n",
       "</style>\n",
       "<table border=\"1\" class=\"dataframe\">\n",
       "  <thead>\n",
       "    <tr style=\"text-align: right;\">\n",
       "      <th></th>\n",
       "      <th>cen</th>\n",
       "      <th>dataset_version</th>\n",
       "      <th>elig</th>\n",
       "      <th>ineligible</th>\n",
       "      <th>pid</th>\n",
       "      <th>rndgroup</th>\n",
       "      <th>study</th>\n",
       "      <th>age</th>\n",
       "      <th>educat</th>\n",
       "      <th>ethnic</th>\n",
       "      <th>...</th>\n",
       "      <th>Emphysema</th>\n",
       "      <th>Adenocarcinoma</th>\n",
       "      <th>Adenosquamous_carcinoma</th>\n",
       "      <th>Bronchiolo-alveolar_carcinoma</th>\n",
       "      <th>Carcinoid_tumor</th>\n",
       "      <th>Large_cell_carcinoma</th>\n",
       "      <th>Pleomorphic/sarcomatoid</th>\n",
       "      <th>Small_cell_carcinoma</th>\n",
       "      <th>Squamous_cell_carcinoma</th>\n",
       "      <th>Unclassified_carcinoma</th>\n",
       "    </tr>\n",
       "  </thead>\n",
       "  <tbody>\n",
       "    <tr>\n",
       "      <th>0</th>\n",
       "      <td>AF</td>\n",
       "      <td>2011.02.03/04.07.22</td>\n",
       "      <td>2</td>\n",
       "      <td>NaN</td>\n",
       "      <td>100002</td>\n",
       "      <td>1</td>\n",
       "      <td>1</td>\n",
       "      <td>66</td>\n",
       "      <td>3</td>\n",
       "      <td>2</td>\n",
       "      <td>...</td>\n",
       "      <td>0.0</td>\n",
       "      <td>False</td>\n",
       "      <td>False</td>\n",
       "      <td>False</td>\n",
       "      <td>False</td>\n",
       "      <td>False</td>\n",
       "      <td>False</td>\n",
       "      <td>False</td>\n",
       "      <td>False</td>\n",
       "      <td>False</td>\n",
       "    </tr>\n",
       "    <tr>\n",
       "      <th>1</th>\n",
       "      <td>AF</td>\n",
       "      <td>2011.02.03/04.07.22</td>\n",
       "      <td>2</td>\n",
       "      <td>NaN</td>\n",
       "      <td>100004</td>\n",
       "      <td>1</td>\n",
       "      <td>1</td>\n",
       "      <td>60</td>\n",
       "      <td>5</td>\n",
       "      <td>2</td>\n",
       "      <td>...</td>\n",
       "      <td>0.0</td>\n",
       "      <td>False</td>\n",
       "      <td>False</td>\n",
       "      <td>False</td>\n",
       "      <td>False</td>\n",
       "      <td>False</td>\n",
       "      <td>False</td>\n",
       "      <td>False</td>\n",
       "      <td>False</td>\n",
       "      <td>False</td>\n",
       "    </tr>\n",
       "    <tr>\n",
       "      <th>2</th>\n",
       "      <td>AA</td>\n",
       "      <td>2011.02.03/04.07.22</td>\n",
       "      <td>2</td>\n",
       "      <td>NaN</td>\n",
       "      <td>100005</td>\n",
       "      <td>1</td>\n",
       "      <td>1</td>\n",
       "      <td>64</td>\n",
       "      <td>2</td>\n",
       "      <td>2</td>\n",
       "      <td>...</td>\n",
       "      <td>0.0</td>\n",
       "      <td>False</td>\n",
       "      <td>False</td>\n",
       "      <td>False</td>\n",
       "      <td>False</td>\n",
       "      <td>False</td>\n",
       "      <td>False</td>\n",
       "      <td>False</td>\n",
       "      <td>False</td>\n",
       "      <td>False</td>\n",
       "    </tr>\n",
       "    <tr>\n",
       "      <th>3</th>\n",
       "      <td>AO</td>\n",
       "      <td>2011.02.03/04.07.22</td>\n",
       "      <td>2</td>\n",
       "      <td>NaN</td>\n",
       "      <td>100010</td>\n",
       "      <td>1</td>\n",
       "      <td>1</td>\n",
       "      <td>68</td>\n",
       "      <td>5</td>\n",
       "      <td>2</td>\n",
       "      <td>...</td>\n",
       "      <td>0.0</td>\n",
       "      <td>False</td>\n",
       "      <td>False</td>\n",
       "      <td>False</td>\n",
       "      <td>False</td>\n",
       "      <td>False</td>\n",
       "      <td>False</td>\n",
       "      <td>False</td>\n",
       "      <td>False</td>\n",
       "      <td>False</td>\n",
       "    </tr>\n",
       "    <tr>\n",
       "      <th>4</th>\n",
       "      <td>AV</td>\n",
       "      <td>2011.02.03/04.07.22</td>\n",
       "      <td>2</td>\n",
       "      <td>NaN</td>\n",
       "      <td>100012</td>\n",
       "      <td>1</td>\n",
       "      <td>1</td>\n",
       "      <td>61</td>\n",
       "      <td>7</td>\n",
       "      <td>2</td>\n",
       "      <td>...</td>\n",
       "      <td>0.0</td>\n",
       "      <td>True</td>\n",
       "      <td>False</td>\n",
       "      <td>False</td>\n",
       "      <td>False</td>\n",
       "      <td>False</td>\n",
       "      <td>False</td>\n",
       "      <td>False</td>\n",
       "      <td>False</td>\n",
       "      <td>False</td>\n",
       "    </tr>\n",
       "    <tr>\n",
       "      <th>...</th>\n",
       "      <td>...</td>\n",
       "      <td>...</td>\n",
       "      <td>...</td>\n",
       "      <td>...</td>\n",
       "      <td>...</td>\n",
       "      <td>...</td>\n",
       "      <td>...</td>\n",
       "      <td>...</td>\n",
       "      <td>...</td>\n",
       "      <td>...</td>\n",
       "      <td>...</td>\n",
       "      <td>...</td>\n",
       "      <td>...</td>\n",
       "      <td>...</td>\n",
       "      <td>...</td>\n",
       "      <td>...</td>\n",
       "      <td>...</td>\n",
       "      <td>...</td>\n",
       "      <td>...</td>\n",
       "      <td>...</td>\n",
       "      <td>...</td>\n",
       "    </tr>\n",
       "    <tr>\n",
       "      <th>14180</th>\n",
       "      <td>BE</td>\n",
       "      <td>2011.02.03/04.07.22</td>\n",
       "      <td>2</td>\n",
       "      <td>NaN</td>\n",
       "      <td>218871</td>\n",
       "      <td>1</td>\n",
       "      <td>2</td>\n",
       "      <td>72</td>\n",
       "      <td>5</td>\n",
       "      <td>2</td>\n",
       "      <td>...</td>\n",
       "      <td>1.0</td>\n",
       "      <td>False</td>\n",
       "      <td>False</td>\n",
       "      <td>False</td>\n",
       "      <td>False</td>\n",
       "      <td>False</td>\n",
       "      <td>False</td>\n",
       "      <td>False</td>\n",
       "      <td>False</td>\n",
       "      <td>False</td>\n",
       "    </tr>\n",
       "    <tr>\n",
       "      <th>14181</th>\n",
       "      <td>BB</td>\n",
       "      <td>2011.02.03/04.07.22</td>\n",
       "      <td>2</td>\n",
       "      <td>NaN</td>\n",
       "      <td>218872</td>\n",
       "      <td>1</td>\n",
       "      <td>3</td>\n",
       "      <td>57</td>\n",
       "      <td>3</td>\n",
       "      <td>2</td>\n",
       "      <td>...</td>\n",
       "      <td>0.0</td>\n",
       "      <td>False</td>\n",
       "      <td>False</td>\n",
       "      <td>False</td>\n",
       "      <td>False</td>\n",
       "      <td>False</td>\n",
       "      <td>False</td>\n",
       "      <td>False</td>\n",
       "      <td>False</td>\n",
       "      <td>False</td>\n",
       "    </tr>\n",
       "    <tr>\n",
       "      <th>14182</th>\n",
       "      <td>AB</td>\n",
       "      <td>2011.02.03/04.07.22</td>\n",
       "      <td>2</td>\n",
       "      <td>NaN</td>\n",
       "      <td>218888</td>\n",
       "      <td>1</td>\n",
       "      <td>3</td>\n",
       "      <td>58</td>\n",
       "      <td>5</td>\n",
       "      <td>2</td>\n",
       "      <td>...</td>\n",
       "      <td>0.0</td>\n",
       "      <td>False</td>\n",
       "      <td>False</td>\n",
       "      <td>False</td>\n",
       "      <td>False</td>\n",
       "      <td>False</td>\n",
       "      <td>False</td>\n",
       "      <td>False</td>\n",
       "      <td>False</td>\n",
       "      <td>False</td>\n",
       "    </tr>\n",
       "    <tr>\n",
       "      <th>14183</th>\n",
       "      <td>BF</td>\n",
       "      <td>2011.02.03/04.07.22</td>\n",
       "      <td>2</td>\n",
       "      <td>NaN</td>\n",
       "      <td>218892</td>\n",
       "      <td>1</td>\n",
       "      <td>2</td>\n",
       "      <td>56</td>\n",
       "      <td>5</td>\n",
       "      <td>2</td>\n",
       "      <td>...</td>\n",
       "      <td>0.0</td>\n",
       "      <td>False</td>\n",
       "      <td>False</td>\n",
       "      <td>False</td>\n",
       "      <td>False</td>\n",
       "      <td>False</td>\n",
       "      <td>False</td>\n",
       "      <td>False</td>\n",
       "      <td>False</td>\n",
       "      <td>False</td>\n",
       "    </tr>\n",
       "    <tr>\n",
       "      <th>14184</th>\n",
       "      <td>AJ</td>\n",
       "      <td>2011.02.03/04.07.22</td>\n",
       "      <td>2</td>\n",
       "      <td>NaN</td>\n",
       "      <td>218893</td>\n",
       "      <td>1</td>\n",
       "      <td>3</td>\n",
       "      <td>69</td>\n",
       "      <td>4</td>\n",
       "      <td>2</td>\n",
       "      <td>...</td>\n",
       "      <td>NaN</td>\n",
       "      <td>False</td>\n",
       "      <td>False</td>\n",
       "      <td>False</td>\n",
       "      <td>False</td>\n",
       "      <td>False</td>\n",
       "      <td>False</td>\n",
       "      <td>False</td>\n",
       "      <td>False</td>\n",
       "      <td>False</td>\n",
       "    </tr>\n",
       "  </tbody>\n",
       "</table>\n",
       "<p>14185 rows × 390 columns</p>\n",
       "</div>"
      ],
      "text/plain": [
       "      cen      dataset_version  elig  ineligible     pid  rndgroup  study  \\\n",
       "0      AF  2011.02.03/04.07.22     2         NaN  100002         1      1   \n",
       "1      AF  2011.02.03/04.07.22     2         NaN  100004         1      1   \n",
       "2      AA  2011.02.03/04.07.22     2         NaN  100005         1      1   \n",
       "3      AO  2011.02.03/04.07.22     2         NaN  100010         1      1   \n",
       "4      AV  2011.02.03/04.07.22     2         NaN  100012         1      1   \n",
       "...    ..                  ...   ...         ...     ...       ...    ...   \n",
       "14180  BE  2011.02.03/04.07.22     2         NaN  218871         1      2   \n",
       "14181  BB  2011.02.03/04.07.22     2         NaN  218872         1      3   \n",
       "14182  AB  2011.02.03/04.07.22     2         NaN  218888         1      3   \n",
       "14183  BF  2011.02.03/04.07.22     2         NaN  218892         1      2   \n",
       "14184  AJ  2011.02.03/04.07.22     2         NaN  218893         1      3   \n",
       "\n",
       "       age  educat  ethnic  ...  Emphysema  Adenocarcinoma  \\\n",
       "0       66       3       2  ...        0.0           False   \n",
       "1       60       5       2  ...        0.0           False   \n",
       "2       64       2       2  ...        0.0           False   \n",
       "3       68       5       2  ...        0.0           False   \n",
       "4       61       7       2  ...        0.0            True   \n",
       "...    ...     ...     ...  ...        ...             ...   \n",
       "14180   72       5       2  ...        1.0           False   \n",
       "14181   57       3       2  ...        0.0           False   \n",
       "14182   58       5       2  ...        0.0           False   \n",
       "14183   56       5       2  ...        0.0           False   \n",
       "14184   69       4       2  ...        NaN           False   \n",
       "\n",
       "       Adenosquamous_carcinoma  Bronchiolo-alveolar_carcinoma  \\\n",
       "0                        False                          False   \n",
       "1                        False                          False   \n",
       "2                        False                          False   \n",
       "3                        False                          False   \n",
       "4                        False                          False   \n",
       "...                        ...                            ...   \n",
       "14180                    False                          False   \n",
       "14181                    False                          False   \n",
       "14182                    False                          False   \n",
       "14183                    False                          False   \n",
       "14184                    False                          False   \n",
       "\n",
       "       Carcinoid_tumor  Large_cell_carcinoma  Pleomorphic/sarcomatoid  \\\n",
       "0                False                 False                    False   \n",
       "1                False                 False                    False   \n",
       "2                False                 False                    False   \n",
       "3                False                 False                    False   \n",
       "4                False                 False                    False   \n",
       "...                ...                   ...                      ...   \n",
       "14180            False                 False                    False   \n",
       "14181            False                 False                    False   \n",
       "14182            False                 False                    False   \n",
       "14183            False                 False                    False   \n",
       "14184            False                 False                    False   \n",
       "\n",
       "       Small_cell_carcinoma  Squamous_cell_carcinoma  Unclassified_carcinoma  \n",
       "0                     False                    False                   False  \n",
       "1                     False                    False                   False  \n",
       "2                     False                    False                   False  \n",
       "3                     False                    False                   False  \n",
       "4                     False                    False                   False  \n",
       "...                     ...                      ...                     ...  \n",
       "14180                 False                    False                   False  \n",
       "14181                 False                    False                   False  \n",
       "14182                 False                    False                   False  \n",
       "14183                 False                    False                   False  \n",
       "14184                 False                    False                   False  \n",
       "\n",
       "[14185 rows x 390 columns]"
      ]
     },
     "execution_count": 19,
     "metadata": {},
     "output_type": "execute_result"
    }
   ],
   "source": [
    "df = pd.get_dummies(df, columns=['LC_type'], prefix='', prefix_sep='')\n",
    "df"
   ]
  },
  {
   "cell_type": "markdown",
   "metadata": {},
   "source": [
    "### Take specifically sybil demographics"
   ]
  },
  {
   "cell_type": "code",
   "execution_count": 20,
   "metadata": {},
   "outputs": [],
   "source": [
    "cols_list.remove('PatientID')\n",
    "cols_list.append('pid')"
   ]
  },
  {
   "cell_type": "code",
   "execution_count": 21,
   "metadata": {},
   "outputs": [
    {
     "name": "stdout",
     "output_type": "stream",
     "text": [
      "<class 'pandas.core.frame.DataFrame'>\n",
      "RangeIndex: 14185 entries, 0 to 14184\n",
      "Data columns (total 82 columns):\n",
      " #   Column                         Non-Null Count  Dtype  \n",
      "---  ------                         --------------  -----  \n",
      " 0   smokeday                       14185 non-null  int64  \n",
      " 1   pkyr                           14185 non-null  float64\n",
      " 2   smokeyr                        14185 non-null  int64  \n",
      " 3   Age                            14185 non-null  int64  \n",
      " 4   LC_stage                       967 non-null    float64\n",
      " 5   smokeage                       14185 non-null  float64\n",
      " 6   BMI                            14138 non-null  float64\n",
      " 7   weight                         14149 non-null  float64\n",
      " 8   height                         14165 non-null  float64\n",
      " 9   canckidn                       14178 non-null  float64\n",
      " 10  canctran                       14173 non-null  float64\n",
      " 11  educat                         14185 non-null  int64  \n",
      " 12  cancphar                       14178 non-null  float64\n",
      " 13  ethnic                         14185 non-null  int64  \n",
      " 14  wrkhard                        14182 non-null  float64\n",
      " 15  FamilyHistoryLungCa            14185 non-null  bool   \n",
      " 16  canccolo                       14176 non-null  float64\n",
      " 17  cancstom                       14178 non-null  float64\n",
      " 18  diagemph                       14159 non-null  float64\n",
      " 19  cancesop                       14177 non-null  float64\n",
      " 20  cancoral                       14177 non-null  float64\n",
      " 21  HighSchoolPlus                 14185 non-null  bool   \n",
      " 22  Small_cell_carcinoma           14185 non-null  bool   \n",
      " 23  smokework                      14102 non-null  float64\n",
      " 24  diaghype                       14171 non-null  float64\n",
      " 25  cancthyr                       14172 non-null  float64\n",
      " 26  wrkpain                        14182 non-null  float64\n",
      " 27  diagasbe                       14170 non-null  float64\n",
      " 28  diagstro                       14172 non-null  float64\n",
      " 29  diagfibr                       14164 non-null  float64\n",
      " 30  wrkasbe                        14170 non-null  float64\n",
      " 31  cancpanc                       14178 non-null  float64\n",
      " 32  smokelive                      14135 non-null  float64\n",
      " 33  wrkfarm                        14178 non-null  float64\n",
      " 34  Married                        14185 non-null  bool   \n",
      " 35  race                           14185 non-null  int64  \n",
      " 36  wrknomask                      14185 non-null  bool   \n",
      " 37  diagadas                       14170 non-null  float64\n",
      " 38  diagcopd                       14147 non-null  float64\n",
      " 39  diaghear                       14145 non-null  float64\n",
      " 40  cancbrea                       14172 non-null  float64\n",
      " 41  wrkcoal                        14182 non-null  float64\n",
      " 42  wrkfire                        14181 non-null  float64\n",
      " 43  diagpneu                       14165 non-null  float64\n",
      " 44  wrkchem                        14178 non-null  float64\n",
      " 45  wrkcott                        14180 non-null  float64\n",
      " 46  Large_cell_carcinoma           14185 non-null  bool   \n",
      " 47  pipe                           14106 non-null  float64\n",
      " 48  wrkbutc                        14182 non-null  float64\n",
      " 49  Bronchiolo-alveolar_carcinoma  14185 non-null  bool   \n",
      " 50  wrkfoun                        14179 non-null  float64\n",
      " 51  cancblad                       14176 non-null  float64\n",
      " 52  canccerv                       14173 non-null  float64\n",
      " 53  wrkweld                        14182 non-null  float64\n",
      " 54  canclary                       14178 non-null  float64\n",
      " 55  diagdiab                       14175 non-null  float64\n",
      " 56  Unclassified_carcinoma         14185 non-null  bool   \n",
      " 57  cancnasa                       14176 non-null  float64\n",
      " 58  PersonalCancerHist             14185 non-null  bool   \n",
      " 59  diagbron                       14142 non-null  float64\n",
      " 60  diagchas                       14175 non-null  float64\n",
      " 61  Emphysema                      14159 non-null  float64\n",
      " 62  wrkflou                        14182 non-null  float64\n",
      " 63  Squamous_cell_carcinoma        14185 non-null  bool   \n",
      " 64  Adenocarcinoma                 14185 non-null  bool   \n",
      " 65  LC_stage                       967 non-null    float64\n",
      " 66  Adenosquamous_carcinoma        14185 non-null  bool   \n",
      " 67  wrksand                        14182 non-null  float64\n",
      " 68  wrkbaki                        14182 non-null  float64\n",
      " 69  diagsili                       14159 non-null  float64\n",
      " 70  Carcinoid_tumor                14185 non-null  bool   \n",
      " 71  diagsarc                       14159 non-null  float64\n",
      " 72  canclung                       14177 non-null  float64\n",
      " 73  Gender                         14185 non-null  int64  \n",
      " 74  cigar                          14147 non-null  float64\n",
      " 75  NonHispanicWhite               14185 non-null  bool   \n",
      " 76  cigsmok                        14185 non-null  int64  \n",
      " 77  diagtube                       14173 non-null  float64\n",
      " 78  diagchro                       14152 non-null  float64\n",
      " 79  marital                        14185 non-null  float64\n",
      " 80  study                          14185 non-null  int64  \n",
      " 81  pid                            14185 non-null  int64  \n",
      "dtypes: bool(14), float64(58), int64(10)\n",
      "memory usage: 7.5 MB\n"
     ]
    }
   ],
   "source": [
    "df2 = df[cols_list]\n",
    "df2.info()"
   ]
  },
  {
   "cell_type": "code",
   "execution_count": 22,
   "metadata": {},
   "outputs": [
    {
     "data": {
      "text/html": [
       "<div>\n",
       "<style scoped>\n",
       "    .dataframe tbody tr th:only-of-type {\n",
       "        vertical-align: middle;\n",
       "    }\n",
       "\n",
       "    .dataframe tbody tr th {\n",
       "        vertical-align: top;\n",
       "    }\n",
       "\n",
       "    .dataframe thead th {\n",
       "        text-align: right;\n",
       "    }\n",
       "</style>\n",
       "<table border=\"1\" class=\"dataframe\">\n",
       "  <thead>\n",
       "    <tr style=\"text-align: right;\">\n",
       "      <th></th>\n",
       "      <th>id</th>\n",
       "      <th>split</th>\n",
       "      <th>pid</th>\n",
       "      <th>timepoint</th>\n",
       "      <th>SeriesInstanceUID</th>\n",
       "      <th>smokeday</th>\n",
       "      <th>pkyr</th>\n",
       "      <th>smokeyr</th>\n",
       "      <th>Age</th>\n",
       "      <th>LC_stage</th>\n",
       "      <th>...</th>\n",
       "      <th>diagsarc</th>\n",
       "      <th>canclung</th>\n",
       "      <th>Gender</th>\n",
       "      <th>cigar</th>\n",
       "      <th>NonHispanicWhite</th>\n",
       "      <th>cigsmok</th>\n",
       "      <th>diagtube</th>\n",
       "      <th>diagchro</th>\n",
       "      <th>marital</th>\n",
       "      <th>study</th>\n",
       "    </tr>\n",
       "  </thead>\n",
       "  <tbody>\n",
       "    <tr>\n",
       "      <th>0</th>\n",
       "      <td>PID-204631__TimePoint-0__Series-1.3.6.1.4.1.14...</td>\n",
       "      <td>train</td>\n",
       "      <td>204631</td>\n",
       "      <td>0</td>\n",
       "      <td>1.3.6.1.4.1.14519.5.2.1.7009.9004.186764828479...</td>\n",
       "      <td>40</td>\n",
       "      <td>108.0</td>\n",
       "      <td>54</td>\n",
       "      <td>72</td>\n",
       "      <td>NaN</td>\n",
       "      <td>...</td>\n",
       "      <td>0.0</td>\n",
       "      <td>0.0</td>\n",
       "      <td>1</td>\n",
       "      <td>1.0</td>\n",
       "      <td>True</td>\n",
       "      <td>1</td>\n",
       "      <td>0.0</td>\n",
       "      <td>0.0</td>\n",
       "      <td>2.0</td>\n",
       "      <td>2</td>\n",
       "    </tr>\n",
       "    <tr>\n",
       "      <th>1</th>\n",
       "      <td>PID-204631__TimePoint-1__Series-1.3.6.1.4.1.14...</td>\n",
       "      <td>train</td>\n",
       "      <td>204631</td>\n",
       "      <td>1</td>\n",
       "      <td>1.3.6.1.4.1.14519.5.2.1.7009.9004.154974321095...</td>\n",
       "      <td>40</td>\n",
       "      <td>108.0</td>\n",
       "      <td>54</td>\n",
       "      <td>72</td>\n",
       "      <td>NaN</td>\n",
       "      <td>...</td>\n",
       "      <td>0.0</td>\n",
       "      <td>0.0</td>\n",
       "      <td>1</td>\n",
       "      <td>1.0</td>\n",
       "      <td>True</td>\n",
       "      <td>1</td>\n",
       "      <td>0.0</td>\n",
       "      <td>0.0</td>\n",
       "      <td>2.0</td>\n",
       "      <td>2</td>\n",
       "    </tr>\n",
       "    <tr>\n",
       "      <th>2</th>\n",
       "      <td>PID-204631__TimePoint-2__Series-1.3.6.1.4.1.14...</td>\n",
       "      <td>train</td>\n",
       "      <td>204631</td>\n",
       "      <td>2</td>\n",
       "      <td>1.3.6.1.4.1.14519.5.2.1.7009.9004.181632252038...</td>\n",
       "      <td>40</td>\n",
       "      <td>108.0</td>\n",
       "      <td>54</td>\n",
       "      <td>72</td>\n",
       "      <td>NaN</td>\n",
       "      <td>...</td>\n",
       "      <td>0.0</td>\n",
       "      <td>0.0</td>\n",
       "      <td>1</td>\n",
       "      <td>1.0</td>\n",
       "      <td>True</td>\n",
       "      <td>1</td>\n",
       "      <td>0.0</td>\n",
       "      <td>0.0</td>\n",
       "      <td>2.0</td>\n",
       "      <td>2</td>\n",
       "    </tr>\n",
       "    <tr>\n",
       "      <th>3</th>\n",
       "      <td>PID-126153__TimePoint-2__Series-1.2.840.113654...</td>\n",
       "      <td>train</td>\n",
       "      <td>126153</td>\n",
       "      <td>2</td>\n",
       "      <td>1.2.840.113654.2.55.43665829455927473870872470...</td>\n",
       "      <td>39</td>\n",
       "      <td>70.2</td>\n",
       "      <td>36</td>\n",
       "      <td>58</td>\n",
       "      <td>NaN</td>\n",
       "      <td>...</td>\n",
       "      <td>0.0</td>\n",
       "      <td>0.0</td>\n",
       "      <td>2</td>\n",
       "      <td>0.0</td>\n",
       "      <td>True</td>\n",
       "      <td>1</td>\n",
       "      <td>0.0</td>\n",
       "      <td>0.0</td>\n",
       "      <td>2.0</td>\n",
       "      <td>1</td>\n",
       "    </tr>\n",
       "    <tr>\n",
       "      <th>4</th>\n",
       "      <td>PID-126153__TimePoint-1__Series-1.2.840.113654...</td>\n",
       "      <td>train</td>\n",
       "      <td>126153</td>\n",
       "      <td>1</td>\n",
       "      <td>1.2.840.113654.2.55.18862732764668567267836753...</td>\n",
       "      <td>39</td>\n",
       "      <td>70.2</td>\n",
       "      <td>36</td>\n",
       "      <td>58</td>\n",
       "      <td>NaN</td>\n",
       "      <td>...</td>\n",
       "      <td>0.0</td>\n",
       "      <td>0.0</td>\n",
       "      <td>2</td>\n",
       "      <td>0.0</td>\n",
       "      <td>True</td>\n",
       "      <td>1</td>\n",
       "      <td>0.0</td>\n",
       "      <td>0.0</td>\n",
       "      <td>2.0</td>\n",
       "      <td>1</td>\n",
       "    </tr>\n",
       "  </tbody>\n",
       "</table>\n",
       "<p>5 rows × 86 columns</p>\n",
       "</div>"
      ],
      "text/plain": [
       "                                                  id  split     pid  \\\n",
       "0  PID-204631__TimePoint-0__Series-1.3.6.1.4.1.14...  train  204631   \n",
       "1  PID-204631__TimePoint-1__Series-1.3.6.1.4.1.14...  train  204631   \n",
       "2  PID-204631__TimePoint-2__Series-1.3.6.1.4.1.14...  train  204631   \n",
       "3  PID-126153__TimePoint-2__Series-1.2.840.113654...  train  126153   \n",
       "4  PID-126153__TimePoint-1__Series-1.2.840.113654...  train  126153   \n",
       "\n",
       "   timepoint                                  SeriesInstanceUID  smokeday  \\\n",
       "0          0  1.3.6.1.4.1.14519.5.2.1.7009.9004.186764828479...        40   \n",
       "1          1  1.3.6.1.4.1.14519.5.2.1.7009.9004.154974321095...        40   \n",
       "2          2  1.3.6.1.4.1.14519.5.2.1.7009.9004.181632252038...        40   \n",
       "3          2  1.2.840.113654.2.55.43665829455927473870872470...        39   \n",
       "4          1  1.2.840.113654.2.55.18862732764668567267836753...        39   \n",
       "\n",
       "    pkyr  smokeyr  Age  LC_stage  ...  diagsarc  canclung  Gender  cigar  \\\n",
       "0  108.0       54   72       NaN  ...       0.0       0.0       1    1.0   \n",
       "1  108.0       54   72       NaN  ...       0.0       0.0       1    1.0   \n",
       "2  108.0       54   72       NaN  ...       0.0       0.0       1    1.0   \n",
       "3   70.2       36   58       NaN  ...       0.0       0.0       2    0.0   \n",
       "4   70.2       36   58       NaN  ...       0.0       0.0       2    0.0   \n",
       "\n",
       "   NonHispanicWhite  cigsmok  diagtube  diagchro  marital  study  \n",
       "0              True        1       0.0       0.0      2.0      2  \n",
       "1              True        1       0.0       0.0      2.0      2  \n",
       "2              True        1       0.0       0.0      2.0      2  \n",
       "3              True        1       0.0       0.0      2.0      1  \n",
       "4              True        1       0.0       0.0      2.0      1  \n",
       "\n",
       "[5 rows x 86 columns]"
      ]
     },
     "execution_count": 22,
     "metadata": {},
     "output_type": "execute_result"
    }
   ],
   "source": [
    "sybil_nlst_demos = sybil_siuid_df.merge(df2, on='pid', how='left')\n",
    "sybil_nlst_demos.head()"
   ]
  },
  {
   "cell_type": "code",
   "execution_count": 23,
   "metadata": {},
   "outputs": [],
   "source": [
    "sybil_nlst_demos.to_csv(f\"{NLST_PREDS}/sybil-nlst-split-demov4.csv\", index=False)"
   ]
  },
  {
   "cell_type": "code",
   "execution_count": 24,
   "metadata": {},
   "outputs": [
    {
     "data": {
      "text/plain": [
       "<Axes: >"
      ]
     },
     "execution_count": 24,
     "metadata": {},
     "output_type": "execute_result"
    },
    {
     "data": {
      "image/png": "[encoded data removed]",
      "text/plain": [
       "<Figure size 640x480 with 2 Axes>"
      ]
     },
     "metadata": {},
     "output_type": "display_data"
    }
   ],
   "source": [
    "sns.heatmap(sybil_nlst_demos[nlst_democols['cat']['demo'] + nlst_democols['cat']['other'] + nlst_democols['num']['demo'] + nlst_democols['cat']['lungcanc']].corr(), cmap='RdYlGn', vmin=-1, vmax=1)"
   ]
  }
 ],
 "metadata": {
  "kernelspec": {
   "display_name": "Python 3",
   "language": "python",
   "name": "python3"
  },
  "language_info": {
   "codemirror_mode": {
    "name": "ipython",
    "version": 3
   },
   "file_extension": ".py",
   "mimetype": "text/x-python",
   "name": "python",
   "nbconvert_exporter": "python",
   "pygments_lexer": "ipython3",
   "version": "3.11.9"
  }
 },
 "nbformat": 4,
 "nbformat_minor": 2
}
