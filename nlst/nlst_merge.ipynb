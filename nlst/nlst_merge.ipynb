{
 "cells": [
  {
   "cell_type": "markdown",
   "metadata": {},
   "source": [
    "# NLST Predictions Merge\n",
    "\n",
    "Match and put together NLST predictions for Kiran, Thijmen, PanCan and Sybil (after those predictions have ran)."
   ]
  },
  {
   "cell_type": "code",
   "execution_count": 3,
   "metadata": {},
   "outputs": [],
   "source": [
    "import pandas as pd\n",
    "import os\n",
    "import numpy as np\n",
    "\n",
    "import seaborn as sns\n",
    "sns.set_style(\"white\")\n",
    "from evalutils.roc import get_bootstrapped_roc_ci_curves\n",
    "import matplotlib.pyplot as plt\n",
    "\n",
    "%matplotlib inline\n",
    "import sklearn.metrics as skl_metrics\n",
    "\n",
    "## directory where results are\n",
    "LOCAL_PC = False\n",
    "root_dir = \"/mnt/w\" if LOCAL_PC else \"/data/bodyct\"\n",
    "EXPERIMENT_DIR = f\"{root_dir}/experiments/lung-malignancy-fairness-shaurya\"\n",
    "NLST_PREDS = f\"{EXPERIMENT_DIR}/nlst-preds\"\n",
    "\n",
    "NLST_PREDS_LOCAL = \"/mnt/c/Users/shaur/OneDrive - Radboudumc/Documents - Master - Shaurya Gaur/General/Malignancy-Estimation Results/nlst\"\n",
    "NLST_PREDS = NLST_PREDS_LOCAL ## Comment out if not using Teams backup (aka Chansey is up :)"
   ]
  },
  {
   "cell_type": "markdown",
   "metadata": {},
   "source": [
    "## Load Predictions"
   ]
  },
  {
   "cell_type": "markdown",
   "metadata": {},
   "source": [
    "Kiran's model and PanCan2b."
   ]
  },
  {
   "cell_type": "code",
   "execution_count": 4,
   "metadata": {},
   "outputs": [
    {
     "name": "stdout",
     "output_type": "stream",
     "text": [
      "<class 'pandas.core.frame.DataFrame'>\n",
      "RangeIndex: 16077 entries, 0 to 16076\n",
      "Data columns (total 25 columns):\n",
      " #   Column               Non-Null Count  Dtype  \n",
      "---  ------               --------------  -----  \n",
      " 0   PatientID            16077 non-null  int64  \n",
      " 1   StudyDate            16077 non-null  int64  \n",
      " 2   SeriesInstanceUID    16077 non-null  object \n",
      " 3   CoordX               16077 non-null  float64\n",
      " 4   CoordY               16077 non-null  float64\n",
      " 5   CoordZ               16077 non-null  float64\n",
      " 6   LesionID             16077 non-null  int64  \n",
      " 7   NoduleType           16077 non-null  object \n",
      " 8   Spiculation          16077 non-null  bool   \n",
      " 9   Diameter [mm]        16077 non-null  float64\n",
      " 10  Age                  16077 non-null  int64  \n",
      " 11  Gender               16077 non-null  int64  \n",
      " 12  FamilyHistoryLungCa  16077 non-null  bool   \n",
      " 13  Emphysema            16077 non-null  bool   \n",
      " 14  NoduleInUpperLung    16077 non-null  bool   \n",
      " 15  NoduleCounts         16077 non-null  int64  \n",
      " 16  SCT_EPI_LOC          15479 non-null  float64\n",
      " 17  xie_gc_gclobe150     598 non-null    float64\n",
      " 18  loclup               1249 non-null   float64\n",
      " 19  locrup               1249 non-null   float64\n",
      " 20  PanCan2b             16077 non-null  float64\n",
      " 21  label                16077 non-null  int64  \n",
      " 22  DL                   16077 non-null  float64\n",
      " 23  NoduleID             16077 non-null  object \n",
      " 24  AnnotationID         16077 non-null  object \n",
      "dtypes: bool(4), float64(10), int64(7), object(4)\n",
      "memory usage: 2.6+ MB\n"
     ]
    }
   ],
   "source": [
    "nlst_kiran_pancan = pd.read_csv(f\"{NLST_PREDS}/NLST_DL_vs_PanCan_Venk21.csv\")\n",
    "nlst_kiran_pancan.info()"
   ]
  },
  {
   "cell_type": "markdown",
   "metadata": {},
   "source": [
    "Thijmen's model. Note that it only has 3240 annotation predictions and not 16077."
   ]
  },
  {
   "cell_type": "code",
   "execution_count": 5,
   "metadata": {},
   "outputs": [
    {
     "name": "stdout",
     "output_type": "stream",
     "text": [
      "<class 'pandas.core.frame.DataFrame'>\n",
      "RangeIndex: 3240 entries, 0 to 3239\n",
      "Data columns (total 3 columns):\n",
      " #   Column        Non-Null Count  Dtype  \n",
      "---  ------        --------------  -----  \n",
      " 0   AnnotationID  3240 non-null   object \n",
      " 1   label         3240 non-null   float64\n",
      " 2   Thijmen_mean  3240 non-null   float64\n",
      "dtypes: float64(2), object(1)\n",
      "memory usage: 76.1+ KB\n"
     ]
    }
   ],
   "source": [
    "nlst_thijmen = pd.read_csv(f\"{NLST_PREDS}/NLST_Tijmen_results/merged_model_output.csv\")\n",
    "nlst_thijmen.info()"
   ]
  },
  {
   "cell_type": "markdown",
   "metadata": {},
   "source": [
    "Sanity check to make sure the labels match for the `AnnotationID` between Thijmen's CSV and the Kiran PanCan sheet. If the output DataFrame below is empty, you're all good :)"
   ]
  },
  {
   "cell_type": "code",
   "execution_count": 6,
   "metadata": {},
   "outputs": [
    {
     "data": {
      "text/html": [
       "<div>\n",
       "<style scoped>\n",
       "    .dataframe tbody tr th:only-of-type {\n",
       "        vertical-align: middle;\n",
       "    }\n",
       "\n",
       "    .dataframe tbody tr th {\n",
       "        vertical-align: top;\n",
       "    }\n",
       "\n",
       "    .dataframe thead th {\n",
       "        text-align: right;\n",
       "    }\n",
       "</style>\n",
       "<table border=\"1\" class=\"dataframe\">\n",
       "  <thead>\n",
       "    <tr style=\"text-align: right;\">\n",
       "      <th></th>\n",
       "      <th>self</th>\n",
       "      <th>other</th>\n",
       "    </tr>\n",
       "    <tr>\n",
       "      <th>AnnotationID</th>\n",
       "      <th></th>\n",
       "      <th></th>\n",
       "    </tr>\n",
       "  </thead>\n",
       "  <tbody>\n",
       "  </tbody>\n",
       "</table>\n",
       "</div>"
      ],
      "text/plain": [
       "Empty DataFrame\n",
       "Columns: [self, other]\n",
       "Index: []"
      ]
     },
     "execution_count": 6,
     "metadata": {},
     "output_type": "execute_result"
    }
   ],
   "source": [
    "nlst_kp2 = nlst_kiran_pancan.sort_values(by='AnnotationID', ascending=True).set_index(\"AnnotationID\")\n",
    "nlst_tj2 = nlst_thijmen.sort_values(by='AnnotationID', ascending=True).set_index(\"AnnotationID\")\n",
    "\n",
    "nlst_kp2 = nlst_kp2[nlst_kp2.index.isin(nlst_tj2.index)]\n",
    "res = nlst_kp2['label'].compare(nlst_tj2['label'])\n",
    "\n",
    "del nlst_kp2, nlst_tj2\n",
    "res"
   ]
  },
  {
   "cell_type": "markdown",
   "metadata": {},
   "source": [
    "Merge the predictions!"
   ]
  },
  {
   "cell_type": "code",
   "execution_count": 7,
   "metadata": {},
   "outputs": [
    {
     "name": "stdout",
     "output_type": "stream",
     "text": [
      "<class 'pandas.core.frame.DataFrame'>\n",
      "RangeIndex: 16077 entries, 0 to 16076\n",
      "Data columns (total 26 columns):\n",
      " #   Column               Non-Null Count  Dtype  \n",
      "---  ------               --------------  -----  \n",
      " 0   PatientID            16077 non-null  int64  \n",
      " 1   StudyDate            16077 non-null  int64  \n",
      " 2   SeriesInstanceUID    16077 non-null  object \n",
      " 3   CoordX               16077 non-null  float64\n",
      " 4   CoordY               16077 non-null  float64\n",
      " 5   CoordZ               16077 non-null  float64\n",
      " 6   LesionID             16077 non-null  int64  \n",
      " 7   NoduleType           16077 non-null  object \n",
      " 8   Spiculation          16077 non-null  bool   \n",
      " 9   Diameter [mm]        16077 non-null  float64\n",
      " 10  Age                  16077 non-null  int64  \n",
      " 11  Gender               16077 non-null  int64  \n",
      " 12  FamilyHistoryLungCa  16077 non-null  bool   \n",
      " 13  Emphysema            16077 non-null  bool   \n",
      " 14  NoduleInUpperLung    16077 non-null  bool   \n",
      " 15  NoduleCounts         16077 non-null  int64  \n",
      " 16  SCT_EPI_LOC          15479 non-null  float64\n",
      " 17  xie_gc_gclobe150     598 non-null    float64\n",
      " 18  loclup               1249 non-null   float64\n",
      " 19  locrup               1249 non-null   float64\n",
      " 20  PanCan2b             16077 non-null  float64\n",
      " 21  label                16077 non-null  int64  \n",
      " 22  DL                   16077 non-null  float64\n",
      " 23  NoduleID             16077 non-null  object \n",
      " 24  AnnotationID         16077 non-null  object \n",
      " 25  Thijmen_mean         3240 non-null   float64\n",
      "dtypes: bool(4), float64(11), int64(7), object(4)\n",
      "memory usage: 2.8+ MB\n"
     ]
    }
   ],
   "source": [
    "nlst_preds = nlst_kiran_pancan.merge(nlst_thijmen, \n",
    "                                     how=\"left\", ## 'inner' for only ones Thijmen has preds for\n",
    "                                     on=['AnnotationID', 'label'], suffixes=(None,None))\n",
    "nlst_preds.info()"
   ]
  },
  {
   "cell_type": "markdown",
   "metadata": {},
   "source": [
    "Thijmen's doesn't seem like a size-matched subset with a higher malignant percentage."
   ]
  },
  {
   "cell_type": "code",
   "execution_count": 8,
   "metadata": {},
   "outputs": [
    {
     "data": {
      "text/html": [
       "<div>\n",
       "<style scoped>\n",
       "    .dataframe tbody tr th:only-of-type {\n",
       "        vertical-align: middle;\n",
       "    }\n",
       "\n",
       "    .dataframe tbody tr th {\n",
       "        vertical-align: top;\n",
       "    }\n",
       "\n",
       "    .dataframe thead th {\n",
       "        text-align: right;\n",
       "    }\n",
       "</style>\n",
       "<table border=\"1\" class=\"dataframe\">\n",
       "  <thead>\n",
       "    <tr style=\"text-align: right;\">\n",
       "      <th></th>\n",
       "      <th>PatientID</th>\n",
       "      <th>StudyDate</th>\n",
       "      <th>SeriesInstanceUID</th>\n",
       "      <th>CoordX</th>\n",
       "      <th>CoordY</th>\n",
       "      <th>CoordZ</th>\n",
       "      <th>LesionID</th>\n",
       "      <th>NoduleType</th>\n",
       "      <th>Spiculation</th>\n",
       "      <th>Diameter [mm]</th>\n",
       "      <th>...</th>\n",
       "      <th>NoduleCounts</th>\n",
       "      <th>SCT_EPI_LOC</th>\n",
       "      <th>xie_gc_gclobe150</th>\n",
       "      <th>loclup</th>\n",
       "      <th>locrup</th>\n",
       "      <th>PanCan2b</th>\n",
       "      <th>DL</th>\n",
       "      <th>NoduleID</th>\n",
       "      <th>AnnotationID</th>\n",
       "      <th>Thijmen_mean</th>\n",
       "    </tr>\n",
       "    <tr>\n",
       "      <th>label</th>\n",
       "      <th></th>\n",
       "      <th></th>\n",
       "      <th></th>\n",
       "      <th></th>\n",
       "      <th></th>\n",
       "      <th></th>\n",
       "      <th></th>\n",
       "      <th></th>\n",
       "      <th></th>\n",
       "      <th></th>\n",
       "      <th></th>\n",
       "      <th></th>\n",
       "      <th></th>\n",
       "      <th></th>\n",
       "      <th></th>\n",
       "      <th></th>\n",
       "      <th></th>\n",
       "      <th></th>\n",
       "      <th></th>\n",
       "      <th></th>\n",
       "      <th></th>\n",
       "    </tr>\n",
       "  </thead>\n",
       "  <tbody>\n",
       "    <tr>\n",
       "      <th>0</th>\n",
       "      <td>907</td>\n",
       "      <td>3</td>\n",
       "      <td>1797</td>\n",
       "      <td>2794</td>\n",
       "      <td>2834</td>\n",
       "      <td>2845</td>\n",
       "      <td>18</td>\n",
       "      <td>4</td>\n",
       "      <td>1</td>\n",
       "      <td>202</td>\n",
       "      <td>...</td>\n",
       "      <td>10</td>\n",
       "      <td>7</td>\n",
       "      <td>0</td>\n",
       "      <td>0</td>\n",
       "      <td>0</td>\n",
       "      <td>2722</td>\n",
       "      <td>2958</td>\n",
       "      <td>1825</td>\n",
       "      <td>2959</td>\n",
       "      <td>2959</td>\n",
       "    </tr>\n",
       "    <tr>\n",
       "      <th>1</th>\n",
       "      <td>154</td>\n",
       "      <td>3</td>\n",
       "      <td>265</td>\n",
       "      <td>279</td>\n",
       "      <td>280</td>\n",
       "      <td>280</td>\n",
       "      <td>2</td>\n",
       "      <td>3</td>\n",
       "      <td>2</td>\n",
       "      <td>159</td>\n",
       "      <td>...</td>\n",
       "      <td>8</td>\n",
       "      <td>6</td>\n",
       "      <td>6</td>\n",
       "      <td>2</td>\n",
       "      <td>2</td>\n",
       "      <td>280</td>\n",
       "      <td>281</td>\n",
       "      <td>164</td>\n",
       "      <td>281</td>\n",
       "      <td>281</td>\n",
       "    </tr>\n",
       "  </tbody>\n",
       "</table>\n",
       "<p>2 rows × 25 columns</p>\n",
       "</div>"
      ],
      "text/plain": [
       "       PatientID  StudyDate  SeriesInstanceUID  CoordX  CoordY  CoordZ  \\\n",
       "label                                                                    \n",
       "0            907          3               1797    2794    2834    2845   \n",
       "1            154          3                265     279     280     280   \n",
       "\n",
       "       LesionID  NoduleType  Spiculation  Diameter [mm]  ...  NoduleCounts  \\\n",
       "label                                                    ...                 \n",
       "0            18           4            1            202  ...            10   \n",
       "1             2           3            2            159  ...             8   \n",
       "\n",
       "       SCT_EPI_LOC  xie_gc_gclobe150  loclup  locrup  PanCan2b    DL  \\\n",
       "label                                                                  \n",
       "0                7                 0       0       0      2722  2958   \n",
       "1                6                 6       2       2       280   281   \n",
       "\n",
       "       NoduleID  AnnotationID  Thijmen_mean  \n",
       "label                                        \n",
       "0          1825          2959          2959  \n",
       "1           164           281           281  \n",
       "\n",
       "[2 rows x 25 columns]"
      ]
     },
     "execution_count": 8,
     "metadata": {},
     "output_type": "execute_result"
    }
   ],
   "source": [
    "nlst_thijmen_nonnull = nlst_preds[~nlst_preds['Thijmen_mean'].isnull()]\n",
    "nlst_thijmen_nonnull.groupby('label').nunique()"
   ]
  },
  {
   "cell_type": "code",
   "execution_count": 9,
   "metadata": {},
   "outputs": [],
   "source": [
    "nlst_preds.to_csv(f\"{NLST_PREDS}/nlst_kiran_thijmen_pancan_16077.csv\", index=False)"
   ]
  },
  {
   "cell_type": "code",
   "execution_count": null,
   "metadata": {},
   "outputs": [],
   "source": [
    "nlst_thijmen_local = "
   ]
  },
  {
   "cell_type": "code",
   "execution_count": null,
   "metadata": {},
   "outputs": [],
   "source": [
    "nlst_preds = nlst_preds.merge(nlst_thijmen, \n",
    "                how=\"left\", ## 'inner' for only ones Thijmen has preds for\n",
    "                on=['AnnotationID', 'label'], suffixes=(None,None))"
   ]
  },
  {
   "cell_type": "code",
   "execution_count": 10,
   "metadata": {},
   "outputs": [],
   "source": [
    "nlst_thijmen_nonnull.to_csv(f\"{NLST_PREDS}/nlst_kiran_thijmen_pancan_3240.csv\", index=False)"
   ]
  }
 ],
 "metadata": {
  "kernelspec": {
   "display_name": "venv",
   "language": "python",
   "name": "python3"
  },
  "language_info": {
   "codemirror_mode": {
    "name": "ipython",
    "version": 3
   },
   "file_extension": ".py",
   "mimetype": "text/x-python",
   "name": "python",
   "nbconvert_exporter": "python",
   "pygments_lexer": "ipython3",
   "version": "3.8.10"
  }
 },
 "nbformat": 4,
 "nbformat_minor": 2
}
