{
 "cells": [
  {
   "cell_type": "code",
   "execution_count": null,
   "metadata": {},
   "outputs": [],
   "source": [
    "import pandas as pd\n",
    "import os\n",
    "import numpy as np\n",
    "import seaborn as sns\n",
    "import matplotlib.pyplot as plt\n",
    "import json\n",
    "from IPython.display import display, Markdown\n",
    "\n",
    "from utilities import data, roc, threshold, output\n",
    "from utilities.info import *"
   ]
  },
  {
   "cell_type": "code",
   "execution_count": null,
   "metadata": {},
   "outputs": [],
   "source": [
    "# RESULTS_DIR = f\"{EXPERIMENT_DIR}/temp-results\"\n",
    "NUM_BOOTSTRAPS = 1000\n",
    "FILE_DIR, RESULTS_DIR"
   ]
  },
  {
   "cell_type": "code",
   "execution_count": null,
   "metadata": {},
   "outputs": [],
   "source": [
    "nlst_nodule = pd.read_csv(f\"{FILE_DIR}/nlst_allmodels_demos.csv\")\n",
    "\n",
    "with open(f'{FILE_DIR}/nlst_democols.json') as json_data:\n",
    "    nlst_demos_original = json.load(json_data)\n",
    "    json_data.close()\n",
    "\n",
    "nlst_data, nlst_demos, nlst_models = data.prep_nlst_preds(nlst_nodule, nlst_demos_original, scanlevel=True, sybil=True, bin_num=True)\n",
    "print(len(nlst_data))\n",
    "nlst_demos"
   ]
  },
  {
   "cell_type": "code",
   "execution_count": null,
   "metadata": {},
   "outputs": [],
   "source": [
    "nlst_models = {\n",
    "    'Venkadesh': 'DL_cal',\n",
    "    'Sybil year 1': 'sybil_year1',\n",
    "    'PanCan2b': 'PanCan2b'\n",
    "}"
   ]
  },
  {
   "cell_type": "code",
   "execution_count": null,
   "metadata": {},
   "outputs": [],
   "source": [
    "nlst_policies, _ = threshold.get_threshold_policies(nlst_data, models=nlst_models, policies=THRESHOLD_POLICIES, brock=True)\n",
    "nlst_policies"
   ]
  },
  {
   "cell_type": "code",
   "execution_count": null,
   "metadata": {},
   "outputs": [],
   "source": [
    "def analyze_confounders(\n",
    "        df=nlst_data, demos=nlst_demos, models=nlst_models, \n",
    "        democol='Gender', demosavename='gender', plot_roc=False, plot_thres=False):\n",
    "    split_groups = {k: v for k, v in df.groupby(democol)}\n",
    "    sg = list(split_groups.keys())\n",
    "\n",
    "    cat_df = data.combine_diff_dfs(nlst_demos['cat'], data.diffs_category_prevalence, split_groups)\n",
    "    cat_df = cat_df.query('value != 0').dropna(subset='value', axis=0)\n",
    "\n",
    "    display(Markdown(f\"### Categorical Confounders\"))\n",
    "    display(cat_df.sort_values(by=f'diff_{sg[0]}_{sg[1]}', ascending=False).head(20))\n",
    "    display(cat_df.sort_values(by=f'diff_{sg[0]}_{sg[1]}', ascending=True).head(20))\n",
    "    \n",
    "    display(Markdown(f\"### Numerical Confounders\"))\n",
    "    num_df = data.combine_diff_dfs(nlst_demos['num'], data.diffs_numerical_means, split_groups)\n",
    "    num_df2 = num_df[num_df['value'].isin(['Median (IQR)', 'Mean (SD)'])]\n",
    "    display(num_df2.sort_values(by=f'diff_{sg[0]}_{sg[1]}', ascending=False).head(10))\n",
    "    display(num_df2.sort_values(by=f'diff_{sg[0]}_{sg[1]}', ascending=True).head(10))\n",
    "\n",
    "    print(\"ROC Isolations ...\", end='\\r')\n",
    "    roc_df = None\n",
    "    roc_df = roc.save_results_isolate_confounders(\n",
    "        df, democol, demos['cat'], models, \n",
    "        csvpath=f'{RESULTS_DIR}/auroc-{demosavename}-by-factors-nlst-{len(df)}.csv',\n",
    "        plot=plot_roc, num_bootstraps=NUM_BOOTSTRAPS)\n",
    "    print(\"ROC Isolations done!\")\n",
    "\n",
    "    print(\"Threshold Isolations ...\", end='\\r')\n",
    "    thres_df = threshold.save_results_isolate_confounders(\n",
    "        df, democol, demos['cat'], nlst_policies, models, \n",
    "        csvpath=f'{RESULTS_DIR}/threshold-{demosavename}-by-factors-nlst-{len(df)}.csv', \n",
    "        plot=plot_thres, num_bootstraps=NUM_BOOTSTRAPS)\n",
    "    print(\"Threshold isolations done!\")\n",
    "\n",
    "    return roc_df, thres_df"
   ]
  },
  {
   "cell_type": "markdown",
   "metadata": {},
   "source": [
    "## Education Status"
   ]
  },
  {
   "cell_type": "markdown",
   "metadata": {},
   "source": [
    "Cutoff = High School graduate or higher."
   ]
  },
  {
   "cell_type": "code",
   "execution_count": null,
   "metadata": {},
   "outputs": [],
   "source": [
    "roc_hs_or_more, thres_hs_or_more = analyze_confounders(democol='HS-or-more', demosavename='hs-or-more', plot_thres=False)"
   ]
  },
  {
   "cell_type": "markdown",
   "metadata": {},
   "source": [
    "## Gender"
   ]
  },
  {
   "cell_type": "code",
   "execution_count": null,
   "metadata": {},
   "outputs": [],
   "source": [
    "roc_gender, thres_gender = analyze_confounders(democol='Gender', demosavename='gender', plot_thres=False)"
   ]
  },
  {
   "cell_type": "markdown",
   "metadata": {},
   "source": [
    "## Race"
   ]
  },
  {
   "cell_type": "code",
   "execution_count": null,
   "metadata": {},
   "outputs": [],
   "source": [
    "roc_race, thres_race = analyze_confounders(democol='WhiteOrBlack', demosavename='race', plot_thres=False)"
   ]
  },
  {
   "cell_type": "markdown",
   "metadata": {},
   "source": [
    "## BMI"
   ]
  },
  {
   "cell_type": "code",
   "execution_count": null,
   "metadata": {},
   "outputs": [],
   "source": [
    "roc_bmi, thres_bmi = analyze_confounders(democol='Overweight', demosavename='bmi')"
   ]
  }
 ],
 "metadata": {
  "kernelspec": {
   "display_name": "Python 3",
   "language": "python",
   "name": "python3"
  },
  "language_info": {
   "codemirror_mode": {
    "name": "ipython",
    "version": 3
   },
   "file_extension": ".py",
   "mimetype": "text/x-python",
   "name": "python",
   "nbconvert_exporter": "python",
   "pygments_lexer": "ipython3",
   "version": "3.11.9"
  }
 },
 "nbformat": 4,
 "nbformat_minor": 2
}
