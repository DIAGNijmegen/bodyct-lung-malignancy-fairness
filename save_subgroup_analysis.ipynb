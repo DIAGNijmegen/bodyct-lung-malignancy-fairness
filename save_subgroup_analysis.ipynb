{
 "cells": [
  {
   "cell_type": "code",
   "execution_count": null,
   "metadata": {},
   "outputs": [],
   "source": [
    "import pandas as pd\n",
    "import json\n",
    "from IPython.display import display, Markdown\n",
    "\n",
    "from utilities import data, roc, threshold\n",
    "from utilities.info import *"
   ]
  },
  {
   "cell_type": "code",
   "execution_count": null,
   "metadata": {},
   "outputs": [],
   "source": [
    "RESULTS_DIR = f\"{EXPERIMENT_DIR}/temp-results\"\n",
    "NUM_BOOTSTRAPS = 10\n",
    "FILE_DIR, RESULTS_DIR"
   ]
  },
  {
   "cell_type": "markdown",
   "metadata": {},
   "source": [
    "## DLCST"
   ]
  },
  {
   "cell_type": "code",
   "execution_count": null,
   "metadata": {},
   "outputs": [],
   "source": [
    "dlcst_preds = pd.read_csv(f\"{FILE_DIR}/dlcst_allmodels_cal.csv\", header=0)\n",
    "print(len(dlcst_preds))\n",
    "\n",
    "DLCST_MODELCOLS = {\n",
    "    \"Venkadesh\": \"Ensemble_Kiran_cal\",\n",
    "    \"de Haas\": \"thijmen_mean_cal\",\n",
    "    \"PanCan2b\": \"PanCan2b\",\n",
    "    \"Sybil year 1\": \"sybil_year1\",\n",
    "}\n",
    "\n",
    "dlcst_preds, dlcst_democols = data.bin_numerical_columns(dlcst_preds, DLCST_DEMOCOLS)\n",
    "dlcst_democols"
   ]
  },
  {
   "cell_type": "code",
   "execution_count": null,
   "metadata": {},
   "outputs": [],
   "source": [
    "roc_dlcst = roc.all_results_subgroups_models(\n",
    "    dlcst_preds, dlcst_democols['cat'], models=DLCST_MODELCOLS, \n",
    "    csvpath=f\"{RESULTS_DIR}/auroc-dlcst-{len(dlcst_preds)}.csv\", \n",
    "    plot=False, num_bootstraps=NUM_BOOTSTRAPS)\n",
    "roc_dlcst"
   ]
  },
  {
   "cell_type": "code",
   "execution_count": null,
   "metadata": {},
   "outputs": [],
   "source": [
    "dlcst_policies, _ = threshold.get_threshold_policies(dlcst_preds, models=DLCST_MODELCOLS, policies=THRESHOLD_POLICIES, brock=True)\n",
    "dlcst_policies"
   ]
  },
  {
   "cell_type": "code",
   "execution_count": null,
   "metadata": {},
   "outputs": [],
   "source": [
    "dlcst_thresholds = threshold.all_results_subgroups_models(\n",
    "    dlcst_preds, dlcst_democols['cat'], policies=dlcst_policies, models=DLCST_MODELCOLS, \n",
    "    csvpath=f'{RESULTS_DIR}/threshold-perfs-dlcst-{len(dlcst_preds)}.csv', \n",
    "    plot=False, num_bootstraps=NUM_BOOTSTRAPS)\n",
    "\n",
    "dlcst_thresholds"
   ]
  },
  {
   "cell_type": "markdown",
   "metadata": {},
   "source": [
    "# NLST"
   ]
  },
  {
   "cell_type": "code",
   "execution_count": null,
   "metadata": {},
   "outputs": [],
   "source": [
    "nlst_preds_nodule = pd.read_csv(f\"{FILE_DIR}/nlst_allmodels_demos.csv\")\n",
    "\n",
    "with open(f'{FILE_DIR}/nlst_democols.json') as json_data:\n",
    "    nlst_democols_original = json.load(json_data)\n",
    "    json_data.close()\n",
    "\n",
    "nlst_democols_original['cat'].pop('lungcanc')"
   ]
  },
  {
   "cell_type": "markdown",
   "metadata": {},
   "source": [
    "## NLST Scans (all)"
   ]
  },
  {
   "cell_type": "code",
   "execution_count": null,
   "metadata": {},
   "outputs": [],
   "source": [
    "nlst_allscans, nlst_allscans_democols, nlst_allscans_models = data.prep_nlst_preds(nlst_preds_nodule, nlst_democols_original, scanlevel=True, tijmen=False, sybil=True, bin_num=True)\n",
    "print(len(nlst_allscans), \" Scans\")\n",
    "\n",
    "display(nlst_allscans_models)\n",
    "nlst_allscans_democols"
   ]
  },
  {
   "cell_type": "code",
   "execution_count": null,
   "metadata": {},
   "outputs": [],
   "source": [
    "roc_nlst_allscans = roc.all_results_subgroups_models(nlst_allscans, nlst_allscans_democols['cat'], models=nlst_allscans_models, \n",
    "                                            csvpath=f\"{RESULTS_DIR}/auroc-nlst-{len(nlst_allscans)}.csv\", \n",
    "                                            plot=False, num_bootstraps=NUM_BOOTSTRAPS)\n",
    "roc_nlst_allscans"
   ]
  },
  {
   "cell_type": "code",
   "execution_count": null,
   "metadata": {},
   "outputs": [],
   "source": [
    "nlst_allscans_policies, _ = threshold.get_threshold_policies(nlst_allscans, models=nlst_allscans_models, policies=THRESHOLD_POLICIES, brock=True)\n",
    "nlst_allscans_policies"
   ]
  },
  {
   "cell_type": "code",
   "execution_count": null,
   "metadata": {},
   "outputs": [],
   "source": [
    "threshold_allscans = threshold.all_results_subgroups_models(\n",
    "    nlst_allscans, nlst_allscans_democols['cat'], policies=nlst_allscans_policies, models=nlst_allscans_models, \n",
    "    csvpath=f'{RESULTS_DIR}/threshold-perfs-nlst-{len(nlst_allscans)}.csv', \n",
    "    plot=False, num_bootstraps=NUM_BOOTSTRAPS)\n",
    "\n",
    "threshold_allscans"
   ]
  },
  {
   "cell_type": "markdown",
   "metadata": {},
   "source": [
    "## NLST Scans (tijmen)"
   ]
  },
  {
   "cell_type": "code",
   "execution_count": null,
   "metadata": {},
   "outputs": [],
   "source": [
    "nlst_somescans, nlst_somescans_democols, nlst_somescans_models = data.prep_nlst_preds(nlst_preds_nodule, nlst_democols_original, scanlevel=True, tijmen=True, sybil=True, bin_num=True)\n",
    "print(len(nlst_somescans), \" Scans\")\n",
    "\n",
    "display(nlst_somescans_models)\n",
    "nlst_somescans_democols"
   ]
  },
  {
   "cell_type": "code",
   "execution_count": null,
   "metadata": {},
   "outputs": [],
   "source": [
    "roc_nlst_somescans = roc.all_results_subgroups_models(nlst_somescans, nlst_somescans_democols['cat'], models=nlst_somescans_models, \n",
    "                                            csvpath=f\"{RESULTS_DIR}/auroc-nlst-{len(nlst_somescans)}.csv\", \n",
    "                                            plot=False, num_bootstraps=NUM_BOOTSTRAPS)\n",
    "roc_nlst_somescans"
   ]
  },
  {
   "cell_type": "code",
   "execution_count": null,
   "metadata": {},
   "outputs": [],
   "source": [
    "nlst_somescans_policies, _ = threshold.get_threshold_policies(nlst_somescans, models=nlst_somescans_models, policies=THRESHOLD_POLICIES, brock=True)\n",
    "nlst_somescans_policies"
   ]
  },
  {
   "cell_type": "code",
   "execution_count": null,
   "metadata": {},
   "outputs": [],
   "source": [
    "threshold_somescans = threshold.all_results_subgroups_models(\n",
    "    nlst_somescans, nlst_somescans_democols['cat'], policies=nlst_somescans_policies, models=nlst_somescans_models, \n",
    "    csvpath=f'{RESULTS_DIR}/threshold-perfs-nlst-{len(nlst_somescans)}.csv', \n",
    "    plot=False, num_bootstraps=NUM_BOOTSTRAPS)\n",
    "\n",
    "threshold_somescans"
   ]
  },
  {
   "cell_type": "markdown",
   "metadata": {},
   "source": [
    "## NLST Nodules (all)"
   ]
  },
  {
   "cell_type": "code",
   "execution_count": null,
   "metadata": {},
   "outputs": [],
   "source": [
    "nlst_allnodules, nlst_allnodules_democols, nlst_allnodules_models = data.prep_nlst_preds(nlst_preds_nodule, nlst_democols_original, scanlevel=False, tijmen=False, sybil=False, bin_num=True)\n",
    "print(len(nlst_allnodules), \" nodules\")\n",
    "\n",
    "display(nlst_allnodules_models)\n",
    "nlst_allnodules_democols"
   ]
  },
  {
   "cell_type": "code",
   "execution_count": null,
   "metadata": {},
   "outputs": [],
   "source": [
    "roc_nlst_allnodules = roc.all_results_subgroups_models(nlst_allnodules, nlst_allnodules_democols['cat'], models=nlst_allnodules_models, \n",
    "                                            csvpath=f\"{RESULTS_DIR}/auroc-nlst-{len(nlst_allnodules)}.csv\", \n",
    "                                            plot=False, num_bootstraps=NUM_BOOTSTRAPS)\n",
    "roc_nlst_allnodules"
   ]
  },
  {
   "cell_type": "code",
   "execution_count": null,
   "metadata": {},
   "outputs": [],
   "source": [
    "nlst_allnodules_policies, _ = threshold.get_threshold_policies(nlst_allnodules, models=nlst_allnodules_models, policies=THRESHOLD_POLICIES, brock=True)\n",
    "nlst_allnodules_policies"
   ]
  },
  {
   "cell_type": "code",
   "execution_count": null,
   "metadata": {},
   "outputs": [],
   "source": [
    "threshold_allnodules = threshold.all_results_subgroups_models(\n",
    "    nlst_allnodules, nlst_allnodules_democols['cat'], policies=nlst_allnodules_policies, models=nlst_allnodules_models, \n",
    "    csvpath=f'{RESULTS_DIR}/threshold-perfs-nlst-{len(nlst_allnodules)}.csv', \n",
    "    plot=False, num_bootstraps=NUM_BOOTSTRAPS)\n",
    "\n",
    "threshold_allnodules"
   ]
  },
  {
   "cell_type": "markdown",
   "metadata": {},
   "source": [
    "## NLST Nodules (tijmen)"
   ]
  },
  {
   "cell_type": "code",
   "execution_count": null,
   "metadata": {},
   "outputs": [],
   "source": [
    "nlst_somenodules, nlst_somenodules_democols, nlst_somenodules_models = data.prep_nlst_preds(nlst_preds_nodule, nlst_democols_original, scanlevel=False, tijmen=True, sybil=False, bin_num=True)\n",
    "print(len(nlst_somenodules), \" nodules\")\n",
    "\n",
    "display(nlst_somenodules_models)\n",
    "nlst_somenodules_democols"
   ]
  },
  {
   "cell_type": "code",
   "execution_count": null,
   "metadata": {},
   "outputs": [],
   "source": [
    "roc_nlst_somenodules = roc.all_results_subgroups_models(nlst_somenodules, nlst_somenodules_democols['cat'], models=nlst_somenodules_models, \n",
    "                                            csvpath=f\"{RESULTS_DIR}/auroc-nlst-{len(nlst_somenodules)}.csv\", \n",
    "                                            plot=False, num_bootstraps=NUM_BOOTSTRAPS)\n",
    "roc_nlst_somenodules"
   ]
  },
  {
   "cell_type": "code",
   "execution_count": null,
   "metadata": {},
   "outputs": [],
   "source": [
    "nlst_somenodules_policies, _ = threshold.get_threshold_policies(nlst_somenodules, models=nlst_somenodules_models, policies=THRESHOLD_POLICIES, brock=True)\n",
    "nlst_somenodules_policies"
   ]
  },
  {
   "cell_type": "code",
   "execution_count": null,
   "metadata": {},
   "outputs": [],
   "source": [
    "threshold_somenodules = threshold.all_results_subgroups_models(\n",
    "    nlst_somenodules, nlst_somenodules_democols['cat'], policies=nlst_somenodules_policies, models=nlst_somenodules_models, \n",
    "    csvpath=f'{RESULTS_DIR}/threshold-perfs-nlst-{len(nlst_somenodules)}.csv', \n",
    "    plot=False, num_bootstraps=NUM_BOOTSTRAPS)\n",
    "\n",
    "threshold_somenodules"
   ]
  }
 ],
 "metadata": {
  "kernelspec": {
   "display_name": "Python 3",
   "language": "python",
   "name": "python3"
  },
  "language_info": {
   "codemirror_mode": {
    "name": "ipython",
    "version": 3
   },
   "file_extension": ".py",
   "mimetype": "text/x-python",
   "name": "python",
   "nbconvert_exporter": "python",
   "pygments_lexer": "ipython3",
   "version": "3.11.9"
  }
 },
 "nbformat": 4,
 "nbformat_minor": 2
}
