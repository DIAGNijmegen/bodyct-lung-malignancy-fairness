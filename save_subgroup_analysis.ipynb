{
 "cells": [
  {
   "cell_type": "code",
   "execution_count": null,
   "metadata": {},
   "outputs": [],
   "source": [
    "import pandas as pd\n",
    "import json\n",
    "from IPython.display import display, Markdown\n",
    "\n",
    "from utilities import data, roc, threshold\n",
    "from utilities.info import *"
   ]
  },
  {
   "cell_type": "code",
   "execution_count": null,
   "metadata": {},
   "outputs": [],
   "source": [
    "NUM_BOOTSTRAPS = 1000\n",
    "FILE_DIR, RESULTS_DIR"
   ]
  },
  {
   "cell_type": "code",
   "execution_count": null,
   "metadata": {},
   "outputs": [],
   "source": [
    "nlst_preds_nodule = pd.read_csv(f\"{FILE_DIR}/nlst_allmodels_demos.csv\")\n",
    "\n",
    "with open(f'{FILE_DIR}/nlst_democols.json') as json_data:\n",
    "    nlst_democols_original = json.load(json_data)\n",
    "    json_data.close()\n",
    "\n",
    "nlst_democols_original['cat'].pop('lungcanc')"
   ]
  },
  {
   "cell_type": "markdown",
   "metadata": {},
   "source": [
    "## NLST Scans (all)"
   ]
  },
  {
   "cell_type": "code",
   "execution_count": null,
   "metadata": {},
   "outputs": [],
   "source": [
    "nlst_allscans, nlst_allscans_democols, nlst_allscans_models = data.prep_nlst_preds(nlst_preds_nodule, nlst_democols_original, scanlevel=True, sybil=True, bin_num=True)\n",
    "print(len(nlst_allscans), \" Scans\")\n",
    "\n",
    "display(nlst_allscans_models)\n",
    "nlst_allscans_democols"
   ]
  },
  {
   "cell_type": "code",
   "execution_count": null,
   "metadata": {},
   "outputs": [],
   "source": [
    "roc_nlst_allscans = roc.all_results_subgroups_models(nlst_allscans, nlst_allscans_democols['cat'], models=nlst_allscans_models, \n",
    "                                            csvpath=f\"{RESULTS_DIR}/auroc-nlst-{len(nlst_allscans)}.csv\", \n",
    "                                            plot=False, num_bootstraps=NUM_BOOTSTRAPS)\n",
    "roc_nlst_allscans"
   ]
  },
  {
   "cell_type": "code",
   "execution_count": null,
   "metadata": {},
   "outputs": [],
   "source": [
    "nlst_allscans_policies, _ = threshold.get_threshold_policies(nlst_allscans, models=nlst_allscans_models, policies=THRESHOLD_POLICIES, brock=True)\n",
    "nlst_allscans_policies"
   ]
  },
  {
   "cell_type": "code",
   "execution_count": null,
   "metadata": {},
   "outputs": [],
   "source": [
    "threshold_allscans = threshold.all_results_subgroups_models(\n",
    "    nlst_allscans, nlst_allscans_democols['cat'], policies=nlst_allscans_policies, models=nlst_allscans_models, \n",
    "    csvpath=f'{RESULTS_DIR}/threshold-perfs-nlst-{len(nlst_allscans)}.csv', \n",
    "    plot=False, num_bootstraps=NUM_BOOTSTRAPS)\n",
    "\n",
    "threshold_allscans"
   ]
  }
 ],
 "metadata": {
  "kernelspec": {
   "display_name": "Python 3",
   "language": "python",
   "name": "python3"
  },
  "language_info": {
   "codemirror_mode": {
    "name": "ipython",
    "version": 3
   },
   "file_extension": ".py",
   "mimetype": "text/x-python",
   "name": "python",
   "nbconvert_exporter": "python",
   "pygments_lexer": "ipython3",
   "version": "3.11.9"
  }
 },
 "nbformat": 4,
 "nbformat_minor": 2
}
