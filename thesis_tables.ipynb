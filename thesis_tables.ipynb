{
 "cells": [
  {
   "cell_type": "code",
   "execution_count": null,
   "metadata": {},
   "outputs": [],
   "source": [
    "import pandas as pd\n",
    "import os\n",
    "import numpy as np\n",
    "import itertools\n",
    "import seaborn as sns\n",
    "import matplotlib.pyplot as plt\n",
    "import json\n",
    "from IPython.display import display, Markdown\n",
    "\n",
    "import sys\n",
    "sys.path.append('../')\n",
    "\n",
    "from evalutils.roc import get_bootstrapped_roc_ci_curves\n",
    "from sklearn.metrics import confusion_matrix, ConfusionMatrixDisplay\n",
    "\n",
    "from utilities import data, roc, threshold, output, info\n",
    "from utilities.info import *"
   ]
  },
  {
   "cell_type": "code",
   "execution_count": null,
   "metadata": {},
   "outputs": [],
   "source": [
    "print(\"FILES:\\t\", FILE_DIR)\n",
    "print(\"RESULT:\\t\", RESULTS_DIR)\n",
    "print(\"FIGS:\\t\", FIG_DIR)\n",
    "print(\"TABLES:\\t\", TAB_DIR)"
   ]
  },
  {
   "cell_type": "code",
   "execution_count": null,
   "metadata": {},
   "outputs": [],
   "source": [
    "POLICIES_TO_USE = ['90% Sensitivity', '90% Specificity', 'Brock ILST (6%)']\n",
    "TABLE_SCORE_PRECISION = 2\n",
    "MIN_MAL = 15\n",
    "TOP_N_CONFOUNDERS = 10"
   ]
  },
  {
   "cell_type": "code",
   "execution_count": null,
   "metadata": {},
   "outputs": [],
   "source": [
    "nlst_preds_nodule = pd.read_csv(f\"{FILE_DIR}/nlst_allmodels_demos.csv\")\n",
    "nlst_preds_nodule.info()"
   ]
  },
  {
   "cell_type": "code",
   "execution_count": null,
   "metadata": {},
   "outputs": [],
   "source": [
    "with open(f'{FILE_DIR}/nlst_democols.json') as json_data:\n",
    "    nlst_democols_og = json.load(json_data)\n",
    "    json_data.close()\n",
    "\n",
    "nlst_democols_og"
   ]
  },
  {
   "cell_type": "markdown",
   "metadata": {},
   "source": [
    "# Materials"
   ]
  },
  {
   "cell_type": "markdown",
   "metadata": {},
   "source": [
    "## Demographic characteristics of the NLST validation sets (n=5911 scans, n=1172 scans)."
   ]
  },
  {
   "cell_type": "code",
   "execution_count": null,
   "metadata": {},
   "outputs": [],
   "source": [
    "nlst_5911, _, _ = data.prep_nlst_preds(nlst_preds_nodule, nlst_democols_og, scanlevel=True, tijmen=False, sybil=True, pretty=True, bin_num=False)\n",
    "nlst_1172, nlst_democols, _ = data.prep_nlst_preds(nlst_preds_nodule, nlst_democols_og, scanlevel=True, tijmen=True, sybil=True, pretty=True, bin_num=False)\n",
    "len(nlst_5911), len(nlst_1172)"
   ]
  },
  {
   "cell_type": "code",
   "execution_count": null,
   "metadata": {},
   "outputs": [],
   "source": [
    "nlstval_full_mal = nlst_5911.query('label == 1')\n",
    "nlstval_full_ben = nlst_5911.query('label == 0')\n",
    "print('full:', len(nlstval_full_ben), 'ben', len(nlstval_full_mal), 'mal')\n",
    "\n",
    "nlstval_some_mal = nlst_1172.query('label == 1')\n",
    "nlstval_some_ben = nlst_1172.query('label == 0')\n",
    "print('some:', len(nlstval_some_ben), 'ben', len(nlstval_some_mal), 'mal')"
   ]
  },
  {
   "cell_type": "code",
   "execution_count": null,
   "metadata": {},
   "outputs": [],
   "source": [
    "validation_sets = {\n",
    "    \"Full (malignant)\": nlstval_full_mal,\n",
    "    \"Full (benign)\": nlstval_full_ben,\n",
    "    # \"Full (all)\": nlst_5911,\n",
    "    \"Partial (malignant)\": nlstval_some_mal,\n",
    "    \"Partial (benign)\": nlstval_some_ben,\n",
    "    # \"Partial (all)\": nlst_1172,\n",
    "}"
   ]
  },
  {
   "cell_type": "code",
   "execution_count": null,
   "metadata": {},
   "outputs": [],
   "source": [
    "cat_df0 = data.combine_diff_dfs(nlst_democols['cat'], data.diffs_category_prevalence, validation_sets)\n",
    "cat_df = cat_df0.copy(deep=True)\n",
    "for s in validation_sets:\n",
    "    cat_df[f\"{s}_info\"] = cat_df.apply(lambda x: f'{0 if np.isnan(x[f\"{s}_freq\"]) else int(x[f\"{s}_freq\"])} ({0 if np.isnan(x[f\"{s}_norm\"]) else np.around(x[f\"{s}_norm\"], 1)})', axis=1)\n",
    "\n",
    "cat_df = cat_df[['category', 'attribute', 'value'] + [f\"{s}_info\" for s in validation_sets]].dropna(axis=0)\n",
    "cat_df = cat_df.set_index(pd.MultiIndex.from_frame(cat_df[['category', 'attribute', 'value']]))[[f\"{s}_info\" for s in validation_sets]]"
   ]
  },
  {
   "cell_type": "code",
   "execution_count": null,
   "metadata": {},
   "outputs": [],
   "source": [
    "\n",
    "attribute_valid_subgroups_1172 = cat_df0[cat_df0['Partial (malignant)_freq'] > 15][['attribute', 'value', 'Partial (malignant)_freq']].groupby('attribute')['value'].count()\n",
    "invalid_attributes_1172 = list(attribute_valid_subgroups_1172[attribute_valid_subgroups_1172 < 2].index)\n",
    "\n",
    "attribute_valid_subgroups_5911 = cat_df0[cat_df0['Full (malignant)_freq'] > 15][['attribute', 'value', 'Full (malignant)_freq']].groupby('attribute')['value'].count()\n",
    "invalid_attributes_5911 = list(attribute_valid_subgroups_5911[attribute_valid_subgroups_5911 < 2].index)\n",
    "\n",
    "total_categorical_columns = cat_df0['attribute'].nunique()\n",
    "print(\"invalid:\", len(invalid_attributes_5911), len(invalid_attributes_1172))\n",
    "print(\"valid:\", total_categorical_columns - len(invalid_attributes_5911), total_categorical_columns - len(invalid_attributes_1172))"
   ]
  },
  {
   "cell_type": "code",
   "execution_count": null,
   "metadata": {},
   "outputs": [],
   "source": [
    "num_df = data.combine_diff_dfs(nlst_democols['num'], data.diffs_numerical_means, validation_sets)\n",
    "num_df = num_df[(num_df['value'].isin(['Median (IQR)']))][['category', 'attribute', 'value'] + [f\"{s}\" for s in validation_sets]].dropna(axis=0)\n",
    "num_df = num_df.set_index(pd.MultiIndex.from_frame(num_df[['category', 'attribute', 'value']]))[[f\"{s}\" for s in validation_sets]]"
   ]
  },
  {
   "cell_type": "code",
   "execution_count": null,
   "metadata": {},
   "outputs": [],
   "source": [
    "multicol_idx = pd.MultiIndex.from_tuples([\n",
    "    ('Full Dataset (n=5911 Scans)', 'Malignant (n=581)'),\n",
    "    ('Full Dataset (n=5911 Scans)', 'Benign (n=5330)'),\n",
    "    # ('Full Dataset (n=5911 Scans)', 'Total'),\n",
    "    ('Partial Dataset (n=1172 Scans)', 'Malignant (n=127)'),\n",
    "    ('Partial Dataset (n=1172 Scans)', 'Benign (n=1045)'),\n",
    "    # ('Partial Dataset (n=1172 Scans)', 'Total'),\n",
    "])\n",
    "\n",
    "cat_df.columns = multicol_idx\n",
    "num_df.columns = multicol_idx"
   ]
  },
  {
   "cell_type": "code",
   "execution_count": null,
   "metadata": {},
   "outputs": [],
   "source": [
    "df_out = pd.concat([cat_df, num_df], axis=0)\n",
    "df_out"
   ]
  },
  {
   "cell_type": "code",
   "execution_count": null,
   "metadata": {},
   "outputs": [],
   "source": [
    "df_other = df_out[df_out.index.isin(['Nodule', 'Smoking', 'Work History', 'Disease Diagnosis', 'Lung Cancer', 'Other'], level='category')].sort_index()\n",
    "len(df_other)"
   ]
  },
  {
   "cell_type": "code",
   "execution_count": null,
   "metadata": {},
   "outputs": [],
   "source": [
    "df_other[~df_other.index.isin([False], level='value')].droplevel(level='value').style.format(precision=1, na_rep='-').format_index(output.latex_replace_arrowbrackets).format(output.latex_replace_arrowbrackets).to_latex(\n",
    "        buf=f\"{TAB_DIR}/extra-results/nlst-splits-NonDemo.tex\",\n",
    "        hrules=True, label=f'tab:nlstSplitsNonDemo', environment='table*', column_format='ll|rr|rr', position='htbp!',\n",
    "        multirow_align='c', multicol_align='c',  position_float='centering', clines='skip-last;data',\n",
    "        caption=f'Non-demographic characteristics of the NLST validation sets (n={len(nlst_5911)} scans, n={len(nlst_1172)} scans). For categorical characteristics, the number is included with a percentage in parentheses. For numerical characteristics, the median is included with interquartile range in parentheses.')"
   ]
  },
  {
   "cell_type": "code",
   "execution_count": null,
   "metadata": {},
   "outputs": [],
   "source": [
    "df_out.xs('Lung Cancer', level='category')"
   ]
  },
  {
   "cell_type": "code",
   "execution_count": null,
   "metadata": {},
   "outputs": [],
   "source": [
    "df_out2 = df_out.xs('Demographics', level='category')\n",
    "df_out2"
   ]
  },
  {
   "cell_type": "code",
   "execution_count": null,
   "metadata": {},
   "outputs": [],
   "source": [
    "print(df_out2.style.format(precision=1, na_rep='-').format_index(output.latex_replace_arrowbrackets).format(output.latex_replace_arrowbrackets).to_latex(\n",
    "    buf=f\"{TAB_DIR}/datasetDemos.tex\",\n",
    "    hrules=True, label='tab:datasetDemos', environment='table*', column_format='ll|rr|rr', position='h!',\n",
    "    multirow_align='c', multicol_align='c',  position_float='centering', clines='skip-last;data',\n",
    "    caption=f'Demographic characteristics of the NLST validation sets (n={len(nlst_5911)} scans, n={len(nlst_1172)} scans). HS = High School.'))"
   ]
  },
  {
   "cell_type": "markdown",
   "metadata": {},
   "source": [
    "## DLCST vs. NLST"
   ]
  },
  {
   "cell_type": "code",
   "execution_count": null,
   "metadata": {},
   "outputs": [],
   "source": [
    "nlst_valset, nlst_cols, _ = data.prep_nlst_preds(nlst_preds_nodule, nlst_democols_og, scanlevel=True, tijmen=False, sybil=True, pretty=True, bin_num=False)\n",
    "dlcst_preds = pd.read_csv(f\"{FILE_DIR}/dlcst_allmodels_cal.csv\", header=0)\n",
    "dlcst_valset, dlcst_cols = data.nlst_pretty_labels(dlcst_preds, DLCST_DEMOCOLS)"
   ]
  },
  {
   "cell_type": "code",
   "execution_count": null,
   "metadata": {},
   "outputs": [],
   "source": [
    "popshift_check = {\n",
    "    \"NLST_mal\": nlst_valset.query('label == 1'),\n",
    "    \"NLST_ben\": nlst_valset.query('label == 0'),\n",
    "    # \"NLST_full\": nlst_valset,\n",
    "    \"DLCST_mal\": dlcst_valset.query('label == 1'),\n",
    "    \"DLCST_ben\": dlcst_valset.query('label == 0'),\n",
    "    # \"DLCST_full\": dlcst_valset,   \n",
    "}\n",
    "\n",
    "popshift_multi_idx = pd.MultiIndex.from_tuples([\n",
    "    ('NLST Validation (n=5911 Scans)', 'Malignant (n=581)'),\n",
    "    ('NLST Validation (n=5911 Scans)', 'Benign (n=5330)'),\n",
    "    # ('NLST Validation (n=5911 Scans)', 'Total'),\n",
    "    ('DLCST Validation (n=599 Scans)', 'Malignant (n=59)'),\n",
    "    ('DLCST Validation (n=599 Scans)', 'Benign (n=540)'),\n",
    "    # ('DLCST Validation (n=599 Scans)', 'Total'),\n",
    "])\n",
    "\n",
    "df_popshift = data.combine_diff_dfs(dlcst_cols['cat'], dfsets=popshift_check, dispdf=False)\n",
    "for s in popshift_check:\n",
    "    df_popshift[f\"{s}_info\"] = df_popshift.apply(lambda x: f'{0 if np.isnan(x[f\"{s}_freq\"]) else int(x[f\"{s}_freq\"])} ({0 if np.isnan(x[f\"{s}_norm\"]) else np.around(x[f\"{s}_norm\"], 1)})', axis=1)\n",
    "\n",
    "cat_multiidx = pd.MultiIndex.from_frame(df_popshift[['attribute', 'value']])\n",
    "df_popshift = df_popshift.set_index(cat_multiidx)[[f\"{s}_info\" for s in popshift_check]]\n",
    "df_popshift.columns = popshift_multi_idx"
   ]
  },
  {
   "cell_type": "code",
   "execution_count": null,
   "metadata": {},
   "outputs": [],
   "source": [
    "num_popshift = data.combine_diff_dfs(dlcst_cols['num'], df_func=data.diffs_numerical_means, dfsets=popshift_check, dispdf=False)\n",
    "num_popshift = num_popshift[\n",
    "    # (num_popshift['category'] == \"Demographics\") & \n",
    "    (num_popshift['value'].isin(['Median (IQR)']))\n",
    "    # & (df['attribute'].isin(['Gender', 'Race', 'Education Status', 'Marital Status', 'Ethnic']))\n",
    "][['attribute', 'value'] + [f\"{s}\" for s in popshift_check]].dropna(axis=0)\n",
    "num_popshift = num_popshift.set_index(pd.MultiIndex.from_frame(num_popshift[['attribute', 'value']]))[[f\"{s}\" for s in popshift_check]]\n",
    "num_popshift.columns = popshift_multi_idx"
   ]
  },
  {
   "cell_type": "code",
   "execution_count": null,
   "metadata": {},
   "outputs": [],
   "source": [
    "df_popshift = pd.concat([df_popshift, num_popshift], axis=0)\n",
    "df_popshift"
   ]
  },
  {
   "cell_type": "code",
   "execution_count": null,
   "metadata": {},
   "outputs": [],
   "source": [
    "print(df_popshift.style.format(precision=1, na_rep='-').to_latex(\n",
    "    buf=f\"{TAB_DIR}/populationShift.tex\",\n",
    "    hrules=True, label='tab:populationShift', environment='table*', column_format='ll|rr|rr', position='h!',\n",
    "    multirow_align='c', multicol_align='c',  position_float='centering', clines='skip-last;data',\n",
    "    caption=f'Demographic characteristics of the DLCST validation set (n=599 scans), compared to those from the NLST validation set (n=5911 scans).'))"
   ]
  },
  {
   "cell_type": "markdown",
   "metadata": {},
   "source": [
    "# Methods"
   ]
  },
  {
   "cell_type": "markdown",
   "metadata": {},
   "source": [
    "### Thresholds from policies on validation sets."
   ]
  },
  {
   "cell_type": "code",
   "execution_count": null,
   "metadata": {},
   "outputs": [],
   "source": [
    "dlcst_policies, _ = threshold.get_threshold_policies(dlcst_preds, models=output.DLCST_MODELCOLS, policies=[(\"Sensitivity\", 0.9),(\"Specificity\", 0.9)], brock=True)"
   ]
  },
  {
   "cell_type": "code",
   "execution_count": null,
   "metadata": {},
   "outputs": [],
   "source": [
    "nlst_1172, _, _ = data.prep_nlst_preds(nlst_preds_nodule, nlst_democols_og, scanlevel=True, tijmen=True, sybil=True, pretty=True, bin_num=False)\n",
    "nlst_1172_policies, _ = threshold.get_threshold_policies(nlst_1172, models=output.NLST_1172_MODELCOLS, policies=[(\"Sensitivity\", 0.9),(\"Specificity\", 0.9)], brock=True)"
   ]
  },
  {
   "cell_type": "code",
   "execution_count": null,
   "metadata": {},
   "outputs": [],
   "source": [
    "nlst_5911, _, _ = data.prep_nlst_preds(nlst_preds_nodule, nlst_democols_og, scanlevel=True, tijmen=False, sybil=True, pretty=True, bin_num=False)\n",
    "nlst_5911_policies, _ = threshold.get_threshold_policies(nlst_5911, models=output.NLST_5911_MODELCOLS, policies=[(\"Sensitivity\", 0.9),(\"Specificity\", 0.9)], brock=True)"
   ]
  },
  {
   "cell_type": "code",
   "execution_count": null,
   "metadata": {},
   "outputs": [],
   "source": [
    "policy_dfs = {\n",
    "    \"DLCST (n=599)\": dlcst_policies.copy(deep=True), \n",
    "    \"NLST Partial (n=1172)\": nlst_1172_policies.copy(deep=True), \n",
    "    \"NLST Full (n=5911)\": nlst_5911_policies.copy(deep=True)\n",
    "}\n",
    "\n",
    "for val in policy_dfs:\n",
    "    if 'Brock' in policy_dfs[val].columns:\n",
    "        policy_dfs[val].drop(columns='Brock', inplace=True)\n",
    "    policy_dfs[val].rename(columns={'Sensitivity=0.9': '90\\% Sensitivity', 'Specificity=0.9': '90\\% Specificity'}, inplace=True)\n",
    "\n",
    "combined_policies = pd.concat(policy_dfs, axis=1).sort_index(ascending=False)\n",
    "combined_policies = combined_policies[combined_policies.index != 'De Haas Global (Shown Nodule)']\n",
    "combined_policies"
   ]
  },
  {
   "cell_type": "code",
   "execution_count": null,
   "metadata": {},
   "outputs": [],
   "source": [
    "print(combined_policies.style.format(precision=3, na_rep='\\\\verb|-|').to_latex(\n",
    "    buf=f\"{TAB_DIR}/thresholds.tex\",\n",
    "    hrules=True, label='tab:thresholds', environment='table*', column_format='l|rr|rr|rr', position='h!',\n",
    "    multirow_align='c', multicol_align='c',  position_float='centering', clines='skip-last;data',\n",
    "    caption='Thresholds used to evaluate model performance on DLCST and both NLST validation datasets. All models are also evaluated on the ILST moderate risk threshold of 6\\% (0.06) \\cite{Lim2020-ilst}.'))"
   ]
  },
  {
   "cell_type": "markdown",
   "metadata": {},
   "source": [
    "# Results"
   ]
  },
  {
   "cell_type": "markdown",
   "metadata": {},
   "source": [
    "## ROC Tables"
   ]
  },
  {
   "cell_type": "markdown",
   "metadata": {},
   "source": [
    "### DLCST"
   ]
  },
  {
   "cell_type": "code",
   "execution_count": null,
   "metadata": {},
   "outputs": [],
   "source": [
    "dlcst_results = pd.read_csv(f\"{RESULTS_DIR}/auroc-dlcst-599.csv\", index_col=0)\n",
    "dlcst_model_order = ['Venkadesh', 'de Haas', 'Sybil year 1', 'PanCan2b']\n",
    "dlcst_out = output.roc_results_pretty(dlcst_results, dlcst_model_order, precision=TABLE_SCORE_PRECISION).drop(columns=['Malignant Scans'])\n",
    "dlcst_out_demos = dlcst_out.xs('Demographics', level='Category')\n",
    "dlcst_out_demos"
   ]
  },
  {
   "cell_type": "code",
   "execution_count": null,
   "metadata": {},
   "outputs": [],
   "source": [
    "print(dlcst_out_demos.style\n",
    "        .format(output.latex_replace_arrowbrackets, escape='latex-math', na_rep='')\n",
    "        .format_index(output.latex_replace_arrowbrackets, escape='latex-math', axis=1)\n",
    "        .format_index(output.latex_replace_arrowbrackets, escape='latex-math', axis=0)\n",
    "        .to_latex(\n",
    "    buf=f\"{TAB_DIR}/resDLCSTdemoROC.tex\",\n",
    "    hrules=True, label='tab:resDLCSTdemoROC', environment='table*', column_format=f'll{\"|ll\"*len(dlcst_model_order)}', position='h!',\n",
    "    multirow_align='c', multicol_align='c',  position_float='centering', clines='skip-last;data',\n",
    "    caption='ROC AUC with 95\\% CIs for models on demographic characteristics when evaluated on the DLCST validation set (599 scans), including p values .'))"
   ]
  },
  {
   "cell_type": "code",
   "execution_count": null,
   "metadata": {},
   "outputs": [],
   "source": [
    "dlcst_out_other = dlcst_out.xs(\"Other\", level='Category')\n",
    "\n",
    "print(dlcst_out_other.style\n",
    "        .format(output.latex_replace_arrowbrackets, escape='latex-math', na_rep='')\n",
    "        .format_index(output.latex_replace_arrowbrackets, escape='latex-math', axis=1)\n",
    "        .format_index(output.latex_replace_arrowbrackets, escape='latex-math', axis=0)\n",
    "        .to_latex(\n",
    "    buf=f\"{TAB_DIR}/extra-results/resDLCSTotherROC.tex\",\n",
    "    hrules=True, label='tab:resDLCSTotherROC', environment='table*', column_format=f'll{\"|ll\"*len(dlcst_model_order)}', position='h!',\n",
    "    multirow_align='c', multicol_align='c',  position_float='centering', clines='skip-last;data',\n",
    "    caption='ROC AUC with 95\\% CIs for models on other characteristics when evaluated on the DLCST validation set (599 scans), including p values.'))\n",
    "\n",
    "dlcst_out_other"
   ]
  },
  {
   "cell_type": "markdown",
   "metadata": {},
   "source": [
    "### NLST (for Tijmen's combined model only.)"
   ]
  },
  {
   "cell_type": "code",
   "execution_count": null,
   "metadata": {},
   "outputs": [],
   "source": [
    "nlst_demos_to_include = ['Age', 'Sex', 'Race', 'HS Education', 'Height', 'Weight', 'BMI']\n",
    "nlst_tijmen_model_order = ['de Haas Combined', 'de Haas Local', 'de Haas Global (hidden nodule)']"
   ]
  },
  {
   "cell_type": "code",
   "execution_count": null,
   "metadata": {},
   "outputs": [],
   "source": [
    "nlst_tijmen_scan_res = pd.read_csv(f\"{RESULTS_DIR}/auroc-nlst-1172.csv\", index_col=0)\n",
    "\n",
    "nlst_tijmen_scan_out = output.roc_results_pretty(nlst_tijmen_scan_res, nlst_tijmen_model_order, precision=TABLE_SCORE_PRECISION).drop(columns=['Malignant Scans'])\n",
    "nlst_tijmen_scan_out_demos = nlst_tijmen_scan_out.xs('Demographics', level='Category').query('Attribute in @nlst_demos_to_include & Attribute not in @invalid_attributes_1172')\n",
    "nlst_tijmen_scan_out_demos"
   ]
  },
  {
   "cell_type": "code",
   "execution_count": null,
   "metadata": {},
   "outputs": [],
   "source": [
    "print(nlst_tijmen_scan_out_demos.style\n",
    "        .format(output.latex_replace_arrowbrackets, escape='latex-math', na_rep='')\n",
    "        .format_index(output.latex_replace_arrowbrackets, escape='latex-math', axis=1)\n",
    "        .format_index(output.latex_replace_arrowbrackets, escape='latex-math', axis=0)\n",
    "        .to_latex(\n",
    "    buf=f\"{TAB_DIR}/resNLSTtijmenROC.tex\",\n",
    "    hrules=True, label='tab:resNLSTtijmenROC', environment='table*', column_format=f'll{\"|ll\"*len(nlst_tijmen_model_order)}', position='h!',\n",
    "    multirow_align='c', multicol_align='c',  position_float='centering', clines='skip-last;data',\n",
    "    caption='ROC AUC with 95\\% CIs for the De Haas model and its constituent submodels on demographic characteristics when evaluated on the smaller NLST validation set (1172 scans), including p values. Race and High School Education analysis are not included since there are less than 15 malignant scans in the underrepresented subgroup. No significant demographic biases were found from the De Haas Combined model on this limited set of scans.'))"
   ]
  },
  {
   "cell_type": "markdown",
   "metadata": {},
   "source": [
    "### NLST for all other models"
   ]
  },
  {
   "cell_type": "code",
   "execution_count": null,
   "metadata": {},
   "outputs": [],
   "source": [
    "nlst_scan_res = pd.read_csv(f\"{RESULTS_DIR}/auroc-nlst-5911.csv\", index_col=0)\n",
    "nlst_model_order = ['Venkadesh',    'de Haas Local', 'de Haas Global (hidden nodule)', 'Sybil year 1', 'PanCan2b']\n",
    "nlst_scan_out = output.roc_results_pretty(nlst_scan_res, nlst_model_order, precision=TABLE_SCORE_PRECISION).drop(columns=['Malignant Scans'])\n",
    "nlst_scan_out_demos = nlst_scan_out.xs('Demographics', level='Category').query('Attribute in @nlst_demos_to_include & Attribute not in @invalid_attributes_5911')\n",
    "nlst_scan_out_demos"
   ]
  },
  {
   "cell_type": "code",
   "execution_count": null,
   "metadata": {},
   "outputs": [],
   "source": [
    "print(nlst_scan_out_demos.style\n",
    "        .format(output.latex_replace_arrowbrackets, escape='latex-math', na_rep='')\n",
    "        .format_index(output.latex_replace_arrowbrackets, escape='latex-math', axis=1)\n",
    "        .format_index(output.latex_replace_arrowbrackets, escape='latex-math', axis=0)\n",
    "        .to_latex(\n",
    "    buf=f\"{TAB_DIR}/resNLSTscanROC.tex\",\n",
    "    hrules=True, label='tab:resNLSTscanROC', environment='table*', column_format=f'll{\"|ll\"*len(nlst_model_order)}', position='h!',\n",
    "    multirow_align='c', multicol_align='c',  position_float='centering', clines='skip-last;data',\n",
    "    caption='ROC AUC with 95\\% CIs for models on demographic characteristics when evaluated on the larger NLST validation set (5911 scans), including p values.'))"
   ]
  },
  {
   "cell_type": "code",
   "execution_count": null,
   "metadata": {},
   "outputs": [],
   "source": [
    "for category in data.rename_types.values():\n",
    "    if category in ['Scanner', 'Demographics', 'Lung Cancer', 'Previous Cancer Diagnosis']:\n",
    "        continue\n",
    "    \n",
    "    df_cat = nlst_scan_out.xs(category, level='Category')\n",
    "    df_cat = df_cat.query('Attribute not in @invalid_attributes_5911')\n",
    "    print(df_cat.style.format(precision=1, na_rep='-').format_index(output.latex_replace_arrowbrackets).format(output.latex_replace_arrowbrackets).to_latex(\n",
    "        buf=f\"{TAB_DIR}/extra-results/nlst-roc-{category}.tex\",\n",
    "        hrules=True, label=f'tab:nlst5911ROC-{category}', environment='sidewaystable*', column_format=f'll{\"|ll\"*len(nlst_model_order)}', position='htbp!',\n",
    "    multirow_align='c', multicol_align='c',  position_float='centering', clines='skip-last;data',\n",
    "        caption=f'ROC AUC with 95\\% CIs for models on {category} characteristics when evaluated on the larger NLST validation set (5911 scans), including p values.'))\n",
    "    \n",
    "    print(category)\n",
    "    display(df_cat)"
   ]
  },
  {
   "cell_type": "markdown",
   "metadata": {},
   "source": [
    "## ROC Plots"
   ]
  },
  {
   "cell_type": "code",
   "execution_count": null,
   "metadata": {},
   "outputs": [],
   "source": [
    "_ = roc.plot_rocs_subgroups(nlst_5911, 'Sex', models={'Sybil (Year 1)': 'sybil_year1'}, two_subgroups=True, dataset_name=\"NLST\", num_bootstraps=1000, imgpath=f\"{FIG_DIR}/sybilROCgender5911.png\")"
   ]
  },
  {
   "cell_type": "code",
   "execution_count": null,
   "metadata": {},
   "outputs": [],
   "source": [
    "_ = roc.plot_rocs_subgroups(nlst_5911, 'BMI', models={'Sybil (Year 1)': 'sybil_year1'}, two_subgroups=True, dataset_name=\"NLST\", num_bootstraps=1000, imgpath=f\"{FIG_DIR}/sybilBMIroc5911.png\")"
   ]
  },
  {
   "cell_type": "code",
   "execution_count": null,
   "metadata": {},
   "outputs": [],
   "source": [
    "_ = roc.plot_rocs_subgroups(nlst_5911, 'Emphysema in Scan', models={'Sybil (Year 1)': 'sybil_year1'}, two_subgroups=True, dataset_name=\"NLST\", num_bootstraps=1000, imgpath=f\"{FIG_DIR}/sybilROCemphysema5911.png\")"
   ]
  },
  {
   "cell_type": "markdown",
   "metadata": {},
   "source": [
    "## Threshold Utilities"
   ]
  },
  {
   "cell_type": "code",
   "execution_count": null,
   "metadata": {},
   "outputs": [],
   "source": [
    "dlcst_preds_pretty, _ = data.nlst_pretty_labels(dlcst_preds, DLCST_DEMOCOLS)\n",
    "threshold_dlcst = pd.read_csv(f'{RESULTS_DIR}/threshold-perfs-dlcst-{len(dlcst_preds)}.csv', index_col=0)\n",
    "threshold_dlcst, dlcst_policies = output.threshold_stats_pretty(threshold_dlcst, dlcst_policies)"
   ]
  },
  {
   "cell_type": "code",
   "execution_count": null,
   "metadata": {},
   "outputs": [],
   "source": [
    "threshold_nlst_1172 = pd.read_csv(f'{RESULTS_DIR}/threshold-perfs-nlst-1172.csv', index_col=0)\n",
    "threshold_nlst_1172, nlst_1172_policies = output.threshold_stats_pretty(threshold_nlst_1172, nlst_1172_policies)"
   ]
  },
  {
   "cell_type": "code",
   "execution_count": null,
   "metadata": {},
   "outputs": [],
   "source": [
    "threshold_nlst_5911 = pd.read_csv(f'{RESULTS_DIR}/threshold-perfs-nlst-5911.csv', index_col=0)\n",
    "threshold_nlst_5911, nlst_5911_policies = output.threshold_stats_pretty(threshold_nlst_5911, nlst_5911_policies)"
   ]
  },
  {
   "cell_type": "markdown",
   "metadata": {},
   "source": [
    "## Threshold Plots"
   ]
  },
  {
   "cell_type": "markdown",
   "metadata": {},
   "source": [
    "### DLCST"
   ]
  },
  {
   "cell_type": "code",
   "execution_count": null,
   "metadata": {},
   "outputs": [],
   "source": [
    "_ = threshold.plot_threshold_stats_subgroups(dlcst_preds_pretty, 'Sex', dataset_name='DLCST',\n",
    "                                             policies=dlcst_policies, models=output.DLCST_MODELCOLS, \n",
    "                                             stats=threshold_dlcst.query('attribute == \"Sex\"'),\n",
    "                                             plot_metrics=['Sensitivity', 'Specificity'], diff=False, show_mb_count=False,\n",
    "                                             imgpath=f\"{FIG_DIR}/thresholdDLCSTsex.png\"\n",
    "                                            )"
   ]
  },
  {
   "cell_type": "code",
   "execution_count": null,
   "metadata": {},
   "outputs": [],
   "source": [
    "_ = threshold.plot_threshold_stats_subgroups(dlcst_preds_pretty, 'Age', dataset_name='DLCST',\n",
    "                                             policies=dlcst_policies, models=output.DLCST_MODELCOLS, \n",
    "                                             stats=threshold_dlcst.query('attribute == \"Age\"'),\n",
    "                                             plot_metrics=['Sensitivity', 'Specificity'], diff=False, show_mb_count=False,\n",
    "                                             imgpath=f\"{FIG_DIR}/thresholdDLCSTage.png\"\n",
    "                                            )"
   ]
  },
  {
   "cell_type": "markdown",
   "metadata": {},
   "source": [
    "### NLST (1172)"
   ]
  },
  {
   "cell_type": "code",
   "execution_count": null,
   "metadata": {},
   "outputs": [],
   "source": [
    "output.NLST_1172_MODELCOLS"
   ]
  },
  {
   "cell_type": "code",
   "execution_count": null,
   "metadata": {},
   "outputs": [],
   "source": [
    "nlst_1172_models = {\n",
    "    # 'Venkadesh21': 'DL_cal',\n",
    " 'De Haas Combined': 'Thijmen_mean_cal',\n",
    " 'De Haas Local': 'Thijmen_local_cal',\n",
    " 'De Haas Global': 'Thijmen_global_hidden_cal',\n",
    "#  'Sybil (Year 1)': 'sybil_year1',\n",
    "#  'PanCan2b': 'PanCan2b'\n",
    "}"
   ]
  },
  {
   "cell_type": "code",
   "execution_count": null,
   "metadata": {},
   "outputs": [],
   "source": [
    "for col in nlst_demos_to_include:\n",
    "    _ = threshold.plot_threshold_stats_subgroups(nlst_1172, col, dataset_name='NLST',\n",
    "                                                policies=nlst_1172_policies, models=nlst_1172_models, \n",
    "                                                stats=threshold_nlst_1172.query(f'attribute == \"{col}\"'),\n",
    "                                                plot_metrics=['Sensitivity', 'Specificity'], diff=False, show_mb_count=False,\n",
    "                                                imgpath=f\"{FIG_DIR}/threshold-NLST-1172/{col}.png\"\n",
    "                                                )  "
   ]
  },
  {
   "cell_type": "markdown",
   "metadata": {},
   "source": [
    "### NLST 5911\n"
   ]
  },
  {
   "cell_type": "code",
   "execution_count": null,
   "metadata": {},
   "outputs": [],
   "source": [
    "_ = threshold.plot_threshold_stats_subgroups(nlst_5911, \"Race\", dataset_name='NLST',\n",
    "                                                policies=nlst_5911_policies[['90% Specificity']], models=output.NLST_5911_MODELCOLS, \n",
    "                                                stats=threshold_nlst_5911.query(f'attribute == \"Race\"'),\n",
    "                                                plot_metrics=['Sensitivity'], diff=False, show_mb_count=False,\n",
    "                                                imgpath=f\"{FIG_DIR}/allTPRrace5911.png\"\n",
    "                                                )  "
   ]
  },
  {
   "cell_type": "code",
   "execution_count": null,
   "metadata": {},
   "outputs": [],
   "source": [
    "_ = threshold.plot_threshold_stats_subgroups(nlst_5911, \"BMI\", dataset_name='NLST',\n",
    "                                                policies=nlst_5911_policies[['90% Sensitivity']], models=output.NLST_5911_MODELCOLS, \n",
    "                                                stats=threshold_nlst_5911.query(f'attribute == \"BMI\"'),\n",
    "                                                plot_metrics=['Specificity'], diff=False, show_mb_count=False,\n",
    "                                                imgpath=f\"{FIG_DIR}/allTNRbmi5911.png\"\n",
    "                                                )  "
   ]
  },
  {
   "cell_type": "code",
   "execution_count": null,
   "metadata": {},
   "outputs": [],
   "source": [
    "_ = threshold.plot_threshold_stats_subgroups(nlst_5911, \"Age\", dataset_name='NLST',\n",
    "                                                policies=nlst_5911_policies[['90% Sensitivity']], models=output.NLST_5911_MODELCOLS, \n",
    "                                                stats=threshold_nlst_5911.query(f'attribute == \"Age\"'),\n",
    "                                                plot_metrics=['Specificity'], diff=False, show_mb_count=False,\n",
    "                                                imgpath=f\"{FIG_DIR}/allTNRage5911.png\"\n",
    "                                                )  "
   ]
  },
  {
   "cell_type": "markdown",
   "metadata": {},
   "source": [
    "#### all columns"
   ]
  },
  {
   "cell_type": "code",
   "execution_count": null,
   "metadata": {},
   "outputs": [],
   "source": [
    "# print(nlst_demos_to_include)\n",
    "# for col in nlst_demos_to_include:\n",
    "#     _ = threshold.plot_threshold_stats_subgroups(nlst_5911, col, dataset_name='NLST',\n",
    "#                                                 policies=nlst_5911_policies, models=output.NLST_5911_MODELCOLS, \n",
    "#                                                 stats=threshold_nlst_5911.query(f'attribute == \"{col}\"'),\n",
    "#                                                 plot_metrics=['Sensitivity', 'Specificity'], diff=False, show_mb_count=False,\n",
    "#                                                 imgpath=f\"{FIG_DIR}/threshold-NLST-5911/{col}.png\"\n",
    "#                                                 )  "
   ]
  },
  {
   "cell_type": "markdown",
   "metadata": {},
   "source": [
    "## Threshold Tables"
   ]
  },
  {
   "cell_type": "markdown",
   "metadata": {},
   "source": [
    "### DLCST"
   ]
  },
  {
   "cell_type": "code",
   "execution_count": null,
   "metadata": {},
   "outputs": [],
   "source": [
    "dlcst_demos_to_include = ['Age', 'Sex']\n",
    "pairwise_tpr_dlcst = threshold.all_attribute_pairwise_comparisons(threshold_dlcst, metric=\"Sensitivity\")\n",
    "threshold_tpr_dlcst = output.threshold_results_pretty(pairwise_tpr_dlcst, model_order=list(output.DLCST_MODELCOLS.keys()), metric='Sensitivity')\n",
    "tpr_dlcst_demo = threshold_tpr_dlcst.xs(\"Demographics\", level='Category').query('Attribute in @dlcst_demos_to_include & Policy in @POLICIES_TO_USE')\n",
    "tpr_dlcst_demo"
   ]
  },
  {
   "cell_type": "code",
   "execution_count": null,
   "metadata": {},
   "outputs": [],
   "source": [
    "print(tpr_dlcst_demo.style\n",
    "        .format(output.latex_replace_arrowbrackets, escape='latex-math', na_rep='')\n",
    "        .format_index(output.latex_replace_arrowbrackets, escape='latex-math', axis=1)\n",
    "        .format_index(output.latex_replace_arrowbrackets, escape='latex-math', axis=0)\n",
    "        .to_latex(\n",
    "    buf=f\"{TAB_DIR}/resDLCSTdemoTPR.tex\",\n",
    "    hrules=True, label='tab:resDLCSTdemoTPR', environment='table*', column_format=f'lll{\"|ll\"*len(dlcst_model_order)}', position='h!',\n",
    "    multirow_align='c', multicol_align='c',  position_float='centering', clines='skip-last;data', siunitx=True,\n",
    "    caption='Sensitivity (with 95\\% CIs) for models on demographic characteristics when evaluated on the DLCST validation set (n=599 scans). Single asterisk (*) = TPR of one subgroup is outside the CI of the other. Double asterisks (**) = CIs do not intersect.'))"
   ]
  },
  {
   "cell_type": "code",
   "execution_count": null,
   "metadata": {},
   "outputs": [],
   "source": [
    "tpr_dlcst_other = threshold_tpr_dlcst.xs(\"Other\", level='Category').query('Policy in @POLICIES_TO_USE')\n",
    "\n",
    "print(tpr_dlcst_other.style\n",
    "        .format(output.latex_replace_arrowbrackets, escape='latex-math', na_rep='')\n",
    "        .format_index(output.latex_replace_arrowbrackets, escape='latex-math', axis=1)\n",
    "        .format_index(output.latex_replace_arrowbrackets, escape='latex-math', axis=0)\n",
    "        .to_latex(\n",
    "    buf=f\"{TAB_DIR}/extra-results/resDLCSTotherTPR.tex\",\n",
    "    hrules=True, label='tab:resDLCSTotherTPR', environment='table*', column_format=f'lll{\"|ll\"*len(dlcst_model_order)}', position='h!',\n",
    "    multirow_align='c', multicol_align='c',  position_float='centering', clines='skip-last;data', siunitx=True,\n",
    "    caption='Sensitivity (with 95\\% CIs) for models on other characteristics when evaluated on the DLCST validation set (n=599 scans). Single asterisk (*) = TPR of one subgroup is outside the CI of the other. Double asterisks (**) = CIs do not intersect.'))\n",
    "\n",
    "tpr_dlcst_other"
   ]
  },
  {
   "cell_type": "code",
   "execution_count": null,
   "metadata": {},
   "outputs": [],
   "source": [
    "pairwise_tnr_dlcst = threshold.all_attribute_pairwise_comparisons(threshold_dlcst, metric='Specificity')\n",
    "threshold_tnr_dlcst = output.threshold_results_pretty(pairwise_tnr_dlcst, model_order=list(output.DLCST_MODELCOLS.keys()), metric='Specificity')\n",
    "tnr_dlcst_demo = threshold_tnr_dlcst.xs(\"Demographics\", level='Category').query('Attribute in @dlcst_demos_to_include & Policy in @POLICIES_TO_USE')\n",
    "tnr_dlcst_demo"
   ]
  },
  {
   "cell_type": "code",
   "execution_count": null,
   "metadata": {},
   "outputs": [],
   "source": [
    "print(tnr_dlcst_demo.style\n",
    "        .format(output.latex_replace_arrowbrackets, escape='latex-math', na_rep='')\n",
    "        .format_index(output.latex_replace_arrowbrackets, escape='latex-math', axis=1)\n",
    "        .format_index(output.latex_replace_arrowbrackets, escape='latex-math', axis=0)\n",
    "        .to_latex(\n",
    "    buf=f\"{TAB_DIR}/resDLCSTdemoTNR.tex\",\n",
    "    hrules=True, label='tab:resDLCSTdemoTNR', environment='table*', column_format=f'lll{\"|ll\"*len(dlcst_model_order)}', position='h!',\n",
    "    multirow_align='c', multicol_align='c',  position_float='centering', clines='skip-last;data', siunitx=True,\n",
    "    caption='Specificity (with 95\\% CIs) for models on demographic characteristics when evaluated on the DLCST validation set (n=599 scans). Single asterisk (*) = TNR of one subgroup is outside the CI of the other. Double asterisks (**) = CIs do not intersect.'))"
   ]
  },
  {
   "cell_type": "code",
   "execution_count": null,
   "metadata": {},
   "outputs": [],
   "source": [
    "tnr_dlcst_other = threshold_tnr_dlcst.xs(\"Other\", level='Category').query('Policy in @POLICIES_TO_USE')\n",
    "\n",
    "print(tnr_dlcst_other.style\n",
    "        .format(output.latex_replace_arrowbrackets, escape='latex-math', na_rep='')\n",
    "        .format_index(output.latex_replace_arrowbrackets, escape='latex-math', axis=1)\n",
    "        .format_index(output.latex_replace_arrowbrackets, escape='latex-math', axis=0)\n",
    "        .to_latex(\n",
    "    buf=f\"{TAB_DIR}/extra-results/resDLCSTotherTNR.tex\",\n",
    "    hrules=True, label='tab:resDLCSTotherTNR', environment='table*', column_format=f'lll{\"|ll\"*len(dlcst_model_order)}', position='h!',\n",
    "    multirow_align='c', multicol_align='c',  position_float='centering', clines='skip-last;data', siunitx=True,\n",
    "    caption='Specificity (with 95\\% CIs) for models on other characteristics when evaluated on the DLCST validation set (n=599 scans). Single asterisk (*) = TNR of one subgroup is outside the CI of the other. Double asterisks (**) = CIs do not intersect.'))\n",
    "\n",
    "tnr_dlcst_other"
   ]
  },
  {
   "cell_type": "markdown",
   "metadata": {},
   "source": [
    "### NLST 1172"
   ]
  },
  {
   "cell_type": "code",
   "execution_count": null,
   "metadata": {},
   "outputs": [],
   "source": [
    "pairwise_tpr_1172 = threshold.all_attribute_pairwise_comparisons(threshold_nlst_1172, metric=\"Sensitivity\")\n",
    "threshold_tpr = output.threshold_results_pretty(pairwise_tpr_1172, model_order=list(output.NLST_1172_MODELCOLS.keys()), metric='Sensitivity')"
   ]
  },
  {
   "cell_type": "code",
   "execution_count": null,
   "metadata": {},
   "outputs": [],
   "source": [
    "tpr_demo_1172 = threshold_tpr.xs(\"Demographics\", level='Category').query('Attribute in @nlst_demos_to_include & Policy in @POLICIES_TO_USE & Attribute not in @invalid_attributes_1172')\n",
    "tpr_demo_1172 = tpr_demo_1172[['De Haas Combined', 'De Haas Local', 'De Haas Global']]\n",
    "tpr_demo_1172"
   ]
  },
  {
   "cell_type": "code",
   "execution_count": null,
   "metadata": {},
   "outputs": [],
   "source": [
    "print(tpr_demo_1172.style\n",
    "        .format(output.latex_replace_arrowbrackets, escape='latex-math', na_rep='')\n",
    "        .format_index(output.latex_replace_arrowbrackets, escape='latex-math', axis=1)\n",
    "        .format_index(output.latex_replace_arrowbrackets, escape='latex-math', axis=0)\n",
    "        .to_latex(\n",
    "    buf=f\"{TAB_DIR}/resNLSTtijmenTPR.tex\",\n",
    "    hrules=True, label='tab:resNLSTtijmenTPR', environment='table*', column_format=f'lll{\"|ll\"*3}', position='h!',\n",
    "    multirow_align='c', multicol_align='c',  position_float='centering', clines='skip-last;data', siunitx=True,\n",
    "    caption='Sensitivity (with 95\\% CIs) for the De Haas Combined model and its submodels on demographic characteristics when evaluated on the partial NLST validation set (n=1172 scans). Race and High School Education analysis are not included since there are less than 15 malignant scans in the underrepresented subgroup. Single asterisk (*) = TPR of one subgroup is outside the CI of the other. Double asterisks (**) = CIs do not intersect.'))"
   ]
  },
  {
   "cell_type": "code",
   "execution_count": null,
   "metadata": {},
   "outputs": [],
   "source": [
    "pairwise_tnr_1172 = threshold.all_attribute_pairwise_comparisons(threshold_nlst_1172, metric='Specificity')\n",
    "tnr_1172 = output.threshold_results_pretty(pairwise_tnr_1172, model_order=list(output.NLST_1172_MODELCOLS.keys()), metric='Specificity')\n",
    "tnr_1172.xs(\"Demographics\", level='Category').query('Attribute in @nlst_demos_to_include & Policy in @POLICIES_TO_USE & Attribute not in @invalid_attributes_1172')"
   ]
  },
  {
   "cell_type": "code",
   "execution_count": null,
   "metadata": {},
   "outputs": [],
   "source": [
    "tnr_demo_1172 = tnr_1172.xs(\"Demographics\", level='Category').query('Attribute in @nlst_demos_to_include & Policy in @POLICIES_TO_USE & Attribute not in @invalid_attributes_1172')\n",
    "tnr_demo_1172 = tnr_demo_1172[['De Haas Combined', 'De Haas Local', 'De Haas Global']]\n",
    "tnr_demo_1172"
   ]
  },
  {
   "cell_type": "code",
   "execution_count": null,
   "metadata": {},
   "outputs": [],
   "source": [
    "print(tnr_demo_1172.style\n",
    "        .format(output.latex_replace_arrowbrackets, escape='latex-math', na_rep='')\n",
    "        .format_index(output.latex_replace_arrowbrackets, escape='latex-math', axis=1)\n",
    "        .format_index(output.latex_replace_arrowbrackets, escape='latex-math', axis=0)\n",
    "        .to_latex(\n",
    "    buf=f\"{TAB_DIR}/resNLSTtijmenTNR.tex\",\n",
    "    hrules=True, label='tab:resNLSTtijmenTNR', environment='table*', column_format=f'lll{\"|ll\"*3}', position='h!',\n",
    "    multirow_align='c', multicol_align='c',  position_float='centering', clines='skip-last;data', siunitx=True,\n",
    "    caption='Specificity (with 95\\% CIs) for the De Haas Combined model and its submodels on demographic characteristics when evaluated on the partial NLST validation set (n=1172 scans). Race and High School Education analysis are not included since there are less than 15 malignant scans in the underrepresented subgroup. Single asterisk (*) = TNR of one subgroup is outside the CI of the other. Double asterisks (**) = CIs do not intersect.'))"
   ]
  },
  {
   "cell_type": "markdown",
   "metadata": {},
   "source": [
    "### NLST 5911"
   ]
  },
  {
   "cell_type": "code",
   "execution_count": null,
   "metadata": {},
   "outputs": [],
   "source": [
    "pairwise_tpr_5911 = threshold.all_attribute_pairwise_comparisons(threshold_nlst_5911, metric=\"Sensitivity\")\n",
    "threshold_tpr = output.threshold_results_pretty(pairwise_tpr_5911, model_order=list(output.NLST_5911_MODELCOLS.keys()), metric='Sensitivity')\n",
    "tpr_demo_5911 = threshold_tpr.xs(\"Demographics\", level='Category').query('Attribute in @nlst_demos_to_include & Policy in @POLICIES_TO_USE & Attribute not in @invalid_attributes_5911')\n",
    "tpr_demo_5911"
   ]
  },
  {
   "cell_type": "code",
   "execution_count": null,
   "metadata": {},
   "outputs": [],
   "source": [
    "print(tpr_demo_5911.style\n",
    "        .format(output.latex_replace_arrowbrackets, escape='latex-math', na_rep='')\n",
    "        .format_index(output.latex_replace_arrowbrackets, escape='latex-math', axis=1)\n",
    "        .format_index(output.latex_replace_arrowbrackets, escape='latex-math', axis=0)\n",
    "        .to_latex(\n",
    "    buf=f\"{TAB_DIR}/resNLSTfullTPR.tex\",\n",
    "    hrules=True, label='tab:resNLSTfullTPR', environment='sidewaystable*', column_format=f'lll{\"|ll\"*len(list(output.NLST_5911_MODELCOLS.keys()))}', position='h!',\n",
    "    multirow_align='c', multicol_align='c',  position_float='centering', clines='skip-last;data', siunitx=True,\n",
    "    caption='Sensitivity (with 95\\% CIs) for models on demographic characteristics when evaluated on the full NLST validation set (n=5911 scans). Single asterisk (*) = TPR of one subgroup is outside the CI of the other. Double asterisks (**) = CIs do not intersect.'))"
   ]
  },
  {
   "cell_type": "code",
   "execution_count": null,
   "metadata": {},
   "outputs": [],
   "source": [
    "for category in data.rename_types.values():\n",
    "    if category in ['Scanner', 'Demographics', 'Lung Cancer', 'Previous Cancer Diagnosis']:\n",
    "        continue\n",
    "    \n",
    "    df_cat = threshold_tpr.xs(category, level='Category').query('Policy in @POLICIES_TO_USE & Attribute not in @invalid_attributes_5911')\n",
    "    print(df_cat.style.format(output.latex_replace_arrowbrackets, escape='latex-math', na_rep='')\n",
    "        .format_index(output.latex_replace_arrowbrackets, escape='latex-math', axis=1)\n",
    "        .format_index(output.latex_replace_arrowbrackets, escape='latex-math', axis=0).to_latex(\n",
    "        buf=f\"{TAB_DIR}/extra-results/nlst-tpr-{category}.tex\",\n",
    "    hrules=True, label=f'tab:nlst5911TPR-{category}', environment='sidewaystable*', column_format=f'lll{\"|ll\"*len(list(output.NLST_5911_MODELCOLS.keys()))}', position='htbp!',\n",
    "        multirow_align='c', multicol_align='c',  position_float='centering', clines='skip-last;data', siunitx=True,\n",
    "        caption=f'Sensitivity (with 95\\% CIs) for models on {category} characteristics when evaluated on the full NLST validation set (n=5911 scans). Single asterisk (*) = TPR of one subgroup is outside the CI of the other. Double asterisks (**) = CIs do not intersect.'))\n",
    "    \n",
    "    print(category)\n",
    "    display(df_cat)"
   ]
  },
  {
   "cell_type": "code",
   "execution_count": null,
   "metadata": {},
   "outputs": [],
   "source": [
    "pairwise_tnr_5911 = threshold.all_attribute_pairwise_comparisons(threshold_nlst_5911, metric=\"Specificity\")\n",
    "threshold_tnr = output.threshold_results_pretty(pairwise_tnr_5911, model_order=list(output.NLST_5911_MODELCOLS.keys()), metric='Specificity')\n",
    "tnr_demo_5911 = threshold_tnr.xs(\"Demographics\", level='Category').query('Attribute in @nlst_demos_to_include & Policy in @POLICIES_TO_USE & Attribute not in @invalid_attributes_5911')\n",
    "tnr_demo_5911"
   ]
  },
  {
   "cell_type": "code",
   "execution_count": null,
   "metadata": {},
   "outputs": [],
   "source": [
    "print(tnr_demo_5911.style\n",
    "        .format(output.latex_replace_arrowbrackets, escape='latex-math', na_rep='')\n",
    "        .format_index(output.latex_replace_arrowbrackets, escape='latex-math', axis=1)\n",
    "        .format_index(output.latex_replace_arrowbrackets, escape='latex-math', axis=0)\n",
    "        .to_latex(\n",
    "    buf=f\"{TAB_DIR}/resNLSTfullTNR.tex\",\n",
    "    hrules=True, label='tab:resNLSTfullTNR', environment='sidewaystable*', column_format=f'lll{\"|ll\"*len(list(output.NLST_5911_MODELCOLS.keys()))}', position='h!',\n",
    "    multirow_align='c', multicol_align='c',  position_float='centering', clines='skip-last;data', siunitx=True,\n",
    "    caption='Specificity (with 95\\% CIs) for models on demographic characteristics when evaluated on the full NLST validation set (n=5911 scans). Single asterisk (*) = TNR of one subgroup is outside the CI of the other. Double asterisks (**) = CIs do not intersect.'))"
   ]
  },
  {
   "cell_type": "code",
   "execution_count": null,
   "metadata": {},
   "outputs": [],
   "source": [
    "for category in data.rename_types.values():\n",
    "    if category in ['Scanner', 'Demographics', 'Lung Cancer', 'Previous Cancer Diagnosis']:\n",
    "        continue\n",
    "    \n",
    "    df_cat = threshold_tnr.xs(category, level='Category').query('Policy in @POLICIES_TO_USE & Attribute not in @invalid_attributes_5911')\n",
    "    print(df_cat.style.format(output.latex_replace_arrowbrackets, escape='latex-math', na_rep='')\n",
    "        .format_index(output.latex_replace_arrowbrackets, escape='latex-math', axis=1)\n",
    "        .format_index(output.latex_replace_arrowbrackets, escape='latex-math', axis=0).to_latex(\n",
    "        buf=f\"{TAB_DIR}/extra-results/nlst-tnr-{category}.tex\",\n",
    "    hrules=True, label=f'tab:nlst5911TNR-{category}', environment='sidewaystable*', column_format=f'lll{\"|ll\"*len(list(output.NLST_5911_MODELCOLS.keys()))}', position='htbp!',\n",
    "        multirow_align='c', multicol_align='c',  position_float='centering', clines='skip-last;data', siunitx=True,\n",
    "        caption=f'Specificity (with 95\\% CIs) for models on {category} characteristics when evaluated on the full NLST validation set (n=5911 scans). Single asterisk (*) = TNR of one subgroup is outside the CI of the other. Double asterisks (**) = CIs do not intersect.'))\n",
    "    \n",
    "    print(category)\n",
    "    display(df_cat)"
   ]
  },
  {
   "cell_type": "markdown",
   "metadata": {},
   "source": [
    "## Confounders + ROC Tables"
   ]
  },
  {
   "cell_type": "code",
   "execution_count": null,
   "metadata": {},
   "outputs": [],
   "source": [
    "nlst_5911_v2, _, _ = data.prep_nlst_preds(nlst_preds_nodule, nlst_democols_og, scanlevel=True, tijmen=False, sybil=True, pretty=False, bin_num=True)"
   ]
  },
  {
   "cell_type": "markdown",
   "metadata": {},
   "source": [
    "### Gender (Sybil)"
   ]
  },
  {
   "cell_type": "code",
   "execution_count": null,
   "metadata": {},
   "outputs": [],
   "source": [
    "gender_roc = pd.read_csv(f'{RESULTS_DIR}/auroc-gender-by-factors-nlst-5911.csv', index_col=0)\n",
    "gender_prev_roc, gender_topn_confounders = output.prevalence_plus_isolated_roc(\n",
    "    nlst_5911_v2,\n",
    "    'Gender',\n",
    "    NLST_POSSIBLE_CONFOUNDERS,\n",
    "    gender_roc,\n",
    "    'Sybil (Year 1)',\n",
    "    topn=TOP_N_CONFOUNDERS,\n",
    "    result_prec=TABLE_SCORE_PRECISION,\n",
    ")\n",
    "\n",
    "print(gender_prev_roc.style\n",
    "        .format(output.latex_replace_arrowbrackets, escape='latex-math', na_rep='')\n",
    "        .format_index(output.latex_replace_arrowbrackets, escape='latex-math', axis=1)\n",
    "        .format_index(output.latex_replace_arrowbrackets, escape='latex-math', axis=0)\n",
    "        .to_latex(\n",
    "    buf=f\"{TAB_DIR}/genderIsolationPlusROC.tex\",\n",
    "    hrules=True, label='tab:genderIsolationPlusROC', environment='table*', column_format=f'll|rrrr|rrrr|r', position='h!',\n",
    "    multirow_align='c', multicol_align='c',  position_float='centering', clines='skip-last;data', siunitx=True,\n",
    "    caption=f'The top {TOP_N_CONFOUNDERS} characteristics with the largest prevalence difference between genders, and the ROC AUC scores of the Sybil (Year 1) model between men and women, isolating for them.'))\n",
    "\n",
    "gender_prev_roc"
   ]
  },
  {
   "cell_type": "code",
   "execution_count": null,
   "metadata": {},
   "outputs": [],
   "source": [
    "_ = roc.plot_rocs_isolate_confounder(\n",
    "    nlst_5911,\n",
    "    'Sex',\n",
    "    'Work w/o Mask',\n",
    "    models={'Sybil (Year 1)': 'sybil_year1'},\n",
    "    dataset_name=\"NLST\",\n",
    "    num_bootstraps=1000,\n",
    "    imgpath=f\"{FIG_DIR}/sybilROCgender-WrkNoMask.png\"\n",
    ")"
   ]
  },
  {
   "cell_type": "markdown",
   "metadata": {},
   "source": [
    "### Race (Venk21)"
   ]
  },
  {
   "cell_type": "code",
   "execution_count": null,
   "metadata": {},
   "outputs": [],
   "source": [
    "race_roc = pd.read_csv(f'{RESULTS_DIR}/auroc-race-by-factors-nlst-5911.csv', index_col=0)\n",
    "race_prev_roc, race_topn_confounders = output.prevalence_plus_isolated_roc(\n",
    "    nlst_5911_v2,\n",
    "    'WhiteOrBlack',\n",
    "    NLST_POSSIBLE_CONFOUNDERS,\n",
    "    race_roc,\n",
    "    'Venkadesh21',\n",
    "    topn=TOP_N_CONFOUNDERS,\n",
    "    result_prec=TABLE_SCORE_PRECISION,\n",
    ")\n",
    "\n",
    "print(race_prev_roc.style\n",
    "        .format(output.latex_replace_arrowbrackets, escape='latex-math', na_rep='')\n",
    "        .format_index(output.latex_replace_arrowbrackets, escape='latex-math', axis=1)\n",
    "        .format_index(output.latex_replace_arrowbrackets, escape='latex-math', axis=0)\n",
    "        .to_latex(\n",
    "    buf=f\"{TAB_DIR}/raceIsolationPlusROC.tex\",\n",
    "    hrules=True, label='tab:raceIsolationPlusROC', environment='table*', column_format=f'll|rrrr|rrrr|r', position='h!',\n",
    "    multirow_align='c', multicol_align='c',  position_float='centering', clines='skip-last;data', siunitx=True,\n",
    "    caption=f'The top {TOP_N_CONFOUNDERS} characteristics with the largest prevalence difference between White and Black patients, and the ROC AUC scores of the Venkadesh model between these racial groups isolating for them.'))\n",
    "\n",
    "race_prev_roc"
   ]
  },
  {
   "cell_type": "code",
   "execution_count": null,
   "metadata": {},
   "outputs": [],
   "source": [
    "_ = roc.plot_rocs_isolate_confounder(\n",
    "    nlst_5911,\n",
    "    'Race',\n",
    "    'Hypertension Diag.',\n",
    "    models={'Venkadesh': 'DL_cal'},\n",
    "    dataset_name=\"NLST\",\n",
    "    num_bootstraps=1000,\n",
    "    imgpath=f\"{FIG_DIR}/venkROCrace-Hypertension.png\"\n",
    ")"
   ]
  },
  {
   "cell_type": "code",
   "execution_count": null,
   "metadata": {},
   "outputs": [],
   "source": [
    "# race_dehaas_roc, race_topn_confounders = output.prevalence_plus_isolated_roc(\n",
    "#     nlst_5911_v2,\n",
    "#     'WhiteOrBlack',\n",
    "#     NLST_POSSIBLE_CONFOUNDERS,\n",
    "#     race_roc,\n",
    "#     'De Haas Local',\n",
    "#     topn=TOP_N_CONFOUNDERS,\n",
    "#     result_prec=TABLE_SCORE_PRECISION,\n",
    "# )\n",
    "# race_dehaas_roc"
   ]
  },
  {
   "cell_type": "markdown",
   "metadata": {},
   "source": [
    "### BMI (Sybil)"
   ]
  },
  {
   "cell_type": "code",
   "execution_count": null,
   "metadata": {},
   "outputs": [],
   "source": [
    "bmi_roc = pd.read_csv(f'{RESULTS_DIR}/auroc-bmi-by-factors-nlst-5911.csv', index_col=0)\n",
    "bmi_prev_roc, bmi_topn_confounders = output.prevalence_plus_isolated_roc(\n",
    "    nlst_5911_v2,\n",
    "    'Overweight',\n",
    "    NLST_POSSIBLE_CONFOUNDERS,\n",
    "    bmi_roc,\n",
    "    'Sybil (Year 1)',\n",
    "    topn=TOP_N_CONFOUNDERS,\n",
    "    result_prec=TABLE_SCORE_PRECISION,\n",
    ")\n",
    "\n",
    "print(bmi_prev_roc.style\n",
    "        .format(output.latex_replace_arrowbrackets, escape='latex-math', na_rep='')\n",
    "        .format_index(output.latex_replace_arrowbrackets, escape='latex-math', axis=1)\n",
    "        .format_index(output.latex_replace_arrowbrackets, escape='latex-math', axis=0)\n",
    "        .to_latex(\n",
    "    buf=f\"{TAB_DIR}/bmiIsolationPlusROC.tex\",\n",
    "    hrules=True, label='tab:bmiIsolationPlusROC', environment='table*', column_format=f'll|rrrr|rrrr|r', position='h!',\n",
    "    multirow_align='c', multicol_align='c',  position_float='centering', clines='skip-last;data', siunitx=True,\n",
    "    caption=f'The top {TOP_N_CONFOUNDERS} characteristics with the largest prevalence difference between high and low BMI patients, and the ROC AUC scores of the Sybil (Year 1) model between BMI groups isolating for them.'))\n",
    "\n",
    "bmi_prev_roc"
   ]
  },
  {
   "cell_type": "code",
   "execution_count": null,
   "metadata": {},
   "outputs": [],
   "source": [
    "_ = roc.plot_rocs_isolate_confounder(\n",
    "    nlst_5911,\n",
    "    'BMI',\n",
    "    'Emphysema in Scan',\n",
    "    models={'Sybil (Year 1)': 'sybil_year1'},\n",
    "    dataset_name=\"NLST\",\n",
    "    num_bootstraps=1000,\n",
    "    imgpath=f\"{FIG_DIR}/sybilROCbmi-Emphysema.png\"\n",
    ")"
   ]
  },
  {
   "cell_type": "markdown",
   "metadata": {},
   "source": [
    "### BMI (PanCan2b)"
   ]
  },
  {
   "cell_type": "code",
   "execution_count": null,
   "metadata": {},
   "outputs": [],
   "source": [
    "bmi_roc = pd.read_csv(f'{RESULTS_DIR}/auroc-bmi-by-factors-nlst-5911.csv', index_col=0)\n",
    "bmi_pancan_roc, bmi_topn_confounders = output.prevalence_plus_isolated_roc(\n",
    "    nlst_5911_v2,\n",
    "    'Overweight',\n",
    "    NLST_POSSIBLE_CONFOUNDERS,\n",
    "    bmi_roc,\n",
    "    'PanCan2b',\n",
    "    topn=TOP_N_CONFOUNDERS,\n",
    "    result_prec=TABLE_SCORE_PRECISION,\n",
    ")\n",
    "\n",
    "print(bmi_pancan_roc.style\n",
    "        .format(output.latex_replace_arrowbrackets, escape='latex-math', na_rep='')\n",
    "        .format_index(output.latex_replace_arrowbrackets, escape='latex-math', axis=1)\n",
    "        .format_index(output.latex_replace_arrowbrackets, escape='latex-math', axis=0)\n",
    "        .to_latex(\n",
    "    buf=f\"{TAB_DIR}/bmiIsolationPlusROCpancan.tex\",\n",
    "    hrules=True, label='tab:bmiIsolationPlusROCpancan', environment='table*', column_format=f'll|rrrr|rrrr|r', position='h!',\n",
    "    multirow_align='c', multicol_align='c',  position_float='centering', clines='skip-last;data', siunitx=True,\n",
    "    caption=f'The top {TOP_N_CONFOUNDERS} characteristics with the largest prevalence difference between high and low BMI patients, and the ROC AUC scores of the PanCan2b model between BMI groups isolating for them.'))\n",
    "\n",
    "\n",
    "bmi_pancan_roc"
   ]
  },
  {
   "cell_type": "markdown",
   "metadata": {},
   "source": [
    "### Age"
   ]
  },
  {
   "cell_type": "code",
   "execution_count": null,
   "metadata": {},
   "outputs": [],
   "source": [
    "# prev_by_age_cat, prev_by_age_num = output.confounders_by_attribute(nlst_5911_v2, 'Age > 61', NLST_POSSIBLE_CONFOUNDERS)\n",
    "age_roc = pd.read_csv(f'{RESULTS_DIR}/auroc-age-by-factors-nlst-5911.csv', index_col=0)\n",
    "age_pancan_roc, age_topn_confounders = output.prevalence_plus_isolated_roc(\n",
    "    nlst_5911_v2,\n",
    "    'Age > 61',\n",
    "    NLST_POSSIBLE_CONFOUNDERS,\n",
    "    age_roc,\n",
    "    'PanCan2b',\n",
    "    topn=TOP_N_CONFOUNDERS,\n",
    "    result_prec=TABLE_SCORE_PRECISION,\n",
    ")\n",
    "\n",
    "print(age_pancan_roc.style\n",
    "        .format(output.latex_replace_arrowbrackets, escape='latex-math', na_rep='')\n",
    "        .format_index(output.latex_replace_arrowbrackets, escape='latex-math', axis=1)\n",
    "        .format_index(output.latex_replace_arrowbrackets, escape='latex-math', axis=0)\n",
    "        .to_latex(\n",
    "    buf=f\"{TAB_DIR}/ageIsolationPlusROC.tex\",\n",
    "    hrules=True, label='tab:ageIsolationPlusROCpancan', environment='table*', column_format=f'll|rrrr|rrrr|r', position='h!',\n",
    "    multirow_align='c', multicol_align='c',  position_float='centering', clines='skip-last;data', siunitx=True,\n",
    "    caption=f'The top {TOP_N_CONFOUNDERS} characteristics with the largest prevalence difference between participants above and below 61 years old, and the AUROC scores of the PanCan2b model between these groups isolating for them.'))\n",
    "\n",
    "age_pancan_roc"
   ]
  },
  {
   "cell_type": "markdown",
   "metadata": {},
   "source": [
    "## Thresholds, isolating for confounders"
   ]
  },
  {
   "cell_type": "markdown",
   "metadata": {},
   "source": [
    "### Gender"
   ]
  },
  {
   "cell_type": "code",
   "execution_count": null,
   "metadata": {},
   "outputs": [],
   "source": [
    "gender_pairwise_comps = None"
   ]
  },
  {
   "cell_type": "code",
   "execution_count": null,
   "metadata": {},
   "outputs": [],
   "source": [
    "gender_isolations = pd.read_csv(f'{RESULTS_DIR}/threshold-gender-by-factors-nlst-5911.csv', index_col=0)\n",
    "gender_tpr_tnr, gender_pairwise_comps = output.threshold_isolation_pairwise(\n",
    "    gender_isolations, \"Gender\", \"Sybil (Year 1)\", \n",
    "    nlst_5911_policies, \n",
    "    topn_confs=gender_topn_confounders, \n",
    "    pairwise_comps=gender_pairwise_comps)\n",
    "gender_tpr_tnr"
   ]
  },
  {
   "cell_type": "code",
   "execution_count": null,
   "metadata": {},
   "outputs": [],
   "source": [
    "print(gender_tpr_tnr.style\n",
    "        .format(output.latex_replace_arrowbrackets, escape='latex-math', na_rep='')\n",
    "        .format_index(output.latex_replace_arrowbrackets, escape='latex-math', axis=1)\n",
    "        .format_index(output.latex_replace_arrowbrackets, escape='latex-math', axis=0)\n",
    "        .to_latex(\n",
    "    buf=f\"{TAB_DIR}/genderTPRandTNRisolated.tex\",\n",
    "    hrules=True, label='tab:genderTPRandTNRisolated', environment='table*', column_format=f'll|rrr|rrr', position='h!',\n",
    "    multirow_align='c', multicol_align='c',  position_float='centering', clines='skip-last;data', siunitx=True,\n",
    "    caption=f'Sensitivity and Specificity at specific thresholds (with 95\\% CIs) for the Sybil (Year 1) model between men and women, isolating for the top {TOP_N_CONFOUNDERS} characteristics with the largest prevalence difference between genders. Single asterisk (*) = metric of one subgroup is outside the CI of the other. Double asterisks (**) = CIs do not intersect.'))"
   ]
  },
  {
   "cell_type": "markdown",
   "metadata": {},
   "source": [
    "### Gender (PanCan2b)"
   ]
  },
  {
   "cell_type": "code",
   "execution_count": null,
   "metadata": {},
   "outputs": [],
   "source": [
    "pancan_gender_tpr_tnr, gender_pairwise_comps = output.threshold_isolation_pairwise(\n",
    "    gender_isolations, \"Gender\", \"PanCan2b\", \n",
    "    nlst_5911_policies, \n",
    "    topn_confs=gender_topn_confounders, \n",
    "    pairwise_comps=gender_pairwise_comps)\n",
    "pancan_gender_tpr_tnr"
   ]
  },
  {
   "cell_type": "markdown",
   "metadata": {},
   "source": [
    "### Race"
   ]
  },
  {
   "cell_type": "code",
   "execution_count": null,
   "metadata": {},
   "outputs": [],
   "source": [
    "race_pairwise_comps = None"
   ]
  },
  {
   "cell_type": "code",
   "execution_count": null,
   "metadata": {},
   "outputs": [],
   "source": [
    "race_isolations = pd.read_csv(f'{RESULTS_DIR}/threshold-race-by-factors-nlst-5911.csv', index_col=0)\n",
    "race_tpr_tnr, race_pairwise_comps = output.threshold_isolation_pairwise(\n",
    "    race_isolations, \"WhiteOrBlack\", \"Venkadesh21\", \n",
    "    nlst_5911_policies, \n",
    "    topn_confs=race_topn_confounders, \n",
    "    pairwise_comps=race_pairwise_comps)\n",
    "race_tpr_tnr"
   ]
  },
  {
   "cell_type": "code",
   "execution_count": null,
   "metadata": {},
   "outputs": [],
   "source": [
    "print(race_tpr_tnr.style\n",
    "        .format(output.latex_replace_arrowbrackets, escape='latex-math', na_rep='')\n",
    "        .format_index(output.latex_replace_arrowbrackets, escape='latex-math', axis=1)\n",
    "        .format_index(output.latex_replace_arrowbrackets, escape='latex-math', axis=0)\n",
    "        .to_latex(\n",
    "    buf=f\"{TAB_DIR}/raceTPRandTNRisolated.tex\",\n",
    "    hrules=True, label='tab:raceTPRandTNRisolated', environment='table*', column_format=f'll|rrr|rrr', position='h!',\n",
    "    multirow_align='c', multicol_align='c',  position_float='centering', clines='skip-last;data', siunitx=True,\n",
    "    caption=f'Sensitivity and Specificity at specific thresholds (with 95\\% CIs) for the Venkadesh model between between White and Black patients, isolating for the top {TOP_N_CONFOUNDERS} characteristics with the largest prevalence difference between racial groups. Single asterisk (*) = metric of one subgroup is outside the CI of the other. Double asterisks (**) = CIs do not intersect.'))"
   ]
  },
  {
   "cell_type": "code",
   "execution_count": null,
   "metadata": {},
   "outputs": [],
   "source": [
    "# race_dehaas_local_tpr_tnr, race_pairwise_comps = output.threshold_isolation_pairwise(\n",
    "#     race_isolations, \"WhiteOrBlack\", \"De Haas Local\", \n",
    "#     nlst_5911_policies, \n",
    "#     topn_confs=race_topn_confounders, \n",
    "#     pairwise_comps=race_pairwise_comps)\n",
    "# race_dehaas_local_tpr_tnr"
   ]
  },
  {
   "cell_type": "markdown",
   "metadata": {},
   "source": [
    "### BMI"
   ]
  },
  {
   "cell_type": "code",
   "execution_count": null,
   "metadata": {},
   "outputs": [],
   "source": [
    "bmi_pairwise_comps = None"
   ]
  },
  {
   "cell_type": "code",
   "execution_count": null,
   "metadata": {},
   "outputs": [],
   "source": [
    "bmi_isolations = pd.read_csv(f'{RESULTS_DIR}/threshold-bmi-by-factors-nlst-5911.csv', index_col=0)\n",
    "bmi_tpr_tnr, bmi_pairwise_comps = output.threshold_isolation_pairwise(\n",
    "    bmi_isolations, \"Overweight\", \"Sybil (Year 1)\", \n",
    "    nlst_5911_policies, \n",
    "    topn_confs=bmi_topn_confounders, \n",
    "    pairwise_comps=bmi_pairwise_comps)\n",
    "bmi_tpr_tnr"
   ]
  },
  {
   "cell_type": "code",
   "execution_count": null,
   "metadata": {},
   "outputs": [],
   "source": [
    "print(bmi_tpr_tnr.style\n",
    "        .format(output.latex_replace_arrowbrackets, escape='latex-math', na_rep='')\n",
    "        .format_index(output.latex_replace_arrowbrackets, escape='latex-math', axis=1)\n",
    "        .format_index(output.latex_replace_arrowbrackets, escape='latex-math', axis=0)\n",
    "        .to_latex(\n",
    "    buf=f\"{TAB_DIR}/bmiTPRandTNRisolated.tex\",\n",
    "    hrules=True, label='tab:bmiTPRandTNRisolated', environment='table*', column_format=f'll|rrr|rrr', position='h!',\n",
    "    multirow_align='c', multicol_align='c',  position_float='centering', clines='skip-last;data', siunitx=True,\n",
    "    caption=f'Sensitivity and Specificity at specific thresholds (with 95\\% CIs) for the Sybil (Year 1) model between between high and low BMI patients, isolating for the top {TOP_N_CONFOUNDERS} characteristics with the largest prevalence difference between these groups. Single asterisk (*) = metric of one subgroup is outside the CI of the other. Double asterisks (**) = CIs do not intersect.'))"
   ]
  },
  {
   "cell_type": "markdown",
   "metadata": {},
   "source": [
    "### BMI (PanCan2b)"
   ]
  },
  {
   "cell_type": "code",
   "execution_count": null,
   "metadata": {},
   "outputs": [],
   "source": [
    "bmi_isolations = pd.read_csv(f'{RESULTS_DIR}/threshold-bmi-by-factors-nlst-5911.csv', index_col=0)\n",
    "bmi_pancan_tpr_tnr, bmi_pairwise_comps = output.threshold_isolation_pairwise(\n",
    "    bmi_isolations, \"Overweight\", \"PanCan2b\", \n",
    "    nlst_5911_policies, \n",
    "    topn_confs=bmi_topn_confounders, \n",
    "    pairwise_comps=bmi_pairwise_comps)\n",
    "\n",
    "print(bmi_pancan_tpr_tnr.style\n",
    "        .format(output.latex_replace_arrowbrackets, escape='latex-math', na_rep='')\n",
    "        .format_index(output.latex_replace_arrowbrackets, escape='latex-math', axis=1)\n",
    "        .format_index(output.latex_replace_arrowbrackets, escape='latex-math', axis=0)\n",
    "        .to_latex(\n",
    "    buf=f\"{TAB_DIR}/bmiTPRandTNRisolatedPanCan.tex\",\n",
    "    hrules=True, label='tab:bmiTPRandTNRisolatedPanCan', environment='table*', column_format=f'll|rrr|rrr', position='h!',\n",
    "    multirow_align='c', multicol_align='c',  position_float='centering', clines='skip-last;data', siunitx=True,\n",
    "    caption=f'Sensitivity and Specificity at specific thresholds (with 95\\% CIs) for the PanCan2b model between between high and low BMI patients, isolating for the top {TOP_N_CONFOUNDERS} characteristics with the largest prevalence difference between these groups. Single asterisk (*) = metric of one subgroup is outside the CI of the other. Double asterisks (**) = CIs do not intersect.'))\n",
    "\n",
    "bmi_pancan_tpr_tnr"
   ]
  },
  {
   "cell_type": "markdown",
   "metadata": {},
   "source": [
    "### BMI (Venk21)"
   ]
  },
  {
   "cell_type": "code",
   "execution_count": null,
   "metadata": {},
   "outputs": [],
   "source": [
    "bmi_isolations = pd.read_csv(f'{RESULTS_DIR}/threshold-bmi-by-factors-nlst-5911.csv', index_col=0)\n",
    "bmi_venk_tpr_tnr, bmi_pairwise_comps = output.threshold_isolation_pairwise(\n",
    "    bmi_isolations, \"Overweight\", \"Venkadesh21\", \n",
    "    nlst_5911_policies, \n",
    "    topn_confs=bmi_topn_confounders, \n",
    "    pairwise_comps=bmi_pairwise_comps)\n",
    "\n",
    "print(bmi_venk_tpr_tnr.style\n",
    "        .format(output.latex_replace_arrowbrackets, escape='latex-math', na_rep='')\n",
    "        .format_index(output.latex_replace_arrowbrackets, escape='latex-math', axis=1)\n",
    "        .format_index(output.latex_replace_arrowbrackets, escape='latex-math', axis=0)\n",
    "        .to_latex(\n",
    "    buf=f\"{TAB_DIR}/bmiTPRandTNRisolatedVenk21.tex\",\n",
    "    hrules=True, label='tab:bmiTPRandTNRisolatedVenk21', environment='table*', column_format=f'll|rrr|rrr', position='h!',\n",
    "    multirow_align='c', multicol_align='c',  position_float='centering', clines='skip-last;data', siunitx=True,\n",
    "    caption=f'Sensitivity and Specificity at specific thresholds (with 95\\% CIs) for the Venkadesh21 model between between high and low BMI patients, isolating for the top {TOP_N_CONFOUNDERS} characteristics with the largest prevalence difference between these groups. Single asterisk (*) = metric of one subgroup is outside the CI of the other. Double asterisks (**) = CIs do not intersect.'))\n",
    "\n",
    "bmi_venk_tpr_tnr"
   ]
  },
  {
   "cell_type": "markdown",
   "metadata": {},
   "source": [
    "### Age"
   ]
  },
  {
   "cell_type": "code",
   "execution_count": null,
   "metadata": {},
   "outputs": [],
   "source": [
    "age_pairwise_comps = None"
   ]
  },
  {
   "cell_type": "code",
   "execution_count": null,
   "metadata": {},
   "outputs": [],
   "source": [
    "age_isolations = pd.read_csv(f'{RESULTS_DIR}/threshold-age-by-factors-nlst-5911.csv', index_col=0)\n",
    "age_pancan_tpr_tnr, age_pairwise_comps = output.threshold_isolation_pairwise(\n",
    "    age_isolations, \"Age > 61\", \"PanCan2b\", \n",
    "    nlst_5911_policies, \n",
    "    topn_confs=age_topn_confounders, \n",
    "    pairwise_comps=age_pairwise_comps)\n",
    "\n",
    "age_pancan_tpr_tnr"
   ]
  },
  {
   "cell_type": "code",
   "execution_count": null,
   "metadata": {},
   "outputs": [],
   "source": [
    "age_isolations = pd.read_csv(f'{RESULTS_DIR}/threshold-age-by-factors-nlst-5911.csv', index_col=0)\n",
    "age_venk_tpr_tnr, age_pairwise_comps = output.threshold_isolation_pairwise(\n",
    "    age_isolations, \"Age > 61\", \"Venkadesh21\", \n",
    "    nlst_5911_policies, \n",
    "    topn_confs=age_topn_confounders, \n",
    "    pairwise_comps=age_pairwise_comps)\n",
    "age_venk_tpr_tnr"
   ]
  },
  {
   "cell_type": "code",
   "execution_count": null,
   "metadata": {},
   "outputs": [],
   "source": [
    "age_isolations = pd.read_csv(f'{RESULTS_DIR}/threshold-age-by-factors-nlst-5911.csv', index_col=0)\n",
    "age_sybil_tpr_tnr, age_pairwise_comps = output.threshold_isolation_pairwise(\n",
    "    age_isolations, \"Age > 61\", \"Sybil (Year 1)\", \n",
    "    nlst_5911_policies, \n",
    "    topn_confs=age_topn_confounders, \n",
    "    pairwise_comps=age_pairwise_comps)\n",
    "age_sybil_tpr_tnr"
   ]
  }
 ],
 "metadata": {
  "kernelspec": {
   "display_name": "Python 3",
   "language": "python",
   "name": "python3"
  },
  "language_info": {
   "codemirror_mode": {
    "name": "ipython",
    "version": 3
   },
   "file_extension": ".py",
   "mimetype": "text/x-python",
   "name": "python",
   "nbconvert_exporter": "python",
   "pygments_lexer": "ipython3",
   "version": "3.11.9"
  }
 },
 "nbformat": 4,
 "nbformat_minor": 2
}
